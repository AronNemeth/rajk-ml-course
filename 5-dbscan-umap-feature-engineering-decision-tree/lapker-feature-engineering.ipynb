{
 "cells": [
  {
   "cell_type": "code",
   "execution_count": 2,
   "id": "1d386cce-5c2c-46e9-9a57-9cd84bd1dcc1",
   "metadata": {
    "execution": {
     "iopub.execute_input": "2022-03-17T14:22:25.307460Z",
     "iopub.status.busy": "2022-03-17T14:22:25.307309Z",
     "iopub.status.idle": "2022-03-17T14:22:26.784484Z",
     "shell.execute_reply": "2022-03-17T14:22:26.783721Z",
     "shell.execute_reply.started": "2022-03-17T14:22:25.307442Z"
    },
    "tags": []
   },
   "outputs": [],
   "source": [
    "import datetime\n",
    "import gc\n",
    "import pickle\n",
    "import random\n",
    "import sys\n",
    "from pathlib import Path\n",
    "\n",
    "import pandas as pd\n",
    "import pandas_profiling as pp\n",
    "import unidecode\n",
    "\n",
    "from sklearn.model_selection import train_test_split\n",
    "\n",
    "pd.set_option(\"max_columns\", 100)\n",
    "pd.set_option(\"max_rows\", 100)"
   ]
  },
  {
   "cell_type": "code",
   "execution_count": 3,
   "id": "77433c42-d5e1-4404-8831-26468840fc99",
   "metadata": {
    "execution": {
     "iopub.execute_input": "2022-03-17T14:22:26.786064Z",
     "iopub.status.busy": "2022-03-17T14:22:26.785652Z",
     "iopub.status.idle": "2022-03-17T14:22:26.789036Z",
     "shell.execute_reply": "2022-03-17T14:22:26.788500Z",
     "shell.execute_reply.started": "2022-03-17T14:22:26.786043Z"
    },
    "tags": []
   },
   "outputs": [],
   "source": [
    "data_folder = Path(\"data\")"
   ]
  },
  {
   "cell_type": "code",
   "execution_count": 4,
   "id": "b17ee00e-fa4e-4bac-a9ca-08d90df8dd8e",
   "metadata": {
    "execution": {
     "iopub.execute_input": "2022-03-17T14:22:26.789993Z",
     "iopub.status.busy": "2022-03-17T14:22:26.789868Z",
     "iopub.status.idle": "2022-03-17T14:22:26.795505Z",
     "shell.execute_reply": "2022-03-17T14:22:26.794971Z",
     "shell.execute_reply.started": "2022-03-17T14:22:26.789977Z"
    },
    "tags": []
   },
   "outputs": [],
   "source": [
    "arus_cols_to_keep = [\n",
    "    \"ARUSKOD\",\n",
    "    \"ARUSMEGYE\",\n",
    "    \"ARUSTI1\",\n",
    "    \"ARUSTI2\",\n",
    "    \"ARUSTI3\",\n",
    "    \"ARUSTI4\",\n",
    "    \"Z_LAPFELE\",\n",
    "    \"ZVEVOCSAT\",\n",
    "    \"CCHANNEL\",\n",
    "    \"CNETWORK\",\n",
    "    \"CNETTYPE\",\n",
    "    \"bevasarlokozpont\",\n",
    "    \"egyiksincsakozelb\",\n",
    "    \"felsooktatasiintezm\",\n",
    "    \"furdo\",\n",
    "    \"hotel\",\n",
    "    \"irodahazhivatal\",\n",
    "    \"korhazrendelo\",\n",
    "    \"kosarlabdapalya\",\n",
    "    \"kozepiskola\",\n",
    "    \"mozi\",\n",
    "    \"muzeum\",\n",
    "    \"muvelodesikozpont\",\n",
    "    \"ovoda\",\n",
    "    \"parkjatszoter\",\n",
    "    \"piac\",\n",
    "    \"posta\",\n",
    "    \"sportcsarnoksportpa\",\n",
    "    \"sportletesitmeny\",\n",
    "    \"stadioncsarnok\",\n",
    "    \"strand\",\n",
    "    \"szinhaz\",\n",
    "    \"temeto\",\n",
    "    \"templom\",\n",
    "    \"teniszpalya\",\n",
    "    \"uszoda\",\n",
    "    \"udulo\",\n",
    "    \"wellnessfitness\",\n",
    "]\n",
    "\n",
    "lapok_cols_to_keep = [\n",
    "    \"LAPISSUGL\",\n",
    "    \"LAPMEDTER\",\n",
    "    \"LAPTERMCS\",\n",
    "    \"LAPMEGJSZ\",\n",
    "    \"LAPKIADO\",\n",
    "    \"LAPARBRUT\",\n",
    "    \"LAPARNET\",\n",
    "    \"LAPCS1\",\n",
    "    \"LAPCS2\",\n",
    "    \"LAPPER1\",\n",
    "    \"LAPPER2\",\n",
    "    \"LAPMELL1\",\n",
    "    \"LAPMELL2\",\n",
    "    \"LAPMELL3\",\n",
    "    \"LAPMELL4\",\n",
    "    \"LAPMELL5\",\n",
    "    \"LAPMELL6\",\n",
    "    \"LAPMELL7\",\n",
    "    \"LAPMELL8\",\n",
    "    \"LAPMELL9\",\n",
    "    \"LAPMELL10\",\n",
    "    \"LAPFORMAT\",\n",
    "]\n",
    "\n",
    "mozgas_cols_to_keep = [\n",
    "    \"LAPISSUGL\",\n",
    "    \"KFDELDATE\",\n",
    "    \"ARUSKOD\",\n",
    "    \"NAPOK_POLCON\",\n",
    "    \"ELOZO_NAPOK_POLCON\",\n",
    "    \"NAPI_ELADOTT_DB\",\n",
    "    \"ELOZO_NAPI_ELADOTT_DB\"\n",
    "]"
   ]
  },
  {
   "cell_type": "code",
   "execution_count": 5,
   "id": "5071b049-69ac-442e-94a7-36a892576210",
   "metadata": {
    "execution": {
     "iopub.execute_input": "2022-03-17T14:22:26.796569Z",
     "iopub.status.busy": "2022-03-17T14:22:26.796205Z",
     "iopub.status.idle": "2022-03-17T14:22:26.818683Z",
     "shell.execute_reply": "2022-03-17T14:22:26.817994Z",
     "shell.execute_reply.started": "2022-03-17T14:22:26.796549Z"
    },
    "tags": []
   },
   "outputs": [],
   "source": [
    "arus = pd.read_csv(data_folder / \"arusok.csv\", usecols=arus_cols_to_keep)\n",
    "lapok = pd.read_csv(data_folder / \"lapok.csv\", usecols=lapok_cols_to_keep)\n",
    "mozgas = pd.read_csv(data_folder / \"mozgas.csv\", usecols=mozgas_cols_to_keep)"
   ]
  },
  {
   "cell_type": "code",
   "execution_count": 6,
   "id": "d0b1d10a-0215-425d-89ec-520805520392",
   "metadata": {
    "execution": {
     "iopub.execute_input": "2022-03-17T14:22:26.819932Z",
     "iopub.status.busy": "2022-03-17T14:22:26.819799Z",
     "iopub.status.idle": "2022-03-17T14:22:26.834611Z",
     "shell.execute_reply": "2022-03-17T14:22:26.834086Z",
     "shell.execute_reply.started": "2022-03-17T14:22:26.819915Z"
    },
    "tags": []
   },
   "outputs": [],
   "source": [
    "data = mozgas.merge(arus, how=\"left\", on=\"ARUSKOD\").merge(\n",
    "    lapok, how=\"left\", on=\"LAPISSUGL\"\n",
    ")"
   ]
  },
  {
   "cell_type": "code",
   "execution_count": 7,
   "id": "7fd06f53-7937-44d4-af2c-e99bd5695897",
   "metadata": {
    "execution": {
     "iopub.execute_input": "2022-03-17T14:22:26.835338Z",
     "iopub.status.busy": "2022-03-17T14:22:26.835214Z",
     "iopub.status.idle": "2022-03-17T14:22:26.955179Z",
     "shell.execute_reply": "2022-03-17T14:22:26.954428Z",
     "shell.execute_reply.started": "2022-03-17T14:22:26.835321Z"
    },
    "tags": []
   },
   "outputs": [],
   "source": [
    "data_train, data_test, target_train, target_test = train_test_split(data.drop('NAPI_ELADOTT_DB', axis=1), data['NAPI_ELADOTT_DB'])\n",
    "\n",
    "data_train.to_csv('homework/data_train.csv', index=False)\n",
    "data_test.to_csv('homework/data_test.csv', index=False)\n",
    "target_train.to_csv('homework/target_train.csv', index=False)\n",
    "#target_test.to_csv('homework/target_test.csv', index=False)"
   ]
  },
  {
   "cell_type": "code",
   "execution_count": null,
   "id": "98521a3a-e74e-4406-bd08-ce98da79d073",
   "metadata": {},
   "outputs": [],
   "source": []
  },
  {
   "cell_type": "code",
   "execution_count": null,
   "id": "6c9599cd-6c28-406e-9287-9d9738b90dc1",
   "metadata": {
    "tags": []
   },
   "outputs": [],
   "source": []
  },
  {
   "cell_type": "code",
   "execution_count": 12,
   "id": "8a66cabf-5989-416c-b88d-4b31158acc25",
   "metadata": {
    "execution": {
     "iopub.execute_input": "2022-03-17T14:28:41.662120Z",
     "iopub.status.busy": "2022-03-17T14:28:41.661873Z",
     "iopub.status.idle": "2022-03-17T14:28:41.672648Z",
     "shell.execute_reply": "2022-03-17T14:28:41.671588Z",
     "shell.execute_reply.started": "2022-03-17T14:28:41.662089Z"
    },
    "tags": []
   },
   "outputs": [],
   "source": [
    "categorical_variables = [\n",
    "    \"ARUSKOD\",\n",
    "    \"LAPISSUGL\",\n",
    "    \"ARUSMEGYE\",\n",
    "    \"ARUSTI1\",\n",
    "    \"ARUSTI2\",\n",
    "    \"ARUSTI3\",\n",
    "    \"ARUSTI4\",\n",
    "    \"ZVEVOCSAT\",\n",
    "    \"CCHANNEL\",\n",
    "    \"CNETWORK\",\n",
    "    \"CNETTYPE\",\n",
    "    \"bevasarlokozpont\",\n",
    "    \"egyiksincsakozelb\",\n",
    "    \"felsooktatasiintezm\",\n",
    "    \"furdo\",\n",
    "    \"hotel\",\n",
    "    \"irodahazhivatal\",\n",
    "    \"korhazrendelo\",\n",
    "    \"kosarlabdapalya\",\n",
    "    \"kozepiskola\",\n",
    "    \"mozi\",\n",
    "    \"muzeum\",\n",
    "    \"muvelodesikozpont\",\n",
    "    \"ovoda\",\n",
    "    \"parkjatszoter\",\n",
    "    \"piac\",\n",
    "    \"posta\",\n",
    "    \"sportcsarnoksportpa\",\n",
    "    \"sportletesitmeny\",\n",
    "    \"stadioncsarnok\",\n",
    "    \"strand\",\n",
    "    \"szinhaz\",\n",
    "    \"temeto\",\n",
    "    \"templom\",\n",
    "    \"teniszpalya\",\n",
    "    \"uszoda\",\n",
    "    \"udulo\",\n",
    "    \"wellnessfitness\",\n",
    "    \"LAPISSUGL\",\n",
    "    \"LAPMEDTER\",\n",
    "    \"LAPTERMCS\",\n",
    "    \"LAPKIADO\",\n",
    "    \"LAPCS1\",\n",
    "    \"LAPCS2\",\n",
    "    \"LAPPER1\",\n",
    "    \"LAPPER2\",\n",
    "    \"LAPMELL1\",\n",
    "    \"LAPMELL2\",\n",
    "    \"LAPMELL3\",\n",
    "    \"LAPMELL4\",\n",
    "    \"LAPMELL5\",\n",
    "    \"LAPMELL6\",\n",
    "    \"LAPMELL7\",\n",
    "    \"LAPMELL8\",\n",
    "    \"LAPMELL9\",\n",
    "    \"LAPMELL10\",\n",
    "    \"LAPFORMAT\",\n",
    "    \"ARUSMEGYE\",\n",
    "    \"CNETTYPE\",\n",
    "]\n",
    "\n",
    "numeric_variables = [\n",
    "    \"Z_LAPFELE\",\n",
    "    \"LAPARBRUT\",\n",
    "    \"LAPARNET\",\n",
    "    \"LAPMEGJSZ\",\n",
    "    \"NAPOK_POLCON\",\n",
    "    \"ELOZO_NAPOK_POLCON\",\n",
    "    \"NAPI_ELADOTT_DB\",\n",
    "    \"ELOZO_NAPI_ELADOTT_DB\",\n",
    "]\n",
    "\n",
    "left_out = set(arus_cols_to_keep + lapok_cols_to_keep + mozgas_cols_to_keep).difference(\n",
    "    set(numeric_variables + categorical_variables)\n",
    ")"
   ]
  },
  {
   "cell_type": "code",
   "execution_count": 13,
   "id": "97d37a2d-a911-4901-a570-0020499de989",
   "metadata": {
    "execution": {
     "iopub.execute_input": "2022-03-17T14:28:42.272392Z",
     "iopub.status.busy": "2022-03-17T14:28:42.272092Z",
     "iopub.status.idle": "2022-03-17T14:28:42.278288Z",
     "shell.execute_reply": "2022-03-17T14:28:42.277522Z",
     "shell.execute_reply.started": "2022-03-17T14:28:42.272352Z"
    },
    "tags": []
   },
   "outputs": [
    {
     "data": {
      "text/plain": [
       "{'KFDELDATE'}"
      ]
     },
     "execution_count": 13,
     "metadata": {},
     "output_type": "execute_result"
    }
   ],
   "source": [
    "left_out"
   ]
  },
  {
   "cell_type": "code",
   "execution_count": 14,
   "id": "8b8f0894-2f62-4bd2-804a-97f71b387f54",
   "metadata": {
    "execution": {
     "iopub.execute_input": "2022-03-17T14:28:42.703465Z",
     "iopub.status.busy": "2022-03-17T14:28:42.702751Z",
     "iopub.status.idle": "2022-03-17T14:28:42.765428Z",
     "shell.execute_reply": "2022-03-17T14:28:42.764642Z",
     "shell.execute_reply.started": "2022-03-17T14:28:42.703421Z"
    },
    "tags": []
   },
   "outputs": [],
   "source": [
    "data_pp = data_train.join(target_train)\n",
    "\n",
    "for col in numeric_variables:\n",
    "    data_pp[col] = pd.to_numeric(data_pp[col])\n",
    "    \n",
    "for col in categorical_variables:\n",
    "    data_pp[col] = data_pp[col].astype(\"object\")"
   ]
  },
  {
   "cell_type": "code",
   "execution_count": 15,
   "id": "0b7ac21b-dc14-4669-bbe3-07c764194a59",
   "metadata": {
    "execution": {
     "iopub.execute_input": "2022-03-17T14:28:44.477069Z",
     "iopub.status.busy": "2022-03-17T14:28:44.476825Z",
     "iopub.status.idle": "2022-03-17T14:28:44.486696Z",
     "shell.execute_reply": "2022-03-17T14:28:44.485697Z",
     "shell.execute_reply.started": "2022-03-17T14:28:44.477037Z"
    },
    "tags": []
   },
   "outputs": [],
   "source": [
    "report = pp.ProfileReport(data, infer_dtypes=False)"
   ]
  },
  {
   "cell_type": "code",
   "execution_count": 16,
   "id": "77b3a8e8-4c11-40d3-8e36-6ef5cb619f29",
   "metadata": {
    "execution": {
     "iopub.execute_input": "2022-03-17T14:28:44.708873Z",
     "iopub.status.busy": "2022-03-17T14:28:44.708566Z",
     "iopub.status.idle": "2022-03-17T14:34:19.062737Z",
     "shell.execute_reply": "2022-03-17T14:34:19.062272Z",
     "shell.execute_reply.started": "2022-03-17T14:28:44.708831Z"
    },
    "tags": []
   },
   "outputs": [
    {
     "data": {
      "application/vnd.jupyter.widget-view+json": {
       "model_id": "a33388263e494346b0f1d6da6379ccf2",
       "version_major": 2,
       "version_minor": 0
      },
      "text/plain": [
       "Summarize dataset:   0%|          | 0/5 [00:00<?, ?it/s]"
      ]
     },
     "metadata": {},
     "output_type": "display_data"
    },
    {
     "data": {
      "application/vnd.jupyter.widget-view+json": {
       "model_id": "1f034f4b15cd4ac1a7eb943f4d88aa58",
       "version_major": 2,
       "version_minor": 0
      },
      "text/plain": [
       "Generate report structure:   0%|          | 0/1 [00:00<?, ?it/s]"
      ]
     },
     "metadata": {},
     "output_type": "display_data"
    },
    {
     "data": {
      "application/vnd.jupyter.widget-view+json": {
       "model_id": "68c6b3434c39488299b7a67f80ae382e",
       "version_major": 2,
       "version_minor": 0
      },
      "text/plain": [
       "Render HTML:   0%|          | 0/1 [00:00<?, ?it/s]"
      ]
     },
     "metadata": {},
     "output_type": "display_data"
    },
    {
     "data": {
      "application/vnd.jupyter.widget-view+json": {
       "model_id": "99741ac26bd84a4bad0a65154073a2ae",
       "version_major": 2,
       "version_minor": 0
      },
      "text/plain": [
       "Export report to file:   0%|          | 0/1 [00:00<?, ?it/s]"
      ]
     },
     "metadata": {},
     "output_type": "display_data"
    }
   ],
   "source": [
    "report.to_file('output/pp_report.html')"
   ]
  },
  {
   "cell_type": "code",
   "execution_count": null,
   "id": "16124dcc-76a8-4ddf-a2b5-6b45dd9462e3",
   "metadata": {},
   "outputs": [],
   "source": []
  }
 ],
 "metadata": {
  "kernelspec": {
   "display_name": "🌍 Base Python 3.7 Environment",
   "language": "python",
   "name": "python3"
  },
  "language_info": {
   "codemirror_mode": {
    "name": "ipython",
    "version": 3
   },
   "file_extension": ".py",
   "mimetype": "text/x-python",
   "name": "python",
   "nbconvert_exporter": "python",
   "pygments_lexer": "ipython3",
   "version": "3.7.10"
  },
  "widgets": {
   "application/vnd.jupyter.widget-state+json": {
    "state": {
     "04ca8efdf1de4de7b9cce7a63b013558": {
      "model_module": "@jupyter-widgets/base",
      "model_module_version": "1.2.0",
      "model_name": "LayoutModel",
      "state": {}
     },
     "07c2bcc810ba4d03b2671377512befcc": {
      "model_module": "@jupyter-widgets/base",
      "model_module_version": "1.2.0",
      "model_name": "LayoutModel",
      "state": {}
     },
     "0c580d1902be4bae931d675a34571630": {
      "model_module": "@jupyter-widgets/controls",
      "model_module_version": "1.5.0",
      "model_name": "DescriptionStyleModel",
      "state": {
       "description_width": ""
      }
     },
     "1e736e1039af43d28cb169111119927f": {
      "model_module": "@jupyter-widgets/controls",
      "model_module_version": "1.5.0",
      "model_name": "DescriptionStyleModel",
      "state": {
       "description_width": ""
      }
     },
     "1f034f4b15cd4ac1a7eb943f4d88aa58": {
      "model_module": "@jupyter-widgets/controls",
      "model_module_version": "1.5.0",
      "model_name": "HBoxModel",
      "state": {
       "children": [
        "IPY_MODEL_860327aea4e44bc2a3dd56d885f7d80b",
        "IPY_MODEL_ba0d72e3d57149e89056055006bcc593",
        "IPY_MODEL_35743b23de49438f9a82a86081f08576"
       ],
       "layout": "IPY_MODEL_6708b33d76524a6983912e8462780ca7"
      }
     },
     "341304aa78294457aa4ee3456852dad4": {
      "model_module": "@jupyter-widgets/controls",
      "model_module_version": "1.5.0",
      "model_name": "HTMLModel",
      "state": {
       "layout": "IPY_MODEL_aa7afd905402495e8f805e7833bb5770",
       "style": "IPY_MODEL_6aa06438600b4b34a190b5fe71a57f37",
       "value": "Render HTML: 100%"
      }
     },
     "35743b23de49438f9a82a86081f08576": {
      "model_module": "@jupyter-widgets/controls",
      "model_module_version": "1.5.0",
      "model_name": "HTMLModel",
      "state": {
       "layout": "IPY_MODEL_3e5295dc8296456f93c6ab3562b35bd0",
       "style": "IPY_MODEL_1e736e1039af43d28cb169111119927f",
       "value": " 1/1 [00:11&lt;00:00, 11.45s/it]"
      }
     },
     "3e5295dc8296456f93c6ab3562b35bd0": {
      "model_module": "@jupyter-widgets/base",
      "model_module_version": "1.2.0",
      "model_name": "LayoutModel",
      "state": {}
     },
     "4427d82d965540499449cc932ef63e2c": {
      "model_module": "@jupyter-widgets/base",
      "model_module_version": "1.2.0",
      "model_name": "LayoutModel",
      "state": {}
     },
     "454affd0da3141ef8ed0ba01b8da2f29": {
      "model_module": "@jupyter-widgets/controls",
      "model_module_version": "1.5.0",
      "model_name": "ProgressStyleModel",
      "state": {
       "description_width": ""
      }
     },
     "514369f13a734e07acb42e1e2612acc0": {
      "model_module": "@jupyter-widgets/controls",
      "model_module_version": "1.5.0",
      "model_name": "FloatProgressModel",
      "state": {
       "bar_style": "success",
       "layout": "IPY_MODEL_643d711a7939431d9fbe034e3bb60287",
       "max": 1,
       "style": "IPY_MODEL_b1f0dcc4ed724f51ac31c010b1e47652",
       "value": 1
      }
     },
     "5252e6fea97c4d6a9259e6cf1f35da35": {
      "model_module": "@jupyter-widgets/base",
      "model_module_version": "1.2.0",
      "model_name": "LayoutModel",
      "state": {}
     },
     "5ca8f76022f54920923ec7defae96a32": {
      "model_module": "@jupyter-widgets/base",
      "model_module_version": "1.2.0",
      "model_name": "LayoutModel",
      "state": {}
     },
     "643d711a7939431d9fbe034e3bb60287": {
      "model_module": "@jupyter-widgets/base",
      "model_module_version": "1.2.0",
      "model_name": "LayoutModel",
      "state": {}
     },
     "6708b33d76524a6983912e8462780ca7": {
      "model_module": "@jupyter-widgets/base",
      "model_module_version": "1.2.0",
      "model_name": "LayoutModel",
      "state": {}
     },
     "68c6b3434c39488299b7a67f80ae382e": {
      "model_module": "@jupyter-widgets/controls",
      "model_module_version": "1.5.0",
      "model_name": "HBoxModel",
      "state": {
       "children": [
        "IPY_MODEL_341304aa78294457aa4ee3456852dad4",
        "IPY_MODEL_514369f13a734e07acb42e1e2612acc0",
        "IPY_MODEL_6f06a6b02f254df0a0fb6b2bfcb6a43c"
       ],
       "layout": "IPY_MODEL_5252e6fea97c4d6a9259e6cf1f35da35"
      }
     },
     "6aa06438600b4b34a190b5fe71a57f37": {
      "model_module": "@jupyter-widgets/controls",
      "model_module_version": "1.5.0",
      "model_name": "DescriptionStyleModel",
      "state": {
       "description_width": ""
      }
     },
     "6d5d33550a2340458c41fbd462385c68": {
      "model_module": "@jupyter-widgets/controls",
      "model_module_version": "1.5.0",
      "model_name": "HTMLModel",
      "state": {
       "layout": "IPY_MODEL_c6cb4f1416124332b4411496eb88be3f",
       "style": "IPY_MODEL_d5910ca01e7b40d29ed4be85a0ff290b",
       "value": "Summarize dataset: 100%"
      }
     },
     "6f06a6b02f254df0a0fb6b2bfcb6a43c": {
      "model_module": "@jupyter-widgets/controls",
      "model_module_version": "1.5.0",
      "model_name": "HTMLModel",
      "state": {
       "layout": "IPY_MODEL_4427d82d965540499449cc932ef63e2c",
       "style": "IPY_MODEL_b75f1d49386e48a2bd0765edadf686d0",
       "value": " 1/1 [01:04&lt;00:00, 64.44s/it]"
      }
     },
     "7153f7a96db2463bb5226718e37aac70": {
      "model_module": "@jupyter-widgets/base",
      "model_module_version": "1.2.0",
      "model_name": "LayoutModel",
      "state": {}
     },
     "860327aea4e44bc2a3dd56d885f7d80b": {
      "model_module": "@jupyter-widgets/controls",
      "model_module_version": "1.5.0",
      "model_name": "HTMLModel",
      "state": {
       "layout": "IPY_MODEL_fd5c5ce7668242ef88322375959d2989",
       "style": "IPY_MODEL_92cab44cf8eb4768b7399f4762812e58",
       "value": "Generate report structure: 100%"
      }
     },
     "87a7bfffedd14f578e3910b24dfb8686": {
      "model_module": "@jupyter-widgets/controls",
      "model_module_version": "1.5.0",
      "model_name": "DescriptionStyleModel",
      "state": {
       "description_width": ""
      }
     },
     "92cab44cf8eb4768b7399f4762812e58": {
      "model_module": "@jupyter-widgets/controls",
      "model_module_version": "1.5.0",
      "model_name": "DescriptionStyleModel",
      "state": {
       "description_width": ""
      }
     },
     "99741ac26bd84a4bad0a65154073a2ae": {
      "model_module": "@jupyter-widgets/controls",
      "model_module_version": "1.5.0",
      "model_name": "HBoxModel",
      "state": {
       "children": [
        "IPY_MODEL_b648588934b549a9a746758bfa64a149",
        "IPY_MODEL_c5307b8bb6f54a6fb8f68b3bb372a2ef",
        "IPY_MODEL_d35e1e478e624e7681973dba493fdfa8"
       ],
       "layout": "IPY_MODEL_d7e8adfd384545f28940480013da8636"
      }
     },
     "9a2672927467429e8d74a984bd21afae": {
      "model_module": "@jupyter-widgets/controls",
      "model_module_version": "1.5.0",
      "model_name": "ProgressStyleModel",
      "state": {
       "description_width": ""
      }
     },
     "a33388263e494346b0f1d6da6379ccf2": {
      "model_module": "@jupyter-widgets/controls",
      "model_module_version": "1.5.0",
      "model_name": "HBoxModel",
      "state": {
       "children": [
        "IPY_MODEL_6d5d33550a2340458c41fbd462385c68",
        "IPY_MODEL_c56848c770084014b4bd19343c9cb8e5",
        "IPY_MODEL_db0abab345d14aa880ed829ef5631da6"
       ],
       "layout": "IPY_MODEL_04ca8efdf1de4de7b9cce7a63b013558"
      }
     },
     "aa7afd905402495e8f805e7833bb5770": {
      "model_module": "@jupyter-widgets/base",
      "model_module_version": "1.2.0",
      "model_name": "LayoutModel",
      "state": {}
     },
     "b1f0dcc4ed724f51ac31c010b1e47652": {
      "model_module": "@jupyter-widgets/controls",
      "model_module_version": "1.5.0",
      "model_name": "ProgressStyleModel",
      "state": {
       "description_width": ""
      }
     },
     "b648588934b549a9a746758bfa64a149": {
      "model_module": "@jupyter-widgets/controls",
      "model_module_version": "1.5.0",
      "model_name": "HTMLModel",
      "state": {
       "layout": "IPY_MODEL_c091c6a1a0c140f8834487986d11fee8",
       "style": "IPY_MODEL_0c580d1902be4bae931d675a34571630",
       "value": "Export report to file: 100%"
      }
     },
     "b75f1d49386e48a2bd0765edadf686d0": {
      "model_module": "@jupyter-widgets/controls",
      "model_module_version": "1.5.0",
      "model_name": "DescriptionStyleModel",
      "state": {
       "description_width": ""
      }
     },
     "ba0d72e3d57149e89056055006bcc593": {
      "model_module": "@jupyter-widgets/controls",
      "model_module_version": "1.5.0",
      "model_name": "FloatProgressModel",
      "state": {
       "bar_style": "success",
       "layout": "IPY_MODEL_c317832315cd42c6b9bb1a633012f10b",
       "max": 1,
       "style": "IPY_MODEL_eef4f8cc93ef498d89abbad3381a4973",
       "value": 1
      }
     },
     "bd79a08d0a5d4b38b6248d54d9d55165": {
      "model_module": "@jupyter-widgets/controls",
      "model_module_version": "1.5.0",
      "model_name": "DescriptionStyleModel",
      "state": {
       "description_width": ""
      }
     },
     "c091c6a1a0c140f8834487986d11fee8": {
      "model_module": "@jupyter-widgets/base",
      "model_module_version": "1.2.0",
      "model_name": "LayoutModel",
      "state": {}
     },
     "c317832315cd42c6b9bb1a633012f10b": {
      "model_module": "@jupyter-widgets/base",
      "model_module_version": "1.2.0",
      "model_name": "LayoutModel",
      "state": {}
     },
     "c5307b8bb6f54a6fb8f68b3bb372a2ef": {
      "model_module": "@jupyter-widgets/controls",
      "model_module_version": "1.5.0",
      "model_name": "FloatProgressModel",
      "state": {
       "bar_style": "success",
       "layout": "IPY_MODEL_d3c99d42f80a47d6a4a00b5ddf6325d0",
       "max": 1,
       "style": "IPY_MODEL_9a2672927467429e8d74a984bd21afae",
       "value": 1
      }
     },
     "c56848c770084014b4bd19343c9cb8e5": {
      "model_module": "@jupyter-widgets/controls",
      "model_module_version": "1.5.0",
      "model_name": "FloatProgressModel",
      "state": {
       "bar_style": "success",
       "layout": "IPY_MODEL_07c2bcc810ba4d03b2671377512befcc",
       "max": 5,
       "style": "IPY_MODEL_454affd0da3141ef8ed0ba01b8da2f29",
       "value": 5
      }
     },
     "c6cb4f1416124332b4411496eb88be3f": {
      "model_module": "@jupyter-widgets/base",
      "model_module_version": "1.2.0",
      "model_name": "LayoutModel",
      "state": {}
     },
     "d35e1e478e624e7681973dba493fdfa8": {
      "model_module": "@jupyter-widgets/controls",
      "model_module_version": "1.5.0",
      "model_name": "HTMLModel",
      "state": {
       "layout": "IPY_MODEL_5ca8f76022f54920923ec7defae96a32",
       "style": "IPY_MODEL_87a7bfffedd14f578e3910b24dfb8686",
       "value": " 1/1 [00:00&lt;00:00,  4.75it/s]"
      }
     },
     "d3c99d42f80a47d6a4a00b5ddf6325d0": {
      "model_module": "@jupyter-widgets/base",
      "model_module_version": "1.2.0",
      "model_name": "LayoutModel",
      "state": {}
     },
     "d5910ca01e7b40d29ed4be85a0ff290b": {
      "model_module": "@jupyter-widgets/controls",
      "model_module_version": "1.5.0",
      "model_name": "DescriptionStyleModel",
      "state": {
       "description_width": ""
      }
     },
     "d7e8adfd384545f28940480013da8636": {
      "model_module": "@jupyter-widgets/base",
      "model_module_version": "1.2.0",
      "model_name": "LayoutModel",
      "state": {}
     },
     "db0abab345d14aa880ed829ef5631da6": {
      "model_module": "@jupyter-widgets/controls",
      "model_module_version": "1.5.0",
      "model_name": "HTMLModel",
      "state": {
       "layout": "IPY_MODEL_7153f7a96db2463bb5226718e37aac70",
       "style": "IPY_MODEL_bd79a08d0a5d4b38b6248d54d9d55165",
       "value": " 2580/2580 [04:18&lt;00:00,  2.92it/s, Completed]"
      }
     },
     "eef4f8cc93ef498d89abbad3381a4973": {
      "model_module": "@jupyter-widgets/controls",
      "model_module_version": "1.5.0",
      "model_name": "ProgressStyleModel",
      "state": {
       "description_width": ""
      }
     },
     "fd5c5ce7668242ef88322375959d2989": {
      "model_module": "@jupyter-widgets/base",
      "model_module_version": "1.2.0",
      "model_name": "LayoutModel",
      "state": {}
     }
    },
    "version_major": 2,
    "version_minor": 0
   }
  }
 },
 "nbformat": 4,
 "nbformat_minor": 5
}
