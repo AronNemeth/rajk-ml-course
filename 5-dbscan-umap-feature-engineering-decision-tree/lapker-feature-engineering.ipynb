{
 "cells": [
  {
   "cell_type": "code",
   "execution_count": 2,
   "id": "1d386cce-5c2c-46e9-9a57-9cd84bd1dcc1",
   "metadata": {
    "execution": {
     "iopub.execute_input": "2022-03-17T14:22:25.307460Z",
     "iopub.status.busy": "2022-03-17T14:22:25.307309Z",
     "iopub.status.idle": "2022-03-17T14:22:26.784484Z",
     "shell.execute_reply": "2022-03-17T14:22:26.783721Z",
     "shell.execute_reply.started": "2022-03-17T14:22:25.307442Z"
    },
    "tags": []
   },
   "outputs": [],
   "source": [
    "import datetime\n",
    "import gc\n",
    "import pickle\n",
    "import random\n",
    "import sys\n",
    "from pathlib import Path\n",
    "\n",
    "import pandas as pd\n",
    "import pandas_profiling as pp\n",
    "import unidecode\n",
    "\n",
    "from sklearn.model_selection import train_test_split\n",
    "\n",
    "pd.set_option(\"max_columns\", 100)\n",
    "pd.set_option(\"max_rows\", 100)"
   ]
  },
  {
   "cell_type": "code",
   "execution_count": 3,
   "id": "77433c42-d5e1-4404-8831-26468840fc99",
   "metadata": {
    "execution": {
     "iopub.execute_input": "2022-03-17T14:22:26.786064Z",
     "iopub.status.busy": "2022-03-17T14:22:26.785652Z",
     "iopub.status.idle": "2022-03-17T14:22:26.789036Z",
     "shell.execute_reply": "2022-03-17T14:22:26.788500Z",
     "shell.execute_reply.started": "2022-03-17T14:22:26.786043Z"
    },
    "tags": []
   },
   "outputs": [],
   "source": [
    "data_folder = Path(\"data\")"
   ]
  },
  {
   "cell_type": "code",
   "execution_count": 4,
   "id": "b17ee00e-fa4e-4bac-a9ca-08d90df8dd8e",
   "metadata": {
    "execution": {
     "iopub.execute_input": "2022-03-17T14:22:26.789993Z",
     "iopub.status.busy": "2022-03-17T14:22:26.789868Z",
     "iopub.status.idle": "2022-03-17T14:22:26.795505Z",
     "shell.execute_reply": "2022-03-17T14:22:26.794971Z",
     "shell.execute_reply.started": "2022-03-17T14:22:26.789977Z"
    },
    "tags": []
   },
   "outputs": [],
   "source": [
    "arus_cols_to_keep = [\n",
    "    \"ARUSKOD\",\n",
    "    \"ARUSMEGYE\",\n",
    "    \"ARUSTI1\",\n",
    "    \"ARUSTI2\",\n",
    "    \"ARUSTI3\",\n",
    "    \"ARUSTI4\",\n",
    "    \"Z_LAPFELE\",\n",
    "    \"ZVEVOCSAT\",\n",
    "    \"CCHANNEL\",\n",
    "    \"CNETWORK\",\n",
    "    \"CNETTYPE\",\n",
    "    \"bevasarlokozpont\",\n",
    "    \"egyiksincsakozelb\",\n",
    "    \"felsooktatasiintezm\",\n",
    "    \"furdo\",\n",
    "    \"hotel\",\n",
    "    \"irodahazhivatal\",\n",
    "    \"korhazrendelo\",\n",
    "    \"kosarlabdapalya\",\n",
    "    \"kozepiskola\",\n",
    "    \"mozi\",\n",
    "    \"muzeum\",\n",
    "    \"muvelodesikozpont\",\n",
    "    \"ovoda\",\n",
    "    \"parkjatszoter\",\n",
    "    \"piac\",\n",
    "    \"posta\",\n",
    "    \"sportcsarnoksportpa\",\n",
    "    \"sportletesitmeny\",\n",
    "    \"stadioncsarnok\",\n",
    "    \"strand\",\n",
    "    \"szinhaz\",\n",
    "    \"temeto\",\n",
    "    \"templom\",\n",
    "    \"teniszpalya\",\n",
    "    \"uszoda\",\n",
    "    \"udulo\",\n",
    "    \"wellnessfitness\",\n",
    "]\n",
    "\n",
    "lapok_cols_to_keep = [\n",
    "    \"LAPISSUGL\",\n",
    "    \"LAPMEDTER\",\n",
    "    \"LAPTERMCS\",\n",
    "    \"LAPMEGJSZ\",\n",
    "    \"LAPKIADO\",\n",
    "    \"LAPARBRUT\",\n",
    "    \"LAPARNET\",\n",
    "    \"LAPCS1\",\n",
    "    \"LAPCS2\",\n",
    "    \"LAPPER1\",\n",
    "    \"LAPPER2\",\n",
    "    \"LAPMELL1\",\n",
    "    \"LAPMELL2\",\n",
    "    \"LAPMELL3\",\n",
    "    \"LAPMELL4\",\n",
    "    \"LAPMELL5\",\n",
    "    \"LAPMELL6\",\n",
    "    \"LAPMELL7\",\n",
    "    \"LAPMELL8\",\n",
    "    \"LAPMELL9\",\n",
    "    \"LAPMELL10\",\n",
    "    \"LAPFORMAT\",\n",
    "]\n",
    "\n",
    "mozgas_cols_to_keep = [\n",
    "    \"LAPISSUGL\",\n",
    "    \"KFDELDATE\",\n",
    "    \"ARUSKOD\",\n",
    "    \"NAPOK_POLCON\",\n",
    "    \"ELOZO_NAPOK_POLCON\",\n",
    "    \"NAPI_ELADOTT_DB\",\n",
    "    \"ELOZO_NAPI_ELADOTT_DB\"\n",
    "]"
   ]
  },
  {
   "cell_type": "code",
   "execution_count": 5,
   "id": "5071b049-69ac-442e-94a7-36a892576210",
   "metadata": {
    "execution": {
     "iopub.execute_input": "2022-03-17T14:22:26.796569Z",
     "iopub.status.busy": "2022-03-17T14:22:26.796205Z",
     "iopub.status.idle": "2022-03-17T14:22:26.818683Z",
     "shell.execute_reply": "2022-03-17T14:22:26.817994Z",
     "shell.execute_reply.started": "2022-03-17T14:22:26.796549Z"
    },
    "tags": []
   },
   "outputs": [],
   "source": [
    "arus = pd.read_csv(data_folder / \"arusok.csv\", usecols=arus_cols_to_keep)\n",
    "lapok = pd.read_csv(data_folder / \"lapok.csv\", usecols=lapok_cols_to_keep)\n",
    "mozgas = pd.read_csv(data_folder / \"mozgas.csv\", usecols=mozgas_cols_to_keep)"
   ]
  },
  {
   "cell_type": "code",
   "execution_count": 6,
   "id": "d0b1d10a-0215-425d-89ec-520805520392",
   "metadata": {
    "execution": {
     "iopub.execute_input": "2022-03-17T14:22:26.819932Z",
     "iopub.status.busy": "2022-03-17T14:22:26.819799Z",
     "iopub.status.idle": "2022-03-17T14:22:26.834611Z",
     "shell.execute_reply": "2022-03-17T14:22:26.834086Z",
     "shell.execute_reply.started": "2022-03-17T14:22:26.819915Z"
    },
    "tags": []
   },
   "outputs": [],
   "source": [
    "data = mozgas.merge(arus, how=\"left\", on=\"ARUSKOD\").merge(\n",
    "    lapok, how=\"left\", on=\"LAPISSUGL\"\n",
    ")"
   ]
  },
  {
   "cell_type": "code",
   "execution_count": 7,
   "id": "7fd06f53-7937-44d4-af2c-e99bd5695897",
   "metadata": {
    "execution": {
     "iopub.execute_input": "2022-03-17T14:22:26.835338Z",
     "iopub.status.busy": "2022-03-17T14:22:26.835214Z",
     "iopub.status.idle": "2022-03-17T14:22:26.955179Z",
     "shell.execute_reply": "2022-03-17T14:22:26.954428Z",
     "shell.execute_reply.started": "2022-03-17T14:22:26.835321Z"
    },
    "tags": []
   },
   "outputs": [],
   "source": [
    "data_train, data_test, target_train, target_test = train_test_split(data.drop('NAPI_ELADOTT_DB', axis=1), data['NAPI_ELADOTT_DB'])\n",
    "\n",
    "data_train.to_csv('homework/data_train.csv', index=False)\n",
    "data_test.to_csv('homework/data_test.csv', index=False)\n",
    "target_train.to_csv('homework/target_train.csv', index=False)\n",
    "#target_test.to_csv('homework/target_test.csv', index=False)"
   ]
  },
  {
   "cell_type": "code",
   "execution_count": null,
   "id": "98521a3a-e74e-4406-bd08-ce98da79d073",
   "metadata": {},
   "outputs": [],
   "source": []
  },
  {
   "cell_type": "code",
   "execution_count": null,
   "id": "6c9599cd-6c28-406e-9287-9d9738b90dc1",
   "metadata": {
    "tags": []
   },
   "outputs": [],
   "source": []
  },
  {
   "cell_type": "code",
   "execution_count": 12,
   "id": "8a66cabf-5989-416c-b88d-4b31158acc25",
   "metadata": {
    "execution": {
     "iopub.execute_input": "2022-03-17T14:28:41.662120Z",
     "iopub.status.busy": "2022-03-17T14:28:41.661873Z",
     "iopub.status.idle": "2022-03-17T14:28:41.672648Z",
     "shell.execute_reply": "2022-03-17T14:28:41.671588Z",
     "shell.execute_reply.started": "2022-03-17T14:28:41.662089Z"
    },
    "tags": []
   },
   "outputs": [],
   "source": [
    "categorical_variables = [\n",
    "    \"ARUSKOD\",\n",
    "    \"LAPISSUGL\",\n",
    "    \"ARUSMEGYE\",\n",
    "    \"ARUSTI1\",\n",
    "    \"ARUSTI2\",\n",
    "    \"ARUSTI3\",\n",
    "    \"ARUSTI4\",\n",
    "    \"ZVEVOCSAT\",\n",
    "    \"CCHANNEL\",\n",
    "    \"CNETWORK\",\n",
    "    \"CNETTYPE\",\n",
    "    \"bevasarlokozpont\",\n",
    "    \"egyiksincsakozelb\",\n",
    "    \"felsooktatasiintezm\",\n",
    "    \"furdo\",\n",
    "    \"hotel\",\n",
    "    \"irodahazhivatal\",\n",
    "    \"korhazrendelo\",\n",
    "    \"kosarlabdapalya\",\n",
    "    \"kozepiskola\",\n",
    "    \"mozi\",\n",
    "    \"muzeum\",\n",
    "    \"muvelodesikozpont\",\n",
    "    \"ovoda\",\n",
    "    \"parkjatszoter\",\n",
    "    \"piac\",\n",
    "    \"posta\",\n",
    "    \"sportcsarnoksportpa\",\n",
    "    \"sportletesitmeny\",\n",
    "    \"stadioncsarnok\",\n",
    "    \"strand\",\n",
    "    \"szinhaz\",\n",
    "    \"temeto\",\n",
    "    \"templom\",\n",
    "    \"teniszpalya\",\n",
    "    \"uszoda\",\n",
    "    \"udulo\",\n",
    "    \"wellnessfitness\",\n",
    "    \"LAPISSUGL\",\n",
    "    \"LAPMEDTER\",\n",
    "    \"LAPTERMCS\",\n",
    "    \"LAPKIADO\",\n",
    "    \"LAPCS1\",\n",
    "    \"LAPCS2\",\n",
    "    \"LAPPER1\",\n",
    "    \"LAPPER2\",\n",
    "    \"LAPMELL1\",\n",
    "    \"LAPMELL2\",\n",
    "    \"LAPMELL3\",\n",
    "    \"LAPMELL4\",\n",
    "    \"LAPMELL5\",\n",
    "    \"LAPMELL6\",\n",
    "    \"LAPMELL7\",\n",
    "    \"LAPMELL8\",\n",
    "    \"LAPMELL9\",\n",
    "    \"LAPMELL10\",\n",
    "    \"LAPFORMAT\",\n",
    "    \"ARUSMEGYE\",\n",
    "    \"CNETTYPE\",\n",
    "]\n",
    "\n",
    "numeric_variables = [\n",
    "    \"Z_LAPFELE\",\n",
    "    \"LAPARBRUT\",\n",
    "    \"LAPARNET\",\n",
    "    \"LAPMEGJSZ\",\n",
    "    \"NAPOK_POLCON\",\n",
    "    \"ELOZO_NAPOK_POLCON\",\n",
    "    \"NAPI_ELADOTT_DB\",\n",
    "    \"ELOZO_NAPI_ELADOTT_DB\",\n",
    "]\n",
    "\n",
    "left_out = set(arus_cols_to_keep + lapok_cols_to_keep + mozgas_cols_to_keep).difference(\n",
    "    set(numeric_variables + categorical_variables)\n",
    ")"
   ]
  },
  {
   "cell_type": "code",
   "execution_count": 13,
   "id": "97d37a2d-a911-4901-a570-0020499de989",
   "metadata": {
    "execution": {
     "iopub.execute_input": "2022-03-17T14:28:42.272392Z",
     "iopub.status.busy": "2022-03-17T14:28:42.272092Z",
     "iopub.status.idle": "2022-03-17T14:28:42.278288Z",
     "shell.execute_reply": "2022-03-17T14:28:42.277522Z",
     "shell.execute_reply.started": "2022-03-17T14:28:42.272352Z"
    },
    "tags": []
   },
   "outputs": [
    {
     "data": {
      "text/plain": [
       "{'KFDELDATE'}"
      ]
     },
     "execution_count": 13,
     "metadata": {},
     "output_type": "execute_result"
    }
   ],
   "source": [
    "left_out"
   ]
  },
  {
   "cell_type": "code",
   "execution_count": 14,
   "id": "8b8f0894-2f62-4bd2-804a-97f71b387f54",
   "metadata": {
    "execution": {
     "iopub.execute_input": "2022-03-17T14:28:42.703465Z",
     "iopub.status.busy": "2022-03-17T14:28:42.702751Z",
     "iopub.status.idle": "2022-03-17T14:28:42.765428Z",
     "shell.execute_reply": "2022-03-17T14:28:42.764642Z",
     "shell.execute_reply.started": "2022-03-17T14:28:42.703421Z"
    },
    "tags": []
   },
   "outputs": [],
   "source": [
    "data_pp = data_train.join(target_train)\n",
    "\n",
    "for col in numeric_variables:\n",
    "    data_pp[col] = pd.to_numeric(data_pp[col])\n",
    "    \n",
    "for col in categorical_variables:\n",
    "    data_pp[col] = data_pp[col].astype(\"object\")"
   ]
  },
  {
   "cell_type": "code",
   "execution_count": 15,
   "id": "0b7ac21b-dc14-4669-bbe3-07c764194a59",
   "metadata": {
    "execution": {
     "iopub.execute_input": "2022-03-17T14:28:44.477069Z",
     "iopub.status.busy": "2022-03-17T14:28:44.476825Z",
     "iopub.status.idle": "2022-03-17T14:28:44.486696Z",
     "shell.execute_reply": "2022-03-17T14:28:44.485697Z",
     "shell.execute_reply.started": "2022-03-17T14:28:44.477037Z"
    },
    "tags": []
   },
   "outputs": [],
   "source": [
    "report = pp.ProfileReport(data, infer_dtypes=False)"
   ]
  },
  {
   "cell_type": "code",
   "execution_count": 16,
   "id": "77b3a8e8-4c11-40d3-8e36-6ef5cb619f29",
   "metadata": {
    "execution": {
     "iopub.execute_input": "2022-03-17T14:28:44.708873Z",
     "iopub.status.busy": "2022-03-17T14:28:44.708566Z",
     "iopub.status.idle": "2022-03-17T14:34:19.062737Z",
     "shell.execute_reply": "2022-03-17T14:34:19.062272Z",
     "shell.execute_reply.started": "2022-03-17T14:28:44.708831Z"
    },
    "tags": []
   },
   "outputs": [
    {
     "data": {
      "application/vnd.jupyter.widget-view+json": {
       "model_id": "a33388263e494346b0f1d6da6379ccf2",
       "version_major": 2,
       "version_minor": 0
      },
      "text/plain": [
       "Summarize dataset:   0%|          | 0/5 [00:00<?, ?it/s]"
      ]
     },
     "metadata": {},
     "output_type": "display_data"
    },
    {
     "data": {
      "application/vnd.jupyter.widget-view+json": {
       "model_id": "1f034f4b15cd4ac1a7eb943f4d88aa58",
       "version_major": 2,
       "version_minor": 0
      },
      "text/plain": [
       "Generate report structure:   0%|          | 0/1 [00:00<?, ?it/s]"
      ]
     },
     "metadata": {},
     "output_type": "display_data"
    },
    {
     "data": {
      "application/vnd.jupyter.widget-view+json": {
       "model_id": "68c6b3434c39488299b7a67f80ae382e",
       "version_major": 2,
       "version_minor": 0
      },
      "text/plain": [
       "Render HTML:   0%|          | 0/1 [00:00<?, ?it/s]"
      ]
     },
     "metadata": {},
     "output_type": "display_data"
    },
    {
     "data": {
      "application/vnd.jupyter.widget-view+json": {
       "model_id": "99741ac26bd84a4bad0a65154073a2ae",
       "version_major": 2,
       "version_minor": 0
      },
      "text/plain": [
       "Export report to file:   0%|          | 0/1 [00:00<?, ?it/s]"
      ]
     },
     "metadata": {},
     "output_type": "display_data"
    }
   ],
   "source": [
    "report.to_file('output/pp_report.html')"
   ]
  },
  {
   "cell_type": "code",
   "execution_count": null,
   "id": "16124dcc-76a8-4ddf-a2b5-6b45dd9462e3",
   "metadata": {},
   "outputs": [],
   "source": []
  }
 ],
 "metadata": {
  "kernelspec": {
   "display_name": "🌍 Base Python 3.7 Environment",
   "language": "python",
   "name": "python3"
  },
  "language_info": {
   "codemirror_mode": {
    "name": "ipython",
    "version": 3
   },
   "file_extension": ".py",
   "mimetype": "text/x-python",
   "name": "python",
   "nbconvert_exporter": "python",
   "pygments_lexer": "ipython3",
   "version": "3.7.10"
  },
  "widgets": {
   "application/vnd.jupyter.widget-state+json": {
    "state": {},
    "version_major": 2,
    "version_minor": 0
   }
  }
 },
 "nbformat": 4,
 "nbformat_minor": 5
}
