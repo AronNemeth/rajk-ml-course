{
 "cells": [
  {
   "cell_type": "code",
   "execution_count": 1,
   "id": "346c1979-d4e6-474c-b9b9-41746392ff4a",
   "metadata": {
    "execution": {
     "iopub.execute_input": "2022-03-17T14:31:14.942140Z",
     "iopub.status.busy": "2022-03-17T14:31:14.941778Z",
     "iopub.status.idle": "2022-03-17T14:31:16.208908Z",
     "shell.execute_reply": "2022-03-17T14:31:16.208104Z",
     "shell.execute_reply.started": "2022-03-17T14:31:14.942030Z"
    },
    "tags": []
   },
   "outputs": [],
   "source": [
    "import itertools\n",
    "import random\n",
    "\n",
    "import altair as alt\n",
    "import graphviz\n",
    "import matplotlib.pyplot as plt\n",
    "import numpy as np\n",
    "import pandas as pd\n",
    "import seaborn as sns\n",
    "from sklearn.feature_extraction import FeatureHasher\n",
    "from sklearn import tree\n",
    "from sklearn.metrics import mean_squared_error\n",
    "from sklearn.model_selection import train_test_split\n",
    "from sklearn.preprocessing import LabelEncoder, OneHotEncoder, OrdinalEncoder\n",
    "from sklearn.tree import DecisionTreeRegressor\n",
    "from sklearn.linear_model import LinearRegression"
   ]
  },
  {
   "cell_type": "code",
   "execution_count": 2,
   "id": "40553cfd-e1c6-44a7-a480-0e808e4d9605",
   "metadata": {
    "execution": {
     "iopub.execute_input": "2022-03-17T14:31:16.209999Z",
     "iopub.status.busy": "2022-03-17T14:31:16.209855Z",
     "iopub.status.idle": "2022-03-17T14:31:16.213509Z",
     "shell.execute_reply": "2022-03-17T14:31:16.212966Z",
     "shell.execute_reply.started": "2022-03-17T14:31:16.209980Z"
    }
   },
   "outputs": [],
   "source": [
    "# reproducibility\n",
    "rng = np.random.default_rng(seed=420)"
   ]
  },
  {
   "cell_type": "markdown",
   "id": "48accb83-8759-491e-b12a-5c74782d3041",
   "metadata": {},
   "source": [
    " <b>!!! switch this, for switching between cases !!!</b>"
   ]
  },
  {
   "cell_type": "code",
   "execution_count": 3,
   "id": "0acea69c-d79f-451d-b2ad-83b8b7543a8c",
   "metadata": {
    "execution": {
     "iopub.execute_input": "2022-03-17T14:31:16.215181Z",
     "iopub.status.busy": "2022-03-17T14:31:16.214935Z",
     "iopub.status.idle": "2022-03-17T14:31:16.217698Z",
     "shell.execute_reply": "2022-03-17T14:31:16.217258Z",
     "shell.execute_reply.started": "2022-03-17T14:31:16.215161Z"
    }
   },
   "outputs": [],
   "source": [
    "#case_switch = 'worst'\n",
    "case_switch = 'random'"
   ]
  },
  {
   "cell_type": "markdown",
   "id": "abc03a0d-e441-4cfe-a76d-91b769ced3a5",
   "metadata": {},
   "source": [
    "# Create dataset"
   ]
  },
  {
   "cell_type": "code",
   "execution_count": 4,
   "id": "529c7c1d-98b6-40f3-a84c-a73086dd84db",
   "metadata": {
    "execution": {
     "iopub.execute_input": "2022-03-17T14:31:16.218453Z",
     "iopub.status.busy": "2022-03-17T14:31:16.218325Z",
     "iopub.status.idle": "2022-03-17T14:31:16.221499Z",
     "shell.execute_reply": "2022-03-17T14:31:16.221098Z",
     "shell.execute_reply.started": "2022-03-17T14:31:16.218436Z"
    }
   },
   "outputs": [],
   "source": [
    "# globals\n",
    "dataset_size = 1000\n",
    "max_depths = list(range(1, 30))\n",
    "params = {\"max_depth\": 5}\n",
    "y_colname = \"y\"\n",
    "init_x_colname = \"cat\"\n",
    "noise_scale = 2"
   ]
  },
  {
   "cell_type": "code",
   "execution_count": 5,
   "id": "b2a21190-572b-4b26-a737-49557dea32cd",
   "metadata": {
    "execution": {
     "iopub.execute_input": "2022-03-17T14:31:16.222211Z",
     "iopub.status.busy": "2022-03-17T14:31:16.222089Z",
     "iopub.status.idle": "2022-03-17T14:31:16.226411Z",
     "shell.execute_reply": "2022-03-17T14:31:16.226007Z",
     "shell.execute_reply.started": "2022-03-17T14:31:16.222195Z"
    },
    "tags": []
   },
   "outputs": [],
   "source": [
    "def gen_y_val_worstcase(key, noise_scale=noise_scale):\n",
    "    rand = (rng.random(1) - 0.5) * noise_scale\n",
    "    if key % 4 == 1:\n",
    "        return 10 + rand[0]\n",
    "    elif key % 3 == 2:\n",
    "        return 20 + rand[0]\n",
    "    else:\n",
    "        return 1 + rand[0]\n",
    "\n",
    "random_cat_dict = {} \n",
    "\n",
    "def gen_y_val_random(key, random_cat_dict=random_cat_dict, noise_scale=noise_scale):\n",
    "    rand = (rng.random(1) - 0.5) * noise_scale\n",
    "    return random_cat_dict[key] + rand[0]"
   ]
  },
  {
   "cell_type": "markdown",
   "id": "0b76d24c-8767-4e9c-99ea-1f26d1de5c0f",
   "metadata": {},
   "source": [
    "## Worst case"
   ]
  },
  {
   "cell_type": "code",
   "execution_count": 6,
   "id": "0f6330ff-19ba-4a87-9efe-3722b94f56e8",
   "metadata": {
    "execution": {
     "iopub.execute_input": "2022-03-17T14:31:16.227131Z",
     "iopub.status.busy": "2022-03-17T14:31:16.227008Z",
     "iopub.status.idle": "2022-03-17T14:31:16.230212Z",
     "shell.execute_reply": "2022-03-17T14:31:16.229816Z",
     "shell.execute_reply.started": "2022-03-17T14:31:16.227114Z"
    },
    "tags": []
   },
   "outputs": [],
   "source": [
    "categories = (\"A\", \"B\", \"C\", \"D\", \"E\", \"F\", \"G\", \"H\", \"I\", \"J\")\n",
    "subcategories = (\"1\", \"2\", \"3\")\n",
    "\n",
    "cat_vals_worst = [\"\".join(f) for f in itertools.product(categories, subcategories)]"
   ]
  },
  {
   "cell_type": "code",
   "execution_count": 7,
   "id": "097969cf-a5bd-4a42-85d6-26591fc0e7dc",
   "metadata": {
    "execution": {
     "iopub.execute_input": "2022-03-17T14:31:16.231128Z",
     "iopub.status.busy": "2022-03-17T14:31:16.230803Z",
     "iopub.status.idle": "2022-03-17T14:31:16.236782Z",
     "shell.execute_reply": "2022-03-17T14:31:16.236371Z",
     "shell.execute_reply.started": "2022-03-17T14:31:16.231108Z"
    },
    "tags": []
   },
   "outputs": [
    {
     "name": "stdout",
     "output_type": "stream",
     "text": [
      "There are 30 unique categories\n"
     ]
    },
    {
     "data": {
      "text/plain": [
       "['A1', 'A2', 'A3', 'B1', 'B2', 'B3']"
      ]
     },
     "execution_count": 7,
     "metadata": {},
     "output_type": "execute_result"
    }
   ],
   "source": [
    "print(f\"There are {len(cat_vals_worst)} unique categories\")\n",
    "cat_vals_worst[:6]"
   ]
  },
  {
   "cell_type": "code",
   "execution_count": 8,
   "id": "063995ad-f56c-4d5e-99d1-55df3ab8c46e",
   "metadata": {
    "execution": {
     "iopub.execute_input": "2022-03-17T14:31:16.237718Z",
     "iopub.status.busy": "2022-03-17T14:31:16.237371Z",
     "iopub.status.idle": "2022-03-17T14:31:16.267340Z",
     "shell.execute_reply": "2022-03-17T14:31:16.266860Z",
     "shell.execute_reply.started": "2022-03-17T14:31:16.237698Z"
    },
    "tags": []
   },
   "outputs": [
    {
     "data": {
      "text/html": [
       "<div>\n",
       "<style scoped>\n",
       "    .dataframe tbody tr th:only-of-type {\n",
       "        vertical-align: middle;\n",
       "    }\n",
       "\n",
       "    .dataframe tbody tr th {\n",
       "        vertical-align: top;\n",
       "    }\n",
       "\n",
       "    .dataframe thead th {\n",
       "        text-align: right;\n",
       "    }\n",
       "</style>\n",
       "<table border=\"1\" class=\"dataframe\">\n",
       "  <thead>\n",
       "    <tr style=\"text-align: right;\">\n",
       "      <th></th>\n",
       "      <th>cat</th>\n",
       "      <th>y</th>\n",
       "    </tr>\n",
       "  </thead>\n",
       "  <tbody>\n",
       "    <tr>\n",
       "      <th>0</th>\n",
       "      <td>G1</td>\n",
       "      <td>9.065550</td>\n",
       "    </tr>\n",
       "    <tr>\n",
       "      <th>1</th>\n",
       "      <td>H3</td>\n",
       "      <td>1.128245</td>\n",
       "    </tr>\n",
       "    <tr>\n",
       "      <th>2</th>\n",
       "      <td>B1</td>\n",
       "      <td>9.255394</td>\n",
       "    </tr>\n",
       "    <tr>\n",
       "      <th>3</th>\n",
       "      <td>J2</td>\n",
       "      <td>20.469195</td>\n",
       "    </tr>\n",
       "    <tr>\n",
       "      <th>4</th>\n",
       "      <td>I3</td>\n",
       "      <td>1.827283</td>\n",
       "    </tr>\n",
       "  </tbody>\n",
       "</table>\n",
       "</div>"
      ],
      "text/plain": [
       "  cat          y\n",
       "0  G1   9.065550\n",
       "1  H3   1.128245\n",
       "2  B1   9.255394\n",
       "3  J2  20.469195\n",
       "4  I3   1.827283"
      ]
     },
     "execution_count": 8,
     "metadata": {},
     "output_type": "execute_result"
    }
   ],
   "source": [
    "df_worst = pd.DataFrame(index=range(dataset_size), columns=[init_x_colname, y_colname])\n",
    "df_worst[init_x_colname] = [rng.choice(cat_vals_worst) for _ in range(dataset_size)]\n",
    "df_worst[y_colname] = [gen_y_val_worstcase(int(f[1])) for f in df_worst[init_x_colname].tolist()]\n",
    "df_worst.head()"
   ]
  },
  {
   "cell_type": "markdown",
   "id": "b649b6d4-cadb-4494-bd82-90d8eac22854",
   "metadata": {},
   "source": [
    "## Random case"
   ]
  },
  {
   "cell_type": "code",
   "execution_count": 9,
   "id": "50638c43-9209-4830-9858-3f6a63b8c54f",
   "metadata": {
    "execution": {
     "iopub.execute_input": "2022-03-17T14:31:16.268095Z",
     "iopub.status.busy": "2022-03-17T14:31:16.267973Z",
     "iopub.status.idle": "2022-03-17T14:31:16.271169Z",
     "shell.execute_reply": "2022-03-17T14:31:16.270766Z",
     "shell.execute_reply.started": "2022-03-17T14:31:16.268079Z"
    },
    "tags": []
   },
   "outputs": [],
   "source": [
    "cat_vals_random = (\"A\", \"B\", \"C\", \"D\", \"E\", \"F\", \"G\", \"H\")\n",
    "random_cat_dict = {key: rng.choice([1, 10, 20]) for key in cat_vals_random}"
   ]
  },
  {
   "cell_type": "code",
   "execution_count": 10,
   "id": "71279b39-37c1-47a8-bd13-78ed48a024fb",
   "metadata": {
    "execution": {
     "iopub.execute_input": "2022-03-17T14:31:16.271892Z",
     "iopub.status.busy": "2022-03-17T14:31:16.271764Z",
     "iopub.status.idle": "2022-03-17T14:31:16.275574Z",
     "shell.execute_reply": "2022-03-17T14:31:16.275182Z",
     "shell.execute_reply.started": "2022-03-17T14:31:16.271876Z"
    },
    "tags": []
   },
   "outputs": [
    {
     "name": "stdout",
     "output_type": "stream",
     "text": [
      "There are 8 unique categories\n"
     ]
    },
    {
     "data": {
      "text/plain": [
       "('A', 'B', 'C', 'D', 'E', 'F')"
      ]
     },
     "execution_count": 10,
     "metadata": {},
     "output_type": "execute_result"
    }
   ],
   "source": [
    "print(f\"There are {len(cat_vals_random)} unique categories\")\n",
    "cat_vals_random[:6]"
   ]
  },
  {
   "cell_type": "code",
   "execution_count": 11,
   "id": "6f0e57b8-fdbd-4b20-8638-cd987ecc070d",
   "metadata": {
    "execution": {
     "iopub.execute_input": "2022-03-17T14:31:16.276328Z",
     "iopub.status.busy": "2022-03-17T14:31:16.276206Z",
     "iopub.status.idle": "2022-03-17T14:31:16.311355Z",
     "shell.execute_reply": "2022-03-17T14:31:16.310965Z",
     "shell.execute_reply.started": "2022-03-17T14:31:16.276312Z"
    },
    "tags": []
   },
   "outputs": [
    {
     "data": {
      "text/html": [
       "<div>\n",
       "<style scoped>\n",
       "    .dataframe tbody tr th:only-of-type {\n",
       "        vertical-align: middle;\n",
       "    }\n",
       "\n",
       "    .dataframe tbody tr th {\n",
       "        vertical-align: top;\n",
       "    }\n",
       "\n",
       "    .dataframe thead th {\n",
       "        text-align: right;\n",
       "    }\n",
       "</style>\n",
       "<table border=\"1\" class=\"dataframe\">\n",
       "  <thead>\n",
       "    <tr style=\"text-align: right;\">\n",
       "      <th></th>\n",
       "      <th>cat</th>\n",
       "      <th>y</th>\n",
       "    </tr>\n",
       "  </thead>\n",
       "  <tbody>\n",
       "    <tr>\n",
       "      <th>0</th>\n",
       "      <td>B</td>\n",
       "      <td>20.249585</td>\n",
       "    </tr>\n",
       "    <tr>\n",
       "      <th>1</th>\n",
       "      <td>H</td>\n",
       "      <td>0.652780</td>\n",
       "    </tr>\n",
       "    <tr>\n",
       "      <th>2</th>\n",
       "      <td>B</td>\n",
       "      <td>20.622270</td>\n",
       "    </tr>\n",
       "    <tr>\n",
       "      <th>3</th>\n",
       "      <td>H</td>\n",
       "      <td>0.555996</td>\n",
       "    </tr>\n",
       "    <tr>\n",
       "      <th>4</th>\n",
       "      <td>H</td>\n",
       "      <td>0.358285</td>\n",
       "    </tr>\n",
       "  </tbody>\n",
       "</table>\n",
       "</div>"
      ],
      "text/plain": [
       "  cat          y\n",
       "0   B  20.249585\n",
       "1   H   0.652780\n",
       "2   B  20.622270\n",
       "3   H   0.555996\n",
       "4   H   0.358285"
      ]
     },
     "execution_count": 11,
     "metadata": {},
     "output_type": "execute_result"
    }
   ],
   "source": [
    "df_random = pd.DataFrame(index=range(dataset_size), columns=[init_x_colname, y_colname])\n",
    "df_random[init_x_colname] = [rng.choice(cat_vals_random) for _ in range(dataset_size)]\n",
    "df_random[y_colname] = [gen_y_val_random(f, random_cat_dict) for f in df_random[init_x_colname].tolist()]\n",
    "df_random.head()"
   ]
  },
  {
   "cell_type": "markdown",
   "id": "788a1898-18c0-4142-8587-5884aa53eb5c",
   "metadata": {},
   "source": [
    "# Train test split\n",
    "\n",
    "- this is the first thing you do - do not even plot the test data according to Cassie Kozyrkov"
   ]
  },
  {
   "cell_type": "code",
   "execution_count": 12,
   "id": "47972f99-0d7d-40a0-8906-0a0e1a02e9c1",
   "metadata": {
    "execution": {
     "iopub.execute_input": "2022-03-17T14:31:16.313767Z",
     "iopub.status.busy": "2022-03-17T14:31:16.313295Z",
     "iopub.status.idle": "2022-03-17T14:31:16.317816Z",
     "shell.execute_reply": "2022-03-17T14:31:16.317342Z",
     "shell.execute_reply.started": "2022-03-17T14:31:16.313748Z"
    },
    "tags": []
   },
   "outputs": [],
   "source": [
    "df = None\n",
    "def train_test_split_func(y_colname=\"y\", df=df):\n",
    "    retlist = train_test_split(\n",
    "        df.drop(y_colname, axis=1).values,\n",
    "        df[y_colname].values,\n",
    "        test_size=0.2,\n",
    "        random_state=42,\n",
    "    )\n",
    "\n",
    "    return [\n",
    "        pd.DataFrame(f, columns=[f for f in df.columns if not f == y_colname])\n",
    "        if i < 2\n",
    "        else pd.DataFrame(f, columns=[y_colname])\n",
    "        for i, f in enumerate(retlist)\n",
    "    ]"
   ]
  },
  {
   "cell_type": "code",
   "execution_count": 13,
   "id": "31b35511-e6ef-4417-91e7-33652666bbab",
   "metadata": {
    "execution": {
     "iopub.execute_input": "2022-03-17T14:31:16.318558Z",
     "iopub.status.busy": "2022-03-17T14:31:16.318439Z",
     "iopub.status.idle": "2022-03-17T14:31:16.321500Z",
     "shell.execute_reply": "2022-03-17T14:31:16.321102Z",
     "shell.execute_reply.started": "2022-03-17T14:31:16.318541Z"
    },
    "tags": []
   },
   "outputs": [],
   "source": [
    "if case_switch == 'random':\n",
    "    df = df_random.copy()\n",
    "elif case_switch.lower() == 'worst':\n",
    "    df = df_worst.copy()\n",
    "else:\n",
    "    raise ValueError(f'Unknown case: {case_switch}. Choose one of `random` or `worst`.')"
   ]
  },
  {
   "cell_type": "code",
   "execution_count": 14,
   "id": "16046f87-1ede-4026-8277-e40f4a74cc04",
   "metadata": {
    "execution": {
     "iopub.execute_input": "2022-03-17T14:31:16.322423Z",
     "iopub.status.busy": "2022-03-17T14:31:16.322088Z",
     "iopub.status.idle": "2022-03-17T14:31:16.326558Z",
     "shell.execute_reply": "2022-03-17T14:31:16.326143Z",
     "shell.execute_reply.started": "2022-03-17T14:31:16.322404Z"
    },
    "tags": []
   },
   "outputs": [],
   "source": [
    "X_train, X_test, y_train, y_test = train_test_split_func(y_colname=y_colname, df=df)"
   ]
  },
  {
   "cell_type": "markdown",
   "id": "009b3b83-17da-48d4-98b8-64dc81fc750d",
   "metadata": {},
   "source": [
    "# Check data"
   ]
  },
  {
   "cell_type": "code",
   "execution_count": 15,
   "id": "2a736c62-8f2e-4590-ab29-763f95dd6a83",
   "metadata": {
    "execution": {
     "iopub.execute_input": "2022-03-17T14:31:16.327489Z",
     "iopub.status.busy": "2022-03-17T14:31:16.327166Z",
     "iopub.status.idle": "2022-03-17T14:31:16.598986Z",
     "shell.execute_reply": "2022-03-17T14:31:16.598562Z",
     "shell.execute_reply.started": "2022-03-17T14:31:16.327470Z"
    },
    "tags": []
   },
   "outputs": [
    {
     "data": {
      "text/plain": [
       "<AxesSubplot:xlabel='cat', ylabel='y'>"
      ]
     },
     "execution_count": 15,
     "metadata": {},
     "output_type": "execute_result"
    },
    {
     "data": {
      "image/png": "[encoded data removed]",
      "text/plain": [
       "<Figure size 1440x720 with 1 Axes>"
      ]
     },
     "metadata": {
      "needs_background": "light"
     },
     "output_type": "display_data"
    }
   ],
   "source": [
    "fig, ax = plt.subplots(figsize=(20, 10))\n",
    "sns.boxplot(data=X_train.join(y_train).sort_values(by=\"cat\"), x=\"cat\", y=\"y\")"
   ]
  },
  {
   "cell_type": "markdown",
   "id": "d64aaa39-ed2b-48a3-acaf-7e98d14c9e6a",
   "metadata": {},
   "source": [
    "# Functions"
   ]
  },
  {
   "cell_type": "code",
   "execution_count": 16,
   "id": "2df3d38f-3476-4b4b-a5da-74a2242c7beb",
   "metadata": {
    "execution": {
     "iopub.execute_input": "2022-03-17T14:31:16.599847Z",
     "iopub.status.busy": "2022-03-17T14:31:16.599706Z",
     "iopub.status.idle": "2022-03-17T14:31:16.611618Z",
     "shell.execute_reply": "2022-03-17T14:31:16.611275Z",
     "shell.execute_reply.started": "2022-03-17T14:31:16.599827Z"
    },
    "tags": []
   },
   "outputs": [],
   "source": [
    "def dec_tree_rmse(\n",
    "    params,\n",
    "    x_colnames,\n",
    "    X_train=X_train,\n",
    "    X_test=X_test,\n",
    "    y_train=y_train,\n",
    "    y_test=y_test,\n",
    "):\n",
    "    \"\"\"\n",
    "    Fit decision tree with params, and returns rmse and plot if plot.\n",
    "    \"\"\"\n",
    "    dec_tree = DecisionTreeRegressor(**params).fit(X_train[x_colnames], y_train)\n",
    "    test_preds = dec_tree.predict(X_test[x_colnames])\n",
    "    rmse = mean_squared_error(y_true=y_test, y_pred=test_preds, squared=False)\n",
    "\n",
    "    source = pd.DataFrame(\n",
    "        {\"y\": y_test[\"y\"], \"y_pred\": test_preds, \"cat\": X_test[\"cat\"]}\n",
    "    )\n",
    "\n",
    "    return rmse, source, dec_tree\n",
    "\n",
    "def linreg_rmse(\n",
    "    x_colnames,\n",
    "    X_train=X_train,\n",
    "    X_test=X_test,\n",
    "    y_train=y_train,\n",
    "    y_test=y_test,\n",
    "):\n",
    "    \"\"\"\n",
    "    Fit decision tree with params, and returns rmse and plot if plot.\n",
    "    \"\"\"\n",
    "    linreg = LinearRegression().fit(X_train[x_colnames], y_train[y_colname])\n",
    "    test_preds = linreg.predict(X_test[x_colnames])\n",
    "    rmse = mean_squared_error(y_true=y_test, y_pred=test_preds, squared=False)\n",
    "\n",
    "    source = pd.DataFrame(\n",
    "        {\"y\": y_test[\"y\"], \"y_pred\": test_preds, \"cat\": X_test[\"cat\"]}\n",
    "    )\n",
    "\n",
    "    return rmse, source, linreg\n",
    "\n",
    "\n",
    "def create_scatter(source):\n",
    "    \"\"\"\n",
    "    Creates a scatterplot of true values and predictions colored by `cat` column.\n",
    "    Colnames have to be `y` and `y_pred` respectively.\n",
    "    \"\"\"\n",
    "    maxi_val = source[['y', 'y_pred']].max().max() + 2\n",
    "    mini_val = source[['y', 'y_pred']].min().min() - 2\n",
    "    return alt.Chart(source).mark_circle(\n",
    "        size=60).encode(\n",
    "        x=alt.X('y:Q', scale=alt.Scale(domain=(mini_val, maxi_val))),\n",
    "        y=alt.Y(\"y_pred:Q\", scale=alt.Scale(domain=(mini_val, maxi_val))), \n",
    "        color=\"cat\", \n",
    "        tooltip=\"cat\").properties(\n",
    "        width=800, height=500).interactive()\n",
    "\n",
    "\n",
    "def plot_max_depth_rmse(list_of_depths, list_of_rmse):\n",
    "    \"\"\"\n",
    "    Creates a lineplot from 2 list of numeric values.\n",
    "    \"\"\"\n",
    "    source = pd.DataFrame(index=range(len(list_of_rmse)), columns=[\"max_depth\", \"rmse\"])\n",
    "    source[\"rmse\"] = list_of_rmse\n",
    "    source[\"max_depth\"] = list_of_depths\n",
    "    return alt.Chart(source).mark_line().encode(x=\"max_depth\", y=\"rmse\").properties(\n",
    "        width=800, height=500).interactive()\n",
    "\n",
    "\n",
    "# https://mljar.com/blog/visualize-decision-tree/\n",
    "def visualize_dec_tree(dec_tree):\n",
    "    \"\"\"\n",
    "    Returns visualization of a decision tree\n",
    "    \"\"\"\n",
    "    dot_data = tree.export_graphviz(\n",
    "        dec_tree, out_file=None, feature_names=dec_tree.feature_names_in_, filled=True\n",
    "    )\n",
    "    return graphviz.Source(dot_data, format=\"png\")\n",
    "\n",
    "def create_encoded_column(encoder, colname_s, X_train=X_train, y_train=y_train):\n",
    "    \"\"\"\n",
    "    Use encoder to fit_transform the `cat` column and insert the encoded column values\n",
    "    to `x_colname` col in both train and test sets. Only fits on train, transforms test.\n",
    "    \"\"\"\n",
    "    # you fit on training data\n",
    "    X_train[colname_s] = encoder.fit_transform(X_train[\"cat\"].values.reshape(-1, 1))\n",
    "\n",
    "    # but only TRANSFORM the test data\n",
    "    X_test[colname_s] = encoder.transform(X_test[\"cat\"].values.reshape(-1, 1))\n",
    "    \n",
    "    return X_train, X_test"
   ]
  },
  {
   "cell_type": "markdown",
   "id": "675c8229-30f9-4a71-b0bf-88c24f938265",
   "metadata": {},
   "source": [
    "# Encodings"
   ]
  },
  {
   "cell_type": "markdown",
   "id": "c52d23bc-44f6-4d59-9df5-3af100b6b1b8",
   "metadata": {},
   "source": [
    "## Ordinal encoding"
   ]
  },
  {
   "cell_type": "code",
   "execution_count": 17,
   "id": "2398e7dd-9e0a-4d18-9dd1-9732e85c51b2",
   "metadata": {
    "execution": {
     "iopub.execute_input": "2022-03-17T14:31:16.612373Z",
     "iopub.status.busy": "2022-03-17T14:31:16.612247Z",
     "iopub.status.idle": "2022-03-17T14:31:16.614828Z",
     "shell.execute_reply": "2022-03-17T14:31:16.614493Z",
     "shell.execute_reply.started": "2022-03-17T14:31:16.612356Z"
    },
    "tags": []
   },
   "outputs": [],
   "source": [
    "oe = OrdinalEncoder(handle_unknown=\"use_encoded_value\", unknown_value=np.nan)"
   ]
  },
  {
   "cell_type": "code",
   "execution_count": 18,
   "id": "abd05425-f62d-4b28-8dd9-d96f257ae040",
   "metadata": {
    "execution": {
     "iopub.execute_input": "2022-03-17T14:31:16.615462Z",
     "iopub.status.busy": "2022-03-17T14:31:16.615340Z",
     "iopub.status.idle": "2022-03-17T14:31:16.619514Z",
     "shell.execute_reply": "2022-03-17T14:31:16.619148Z",
     "shell.execute_reply.started": "2022-03-17T14:31:16.615445Z"
    },
    "tags": []
   },
   "outputs": [],
   "source": [
    "x_colnames_oe = 'ordinal_encoded'\n",
    "X_train, X_test = create_encoded_column(oe, x_colnames_oe)"
   ]
  },
  {
   "cell_type": "markdown",
   "id": "b88dbcd7-76ca-451d-9b32-d602e54740ae",
   "metadata": {},
   "source": [
    "### Check one tree"
   ]
  },
  {
   "cell_type": "code",
   "execution_count": 19,
   "id": "5863826d-f1f5-49f8-9334-645fd7cb736d",
   "metadata": {
    "execution": {
     "iopub.execute_input": "2022-03-17T14:31:16.620183Z",
     "iopub.status.busy": "2022-03-17T14:31:16.620045Z",
     "iopub.status.idle": "2022-03-17T14:31:16.627495Z",
     "shell.execute_reply": "2022-03-17T14:31:16.627171Z",
     "shell.execute_reply.started": "2022-03-17T14:31:16.620164Z"
    },
    "tags": []
   },
   "outputs": [],
   "source": [
    "rmse, source_oe, dec_tree = dec_tree_rmse(\n",
    "    params=params, x_colnames=[x_colnames_oe]\n",
    ")"
   ]
  },
  {
   "cell_type": "code",
   "execution_count": 20,
   "id": "d6daa301-2bf4-4abf-b12b-7edd35327846",
   "metadata": {
    "execution": {
     "iopub.execute_input": "2022-03-17T14:31:16.628163Z",
     "iopub.status.busy": "2022-03-17T14:31:16.628019Z",
     "iopub.status.idle": "2022-03-17T14:31:16.631275Z",
     "shell.execute_reply": "2022-03-17T14:31:16.630970Z",
     "shell.execute_reply.started": "2022-03-17T14:31:16.628134Z"
    },
    "tags": []
   },
   "outputs": [
    {
     "data": {
      "text/plain": [
       "0.5741301892011212"
      ]
     },
     "execution_count": 20,
     "metadata": {},
     "output_type": "execute_result"
    }
   ],
   "source": [
    "rmse"
   ]
  },
  {
   "cell_type": "code",
   "execution_count": 21,
   "id": "d2cb015d-518d-423e-9e0e-b19f78f0279c",
   "metadata": {
    "execution": {
     "iopub.execute_input": "2022-03-17T14:31:16.632116Z",
     "iopub.status.busy": "2022-03-17T14:31:16.631771Z",
     "iopub.status.idle": "2022-03-17T14:31:16.700751Z",
     "shell.execute_reply": "2022-03-17T14:31:16.700421Z",
     "shell.execute_reply.started": "2022-03-17T14:31:16.632098Z"
    },
    "tags": []
   },
   "outputs": [
    {
     "data": {
      "text/html": [
       "\n",
       "<div id=\"altair-viz-5bdf239fe0e740f28938187dd99e5917\"></div>\n",
       "<script type=\"text/javascript\">\n",
       "  var VEGA_DEBUG = (typeof VEGA_DEBUG == \"undefined\") ? {} : VEGA_DEBUG;\n",
       "  (function(spec, embedOpt){\n",
       "    let outputDiv = document.currentScript.previousElementSibling;\n",
       "    if (outputDiv.id !== \"altair-viz-5bdf239fe0e740f28938187dd99e5917\") {\n",
       "      outputDiv = document.getElementById(\"altair-viz-5bdf239fe0e740f28938187dd99e5917\");\n",
       "    }\n",
       "    const paths = {\n",
       "      \"vega\": \"https://cdn.jsdelivr.net/npm//vega@5?noext\",\n",
       "      \"vega-lib\": \"https://cdn.jsdelivr.net/npm//vega-lib?noext\",\n",
       "      \"vega-lite\": \"https://cdn.jsdelivr.net/npm//vega-lite@4.17.0?noext\",\n",
       "      \"vega-embed\": \"https://cdn.jsdelivr.net/npm//vega-embed@6?noext\",\n",
       "    };\n",
       "\n",
       "    function maybeLoadScript(lib, version) {\n",
       "      var key = `${lib.replace(\"-\", \"\")}_version`;\n",
       "      return (VEGA_DEBUG[key] == version) ?\n",
       "        Promise.resolve(paths[lib]) :\n",
       "        new Promise(function(resolve, reject) {\n",
       "          var s = document.createElement('script');\n",
       "          document.getElementsByTagName(\"head\")[0].appendChild(s);\n",
       "          s.async = true;\n",
       "          s.onload = () => {\n",
       "            VEGA_DEBUG[key] = version;\n",
       "            return resolve(paths[lib]);\n",
       "          };\n",
       "          s.onerror = () => reject(`Error loading script: ${paths[lib]}`);\n",
       "          s.src = paths[lib];\n",
       "        });\n",
       "    }\n",
       "\n",
       "    function showError(err) {\n",
       "      outputDiv.innerHTML = `<div class=\"error\" style=\"color:red;\">${err}</div>`;\n",
       "      throw err;\n",
       "    }\n",
       "\n",
       "    function displayChart(vegaEmbed) {\n",
       "      vegaEmbed(outputDiv, spec, embedOpt)\n",
       "        .catch(err => showError(`Javascript Error: ${err.message}<br>This usually means there's a typo in your chart specification. See the javascript console for the full traceback.`));\n",
       "    }\n",
       "\n",
       "    if(typeof define === \"function\" && define.amd) {\n",
       "      requirejs.config({paths});\n",
       "      require([\"vega-embed\"], displayChart, err => showError(`Error loading script: ${err.message}`));\n",
       "    } else {\n",
       "      maybeLoadScript(\"vega\", \"5\")\n",
       "        .then(() => maybeLoadScript(\"vega-lite\", \"4.17.0\"))\n",
       "        .then(() => maybeLoadScript(\"vega-embed\", \"6\"))\n",
       "        .catch(showError)\n",
       "        .then(() => displayChart(vegaEmbed));\n",
       "    }\n",
       "  })({\"config\": {\"view\": {\"continuousWidth\": 400, \"continuousHeight\": 300}}, \"data\": {\"name\": \"data-17cfe8d4e91efb0ecd3f43089cc8c3cf\"}, \"mark\": {\"type\": \"circle\", \"size\": 60}, \"encoding\": {\"color\": {\"field\": \"cat\", \"type\": \"nominal\"}, \"tooltip\": {\"field\": \"cat\", \"type\": \"nominal\"}, \"x\": {\"field\": \"y\", \"scale\": {\"domain\": [-1.9794411835276828, 22.982521930208183]}, \"type\": \"quantitative\"}, \"y\": {\"field\": \"y_pred\", \"scale\": {\"domain\": [-1.9794411835276828, 22.982521930208183]}, \"type\": \"quantitative\"}}, \"height\": 500, \"selection\": {\"selector001\": {\"type\": \"interval\", \"bind\": \"scales\", \"encodings\": [\"x\", \"y\"]}}, \"width\": 800, \"$schema\": \"https://vega.github.io/schema/vega-lite/v4.17.0.json\", \"datasets\": {\"data-17cfe8d4e91efb0ecd3f43089cc8c3cf\": [{\"y\": 20.228416299539152, \"y_pred\": 20.04048466731067, \"cat\": \"D\"}, {\"y\": 10.755738391014326, \"y_pred\": 10.03868102132804, \"cat\": \"G\"}, {\"y\": 1.2432130484037138, \"y_pred\": 0.9330043674525759, \"cat\": \"E\"}, {\"y\": 19.868955106712367, \"y_pred\": 20.04048466731067, \"cat\": \"D\"}, {\"y\": 20.538461585703196, \"y_pred\": 20.107437824219065, \"cat\": \"C\"}, {\"y\": 20.474141014893693, \"y_pred\": 20.107437824219065, \"cat\": \"C\"}, {\"y\": 19.821414196693382, \"y_pred\": 19.958376458473605, \"cat\": \"B\"}, {\"y\": 9.662920809400063, \"y_pred\": 10.048570910212892, \"cat\": \"F\"}, {\"y\": 19.01624207878327, \"y_pred\": 20.04048466731067, \"cat\": \"D\"}, {\"y\": 9.4365106809915, \"y_pred\": 9.998147991658444, \"cat\": \"A\"}, {\"y\": 10.460074057562416, \"y_pred\": 10.03868102132804, \"cat\": \"G\"}, {\"y\": 20.97326047492774, \"y_pred\": 20.107437824219065, \"cat\": \"C\"}, {\"y\": 10.082170109036579, \"y_pred\": 10.048570910212892, \"cat\": \"F\"}, {\"y\": 19.13096385714167, \"y_pred\": 20.04048466731067, \"cat\": \"D\"}, {\"y\": 9.523098717904361, \"y_pred\": 10.048570910212892, \"cat\": \"F\"}, {\"y\": 10.908896232329443, \"y_pred\": 9.998147991658444, \"cat\": \"A\"}, {\"y\": 0.2179821907448387, \"y_pred\": 0.9330043674525759, \"cat\": \"E\"}, {\"y\": 9.89093741819538, \"y_pred\": 10.03868102132804, \"cat\": \"G\"}, {\"y\": 10.612990876822685, \"y_pred\": 10.048570910212892, \"cat\": \"F\"}, {\"y\": 10.316897137108278, \"y_pred\": 9.998147991658444, \"cat\": \"A\"}, {\"y\": 10.325942869800159, \"y_pred\": 10.03868102132804, \"cat\": \"G\"}, {\"y\": 20.236473629283257, \"y_pred\": 19.958376458473605, \"cat\": \"B\"}, {\"y\": 9.181147187272716, \"y_pred\": 10.048570910212892, \"cat\": \"F\"}, {\"y\": 20.54925671257121, \"y_pred\": 20.107437824219065, \"cat\": \"C\"}, {\"y\": 9.78656044848627, \"y_pred\": 10.03868102132804, \"cat\": \"G\"}, {\"y\": 9.86692524750399, \"y_pred\": 10.03868102132804, \"cat\": \"G\"}, {\"y\": 19.591710000938363, \"y_pred\": 19.958376458473605, \"cat\": \"B\"}, {\"y\": 20.07519786429598, \"y_pred\": 19.958376458473605, \"cat\": \"B\"}, {\"y\": 20.041411085955087, \"y_pred\": 19.958376458473605, \"cat\": \"B\"}, {\"y\": 10.156035956904987, \"y_pred\": 10.03868102132804, \"cat\": \"G\"}, {\"y\": 9.097043735555156, \"y_pred\": 10.03868102132804, \"cat\": \"G\"}, {\"y\": 9.3177724580608, \"y_pred\": 10.03868102132804, \"cat\": \"G\"}, {\"y\": 20.302266690788453, \"y_pred\": 20.107437824219065, \"cat\": \"C\"}, {\"y\": 20.76128988864241, \"y_pred\": 20.04048466731067, \"cat\": \"D\"}, {\"y\": 9.38616388695737, \"y_pred\": 10.03868102132804, \"cat\": \"G\"}, {\"y\": 1.645062937862539, \"y_pred\": 0.9330043674525759, \"cat\": \"E\"}, {\"y\": 9.937701269282242, \"y_pred\": 10.03868102132804, \"cat\": \"G\"}, {\"y\": 20.01821662604171, \"y_pred\": 19.958376458473605, \"cat\": \"B\"}, {\"y\": 19.352797059528605, \"y_pred\": 20.107437824219065, \"cat\": \"C\"}, {\"y\": 19.795429300714783, \"y_pred\": 20.04048466731067, \"cat\": \"D\"}, {\"y\": 10.552874292238542, \"y_pred\": 9.998147991658444, \"cat\": \"A\"}, {\"y\": 9.392935412362524, \"y_pred\": 10.03868102132804, \"cat\": \"G\"}, {\"y\": 1.7025444545048969, \"y_pred\": 0.9330043674525759, \"cat\": \"E\"}, {\"y\": 0.7546517916611835, \"y_pred\": 0.9708463425199865, \"cat\": \"H\"}, {\"y\": 10.582607600458585, \"y_pred\": 9.998147991658444, \"cat\": \"A\"}, {\"y\": 9.70717552497549, \"y_pred\": 10.03868102132804, \"cat\": \"G\"}, {\"y\": 9.251471947298734, \"y_pred\": 10.03868102132804, \"cat\": \"G\"}, {\"y\": 20.982521930208183, \"y_pred\": 20.04048466731067, \"cat\": \"D\"}, {\"y\": 0.2574708086269786, \"y_pred\": 0.9708463425199865, \"cat\": \"H\"}, {\"y\": 19.367806703011105, \"y_pred\": 19.958376458473605, \"cat\": \"B\"}, {\"y\": 9.911765027787183, \"y_pred\": 10.03868102132804, \"cat\": \"G\"}, {\"y\": 19.051002957637987, \"y_pred\": 20.04048466731067, \"cat\": \"D\"}, {\"y\": 1.1781482404151336, \"y_pred\": 0.9330043674525759, \"cat\": \"E\"}, {\"y\": 10.501643046951886, \"y_pred\": 9.998147991658444, \"cat\": \"A\"}, {\"y\": 20.5910444506198, \"y_pred\": 20.107437824219065, \"cat\": \"C\"}, {\"y\": 9.449264909072177, \"y_pred\": 10.048570910212892, \"cat\": \"F\"}, {\"y\": 19.774657647883217, \"y_pred\": 19.958376458473605, \"cat\": \"B\"}, {\"y\": 10.496505501359266, \"y_pred\": 9.998147991658444, \"cat\": \"A\"}, {\"y\": 0.9706386487009666, \"y_pred\": 0.9708463425199865, \"cat\": \"H\"}, {\"y\": 9.320856994720664, \"y_pred\": 10.03868102132804, \"cat\": \"G\"}, {\"y\": 9.815591064810047, \"y_pred\": 10.03868102132804, \"cat\": \"G\"}, {\"y\": 20.569978462272605, \"y_pred\": 20.107437824219065, \"cat\": \"C\"}, {\"y\": 0.2211748308876127, \"y_pred\": 0.9708463425199865, \"cat\": \"H\"}, {\"y\": 19.7698121791174, \"y_pred\": 20.107437824219065, \"cat\": \"C\"}, {\"y\": 9.177430240803817, \"y_pred\": 10.03868102132804, \"cat\": \"G\"}, {\"y\": 20.080440735491518, \"y_pred\": 20.107437824219065, \"cat\": \"C\"}, {\"y\": 9.420307640579484, \"y_pred\": 9.998147991658444, \"cat\": \"A\"}, {\"y\": 1.889325138913303, \"y_pred\": 0.9708463425199865, \"cat\": \"H\"}, {\"y\": 0.5199605204499211, \"y_pred\": 0.9708463425199865, \"cat\": \"H\"}, {\"y\": 10.081037479192918, \"y_pred\": 10.048570910212892, \"cat\": \"F\"}, {\"y\": 20.934915917288745, \"y_pred\": 20.04048466731067, \"cat\": \"D\"}, {\"y\": 10.568579002023586, \"y_pred\": 10.048570910212892, \"cat\": \"F\"}, {\"y\": 20.536243901195366, \"y_pred\": 19.958376458473605, \"cat\": \"B\"}, {\"y\": 20.002148292390892, \"y_pred\": 19.958376458473605, \"cat\": \"B\"}, {\"y\": 19.4492677540698, \"y_pred\": 20.04048466731067, \"cat\": \"D\"}, {\"y\": 20.387943852803918, \"y_pred\": 19.958376458473605, \"cat\": \"B\"}, {\"y\": 20.371793506832503, \"y_pred\": 19.958376458473605, \"cat\": \"B\"}, {\"y\": 0.8445923754981017, \"y_pred\": 0.9330043674525759, \"cat\": \"E\"}, {\"y\": 20.664560707868276, \"y_pred\": 20.04048466731067, \"cat\": \"D\"}, {\"y\": 9.70154773991372, \"y_pred\": 9.998147991658444, \"cat\": \"A\"}, {\"y\": 19.675060520894256, \"y_pred\": 20.04048466731067, \"cat\": \"D\"}, {\"y\": 9.547647267061583, \"y_pred\": 10.03868102132804, \"cat\": \"G\"}, {\"y\": 10.845264624827177, \"y_pred\": 9.998147991658444, \"cat\": \"A\"}, {\"y\": 10.837115603212512, \"y_pred\": 10.048570910212892, \"cat\": \"F\"}, {\"y\": 10.501803489009719, \"y_pred\": 10.03868102132804, \"cat\": \"G\"}, {\"y\": 9.860913668382372, \"y_pred\": 10.048570910212892, \"cat\": \"F\"}, {\"y\": 20.251710117406333, \"y_pred\": 19.958376458473605, \"cat\": \"B\"}, {\"y\": 9.819947826883105, \"y_pred\": 10.048570910212892, \"cat\": \"F\"}, {\"y\": 0.7698892937521575, \"y_pred\": 0.9708463425199865, \"cat\": \"H\"}, {\"y\": 0.020558816472317165, \"y_pred\": 0.9708463425199865, \"cat\": \"H\"}, {\"y\": 10.356421735569263, \"y_pred\": 9.998147991658444, \"cat\": \"A\"}, {\"y\": 10.198900021530353, \"y_pred\": 9.998147991658444, \"cat\": \"A\"}, {\"y\": 19.40913956996592, \"y_pred\": 20.04048466731067, \"cat\": \"D\"}, {\"y\": 19.724035086471954, \"y_pred\": 20.107437824219065, \"cat\": \"C\"}, {\"y\": 19.479627180379374, \"y_pred\": 19.958376458473605, \"cat\": \"B\"}, {\"y\": 19.788288187936672, \"y_pred\": 19.958376458473605, \"cat\": \"B\"}, {\"y\": 10.901648813065501, \"y_pred\": 10.03868102132804, \"cat\": \"G\"}, {\"y\": 19.05919361690789, \"y_pred\": 20.04048466731067, \"cat\": \"D\"}, {\"y\": 19.887634252832722, \"y_pred\": 20.04048466731067, \"cat\": \"D\"}, {\"y\": 10.331867714362367, \"y_pred\": 10.03868102132804, \"cat\": \"G\"}, {\"y\": 1.632072470837196, \"y_pred\": 0.9708463425199865, \"cat\": \"H\"}, {\"y\": 0.8008261793916356, \"y_pred\": 0.9330043674525759, \"cat\": \"E\"}, {\"y\": 19.450399671045755, \"y_pred\": 20.04048466731067, \"cat\": \"D\"}, {\"y\": 19.445313958368846, \"y_pred\": 19.958376458473605, \"cat\": \"B\"}, {\"y\": 19.36397961536031, \"y_pred\": 19.958376458473605, \"cat\": \"B\"}, {\"y\": 19.005857114971327, \"y_pred\": 20.04048466731067, \"cat\": \"D\"}, {\"y\": 20.631251920884424, \"y_pred\": 19.958376458473605, \"cat\": \"B\"}, {\"y\": 20.788540590171998, \"y_pred\": 19.958376458473605, \"cat\": \"B\"}, {\"y\": 10.37348086395918, \"y_pred\": 10.048570910212892, \"cat\": \"F\"}, {\"y\": 0.3114493412498285, \"y_pred\": 0.9330043674525759, \"cat\": \"E\"}, {\"y\": 9.900550305570135, \"y_pred\": 9.998147991658444, \"cat\": \"A\"}, {\"y\": 19.4323555603462, \"y_pred\": 20.04048466731067, \"cat\": \"D\"}, {\"y\": 0.4061822252091054, \"y_pred\": 0.9330043674525759, \"cat\": \"E\"}, {\"y\": 9.13632958872706, \"y_pred\": 9.998147991658444, \"cat\": \"A\"}, {\"y\": 9.196513948124784, \"y_pred\": 9.998147991658444, \"cat\": \"A\"}, {\"y\": 0.5129022239778607, \"y_pred\": 0.9330043674525759, \"cat\": \"E\"}, {\"y\": 9.782598794671504, \"y_pred\": 9.998147991658444, \"cat\": \"A\"}, {\"y\": 9.219065636975595, \"y_pred\": 10.03868102132804, \"cat\": \"G\"}, {\"y\": 9.011159801252344, \"y_pred\": 9.998147991658444, \"cat\": \"A\"}, {\"y\": 0.18398911048230837, \"y_pred\": 0.9330043674525759, \"cat\": \"E\"}, {\"y\": 9.636517254035853, \"y_pred\": 10.03868102132804, \"cat\": \"G\"}, {\"y\": 0.8961868190560538, \"y_pred\": 0.9708463425199865, \"cat\": \"H\"}, {\"y\": 9.087728389616622, \"y_pred\": 10.048570910212892, \"cat\": \"F\"}, {\"y\": 10.457560418617014, \"y_pred\": 10.048570910212892, \"cat\": \"F\"}, {\"y\": 19.238450547697404, \"y_pred\": 20.04048466731067, \"cat\": \"D\"}, {\"y\": 20.817597053137046, \"y_pred\": 20.04048466731067, \"cat\": \"D\"}, {\"y\": 1.7218216345339639, \"y_pred\": 0.9708463425199865, \"cat\": \"H\"}, {\"y\": 1.7939775901506974, \"y_pred\": 0.9708463425199865, \"cat\": \"H\"}, {\"y\": 10.226566238928287, \"y_pred\": 10.048570910212892, \"cat\": \"F\"}, {\"y\": 9.729579374047034, \"y_pred\": 9.998147991658444, \"cat\": \"A\"}, {\"y\": 19.16984650853948, \"y_pred\": 20.04048466731067, \"cat\": \"D\"}, {\"y\": 0.6915194704097589, \"y_pred\": 0.9330043674525759, \"cat\": \"E\"}, {\"y\": 10.10244759996278, \"y_pred\": 10.03868102132804, \"cat\": \"G\"}, {\"y\": 10.277745962605486, \"y_pred\": 9.998147991658444, \"cat\": \"A\"}, {\"y\": 9.364544118392976, \"y_pred\": 10.048570910212892, \"cat\": \"F\"}, {\"y\": 9.62332958876482, \"y_pred\": 10.03868102132804, \"cat\": \"G\"}, {\"y\": 10.183985975651991, \"y_pred\": 9.998147991658444, \"cat\": \"A\"}, {\"y\": 20.296691561037523, \"y_pred\": 19.958376458473605, \"cat\": \"B\"}, {\"y\": 19.128728929671492, \"y_pred\": 20.107437824219065, \"cat\": \"C\"}, {\"y\": 1.4118762875896147, \"y_pred\": 0.9330043674525759, \"cat\": \"E\"}, {\"y\": 0.28637658846515257, \"y_pred\": 0.9330043674525759, \"cat\": \"E\"}, {\"y\": 9.284576074584002, \"y_pred\": 10.03868102132804, \"cat\": \"G\"}, {\"y\": 19.61757777297641, \"y_pred\": 20.04048466731067, \"cat\": \"D\"}, {\"y\": 19.327369580074205, \"y_pred\": 19.958376458473605, \"cat\": \"B\"}, {\"y\": 20.907756417641142, \"y_pred\": 20.107437824219065, \"cat\": \"C\"}, {\"y\": 10.384294533710984, \"y_pred\": 9.998147991658444, \"cat\": \"A\"}, {\"y\": 19.978802914265657, \"y_pred\": 19.958376458473605, \"cat\": \"B\"}, {\"y\": 10.920424864548101, \"y_pred\": 10.03868102132804, \"cat\": \"G\"}, {\"y\": 19.12243196532818, \"y_pred\": 19.958376458473605, \"cat\": \"B\"}, {\"y\": 10.22849753665952, \"y_pred\": 10.03868102132804, \"cat\": \"G\"}, {\"y\": 9.641952557998422, \"y_pred\": 10.048570910212892, \"cat\": \"F\"}, {\"y\": 1.5221616482608022, \"y_pred\": 0.9330043674525759, \"cat\": \"E\"}, {\"y\": 9.851387261175203, \"y_pred\": 9.998147991658444, \"cat\": \"A\"}, {\"y\": 0.34566881934414817, \"y_pred\": 0.9330043674525759, \"cat\": \"E\"}, {\"y\": 9.989838641646115, \"y_pred\": 10.03868102132804, \"cat\": \"G\"}, {\"y\": 19.620114607026082, \"y_pred\": 20.04048466731067, \"cat\": \"D\"}, {\"y\": 0.8325653514777749, \"y_pred\": 0.9708463425199865, \"cat\": \"H\"}, {\"y\": 20.450543508333375, \"y_pred\": 20.107437824219065, \"cat\": \"C\"}, {\"y\": 10.191908658277823, \"y_pred\": 10.03868102132804, \"cat\": \"G\"}, {\"y\": 0.18686237796388827, \"y_pred\": 0.9330043674525759, \"cat\": \"E\"}, {\"y\": 9.315942243042837, \"y_pred\": 9.998147991658444, \"cat\": \"A\"}, {\"y\": 20.136675333676006, \"y_pred\": 19.958376458473605, \"cat\": \"B\"}, {\"y\": 19.871357373780054, \"y_pred\": 20.04048466731067, \"cat\": \"D\"}, {\"y\": 10.883285640375064, \"y_pred\": 10.048570910212892, \"cat\": \"F\"}, {\"y\": 10.094152629135706, \"y_pred\": 9.998147991658444, \"cat\": \"A\"}, {\"y\": 19.928085292821397, \"y_pred\": 20.107437824219065, \"cat\": \"C\"}, {\"y\": 20.580919613122262, \"y_pred\": 19.958376458473605, \"cat\": \"B\"}, {\"y\": 10.557467794566625, \"y_pred\": 10.048570910212892, \"cat\": \"F\"}, {\"y\": 1.3445483424974876, \"y_pred\": 0.9330043674525759, \"cat\": \"E\"}, {\"y\": 10.913073503686912, \"y_pred\": 9.998147991658444, \"cat\": \"A\"}, {\"y\": 20.331734525783997, \"y_pred\": 20.04048466731067, \"cat\": \"D\"}, {\"y\": 10.596760153469504, \"y_pred\": 10.048570910212892, \"cat\": \"F\"}, {\"y\": 1.841605766161091, \"y_pred\": 0.9708463425199865, \"cat\": \"H\"}, {\"y\": 1.6654196859626103, \"y_pred\": 0.9708463425199865, \"cat\": \"H\"}, {\"y\": 1.538965128169526, \"y_pred\": 0.9708463425199865, \"cat\": \"H\"}, {\"y\": 20.147787020091425, \"y_pred\": 20.107437824219065, \"cat\": \"C\"}, {\"y\": 19.093495033009834, \"y_pred\": 19.958376458473605, \"cat\": \"B\"}, {\"y\": 20.884326612679626, \"y_pred\": 19.958376458473605, \"cat\": \"B\"}, {\"y\": 10.273984841835778, \"y_pred\": 10.03868102132804, \"cat\": \"G\"}, {\"y\": 1.6237616761704605, \"y_pred\": 0.9708463425199865, \"cat\": \"H\"}, {\"y\": 10.223315078357695, \"y_pred\": 10.048570910212892, \"cat\": \"F\"}, {\"y\": 10.749198194416321, \"y_pred\": 10.048570910212892, \"cat\": \"F\"}, {\"y\": 9.595024350775823, \"y_pred\": 10.048570910212892, \"cat\": \"F\"}, {\"y\": 9.022819148735728, \"y_pred\": 10.03868102132804, \"cat\": \"G\"}, {\"y\": 10.870407460974766, \"y_pred\": 9.998147991658444, \"cat\": \"A\"}, {\"y\": 19.60070959299869, \"y_pred\": 20.107437824219065, \"cat\": \"C\"}, {\"y\": 1.8265494003120175, \"y_pred\": 0.9330043674525759, \"cat\": \"E\"}, {\"y\": 10.6864488821723, \"y_pred\": 10.03868102132804, \"cat\": \"G\"}, {\"y\": 9.288889142202446, \"y_pred\": 10.048570910212892, \"cat\": \"F\"}, {\"y\": 10.886890460116538, \"y_pred\": 9.998147991658444, \"cat\": \"A\"}, {\"y\": 9.481804920175957, \"y_pred\": 10.048570910212892, \"cat\": \"F\"}, {\"y\": 10.790922273094289, \"y_pred\": 10.048570910212892, \"cat\": \"F\"}, {\"y\": 10.249014064069804, \"y_pred\": 10.048570910212892, \"cat\": \"F\"}, {\"y\": 0.2862398749266559, \"y_pred\": 0.9330043674525759, \"cat\": \"E\"}, {\"y\": 20.636309130709957, \"y_pred\": 19.958376458473605, \"cat\": \"B\"}, {\"y\": 10.49512470115586, \"y_pred\": 10.048570910212892, \"cat\": \"F\"}, {\"y\": 19.2429301957, \"y_pred\": 19.958376458473605, \"cat\": \"B\"}, {\"y\": 9.60106182587026, \"y_pred\": 10.03868102132804, \"cat\": \"G\"}, {\"y\": 20.058046977811188, \"y_pred\": 19.958376458473605, \"cat\": \"B\"}, {\"y\": 1.4966330149465596, \"y_pred\": 0.9330043674525759, \"cat\": \"E\"}]}}, {\"mode\": \"vega-lite\"});\n",
       "</script>"
      ],
      "text/plain": [
       "alt.Chart(...)"
      ]
     },
     "execution_count": 21,
     "metadata": {},
     "output_type": "execute_result"
    }
   ],
   "source": [
    "create_scatter(source_oe)"
   ]
  },
  {
   "cell_type": "code",
   "execution_count": 22,
   "id": "10299f36-b685-4ab3-bc6e-1ce207894ec0",
   "metadata": {
    "execution": {
     "iopub.execute_input": "2022-03-17T14:31:16.701369Z",
     "iopub.status.busy": "2022-03-17T14:31:16.701253Z",
     "iopub.status.idle": "2022-03-17T14:31:16.739899Z",
     "shell.execute_reply": "2022-03-17T14:31:16.739366Z",
     "shell.execute_reply.started": "2022-03-17T14:31:16.701352Z"
    },
    "tags": []
   },
   "outputs": [
    {
     "data": {
      "image/svg+xml": [
       "<?xml version=\"1.0\" encoding=\"UTF-8\" standalone=\"no\"?>\n",
       "<!DOCTYPE svg PUBLIC \"-//W3C//DTD SVG 1.1//EN\"\n",
       " \"http://www.w3.org/Graphics/SVG/1.1/DTD/svg11.dtd\">\n",
       "<!-- Generated by graphviz version 2.49.1 (20211004.0028)\n",
       " -->\n",
       "<!-- Title: Tree Pages: 1 -->\n",
       "<svg width=\"872pt\" height=\"477pt\"\n",
       " viewBox=\"0.00 0.00 872.00 477.00\" xmlns=\"http://www.w3.org/2000/svg\" xmlns:xlink=\"http://www.w3.org/1999/xlink\">\n",
       "<g id=\"graph0\" class=\"graph\" transform=\"scale(1 1) rotate(0) translate(4 473)\">\n",
       "<title>Tree</title>\n",
       "<polygon fill=\"white\" stroke=\"transparent\" points=\"-4,4 -4,-473 868,-473 868,4 -4,4\"/>\n",
       "<!-- 0 -->\n",
       "<g id=\"node1\" class=\"node\">\n",
       "<title>0</title>\n",
       "<polygon fill=\"#f1bb94\" stroke=\"black\" points=\"478.5,-469 293.5,-469 293.5,-401 478.5,-401 478.5,-469\"/>\n",
       "<text text-anchor=\"middle\" x=\"386\" y=\"-453.8\" font-family=\"Helvetica,sans-Serif\" font-size=\"14.00\">ordinal_encoded &lt;= 3.5</text>\n",
       "<text text-anchor=\"middle\" x=\"386\" y=\"-438.8\" font-family=\"Helvetica,sans-Serif\" font-size=\"14.00\">squared_error = 58.08</text>\n",
       "<text text-anchor=\"middle\" x=\"386\" y=\"-423.8\" font-family=\"Helvetica,sans-Serif\" font-size=\"14.00\">samples = 800</text>\n",
       "<text text-anchor=\"middle\" x=\"386\" y=\"-408.8\" font-family=\"Helvetica,sans-Serif\" font-size=\"14.00\">value = 11.256</text>\n",
       "</g>\n",
       "<!-- 1 -->\n",
       "<g id=\"node2\" class=\"node\">\n",
       "<title>1</title>\n",
       "<polygon fill=\"#e99356\" stroke=\"black\" points=\"377.5,-365 192.5,-365 192.5,-297 377.5,-297 377.5,-365\"/>\n",
       "<text text-anchor=\"middle\" x=\"285\" y=\"-349.8\" font-family=\"Helvetica,sans-Serif\" font-size=\"14.00\">ordinal_encoded &lt;= 0.5</text>\n",
       "<text text-anchor=\"middle\" x=\"285\" y=\"-334.8\" font-family=\"Helvetica,sans-Serif\" font-size=\"14.00\">squared_error = 20.259</text>\n",
       "<text text-anchor=\"middle\" x=\"285\" y=\"-319.8\" font-family=\"Helvetica,sans-Serif\" font-size=\"14.00\">samples = 405</text>\n",
       "<text text-anchor=\"middle\" x=\"285\" y=\"-304.8\" font-family=\"Helvetica,sans-Serif\" font-size=\"14.00\">value = 17.309</text>\n",
       "</g>\n",
       "<!-- 0&#45;&gt;1 -->\n",
       "<g id=\"edge1\" class=\"edge\">\n",
       "<title>0&#45;&gt;1</title>\n",
       "<path fill=\"none\" stroke=\"black\" d=\"M353.21,-400.88C344.3,-391.89 334.55,-382.04 325.28,-372.68\"/>\n",
       "<polygon fill=\"black\" stroke=\"black\" points=\"327.5,-369.94 317.97,-365.3 322.52,-374.87 327.5,-369.94\"/>\n",
       "<text text-anchor=\"middle\" x=\"317.85\" y=\"-386.6\" font-family=\"Helvetica,sans-Serif\" font-size=\"14.00\">True</text>\n",
       "</g>\n",
       "<!-- 8 -->\n",
       "<g id=\"node9\" class=\"node\">\n",
       "<title>8</title>\n",
       "<polygon fill=\"#f9e4d4\" stroke=\"black\" points=\"580.5,-365 395.5,-365 395.5,-297 580.5,-297 580.5,-365\"/>\n",
       "<text text-anchor=\"middle\" x=\"488\" y=\"-349.8\" font-family=\"Helvetica,sans-Serif\" font-size=\"14.00\">ordinal_encoded &lt;= 6.5</text>\n",
       "<text text-anchor=\"middle\" x=\"488\" y=\"-334.8\" font-family=\"Helvetica,sans-Serif\" font-size=\"14.00\">squared_error = 20.782</text>\n",
       "<text text-anchor=\"middle\" x=\"488\" y=\"-319.8\" font-family=\"Helvetica,sans-Serif\" font-size=\"14.00\">samples = 395</text>\n",
       "<text text-anchor=\"middle\" x=\"488\" y=\"-304.8\" font-family=\"Helvetica,sans-Serif\" font-size=\"14.00\">value = 5.05</text>\n",
       "</g>\n",
       "<!-- 0&#45;&gt;8 -->\n",
       "<g id=\"edge8\" class=\"edge\">\n",
       "<title>0&#45;&gt;8</title>\n",
       "<path fill=\"none\" stroke=\"black\" d=\"M419.12,-400.88C428.2,-391.8 438.15,-381.85 447.6,-372.4\"/>\n",
       "<polygon fill=\"black\" stroke=\"black\" points=\"450.1,-374.85 454.7,-365.3 445.15,-369.9 450.1,-374.85\"/>\n",
       "<text text-anchor=\"middle\" x=\"454.7\" y=\"-386.6\" font-family=\"Helvetica,sans-Serif\" font-size=\"14.00\">False</text>\n",
       "</g>\n",
       "<!-- 2 -->\n",
       "<g id=\"node3\" class=\"node\">\n",
       "<title>2</title>\n",
       "<polygon fill=\"#f3c3a1\" stroke=\"black\" points=\"174,-253.5 0,-253.5 0,-200.5 174,-200.5 174,-253.5\"/>\n",
       "<text text-anchor=\"middle\" x=\"87\" y=\"-238.3\" font-family=\"Helvetica,sans-Serif\" font-size=\"14.00\">squared_error = 0.352</text>\n",
       "<text text-anchor=\"middle\" x=\"87\" y=\"-223.3\" font-family=\"Helvetica,sans-Serif\" font-size=\"14.00\">samples = 110</text>\n",
       "<text text-anchor=\"middle\" x=\"87\" y=\"-208.3\" font-family=\"Helvetica,sans-Serif\" font-size=\"14.00\">value = 9.998</text>\n",
       "</g>\n",
       "<!-- 1&#45;&gt;2 -->\n",
       "<g id=\"edge2\" class=\"edge\">\n",
       "<title>1&#45;&gt;2</title>\n",
       "<path fill=\"none\" stroke=\"black\" d=\"M220.72,-296.88C196.59,-284.46 169.32,-270.41 145.72,-258.25\"/>\n",
       "<polygon fill=\"black\" stroke=\"black\" points=\"147.03,-254.99 136.54,-253.52 143.83,-261.21 147.03,-254.99\"/>\n",
       "</g>\n",
       "<!-- 3 -->\n",
       "<g id=\"node4\" class=\"node\">\n",
       "<title>3</title>\n",
       "<polygon fill=\"#e5813a\" stroke=\"black\" points=\"377.5,-261 192.5,-261 192.5,-193 377.5,-193 377.5,-261\"/>\n",
       "<text text-anchor=\"middle\" x=\"285\" y=\"-245.8\" font-family=\"Helvetica,sans-Serif\" font-size=\"14.00\">ordinal_encoded &lt;= 1.5</text>\n",
       "<text text-anchor=\"middle\" x=\"285\" y=\"-230.8\" font-family=\"Helvetica,sans-Serif\" font-size=\"14.00\">squared_error = 0.324</text>\n",
       "<text text-anchor=\"middle\" x=\"285\" y=\"-215.8\" font-family=\"Helvetica,sans-Serif\" font-size=\"14.00\">samples = 295</text>\n",
       "<text text-anchor=\"middle\" x=\"285\" y=\"-200.8\" font-family=\"Helvetica,sans-Serif\" font-size=\"14.00\">value = 20.034</text>\n",
       "</g>\n",
       "<!-- 1&#45;&gt;3 -->\n",
       "<g id=\"edge3\" class=\"edge\">\n",
       "<title>1&#45;&gt;3</title>\n",
       "<path fill=\"none\" stroke=\"black\" d=\"M285,-296.88C285,-288.78 285,-279.98 285,-271.47\"/>\n",
       "<polygon fill=\"black\" stroke=\"black\" points=\"288.5,-271.3 285,-261.3 281.5,-271.3 288.5,-271.3\"/>\n",
       "</g>\n",
       "<!-- 4 -->\n",
       "<g id=\"node5\" class=\"node\">\n",
       "<title>4</title>\n",
       "<polygon fill=\"#e5823b\" stroke=\"black\" points=\"176.5,-149.5 11.5,-149.5 11.5,-96.5 176.5,-96.5 176.5,-149.5\"/>\n",
       "<text text-anchor=\"middle\" x=\"94\" y=\"-134.3\" font-family=\"Helvetica,sans-Serif\" font-size=\"14.00\">squared_error = 0.33</text>\n",
       "<text text-anchor=\"middle\" x=\"94\" y=\"-119.3\" font-family=\"Helvetica,sans-Serif\" font-size=\"14.00\">samples = 91</text>\n",
       "<text text-anchor=\"middle\" x=\"94\" y=\"-104.3\" font-family=\"Helvetica,sans-Serif\" font-size=\"14.00\">value = 19.958</text>\n",
       "</g>\n",
       "<!-- 3&#45;&gt;4 -->\n",
       "<g id=\"edge4\" class=\"edge\">\n",
       "<title>3&#45;&gt;4</title>\n",
       "<path fill=\"none\" stroke=\"black\" d=\"M222.99,-192.88C199.72,-180.46 173.41,-166.41 150.65,-154.25\"/>\n",
       "<polygon fill=\"black\" stroke=\"black\" points=\"152.26,-151.14 141.79,-149.52 148.96,-157.32 152.26,-151.14\"/>\n",
       "</g>\n",
       "<!-- 5 -->\n",
       "<g id=\"node6\" class=\"node\">\n",
       "<title>5</title>\n",
       "<polygon fill=\"#e58139\" stroke=\"black\" points=\"379.5,-157 194.5,-157 194.5,-89 379.5,-89 379.5,-157\"/>\n",
       "<text text-anchor=\"middle\" x=\"287\" y=\"-141.8\" font-family=\"Helvetica,sans-Serif\" font-size=\"14.00\">ordinal_encoded &lt;= 2.5</text>\n",
       "<text text-anchor=\"middle\" x=\"287\" y=\"-126.8\" font-family=\"Helvetica,sans-Serif\" font-size=\"14.00\">squared_error = 0.317</text>\n",
       "<text text-anchor=\"middle\" x=\"287\" y=\"-111.8\" font-family=\"Helvetica,sans-Serif\" font-size=\"14.00\">samples = 204</text>\n",
       "<text text-anchor=\"middle\" x=\"287\" y=\"-96.8\" font-family=\"Helvetica,sans-Serif\" font-size=\"14.00\">value = 20.068</text>\n",
       "</g>\n",
       "<!-- 3&#45;&gt;5 -->\n",
       "<g id=\"edge5\" class=\"edge\">\n",
       "<title>3&#45;&gt;5</title>\n",
       "<path fill=\"none\" stroke=\"black\" d=\"M285.65,-192.88C285.81,-184.78 285.98,-175.98 286.15,-167.47\"/>\n",
       "<polygon fill=\"black\" stroke=\"black\" points=\"289.65,-167.37 286.35,-157.3 282.65,-167.23 289.65,-167.37\"/>\n",
       "</g>\n",
       "<!-- 6 -->\n",
       "<g id=\"node7\" class=\"node\">\n",
       "<title>6</title>\n",
       "<polygon fill=\"#e58139\" stroke=\"black\" points=\"282,-53 108,-53 108,0 282,0 282,-53\"/>\n",
       "<text text-anchor=\"middle\" x=\"195\" y=\"-37.8\" font-family=\"Helvetica,sans-Serif\" font-size=\"14.00\">squared_error = 0.309</text>\n",
       "<text text-anchor=\"middle\" x=\"195\" y=\"-22.8\" font-family=\"Helvetica,sans-Serif\" font-size=\"14.00\">samples = 85</text>\n",
       "<text text-anchor=\"middle\" x=\"195\" y=\"-7.8\" font-family=\"Helvetica,sans-Serif\" font-size=\"14.00\">value = 20.107</text>\n",
       "</g>\n",
       "<!-- 5&#45;&gt;6 -->\n",
       "<g id=\"edge6\" class=\"edge\">\n",
       "<title>5&#45;&gt;6</title>\n",
       "<path fill=\"none\" stroke=\"black\" d=\"M254.82,-88.95C245.83,-79.71 236.06,-69.67 227.07,-60.44\"/>\n",
       "<polygon fill=\"black\" stroke=\"black\" points=\"229.54,-57.96 220.06,-53.24 224.52,-62.84 229.54,-57.96\"/>\n",
       "</g>\n",
       "<!-- 7 -->\n",
       "<g id=\"node8\" class=\"node\">\n",
       "<title>7</title>\n",
       "<polygon fill=\"#e5813a\" stroke=\"black\" points=\"474,-53 300,-53 300,0 474,0 474,-53\"/>\n",
       "<text text-anchor=\"middle\" x=\"387\" y=\"-37.8\" font-family=\"Helvetica,sans-Serif\" font-size=\"14.00\">squared_error = 0.322</text>\n",
       "<text text-anchor=\"middle\" x=\"387\" y=\"-22.8\" font-family=\"Helvetica,sans-Serif\" font-size=\"14.00\">samples = 119</text>\n",
       "<text text-anchor=\"middle\" x=\"387\" y=\"-7.8\" font-family=\"Helvetica,sans-Serif\" font-size=\"14.00\">value = 20.04</text>\n",
       "</g>\n",
       "<!-- 5&#45;&gt;7 -->\n",
       "<g id=\"edge7\" class=\"edge\">\n",
       "<title>5&#45;&gt;7</title>\n",
       "<path fill=\"none\" stroke=\"black\" d=\"M321.98,-88.95C331.85,-79.62 342.59,-69.47 352.43,-60.16\"/>\n",
       "<polygon fill=\"black\" stroke=\"black\" points=\"354.9,-62.65 359.77,-53.24 350.09,-57.56 354.9,-62.65\"/>\n",
       "</g>\n",
       "<!-- 9 -->\n",
       "<g id=\"node10\" class=\"node\">\n",
       "<title>9</title>\n",
       "<polygon fill=\"#f7d8c2\" stroke=\"black\" points=\"580.5,-261 395.5,-261 395.5,-193 580.5,-193 580.5,-261\"/>\n",
       "<text text-anchor=\"middle\" x=\"488\" y=\"-245.8\" font-family=\"Helvetica,sans-Serif\" font-size=\"14.00\">ordinal_encoded &lt;= 4.5</text>\n",
       "<text text-anchor=\"middle\" x=\"488\" y=\"-230.8\" font-family=\"Helvetica,sans-Serif\" font-size=\"14.00\">squared_error = 19.327</text>\n",
       "<text text-anchor=\"middle\" x=\"488\" y=\"-215.8\" font-family=\"Helvetica,sans-Serif\" font-size=\"14.00\">samples = 276</text>\n",
       "<text text-anchor=\"middle\" x=\"488\" y=\"-200.8\" font-family=\"Helvetica,sans-Serif\" font-size=\"14.00\">value = 6.809</text>\n",
       "</g>\n",
       "<!-- 8&#45;&gt;9 -->\n",
       "<g id=\"edge9\" class=\"edge\">\n",
       "<title>8&#45;&gt;9</title>\n",
       "<path fill=\"none\" stroke=\"black\" d=\"M488,-296.88C488,-288.78 488,-279.98 488,-271.47\"/>\n",
       "<polygon fill=\"black\" stroke=\"black\" points=\"491.5,-271.3 488,-261.3 484.5,-271.3 491.5,-271.3\"/>\n",
       "</g>\n",
       "<!-- 14 -->\n",
       "<g id=\"node15\" class=\"node\">\n",
       "<title>14</title>\n",
       "<polygon fill=\"#ffffff\" stroke=\"black\" points=\"773,-253.5 599,-253.5 599,-200.5 773,-200.5 773,-253.5\"/>\n",
       "<text text-anchor=\"middle\" x=\"686\" y=\"-238.3\" font-family=\"Helvetica,sans-Serif\" font-size=\"14.00\">squared_error = 0.346</text>\n",
       "<text text-anchor=\"middle\" x=\"686\" y=\"-223.3\" font-family=\"Helvetica,sans-Serif\" font-size=\"14.00\">samples = 119</text>\n",
       "<text text-anchor=\"middle\" x=\"686\" y=\"-208.3\" font-family=\"Helvetica,sans-Serif\" font-size=\"14.00\">value = 0.971</text>\n",
       "</g>\n",
       "<!-- 8&#45;&gt;14 -->\n",
       "<g id=\"edge14\" class=\"edge\">\n",
       "<title>8&#45;&gt;14</title>\n",
       "<path fill=\"none\" stroke=\"black\" d=\"M552.28,-296.88C576.41,-284.46 603.68,-270.41 627.28,-258.25\"/>\n",
       "<polygon fill=\"black\" stroke=\"black\" points=\"629.17,-261.21 636.46,-253.52 625.97,-254.99 629.17,-261.21\"/>\n",
       "</g>\n",
       "<!-- 10 -->\n",
       "<g id=\"node11\" class=\"node\">\n",
       "<title>10</title>\n",
       "<polygon fill=\"#ffffff\" stroke=\"black\" points=\"574,-149.5 400,-149.5 400,-96.5 574,-96.5 574,-149.5\"/>\n",
       "<text text-anchor=\"middle\" x=\"487\" y=\"-134.3\" font-family=\"Helvetica,sans-Serif\" font-size=\"14.00\">squared_error = 0.353</text>\n",
       "<text text-anchor=\"middle\" x=\"487\" y=\"-119.3\" font-family=\"Helvetica,sans-Serif\" font-size=\"14.00\">samples = 98</text>\n",
       "<text text-anchor=\"middle\" x=\"487\" y=\"-104.3\" font-family=\"Helvetica,sans-Serif\" font-size=\"14.00\">value = 0.933</text>\n",
       "</g>\n",
       "<!-- 9&#45;&gt;10 -->\n",
       "<g id=\"edge10\" class=\"edge\">\n",
       "<title>9&#45;&gt;10</title>\n",
       "<path fill=\"none\" stroke=\"black\" d=\"M487.68,-192.88C487.57,-182.33 487.46,-170.6 487.35,-159.85\"/>\n",
       "<polygon fill=\"black\" stroke=\"black\" points=\"490.85,-159.49 487.25,-149.52 483.85,-159.55 490.85,-159.49\"/>\n",
       "</g>\n",
       "<!-- 11 -->\n",
       "<g id=\"node12\" class=\"node\">\n",
       "<title>11</title>\n",
       "<polygon fill=\"#f3c3a1\" stroke=\"black\" points=\"777.5,-157 592.5,-157 592.5,-89 777.5,-89 777.5,-157\"/>\n",
       "<text text-anchor=\"middle\" x=\"685\" y=\"-141.8\" font-family=\"Helvetica,sans-Serif\" font-size=\"14.00\">ordinal_encoded &lt;= 5.5</text>\n",
       "<text text-anchor=\"middle\" x=\"685\" y=\"-126.8\" font-family=\"Helvetica,sans-Serif\" font-size=\"14.00\">squared_error = 0.302</text>\n",
       "<text text-anchor=\"middle\" x=\"685\" y=\"-111.8\" font-family=\"Helvetica,sans-Serif\" font-size=\"14.00\">samples = 178</text>\n",
       "<text text-anchor=\"middle\" x=\"685\" y=\"-96.8\" font-family=\"Helvetica,sans-Serif\" font-size=\"14.00\">value = 10.043</text>\n",
       "</g>\n",
       "<!-- 9&#45;&gt;11 -->\n",
       "<g id=\"edge11\" class=\"edge\">\n",
       "<title>9&#45;&gt;11</title>\n",
       "<path fill=\"none\" stroke=\"black\" d=\"M551.96,-192.88C571.15,-182.95 592.35,-171.97 612.08,-161.76\"/>\n",
       "<polygon fill=\"black\" stroke=\"black\" points=\"613.75,-164.83 621.02,-157.12 610.53,-158.61 613.75,-164.83\"/>\n",
       "</g>\n",
       "<!-- 12 -->\n",
       "<g id=\"node13\" class=\"node\">\n",
       "<title>12</title>\n",
       "<polygon fill=\"#f3c3a1\" stroke=\"black\" points=\"672,-53 498,-53 498,0 672,0 672,-53\"/>\n",
       "<text text-anchor=\"middle\" x=\"585\" y=\"-37.8\" font-family=\"Helvetica,sans-Serif\" font-size=\"14.00\">squared_error = 0.324</text>\n",
       "<text text-anchor=\"middle\" x=\"585\" y=\"-22.8\" font-family=\"Helvetica,sans-Serif\" font-size=\"14.00\">samples = 86</text>\n",
       "<text text-anchor=\"middle\" x=\"585\" y=\"-7.8\" font-family=\"Helvetica,sans-Serif\" font-size=\"14.00\">value = 10.049</text>\n",
       "</g>\n",
       "<!-- 11&#45;&gt;12 -->\n",
       "<g id=\"edge12\" class=\"edge\">\n",
       "<title>11&#45;&gt;12</title>\n",
       "<path fill=\"none\" stroke=\"black\" d=\"M650.02,-88.95C640.15,-79.62 629.41,-69.47 619.57,-60.16\"/>\n",
       "<polygon fill=\"black\" stroke=\"black\" points=\"621.91,-57.56 612.23,-53.24 617.1,-62.65 621.91,-57.56\"/>\n",
       "</g>\n",
       "<!-- 13 -->\n",
       "<g id=\"node14\" class=\"node\">\n",
       "<title>13</title>\n",
       "<polygon fill=\"#f3c3a1\" stroke=\"black\" points=\"864,-53 690,-53 690,0 864,0 864,-53\"/>\n",
       "<text text-anchor=\"middle\" x=\"777\" y=\"-37.8\" font-family=\"Helvetica,sans-Serif\" font-size=\"14.00\">squared_error = 0.281</text>\n",
       "<text text-anchor=\"middle\" x=\"777\" y=\"-22.8\" font-family=\"Helvetica,sans-Serif\" font-size=\"14.00\">samples = 92</text>\n",
       "<text text-anchor=\"middle\" x=\"777\" y=\"-7.8\" font-family=\"Helvetica,sans-Serif\" font-size=\"14.00\">value = 10.039</text>\n",
       "</g>\n",
       "<!-- 11&#45;&gt;13 -->\n",
       "<g id=\"edge13\" class=\"edge\">\n",
       "<title>11&#45;&gt;13</title>\n",
       "<path fill=\"none\" stroke=\"black\" d=\"M717.18,-88.95C726.17,-79.71 735.94,-69.67 744.93,-60.44\"/>\n",
       "<polygon fill=\"black\" stroke=\"black\" points=\"747.48,-62.84 751.94,-53.24 742.46,-57.96 747.48,-62.84\"/>\n",
       "</g>\n",
       "</g>\n",
       "</svg>\n"
      ],
      "text/plain": [
       "<graphviz.sources.Source at 0x7fa33070d7d0>"
      ]
     },
     "execution_count": 22,
     "metadata": {},
     "output_type": "execute_result"
    }
   ],
   "source": [
    "visualize_dec_tree(dec_tree)"
   ]
  },
  {
   "cell_type": "markdown",
   "id": "ed578947-5252-465c-9211-87e5660eea1f",
   "metadata": {
    "execution": {
     "iopub.execute_input": "2022-03-17T14:31:53.411538Z",
     "iopub.status.busy": "2022-03-17T14:31:53.410868Z",
     "iopub.status.idle": "2022-03-17T14:31:53.415314Z",
     "shell.execute_reply": "2022-03-17T14:31:53.414558Z",
     "shell.execute_reply.started": "2022-03-17T14:31:53.411491Z"
    },
    "tags": []
   },
   "source": [
    "#### Can we validate the plot?"
   ]
  },
  {
   "cell_type": "code",
   "execution_count": 46,
   "id": "098911df-4da1-4982-b6e6-53c16514cadc",
   "metadata": {
    "execution": {
     "iopub.execute_input": "2022-03-17T14:36:35.166433Z",
     "iopub.status.busy": "2022-03-17T14:36:35.166059Z",
     "iopub.status.idle": "2022-03-17T14:36:35.176535Z",
     "shell.execute_reply": "2022-03-17T14:36:35.175870Z",
     "shell.execute_reply.started": "2022-03-17T14:36:35.166381Z"
    },
    "tags": []
   },
   "outputs": [
    {
     "data": {
      "text/plain": [
       "17.30853932659782"
      ]
     },
     "execution_count": 46,
     "metadata": {},
     "output_type": "execute_result"
    }
   ],
   "source": [
    "colname = 'ordinal_encoded'\n",
    "split_val = 3.5\n",
    "\n",
    "y_train.loc[X_train[X_train[colname] <= split_val].index]['y'].mean()"
   ]
  },
  {
   "cell_type": "code",
   "execution_count": null,
   "id": "0738b9b9-6700-41ae-85e3-12d9fdee4f82",
   "metadata": {},
   "outputs": [],
   "source": [
    "def get_dec_tree_pred_simple(colname, split_val):\n",
    "    return y_train.loc[X_train[X_train[colname] <= split_val].index]['y'].mean()"
   ]
  },
  {
   "cell_type": "markdown",
   "id": "7d2b0d38-7dac-43f4-90c3-1f3a0dc4b8ce",
   "metadata": {
    "execution": {
     "iopub.execute_input": "2022-03-07T18:48:29.266995Z",
     "iopub.status.busy": "2022-03-07T18:48:29.266769Z",
     "iopub.status.idle": "2022-03-07T18:48:29.271581Z",
     "shell.execute_reply": "2022-03-07T18:48:29.270336Z",
     "shell.execute_reply.started": "2022-03-07T18:48:29.266974Z"
    },
    "tags": []
   },
   "source": [
    "### Check tradeoff"
   ]
  },
  {
   "cell_type": "code",
   "execution_count": 23,
   "id": "765151ac-adab-4723-b94f-b91b66477063",
   "metadata": {
    "execution": {
     "iopub.execute_input": "2022-03-17T14:31:16.740920Z",
     "iopub.status.busy": "2022-03-17T14:31:16.740707Z",
     "iopub.status.idle": "2022-03-17T14:31:16.860170Z",
     "shell.execute_reply": "2022-03-17T14:31:16.859485Z",
     "shell.execute_reply.started": "2022-03-17T14:31:16.740898Z"
    },
    "tags": []
   },
   "outputs": [],
   "source": [
    "rmses_oe = [dec_tree_rmse(params={\"max_depth\": i}, x_colnames=[x_colnames_oe])[0] for i in max_depths]"
   ]
  },
  {
   "cell_type": "code",
   "execution_count": 24,
   "id": "fa495e6e-c783-4d0a-ba6b-3defca4f1b12",
   "metadata": {
    "execution": {
     "iopub.execute_input": "2022-03-17T14:31:16.860934Z",
     "iopub.status.busy": "2022-03-17T14:31:16.860812Z",
     "iopub.status.idle": "2022-03-17T14:31:16.911656Z",
     "shell.execute_reply": "2022-03-17T14:31:16.911261Z",
     "shell.execute_reply.started": "2022-03-17T14:31:16.860918Z"
    },
    "tags": []
   },
   "outputs": [
    {
     "data": {
      "text/html": [
       "\n",
       "<div id=\"altair-viz-a316fbecd3414ba09ea638b208950317\"></div>\n",
       "<script type=\"text/javascript\">\n",
       "  var VEGA_DEBUG = (typeof VEGA_DEBUG == \"undefined\") ? {} : VEGA_DEBUG;\n",
       "  (function(spec, embedOpt){\n",
       "    let outputDiv = document.currentScript.previousElementSibling;\n",
       "    if (outputDiv.id !== \"altair-viz-a316fbecd3414ba09ea638b208950317\") {\n",
       "      outputDiv = document.getElementById(\"altair-viz-a316fbecd3414ba09ea638b208950317\");\n",
       "    }\n",
       "    const paths = {\n",
       "      \"vega\": \"https://cdn.jsdelivr.net/npm//vega@5?noext\",\n",
       "      \"vega-lib\": \"https://cdn.jsdelivr.net/npm//vega-lib?noext\",\n",
       "      \"vega-lite\": \"https://cdn.jsdelivr.net/npm//vega-lite@4.17.0?noext\",\n",
       "      \"vega-embed\": \"https://cdn.jsdelivr.net/npm//vega-embed@6?noext\",\n",
       "    };\n",
       "\n",
       "    function maybeLoadScript(lib, version) {\n",
       "      var key = `${lib.replace(\"-\", \"\")}_version`;\n",
       "      return (VEGA_DEBUG[key] == version) ?\n",
       "        Promise.resolve(paths[lib]) :\n",
       "        new Promise(function(resolve, reject) {\n",
       "          var s = document.createElement('script');\n",
       "          document.getElementsByTagName(\"head\")[0].appendChild(s);\n",
       "          s.async = true;\n",
       "          s.onload = () => {\n",
       "            VEGA_DEBUG[key] = version;\n",
       "            return resolve(paths[lib]);\n",
       "          };\n",
       "          s.onerror = () => reject(`Error loading script: ${paths[lib]}`);\n",
       "          s.src = paths[lib];\n",
       "        });\n",
       "    }\n",
       "\n",
       "    function showError(err) {\n",
       "      outputDiv.innerHTML = `<div class=\"error\" style=\"color:red;\">${err}</div>`;\n",
       "      throw err;\n",
       "    }\n",
       "\n",
       "    function displayChart(vegaEmbed) {\n",
       "      vegaEmbed(outputDiv, spec, embedOpt)\n",
       "        .catch(err => showError(`Javascript Error: ${err.message}<br>This usually means there's a typo in your chart specification. See the javascript console for the full traceback.`));\n",
       "    }\n",
       "\n",
       "    if(typeof define === \"function\" && define.amd) {\n",
       "      requirejs.config({paths});\n",
       "      require([\"vega-embed\"], displayChart, err => showError(`Error loading script: ${err.message}`));\n",
       "    } else {\n",
       "      maybeLoadScript(\"vega\", \"5\")\n",
       "        .then(() => maybeLoadScript(\"vega-lite\", \"4.17.0\"))\n",
       "        .then(() => maybeLoadScript(\"vega-embed\", \"6\"))\n",
       "        .catch(showError)\n",
       "        .then(() => displayChart(vegaEmbed));\n",
       "    }\n",
       "  })({\"config\": {\"view\": {\"continuousWidth\": 400, \"continuousHeight\": 300}}, \"data\": {\"name\": \"data-14f7c671fb1d5388ce6308ceebc2d6bc\"}, \"mark\": \"line\", \"encoding\": {\"x\": {\"field\": \"max_depth\", \"type\": \"quantitative\"}, \"y\": {\"field\": \"rmse\", \"type\": \"quantitative\"}}, \"height\": 500, \"selection\": {\"selector002\": {\"type\": \"interval\", \"bind\": \"scales\", \"encodings\": [\"x\", \"y\"]}}, \"width\": 800, \"$schema\": \"https://vega.github.io/schema/vega-lite/v4.17.0.json\", \"datasets\": {\"data-14f7c671fb1d5388ce6308ceebc2d6bc\": [{\"max_depth\": 1, \"rmse\": 4.536983158402149}, {\"max_depth\": 2, \"rmse\": 2.6732142141434223}, {\"max_depth\": 3, \"rmse\": 0.576603596257136}, {\"max_depth\": 4, \"rmse\": 0.5741301892011212}, {\"max_depth\": 5, \"rmse\": 0.5741301892011212}, {\"max_depth\": 6, \"rmse\": 0.5741301892011212}, {\"max_depth\": 7, \"rmse\": 0.5741301892011212}, {\"max_depth\": 8, \"rmse\": 0.5741301892011212}, {\"max_depth\": 9, \"rmse\": 0.5741301892011212}, {\"max_depth\": 10, \"rmse\": 0.5741301892011212}, {\"max_depth\": 11, \"rmse\": 0.5741301892011212}, {\"max_depth\": 12, \"rmse\": 0.5741301892011212}, {\"max_depth\": 13, \"rmse\": 0.5741301892011212}, {\"max_depth\": 14, \"rmse\": 0.5741301892011212}, {\"max_depth\": 15, \"rmse\": 0.5741301892011212}, {\"max_depth\": 16, \"rmse\": 0.5741301892011212}, {\"max_depth\": 17, \"rmse\": 0.5741301892011212}, {\"max_depth\": 18, \"rmse\": 0.5741301892011212}, {\"max_depth\": 19, \"rmse\": 0.5741301892011212}, {\"max_depth\": 20, \"rmse\": 0.5741301892011212}, {\"max_depth\": 21, \"rmse\": 0.5741301892011212}, {\"max_depth\": 22, \"rmse\": 0.5741301892011212}, {\"max_depth\": 23, \"rmse\": 0.5741301892011212}, {\"max_depth\": 24, \"rmse\": 0.5741301892011212}, {\"max_depth\": 25, \"rmse\": 0.5741301892011212}, {\"max_depth\": 26, \"rmse\": 0.5741301892011212}, {\"max_depth\": 27, \"rmse\": 0.5741301892011212}, {\"max_depth\": 28, \"rmse\": 0.5741301892011212}, {\"max_depth\": 29, \"rmse\": 0.5741301892011212}]}}, {\"mode\": \"vega-lite\"});\n",
       "</script>"
      ],
      "text/plain": [
       "alt.Chart(...)"
      ]
     },
     "execution_count": 24,
     "metadata": {},
     "output_type": "execute_result"
    }
   ],
   "source": [
    "plot_max_depth_rmse(max_depths, rmses_oe)"
   ]
  },
  {
   "cell_type": "markdown",
   "id": "67f8e7b2-e87e-49b8-aa60-57b2f02ad6f9",
   "metadata": {},
   "source": [
    "## One-hot encoding"
   ]
  },
  {
   "cell_type": "code",
   "execution_count": 25,
   "id": "42cf0782-8f7f-496c-89bc-ef708dd5b48e",
   "metadata": {
    "execution": {
     "iopub.execute_input": "2022-03-17T14:31:16.912378Z",
     "iopub.status.busy": "2022-03-17T14:31:16.912255Z",
     "iopub.status.idle": "2022-03-17T14:31:16.915014Z",
     "shell.execute_reply": "2022-03-17T14:31:16.914615Z",
     "shell.execute_reply.started": "2022-03-17T14:31:16.912362Z"
    },
    "tags": []
   },
   "outputs": [],
   "source": [
    "oh = OneHotEncoder(drop='first', sparse=False, dtype=np.int8)"
   ]
  },
  {
   "cell_type": "code",
   "execution_count": 26,
   "id": "afffe626-d3a6-48cc-b5da-18aa7b7a1934",
   "metadata": {
    "execution": {
     "iopub.execute_input": "2022-03-17T14:31:16.915996Z",
     "iopub.status.busy": "2022-03-17T14:31:16.915613Z",
     "iopub.status.idle": "2022-03-17T14:31:16.923711Z",
     "shell.execute_reply": "2022-03-17T14:31:16.923324Z",
     "shell.execute_reply.started": "2022-03-17T14:31:16.915971Z"
    },
    "tags": []
   },
   "outputs": [],
   "source": [
    "X_train[oh.categories_[0][1:]] = oh.fit_transform(X_train['cat'].values.reshape(-1, 1))\n",
    "x_colnames_oh = oh.categories_[0][1:]\n",
    "\n",
    "X_test[x_colnames_oh] = oh.transform(X_test['cat'].values.reshape(-1, 1))"
   ]
  },
  {
   "cell_type": "markdown",
   "id": "c2a7fada-0382-40b5-a4d3-42dcfc8d953b",
   "metadata": {},
   "source": [
    "### Check one tree"
   ]
  },
  {
   "cell_type": "code",
   "execution_count": 27,
   "id": "b27b6a6a-5d0d-45e5-ab94-d24cda4a9878",
   "metadata": {
    "execution": {
     "iopub.execute_input": "2022-03-17T14:31:16.924425Z",
     "iopub.status.busy": "2022-03-17T14:31:16.924303Z",
     "iopub.status.idle": "2022-03-17T14:31:16.932981Z",
     "shell.execute_reply": "2022-03-17T14:31:16.932482Z",
     "shell.execute_reply.started": "2022-03-17T14:31:16.924409Z"
    },
    "tags": []
   },
   "outputs": [
    {
     "name": "stderr",
     "output_type": "stream",
     "text": [
      "/opt/conda/lib/python3.7/site-packages/sklearn/utils/validation.py:1692: FutureWarning: Feature names only support names that are all strings. Got feature names with dtypes: ['str_']. An error will be raised in 1.2.\n",
      "  FutureWarning,\n",
      "/opt/conda/lib/python3.7/site-packages/sklearn/utils/validation.py:1692: FutureWarning: Feature names only support names that are all strings. Got feature names with dtypes: ['str_']. An error will be raised in 1.2.\n",
      "  FutureWarning,\n"
     ]
    }
   ],
   "source": [
    "rmse, source_oh, dec_tree = dec_tree_rmse(\n",
    "    params={\"max_depth\": 5}, x_colnames=x_colnames_oh\n",
    ")"
   ]
  },
  {
   "cell_type": "code",
   "execution_count": 28,
   "id": "62a84e1d-1158-487c-b1b5-42b098a86eda",
   "metadata": {
    "execution": {
     "iopub.execute_input": "2022-03-17T14:31:16.933698Z",
     "iopub.status.busy": "2022-03-17T14:31:16.933577Z",
     "iopub.status.idle": "2022-03-17T14:31:16.936811Z",
     "shell.execute_reply": "2022-03-17T14:31:16.936422Z",
     "shell.execute_reply.started": "2022-03-17T14:31:16.933682Z"
    },
    "tags": []
   },
   "outputs": [
    {
     "data": {
      "text/plain": [
       "0.5730477359624664"
      ]
     },
     "execution_count": 28,
     "metadata": {},
     "output_type": "execute_result"
    }
   ],
   "source": [
    "rmse"
   ]
  },
  {
   "cell_type": "code",
   "execution_count": 29,
   "id": "adb3671a-1936-41aa-8e57-add9612c5c13",
   "metadata": {
    "execution": {
     "iopub.execute_input": "2022-03-17T14:31:16.937710Z",
     "iopub.status.busy": "2022-03-17T14:31:16.937377Z",
     "iopub.status.idle": "2022-03-17T14:31:16.998921Z",
     "shell.execute_reply": "2022-03-17T14:31:16.998253Z",
     "shell.execute_reply.started": "2022-03-17T14:31:16.937690Z"
    },
    "tags": []
   },
   "outputs": [
    {
     "data": {
      "text/html": [
       "\n",
       "<div id=\"altair-viz-5871aad19a4d47cbad2ad65cafb24ab2\"></div>\n",
       "<script type=\"text/javascript\">\n",
       "  var VEGA_DEBUG = (typeof VEGA_DEBUG == \"undefined\") ? {} : VEGA_DEBUG;\n",
       "  (function(spec, embedOpt){\n",
       "    let outputDiv = document.currentScript.previousElementSibling;\n",
       "    if (outputDiv.id !== \"altair-viz-5871aad19a4d47cbad2ad65cafb24ab2\") {\n",
       "      outputDiv = document.getElementById(\"altair-viz-5871aad19a4d47cbad2ad65cafb24ab2\");\n",
       "    }\n",
       "    const paths = {\n",
       "      \"vega\": \"https://cdn.jsdelivr.net/npm//vega@5?noext\",\n",
       "      \"vega-lib\": \"https://cdn.jsdelivr.net/npm//vega-lib?noext\",\n",
       "      \"vega-lite\": \"https://cdn.jsdelivr.net/npm//vega-lite@4.17.0?noext\",\n",
       "      \"vega-embed\": \"https://cdn.jsdelivr.net/npm//vega-embed@6?noext\",\n",
       "    };\n",
       "\n",
       "    function maybeLoadScript(lib, version) {\n",
       "      var key = `${lib.replace(\"-\", \"\")}_version`;\n",
       "      return (VEGA_DEBUG[key] == version) ?\n",
       "        Promise.resolve(paths[lib]) :\n",
       "        new Promise(function(resolve, reject) {\n",
       "          var s = document.createElement('script');\n",
       "          document.getElementsByTagName(\"head\")[0].appendChild(s);\n",
       "          s.async = true;\n",
       "          s.onload = () => {\n",
       "            VEGA_DEBUG[key] = version;\n",
       "            return resolve(paths[lib]);\n",
       "          };\n",
       "          s.onerror = () => reject(`Error loading script: ${paths[lib]}`);\n",
       "          s.src = paths[lib];\n",
       "        });\n",
       "    }\n",
       "\n",
       "    function showError(err) {\n",
       "      outputDiv.innerHTML = `<div class=\"error\" style=\"color:red;\">${err}</div>`;\n",
       "      throw err;\n",
       "    }\n",
       "\n",
       "    function displayChart(vegaEmbed) {\n",
       "      vegaEmbed(outputDiv, spec, embedOpt)\n",
       "        .catch(err => showError(`Javascript Error: ${err.message}<br>This usually means there's a typo in your chart specification. See the javascript console for the full traceback.`));\n",
       "    }\n",
       "\n",
       "    if(typeof define === \"function\" && define.amd) {\n",
       "      requirejs.config({paths});\n",
       "      require([\"vega-embed\"], displayChart, err => showError(`Error loading script: ${err.message}`));\n",
       "    } else {\n",
       "      maybeLoadScript(\"vega\", \"5\")\n",
       "        .then(() => maybeLoadScript(\"vega-lite\", \"4.17.0\"))\n",
       "        .then(() => maybeLoadScript(\"vega-embed\", \"6\"))\n",
       "        .catch(showError)\n",
       "        .then(() => displayChart(vegaEmbed));\n",
       "    }\n",
       "  })({\"config\": {\"view\": {\"continuousWidth\": 400, \"continuousHeight\": 300}}, \"data\": {\"name\": \"data-08c5a504276145141b38b05bd4243908\"}, \"mark\": {\"type\": \"circle\", \"size\": 60}, \"encoding\": {\"color\": {\"field\": \"cat\", \"type\": \"nominal\"}, \"tooltip\": {\"field\": \"cat\", \"type\": \"nominal\"}, \"x\": {\"field\": \"y\", \"scale\": {\"domain\": [-1.9794411835276828, 22.982521930208183]}, \"type\": \"quantitative\"}, \"y\": {\"field\": \"y_pred\", \"scale\": {\"domain\": [-1.9794411835276828, 22.982521930208183]}, \"type\": \"quantitative\"}}, \"height\": 500, \"selection\": {\"selector003\": {\"type\": \"interval\", \"bind\": \"scales\", \"encodings\": [\"x\", \"y\"]}}, \"width\": 800, \"$schema\": \"https://vega.github.io/schema/vega-lite/v4.17.0.json\", \"datasets\": {\"data-08c5a504276145141b38b05bd4243908\": [{\"y\": 20.228416299539152, \"y_pred\": 20.040484667310665, \"cat\": \"D\"}, {\"y\": 10.755738391014326, \"y_pred\": 10.026152886537897, \"cat\": \"G\"}, {\"y\": 1.2432130484037138, \"y_pred\": 0.9330043674525751, \"cat\": \"E\"}, {\"y\": 19.868955106712367, \"y_pred\": 20.040484667310665, \"cat\": \"D\"}, {\"y\": 20.538461585703196, \"y_pred\": 20.10743782421907, \"cat\": \"C\"}, {\"y\": 20.474141014893693, \"y_pred\": 20.10743782421907, \"cat\": \"C\"}, {\"y\": 19.821414196693382, \"y_pred\": 19.958376458473605, \"cat\": \"B\"}, {\"y\": 9.662920809400063, \"y_pred\": 10.026152886537897, \"cat\": \"F\"}, {\"y\": 19.01624207878327, \"y_pred\": 20.040484667310665, \"cat\": \"D\"}, {\"y\": 9.4365106809915, \"y_pred\": 10.026152886537897, \"cat\": \"A\"}, {\"y\": 10.460074057562416, \"y_pred\": 10.026152886537897, \"cat\": \"G\"}, {\"y\": 20.97326047492774, \"y_pred\": 20.10743782421907, \"cat\": \"C\"}, {\"y\": 10.082170109036579, \"y_pred\": 10.026152886537897, \"cat\": \"F\"}, {\"y\": 19.13096385714167, \"y_pred\": 20.040484667310665, \"cat\": \"D\"}, {\"y\": 9.523098717904361, \"y_pred\": 10.026152886537897, \"cat\": \"F\"}, {\"y\": 10.908896232329443, \"y_pred\": 10.026152886537897, \"cat\": \"A\"}, {\"y\": 0.2179821907448387, \"y_pred\": 0.9330043674525751, \"cat\": \"E\"}, {\"y\": 9.89093741819538, \"y_pred\": 10.026152886537897, \"cat\": \"G\"}, {\"y\": 10.612990876822685, \"y_pred\": 10.026152886537897, \"cat\": \"F\"}, {\"y\": 10.316897137108278, \"y_pred\": 10.026152886537897, \"cat\": \"A\"}, {\"y\": 10.325942869800159, \"y_pred\": 10.026152886537897, \"cat\": \"G\"}, {\"y\": 20.236473629283257, \"y_pred\": 19.958376458473605, \"cat\": \"B\"}, {\"y\": 9.181147187272716, \"y_pred\": 10.026152886537897, \"cat\": \"F\"}, {\"y\": 20.54925671257121, \"y_pred\": 20.10743782421907, \"cat\": \"C\"}, {\"y\": 9.78656044848627, \"y_pred\": 10.026152886537897, \"cat\": \"G\"}, {\"y\": 9.86692524750399, \"y_pred\": 10.026152886537897, \"cat\": \"G\"}, {\"y\": 19.591710000938363, \"y_pred\": 19.958376458473605, \"cat\": \"B\"}, {\"y\": 20.07519786429598, \"y_pred\": 19.958376458473605, \"cat\": \"B\"}, {\"y\": 20.041411085955087, \"y_pred\": 19.958376458473605, \"cat\": \"B\"}, {\"y\": 10.156035956904987, \"y_pred\": 10.026152886537897, \"cat\": \"G\"}, {\"y\": 9.097043735555156, \"y_pred\": 10.026152886537897, \"cat\": \"G\"}, {\"y\": 9.3177724580608, \"y_pred\": 10.026152886537897, \"cat\": \"G\"}, {\"y\": 20.302266690788453, \"y_pred\": 20.10743782421907, \"cat\": \"C\"}, {\"y\": 20.76128988864241, \"y_pred\": 20.040484667310665, \"cat\": \"D\"}, {\"y\": 9.38616388695737, \"y_pred\": 10.026152886537897, \"cat\": \"G\"}, {\"y\": 1.645062937862539, \"y_pred\": 0.9330043674525751, \"cat\": \"E\"}, {\"y\": 9.937701269282242, \"y_pred\": 10.026152886537897, \"cat\": \"G\"}, {\"y\": 20.01821662604171, \"y_pred\": 19.958376458473605, \"cat\": \"B\"}, {\"y\": 19.352797059528605, \"y_pred\": 20.10743782421907, \"cat\": \"C\"}, {\"y\": 19.795429300714783, \"y_pred\": 20.040484667310665, \"cat\": \"D\"}, {\"y\": 10.552874292238542, \"y_pred\": 10.026152886537897, \"cat\": \"A\"}, {\"y\": 9.392935412362524, \"y_pred\": 10.026152886537897, \"cat\": \"G\"}, {\"y\": 1.7025444545048969, \"y_pred\": 0.9330043674525751, \"cat\": \"E\"}, {\"y\": 0.7546517916611835, \"y_pred\": 0.9708463425199862, \"cat\": \"H\"}, {\"y\": 10.582607600458585, \"y_pred\": 10.026152886537897, \"cat\": \"A\"}, {\"y\": 9.70717552497549, \"y_pred\": 10.026152886537897, \"cat\": \"G\"}, {\"y\": 9.251471947298734, \"y_pred\": 10.026152886537897, \"cat\": \"G\"}, {\"y\": 20.982521930208183, \"y_pred\": 20.040484667310665, \"cat\": \"D\"}, {\"y\": 0.2574708086269786, \"y_pred\": 0.9708463425199862, \"cat\": \"H\"}, {\"y\": 19.367806703011105, \"y_pred\": 19.958376458473605, \"cat\": \"B\"}, {\"y\": 9.911765027787183, \"y_pred\": 10.026152886537897, \"cat\": \"G\"}, {\"y\": 19.051002957637987, \"y_pred\": 20.040484667310665, \"cat\": \"D\"}, {\"y\": 1.1781482404151336, \"y_pred\": 0.9330043674525751, \"cat\": \"E\"}, {\"y\": 10.501643046951886, \"y_pred\": 10.026152886537897, \"cat\": \"A\"}, {\"y\": 20.5910444506198, \"y_pred\": 20.10743782421907, \"cat\": \"C\"}, {\"y\": 9.449264909072177, \"y_pred\": 10.026152886537897, \"cat\": \"F\"}, {\"y\": 19.774657647883217, \"y_pred\": 19.958376458473605, \"cat\": \"B\"}, {\"y\": 10.496505501359266, \"y_pred\": 10.026152886537897, \"cat\": \"A\"}, {\"y\": 0.9706386487009666, \"y_pred\": 0.9708463425199862, \"cat\": \"H\"}, {\"y\": 9.320856994720664, \"y_pred\": 10.026152886537897, \"cat\": \"G\"}, {\"y\": 9.815591064810047, \"y_pred\": 10.026152886537897, \"cat\": \"G\"}, {\"y\": 20.569978462272605, \"y_pred\": 20.10743782421907, \"cat\": \"C\"}, {\"y\": 0.2211748308876127, \"y_pred\": 0.9708463425199862, \"cat\": \"H\"}, {\"y\": 19.7698121791174, \"y_pred\": 20.10743782421907, \"cat\": \"C\"}, {\"y\": 9.177430240803817, \"y_pred\": 10.026152886537897, \"cat\": \"G\"}, {\"y\": 20.080440735491518, \"y_pred\": 20.10743782421907, \"cat\": \"C\"}, {\"y\": 9.420307640579484, \"y_pred\": 10.026152886537897, \"cat\": \"A\"}, {\"y\": 1.889325138913303, \"y_pred\": 0.9708463425199862, \"cat\": \"H\"}, {\"y\": 0.5199605204499211, \"y_pred\": 0.9708463425199862, \"cat\": \"H\"}, {\"y\": 10.081037479192918, \"y_pred\": 10.026152886537897, \"cat\": \"F\"}, {\"y\": 20.934915917288745, \"y_pred\": 20.040484667310665, \"cat\": \"D\"}, {\"y\": 10.568579002023586, \"y_pred\": 10.026152886537897, \"cat\": \"F\"}, {\"y\": 20.536243901195366, \"y_pred\": 19.958376458473605, \"cat\": \"B\"}, {\"y\": 20.002148292390892, \"y_pred\": 19.958376458473605, \"cat\": \"B\"}, {\"y\": 19.4492677540698, \"y_pred\": 20.040484667310665, \"cat\": \"D\"}, {\"y\": 20.387943852803918, \"y_pred\": 19.958376458473605, \"cat\": \"B\"}, {\"y\": 20.371793506832503, \"y_pred\": 19.958376458473605, \"cat\": \"B\"}, {\"y\": 0.8445923754981017, \"y_pred\": 0.9330043674525751, \"cat\": \"E\"}, {\"y\": 20.664560707868276, \"y_pred\": 20.040484667310665, \"cat\": \"D\"}, {\"y\": 9.70154773991372, \"y_pred\": 10.026152886537897, \"cat\": \"A\"}, {\"y\": 19.675060520894256, \"y_pred\": 20.040484667310665, \"cat\": \"D\"}, {\"y\": 9.547647267061583, \"y_pred\": 10.026152886537897, \"cat\": \"G\"}, {\"y\": 10.845264624827177, \"y_pred\": 10.026152886537897, \"cat\": \"A\"}, {\"y\": 10.837115603212512, \"y_pred\": 10.026152886537897, \"cat\": \"F\"}, {\"y\": 10.501803489009719, \"y_pred\": 10.026152886537897, \"cat\": \"G\"}, {\"y\": 9.860913668382372, \"y_pred\": 10.026152886537897, \"cat\": \"F\"}, {\"y\": 20.251710117406333, \"y_pred\": 19.958376458473605, \"cat\": \"B\"}, {\"y\": 9.819947826883105, \"y_pred\": 10.026152886537897, \"cat\": \"F\"}, {\"y\": 0.7698892937521575, \"y_pred\": 0.9708463425199862, \"cat\": \"H\"}, {\"y\": 0.020558816472317165, \"y_pred\": 0.9708463425199862, \"cat\": \"H\"}, {\"y\": 10.356421735569263, \"y_pred\": 10.026152886537897, \"cat\": \"A\"}, {\"y\": 10.198900021530353, \"y_pred\": 10.026152886537897, \"cat\": \"A\"}, {\"y\": 19.40913956996592, \"y_pred\": 20.040484667310665, \"cat\": \"D\"}, {\"y\": 19.724035086471954, \"y_pred\": 20.10743782421907, \"cat\": \"C\"}, {\"y\": 19.479627180379374, \"y_pred\": 19.958376458473605, \"cat\": \"B\"}, {\"y\": 19.788288187936672, \"y_pred\": 19.958376458473605, \"cat\": \"B\"}, {\"y\": 10.901648813065501, \"y_pred\": 10.026152886537897, \"cat\": \"G\"}, {\"y\": 19.05919361690789, \"y_pred\": 20.040484667310665, \"cat\": \"D\"}, {\"y\": 19.887634252832722, \"y_pred\": 20.040484667310665, \"cat\": \"D\"}, {\"y\": 10.331867714362367, \"y_pred\": 10.026152886537897, \"cat\": \"G\"}, {\"y\": 1.632072470837196, \"y_pred\": 0.9708463425199862, \"cat\": \"H\"}, {\"y\": 0.8008261793916356, \"y_pred\": 0.9330043674525751, \"cat\": \"E\"}, {\"y\": 19.450399671045755, \"y_pred\": 20.040484667310665, \"cat\": \"D\"}, {\"y\": 19.445313958368846, \"y_pred\": 19.958376458473605, \"cat\": \"B\"}, {\"y\": 19.36397961536031, \"y_pred\": 19.958376458473605, \"cat\": \"B\"}, {\"y\": 19.005857114971327, \"y_pred\": 20.040484667310665, \"cat\": \"D\"}, {\"y\": 20.631251920884424, \"y_pred\": 19.958376458473605, \"cat\": \"B\"}, {\"y\": 20.788540590171998, \"y_pred\": 19.958376458473605, \"cat\": \"B\"}, {\"y\": 10.37348086395918, \"y_pred\": 10.026152886537897, \"cat\": \"F\"}, {\"y\": 0.3114493412498285, \"y_pred\": 0.9330043674525751, \"cat\": \"E\"}, {\"y\": 9.900550305570135, \"y_pred\": 10.026152886537897, \"cat\": \"A\"}, {\"y\": 19.4323555603462, \"y_pred\": 20.040484667310665, \"cat\": \"D\"}, {\"y\": 0.4061822252091054, \"y_pred\": 0.9330043674525751, \"cat\": \"E\"}, {\"y\": 9.13632958872706, \"y_pred\": 10.026152886537897, \"cat\": \"A\"}, {\"y\": 9.196513948124784, \"y_pred\": 10.026152886537897, \"cat\": \"A\"}, {\"y\": 0.5129022239778607, \"y_pred\": 0.9330043674525751, \"cat\": \"E\"}, {\"y\": 9.782598794671504, \"y_pred\": 10.026152886537897, \"cat\": \"A\"}, {\"y\": 9.219065636975595, \"y_pred\": 10.026152886537897, \"cat\": \"G\"}, {\"y\": 9.011159801252344, \"y_pred\": 10.026152886537897, \"cat\": \"A\"}, {\"y\": 0.18398911048230837, \"y_pred\": 0.9330043674525751, \"cat\": \"E\"}, {\"y\": 9.636517254035853, \"y_pred\": 10.026152886537897, \"cat\": \"G\"}, {\"y\": 0.8961868190560538, \"y_pred\": 0.9708463425199862, \"cat\": \"H\"}, {\"y\": 9.087728389616622, \"y_pred\": 10.026152886537897, \"cat\": \"F\"}, {\"y\": 10.457560418617014, \"y_pred\": 10.026152886537897, \"cat\": \"F\"}, {\"y\": 19.238450547697404, \"y_pred\": 20.040484667310665, \"cat\": \"D\"}, {\"y\": 20.817597053137046, \"y_pred\": 20.040484667310665, \"cat\": \"D\"}, {\"y\": 1.7218216345339639, \"y_pred\": 0.9708463425199862, \"cat\": \"H\"}, {\"y\": 1.7939775901506974, \"y_pred\": 0.9708463425199862, \"cat\": \"H\"}, {\"y\": 10.226566238928287, \"y_pred\": 10.026152886537897, \"cat\": \"F\"}, {\"y\": 9.729579374047034, \"y_pred\": 10.026152886537897, \"cat\": \"A\"}, {\"y\": 19.16984650853948, \"y_pred\": 20.040484667310665, \"cat\": \"D\"}, {\"y\": 0.6915194704097589, \"y_pred\": 0.9330043674525751, \"cat\": \"E\"}, {\"y\": 10.10244759996278, \"y_pred\": 10.026152886537897, \"cat\": \"G\"}, {\"y\": 10.277745962605486, \"y_pred\": 10.026152886537897, \"cat\": \"A\"}, {\"y\": 9.364544118392976, \"y_pred\": 10.026152886537897, \"cat\": \"F\"}, {\"y\": 9.62332958876482, \"y_pred\": 10.026152886537897, \"cat\": \"G\"}, {\"y\": 10.183985975651991, \"y_pred\": 10.026152886537897, \"cat\": \"A\"}, {\"y\": 20.296691561037523, \"y_pred\": 19.958376458473605, \"cat\": \"B\"}, {\"y\": 19.128728929671492, \"y_pred\": 20.10743782421907, \"cat\": \"C\"}, {\"y\": 1.4118762875896147, \"y_pred\": 0.9330043674525751, \"cat\": \"E\"}, {\"y\": 0.28637658846515257, \"y_pred\": 0.9330043674525751, \"cat\": \"E\"}, {\"y\": 9.284576074584002, \"y_pred\": 10.026152886537897, \"cat\": \"G\"}, {\"y\": 19.61757777297641, \"y_pred\": 20.040484667310665, \"cat\": \"D\"}, {\"y\": 19.327369580074205, \"y_pred\": 19.958376458473605, \"cat\": \"B\"}, {\"y\": 20.907756417641142, \"y_pred\": 20.10743782421907, \"cat\": \"C\"}, {\"y\": 10.384294533710984, \"y_pred\": 10.026152886537897, \"cat\": \"A\"}, {\"y\": 19.978802914265657, \"y_pred\": 19.958376458473605, \"cat\": \"B\"}, {\"y\": 10.920424864548101, \"y_pred\": 10.026152886537897, \"cat\": \"G\"}, {\"y\": 19.12243196532818, \"y_pred\": 19.958376458473605, \"cat\": \"B\"}, {\"y\": 10.22849753665952, \"y_pred\": 10.026152886537897, \"cat\": \"G\"}, {\"y\": 9.641952557998422, \"y_pred\": 10.026152886537897, \"cat\": \"F\"}, {\"y\": 1.5221616482608022, \"y_pred\": 0.9330043674525751, \"cat\": \"E\"}, {\"y\": 9.851387261175203, \"y_pred\": 10.026152886537897, \"cat\": \"A\"}, {\"y\": 0.34566881934414817, \"y_pred\": 0.9330043674525751, \"cat\": \"E\"}, {\"y\": 9.989838641646115, \"y_pred\": 10.026152886537897, \"cat\": \"G\"}, {\"y\": 19.620114607026082, \"y_pred\": 20.040484667310665, \"cat\": \"D\"}, {\"y\": 0.8325653514777749, \"y_pred\": 0.9708463425199862, \"cat\": \"H\"}, {\"y\": 20.450543508333375, \"y_pred\": 20.10743782421907, \"cat\": \"C\"}, {\"y\": 10.191908658277823, \"y_pred\": 10.026152886537897, \"cat\": \"G\"}, {\"y\": 0.18686237796388827, \"y_pred\": 0.9330043674525751, \"cat\": \"E\"}, {\"y\": 9.315942243042837, \"y_pred\": 10.026152886537897, \"cat\": \"A\"}, {\"y\": 20.136675333676006, \"y_pred\": 19.958376458473605, \"cat\": \"B\"}, {\"y\": 19.871357373780054, \"y_pred\": 20.040484667310665, \"cat\": \"D\"}, {\"y\": 10.883285640375064, \"y_pred\": 10.026152886537897, \"cat\": \"F\"}, {\"y\": 10.094152629135706, \"y_pred\": 10.026152886537897, \"cat\": \"A\"}, {\"y\": 19.928085292821397, \"y_pred\": 20.10743782421907, \"cat\": \"C\"}, {\"y\": 20.580919613122262, \"y_pred\": 19.958376458473605, \"cat\": \"B\"}, {\"y\": 10.557467794566625, \"y_pred\": 10.026152886537897, \"cat\": \"F\"}, {\"y\": 1.3445483424974876, \"y_pred\": 0.9330043674525751, \"cat\": \"E\"}, {\"y\": 10.913073503686912, \"y_pred\": 10.026152886537897, \"cat\": \"A\"}, {\"y\": 20.331734525783997, \"y_pred\": 20.040484667310665, \"cat\": \"D\"}, {\"y\": 10.596760153469504, \"y_pred\": 10.026152886537897, \"cat\": \"F\"}, {\"y\": 1.841605766161091, \"y_pred\": 0.9708463425199862, \"cat\": \"H\"}, {\"y\": 1.6654196859626103, \"y_pred\": 0.9708463425199862, \"cat\": \"H\"}, {\"y\": 1.538965128169526, \"y_pred\": 0.9708463425199862, \"cat\": \"H\"}, {\"y\": 20.147787020091425, \"y_pred\": 20.10743782421907, \"cat\": \"C\"}, {\"y\": 19.093495033009834, \"y_pred\": 19.958376458473605, \"cat\": \"B\"}, {\"y\": 20.884326612679626, \"y_pred\": 19.958376458473605, \"cat\": \"B\"}, {\"y\": 10.273984841835778, \"y_pred\": 10.026152886537897, \"cat\": \"G\"}, {\"y\": 1.6237616761704605, \"y_pred\": 0.9708463425199862, \"cat\": \"H\"}, {\"y\": 10.223315078357695, \"y_pred\": 10.026152886537897, \"cat\": \"F\"}, {\"y\": 10.749198194416321, \"y_pred\": 10.026152886537897, \"cat\": \"F\"}, {\"y\": 9.595024350775823, \"y_pred\": 10.026152886537897, \"cat\": \"F\"}, {\"y\": 9.022819148735728, \"y_pred\": 10.026152886537897, \"cat\": \"G\"}, {\"y\": 10.870407460974766, \"y_pred\": 10.026152886537897, \"cat\": \"A\"}, {\"y\": 19.60070959299869, \"y_pred\": 20.10743782421907, \"cat\": \"C\"}, {\"y\": 1.8265494003120175, \"y_pred\": 0.9330043674525751, \"cat\": \"E\"}, {\"y\": 10.6864488821723, \"y_pred\": 10.026152886537897, \"cat\": \"G\"}, {\"y\": 9.288889142202446, \"y_pred\": 10.026152886537897, \"cat\": \"F\"}, {\"y\": 10.886890460116538, \"y_pred\": 10.026152886537897, \"cat\": \"A\"}, {\"y\": 9.481804920175957, \"y_pred\": 10.026152886537897, \"cat\": \"F\"}, {\"y\": 10.790922273094289, \"y_pred\": 10.026152886537897, \"cat\": \"F\"}, {\"y\": 10.249014064069804, \"y_pred\": 10.026152886537897, \"cat\": \"F\"}, {\"y\": 0.2862398749266559, \"y_pred\": 0.9330043674525751, \"cat\": \"E\"}, {\"y\": 20.636309130709957, \"y_pred\": 19.958376458473605, \"cat\": \"B\"}, {\"y\": 10.49512470115586, \"y_pred\": 10.026152886537897, \"cat\": \"F\"}, {\"y\": 19.2429301957, \"y_pred\": 19.958376458473605, \"cat\": \"B\"}, {\"y\": 9.60106182587026, \"y_pred\": 10.026152886537897, \"cat\": \"G\"}, {\"y\": 20.058046977811188, \"y_pred\": 19.958376458473605, \"cat\": \"B\"}, {\"y\": 1.4966330149465596, \"y_pred\": 0.9330043674525751, \"cat\": \"E\"}]}}, {\"mode\": \"vega-lite\"});\n",
       "</script>"
      ],
      "text/plain": [
       "alt.Chart(...)"
      ]
     },
     "execution_count": 29,
     "metadata": {},
     "output_type": "execute_result"
    }
   ],
   "source": [
    "create_scatter(source_oh)"
   ]
  },
  {
   "cell_type": "code",
   "execution_count": 30,
   "id": "32282a06-6d29-4ee1-89b1-be7604632706",
   "metadata": {
    "execution": {
     "iopub.execute_input": "2022-03-17T14:31:16.999702Z",
     "iopub.status.busy": "2022-03-17T14:31:16.999581Z",
     "iopub.status.idle": "2022-03-17T14:31:17.106276Z",
     "shell.execute_reply": "2022-03-17T14:31:17.104768Z",
     "shell.execute_reply.started": "2022-03-17T14:31:16.999686Z"
    },
    "tags": []
   },
   "outputs": [
    {
     "ename": "AttributeError",
     "evalue": "'DecisionTreeRegressor' object has no attribute 'feature_names_in_'",
     "output_type": "error",
     "traceback": [
      "\u001b[0;31m---------------------------------------------------------------------------\u001b[0m",
      "\u001b[0;31mAttributeError\u001b[0m                            Traceback (most recent call last)",
      "\u001b[0;32m/tmp/ipykernel_132739/520154187.py\u001b[0m in \u001b[0;36m<module>\u001b[0;34m\u001b[0m\n\u001b[0;32m----> 1\u001b[0;31m \u001b[0mvisualize_dec_tree\u001b[0m\u001b[0;34m(\u001b[0m\u001b[0mdec_tree\u001b[0m\u001b[0;34m)\u001b[0m\u001b[0;34m\u001b[0m\u001b[0;34m\u001b[0m\u001b[0m\n\u001b[0m",
      "\u001b[0;32m/tmp/ipykernel_132739/3107692025.py\u001b[0m in \u001b[0;36mvisualize_dec_tree\u001b[0;34m(dec_tree)\u001b[0m\n\u001b[1;32m     74\u001b[0m     \"\"\"\n\u001b[1;32m     75\u001b[0m     dot_data = tree.export_graphviz(\n\u001b[0;32m---> 76\u001b[0;31m         \u001b[0mdec_tree\u001b[0m\u001b[0;34m,\u001b[0m \u001b[0mout_file\u001b[0m\u001b[0;34m=\u001b[0m\u001b[0;32mNone\u001b[0m\u001b[0;34m,\u001b[0m \u001b[0mfeature_names\u001b[0m\u001b[0;34m=\u001b[0m\u001b[0mdec_tree\u001b[0m\u001b[0;34m.\u001b[0m\u001b[0mfeature_names_in_\u001b[0m\u001b[0;34m,\u001b[0m \u001b[0mfilled\u001b[0m\u001b[0;34m=\u001b[0m\u001b[0;32mTrue\u001b[0m\u001b[0;34m\u001b[0m\u001b[0;34m\u001b[0m\u001b[0m\n\u001b[0m\u001b[1;32m     77\u001b[0m     )\n\u001b[1;32m     78\u001b[0m     \u001b[0;32mreturn\u001b[0m \u001b[0mgraphviz\u001b[0m\u001b[0;34m.\u001b[0m\u001b[0mSource\u001b[0m\u001b[0;34m(\u001b[0m\u001b[0mdot_data\u001b[0m\u001b[0;34m,\u001b[0m \u001b[0mformat\u001b[0m\u001b[0;34m=\u001b[0m\u001b[0;34m\"png\"\u001b[0m\u001b[0;34m)\u001b[0m\u001b[0;34m\u001b[0m\u001b[0;34m\u001b[0m\u001b[0m\n",
      "\u001b[0;31mAttributeError\u001b[0m: 'DecisionTreeRegressor' object has no attribute 'feature_names_in_'"
     ]
    }
   ],
   "source": [
    "visualize_dec_tree(dec_tree)"
   ]
  },
  {
   "cell_type": "markdown",
   "id": "11b6b6b3-723c-4994-b732-412d24af775c",
   "metadata": {
    "execution": {
     "iopub.execute_input": "2022-03-07T18:48:29.266995Z",
     "iopub.status.busy": "2022-03-07T18:48:29.266769Z",
     "iopub.status.idle": "2022-03-07T18:48:29.271581Z",
     "shell.execute_reply": "2022-03-07T18:48:29.270336Z",
     "shell.execute_reply.started": "2022-03-07T18:48:29.266974Z"
    },
    "tags": []
   },
   "source": [
    "### Check tradeoff"
   ]
  },
  {
   "cell_type": "code",
   "execution_count": null,
   "id": "33715bd1-266d-44d4-a8a9-e1b681fff863",
   "metadata": {
    "execution": {
     "iopub.status.busy": "2022-03-17T14:31:17.106808Z",
     "iopub.status.idle": "2022-03-17T14:31:17.107007Z",
     "shell.execute_reply": "2022-03-17T14:31:17.106908Z",
     "shell.execute_reply.started": "2022-03-17T14:31:17.106897Z"
    },
    "tags": []
   },
   "outputs": [],
   "source": [
    "rmses_oh = [dec_tree_rmse(params={\"max_depth\": i}, x_colnames=x_colnames_oh)[0] for i in max_depths]"
   ]
  },
  {
   "cell_type": "code",
   "execution_count": null,
   "id": "3a5b6059-f7ec-4b19-86bd-239ade5e2c8d",
   "metadata": {
    "execution": {
     "iopub.status.busy": "2022-03-17T14:31:17.108030Z",
     "iopub.status.idle": "2022-03-17T14:31:17.108225Z",
     "shell.execute_reply": "2022-03-17T14:31:17.108127Z",
     "shell.execute_reply.started": "2022-03-17T14:31:17.108117Z"
    },
    "tags": []
   },
   "outputs": [],
   "source": [
    "plot_max_depth_rmse(max_depths, rmses_oh)"
   ]
  },
  {
   "cell_type": "code",
   "execution_count": null,
   "id": "4df3fd13-45d8-40fe-8e55-39f4d088e238",
   "metadata": {},
   "outputs": [],
   "source": []
  },
  {
   "cell_type": "markdown",
   "id": "611d1905-3e79-47b2-9bde-ffc896f4c869",
   "metadata": {},
   "source": [
    "## Check together"
   ]
  },
  {
   "cell_type": "code",
   "execution_count": null,
   "id": "598d9873-d67b-4d2b-b0c2-48be6ca4ba98",
   "metadata": {
    "execution": {
     "iopub.status.busy": "2022-03-17T14:31:17.109085Z",
     "iopub.status.idle": "2022-03-17T14:31:17.109280Z",
     "shell.execute_reply": "2022-03-17T14:31:17.109178Z",
     "shell.execute_reply.started": "2022-03-17T14:31:17.109168Z"
    },
    "tags": []
   },
   "outputs": [],
   "source": [
    "rmse_oe = pd.DataFrame({'max_depth': max_depths, 'rmse': rmses_oe, 'origin': ['ordinal_encoded'] * len(max_depths)})\n",
    "rmse_oh = pd.DataFrame({'max_depth': max_depths, 'rmse': rmses_oh, 'origin': ['onehot_encoded'] * len(max_depths)})\n",
    "multi_rmse_source = pd.concat([rmse_oe, rmse_oh])"
   ]
  },
  {
   "cell_type": "code",
   "execution_count": null,
   "id": "dff1fb1f-5a97-47f2-8737-7f00d1b5dffe",
   "metadata": {
    "execution": {
     "iopub.status.busy": "2022-03-17T14:31:17.110115Z",
     "iopub.status.idle": "2022-03-17T14:31:17.110296Z",
     "shell.execute_reply": "2022-03-17T14:31:17.110207Z",
     "shell.execute_reply.started": "2022-03-17T14:31:17.110197Z"
    },
    "tags": []
   },
   "outputs": [],
   "source": [
    "alt.Chart(multi_rmse_source).mark_line().encode(\n",
    "    x='max_depth',\n",
    "    y='rmse',\n",
    "    color='origin'\n",
    ")"
   ]
  },
  {
   "cell_type": "code",
   "execution_count": null,
   "id": "fcd7003a-e219-4e33-82c6-f3420c031c89",
   "metadata": {},
   "outputs": [],
   "source": []
  },
  {
   "cell_type": "markdown",
   "id": "7659f315-dc40-469a-a6ba-d336e553584a",
   "metadata": {},
   "source": [
    "## Hash encoding"
   ]
  },
  {
   "cell_type": "code",
   "execution_count": null,
   "id": "e4c2dafb-0c7b-4de6-b9b8-6dfb4964fff5",
   "metadata": {
    "execution": {
     "iopub.status.busy": "2022-03-17T14:31:17.111068Z",
     "iopub.status.idle": "2022-03-17T14:31:17.111257Z",
     "shell.execute_reply": "2022-03-17T14:31:17.111160Z",
     "shell.execute_reply.started": "2022-03-17T14:31:17.111150Z"
    },
    "tags": []
   },
   "outputs": [],
   "source": [
    "fh_n_features = 10\n",
    "\n",
    "x_colnames_fh = [f'fh{n}' for n in range(fh_n_features)]\n",
    "fh = FeatureHasher(n_features=fh_n_features, input_type='string', dtype=np.float32)"
   ]
  },
  {
   "cell_type": "code",
   "execution_count": null,
   "id": "eb430342-6a9f-4d04-b9c8-3817b830fe2f",
   "metadata": {
    "execution": {
     "iopub.status.busy": "2022-03-17T14:31:17.111899Z",
     "iopub.status.idle": "2022-03-17T14:31:17.112080Z",
     "shell.execute_reply": "2022-03-17T14:31:17.111986Z",
     "shell.execute_reply.started": "2022-03-17T14:31:17.111977Z"
    },
    "tags": []
   },
   "outputs": [],
   "source": [
    "fh_vec = fh.fit_transform(X=X_train['cat'])\n",
    "fh_vec = pd.DataFrame(fh_vec.todense(), columns=x_colnames_fh, index=X_train.index)\n",
    "\n",
    "fh_vec_test = fh.fit_transform(X=X_test['cat'])\n",
    "fh_vec_test = pd.DataFrame(fh_vec_test.todense(), columns=x_colnames_fh, index=X_test.index)\n",
    "\n",
    "X_train[x_colnames_fh] = fh_vec\n",
    "X_test[x_colnames_fh] = fh_vec_test"
   ]
  },
  {
   "cell_type": "markdown",
   "id": "bea56138-cecf-4a3e-a8a1-cf6678ea8993",
   "metadata": {},
   "source": [
    "### Check one tree"
   ]
  },
  {
   "cell_type": "code",
   "execution_count": null,
   "id": "0a67beb1-0870-4adc-97ab-265d12a26a9e",
   "metadata": {
    "execution": {
     "iopub.status.busy": "2022-03-17T14:31:17.112883Z",
     "iopub.status.idle": "2022-03-17T14:31:17.113067Z",
     "shell.execute_reply": "2022-03-17T14:31:17.112974Z",
     "shell.execute_reply.started": "2022-03-17T14:31:17.112964Z"
    },
    "tags": []
   },
   "outputs": [],
   "source": [
    "rmse_fh, source_fh, dec_tree_fh = dec_tree_rmse(params, x_colnames_fh)"
   ]
  },
  {
   "cell_type": "code",
   "execution_count": null,
   "id": "3bdc3023-aa71-48cc-9a18-c4b53e909986",
   "metadata": {
    "execution": {
     "iopub.status.busy": "2022-03-17T14:31:17.113942Z",
     "iopub.status.idle": "2022-03-17T14:31:17.114130Z",
     "shell.execute_reply": "2022-03-17T14:31:17.114032Z",
     "shell.execute_reply.started": "2022-03-17T14:31:17.114022Z"
    },
    "tags": []
   },
   "outputs": [],
   "source": [
    "create_scatter(source_fh)"
   ]
  },
  {
   "cell_type": "code",
   "execution_count": null,
   "id": "baa2d0f4-ca0e-485d-85a7-bca852e607b6",
   "metadata": {
    "execution": {
     "iopub.status.busy": "2022-03-17T14:31:17.115446Z",
     "iopub.status.idle": "2022-03-17T14:31:17.115635Z",
     "shell.execute_reply": "2022-03-17T14:31:17.115542Z",
     "shell.execute_reply.started": "2022-03-17T14:31:17.115532Z"
    },
    "tags": []
   },
   "outputs": [],
   "source": [
    "visualize_dec_tree(dec_tree_fh)"
   ]
  },
  {
   "cell_type": "markdown",
   "id": "db45ca14-b0f6-40c0-8426-48100f6897e6",
   "metadata": {},
   "source": [
    "### Check tradeoff"
   ]
  },
  {
   "cell_type": "code",
   "execution_count": null,
   "id": "26abc9d2-53c8-400a-87e0-ad07b651bd9a",
   "metadata": {
    "execution": {
     "iopub.status.busy": "2022-03-17T14:31:17.116507Z",
     "iopub.status.idle": "2022-03-17T14:31:17.116701Z",
     "shell.execute_reply": "2022-03-17T14:31:17.116601Z",
     "shell.execute_reply.started": "2022-03-17T14:31:17.116591Z"
    },
    "tags": []
   },
   "outputs": [],
   "source": [
    "rmses_fh = [dec_tree_rmse(params={\"max_depth\": i}, x_colnames=x_colnames_fh)[0] for i in max_depths]\n",
    "plot_max_depth_rmse(max_depths, rmses_fh)"
   ]
  },
  {
   "cell_type": "markdown",
   "id": "adae1805-6392-4d12-b35e-39b32dfc009c",
   "metadata": {
    "tags": []
   },
   "source": [
    "## Target encoding"
   ]
  },
  {
   "cell_type": "code",
   "execution_count": null,
   "id": "c5b1e066-3adb-40b1-8739-74af54f90995",
   "metadata": {
    "execution": {
     "iopub.status.busy": "2022-03-17T14:31:17.117389Z",
     "iopub.status.idle": "2022-03-17T14:31:17.117574Z",
     "shell.execute_reply": "2022-03-17T14:31:17.117482Z",
     "shell.execute_reply.started": "2022-03-17T14:31:17.117472Z"
    },
    "tags": []
   },
   "outputs": [],
   "source": [
    "from category_encoders.target_encoder import TargetEncoder"
   ]
  },
  {
   "cell_type": "code",
   "execution_count": null,
   "id": "bbf38921-e18a-49eb-95eb-7cf0c86fb187",
   "metadata": {
    "execution": {
     "iopub.status.busy": "2022-03-17T14:31:17.118230Z",
     "iopub.status.idle": "2022-03-17T14:31:17.118409Z",
     "shell.execute_reply": "2022-03-17T14:31:17.118319Z",
     "shell.execute_reply.started": "2022-03-17T14:31:17.118309Z"
    },
    "tags": []
   },
   "outputs": [],
   "source": [
    "te = TargetEncoder(\n",
    "    verbose=0,\n",
    "    cols=[init_x_colname],\n",
    "    drop_invariant=False,\n",
    "    return_df=True,\n",
    "    handle_missing='value',\n",
    "    handle_unknown='value',\n",
    "    min_samples_leaf=1,\n",
    "    smoothing=1.0,)"
   ]
  },
  {
   "cell_type": "code",
   "execution_count": null,
   "id": "69a35c2f-11ba-4a8c-b15e-0103a269a4df",
   "metadata": {
    "execution": {
     "iopub.status.busy": "2022-03-17T14:31:17.119078Z",
     "iopub.status.idle": "2022-03-17T14:31:17.119260Z",
     "shell.execute_reply": "2022-03-17T14:31:17.119168Z",
     "shell.execute_reply.started": "2022-03-17T14:31:17.119159Z"
    },
    "tags": []
   },
   "outputs": [],
   "source": [
    "x_colnames_te = 'target_encoded'\n",
    "X_train[x_colnames_te] = te.fit_transform(X_train[init_x_colname], y_train)[init_x_colname]"
   ]
  },
  {
   "cell_type": "code",
   "execution_count": null,
   "id": "e5ff931d-df8c-4329-8c53-b739a5115d7d",
   "metadata": {
    "execution": {
     "iopub.status.busy": "2022-03-17T14:31:17.119941Z",
     "iopub.status.idle": "2022-03-17T14:31:17.120119Z",
     "shell.execute_reply": "2022-03-17T14:31:17.120031Z",
     "shell.execute_reply.started": "2022-03-17T14:31:17.120021Z"
    },
    "tags": []
   },
   "outputs": [],
   "source": [
    "X_test[x_colnames_te] = te.transform(X_test[init_x_colname], y_test)[init_x_colname]"
   ]
  },
  {
   "cell_type": "code",
   "execution_count": null,
   "id": "87da29c5-d1f1-4409-9449-2fe5f910764b",
   "metadata": {
    "execution": {
     "iopub.status.busy": "2022-03-17T14:31:17.120862Z",
     "iopub.status.idle": "2022-03-17T14:31:17.121039Z",
     "shell.execute_reply": "2022-03-17T14:31:17.120951Z",
     "shell.execute_reply.started": "2022-03-17T14:31:17.120941Z"
    },
    "tags": []
   },
   "outputs": [],
   "source": [
    "rmse, source_oh, dec_tree = dec_tree_rmse(\n",
    "    params={\"max_depth\": 5}, x_colnames=[x_colnames_te]\n",
    ")"
   ]
  },
  {
   "cell_type": "markdown",
   "id": "5d205938-57f6-41bb-8bae-d903a9ec2778",
   "metadata": {
    "tags": []
   },
   "source": [
    "### Check one tree"
   ]
  },
  {
   "cell_type": "code",
   "execution_count": null,
   "id": "3b46a14c-9ca5-49d0-90e3-bad4fe6af4f3",
   "metadata": {
    "execution": {
     "iopub.status.busy": "2022-03-17T14:31:17.121809Z",
     "iopub.status.idle": "2022-03-17T14:31:17.121992Z",
     "shell.execute_reply": "2022-03-17T14:31:17.121901Z",
     "shell.execute_reply.started": "2022-03-17T14:31:17.121891Z"
    },
    "tags": []
   },
   "outputs": [],
   "source": [
    "rmse"
   ]
  },
  {
   "cell_type": "code",
   "execution_count": null,
   "id": "ce40f105-3cfe-42ba-8228-0c0e8a483e17",
   "metadata": {
    "execution": {
     "iopub.status.busy": "2022-03-17T14:31:17.122619Z",
     "iopub.status.idle": "2022-03-17T14:31:17.122799Z",
     "shell.execute_reply": "2022-03-17T14:31:17.122711Z",
     "shell.execute_reply.started": "2022-03-17T14:31:17.122701Z"
    },
    "tags": []
   },
   "outputs": [],
   "source": [
    "create_scatter(source_oh)"
   ]
  },
  {
   "cell_type": "code",
   "execution_count": null,
   "id": "dee62f38-484a-4d99-a14b-c56d4817d5aa",
   "metadata": {
    "execution": {
     "iopub.status.busy": "2022-03-17T14:31:17.123244Z",
     "iopub.status.idle": "2022-03-17T14:31:17.123415Z",
     "shell.execute_reply": "2022-03-17T14:31:17.123329Z",
     "shell.execute_reply.started": "2022-03-17T14:31:17.123320Z"
    },
    "tags": []
   },
   "outputs": [],
   "source": [
    "visualize_dec_tree(dec_tree)"
   ]
  },
  {
   "cell_type": "markdown",
   "id": "e65621d8-da1d-4264-935f-57078ceb62d9",
   "metadata": {
    "execution": {
     "iopub.execute_input": "2022-03-07T18:48:29.266995Z",
     "iopub.status.busy": "2022-03-07T18:48:29.266769Z",
     "iopub.status.idle": "2022-03-07T18:48:29.271581Z",
     "shell.execute_reply": "2022-03-07T18:48:29.270336Z",
     "shell.execute_reply.started": "2022-03-07T18:48:29.266974Z"
    },
    "tags": []
   },
   "source": [
    "### Check tradeoff"
   ]
  },
  {
   "cell_type": "code",
   "execution_count": null,
   "id": "6264281f-958b-4c88-aeee-f91c5262aa2e",
   "metadata": {
    "execution": {
     "iopub.status.busy": "2022-03-17T14:31:17.124487Z",
     "iopub.status.idle": "2022-03-17T14:31:17.124676Z",
     "shell.execute_reply": "2022-03-17T14:31:17.124580Z",
     "shell.execute_reply.started": "2022-03-17T14:31:17.124570Z"
    },
    "tags": []
   },
   "outputs": [],
   "source": [
    "rmses_te = [dec_tree_rmse(params={\"max_depth\": i}, x_colnames=[x_colnames_te])[0] for i in max_depths]"
   ]
  },
  {
   "cell_type": "code",
   "execution_count": null,
   "id": "471aa084-ae31-4607-8527-059fb8c35f76",
   "metadata": {
    "execution": {
     "iopub.status.busy": "2022-03-17T14:31:17.125346Z",
     "iopub.status.idle": "2022-03-17T14:31:17.125526Z",
     "shell.execute_reply": "2022-03-17T14:31:17.125437Z",
     "shell.execute_reply.started": "2022-03-17T14:31:17.125427Z"
    },
    "tags": []
   },
   "outputs": [],
   "source": [
    "plot_max_depth_rmse(max_depths, rmses_te)"
   ]
  },
  {
   "cell_type": "markdown",
   "id": "913dcbaf-3c0c-4d1f-8dc7-4b16ba95aa06",
   "metadata": {},
   "source": [
    "## Check together"
   ]
  },
  {
   "cell_type": "code",
   "execution_count": null,
   "id": "32dd4415-409d-41c0-85aa-4e09928c716d",
   "metadata": {
    "execution": {
     "iopub.status.busy": "2022-03-17T14:31:17.126157Z",
     "iopub.status.idle": "2022-03-17T14:31:17.126335Z",
     "shell.execute_reply": "2022-03-17T14:31:17.126245Z",
     "shell.execute_reply.started": "2022-03-17T14:31:17.126236Z"
    },
    "tags": []
   },
   "outputs": [],
   "source": [
    "rmse_te = pd.DataFrame({'max_depth': max_depths, 'rmse': rmses_te, 'origin': ['target_encoded'] * len(max_depths)})\n",
    "rmse_fh = pd.DataFrame({'max_depth': max_depths, 'rmse': rmses_fh, 'origin': ['hash_encoded'] * len(max_depths)})\n",
    "multi_rmse_source = pd.concat([multi_rmse_source, rmse_te, rmse_fh])"
   ]
  },
  {
   "cell_type": "code",
   "execution_count": null,
   "id": "cfcacfb5-b05f-478c-878e-dcad4c5eb80f",
   "metadata": {
    "execution": {
     "iopub.status.busy": "2022-03-17T14:31:17.127060Z",
     "iopub.status.idle": "2022-03-17T14:31:17.127241Z",
     "shell.execute_reply": "2022-03-17T14:31:17.127152Z",
     "shell.execute_reply.started": "2022-03-17T14:31:17.127142Z"
    },
    "tags": []
   },
   "outputs": [],
   "source": [
    "alt.Chart(\n",
    "    multi_rmse_source\n",
    ").mark_line(\n",
    ").encode(\n",
    "    x='max_depth',\n",
    "    y='rmse',\n",
    "    color='origin',\n",
    "    strokeWidth=alt.value(5)\n",
    ").properties(\n",
    "    width=800, \n",
    "    height=500\n",
    ").configure_axis(\n",
    "    labelFontSize=20,\n",
    "    titleFontSize=20\n",
    ").configure_legend(\n",
    "    labelFontSize=20, \n",
    "    titleFontSize=20, \n",
    "    symbolStrokeWidth=5\n",
    ").interactive()"
   ]
  },
  {
   "cell_type": "code",
   "execution_count": null,
   "id": "f6a36cd1-9c1b-46b5-be8e-9e13cc7ad861",
   "metadata": {},
   "outputs": [],
   "source": []
  },
  {
   "cell_type": "markdown",
   "id": "e6e6c887-6769-4699-a231-40eea5c23b3d",
   "metadata": {
    "tags": []
   },
   "source": [
    "# Linear Regression"
   ]
  },
  {
   "cell_type": "markdown",
   "id": "c50d7991-759f-4c36-a829-18d83dca70ed",
   "metadata": {},
   "source": [
    "## Ordinal encoded"
   ]
  },
  {
   "cell_type": "code",
   "execution_count": null,
   "id": "7e6308af-4dcb-471e-a546-9dbff4d521e8",
   "metadata": {
    "execution": {
     "iopub.status.busy": "2022-03-17T14:31:17.128219Z",
     "iopub.status.idle": "2022-03-17T14:31:17.128409Z",
     "shell.execute_reply": "2022-03-17T14:31:17.128312Z",
     "shell.execute_reply.started": "2022-03-17T14:31:17.128302Z"
    },
    "tags": []
   },
   "outputs": [],
   "source": [
    "rmse_linreg_oe, source_linreg_oe, linreg_oe = linreg_rmse(x_colnames=[x_colnames_oe])"
   ]
  },
  {
   "cell_type": "code",
   "execution_count": null,
   "id": "a4cf6788-bddc-4b0c-84fe-8ebaf9455680",
   "metadata": {
    "execution": {
     "iopub.status.busy": "2022-03-17T14:31:17.128906Z",
     "iopub.status.idle": "2022-03-17T14:31:17.129080Z",
     "shell.execute_reply": "2022-03-17T14:31:17.128993Z",
     "shell.execute_reply.started": "2022-03-17T14:31:17.128983Z"
    },
    "tags": []
   },
   "outputs": [],
   "source": [
    "rmse_linreg_oe"
   ]
  },
  {
   "cell_type": "code",
   "execution_count": null,
   "id": "0da485b6-e68d-4959-b209-8e2fda47a466",
   "metadata": {
    "execution": {
     "iopub.status.busy": "2022-03-17T14:31:17.129768Z",
     "iopub.status.idle": "2022-03-17T14:31:17.129947Z",
     "shell.execute_reply": "2022-03-17T14:31:17.129858Z",
     "shell.execute_reply.started": "2022-03-17T14:31:17.129849Z"
    },
    "tags": []
   },
   "outputs": [],
   "source": [
    "create_scatter(source_linreg_oe)"
   ]
  },
  {
   "cell_type": "markdown",
   "id": "a483345f-9f30-42fe-989e-e0e4dfde2eca",
   "metadata": {
    "execution": {
     "iopub.execute_input": "2022-03-10T10:43:55.728584Z",
     "iopub.status.busy": "2022-03-10T10:43:55.726964Z",
     "iopub.status.idle": "2022-03-10T10:43:55.742867Z",
     "shell.execute_reply": "2022-03-10T10:43:55.740946Z",
     "shell.execute_reply.started": "2022-03-10T10:43:55.728406Z"
    },
    "tags": []
   },
   "source": [
    "## Onehot encoded"
   ]
  },
  {
   "cell_type": "code",
   "execution_count": null,
   "id": "673df6fd-0d5f-4fa6-8cb8-dfd3b1206a88",
   "metadata": {
    "execution": {
     "iopub.status.busy": "2022-03-17T14:31:17.130892Z",
     "iopub.status.idle": "2022-03-17T14:31:17.131080Z",
     "shell.execute_reply": "2022-03-17T14:31:17.130982Z",
     "shell.execute_reply.started": "2022-03-17T14:31:17.130972Z"
    },
    "tags": []
   },
   "outputs": [],
   "source": [
    "rmse_linreg_oh, source_linreg_oh, linreg_oh = linreg_rmse(x_colnames=x_colnames_oh)"
   ]
  },
  {
   "cell_type": "code",
   "execution_count": null,
   "id": "4cbb0442-4d46-4a4a-a766-0c361eadb42f",
   "metadata": {
    "execution": {
     "iopub.status.busy": "2022-03-17T14:31:17.131669Z",
     "iopub.status.idle": "2022-03-17T14:31:17.131861Z",
     "shell.execute_reply": "2022-03-17T14:31:17.131758Z",
     "shell.execute_reply.started": "2022-03-17T14:31:17.131748Z"
    },
    "tags": []
   },
   "outputs": [],
   "source": [
    "rmse_linreg_oh"
   ]
  },
  {
   "cell_type": "code",
   "execution_count": null,
   "id": "8d50cf65-31ab-4e60-89b3-372aa13b5f1a",
   "metadata": {
    "execution": {
     "iopub.status.busy": "2022-03-17T14:31:17.132375Z",
     "iopub.status.idle": "2022-03-17T14:31:17.132551Z",
     "shell.execute_reply": "2022-03-17T14:31:17.132465Z",
     "shell.execute_reply.started": "2022-03-17T14:31:17.132455Z"
    },
    "tags": []
   },
   "outputs": [],
   "source": [
    "create_scatter(source_linreg_oh)"
   ]
  },
  {
   "cell_type": "markdown",
   "id": "a4c561ac-71c2-4688-995e-2177a918e706",
   "metadata": {},
   "source": [
    "## Hash encoding"
   ]
  },
  {
   "cell_type": "code",
   "execution_count": null,
   "id": "f68a5bc0-590e-408f-89ec-f676a6159363",
   "metadata": {
    "execution": {
     "iopub.status.busy": "2022-03-17T14:31:17.133471Z",
     "iopub.status.idle": "2022-03-17T14:31:17.133659Z",
     "shell.execute_reply": "2022-03-17T14:31:17.133561Z",
     "shell.execute_reply.started": "2022-03-17T14:31:17.133551Z"
    },
    "tags": []
   },
   "outputs": [],
   "source": [
    "rmse_linreg_fh, source_linreg_fh, linreg_fh = linreg_rmse(x_colnames=x_colnames_fh)"
   ]
  },
  {
   "cell_type": "code",
   "execution_count": null,
   "id": "0b0a5747-459c-4adc-ad01-6482f225bb51",
   "metadata": {
    "execution": {
     "iopub.status.busy": "2022-03-17T14:31:17.134459Z",
     "iopub.status.idle": "2022-03-17T14:31:17.134647Z",
     "shell.execute_reply": "2022-03-17T14:31:17.134551Z",
     "shell.execute_reply.started": "2022-03-17T14:31:17.134542Z"
    }
   },
   "outputs": [],
   "source": [
    "rmse_linreg_fh"
   ]
  },
  {
   "cell_type": "code",
   "execution_count": null,
   "id": "27333979-f9b9-4cb5-9bf1-a7e5b587a74e",
   "metadata": {
    "execution": {
     "iopub.status.busy": "2022-03-17T14:31:17.135239Z",
     "iopub.status.idle": "2022-03-17T14:31:17.135418Z",
     "shell.execute_reply": "2022-03-17T14:31:17.135330Z",
     "shell.execute_reply.started": "2022-03-17T14:31:17.135321Z"
    },
    "tags": []
   },
   "outputs": [],
   "source": [
    "create_scatter(source_linreg_fh)"
   ]
  },
  {
   "cell_type": "markdown",
   "id": "ef72a991-b468-49ad-a1fc-0c5cfcc26a52",
   "metadata": {},
   "source": [
    "## Target Encoded"
   ]
  },
  {
   "cell_type": "code",
   "execution_count": null,
   "id": "084a77dd-721e-415e-ac9a-5237b0db24f2",
   "metadata": {
    "execution": {
     "iopub.status.busy": "2022-03-17T14:31:17.136158Z",
     "iopub.status.idle": "2022-03-17T14:31:17.136339Z",
     "shell.execute_reply": "2022-03-17T14:31:17.136248Z",
     "shell.execute_reply.started": "2022-03-17T14:31:17.136238Z"
    },
    "tags": []
   },
   "outputs": [],
   "source": [
    "rmse_linreg_te, source_linreg_te, linreg_te = linreg_rmse(x_colnames=[x_colnames_te])"
   ]
  },
  {
   "cell_type": "code",
   "execution_count": null,
   "id": "3df9bd6f-bd32-485c-971a-f0bbf6d3d03d",
   "metadata": {
    "execution": {
     "iopub.status.busy": "2022-03-17T14:31:17.136823Z",
     "iopub.status.idle": "2022-03-17T14:31:17.137000Z",
     "shell.execute_reply": "2022-03-17T14:31:17.136913Z",
     "shell.execute_reply.started": "2022-03-17T14:31:17.136903Z"
    },
    "tags": []
   },
   "outputs": [],
   "source": [
    "rmse_linreg_te"
   ]
  },
  {
   "cell_type": "code",
   "execution_count": null,
   "id": "2d413fe0-d07c-4259-bc26-7d6a1d982582",
   "metadata": {
    "execution": {
     "iopub.status.busy": "2022-03-17T14:31:17.137711Z",
     "iopub.status.idle": "2022-03-17T14:31:17.137884Z",
     "shell.execute_reply": "2022-03-17T14:31:17.137797Z",
     "shell.execute_reply.started": "2022-03-17T14:31:17.137788Z"
    },
    "tags": []
   },
   "outputs": [],
   "source": [
    "create_scatter(source_linreg_te)"
   ]
  },
  {
   "cell_type": "code",
   "execution_count": null,
   "id": "bbe143fb-321a-4c05-8dc9-97c790e1417c",
   "metadata": {},
   "outputs": [],
   "source": []
  },
  {
   "cell_type": "code",
   "execution_count": null,
   "id": "507831a5-6c3f-4d52-82cc-4ddbb27af28d",
   "metadata": {},
   "outputs": [],
   "source": []
  }
 ],
 "metadata": {
  "kernelspec": {
   "display_name": "🌍 Base Python 3.7 Environment",
   "language": "python",
   "name": "python3"
  },
  "language_info": {
   "codemirror_mode": {
    "name": "ipython",
    "version": 3
   },
   "file_extension": ".py",
   "mimetype": "text/x-python",
   "name": "python",
   "nbconvert_exporter": "python",
   "pygments_lexer": "ipython3",
   "version": "3.7.10"
  },
  "widgets": {
   "application/vnd.jupyter.widget-state+json": {
    "state": {},
    "version_major": 2,
    "version_minor": 0
   }
  }
 },
 "nbformat": 4,
 "nbformat_minor": 5
}
