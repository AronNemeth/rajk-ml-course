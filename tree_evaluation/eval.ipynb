{
 "cells": [
  {
   "cell_type": "code",
   "execution_count": 1,
   "id": "af01cace",
   "metadata": {
    "execution": {
     "iopub.execute_input": "2022-04-08T17:08:17.055877Z",
     "iopub.status.busy": "2022-04-08T17:08:17.055112Z",
     "iopub.status.idle": "2022-04-08T17:08:17.560479Z",
     "shell.execute_reply": "2022-04-08T17:08:17.559582Z",
     "shell.execute_reply.started": "2022-04-08T17:08:17.055751Z"
    },
    "tags": []
   },
   "outputs": [],
   "source": [
    "import pandas as pd\n",
    "from sklearn.metrics import mean_squared_error\n",
    "import os"
   ]
  },
  {
   "cell_type": "code",
   "execution_count": 2,
   "id": "fc4769b3",
   "metadata": {
    "execution": {
     "iopub.execute_input": "2022-04-08T17:08:17.562172Z",
     "iopub.status.busy": "2022-04-08T17:08:17.561905Z",
     "iopub.status.idle": "2022-04-08T17:08:17.569323Z",
     "shell.execute_reply": "2022-04-08T17:08:17.568771Z",
     "shell.execute_reply.started": "2022-04-08T17:08:17.562148Z"
    },
    "tags": []
   },
   "outputs": [],
   "source": [
    "true_y = pd.read_csv(\"target_test.csv\")"
   ]
  },
  {
   "cell_type": "code",
   "execution_count": null,
   "id": "f720cd04-8d4d-4be2-999b-53077a3b24fc",
   "metadata": {},
   "outputs": [],
   "source": []
  },
  {
   "cell_type": "code",
   "execution_count": 12,
   "id": "4e4bd71c",
   "metadata": {
    "execution": {
     "iopub.execute_input": "2022-04-08T17:04:24.918612Z",
     "iopub.status.busy": "2022-04-08T17:04:24.918080Z",
     "iopub.status.idle": "2022-04-08T17:04:24.930394Z",
     "shell.execute_reply": "2022-04-08T17:04:24.929668Z",
     "shell.execute_reply.started": "2022-04-08T17:04:24.918567Z"
    },
    "tags": []
   },
   "outputs": [
    {
     "data": {
      "text/plain": [
       "0.3442518788416759"
      ]
     },
     "execution_count": 12,
     "metadata": {},
     "output_type": "execute_result"
    }
   ],
   "source": [
    "# Sebi\n",
    "\n",
    "## NEM JO AZ INDEX!!!\n",
    "y_pred = pd.read_csv(\"solutions/test_prediction_sebi.csv\")['pred'].values\n",
    "\n",
    "mean_squared_error(y_pred, true_y.y_true.values, squared=False)"
   ]
  },
  {
   "cell_type": "code",
   "execution_count": 14,
   "id": "7eaecb7d",
   "metadata": {
    "execution": {
     "iopub.execute_input": "2022-04-08T17:04:40.771493Z",
     "iopub.status.busy": "2022-04-08T17:04:40.771172Z",
     "iopub.status.idle": "2022-04-08T17:04:40.782884Z",
     "shell.execute_reply": "2022-04-08T17:04:40.782171Z",
     "shell.execute_reply.started": "2022-04-08T17:04:40.771452Z"
    },
    "tags": []
   },
   "outputs": [
    {
     "data": {
      "text/plain": [
       "0.3442004935231506"
      ]
     },
     "execution_count": 14,
     "metadata": {},
     "output_type": "execute_result"
    }
   ],
   "source": [
    "#Artur\n",
    "\n",
    "## NEM JO AZ INDEX!!!\n",
    "y_pred =  pd.read_csv(\"solutions/test_prediction_artur.csv\")[\"0\"].values\n",
    "mean_squared_error(\n",
    "    y_pred, true_y.y_true.values, squared=False\n",
    ")"
   ]
  },
  {
   "cell_type": "code",
   "execution_count": 6,
   "id": "56200184",
   "metadata": {},
   "outputs": [
    {
     "data": {
      "text/plain": [
       "0.32958808078596713"
      ]
     },
     "execution_count": 6,
     "metadata": {},
     "output_type": "execute_result"
    }
   ],
   "source": [
    "#Kofi\n",
    "\n",
    "## NEM JO AZ INDEX!!!\n",
    "y_pred =  pd.read_csv(\"solutions/test_prediction_kofi.csv\",sep=\";\")[\"pred\"].values\n",
    "mean_squared_error(\n",
    "    y_pred, true_y.y_true.values, squared=False\n",
    ")"
   ]
  },
  {
   "cell_type": "code",
   "execution_count": 8,
   "id": "b56285f8",
   "metadata": {},
   "outputs": [
    {
     "data": {
      "text/plain": [
       "0.27272576950796434"
      ]
     },
     "execution_count": 8,
     "metadata": {},
     "output_type": "execute_result"
    }
   ],
   "source": [
    "#NLili\n",
    "\n",
    "## NEM JO AZ INDEX!!!, de még hogy\n",
    "y_pred =  pd.read_csv(\"solutions/test_prediction_nlili.csv\")[\"NAPI_ELADOTT_DB\"].values\n",
    "mean_squared_error(\n",
    "    y_pred, true_y.y_true.values, squared=False\n",
    ")"
   ]
  },
  {
   "cell_type": "code",
   "execution_count": 9,
   "id": "f3be66b0",
   "metadata": {},
   "outputs": [
    {
     "data": {
      "text/plain": [
       "0.3577975543401"
      ]
     },
     "execution_count": 9,
     "metadata": {},
     "output_type": "execute_result"
    }
   ],
   "source": [
    "#Mark\n",
    "\n",
    "y_pred =  pd.read_csv(\"solutions/test_prediction_mark.csv\")[\"pred\"].values\n",
    "mean_squared_error(\n",
    "    y_pred, true_y.y_true.values, squared=False\n",
    ")"
   ]
  },
  {
   "cell_type": "code",
   "execution_count": null,
   "id": "0125d82d",
   "metadata": {},
   "outputs": [],
   "source": []
  },
  {
   "cell_type": "code",
   "execution_count": null,
   "id": "91084f4d-77d9-4b36-bfbb-b1a01921d33f",
   "metadata": {},
   "outputs": [],
   "source": []
  },
  {
   "cell_type": "code",
   "execution_count": 23,
   "id": "ad71b783-e07d-4346-962c-8237d2606ee9",
   "metadata": {
    "execution": {
     "iopub.execute_input": "2022-04-08T17:23:14.054678Z",
     "iopub.status.busy": "2022-04-08T17:23:14.053968Z",
     "iopub.status.idle": "2022-04-08T17:23:14.063587Z",
     "shell.execute_reply": "2022-04-08T17:23:14.062655Z",
     "shell.execute_reply.started": "2022-04-08T17:23:14.054632Z"
    },
    "tags": []
   },
   "outputs": [],
   "source": [
    "df = pd.read_csv(\"solutions/test_prediction_mark.csv\")"
   ]
  },
  {
   "cell_type": "code",
   "execution_count": 24,
   "id": "b320fc57-3716-4c8b-8644-e08571f0fca3",
   "metadata": {
    "execution": {
     "iopub.execute_input": "2022-04-08T17:23:14.185786Z",
     "iopub.status.busy": "2022-04-08T17:23:14.185481Z",
     "iopub.status.idle": "2022-04-08T17:23:14.194864Z",
     "shell.execute_reply": "2022-04-08T17:23:14.193862Z",
     "shell.execute_reply.started": "2022-04-08T17:23:14.185745Z"
    },
    "tags": []
   },
   "outputs": [],
   "source": [
    "df['index'] = df['index'].str[:17] + '-' + df['index'].str[17:]"
   ]
  },
  {
   "cell_type": "code",
   "execution_count": 25,
   "id": "e61d38d2-d83e-4fcb-b759-694eb1cbf4f6",
   "metadata": {
    "execution": {
     "iopub.execute_input": "2022-04-08T17:23:14.308756Z",
     "iopub.status.busy": "2022-04-08T17:23:14.308053Z",
     "iopub.status.idle": "2022-04-08T17:23:14.324130Z",
     "shell.execute_reply": "2022-04-08T17:23:14.323350Z",
     "shell.execute_reply.started": "2022-04-08T17:23:14.308711Z"
    },
    "tags": []
   },
   "outputs": [
    {
     "data": {
      "text/html": [
       "<div>\n",
       "<style scoped>\n",
       "    .dataframe tbody tr th:only-of-type {\n",
       "        vertical-align: middle;\n",
       "    }\n",
       "\n",
       "    .dataframe tbody tr th {\n",
       "        vertical-align: top;\n",
       "    }\n",
       "\n",
       "    .dataframe thead th {\n",
       "        text-align: right;\n",
       "    }\n",
       "</style>\n",
       "<table border=\"1\" class=\"dataframe\">\n",
       "  <thead>\n",
       "    <tr style=\"text-align: right;\">\n",
       "      <th></th>\n",
       "      <th>Unnamed: 0</th>\n",
       "      <th>index</th>\n",
       "      <th>pred</th>\n",
       "    </tr>\n",
       "  </thead>\n",
       "  <tbody>\n",
       "    <tr>\n",
       "      <th>0</th>\n",
       "      <td>0</td>\n",
       "      <td>10554880020190034-531118</td>\n",
       "      <td>0.614978</td>\n",
       "    </tr>\n",
       "    <tr>\n",
       "      <th>1</th>\n",
       "      <td>1</td>\n",
       "      <td>10708900020180004-101223</td>\n",
       "      <td>0.144468</td>\n",
       "    </tr>\n",
       "    <tr>\n",
       "      <th>2</th>\n",
       "      <td>2</td>\n",
       "      <td>10151070020170001-101223</td>\n",
       "      <td>0.193291</td>\n",
       "    </tr>\n",
       "    <tr>\n",
       "      <th>3</th>\n",
       "      <td>3</td>\n",
       "      <td>10596570020200007-531118</td>\n",
       "      <td>0.344828</td>\n",
       "    </tr>\n",
       "    <tr>\n",
       "      <th>4</th>\n",
       "      <td>4</td>\n",
       "      <td>10603960020150097-614051</td>\n",
       "      <td>0.006387</td>\n",
       "    </tr>\n",
       "    <tr>\n",
       "      <th>...</th>\n",
       "      <td>...</td>\n",
       "      <td>...</td>\n",
       "      <td>...</td>\n",
       "    </tr>\n",
       "    <tr>\n",
       "      <th>1804</th>\n",
       "      <td>1804</td>\n",
       "      <td>10554880020190006-415120</td>\n",
       "      <td>0.091116</td>\n",
       "    </tr>\n",
       "    <tr>\n",
       "      <th>1805</th>\n",
       "      <td>1805</td>\n",
       "      <td>10754860020160015-101223</td>\n",
       "      <td>0.188022</td>\n",
       "    </tr>\n",
       "    <tr>\n",
       "      <th>1806</th>\n",
       "      <td>1806</td>\n",
       "      <td>10754860020190012-516745</td>\n",
       "      <td>0.034978</td>\n",
       "    </tr>\n",
       "    <tr>\n",
       "      <th>1807</th>\n",
       "      <td>1807</td>\n",
       "      <td>10151070020200008-101223</td>\n",
       "      <td>0.093563</td>\n",
       "    </tr>\n",
       "    <tr>\n",
       "      <th>1808</th>\n",
       "      <td>1808</td>\n",
       "      <td>10754860020210022-415120</td>\n",
       "      <td>0.000000</td>\n",
       "    </tr>\n",
       "  </tbody>\n",
       "</table>\n",
       "<p>1809 rows × 3 columns</p>\n",
       "</div>"
      ],
      "text/plain": [
       "      Unnamed: 0                     index      pred\n",
       "0              0  10554880020190034-531118  0.614978\n",
       "1              1  10708900020180004-101223  0.144468\n",
       "2              2  10151070020170001-101223  0.193291\n",
       "3              3  10596570020200007-531118  0.344828\n",
       "4              4  10603960020150097-614051  0.006387\n",
       "...          ...                       ...       ...\n",
       "1804        1804  10554880020190006-415120  0.091116\n",
       "1805        1805  10754860020160015-101223  0.188022\n",
       "1806        1806  10754860020190012-516745  0.034978\n",
       "1807        1807  10151070020200008-101223  0.093563\n",
       "1808        1808  10754860020210022-415120  0.000000\n",
       "\n",
       "[1809 rows x 3 columns]"
      ]
     },
     "execution_count": 25,
     "metadata": {},
     "output_type": "execute_result"
    }
   ],
   "source": [
    "df"
   ]
  },
  {
   "cell_type": "code",
   "execution_count": 26,
   "id": "dde50f7e-7831-4297-88e4-b5ca638f18ae",
   "metadata": {
    "execution": {
     "iopub.execute_input": "2022-04-08T17:23:19.331410Z",
     "iopub.status.busy": "2022-04-08T17:23:19.331097Z",
     "iopub.status.idle": "2022-04-08T17:23:19.337737Z",
     "shell.execute_reply": "2022-04-08T17:23:19.336685Z",
     "shell.execute_reply.started": "2022-04-08T17:23:19.331369Z"
    },
    "tags": []
   },
   "outputs": [],
   "source": [
    "true_y_ = true_y.drop('Unnamed: 0', axis=1)\n",
    "true_y_['index'] = true_y_['index']"
   ]
  },
  {
   "cell_type": "code",
   "execution_count": 27,
   "id": "faad0faa-ae3a-4e4a-8eb9-008d90093136",
   "metadata": {
    "execution": {
     "iopub.execute_input": "2022-04-08T17:23:19.506583Z",
     "iopub.status.busy": "2022-04-08T17:23:19.506277Z",
     "iopub.status.idle": "2022-04-08T17:23:19.517312Z",
     "shell.execute_reply": "2022-04-08T17:23:19.516501Z",
     "shell.execute_reply.started": "2022-04-08T17:23:19.506543Z"
    },
    "tags": []
   },
   "outputs": [],
   "source": [
    "res = true_y_.merge(df, on='index', how='left')"
   ]
  },
  {
   "cell_type": "code",
   "execution_count": 28,
   "id": "ced5f67b-2fdc-4b38-90dc-1d914d68efec",
   "metadata": {
    "execution": {
     "iopub.execute_input": "2022-04-08T17:23:19.793348Z",
     "iopub.status.busy": "2022-04-08T17:23:19.792635Z",
     "iopub.status.idle": "2022-04-08T17:23:19.802473Z",
     "shell.execute_reply": "2022-04-08T17:23:19.801695Z",
     "shell.execute_reply.started": "2022-04-08T17:23:19.793305Z"
    },
    "tags": []
   },
   "outputs": [
    {
     "data": {
      "text/plain": [
       "index            0\n",
       "y_true           0\n",
       "Unnamed: 0    1346\n",
       "pred          1346\n",
       "dtype: int64"
      ]
     },
     "execution_count": 28,
     "metadata": {},
     "output_type": "execute_result"
    }
   ],
   "source": [
    "res.isnull().sum()"
   ]
  },
  {
   "cell_type": "code",
   "execution_count": null,
   "id": "3dfc0974-64e3-4e1d-8d1d-d2f619565056",
   "metadata": {},
   "outputs": [],
   "source": []
  }
 ],
 "metadata": {
  "kernelspec": {
   "display_name": "🌍 Base Python 3.7 Environment",
   "language": "python",
   "name": "python3"
  },
  "language_info": {
   "codemirror_mode": {
    "name": "ipython",
    "version": 3
   },
   "file_extension": ".py",
   "mimetype": "text/x-python",
   "name": "python",
   "nbconvert_exporter": "python",
   "pygments_lexer": "ipython3",
   "version": "3.7.10"
  },
  "widgets": {
   "application/vnd.jupyter.widget-state+json": {
    "state": {},
    "version_major": 2,
    "version_minor": 0
   }
  }
 },
 "nbformat": 4,
 "nbformat_minor": 5
}
