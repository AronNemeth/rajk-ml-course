{
 "cells": [
  {
   "cell_type": "code",
   "execution_count": 1,
   "id": "32858377",
   "metadata": {
    "ExecuteTime": {
     "end_time": "2022-03-24T13:50:49.555064Z",
     "start_time": "2022-03-24T13:50:49.497064Z"
    },
    "execution": {
     "iopub.execute_input": "2022-04-12T15:19:02.240724Z",
     "iopub.status.busy": "2022-04-12T15:19:02.240262Z",
     "iopub.status.idle": "2022-04-12T15:19:03.780437Z",
     "shell.execute_reply": "2022-04-12T15:19:03.779939Z",
     "shell.execute_reply.started": "2022-04-12T15:19:02.240613Z"
    },
    "tags": []
   },
   "outputs": [],
   "source": [
    "from pathlib import Path\n",
    "import pandas as pd\n",
    "from pandas_profiling import ProfileReport\n",
    "import seaborn as sns\n",
    "from sklearn import metrics\n",
    "from sklearn.tree import DecisionTreeRegressor\n",
    "from sklearn.model_selection import train_test_split, GridSearchCV\n",
    "from sklearn.compose import make_column_selector as selector\n",
    "\n",
    "import numpy as np\n",
    "from matplotlib import pyplot as plt\n",
    "import pickle\n",
    "from category_encoders.target_encoder import TargetEncoder\n",
    "\n",
    "from sklearn.preprocessing import OneHotEncoder, StandardScaler, OrdinalEncoder\n",
    "from sklearn.compose import ColumnTransformer\n",
    "from sklearn.pipeline import Pipeline\n",
    "from sklearn.impute import SimpleImputer\n",
    "from sklearn import set_config\n",
    "\n",
    "#from skopt import BayesSearchCV\n",
    "from tempfile import mkdtemp\n",
    "cachedir = mkdtemp()\n",
    "#from skopt.callbacks import DeltaYStopper, TimerCallback, DeadlineStopper\n",
    "from sklearn.ensemble import ExtraTreesRegressor\n",
    "from sklearn.feature_selection import SelectFromModel\n",
    "\n",
    "set_config(display=\"diagram\")\n",
    "\n",
    "%matplotlib inline"
   ]
  },
  {
   "cell_type": "markdown",
   "id": "8766f814",
   "metadata": {},
   "source": [
    "# Import data"
   ]
  },
  {
   "cell_type": "code",
   "execution_count": 2,
   "id": "81220047",
   "metadata": {
    "ExecuteTime": {
     "end_time": "2022-03-24T13:52:56.444839Z",
     "start_time": "2022-03-24T13:52:56.318672Z"
    },
    "code_folding": [
     11
    ],
    "execution": {
     "iopub.execute_input": "2022-04-12T15:19:03.781572Z",
     "iopub.status.busy": "2022-04-12T15:19:03.781429Z",
     "iopub.status.idle": "2022-04-12T15:19:03.845174Z",
     "shell.execute_reply": "2022-04-12T15:19:03.844750Z",
     "shell.execute_reply.started": "2022-04-12T15:19:03.781551Z"
    },
    "tags": []
   },
   "outputs": [],
   "source": [
    "train_data_path = Path('data_train.csv')\n",
    "train_label_path = Path('target_train.csv')\n",
    "test_data_path = Path('data_test.csv')\n",
    "\n",
    "data_train = pd.read_csv(train_data_path)\n",
    "data_label = pd.read_csv(train_label_path)\n",
    "data_test = pd.read_csv(test_data_path)\n",
    "\n",
    "target_test = pd.read_csv(\"target_test.csv\").drop('Unnamed: 0', axis=1).set_index('index')\n",
    "\n",
    "data_test['index'] = data_test['LAPISSUGL'].astype(str) + '-' + data_test['ARUSKOD'].astype(str)\n",
    "data_test = data_test.set_index('index')\n",
    "\n",
    "data_train['index'] = data_train['LAPISSUGL'].astype(str) + '-' + data_train['ARUSKOD'].astype(str)\n",
    "data_train = data_train.set_index('index')\n",
    "\n",
    "data_label['index'] = data_train.index\n",
    "data_label = data_label.set_index('index')\n",
    "\n",
    "data_train = data_train.loc[:, lambda _df: _df.nunique(dropna=False) > 1].dropna(\n",
    "    how=\"all\", axis=1\n",
    ")"
   ]
  },
  {
   "cell_type": "markdown",
   "id": "cfb0407b",
   "metadata": {},
   "source": [
    "## Constants "
   ]
  },
  {
   "cell_type": "code",
   "execution_count": 3,
   "id": "b5c29168",
   "metadata": {
    "ExecuteTime": {
     "end_time": "2022-03-24T13:52:57.802093Z",
     "start_time": "2022-03-24T13:52:57.786070Z"
    },
    "execution": {
     "iopub.execute_input": "2022-04-12T15:19:03.845893Z",
     "iopub.status.busy": "2022-04-12T15:19:03.845771Z",
     "iopub.status.idle": "2022-04-12T15:19:03.848457Z",
     "shell.execute_reply": "2022-04-12T15:19:03.848108Z",
     "shell.execute_reply.started": "2022-04-12T15:19:03.845876Z"
    }
   },
   "outputs": [],
   "source": [
    "FIG_WIDTH = 16\n",
    "FIG_HEIGHT = 8\n",
    "rng = np.random.default_rng(seed=420)"
   ]
  },
  {
   "cell_type": "markdown",
   "id": "1b56a964",
   "metadata": {},
   "source": [
    "# Wrangling"
   ]
  },
  {
   "cell_type": "code",
   "execution_count": 4,
   "id": "7c570ba1",
   "metadata": {
    "ExecuteTime": {
     "end_time": "2022-03-24T13:52:59.009830Z",
     "start_time": "2022-03-24T13:52:59.005824Z"
    },
    "execution": {
     "iopub.execute_input": "2022-04-12T15:19:03.849849Z",
     "iopub.status.busy": "2022-04-12T15:19:03.849519Z",
     "iopub.status.idle": "2022-04-12T15:19:03.983840Z",
     "shell.execute_reply": "2022-04-12T15:19:03.982749Z",
     "shell.execute_reply.started": "2022-04-12T15:19:03.849832Z"
    }
   },
   "outputs": [
    {
     "ename": "ModuleNotFoundError",
     "evalue": "No module named 'src'",
     "output_type": "error",
     "traceback": [
      "\u001b[0;31m---------------------------------------------------------------------------\u001b[0m",
      "\u001b[0;31mModuleNotFoundError\u001b[0m                       Traceback (most recent call last)",
      "\u001b[0;32m/tmp/ipykernel_1142912/273018293.py\u001b[0m in \u001b[0;36m<module>\u001b[0;34m\u001b[0m\n\u001b[0;32m----> 1\u001b[0;31m \u001b[0;32mfrom\u001b[0m \u001b[0msrc\u001b[0m\u001b[0;34m.\u001b[0m\u001b[0mschema\u001b[0m \u001b[0;32mimport\u001b[0m \u001b[0mTypeClass\u001b[0m\u001b[0;34m\u001b[0m\u001b[0;34m\u001b[0m\u001b[0m\n\u001b[0m",
      "\u001b[0;31mModuleNotFoundError\u001b[0m: No module named 'src'"
     ]
    }
   ],
   "source": [
    "from src.schema import TypeClass"
   ]
  },
  {
   "cell_type": "code",
   "execution_count": null,
   "id": "eb33630a",
   "metadata": {
    "ExecuteTime": {
     "end_time": "2022-03-24T13:52:59.780058Z",
     "start_time": "2022-03-24T13:52:59.700056Z"
    },
    "execution": {
     "iopub.status.busy": "2022-04-12T15:19:03.984379Z",
     "iopub.status.idle": "2022-04-12T15:19:03.984568Z",
     "shell.execute_reply": "2022-04-12T15:19:03.984476Z",
     "shell.execute_reply.started": "2022-04-12T15:19:03.984465Z"
    }
   },
   "outputs": [],
   "source": [
    "data_train = (\n",
    "    data_train.astype(TypeClass.all_dict())\n",
    "    .replace({pd.NA: np.nan})\n",
    "    .drop(columns=[\"LAPISSUGL\", \"KFDELDATE\"])\n",
    ")"
   ]
  },
  {
   "cell_type": "code",
   "execution_count": null,
   "id": "4deeea02",
   "metadata": {
    "ExecuteTime": {
     "end_time": "2022-03-24T13:53:01.321265Z",
     "start_time": "2022-03-24T13:53:01.297269Z"
    },
    "execution": {
     "iopub.status.busy": "2022-04-12T15:19:03.985529Z",
     "iopub.status.idle": "2022-04-12T15:19:03.985739Z",
     "shell.execute_reply": "2022-04-12T15:19:03.985646Z",
     "shell.execute_reply.started": "2022-04-12T15:19:03.985635Z"
    }
   },
   "outputs": [],
   "source": [
    "X_train, X_test, y_train, y_test = train_test_split(\n",
    "    data_train,\n",
    "    data_label[\"NAPI_ELADOTT_DB\"],\n",
    "    test_size=0.2,\n",
    "    random_state=420,\n",
    ")"
   ]
  },
  {
   "cell_type": "markdown",
   "id": "9870bfe1",
   "metadata": {},
   "source": [
    "# Pandas profiling "
   ]
  },
  {
   "cell_type": "code",
   "execution_count": null,
   "id": "598dbc94",
   "metadata": {
    "ExecuteTime": {
     "end_time": "2022-03-23T14:36:23.038420Z",
     "start_time": "2022-03-23T14:36:23.022445Z"
    },
    "execution": {
     "iopub.status.busy": "2022-04-12T15:19:03.986421Z",
     "iopub.status.idle": "2022-04-12T15:19:03.986607Z",
     "shell.execute_reply": "2022-04-12T15:19:03.986514Z",
     "shell.execute_reply.started": "2022-04-12T15:19:03.986504Z"
    }
   },
   "outputs": [],
   "source": [
    "profile = ProfileReport(\n",
    "    data_train,\n",
    "    infer_dtypes=False,\n",
    ")"
   ]
  },
  {
   "cell_type": "code",
   "execution_count": null,
   "id": "e0ffbfa0",
   "metadata": {
    "ExecuteTime": {
     "end_time": "2022-03-22T18:15:01.659116Z",
     "start_time": "2022-03-22T18:14:54.685593Z"
    },
    "execution": {
     "iopub.status.busy": "2022-04-12T15:19:03.987686Z",
     "iopub.status.idle": "2022-04-12T15:19:03.987891Z",
     "shell.execute_reply": "2022-04-12T15:19:03.987789Z",
     "shell.execute_reply.started": "2022-04-12T15:19:03.987778Z"
    },
    "scrolled": true
   },
   "outputs": [],
   "source": [
    "profile.to_file(Path('output/pp_report.html'))"
   ]
  },
  {
   "cell_type": "markdown",
   "id": "4b532402",
   "metadata": {},
   "source": [
    "# Encoding"
   ]
  },
  {
   "cell_type": "markdown",
   "id": "df2407b7",
   "metadata": {
    "ExecuteTime": {
     "end_time": "2022-03-22T11:04:35.532777Z",
     "start_time": "2022-03-22T11:04:35.514775Z"
    }
   },
   "source": [
    "A következő rész egy pipeline-t épít fel, ami megnézi, hogy a test adaton melyik encoding teljesít a legjobban."
   ]
  },
  {
   "cell_type": "code",
   "execution_count": null,
   "id": "7d9a54f2",
   "metadata": {
    "ExecuteTime": {
     "end_time": "2022-03-22T18:22:27.413632Z",
     "start_time": "2022-03-22T18:22:27.389625Z"
    },
    "execution": {
     "iopub.status.busy": "2022-04-12T15:19:03.988481Z",
     "iopub.status.idle": "2022-04-12T15:19:03.988658Z",
     "shell.execute_reply": "2022-04-12T15:19:03.988570Z",
     "shell.execute_reply.started": "2022-04-12T15:19:03.988560Z"
    }
   },
   "outputs": [],
   "source": [
    "numeric_transformer = SimpleImputer(strategy=\"median\")\n",
    "\n",
    "encoders = Pipeline(\n",
    "    steps=[\n",
    "        (\"ohe\", OneHotEncoder()),\n",
    "        (\n",
    "            \"oe\",\n",
    "            OrdinalEncoder(handle_unknown=\"use_encoded_value\", unknown_value=np.nan),\n",
    "        ),\n",
    "        (\n",
    "            \"te\",\n",
    "            TargetEncoder(\n",
    "                verbose=0,\n",
    "                drop_invariant=False,\n",
    "                return_df=True,\n",
    "                handle_missing=\"value\",\n",
    "                handle_unknown=\"value\",\n",
    "                min_samples_leaf=1,\n",
    "                smoothing=1.0,\n",
    "            ),\n",
    "        ),\n",
    "    ]\n",
    ")\n",
    "\n",
    "categorical_transformer = Pipeline(\n",
    "    steps=[\n",
    "        (\n",
    "            \"imputer\",\n",
    "            SimpleImputer(\n",
    "                missing_values=np.nan, strategy=\"constant\", fill_value=\"MISSING\"\n",
    "            ),\n",
    "        ),\n",
    "        (\"encoder\", encoders),\n",
    "    ]\n",
    ")\n",
    "\n",
    "preprocessor = ColumnTransformer(\n",
    "    transformers=[\n",
    "        (\"cat\", categorical_transformer, selector(dtype_include=\"object\")),\n",
    "        (\n",
    "            \"num\",\n",
    "            numeric_transformer,\n",
    "            selector(dtype_include=\"number\", dtype_exclude=\"boolean\"),\n",
    "        ),\n",
    "    ],\n",
    ")\n",
    "\n",
    "clf = Pipeline(\n",
    "    steps=[\n",
    "        (\"preprocessor\", preprocessor),\n",
    "        (\"regressor\", DecisionTreeRegressor(random_state=420)),\n",
    "    ]\n",
    ")"
   ]
  },
  {
   "cell_type": "code",
   "execution_count": null,
   "id": "ec841cbc",
   "metadata": {
    "ExecuteTime": {
     "end_time": "2022-03-22T18:22:28.208060Z",
     "start_time": "2022-03-22T18:22:28.192049Z"
    },
    "execution": {
     "iopub.status.busy": "2022-04-12T15:19:03.989651Z",
     "iopub.status.idle": "2022-04-12T15:19:03.990021Z",
     "shell.execute_reply": "2022-04-12T15:19:03.989921Z",
     "shell.execute_reply.started": "2022-04-12T15:19:03.989909Z"
    }
   },
   "outputs": [],
   "source": [
    "grid_params = [\n",
    "    {\n",
    "        \"preprocessor__cat__encoder__ohe\": [\"passthrough\"],\n",
    "        \"preprocessor__cat__encoder__oe\": [\"passthrough\"],\n",
    "        \"regressor__max_depth\": range(1, 50),\n",
    "    },\n",
    "    {\n",
    "        \"preprocessor__cat__encoder__oe\": [\"passthrough\"],\n",
    "        \"preprocessor__cat__encoder__te\": [\"passthrough\"],\n",
    "        \"regressor__max_depth\": range(1, 50),\n",
    "    },\n",
    "    {\n",
    "        \"preprocessor__cat__encoder__te\": [\"passthrough\"],\n",
    "        \"preprocessor__cat__encoder__ohe\": [\"passthrough\"],\n",
    "        \"regressor__max_depth\": range(1, 50),\n",
    "    },\n",
    "]"
   ]
  },
  {
   "cell_type": "code",
   "execution_count": null,
   "id": "8e7b6ab7",
   "metadata": {
    "ExecuteTime": {
     "end_time": "2022-03-22T18:23:56.155270Z",
     "start_time": "2022-03-22T18:22:29.157383Z"
    },
    "execution": {
     "iopub.status.busy": "2022-04-12T15:19:03.990685Z",
     "iopub.status.idle": "2022-04-12T15:19:03.990875Z",
     "shell.execute_reply": "2022-04-12T15:19:03.990774Z",
     "shell.execute_reply.started": "2022-04-12T15:19:03.990764Z"
    }
   },
   "outputs": [],
   "source": [
    "gs = GridSearchCV(\n",
    "    clf, grid_params, verbose=3, scoring=\"neg_mean_squared_error\", n_jobs=-1\n",
    ")\n",
    "\n",
    "gs.fit(X_train, y_train)"
   ]
  },
  {
   "cell_type": "code",
   "execution_count": null,
   "id": "eaa24b8f",
   "metadata": {
    "ExecuteTime": {
     "end_time": "2022-03-22T18:23:56.179266Z",
     "start_time": "2022-03-22T18:23:56.155270Z"
    },
    "execution": {
     "iopub.status.busy": "2022-04-12T15:19:03.991658Z",
     "iopub.status.idle": "2022-04-12T15:19:03.991896Z",
     "shell.execute_reply": "2022-04-12T15:19:03.991794Z",
     "shell.execute_reply.started": "2022-04-12T15:19:03.991783Z"
    }
   },
   "outputs": [],
   "source": [
    "grid_stats = pd.DataFrame(\n",
    "    {\n",
    "        \"encoder\": [*([\"TE\"] * 49), *([\"OHE\"] * 49), *([\"OE\"] * 49)],\n",
    "        \"N-RMSE\": gs.cv_results_[\"mean_test_score\"],\n",
    "        \"max_depth\": [*range(1, 50)] * 3,\n",
    "    }\n",
    ")"
   ]
  },
  {
   "cell_type": "code",
   "execution_count": null,
   "id": "d94fc55c",
   "metadata": {
    "ExecuteTime": {
     "end_time": "2022-03-22T18:23:56.779789Z",
     "start_time": "2022-03-22T18:23:56.179266Z"
    },
    "execution": {
     "iopub.status.busy": "2022-04-12T15:19:03.992667Z",
     "iopub.status.idle": "2022-04-12T15:19:03.992853Z",
     "shell.execute_reply": "2022-04-12T15:19:03.992757Z",
     "shell.execute_reply.started": "2022-04-12T15:19:03.992747Z"
    }
   },
   "outputs": [],
   "source": [
    "fig, axes = plt.subplots(figsize=[FIG_WIDTH, FIG_HEIGHT])\n",
    "grid_stats.groupby(\"encoder\").apply(\n",
    "    lambda _gdf: axes.plot(\n",
    "        _gdf[\"max_depth\"], _gdf[\"N-RMSE\"], label=_gdf[\"encoder\"].iloc[0]\n",
    "    )\n",
    ")\n",
    "axes.legend()\n",
    "plt.show()"
   ]
  },
  {
   "cell_type": "code",
   "execution_count": null,
   "id": "7c2108b8",
   "metadata": {
    "ExecuteTime": {
     "end_time": "2022-03-22T18:24:30.952187Z",
     "start_time": "2022-03-22T18:24:30.928190Z"
    },
    "execution": {
     "iopub.status.busy": "2022-04-12T15:19:03.993368Z",
     "iopub.status.idle": "2022-04-12T15:19:03.993543Z",
     "shell.execute_reply": "2022-04-12T15:19:03.993456Z",
     "shell.execute_reply.started": "2022-04-12T15:19:03.993446Z"
    }
   },
   "outputs": [],
   "source": [
    "gs.best_params_"
   ]
  },
  {
   "cell_type": "code",
   "execution_count": null,
   "id": "ae573f2d",
   "metadata": {
    "ExecuteTime": {
     "end_time": "2022-03-22T18:24:17.490560Z",
     "start_time": "2022-03-22T18:24:17.284311Z"
    },
    "execution": {
     "iopub.status.busy": "2022-04-12T15:19:03.994117Z",
     "iopub.status.idle": "2022-04-12T15:19:03.994322Z",
     "shell.execute_reply": "2022-04-12T15:19:03.994231Z",
     "shell.execute_reply.started": "2022-04-12T15:19:03.994220Z"
    }
   },
   "outputs": [],
   "source": [
    "gs.best_estimator_"
   ]
  },
  {
   "cell_type": "markdown",
   "id": "fe774706",
   "metadata": {},
   "source": [
    "# Decision tree"
   ]
  },
  {
   "cell_type": "markdown",
   "id": "e6ca3da7",
   "metadata": {
    "ExecuteTime": {
     "end_time": "2022-03-22T20:36:53.942774Z",
     "start_time": "2022-03-22T20:36:53.942774Z"
    }
   },
   "source": [
    "## Simple"
   ]
  },
  {
   "cell_type": "code",
   "execution_count": null,
   "id": "c7f1f5a5",
   "metadata": {
    "ExecuteTime": {
     "end_time": "2022-03-23T14:36:24.774811Z",
     "start_time": "2022-03-23T14:36:24.030807Z"
    },
    "execution": {
     "iopub.status.busy": "2022-04-12T15:19:03.994997Z",
     "iopub.status.idle": "2022-04-12T15:19:03.995175Z",
     "shell.execute_reply": "2022-04-12T15:19:03.995086Z",
     "shell.execute_reply.started": "2022-04-12T15:19:03.995076Z"
    }
   },
   "outputs": [],
   "source": [
    "numeric_transformer = SimpleImputer(strategy=\"median\")\n",
    "\n",
    "encoder = TargetEncoder(\n",
    "    verbose=0,\n",
    "    drop_invariant=False,\n",
    "    return_df=True,\n",
    "    handle_missing=\"value\",\n",
    "    handle_unknown=\"value\",\n",
    "    min_samples_leaf=1,\n",
    "    smoothing=1.0,\n",
    ")\n",
    "\n",
    "categorical_transformer = Pipeline(\n",
    "    steps=[\n",
    "        (\n",
    "            \"imputer\",\n",
    "            SimpleImputer(\n",
    "                missing_values=np.nan, strategy=\"constant\", fill_value=\"MISSING\"\n",
    "            ),\n",
    "        ),\n",
    "        (\"encoder\", encoder),\n",
    "    ]\n",
    ")\n",
    "\n",
    "preprocessor = ColumnTransformer(\n",
    "    transformers=[\n",
    "        (\"cat\", categorical_transformer, selector(dtype_include=\"object\")),\n",
    "        (\n",
    "            \"num\",\n",
    "            numeric_transformer,\n",
    "            selector(dtype_include=\"number\"),\n",
    "        ),\n",
    "    ],\n",
    ")\n",
    "\n",
    "clf = Pipeline(\n",
    "    steps=[\n",
    "        (\"preprocessor\", preprocessor),\n",
    "        (\"regressor\", DecisionTreeRegressor(random_state=420)),\n",
    "    ],\n",
    "    memory=cachedir,\n",
    ")"
   ]
  },
  {
   "cell_type": "code",
   "execution_count": null,
   "id": "b0d17674",
   "metadata": {
    "ExecuteTime": {
     "end_time": "2022-03-22T18:50:40.483873Z",
     "start_time": "2022-03-22T18:50:40.146466Z"
    },
    "execution": {
     "iopub.status.busy": "2022-04-12T15:19:03.996126Z",
     "iopub.status.idle": "2022-04-12T15:19:03.996375Z",
     "shell.execute_reply": "2022-04-12T15:19:03.996284Z",
     "shell.execute_reply.started": "2022-04-12T15:19:03.996274Z"
    }
   },
   "outputs": [],
   "source": [
    "clf.fit(X_train, y_train)"
   ]
  },
  {
   "cell_type": "code",
   "execution_count": null,
   "id": "957c93b5",
   "metadata": {
    "ExecuteTime": {
     "end_time": "2022-03-22T18:51:10.488141Z",
     "start_time": "2022-03-22T18:51:10.416119Z"
    },
    "execution": {
     "iopub.status.busy": "2022-04-12T15:19:03.997279Z",
     "iopub.status.idle": "2022-04-12T15:19:03.997618Z",
     "shell.execute_reply": "2022-04-12T15:19:03.997510Z",
     "shell.execute_reply.started": "2022-04-12T15:19:03.997497Z"
    }
   },
   "outputs": [],
   "source": [
    "pred = clf.predict(X_test)"
   ]
  },
  {
   "cell_type": "code",
   "execution_count": null,
   "id": "accd45d2",
   "metadata": {
    "ExecuteTime": {
     "end_time": "2022-03-22T18:51:11.387553Z",
     "start_time": "2022-03-22T18:51:11.355528Z"
    },
    "execution": {
     "iopub.status.busy": "2022-04-12T15:19:03.998302Z",
     "iopub.status.idle": "2022-04-12T15:19:03.998490Z",
     "shell.execute_reply": "2022-04-12T15:19:03.998391Z",
     "shell.execute_reply.started": "2022-04-12T15:19:03.998381Z"
    }
   },
   "outputs": [],
   "source": [
    "print('MAE:', metrics.mean_absolute_error(y_test,pred))\n",
    "print('MSE:', metrics.mean_squared_error(y_test, pred))\n",
    "print('RMSE:', np.sqrt(metrics.mean_squared_error(y_test, pred)))"
   ]
  },
  {
   "cell_type": "code",
   "execution_count": null,
   "id": "cc55cff6",
   "metadata": {
    "ExecuteTime": {
     "end_time": "2022-03-22T18:51:24.838098Z",
     "start_time": "2022-03-22T18:51:24.089976Z"
    },
    "execution": {
     "iopub.status.busy": "2022-04-12T15:19:03.999139Z",
     "iopub.status.idle": "2022-04-12T15:19:03.999315Z",
     "shell.execute_reply": "2022-04-12T15:19:03.999226Z",
     "shell.execute_reply.started": "2022-04-12T15:19:03.999216Z"
    }
   },
   "outputs": [],
   "source": [
    "fig, axes = plt.subplots(ncols=2, figsize=[FIG_WIDTH, FIG_HEIGHT])\n",
    "sns.scatterplot(x=pred, y=y_test.values, alpha=0.5, ax=axes[0])\n",
    "sns.histplot(y_test.values - pred, ax=axes[1], stat='density')\n",
    "plt.show()"
   ]
  },
  {
   "cell_type": "code",
   "execution_count": null,
   "id": "a0c9a296",
   "metadata": {
    "ExecuteTime": {
     "end_time": "2022-03-22T18:51:25.980049Z",
     "start_time": "2022-03-22T18:51:25.964055Z"
    },
    "execution": {
     "iopub.status.busy": "2022-04-12T15:19:04.000258Z",
     "iopub.status.idle": "2022-04-12T15:19:04.000637Z",
     "shell.execute_reply": "2022-04-12T15:19:04.000531Z",
     "shell.execute_reply.started": "2022-04-12T15:19:04.000519Z"
    }
   },
   "outputs": [],
   "source": [
    "Path('output/dtree_simple.pickle').write_bytes(pickle.dumps(clf))"
   ]
  },
  {
   "cell_type": "markdown",
   "id": "a53dd471",
   "metadata": {},
   "source": [
    "## Tune max_depth only (Bayesian)"
   ]
  },
  {
   "cell_type": "code",
   "execution_count": null,
   "id": "8ac88f0e",
   "metadata": {
    "ExecuteTime": {
     "end_time": "2022-03-24T12:50:26.841442Z",
     "start_time": "2022-03-24T12:50:26.817446Z"
    },
    "execution": {
     "iopub.status.busy": "2022-04-12T15:19:04.001320Z",
     "iopub.status.idle": "2022-04-12T15:19:04.001504Z",
     "shell.execute_reply": "2022-04-12T15:19:04.001411Z",
     "shell.execute_reply.started": "2022-04-12T15:19:04.001401Z"
    }
   },
   "outputs": [],
   "source": [
    "numeric_transformer = SimpleImputer(strategy=\"median\")\n",
    "\n",
    "encoder = TargetEncoder(\n",
    "    verbose=0,\n",
    "    drop_invariant=False,\n",
    "    return_df=True,\n",
    "    handle_missing=\"value\",\n",
    "    handle_unknown=\"value\",\n",
    "    min_samples_leaf=1,\n",
    "    smoothing=1.0,\n",
    ")\n",
    "\n",
    "categorical_transformer = Pipeline(\n",
    "    steps=[\n",
    "        (\n",
    "            \"imputer\",\n",
    "            SimpleImputer(\n",
    "                missing_values=np.nan, strategy=\"constant\", fill_value=\"MISSING\"\n",
    "            ),\n",
    "        ),\n",
    "        (\"encoder\", encoder),\n",
    "    ]\n",
    ")\n",
    "\n",
    "preprocessor = ColumnTransformer(\n",
    "    transformers=[\n",
    "        (\"cat\", categorical_transformer, selector(dtype_include=\"object\")),\n",
    "        (\n",
    "            \"num\",\n",
    "            numeric_transformer,\n",
    "            selector(dtype_include=\"number\"),\n",
    "        ),\n",
    "    ],\n",
    ")\n",
    "\n",
    "clf = Pipeline(\n",
    "    steps=[\n",
    "        (\"preprocessor\", preprocessor),\n",
    "        (\"feature_selection\", SelectFromModel(ExtraTreesRegressor())),\n",
    "        (\"regressor\", DecisionTreeRegressor(random_state=420)),\n",
    "    ],\n",
    "    memory=cachedir,\n",
    ")"
   ]
  },
  {
   "cell_type": "code",
   "execution_count": null,
   "id": "9ec229f6",
   "metadata": {
    "ExecuteTime": {
     "end_time": "2022-03-24T12:50:59.641976Z",
     "start_time": "2022-03-24T12:50:59.621985Z"
    },
    "execution": {
     "iopub.status.busy": "2022-04-12T15:19:04.002144Z",
     "iopub.status.idle": "2022-04-12T15:19:04.002328Z",
     "shell.execute_reply": "2022-04-12T15:19:04.002237Z",
     "shell.execute_reply.started": "2022-04-12T15:19:04.002227Z"
    }
   },
   "outputs": [],
   "source": [
    "parameters = {\n",
    "#     \"regressor__splitter\": [\"best\", \"random\"],\n",
    "#     \"regressor__max_depth\": (1, 1000),\n",
    "    \"feature_selection__estimator__n_estimators\": (1,50),\n",
    "    \"regressor__min_samples_leaf\": (1e-6, 5e-1, \"log-uniform\"),\n",
    "    \"regressor__min_samples_split\": (1e-6, 5e-1, \"log-uniform\"),\n",
    "#     \"regressor__min_weight_fraction_leaf\": (1e-6, 5e-1, \"log-uniform\"),\n",
    "#     \"regressor__max_features\": [\"auto\", \"log2\", \"sqrt\", None],\n",
    "#     \"regressor__max_leaf_nodes\": [None, *np.linspace(1, 100, 100, dtype=np.int64)],\n",
    "}"
   ]
  },
  {
   "cell_type": "code",
   "execution_count": null,
   "id": "60b1377f",
   "metadata": {
    "ExecuteTime": {
     "end_time": "2022-03-24T12:51:00.364827Z",
     "start_time": "2022-03-24T12:51:00.340830Z"
    },
    "execution": {
     "iopub.status.busy": "2022-04-12T15:19:04.003376Z",
     "iopub.status.idle": "2022-04-12T15:19:04.003622Z",
     "shell.execute_reply": "2022-04-12T15:19:04.003523Z",
     "shell.execute_reply.started": "2022-04-12T15:19:04.003512Z"
    }
   },
   "outputs": [],
   "source": [
    "opt = BayesSearchCV(\n",
    "    clf_1,\n",
    "    parameters,\n",
    "    n_iter=1_000,\n",
    "    cv=3,\n",
    "    scoring=\"neg_mean_squared_error\",\n",
    "    verbose=0,\n",
    "    refit=True,\n",
    "#     n_jobs=7\n",
    ")"
   ]
  },
  {
   "cell_type": "code",
   "execution_count": null,
   "id": "574c1b1e",
   "metadata": {
    "ExecuteTime": {
     "end_time": "2022-03-24T12:51:01.024381Z",
     "start_time": "2022-03-24T12:51:01.011396Z"
    },
    "execution": {
     "iopub.status.busy": "2022-04-12T15:19:04.004145Z",
     "iopub.status.idle": "2022-04-12T15:19:04.004519Z",
     "shell.execute_reply": "2022-04-12T15:19:04.004409Z",
     "shell.execute_reply.started": "2022-04-12T15:19:04.004397Z"
    }
   },
   "outputs": [],
   "source": [
    "callbacks = [\n",
    "    DeadlineStopper(60*60),\n",
    "#     DeltaYStopper(0.0001)\n",
    "]"
   ]
  },
  {
   "cell_type": "code",
   "execution_count": null,
   "id": "75e047fb",
   "metadata": {
    "ExecuteTime": {
     "end_time": "2022-03-24T13:50:47.867962Z",
     "start_time": "2022-03-24T12:51:01.746934Z"
    },
    "execution": {
     "iopub.status.busy": "2022-04-12T15:19:04.005039Z",
     "iopub.status.idle": "2022-04-12T15:19:04.005214Z",
     "shell.execute_reply": "2022-04-12T15:19:04.005126Z",
     "shell.execute_reply.started": "2022-04-12T15:19:04.005116Z"
    },
    "scrolled": true
   },
   "outputs": [],
   "source": [
    "opt.fit(X_train, y_train, callback=callbacks)"
   ]
  },
  {
   "cell_type": "code",
   "execution_count": null,
   "id": "809ad5ee",
   "metadata": {
    "ExecuteTime": {
     "end_time": "2022-03-24T13:50:48.370942Z",
     "start_time": "2022-03-24T13:50:47.873946Z"
    },
    "execution": {
     "iopub.status.busy": "2022-04-12T15:19:04.005646Z",
     "iopub.status.idle": "2022-04-12T15:19:04.005820Z",
     "shell.execute_reply": "2022-04-12T15:19:04.005732Z",
     "shell.execute_reply.started": "2022-04-12T15:19:04.005722Z"
    }
   },
   "outputs": [],
   "source": [
    "fig, axes = plt.subplots(figsize=[16, 8])\n",
    "sns.lineplot(\n",
    "    x=np.arange(opt.cv_results_[\"mean_test_score\"].shape[0]),\n",
    "    y=opt.cv_results_[\"mean_test_score\"],\n",
    "    ax=axes,\n",
    ")\n",
    "axes.axhline(y=opt.best_score_, color=\"red\", linestyle=\"--\")\n",
    "plt.show()"
   ]
  },
  {
   "cell_type": "code",
   "execution_count": null,
   "id": "2d9d034d",
   "metadata": {
    "ExecuteTime": {
     "end_time": "2022-03-24T13:50:48.401946Z",
     "start_time": "2022-03-24T13:50:48.375946Z"
    },
    "execution": {
     "iopub.status.busy": "2022-04-12T15:19:04.006708Z",
     "iopub.status.idle": "2022-04-12T15:19:04.006913Z",
     "shell.execute_reply": "2022-04-12T15:19:04.006815Z",
     "shell.execute_reply.started": "2022-04-12T15:19:04.006804Z"
    }
   },
   "outputs": [],
   "source": [
    "opt.best_params_"
   ]
  },
  {
   "cell_type": "code",
   "execution_count": null,
   "id": "4bf2fb02",
   "metadata": {
    "ExecuteTime": {
     "end_time": "2022-03-24T13:50:48.433947Z",
     "start_time": "2022-03-24T13:50:48.410944Z"
    },
    "execution": {
     "iopub.status.busy": "2022-04-12T15:19:04.007699Z",
     "iopub.status.idle": "2022-04-12T15:19:04.007876Z",
     "shell.execute_reply": "2022-04-12T15:19:04.007787Z",
     "shell.execute_reply.started": "2022-04-12T15:19:04.007777Z"
    }
   },
   "outputs": [],
   "source": [
    "dtree_bayesian_te = opt.best_estimator_"
   ]
  },
  {
   "cell_type": "code",
   "execution_count": null,
   "id": "0d35c467",
   "metadata": {
    "ExecuteTime": {
     "end_time": "2022-03-24T13:50:48.543957Z",
     "start_time": "2022-03-24T13:50:48.437947Z"
    },
    "execution": {
     "iopub.status.busy": "2022-04-12T15:19:04.008833Z",
     "iopub.status.idle": "2022-04-12T15:19:04.009146Z",
     "shell.execute_reply": "2022-04-12T15:19:04.009039Z",
     "shell.execute_reply.started": "2022-04-12T15:19:04.009026Z"
    }
   },
   "outputs": [],
   "source": [
    "pred = dtree_bayesian_te.predict(X_test)"
   ]
  },
  {
   "cell_type": "code",
   "execution_count": null,
   "id": "bbba488e",
   "metadata": {
    "ExecuteTime": {
     "end_time": "2022-03-24T13:51:02.845315Z",
     "start_time": "2022-03-24T13:51:02.833313Z"
    },
    "execution": {
     "iopub.status.busy": "2022-04-12T15:19:04.009836Z",
     "iopub.status.idle": "2022-04-12T15:19:04.010222Z",
     "shell.execute_reply": "2022-04-12T15:19:04.010124Z",
     "shell.execute_reply.started": "2022-04-12T15:19:04.010106Z"
    }
   },
   "outputs": [],
   "source": [
    "print('MAE:', metrics.mean_absolute_error(y_test,pred))\n",
    "print('MSE:', metrics.mean_squared_error(y_test, pred))\n",
    "print('RMSE:', np.sqrt(metrics.mean_squared_error(y_test, pred)))"
   ]
  },
  {
   "cell_type": "code",
   "execution_count": null,
   "id": "cbd3a069",
   "metadata": {
    "ExecuteTime": {
     "end_time": "2022-03-24T13:51:05.400729Z",
     "start_time": "2022-03-24T13:51:04.738620Z"
    },
    "execution": {
     "iopub.status.busy": "2022-04-12T15:19:04.010859Z",
     "iopub.status.idle": "2022-04-12T15:19:04.011250Z",
     "shell.execute_reply": "2022-04-12T15:19:04.011151Z",
     "shell.execute_reply.started": "2022-04-12T15:19:04.011140Z"
    }
   },
   "outputs": [],
   "source": [
    "fig, axes = plt.subplots(ncols=2, figsize=[FIG_WIDTH, FIG_HEIGHT])\n",
    "sns.scatterplot(x=pred, y=y_test.values, alpha=0.5, ax=axes[0])\n",
    "sns.histplot(y_test.values - pred, ax=axes[1], stat='density')\n",
    "plt.show()"
   ]
  },
  {
   "cell_type": "code",
   "execution_count": null,
   "id": "33d4eae9",
   "metadata": {
    "ExecuteTime": {
     "end_time": "2022-03-24T13:51:10.260921Z",
     "start_time": "2022-03-24T13:51:10.191916Z"
    },
    "execution": {
     "iopub.status.busy": "2022-04-12T15:19:04.011904Z",
     "iopub.status.idle": "2022-04-12T15:19:04.012082Z",
     "shell.execute_reply": "2022-04-12T15:19:04.011993Z",
     "shell.execute_reply.started": "2022-04-12T15:19:04.011983Z"
    }
   },
   "outputs": [],
   "source": [
    "Path('output/dtree_bayesian_te.pickle').write_bytes(pickle.dumps(dtree_bayesian_te))"
   ]
  },
  {
   "cell_type": "markdown",
   "id": "759af4cb",
   "metadata": {},
   "source": [
    "# Prediction"
   ]
  },
  {
   "cell_type": "code",
   "execution_count": null,
   "id": "bdedea30",
   "metadata": {
    "ExecuteTime": {
     "end_time": "2022-03-24T13:54:03.662414Z",
     "start_time": "2022-03-24T13:54:03.630390Z"
    },
    "execution": {
     "iopub.status.busy": "2022-04-12T15:19:04.012855Z",
     "iopub.status.idle": "2022-04-12T15:19:04.013035Z",
     "shell.execute_reply": "2022-04-12T15:19:04.012943Z",
     "shell.execute_reply.started": "2022-04-12T15:19:04.012933Z"
    }
   },
   "outputs": [],
   "source": [
    "data_test_processed = data_test.loc[:,data_train.columns].astype(data_train.dtypes)"
   ]
  },
  {
   "cell_type": "code",
   "execution_count": null,
   "id": "5dd52ffc",
   "metadata": {
    "ExecuteTime": {
     "end_time": "2022-03-24T13:59:38.367162Z",
     "start_time": "2022-03-24T13:59:38.286182Z"
    },
    "execution": {
     "iopub.status.busy": "2022-04-12T15:19:04.013843Z",
     "iopub.status.idle": "2022-04-12T15:19:04.014048Z",
     "shell.execute_reply": "2022-04-12T15:19:04.013952Z",
     "shell.execute_reply.started": "2022-04-12T15:19:04.013942Z"
    }
   },
   "outputs": [],
   "source": [
    "pred = pd.DataFrame(dtree_bayesian_te.predict(data_test_processed)).reset_index().rename(columns={0:'pred'})"
   ]
  },
  {
   "cell_type": "code",
   "execution_count": null,
   "id": "f1daec02",
   "metadata": {
    "ExecuteTime": {
     "end_time": "2022-03-24T14:00:01.783382Z",
     "start_time": "2022-03-24T14:00:01.747382Z"
    },
    "execution": {
     "iopub.status.busy": "2022-04-12T15:19:04.014773Z",
     "iopub.status.idle": "2022-04-12T15:19:04.014957Z",
     "shell.execute_reply": "2022-04-12T15:19:04.014867Z",
     "shell.execute_reply.started": "2022-04-12T15:19:04.014857Z"
    },
    "tags": []
   },
   "outputs": [],
   "source": [
    "pred.to_csv(Path('output/test_prediction.csv'), index=False)"
   ]
  }
 ],
 "metadata": {
  "kernelspec": {
   "display_name": "🌍 Base Python 3.7 Environment",
   "language": "python",
   "name": "python3"
  },
  "language_info": {
   "codemirror_mode": {
    "name": "ipython",
    "version": 3
   },
   "file_extension": ".py",
   "mimetype": "text/x-python",
   "name": "python",
   "nbconvert_exporter": "python",
   "pygments_lexer": "ipython3",
   "version": "3.7.10"
  },
  "toc": {
   "base_numbering": 1,
   "nav_menu": {},
   "number_sections": true,
   "sideBar": true,
   "skip_h1_title": false,
   "title_cell": "Table of Contents",
   "title_sidebar": "Contents",
   "toc_cell": false,
   "toc_position": {
    "height": "calc(100% - 180px)",
    "left": "10px",
    "top": "150px",
    "width": "320px"
   },
   "toc_section_display": true,
   "toc_window_display": true
  },
  "widgets": {
   "application/vnd.jupyter.widget-state+json": {
    "state": {},
    "version_major": 2,
    "version_minor": 0
   }
  }
 },
 "nbformat": 4,
 "nbformat_minor": 5
}
