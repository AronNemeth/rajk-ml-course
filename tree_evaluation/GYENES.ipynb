{
 "cells": [
  {
   "cell_type": "markdown",
   "metadata": {},
   "source": [
    "# 1. DATA PREP"
   ]
  },
  {
   "cell_type": "code",
   "execution_count": 2,
   "metadata": {
    "execution": {
     "iopub.execute_input": "2022-04-12T14:40:29.184029Z",
     "iopub.status.busy": "2022-04-12T14:40:29.183609Z",
     "iopub.status.idle": "2022-04-12T14:40:30.405982Z",
     "shell.execute_reply": "2022-04-12T14:40:30.405198Z",
     "shell.execute_reply.started": "2022-04-12T14:40:29.184009Z"
    }
   },
   "outputs": [],
   "source": [
    "import numpy as np\n",
    "import pandas as pd\n",
    "import seaborn as sns\n",
    "import matplotlib.pyplot as plt\n",
    "%matplotlib inline\n",
    "\n",
    "import itertools\n",
    "import random\n",
    "import altair as alt\n",
    "import graphviz\n",
    "\n",
    "from sklearn.feature_extraction import FeatureHasher\n",
    "from sklearn import tree\n",
    "from sklearn.metrics import mean_squared_error\n",
    "from sklearn.model_selection import train_test_split\n",
    "from sklearn.preprocessing import LabelEncoder, OneHotEncoder, OrdinalEncoder\n",
    "from sklearn.tree import DecisionTreeRegressor\n",
    "from sklearn.linear_model import LinearRegression"
   ]
  },
  {
   "cell_type": "code",
   "execution_count": 3,
   "metadata": {
    "execution": {
     "iopub.execute_input": "2022-04-12T14:40:30.407255Z",
     "iopub.status.busy": "2022-04-12T14:40:30.407121Z",
     "iopub.status.idle": "2022-04-12T14:40:30.411123Z",
     "shell.execute_reply": "2022-04-12T14:40:30.410402Z",
     "shell.execute_reply.started": "2022-04-12T14:40:30.407236Z"
    }
   },
   "outputs": [],
   "source": [
    "pd.set_option(\"max_columns\", 100)\n",
    "pd.set_option(\"max_rows\", 100)"
   ]
  },
  {
   "cell_type": "code",
   "execution_count": 4,
   "metadata": {
    "execution": {
     "iopub.execute_input": "2022-04-12T14:40:30.411859Z",
     "iopub.status.busy": "2022-04-12T14:40:30.411740Z",
     "iopub.status.idle": "2022-04-12T14:40:30.448667Z",
     "shell.execute_reply": "2022-04-12T14:40:30.448106Z",
     "shell.execute_reply.started": "2022-04-12T14:40:30.411843Z"
    }
   },
   "outputs": [],
   "source": [
    "data_train = pd.read_csv(\"data_train.csv\")\n",
    "target_train = pd.read_csv(\"target_train.csv\")\n",
    "data_test=pd.read_csv(\"data_test.csv\")"
   ]
  },
  {
   "cell_type": "code",
   "execution_count": 6,
   "metadata": {
    "execution": {
     "iopub.execute_input": "2022-04-12T14:40:38.729514Z",
     "iopub.status.busy": "2022-04-12T14:40:38.729181Z",
     "iopub.status.idle": "2022-04-12T14:40:38.761182Z",
     "shell.execute_reply": "2022-04-12T14:40:38.760456Z",
     "shell.execute_reply.started": "2022-04-12T14:40:38.729492Z"
    },
    "tags": []
   },
   "outputs": [],
   "source": [
    "target_test = pd.read_csv(\"target_test.csv\").drop('Unnamed: 0', axis=1).set_index('index')\n",
    "\n",
    "data_test['index'] = data_test['LAPISSUGL'].astype(str) + '-' + data_test['ARUSKOD'].astype(str)\n",
    "data_test = data_test.set_index('index')\n",
    "\n",
    "data_train['index'] = data_train['LAPISSUGL'].astype(str) + '-' + data_train['ARUSKOD'].astype(str)\n",
    "data_train = data_train.set_index('index')\n",
    "\n",
    "target_train['index'] = data_train.index\n",
    "target_train = target_train.set_index('index')"
   ]
  },
  {
   "cell_type": "markdown",
   "metadata": {},
   "source": [
    "## 1.1 Numeric, categorical and date type variables"
   ]
  },
  {
   "cell_type": "code",
   "execution_count": 7,
   "metadata": {
    "execution": {
     "iopub.execute_input": "2022-04-12T14:40:40.041583Z",
     "iopub.status.busy": "2022-04-12T14:40:40.040722Z",
     "iopub.status.idle": "2022-04-12T14:40:40.065042Z",
     "shell.execute_reply": "2022-04-12T14:40:40.064244Z",
     "shell.execute_reply.started": "2022-04-12T14:40:40.041529Z"
    }
   },
   "outputs": [
    {
     "name": "stdout",
     "output_type": "stream",
     "text": [
      "True : ckeck for duplicate\n",
      "True : ckeck for duplicate\n"
     ]
    },
    {
     "data": {
      "text/plain": [
       "{'LAPMELL1',\n",
       " 'LAPMELL10',\n",
       " 'LAPMELL2',\n",
       " 'LAPMELL3',\n",
       " 'LAPMELL4',\n",
       " 'LAPMELL5',\n",
       " 'LAPMELL6',\n",
       " 'LAPMELL7',\n",
       " 'LAPMELL8',\n",
       " 'LAPMELL9'}"
      ]
     },
     "execution_count": 7,
     "metadata": {},
     "output_type": "execute_result"
    }
   ],
   "source": [
    "column_list = data_train.columns\n",
    "\n",
    "categorical_variables = [\n",
    "    \"ARUSKOD\",\n",
    "    \"ARUSMEGYE\",\n",
    "    \"ARUSTI1\",\n",
    "    \"ARUSTI2\",\n",
    "    \"ARUSTI3\",\n",
    "    \"ARUSTI4\",\n",
    "    \"ZVEVOCSAT\",\n",
    "    \"CCHANNEL\",\n",
    "    \"CNETWORK\",\n",
    "    \"CNETTYPE\",\n",
    "    \"bevasarlokozpont\",\n",
    "    \"egyiksincsakozelb\",\n",
    "    \"felsooktatasiintezm\",\n",
    "    \"furdo\",\n",
    "    \"hotel\",\n",
    "    \"irodahazhivatal\",\n",
    "    \"korhazrendelo\",\n",
    "    \"kosarlabdapalya\",\n",
    "    \"kozepiskola\",\n",
    "    \"mozi\",\n",
    "    \"muzeum\",\n",
    "    \"muvelodesikozpont\",\n",
    "    \"ovoda\",\n",
    "    \"parkjatszoter\",\n",
    "    \"piac\",\n",
    "    \"posta\",\n",
    "    \"sportcsarnoksportpa\",\n",
    "    \"sportletesitmeny\",\n",
    "    \"stadioncsarnok\",\n",
    "    \"strand\",\n",
    "    \"szinhaz\",\n",
    "    \"temeto\",\n",
    "    \"templom\",\n",
    "    \"teniszpalya\",\n",
    "    \"uszoda\",\n",
    "    \"udulo\",\n",
    "    \"wellnessfitness\",\n",
    "    \"LAPISSUGL\",\n",
    "    \"LAPMEDTER\",\n",
    "    \"LAPTERMCS\",\n",
    "    \"LAPKIADO\",\n",
    "    \"LAPCS1\",\n",
    "    \"LAPCS2\",\n",
    "    \"LAPPER1\",\n",
    "    \"LAPPER2\",\n",
    "    \"LAPFORMAT\",\n",
    "]\n",
    "\n",
    "numeric_variables = [\n",
    "    \"Z_LAPFELE\",\n",
    "    \"LAPARBRUT\",\n",
    "    \"LAPARNET\",\n",
    "    \"LAPMEGJSZ\",\n",
    "    \"NAPOK_POLCON\",\n",
    "    \"ELOZO_NAPOK_POLCON\",\n",
    "    #\"NAPI_ELADOTT_DB\",\n",
    "    \"ELOZO_NAPI_ELADOTT_DB\",\n",
    "]\n",
    "\n",
    "date_vars = [\n",
    "    \"KFDELDATE\",\n",
    "]\n",
    "\n",
    "len(categorical_variables+numeric_variables+date_vars)\n",
    "print(len(categorical_variables) == len(set(categorical_variables)), \": ckeck for duplicate\")\n",
    "print(len(numeric_variables) == len(set(numeric_variables)), \": ckeck for duplicate\")\n",
    "seen = set()\n",
    "dupes = [x for x in categorical_variables if x in seen or seen.add(x)]\n",
    "dupes\n",
    "# kétszer szerepeltek: ['LAPISSUGL', 'ARUSMEGYE', 'CNETTYPE']\n",
    "set(column_list) - set(categorical_variables + numeric_variables + date_vars) #kimaradt: date"
   ]
  },
  {
   "cell_type": "code",
   "execution_count": 8,
   "metadata": {
    "execution": {
     "iopub.execute_input": "2022-04-12T14:40:40.691056Z",
     "iopub.status.busy": "2022-04-12T14:40:40.690726Z",
     "iopub.status.idle": "2022-04-12T14:40:40.761118Z",
     "shell.execute_reply": "2022-04-12T14:40:40.760409Z",
     "shell.execute_reply.started": "2022-04-12T14:40:40.691015Z"
    }
   },
   "outputs": [],
   "source": [
    "data_train = data_train.join(target_train)\n",
    "\n",
    "for col in numeric_variables:\n",
    "    data_train[col] = data_train[col].astype('float32')\n",
    "    data_test[col] = data_test[col].astype('float32')\n",
    "    \n",
    "for col in categorical_variables:\n",
    "    data_train[col] = data_train[col].astype(\"object\")\n",
    "    data_test[col] = data_test[col].astype(\"object\")"
   ]
  },
  {
   "cell_type": "code",
   "execution_count": 9,
   "metadata": {
    "execution": {
     "iopub.execute_input": "2022-04-12T14:40:42.111189Z",
     "iopub.status.busy": "2022-04-12T14:40:42.111033Z",
     "iopub.status.idle": "2022-04-12T14:40:42.115144Z",
     "shell.execute_reply": "2022-04-12T14:40:42.114409Z",
     "shell.execute_reply.started": "2022-04-12T14:40:42.111170Z"
    }
   },
   "outputs": [],
   "source": [
    "data_train.NAPI_ELADOTT_DB = data_train.NAPI_ELADOTT_DB.astype('float32')"
   ]
  },
  {
   "cell_type": "markdown",
   "metadata": {},
   "source": [
    "* van 1 outlier a date-ben, kidobom azt a megfigyelést, aztán datetime-ot csinálok belőle"
   ]
  },
  {
   "cell_type": "code",
   "execution_count": 10,
   "metadata": {
    "execution": {
     "iopub.execute_input": "2022-04-12T14:40:42.805434Z",
     "iopub.status.busy": "2022-04-12T14:40:42.804704Z",
     "iopub.status.idle": "2022-04-12T14:40:42.812318Z",
     "shell.execute_reply": "2022-04-12T14:40:42.811526Z",
     "shell.execute_reply.started": "2022-04-12T14:40:42.805390Z"
    }
   },
   "outputs": [
    {
     "data": {
      "text/plain": [
       "99991231"
      ]
     },
     "execution_count": 10,
     "metadata": {},
     "output_type": "execute_result"
    }
   ],
   "source": [
    "data_train.KFDELDATE.max()"
   ]
  },
  {
   "cell_type": "code",
   "execution_count": 11,
   "metadata": {
    "execution": {
     "iopub.execute_input": "2022-04-12T14:40:43.472337Z",
     "iopub.status.busy": "2022-04-12T14:40:43.472028Z",
     "iopub.status.idle": "2022-04-12T14:40:43.506906Z",
     "shell.execute_reply": "2022-04-12T14:40:43.505915Z",
     "shell.execute_reply.started": "2022-04-12T14:40:43.472296Z"
    }
   },
   "outputs": [],
   "source": [
    "data_train = data_train.loc[data_train.KFDELDATE<20220201]\n",
    "data_train['KFDELDATE'] = pd.to_datetime(data_train['KFDELDATE'], format='%Y%m%d')\n",
    "data_test['KFDELDATE'] = pd.to_datetime(data_test['KFDELDATE'], format='%Y%m%d')"
   ]
  },
  {
   "cell_type": "code",
   "execution_count": 12,
   "metadata": {
    "execution": {
     "iopub.execute_input": "2022-04-12T14:40:44.096998Z",
     "iopub.status.busy": "2022-04-12T14:40:44.096201Z",
     "iopub.status.idle": "2022-04-12T14:40:44.100886Z",
     "shell.execute_reply": "2022-04-12T14:40:44.099818Z",
     "shell.execute_reply.started": "2022-04-12T14:40:44.096954Z"
    }
   },
   "outputs": [],
   "source": [
    "#data_pp.dtypes #kúl minden"
   ]
  },
  {
   "cell_type": "markdown",
   "metadata": {},
   "source": [
    "## 1.2 NA CHECK\n",
    "* A LAPMELL VÁLTOZÓKAT KI KELL DOBNI, MERT NINCS BENNÜK INFO\n",
    "* ÍGY **NEM MARAD MISSING A DATA-BAN**"
   ]
  },
  {
   "cell_type": "code",
   "execution_count": 13,
   "metadata": {
    "execution": {
     "iopub.execute_input": "2022-04-12T14:40:44.832542Z",
     "iopub.status.busy": "2022-04-12T14:40:44.831802Z",
     "iopub.status.idle": "2022-04-12T14:40:44.836395Z",
     "shell.execute_reply": "2022-04-12T14:40:44.835171Z",
     "shell.execute_reply.started": "2022-04-12T14:40:44.832496Z"
    }
   },
   "outputs": [],
   "source": [
    "#data_test.isna().mean().sort_values()\n",
    "#print([df.LAPMELL1.value_counts()]) # a többi lapmell üres.. -> egyértelmű drop és csá"
   ]
  },
  {
   "cell_type": "code",
   "execution_count": 14,
   "metadata": {
    "execution": {
     "iopub.execute_input": "2022-04-12T14:40:45.065685Z",
     "iopub.status.busy": "2022-04-12T14:40:45.064932Z",
     "iopub.status.idle": "2022-04-12T14:40:45.084460Z",
     "shell.execute_reply": "2022-04-12T14:40:45.083672Z",
     "shell.execute_reply.started": "2022-04-12T14:40:45.065633Z"
    }
   },
   "outputs": [],
   "source": [
    "data_train = data_train.loc[:, ~data_train.columns.str.contains(\"^LAPMELL\", case=False)]\n",
    "data_test = data_test.loc[:, ~data_test.columns.str.contains(\"^LAPMELL\", case=False)]"
   ]
  },
  {
   "cell_type": "markdown",
   "metadata": {},
   "source": [
    "## 1.3 SET INDEX"
   ]
  },
  {
   "cell_type": "code",
   "execution_count": 15,
   "metadata": {
    "execution": {
     "iopub.execute_input": "2022-04-12T14:40:45.488050Z",
     "iopub.status.busy": "2022-04-12T14:40:45.487748Z",
     "iopub.status.idle": "2022-04-12T14:40:45.521898Z",
     "shell.execute_reply": "2022-04-12T14:40:45.521051Z",
     "shell.execute_reply.started": "2022-04-12T14:40:45.488011Z"
    }
   },
   "outputs": [],
   "source": [
    "data_train[\"index\"] = data_train[\"LAPISSUGL\"].astype(str) + '-' + data_train[\"ARUSKOD\"].astype(str)\n",
    "data_train = data_train.set_index(\"index\")\n",
    "\n",
    "data_test[\"index\"] = data_test[\"LAPISSUGL\"].astype(str) + '-' + data_test[\"ARUSKOD\"].astype(str)\n",
    "data_test = data_test.set_index(\"index\")"
   ]
  },
  {
   "cell_type": "markdown",
   "metadata": {},
   "source": [
    "## 1.4 EXPLORE"
   ]
  },
  {
   "cell_type": "markdown",
   "metadata": {},
   "source": [
    "**MIT FIGYELÜNK MEG AZ ADATBAN?**\n",
    "\n",
    "* LAPISSUGL VÁLTOZÓ JELENTÉSE:\n",
    "    * DÁTUM ÉS LAPKIADO KOMBINÁCIÓJA\n",
    "    * (A LAPKIADÓK EGYFÉLE FORMÁTUMOT HASZNÁLNAK)\n",
    "* 10 ÁRUSKÓD, AZAZ ÁRUS VAN\n",
    "\n",
    "**AZT HOGY A 2015.01.08-tól 2022.01.13-ig TARTÓ IDŐSZAKBAN NAPONTA MENNYIT ADOTT EL A 10 ÁRUS A KÜLÖNBÖZŐ LAPKIADÓKNÁL**\n",
    "\n",
    "---\n",
    "\n",
    "**MI A NAPI ELADOTT DB?**\n",
    "* EZ VALAMI HÁNYADOSNAK TŰNIK, DE JÓ LENNE TUDNI A PONTOS TARTALMÁT, ANÉLKÜL NEHÉZ ELDÖNTENI MILYEN VÁLTOZÓKAT HASZNÁLHATOK\n",
    "\n",
    "\n",
    "---\n",
    "\n",
    "* 8  ÁRUSMEGYE, AZAZ A 10 ÁRUS 8 MEGYÉBEN TEVÉKENYKEDIK\n",
    "    * VAN 2 MEGYE, AMIKBEN 2 ÁRUS VAN JELEN, A TÖBBIBEN 1. \n",
    "    * ERRE LEHETNE CSINÁLNI EGY VÁLTOZÓT\n",
    "* MINDEGYIK ÁRUS 3 FÉLE LAPFORMÁTUMOT HASZNÁL\n",
    "    * A LAPFORMÁTUM KIADÓ SPECIFIKUS\n",
    "    * AZAZ A KIADÓ MELLETT NINCS ÉRTELME HASZNÁLNI A FROMÁTUMOT IS"
   ]
  },
  {
   "cell_type": "markdown",
   "metadata": {},
   "source": [
    "* FOLYTONOS VÁLTOZÓK KORRELÁCIÓJA A FÜGGŐ VÁLTOZÓVAL"
   ]
  },
  {
   "cell_type": "code",
   "execution_count": 16,
   "metadata": {
    "execution": {
     "iopub.execute_input": "2022-04-12T14:40:47.018563Z",
     "iopub.status.busy": "2022-04-12T14:40:47.018250Z",
     "iopub.status.idle": "2022-04-12T14:40:47.042311Z",
     "shell.execute_reply": "2022-04-12T14:40:47.041522Z",
     "shell.execute_reply.started": "2022-04-12T14:40:47.018523Z"
    }
   },
   "outputs": [
    {
     "data": {
      "text/plain": [
       "NAPOK_POLCON            -0.313630\n",
       "ELOZO_NAPOK_POLCON      -0.303270\n",
       "LAPMEGJSZ               -0.126513\n",
       "LAPARNET                -0.092764\n",
       "LAPARBRUT               -0.092764\n",
       "Z_LAPFELE                0.111490\n",
       "ELOZO_NAPI_ELADOTT_DB    0.698211\n",
       "Name: NAPI_ELADOTT_DB, dtype: float64"
      ]
     },
     "execution_count": 16,
     "metadata": {},
     "output_type": "execute_result"
    }
   ],
   "source": [
    "data_train[data_train.columns[1:]].corr()['NAPI_ELADOTT_DB'][:-1].sort_values()"
   ]
  },
  {
   "cell_type": "markdown",
   "metadata": {},
   "source": [
    "# 2. TRAIN-TEST SPLIT"
   ]
  },
  {
   "cell_type": "code",
   "execution_count": 17,
   "metadata": {
    "execution": {
     "iopub.execute_input": "2022-04-12T14:40:47.488980Z",
     "iopub.status.busy": "2022-04-12T14:40:47.488675Z",
     "iopub.status.idle": "2022-04-12T14:40:47.497347Z",
     "shell.execute_reply": "2022-04-12T14:40:47.496282Z",
     "shell.execute_reply.started": "2022-04-12T14:40:47.488939Z"
    }
   },
   "outputs": [],
   "source": [
    "df = None\n",
    "def train_test_split_func(y_colname=\"NAPI_ELADOTT_DB\", df=data_train):\n",
    "    retlist = train_test_split(\n",
    "        df.drop(y_colname, axis=1).values,\n",
    "        df[y_colname].values,\n",
    "        test_size=0.2,\n",
    "        random_state=42,\n",
    "    )\n",
    "\n",
    "    return [\n",
    "        pd.DataFrame(f, columns=[f for f in df.columns if not f == y_colname])\n",
    "        if i < 2\n",
    "        else pd.DataFrame(f, columns=[y_colname])\n",
    "        for i, f in enumerate(retlist)\n",
    "    ]"
   ]
  },
  {
   "cell_type": "code",
   "execution_count": 18,
   "metadata": {
    "execution": {
     "iopub.execute_input": "2022-04-12T14:40:47.683381Z",
     "iopub.status.busy": "2022-04-12T14:40:47.683072Z",
     "iopub.status.idle": "2022-04-12T14:40:47.748679Z",
     "shell.execute_reply": "2022-04-12T14:40:47.747977Z",
     "shell.execute_reply.started": "2022-04-12T14:40:47.683340Z"
    }
   },
   "outputs": [],
   "source": [
    "X_train, X_test, y_train, y_test = train_test_split_func(df=data_train)"
   ]
  },
  {
   "cell_type": "markdown",
   "metadata": {},
   "source": [
    "# 3. FEATURE ENGINEERING"
   ]
  },
  {
   "cell_type": "markdown",
   "metadata": {},
   "source": [
    "* __[fit-transform](\"https://towardsdatascience.com/what-and-why-behind-fit-transform-vs-transform-in-scikit-learn-78f915cf96fe\")__\n",
    "* __[sklearn preprocessing](\"https://scikit-learn.org/stable/modules/preprocessing.html#preprocessing-categorical-features\")__\n",
    "* __[Ordinal encoder](\"https://scikit-learn.org/stable/modules/generated/sklearn.preprocessing.OrdinalEncoder.html\")__"
   ]
  },
  {
   "cell_type": "markdown",
   "metadata": {},
   "source": [
    "### A) TRAIN"
   ]
  },
  {
   "cell_type": "code",
   "execution_count": 19,
   "metadata": {
    "execution": {
     "iopub.execute_input": "2022-04-12T14:40:48.870324Z",
     "iopub.status.busy": "2022-04-12T14:40:48.870080Z",
     "iopub.status.idle": "2022-04-12T14:40:48.878600Z",
     "shell.execute_reply": "2022-04-12T14:40:48.877600Z",
     "shell.execute_reply.started": "2022-04-12T14:40:48.870293Z"
    }
   },
   "outputs": [],
   "source": [
    "def create_encoded_column(\n",
    "    encoder,\n",
    "    colname_s,\n",
    "    encode_string,\n",
    "    X_train=X_train,\n",
    "    X_test=X_test,\n",
    "    data_test=data_test,\n",
    "):\n",
    "\n",
    "    \"\"\"\n",
    "    Use encoder to fit_transform the list of columns in \"colname_s\" and insert the encoded column values\n",
    "    to `x_colname` col in both train and test sets. Only fits on train, transforms test.\n",
    "    \"\"\"\n",
    "\n",
    "    for variable in colname_s:\n",
    "        \"\"\"\n",
    "        Fit label encoder on training data, and return encoded labels.\n",
    "        \"\"\"\n",
    "        X_train[f\"{variable}_{encode_string}\"] = encoder.fit_transform(\n",
    "            X_train[variable].values.reshape(-1, 1)\n",
    "        )\n",
    "        \"\"\"\n",
    "        Transform labels to normalized encoding on the test data\n",
    "        \"\"\"\n",
    "        X_test[f\"{variable}_{encode_string}\"] = encoder.transform(\n",
    "            X_test[variable].values.reshape(-1, 1)\n",
    "        )\n",
    "        data_test[f\"{variable}_{encode_string}\"] = encoder.transform(\n",
    "            data_test[variable].values.reshape(-1, 1)\n",
    "        )\n",
    "        \n",
    "    return X_train, X_test, data_test"
   ]
  },
  {
   "cell_type": "code",
   "execution_count": 20,
   "metadata": {
    "execution": {
     "iopub.execute_input": "2022-04-12T14:40:49.260837Z",
     "iopub.status.busy": "2022-04-12T14:40:49.260528Z",
     "iopub.status.idle": "2022-04-12T14:40:49.265423Z",
     "shell.execute_reply": "2022-04-12T14:40:49.264520Z",
     "shell.execute_reply.started": "2022-04-12T14:40:49.260797Z"
    }
   },
   "outputs": [],
   "source": [
    "# ENCODERs\n",
    "oe = OrdinalEncoder(handle_unknown=\"use_encoded_value\", unknown_value=np.nan)"
   ]
  },
  {
   "cell_type": "code",
   "execution_count": 21,
   "metadata": {
    "execution": {
     "iopub.execute_input": "2022-04-12T14:40:49.522040Z",
     "iopub.status.busy": "2022-04-12T14:40:49.521735Z",
     "iopub.status.idle": "2022-04-12T14:40:49.758787Z",
     "shell.execute_reply": "2022-04-12T14:40:49.757870Z",
     "shell.execute_reply.started": "2022-04-12T14:40:49.521999Z"
    }
   },
   "outputs": [],
   "source": [
    "# CREATE ENCODED COLUMNS\n",
    "X_train, X_test, data_test = create_encoded_column(oe, categorical_variables, \"oe\")"
   ]
  },
  {
   "cell_type": "code",
   "execution_count": 22,
   "metadata": {
    "execution": {
     "iopub.execute_input": "2022-04-12T14:40:49.955027Z",
     "iopub.status.busy": "2022-04-12T14:40:49.954510Z",
     "iopub.status.idle": "2022-04-12T14:40:49.975781Z",
     "shell.execute_reply": "2022-04-12T14:40:49.974884Z",
     "shell.execute_reply.started": "2022-04-12T14:40:49.954979Z"
    }
   },
   "outputs": [],
   "source": [
    "# DROP ORIGINAL ONES\n",
    "X_train = X_train.drop(categorical_variables, axis=1)\n",
    "X_train.columns = X_train.columns.str.replace(\"_oe\", \"\")\n",
    "\n",
    "X_test = X_test.drop(categorical_variables, axis=1)\n",
    "X_test.columns = X_test.columns.str.replace(\"_oe\", \"\")\n",
    "\n",
    "data_test = data_test.drop(categorical_variables, axis=1)\n",
    "data_test.columns = data_test.columns.str.replace(\"_oe\", \"\")"
   ]
  },
  {
   "cell_type": "code",
   "execution_count": 23,
   "metadata": {
    "execution": {
     "iopub.execute_input": "2022-04-12T14:40:50.326719Z",
     "iopub.status.busy": "2022-04-12T14:40:50.326407Z",
     "iopub.status.idle": "2022-04-12T14:40:50.398362Z",
     "shell.execute_reply": "2022-04-12T14:40:50.397705Z",
     "shell.execute_reply.started": "2022-04-12T14:40:50.326677Z"
    }
   },
   "outputs": [],
   "source": [
    "for col in categorical_variables:\n",
    "    X_train[col] = X_train[col].astype('float32')\n",
    "    X_test[col] = X_test[col].astype('float32')\n",
    "    data_test[col] = data_test[col].astype('float32')"
   ]
  },
  {
   "cell_type": "markdown",
   "metadata": {},
   "source": [
    "# 4. TREE\n",
    "* __[DecisionTreeRegressor](\"https://scikit-learn.org/stable/modules/generated/sklearn.tree.DecisionTreeRegressor.html#sklearn.tree.DecisionTreeRegressor.fit\")__"
   ]
  },
  {
   "cell_type": "code",
   "execution_count": 24,
   "metadata": {
    "execution": {
     "iopub.execute_input": "2022-04-12T14:40:51.131444Z",
     "iopub.status.busy": "2022-04-12T14:40:51.131176Z",
     "iopub.status.idle": "2022-04-12T14:40:51.137360Z",
     "shell.execute_reply": "2022-04-12T14:40:51.136453Z",
     "shell.execute_reply.started": "2022-04-12T14:40:51.131410Z"
    }
   },
   "outputs": [],
   "source": [
    "use_cols = [\n",
    "    \"NAPOK_POLCON\",\n",
    "    \"ELOZO_NAPOK_POLCON\",\n",
    "    \"ELOZO_NAPI_ELADOTT_DB\",\n",
    "    \"Z_LAPFELE\",\n",
    "    \"LAPMEGJSZ\",\n",
    "    \"LAPARBRUT\",\n",
    "    \"LAPARNET\",\n",
    "    \"ARUSMEGYE\",\n",
    "    \"ARUSTI1\",\n",
    "    \"ARUSTI2\",\n",
    "    \"ARUSTI3\",\n",
    "    \"ARUSTI4\",\n",
    "    \"ZVEVOCSAT\",\n",
    "    \"CCHANNEL\",\n",
    "    \"CNETWORK\",\n",
    "    \"CNETTYPE\",\n",
    "    \"bevasarlokozpont\",\n",
    "    \"egyiksincsakozelb\",\n",
    "    \"felsooktatasiintezm\",\n",
    "    \"furdo\",\n",
    "    \"hotel\",\n",
    "    \"irodahazhivatal\",\n",
    "    \"korhazrendelo\",\n",
    "    \"kosarlabdapalya\",\n",
    "    \"kozepiskola\",\n",
    "    \"mozi\",\n",
    "    \"muzeum\",\n",
    "    \"muvelodesikozpont\",\n",
    "    \"ovoda\",\n",
    "    \"parkjatszoter\",\n",
    "    \"piac\",\n",
    "    \"posta\",\n",
    "    \"sportcsarnoksportpa\",\n",
    "    \"sportletesitmeny\",\n",
    "    \"stadioncsarnok\",\n",
    "    \"strand\",\n",
    "    \"szinhaz\",\n",
    "    \"temeto\",\n",
    "    \"templom\",\n",
    "    \"teniszpalya\",\n",
    "    \"uszoda\",\n",
    "    \"udulo\",\n",
    "    \"wellnessfitness\",\n",
    "    \"LAPMEDTER\",\n",
    "    \"LAPTERMCS\",\n",
    "    \"LAPKIADO\",\n",
    "    \"LAPCS1\",\n",
    "    \"LAPCS2\",\n",
    "    \"LAPPER1\",\n",
    "    \"LAPPER2\",\n",
    "    \"LAPFORMAT\",\n",
    "]"
   ]
  },
  {
   "cell_type": "markdown",
   "metadata": {},
   "source": [
    "### A) TRAIN"
   ]
  },
  {
   "cell_type": "code",
   "execution_count": 39,
   "metadata": {
    "execution": {
     "iopub.execute_input": "2022-04-12T14:51:34.543923Z",
     "iopub.status.busy": "2022-04-12T14:51:34.543539Z",
     "iopub.status.idle": "2022-04-12T14:51:34.554405Z",
     "shell.execute_reply": "2022-04-12T14:51:34.553592Z",
     "shell.execute_reply.started": "2022-04-12T14:51:34.543879Z"
    },
    "tags": []
   },
   "outputs": [],
   "source": [
    "def visualize_dec_tree(decision_tree):\n",
    "    \"\"\"\n",
    "    Returns visualization of a decision tree\n",
    "    \"\"\"\n",
    "    dot_data = tree.export_graphviz(\n",
    "        decision_tree, out_file=None, feature_names=decision_tree.feature_names_in_, filled=True\n",
    "    )\n",
    "    return graphviz.Source(dot_data, format=\"png\")\n",
    "\n",
    "\n",
    "def dec_tree_rmse(\n",
    "    params, x_colnames, X_train=X_train, X_test=X_test, y_train=y_train, y_test=y_test,\n",
    "):\n",
    "    \"\"\"\n",
    "    Fit decision tree with params, and returns rmse and plot if plot.\n",
    "    \"\"\"\n",
    "    \n",
    "    dec_tree = DecisionTreeRegressor(**params).fit(X_train.loc[:, x_colnames], y_train)\n",
    "    test_preds = dec_tree.predict(X_test.loc[:, x_colnames])\n",
    "    rmse = mean_squared_error(y_true=y_test, y_pred=test_preds, squared=False)\n",
    "\n",
    "    source = pd.DataFrame(\n",
    "        {\"y\": y_test[\"y_true\"], \"y_pred\": test_preds, #\"x_colnames\": X_test[x_colnames]\n",
    "        }\n",
    "    )\n",
    "\n",
    "    return rmse, source, dec_tree"
   ]
  },
  {
   "cell_type": "code",
   "execution_count": 26,
   "metadata": {
    "execution": {
     "iopub.execute_input": "2022-04-12T14:40:52.397449Z",
     "iopub.status.busy": "2022-04-12T14:40:52.397132Z",
     "iopub.status.idle": "2022-04-12T14:40:52.467724Z",
     "shell.execute_reply": "2022-04-12T14:40:52.467011Z",
     "shell.execute_reply.started": "2022-04-12T14:40:52.397399Z"
    }
   },
   "outputs": [],
   "source": [
    "params = {\"max_depth\": 10}\n",
    "rmse, source_oe, dec_tree = dec_tree_rmse(params=params, x_colnames=use_cols)"
   ]
  },
  {
   "cell_type": "code",
   "execution_count": 27,
   "metadata": {
    "execution": {
     "iopub.execute_input": "2022-04-12T14:40:52.732299Z",
     "iopub.status.busy": "2022-04-12T14:40:52.732158Z",
     "iopub.status.idle": "2022-04-12T14:40:52.737133Z",
     "shell.execute_reply": "2022-04-12T14:40:52.736450Z",
     "shell.execute_reply.started": "2022-04-12T14:40:52.732282Z"
    }
   },
   "outputs": [
    {
     "data": {
      "text/plain": [
       "0.1311836884229609"
      ]
     },
     "execution_count": 27,
     "metadata": {},
     "output_type": "execute_result"
    }
   ],
   "source": [
    "rmse"
   ]
  },
  {
   "cell_type": "markdown",
   "metadata": {},
   "source": [
    "### B) TEST"
   ]
  },
  {
   "cell_type": "code",
   "execution_count": 40,
   "metadata": {
    "execution": {
     "iopub.execute_input": "2022-04-12T14:51:35.918927Z",
     "iopub.status.busy": "2022-04-12T14:51:35.918599Z",
     "iopub.status.idle": "2022-04-12T14:51:35.926975Z",
     "shell.execute_reply": "2022-04-12T14:51:35.925914Z",
     "shell.execute_reply.started": "2022-04-12T14:51:35.918885Z"
    },
    "tags": []
   },
   "outputs": [],
   "source": [
    "def dec_tree_rmse_test(\n",
    "    params, x_colnames, X_train=X_train, X_test=data_test, y_train=y_train\n",
    "):\n",
    "    \"\"\"\n",
    "    Fit decision tree with params, and returns rmse and plot if plot.\n",
    "    \"\"\"\n",
    "\n",
    "    dec_tree = DecisionTreeRegressor(**params).fit(X_train.loc[:, x_colnames], y_train)\n",
    "    test_preds = dec_tree.predict(X_test.loc[:, x_colnames])\n",
    "    rmse = mean_squared_error(y_true=y_test, y_pred=test_preds, squared=False)\n",
    "\n",
    "    source = pd.DataFrame(\n",
    "        {\"id\": X_test.index, \"y_pred\": test_preds,}  # \"x_colnames\": X_test[x_colnames]\n",
    "    )\n",
    "\n",
    "    return source, dec_tree"
   ]
  },
  {
   "cell_type": "code",
   "execution_count": 41,
   "metadata": {
    "execution": {
     "iopub.execute_input": "2022-04-12T14:51:36.610107Z",
     "iopub.status.busy": "2022-04-12T14:51:36.609800Z",
     "iopub.status.idle": "2022-04-12T14:51:36.623227Z",
     "shell.execute_reply": "2022-04-12T14:51:36.622426Z",
     "shell.execute_reply.started": "2022-04-12T14:51:36.610066Z"
    },
    "tags": []
   },
   "outputs": [
    {
     "data": {
      "text/html": [
       "<div>\n",
       "<style scoped>\n",
       "    .dataframe tbody tr th:only-of-type {\n",
       "        vertical-align: middle;\n",
       "    }\n",
       "\n",
       "    .dataframe tbody tr th {\n",
       "        vertical-align: top;\n",
       "    }\n",
       "\n",
       "    .dataframe thead th {\n",
       "        text-align: right;\n",
       "    }\n",
       "</style>\n",
       "<table border=\"1\" class=\"dataframe\">\n",
       "  <thead>\n",
       "    <tr style=\"text-align: right;\">\n",
       "      <th></th>\n",
       "      <th>y_true</th>\n",
       "    </tr>\n",
       "    <tr>\n",
       "      <th>index</th>\n",
       "      <th></th>\n",
       "    </tr>\n",
       "  </thead>\n",
       "  <tbody>\n",
       "    <tr>\n",
       "      <th>10679220020200006-531118</th>\n",
       "      <td>0.093750</td>\n",
       "    </tr>\n",
       "    <tr>\n",
       "      <th>10754860020170014-614051</th>\n",
       "      <td>0.266667</td>\n",
       "    </tr>\n",
       "    <tr>\n",
       "      <th>10414850020160317-917085</th>\n",
       "      <td>0.027778</td>\n",
       "    </tr>\n",
       "    <tr>\n",
       "      <th>10534000020150002-531118</th>\n",
       "      <td>0.068966</td>\n",
       "    </tr>\n",
       "    <tr>\n",
       "      <th>10534000020170001-535460</th>\n",
       "      <td>0.090909</td>\n",
       "    </tr>\n",
       "    <tr>\n",
       "      <th>...</th>\n",
       "      <td>...</td>\n",
       "    </tr>\n",
       "    <tr>\n",
       "      <th>10554880020150022-917085</th>\n",
       "      <td>0.142857</td>\n",
       "    </tr>\n",
       "    <tr>\n",
       "      <th>10754860020190015-101223</th>\n",
       "      <td>0.200000</td>\n",
       "    </tr>\n",
       "    <tr>\n",
       "      <th>10754860020170023-823031</th>\n",
       "      <td>0.666667</td>\n",
       "    </tr>\n",
       "    <tr>\n",
       "      <th>10754860020150023-516745</th>\n",
       "      <td>0.000000</td>\n",
       "    </tr>\n",
       "    <tr>\n",
       "      <th>10679220020170008-108679</th>\n",
       "      <td>0.000000</td>\n",
       "    </tr>\n",
       "  </tbody>\n",
       "</table>\n",
       "<p>1809 rows × 1 columns</p>\n",
       "</div>"
      ],
      "text/plain": [
       "                            y_true\n",
       "index                             \n",
       "10679220020200006-531118  0.093750\n",
       "10754860020170014-614051  0.266667\n",
       "10414850020160317-917085  0.027778\n",
       "10534000020150002-531118  0.068966\n",
       "10534000020170001-535460  0.090909\n",
       "...                            ...\n",
       "10554880020150022-917085  0.142857\n",
       "10754860020190015-101223  0.200000\n",
       "10754860020170023-823031  0.666667\n",
       "10754860020150023-516745  0.000000\n",
       "10679220020170008-108679  0.000000\n",
       "\n",
       "[1809 rows x 1 columns]"
      ]
     },
     "execution_count": 41,
     "metadata": {},
     "output_type": "execute_result"
    }
   ],
   "source": [
    "target_test"
   ]
  },
  {
   "cell_type": "code",
   "execution_count": 43,
   "metadata": {
    "execution": {
     "iopub.execute_input": "2022-04-12T14:51:52.994572Z",
     "iopub.status.busy": "2022-04-12T14:51:52.994401Z",
     "iopub.status.idle": "2022-04-12T14:51:53.042097Z",
     "shell.execute_reply": "2022-04-12T14:51:53.041403Z",
     "shell.execute_reply.started": "2022-04-12T14:51:52.994554Z"
    },
    "tags": []
   },
   "outputs": [],
   "source": [
    "params = {\"max_depth\": 10}\n",
    "rmse, source_oe, dec_tree = dec_tree_rmse(params=params, x_colnames=use_cols, X_train=X_train, y_train=y_train, X_test=data_test, y_test=target_test)"
   ]
  },
  {
   "cell_type": "code",
   "execution_count": 44,
   "metadata": {
    "execution": {
     "iopub.execute_input": "2022-04-12T14:51:56.142695Z",
     "iopub.status.busy": "2022-04-12T14:51:56.142553Z",
     "iopub.status.idle": "2022-04-12T14:51:56.147673Z",
     "shell.execute_reply": "2022-04-12T14:51:56.146884Z",
     "shell.execute_reply.started": "2022-04-12T14:51:56.142678Z"
    },
    "tags": []
   },
   "outputs": [
    {
     "data": {
      "text/plain": [
       "0.14293928931693312"
      ]
     },
     "execution_count": 44,
     "metadata": {},
     "output_type": "execute_result"
    }
   ],
   "source": [
    "# szerintem rossz adatra predikciót adtál le\n",
    "rmse"
   ]
  },
  {
   "cell_type": "code",
   "execution_count": null,
   "metadata": {},
   "outputs": [],
   "source": []
  },
  {
   "cell_type": "code",
   "execution_count": 30,
   "metadata": {
    "execution": {
     "iopub.execute_input": "2022-04-12T14:40:54.654624Z",
     "iopub.status.busy": "2022-04-12T14:40:54.654507Z",
     "iopub.status.idle": "2022-04-12T14:40:54.662668Z",
     "shell.execute_reply": "2022-04-12T14:40:54.662147Z",
     "shell.execute_reply.started": "2022-04-12T14:40:54.654607Z"
    }
   },
   "outputs": [],
   "source": [
    "source_oe.columns = [\"index\",\"pred\"]\n",
    "source_oe.to_csv(\"prediction_df.csv\")"
   ]
  },
  {
   "cell_type": "code",
   "execution_count": 31,
   "metadata": {
    "execution": {
     "iopub.execute_input": "2022-04-12T14:40:54.884759Z",
     "iopub.status.busy": "2022-04-12T14:40:54.884596Z",
     "iopub.status.idle": "2022-04-12T14:40:54.899251Z",
     "shell.execute_reply": "2022-04-12T14:40:54.898412Z",
     "shell.execute_reply.started": "2022-04-12T14:40:54.884743Z"
    }
   },
   "outputs": [
    {
     "data": {
      "text/html": [
       "<div>\n",
       "<style scoped>\n",
       "    .dataframe tbody tr th:only-of-type {\n",
       "        vertical-align: middle;\n",
       "    }\n",
       "\n",
       "    .dataframe tbody tr th {\n",
       "        vertical-align: top;\n",
       "    }\n",
       "\n",
       "    .dataframe thead th {\n",
       "        text-align: right;\n",
       "    }\n",
       "</style>\n",
       "<table border=\"1\" class=\"dataframe\">\n",
       "  <thead>\n",
       "    <tr style=\"text-align: right;\">\n",
       "      <th></th>\n",
       "      <th>index</th>\n",
       "      <th>pred</th>\n",
       "    </tr>\n",
       "  </thead>\n",
       "  <tbody>\n",
       "    <tr>\n",
       "      <th>0</th>\n",
       "      <td>10679220020200006-531118</td>\n",
       "      <td>0.048686</td>\n",
       "    </tr>\n",
       "    <tr>\n",
       "      <th>1</th>\n",
       "      <td>10754860020170014-614051</td>\n",
       "      <td>0.132897</td>\n",
       "    </tr>\n",
       "    <tr>\n",
       "      <th>2</th>\n",
       "      <td>10414850020160317-917085</td>\n",
       "      <td>0.012733</td>\n",
       "    </tr>\n",
       "    <tr>\n",
       "      <th>3</th>\n",
       "      <td>10534000020150002-531118</td>\n",
       "      <td>0.025377</td>\n",
       "    </tr>\n",
       "    <tr>\n",
       "      <th>4</th>\n",
       "      <td>10534000020170001-535460</td>\n",
       "      <td>0.050717</td>\n",
       "    </tr>\n",
       "    <tr>\n",
       "      <th>...</th>\n",
       "      <td>...</td>\n",
       "      <td>...</td>\n",
       "    </tr>\n",
       "    <tr>\n",
       "      <th>1804</th>\n",
       "      <td>10554880020150022-917085</td>\n",
       "      <td>0.142857</td>\n",
       "    </tr>\n",
       "    <tr>\n",
       "      <th>1805</th>\n",
       "      <td>10754860020190015-101223</td>\n",
       "      <td>0.207359</td>\n",
       "    </tr>\n",
       "    <tr>\n",
       "      <th>1806</th>\n",
       "      <td>10754860020170023-823031</td>\n",
       "      <td>1.266667</td>\n",
       "    </tr>\n",
       "    <tr>\n",
       "      <th>1807</th>\n",
       "      <td>10754860020150023-516745</td>\n",
       "      <td>0.150000</td>\n",
       "    </tr>\n",
       "    <tr>\n",
       "      <th>1808</th>\n",
       "      <td>10679220020170008-108679</td>\n",
       "      <td>0.146186</td>\n",
       "    </tr>\n",
       "  </tbody>\n",
       "</table>\n",
       "<p>1809 rows × 2 columns</p>\n",
       "</div>"
      ],
      "text/plain": [
       "                         index      pred\n",
       "0     10679220020200006-531118  0.048686\n",
       "1     10754860020170014-614051  0.132897\n",
       "2     10414850020160317-917085  0.012733\n",
       "3     10534000020150002-531118  0.025377\n",
       "4     10534000020170001-535460  0.050717\n",
       "...                        ...       ...\n",
       "1804  10554880020150022-917085  0.142857\n",
       "1805  10754860020190015-101223  0.207359\n",
       "1806  10754860020170023-823031  1.266667\n",
       "1807  10754860020150023-516745  0.150000\n",
       "1808  10679220020170008-108679  0.146186\n",
       "\n",
       "[1809 rows x 2 columns]"
      ]
     },
     "execution_count": 31,
     "metadata": {},
     "output_type": "execute_result"
    }
   ],
   "source": [
    "source_oe"
   ]
  },
  {
   "cell_type": "code",
   "execution_count": null,
   "metadata": {},
   "outputs": [],
   "source": []
  },
  {
   "cell_type": "code",
   "execution_count": null,
   "metadata": {},
   "outputs": [],
   "source": []
  }
 ],
 "metadata": {
  "kernelspec": {
   "display_name": "🌍 Base Python 3.7 Environment",
   "language": "python",
   "name": "python3"
  },
  "language_info": {
   "codemirror_mode": {
    "name": "ipython",
    "version": 3
   },
   "file_extension": ".py",
   "mimetype": "text/x-python",
   "name": "python",
   "nbconvert_exporter": "python",
   "pygments_lexer": "ipython3",
   "version": "3.7.10"
  },
  "widgets": {
   "application/vnd.jupyter.widget-state+json": {
    "state": {},
    "version_major": 2,
    "version_minor": 0
   }
  }
 },
 "nbformat": 4,
 "nbformat_minor": 4
}
