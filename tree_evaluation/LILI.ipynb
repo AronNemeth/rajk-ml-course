{
 "cells": [
  {
   "cell_type": "markdown",
   "id": "e1b10702",
   "metadata": {},
   "source": [
    "Készítsetek egy döntési fa modellt a tanítóadaton, és adjatok le a predikcióitokat a test setre. A predikciók legyenek 2 oszloposak, 'index' illetve 'pred' névvel ellátva, értelemszerű tartalommal. Az indexben a test adatok indexe szerepeljen."
   ]
  },
  {
   "cell_type": "markdown",
   "id": "68a39186",
   "metadata": {},
   "source": [
    "- 1 skálára vannak hozva\n",
    "- árust leíró geolokációs profil (pl iskola közelében)\n",
    "- szociális profil (1 főre jutó GDP)\n",
    "- magazinok közti különbség: téma, gyakoriság (napi,heti,havi), ár\n",
    "- milyen árus: benzinkút, auchan, bódé\n",
    "- mennyi újság fér el oda\n",
    "- szezonalitás (megye?) --> keresztmetszet helyett idősoros\n",
    "- ár \n",
    "- feature: előző időszak eladott darabszáma\n",
    "- kollaboratív filterezés: ha egy hasonló árusnál jól megy X, akkor ennél is jól fog menni valszeg X\n"
   ]
  },
  {
   "cell_type": "code",
   "execution_count": 1,
   "id": "c3b069c9",
   "metadata": {
    "execution": {
     "iopub.execute_input": "2022-04-12T15:09:08.130387Z",
     "iopub.status.busy": "2022-04-12T15:09:08.129853Z",
     "iopub.status.idle": "2022-04-12T15:09:09.687114Z",
     "shell.execute_reply": "2022-04-12T15:09:09.686314Z",
     "shell.execute_reply.started": "2022-04-12T15:09:08.130271Z"
    },
    "scrolled": true
   },
   "outputs": [],
   "source": [
    "import itertools\n",
    "import random\n",
    "\n",
    "import altair as alt\n",
    "import graphviz\n",
    "import matplotlib.pyplot as plt\n",
    "import numpy as np\n",
    "import pandas as pd\n",
    "import seaborn as sns\n",
    "from sklearn.feature_extraction import FeatureHasher\n",
    "from sklearn import tree\n",
    "from sklearn.metrics import mean_squared_error\n",
    "from sklearn.model_selection import train_test_split\n",
    "from sklearn.preprocessing import LabelEncoder, OneHotEncoder, OrdinalEncoder\n",
    "from sklearn.tree import DecisionTreeRegressor\n",
    "from sklearn.linear_model import LinearRegression\n",
    "\n",
    "from pandas_profiling import ProfileReport"
   ]
  },
  {
   "cell_type": "code",
   "execution_count": 2,
   "id": "a391779e",
   "metadata": {
    "execution": {
     "iopub.execute_input": "2022-04-12T15:09:09.688440Z",
     "iopub.status.busy": "2022-04-12T15:09:09.688298Z",
     "iopub.status.idle": "2022-04-12T15:09:09.691990Z",
     "shell.execute_reply": "2022-04-12T15:09:09.691502Z",
     "shell.execute_reply.started": "2022-04-12T15:09:09.688420Z"
    },
    "tags": []
   },
   "outputs": [],
   "source": [
    "import os\n",
    "os.environ[\"PATH\"] += os.pathsep + \"C:\\Program Files\\Graphviz\\\\bin\""
   ]
  },
  {
   "cell_type": "code",
   "execution_count": 3,
   "id": "529b69ff",
   "metadata": {
    "execution": {
     "iopub.execute_input": "2022-04-12T15:09:09.692687Z",
     "iopub.status.busy": "2022-04-12T15:09:09.692569Z",
     "iopub.status.idle": "2022-04-12T15:09:09.695486Z",
     "shell.execute_reply": "2022-04-12T15:09:09.695083Z",
     "shell.execute_reply.started": "2022-04-12T15:09:09.692671Z"
    },
    "tags": []
   },
   "outputs": [],
   "source": [
    "pd.set_option('display.max_rows', None)"
   ]
  },
  {
   "cell_type": "code",
   "execution_count": 4,
   "id": "ddc3fdf2",
   "metadata": {
    "execution": {
     "iopub.execute_input": "2022-04-12T15:09:09.696829Z",
     "iopub.status.busy": "2022-04-12T15:09:09.696470Z",
     "iopub.status.idle": "2022-04-12T15:09:09.732652Z",
     "shell.execute_reply": "2022-04-12T15:09:09.731936Z",
     "shell.execute_reply.started": "2022-04-12T15:09:09.696810Z"
    },
    "tags": []
   },
   "outputs": [],
   "source": [
    "testData = pd.read_csv('data_test.csv',delimiter = ',')\n",
    "trainData = pd.read_csv('data_train.csv',delimiter = ',')\n",
    "targetData = pd.read_csv('target_train.csv',delimiter = ',')"
   ]
  },
  {
   "cell_type": "code",
   "execution_count": 5,
   "id": "7bbc9ada-3558-4474-b07c-0de63694c367",
   "metadata": {
    "execution": {
     "iopub.execute_input": "2022-04-12T15:09:09.733484Z",
     "iopub.status.busy": "2022-04-12T15:09:09.733357Z",
     "iopub.status.idle": "2022-04-12T15:09:09.752633Z",
     "shell.execute_reply": "2022-04-12T15:09:09.752169Z",
     "shell.execute_reply.started": "2022-04-12T15:09:09.733467Z"
    }
   },
   "outputs": [],
   "source": [
    "target_test = pd.read_csv(\"target_test.csv\").drop('Unnamed: 0', axis=1).set_index('index')\n",
    "\n",
    "testData['index'] = testData['LAPISSUGL'].astype(str) + '-' + testData['ARUSKOD'].astype(str)\n",
    "testData = testData.set_index('index')\n",
    "\n",
    "trainData['index'] = trainData['LAPISSUGL'].astype(str) + '-' + trainData['ARUSKOD'].astype(str)\n",
    "trainData = trainData.set_index('index')\n",
    "\n",
    "targetData['index'] = trainData.index\n",
    "targetData = targetData.set_index('index')"
   ]
  },
  {
   "cell_type": "code",
   "execution_count": 7,
   "id": "bcaf1395",
   "metadata": {
    "execution": {
     "iopub.execute_input": "2022-04-12T15:09:16.624044Z",
     "iopub.status.busy": "2022-04-12T15:09:16.623231Z",
     "iopub.status.idle": "2022-04-12T15:09:16.628835Z",
     "shell.execute_reply": "2022-04-12T15:09:16.628226Z",
     "shell.execute_reply.started": "2022-04-12T15:09:16.624014Z"
    },
    "scrolled": true,
    "tags": []
   },
   "outputs": [
    {
     "name": "stdout",
     "output_type": "stream",
     "text": [
      "train shape:  (5424, 64)\n",
      "target shape:  (5424, 1)\n",
      "test shape:  (1809, 64)\n",
      "test target shape:  (1809, 1)\n"
     ]
    }
   ],
   "source": [
    "print('train shape: ', trainData.shape)\n",
    "print('target shape: ', targetData.shape)\n",
    "print('test shape: ', testData.shape)\n",
    "print('test target shape: ', target_test.shape)"
   ]
  },
  {
   "cell_type": "code",
   "execution_count": null,
   "id": "04551795-78de-401f-87e8-d1d3b6f8c129",
   "metadata": {},
   "outputs": [],
   "source": []
  },
  {
   "cell_type": "markdown",
   "id": "98331ef7",
   "metadata": {},
   "source": [
    "### hozzáadom a trainadathoz a labelt"
   ]
  },
  {
   "cell_type": "code",
   "execution_count": 8,
   "id": "0e41cb7d",
   "metadata": {
    "execution": {
     "iopub.execute_input": "2022-04-12T15:09:17.082691Z",
     "iopub.status.busy": "2022-04-12T15:09:17.082333Z",
     "iopub.status.idle": "2022-04-12T15:09:17.088907Z",
     "shell.execute_reply": "2022-04-12T15:09:17.087871Z",
     "shell.execute_reply.started": "2022-04-12T15:09:17.082658Z"
    },
    "tags": []
   },
   "outputs": [],
   "source": [
    "trainData[\"NAPI_ELADOTT_DB\"] = targetData"
   ]
  },
  {
   "cell_type": "code",
   "execution_count": null,
   "id": "a8ccce08",
   "metadata": {},
   "outputs": [],
   "source": []
  },
  {
   "cell_type": "code",
   "execution_count": 9,
   "id": "7aa91758",
   "metadata": {
    "execution": {
     "iopub.execute_input": "2022-04-12T15:09:17.387689Z",
     "iopub.status.busy": "2022-04-12T15:09:17.387376Z",
     "iopub.status.idle": "2022-04-12T15:09:17.391949Z",
     "shell.execute_reply": "2022-04-12T15:09:17.390680Z",
     "shell.execute_reply.started": "2022-04-12T15:09:17.387647Z"
    },
    "scrolled": true,
    "tags": []
   },
   "outputs": [],
   "source": [
    "#profile = ProfileReport(trainData, title=\"Pandas Profiling Report\")\n",
    "#profile"
   ]
  },
  {
   "cell_type": "markdown",
   "id": "1a5174d4",
   "metadata": {},
   "source": [
    "# adattisztítás, feature engineering"
   ]
  },
  {
   "cell_type": "markdown",
   "id": "02baddb5",
   "metadata": {},
   "source": [
    "### kidobom azokat az oszlopokat amikben nincs semmi"
   ]
  },
  {
   "cell_type": "code",
   "execution_count": 10,
   "id": "03e361f7",
   "metadata": {
    "execution": {
     "iopub.execute_input": "2022-04-12T15:09:17.804499Z",
     "iopub.status.busy": "2022-04-12T15:09:17.803830Z",
     "iopub.status.idle": "2022-04-12T15:09:17.813693Z",
     "shell.execute_reply": "2022-04-12T15:09:17.813031Z",
     "shell.execute_reply.started": "2022-04-12T15:09:17.804454Z"
    },
    "tags": []
   },
   "outputs": [
    {
     "data": {
      "text/plain": [
       "pandas.core.frame.DataFrame"
      ]
     },
     "execution_count": 10,
     "metadata": {},
     "output_type": "execute_result"
    }
   ],
   "source": [
    "type(trainData)"
   ]
  },
  {
   "cell_type": "code",
   "execution_count": 11,
   "id": "10e5f95f",
   "metadata": {
    "execution": {
     "iopub.execute_input": "2022-04-12T15:09:17.967395Z",
     "iopub.status.busy": "2022-04-12T15:09:17.967087Z",
     "iopub.status.idle": "2022-04-12T15:09:17.974549Z",
     "shell.execute_reply": "2022-04-12T15:09:17.973888Z",
     "shell.execute_reply.started": "2022-04-12T15:09:17.967354Z"
    },
    "tags": []
   },
   "outputs": [
    {
     "data": {
      "text/plain": [
       "[None, None, None, None, None, None, None, None, None, None]"
      ]
     },
     "execution_count": 11,
     "metadata": {},
     "output_type": "execute_result"
    }
   ],
   "source": [
    "to_drop = []\n",
    "[to_drop.append('LAPMELL'+f'{x}') for x in range(1,11)]"
   ]
  },
  {
   "cell_type": "code",
   "execution_count": 12,
   "id": "190f4367",
   "metadata": {
    "execution": {
     "iopub.execute_input": "2022-04-12T15:09:18.091571Z",
     "iopub.status.busy": "2022-04-12T15:09:18.091147Z",
     "iopub.status.idle": "2022-04-12T15:09:18.101887Z",
     "shell.execute_reply": "2022-04-12T15:09:18.101099Z",
     "shell.execute_reply.started": "2022-04-12T15:09:18.091526Z"
    },
    "tags": []
   },
   "outputs": [],
   "source": [
    "trainData = trainData.drop(to_drop,axis=1)"
   ]
  },
  {
   "cell_type": "code",
   "execution_count": 13,
   "id": "0c467000",
   "metadata": {
    "execution": {
     "iopub.execute_input": "2022-04-12T15:09:18.218887Z",
     "iopub.status.busy": "2022-04-12T15:09:18.218485Z",
     "iopub.status.idle": "2022-04-12T15:09:18.227303Z",
     "shell.execute_reply": "2022-04-12T15:09:18.226554Z",
     "shell.execute_reply.started": "2022-04-12T15:09:18.218826Z"
    },
    "tags": []
   },
   "outputs": [],
   "source": [
    "testData = testData.drop(to_drop,axis=1)"
   ]
  },
  {
   "cell_type": "code",
   "execution_count": 14,
   "id": "171caa63",
   "metadata": {
    "execution": {
     "iopub.execute_input": "2022-04-12T15:09:18.354057Z",
     "iopub.status.busy": "2022-04-12T15:09:18.353674Z",
     "iopub.status.idle": "2022-04-12T15:09:18.358794Z",
     "shell.execute_reply": "2022-04-12T15:09:18.357795Z",
     "shell.execute_reply.started": "2022-04-12T15:09:18.354014Z"
    },
    "tags": []
   },
   "outputs": [],
   "source": [
    "dataTypeSeries = trainData.dtypes\n"
   ]
  },
  {
   "cell_type": "markdown",
   "id": "8476ad2f",
   "metadata": {},
   "source": [
    "### létrehozom a tesztadatot mint a train adatból egy mintát"
   ]
  },
  {
   "cell_type": "code",
   "execution_count": 15,
   "id": "536072a8",
   "metadata": {
    "execution": {
     "iopub.execute_input": "2022-04-12T15:09:18.626120Z",
     "iopub.status.busy": "2022-04-12T15:09:18.625737Z",
     "iopub.status.idle": "2022-04-12T15:09:18.634427Z",
     "shell.execute_reply": "2022-04-12T15:09:18.633492Z",
     "shell.execute_reply.started": "2022-04-12T15:09:18.626077Z"
    },
    "tags": []
   },
   "outputs": [],
   "source": [
    "df = None\n",
    "def train_test_split_func(y_colname=\"NAPI_ELADOTT_DB\", df=df):\n",
    "    retlist = train_test_split(\n",
    "        df.drop(y_colname, axis=1).values,\n",
    "        df[y_colname].values,\n",
    "        test_size=0.2,\n",
    "        random_state=42,\n",
    "    )\n",
    "\n",
    "    return [\n",
    "        pd.DataFrame(f, columns=[f for f in df.columns if not f == y_colname])\n",
    "        if i < 2\n",
    "        else pd.DataFrame(f, columns=[y_colname])\n",
    "        for i, f in enumerate(retlist)\n",
    "    ]"
   ]
  },
  {
   "cell_type": "code",
   "execution_count": 16,
   "id": "ded4dfae",
   "metadata": {
    "execution": {
     "iopub.execute_input": "2022-04-12T15:09:18.761294Z",
     "iopub.status.busy": "2022-04-12T15:09:18.760978Z",
     "iopub.status.idle": "2022-04-12T15:09:18.806920Z",
     "shell.execute_reply": "2022-04-12T15:09:18.806042Z",
     "shell.execute_reply.started": "2022-04-12T15:09:18.761248Z"
    },
    "tags": []
   },
   "outputs": [],
   "source": [
    "X_train, X_test, y_train, y_test = train_test_split_func(y_colname=\"NAPI_ELADOTT_DB\", df=trainData)\n"
   ]
  },
  {
   "cell_type": "code",
   "execution_count": null,
   "id": "6dcfc17d",
   "metadata": {},
   "outputs": [],
   "source": []
  },
  {
   "cell_type": "code",
   "execution_count": 17,
   "id": "df93412a",
   "metadata": {
    "execution": {
     "iopub.execute_input": "2022-04-12T15:09:19.067932Z",
     "iopub.status.busy": "2022-04-12T15:09:19.067612Z",
     "iopub.status.idle": "2022-04-12T15:09:19.079089Z",
     "shell.execute_reply": "2022-04-12T15:09:19.078086Z",
     "shell.execute_reply.started": "2022-04-12T15:09:19.067884Z"
    },
    "tags": []
   },
   "outputs": [],
   "source": [
    "exclude =[ 'CCHANNEL','CNETWORK','LAPPER1','LAPPER2','LAPFORMAT']\n",
    "X_train = X_train.drop(exclude,axis=1)"
   ]
  },
  {
   "cell_type": "code",
   "execution_count": 18,
   "id": "10b4ea3b",
   "metadata": {
    "execution": {
     "iopub.execute_input": "2022-04-12T15:09:19.217288Z",
     "iopub.status.busy": "2022-04-12T15:09:19.216968Z",
     "iopub.status.idle": "2022-04-12T15:09:19.222570Z",
     "shell.execute_reply": "2022-04-12T15:09:19.221757Z",
     "shell.execute_reply.started": "2022-04-12T15:09:19.217240Z"
    },
    "tags": []
   },
   "outputs": [],
   "source": [
    "params = {\"max_depth\": 5}\n",
    "x_colnames = [\"ELOZO_NAPOK_POLCON\",\"ELOZO_NAPI_ELADOTT_DB\",\"muvelodesikozpont\",\"egyiksincsakozelb\",\"LAPISSUGL\",\"KFDELDATE\"]\n",
    "x_colnames = X_train.columns\n",
    "x_colnames = [\"egyiksincsakozelb\",\"ELOZO_NAPOK_POLCON\"]"
   ]
  },
  {
   "cell_type": "code",
   "execution_count": 19,
   "id": "d8ab1ecb",
   "metadata": {
    "execution": {
     "iopub.execute_input": "2022-04-12T15:09:19.385074Z",
     "iopub.status.busy": "2022-04-12T15:09:19.384755Z",
     "iopub.status.idle": "2022-04-12T15:09:19.403047Z",
     "shell.execute_reply": "2022-04-12T15:09:19.402196Z",
     "shell.execute_reply.started": "2022-04-12T15:09:19.385027Z"
    },
    "tags": []
   },
   "outputs": [],
   "source": [
    "dec_tree = DecisionTreeRegressor(**params).fit(X_train.loc[:, x_colnames], y_train)\n",
    "test_preds = dec_tree.predict(X_test.loc[:, x_colnames])\n",
    "rmse = mean_squared_error(y_true=y_test, y_pred=test_preds, squared=False)"
   ]
  },
  {
   "cell_type": "code",
   "execution_count": 20,
   "id": "9bd8595d",
   "metadata": {
    "execution": {
     "iopub.execute_input": "2022-04-12T15:09:19.538219Z",
     "iopub.status.busy": "2022-04-12T15:09:19.537906Z",
     "iopub.status.idle": "2022-04-12T15:09:19.544392Z",
     "shell.execute_reply": "2022-04-12T15:09:19.543686Z",
     "shell.execute_reply.started": "2022-04-12T15:09:19.538178Z"
    },
    "tags": []
   },
   "outputs": [
    {
     "data": {
      "text/plain": [
       "1085"
      ]
     },
     "execution_count": 20,
     "metadata": {},
     "output_type": "execute_result"
    }
   ],
   "source": [
    "len(test_preds)"
   ]
  },
  {
   "cell_type": "code",
   "execution_count": 21,
   "id": "be9eed1e",
   "metadata": {
    "execution": {
     "iopub.execute_input": "2022-04-12T15:09:19.923533Z",
     "iopub.status.busy": "2022-04-12T15:09:19.923218Z",
     "iopub.status.idle": "2022-04-12T15:09:19.981585Z",
     "shell.execute_reply": "2022-04-12T15:09:19.980888Z",
     "shell.execute_reply.started": "2022-04-12T15:09:19.923487Z"
    },
    "scrolled": true,
    "tags": []
   },
   "outputs": [
    {
     "data": {
      "image/svg+xml": [
       "<?xml version=\"1.0\" encoding=\"UTF-8\" standalone=\"no\"?>\n",
       "<!DOCTYPE svg PUBLIC \"-//W3C//DTD SVG 1.1//EN\"\n",
       " \"http://www.w3.org/Graphics/SVG/1.1/DTD/svg11.dtd\">\n",
       "<!-- Generated by graphviz version 2.49.1 (20211004.0028)\n",
       " -->\n",
       "<!-- Title: Tree Pages: 1 -->\n",
       "<svg width=\"4439pt\" height=\"581pt\"\n",
       " viewBox=\"0.00 0.00 4439.00 581.00\" xmlns=\"http://www.w3.org/2000/svg\" xmlns:xlink=\"http://www.w3.org/1999/xlink\">\n",
       "<g id=\"graph0\" class=\"graph\" transform=\"scale(1 1) rotate(0) translate(4 577)\">\n",
       "<title>Tree</title>\n",
       "<polygon fill=\"white\" stroke=\"transparent\" points=\"-4,4 -4,-577 4435,-577 4435,4 -4,4\"/>\n",
       "<!-- 0 -->\n",
       "<g id=\"node1\" class=\"node\">\n",
       "<title>0</title>\n",
       "<polygon fill=\"#f4c8a8\" stroke=\"black\" points=\"1646.5,-573 1395.5,-573 1395.5,-505 1646.5,-505 1646.5,-573\"/>\n",
       "<text text-anchor=\"middle\" x=\"1521\" y=\"-557.8\" font-family=\"Helvetica,sans-Serif\" font-size=\"14.00\">ELOZO_NAPOK_POLCON &lt;= 24.0</text>\n",
       "<text text-anchor=\"middle\" x=\"1521\" y=\"-542.8\" font-family=\"Helvetica,sans-Serif\" font-size=\"14.00\">squared_error = 0.06</text>\n",
       "<text text-anchor=\"middle\" x=\"1521\" y=\"-527.8\" font-family=\"Helvetica,sans-Serif\" font-size=\"14.00\">samples = 4339</text>\n",
       "<text text-anchor=\"middle\" x=\"1521\" y=\"-512.8\" font-family=\"Helvetica,sans-Serif\" font-size=\"14.00\">value = 0.168</text>\n",
       "</g>\n",
       "<!-- 1 -->\n",
       "<g id=\"node2\" class=\"node\">\n",
       "<title>1</title>\n",
       "<polygon fill=\"#eda978\" stroke=\"black\" points=\"974.5,-469 723.5,-469 723.5,-401 974.5,-401 974.5,-469\"/>\n",
       "<text text-anchor=\"middle\" x=\"849\" y=\"-453.8\" font-family=\"Helvetica,sans-Serif\" font-size=\"14.00\">ELOZO_NAPOK_POLCON &lt;= 10.0</text>\n",
       "<text text-anchor=\"middle\" x=\"849\" y=\"-438.8\" font-family=\"Helvetica,sans-Serif\" font-size=\"14.00\">squared_error = 0.096</text>\n",
       "<text text-anchor=\"middle\" x=\"849\" y=\"-423.8\" font-family=\"Helvetica,sans-Serif\" font-size=\"14.00\">samples = 2079</text>\n",
       "<text text-anchor=\"middle\" x=\"849\" y=\"-408.8\" font-family=\"Helvetica,sans-Serif\" font-size=\"14.00\">value = 0.259</text>\n",
       "</g>\n",
       "<!-- 0&#45;&gt;1 -->\n",
       "<g id=\"edge1\" class=\"edge\">\n",
       "<title>0&#45;&gt;1</title>\n",
       "<path fill=\"none\" stroke=\"black\" d=\"M1395.39,-518.93C1278.44,-501.18 1104.6,-474.8 984.56,-456.58\"/>\n",
       "<polygon fill=\"black\" stroke=\"black\" points=\"984.97,-453.1 974.56,-455.06 983.92,-460.02 984.97,-453.1\"/>\n",
       "<text text-anchor=\"middle\" x=\"989.39\" y=\"-471.49\" font-family=\"Helvetica,sans-Serif\" font-size=\"14.00\">True</text>\n",
       "</g>\n",
       "<!-- 18 -->\n",
       "<g id=\"node19\" class=\"node\">\n",
       "<title>18</title>\n",
       "<polygon fill=\"#fae5d5\" stroke=\"black\" points=\"2288.5,-469 2037.5,-469 2037.5,-401 2288.5,-401 2288.5,-469\"/>\n",
       "<text text-anchor=\"middle\" x=\"2163\" y=\"-453.8\" font-family=\"Helvetica,sans-Serif\" font-size=\"14.00\">ELOZO_NAPOK_POLCON &lt;= 44.0</text>\n",
       "<text text-anchor=\"middle\" x=\"2163\" y=\"-438.8\" font-family=\"Helvetica,sans-Serif\" font-size=\"14.00\">squared_error = 0.012</text>\n",
       "<text text-anchor=\"middle\" x=\"2163\" y=\"-423.8\" font-family=\"Helvetica,sans-Serif\" font-size=\"14.00\">samples = 2260</text>\n",
       "<text text-anchor=\"middle\" x=\"2163\" y=\"-408.8\" font-family=\"Helvetica,sans-Serif\" font-size=\"14.00\">value = 0.085</text>\n",
       "</g>\n",
       "<!-- 0&#45;&gt;18 -->\n",
       "<g id=\"edge18\" class=\"edge\">\n",
       "<title>0&#45;&gt;18</title>\n",
       "<path fill=\"none\" stroke=\"black\" d=\"M1646.69,-518.03C1756.27,-500.62 1914.84,-475.43 2027.29,-457.56\"/>\n",
       "<polygon fill=\"black\" stroke=\"black\" points=\"2028.01,-460.99 2037.34,-455.96 2026.91,-454.08 2028.01,-460.99\"/>\n",
       "<text text-anchor=\"middle\" x=\"2022.65\" y=\"-472.5\" font-family=\"Helvetica,sans-Serif\" font-size=\"14.00\">False</text>\n",
       "</g>\n",
       "<!-- 2 -->\n",
       "<g id=\"node3\" class=\"node\">\n",
       "<title>2</title>\n",
       "<polygon fill=\"#eeae80\" stroke=\"black\" points=\"588,-365 346,-365 346,-297 588,-297 588,-365\"/>\n",
       "<text text-anchor=\"middle\" x=\"467\" y=\"-349.8\" font-family=\"Helvetica,sans-Serif\" font-size=\"14.00\">ELOZO_NAPOK_POLCON &lt;= 8.5</text>\n",
       "<text text-anchor=\"middle\" x=\"467\" y=\"-334.8\" font-family=\"Helvetica,sans-Serif\" font-size=\"14.00\">squared_error = 0.061</text>\n",
       "<text text-anchor=\"middle\" x=\"467\" y=\"-319.8\" font-family=\"Helvetica,sans-Serif\" font-size=\"14.00\">samples = 648</text>\n",
       "<text text-anchor=\"middle\" x=\"467\" y=\"-304.8\" font-family=\"Helvetica,sans-Serif\" font-size=\"14.00\">value = 0.243</text>\n",
       "</g>\n",
       "<!-- 1&#45;&gt;2 -->\n",
       "<g id=\"edge2\" class=\"edge\">\n",
       "<title>1&#45;&gt;2</title>\n",
       "<path fill=\"none\" stroke=\"black\" d=\"M725.24,-400.95C684.59,-390.1 639.28,-378 598.1,-367.01\"/>\n",
       "<polygon fill=\"black\" stroke=\"black\" points=\"598.85,-363.58 588.28,-364.38 597.04,-370.35 598.85,-363.58\"/>\n",
       "</g>\n",
       "<!-- 7 -->\n",
       "<g id=\"node8\" class=\"node\">\n",
       "<title>7</title>\n",
       "<polygon fill=\"#eda674\" stroke=\"black\" points=\"974.5,-365 723.5,-365 723.5,-297 974.5,-297 974.5,-365\"/>\n",
       "<text text-anchor=\"middle\" x=\"849\" y=\"-349.8\" font-family=\"Helvetica,sans-Serif\" font-size=\"14.00\">ELOZO_NAPOK_POLCON &lt;= 14.5</text>\n",
       "<text text-anchor=\"middle\" x=\"849\" y=\"-334.8\" font-family=\"Helvetica,sans-Serif\" font-size=\"14.00\">squared_error = 0.111</text>\n",
       "<text text-anchor=\"middle\" x=\"849\" y=\"-319.8\" font-family=\"Helvetica,sans-Serif\" font-size=\"14.00\">samples = 1431</text>\n",
       "<text text-anchor=\"middle\" x=\"849\" y=\"-304.8\" font-family=\"Helvetica,sans-Serif\" font-size=\"14.00\">value = 0.267</text>\n",
       "</g>\n",
       "<!-- 1&#45;&gt;7 -->\n",
       "<g id=\"edge7\" class=\"edge\">\n",
       "<title>1&#45;&gt;7</title>\n",
       "<path fill=\"none\" stroke=\"black\" d=\"M849,-400.88C849,-392.78 849,-383.98 849,-375.47\"/>\n",
       "<polygon fill=\"black\" stroke=\"black\" points=\"852.5,-375.3 849,-365.3 845.5,-375.3 852.5,-375.3\"/>\n",
       "</g>\n",
       "<!-- 3 -->\n",
       "<g id=\"node4\" class=\"node\">\n",
       "<title>3</title>\n",
       "<polygon fill=\"#eeae7f\" stroke=\"black\" points=\"362,-261 120,-261 120,-193 362,-193 362,-261\"/>\n",
       "<text text-anchor=\"middle\" x=\"241\" y=\"-245.8\" font-family=\"Helvetica,sans-Serif\" font-size=\"14.00\">ELOZO_NAPOK_POLCON &lt;= 7.5</text>\n",
       "<text text-anchor=\"middle\" x=\"241\" y=\"-230.8\" font-family=\"Helvetica,sans-Serif\" font-size=\"14.00\">squared_error = 0.062</text>\n",
       "<text text-anchor=\"middle\" x=\"241\" y=\"-215.8\" font-family=\"Helvetica,sans-Serif\" font-size=\"14.00\">samples = 623</text>\n",
       "<text text-anchor=\"middle\" x=\"241\" y=\"-200.8\" font-family=\"Helvetica,sans-Serif\" font-size=\"14.00\">value = 0.245</text>\n",
       "</g>\n",
       "<!-- 2&#45;&gt;3 -->\n",
       "<g id=\"edge3\" class=\"edge\">\n",
       "<title>2&#45;&gt;3</title>\n",
       "<path fill=\"none\" stroke=\"black\" d=\"M393.62,-296.88C371.31,-286.81 346.63,-275.67 323.74,-265.34\"/>\n",
       "<polygon fill=\"black\" stroke=\"black\" points=\"324.95,-262.05 314.39,-261.12 322.07,-268.43 324.95,-262.05\"/>\n",
       "</g>\n",
       "<!-- 6 -->\n",
       "<g id=\"node7\" class=\"node\">\n",
       "<title>6</title>\n",
       "<polygon fill=\"#f2c09c\" stroke=\"black\" points=\"554,-253.5 380,-253.5 380,-200.5 554,-200.5 554,-253.5\"/>\n",
       "<text text-anchor=\"middle\" x=\"467\" y=\"-238.3\" font-family=\"Helvetica,sans-Serif\" font-size=\"14.00\">squared_error = 0.033</text>\n",
       "<text text-anchor=\"middle\" x=\"467\" y=\"-223.3\" font-family=\"Helvetica,sans-Serif\" font-size=\"14.00\">samples = 25</text>\n",
       "<text text-anchor=\"middle\" x=\"467\" y=\"-208.3\" font-family=\"Helvetica,sans-Serif\" font-size=\"14.00\">value = 0.191</text>\n",
       "</g>\n",
       "<!-- 2&#45;&gt;6 -->\n",
       "<g id=\"edge6\" class=\"edge\">\n",
       "<title>2&#45;&gt;6</title>\n",
       "<path fill=\"none\" stroke=\"black\" d=\"M467,-296.88C467,-286.33 467,-274.6 467,-263.85\"/>\n",
       "<polygon fill=\"black\" stroke=\"black\" points=\"470.5,-263.52 467,-253.52 463.5,-263.52 470.5,-263.52\"/>\n",
       "</g>\n",
       "<!-- 4 -->\n",
       "<g id=\"node5\" class=\"node\">\n",
       "<title>4</title>\n",
       "<polygon fill=\"#eda673\" stroke=\"black\" points=\"174,-149.5 0,-149.5 0,-96.5 174,-96.5 174,-149.5\"/>\n",
       "<text text-anchor=\"middle\" x=\"87\" y=\"-134.3\" font-family=\"Helvetica,sans-Serif\" font-size=\"14.00\">squared_error = 0.061</text>\n",
       "<text text-anchor=\"middle\" x=\"87\" y=\"-119.3\" font-family=\"Helvetica,sans-Serif\" font-size=\"14.00\">samples = 26</text>\n",
       "<text text-anchor=\"middle\" x=\"87\" y=\"-104.3\" font-family=\"Helvetica,sans-Serif\" font-size=\"14.00\">value = 0.268</text>\n",
       "</g>\n",
       "<!-- 3&#45;&gt;4 -->\n",
       "<g id=\"edge4\" class=\"edge\">\n",
       "<title>3&#45;&gt;4</title>\n",
       "<path fill=\"none\" stroke=\"black\" d=\"M191,-192.88C172.74,-180.79 152.15,-167.15 134.14,-155.22\"/>\n",
       "<polygon fill=\"black\" stroke=\"black\" points=\"135.8,-152.12 125.53,-149.52 131.93,-157.96 135.8,-152.12\"/>\n",
       "</g>\n",
       "<!-- 5 -->\n",
       "<g id=\"node6\" class=\"node\">\n",
       "<title>5</title>\n",
       "<polygon fill=\"#eeae80\" stroke=\"black\" points=\"366,-149.5 192,-149.5 192,-96.5 366,-96.5 366,-149.5\"/>\n",
       "<text text-anchor=\"middle\" x=\"279\" y=\"-134.3\" font-family=\"Helvetica,sans-Serif\" font-size=\"14.00\">squared_error = 0.062</text>\n",
       "<text text-anchor=\"middle\" x=\"279\" y=\"-119.3\" font-family=\"Helvetica,sans-Serif\" font-size=\"14.00\">samples = 597</text>\n",
       "<text text-anchor=\"middle\" x=\"279\" y=\"-104.3\" font-family=\"Helvetica,sans-Serif\" font-size=\"14.00\">value = 0.244</text>\n",
       "</g>\n",
       "<!-- 3&#45;&gt;5 -->\n",
       "<g id=\"edge5\" class=\"edge\">\n",
       "<title>3&#45;&gt;5</title>\n",
       "<path fill=\"none\" stroke=\"black\" d=\"M253.34,-192.88C257.35,-182.11 261.82,-170.11 265.89,-159.18\"/>\n",
       "<polygon fill=\"black\" stroke=\"black\" points=\"269.28,-160.11 269.49,-149.52 262.72,-157.67 269.28,-160.11\"/>\n",
       "</g>\n",
       "<!-- 8 -->\n",
       "<g id=\"node9\" class=\"node\">\n",
       "<title>8</title>\n",
       "<polygon fill=\"#ea9a61\" stroke=\"black\" points=\"823.5,-261 572.5,-261 572.5,-193 823.5,-193 823.5,-261\"/>\n",
       "<text text-anchor=\"middle\" x=\"698\" y=\"-245.8\" font-family=\"Helvetica,sans-Serif\" font-size=\"14.00\">ELOZO_NAPOK_POLCON &lt;= 12.5</text>\n",
       "<text text-anchor=\"middle\" x=\"698\" y=\"-230.8\" font-family=\"Helvetica,sans-Serif\" font-size=\"14.00\">squared_error = 0.173</text>\n",
       "<text text-anchor=\"middle\" x=\"698\" y=\"-215.8\" font-family=\"Helvetica,sans-Serif\" font-size=\"14.00\">samples = 31</text>\n",
       "<text text-anchor=\"middle\" x=\"698\" y=\"-200.8\" font-family=\"Helvetica,sans-Serif\" font-size=\"14.00\">value = 0.302</text>\n",
       "</g>\n",
       "<!-- 7&#45;&gt;8 -->\n",
       "<g id=\"edge8\" class=\"edge\">\n",
       "<title>7&#45;&gt;8</title>\n",
       "<path fill=\"none\" stroke=\"black\" d=\"M799.97,-296.88C785.79,-287.3 770.18,-276.76 755.53,-266.86\"/>\n",
       "<polygon fill=\"black\" stroke=\"black\" points=\"757.28,-263.82 747.04,-261.12 753.37,-269.62 757.28,-263.82\"/>\n",
       "</g>\n",
       "<!-- 11 -->\n",
       "<g id=\"node12\" class=\"node\">\n",
       "<title>11</title>\n",
       "<polygon fill=\"#eda774\" stroke=\"black\" points=\"1092.5,-261 841.5,-261 841.5,-193 1092.5,-193 1092.5,-261\"/>\n",
       "<text text-anchor=\"middle\" x=\"967\" y=\"-245.8\" font-family=\"Helvetica,sans-Serif\" font-size=\"14.00\">ELOZO_NAPOK_POLCON &lt;= 18.5</text>\n",
       "<text text-anchor=\"middle\" x=\"967\" y=\"-230.8\" font-family=\"Helvetica,sans-Serif\" font-size=\"14.00\">squared_error = 0.11</text>\n",
       "<text text-anchor=\"middle\" x=\"967\" y=\"-215.8\" font-family=\"Helvetica,sans-Serif\" font-size=\"14.00\">samples = 1400</text>\n",
       "<text text-anchor=\"middle\" x=\"967\" y=\"-200.8\" font-family=\"Helvetica,sans-Serif\" font-size=\"14.00\">value = 0.266</text>\n",
       "</g>\n",
       "<!-- 7&#45;&gt;11 -->\n",
       "<g id=\"edge11\" class=\"edge\">\n",
       "<title>7&#45;&gt;11</title>\n",
       "<path fill=\"none\" stroke=\"black\" d=\"M887.31,-296.88C898.03,-287.62 909.79,-277.45 920.9,-267.85\"/>\n",
       "<polygon fill=\"black\" stroke=\"black\" points=\"923.2,-270.49 928.48,-261.3 918.62,-265.19 923.2,-270.49\"/>\n",
       "</g>\n",
       "<!-- 9 -->\n",
       "<g id=\"node10\" class=\"node\">\n",
       "<title>9</title>\n",
       "<polygon fill=\"#e58139\" stroke=\"black\" points=\"597,-149.5 423,-149.5 423,-96.5 597,-96.5 597,-149.5\"/>\n",
       "<text text-anchor=\"middle\" x=\"510\" y=\"-134.3\" font-family=\"Helvetica,sans-Serif\" font-size=\"14.00\">squared_error = 0.062</text>\n",
       "<text text-anchor=\"middle\" x=\"510\" y=\"-119.3\" font-family=\"Helvetica,sans-Serif\" font-size=\"14.00\">samples = 2</text>\n",
       "<text text-anchor=\"middle\" x=\"510\" y=\"-104.3\" font-family=\"Helvetica,sans-Serif\" font-size=\"14.00\">value = 0.375</text>\n",
       "</g>\n",
       "<!-- 8&#45;&gt;9 -->\n",
       "<g id=\"edge9\" class=\"edge\">\n",
       "<title>8&#45;&gt;9</title>\n",
       "<path fill=\"none\" stroke=\"black\" d=\"M636.96,-192.88C614.16,-180.51 588.39,-166.53 566.06,-154.41\"/>\n",
       "<polygon fill=\"black\" stroke=\"black\" points=\"567.5,-151.21 557.04,-149.52 564.16,-157.37 567.5,-151.21\"/>\n",
       "</g>\n",
       "<!-- 10 -->\n",
       "<g id=\"node11\" class=\"node\">\n",
       "<title>10</title>\n",
       "<polygon fill=\"#eb9c63\" stroke=\"black\" points=\"780.5,-149.5 615.5,-149.5 615.5,-96.5 780.5,-96.5 780.5,-149.5\"/>\n",
       "<text text-anchor=\"middle\" x=\"698\" y=\"-134.3\" font-family=\"Helvetica,sans-Serif\" font-size=\"14.00\">squared_error = 0.18</text>\n",
       "<text text-anchor=\"middle\" x=\"698\" y=\"-119.3\" font-family=\"Helvetica,sans-Serif\" font-size=\"14.00\">samples = 29</text>\n",
       "<text text-anchor=\"middle\" x=\"698\" y=\"-104.3\" font-family=\"Helvetica,sans-Serif\" font-size=\"14.00\">value = 0.297</text>\n",
       "</g>\n",
       "<!-- 8&#45;&gt;10 -->\n",
       "<g id=\"edge10\" class=\"edge\">\n",
       "<title>8&#45;&gt;10</title>\n",
       "<path fill=\"none\" stroke=\"black\" d=\"M698,-192.88C698,-182.33 698,-170.6 698,-159.85\"/>\n",
       "<polygon fill=\"black\" stroke=\"black\" points=\"701.5,-159.52 698,-149.52 694.5,-159.52 701.5,-159.52\"/>\n",
       "</g>\n",
       "<!-- 12 -->\n",
       "<g id=\"node13\" class=\"node\">\n",
       "<title>12</title>\n",
       "<polygon fill=\"#eda674\" stroke=\"black\" points=\"1049.5,-157 798.5,-157 798.5,-89 1049.5,-89 1049.5,-157\"/>\n",
       "<text text-anchor=\"middle\" x=\"924\" y=\"-141.8\" font-family=\"Helvetica,sans-Serif\" font-size=\"14.00\">ELOZO_NAPOK_POLCON &lt;= 15.5</text>\n",
       "<text text-anchor=\"middle\" x=\"924\" y=\"-126.8\" font-family=\"Helvetica,sans-Serif\" font-size=\"14.00\">squared_error = 0.111</text>\n",
       "<text text-anchor=\"middle\" x=\"924\" y=\"-111.8\" font-family=\"Helvetica,sans-Serif\" font-size=\"14.00\">samples = 1382</text>\n",
       "<text text-anchor=\"middle\" x=\"924\" y=\"-96.8\" font-family=\"Helvetica,sans-Serif\" font-size=\"14.00\">value = 0.266</text>\n",
       "</g>\n",
       "<!-- 11&#45;&gt;12 -->\n",
       "<g id=\"edge12\" class=\"edge\">\n",
       "<title>11&#45;&gt;12</title>\n",
       "<path fill=\"none\" stroke=\"black\" d=\"M953.04,-192.88C949.51,-184.51 945.67,-175.4 941.97,-166.63\"/>\n",
       "<polygon fill=\"black\" stroke=\"black\" points=\"945.15,-165.15 938.04,-157.3 938.7,-167.87 945.15,-165.15\"/>\n",
       "</g>\n",
       "<!-- 15 -->\n",
       "<g id=\"node16\" class=\"node\">\n",
       "<title>15</title>\n",
       "<polygon fill=\"#f0b58b\" stroke=\"black\" points=\"1318.5,-157 1067.5,-157 1067.5,-89 1318.5,-89 1318.5,-157\"/>\n",
       "<text text-anchor=\"middle\" x=\"1193\" y=\"-141.8\" font-family=\"Helvetica,sans-Serif\" font-size=\"14.00\">ELOZO_NAPOK_POLCON &lt;= 21.5</text>\n",
       "<text text-anchor=\"middle\" x=\"1193\" y=\"-126.8\" font-family=\"Helvetica,sans-Serif\" font-size=\"14.00\">squared_error = 0.022</text>\n",
       "<text text-anchor=\"middle\" x=\"1193\" y=\"-111.8\" font-family=\"Helvetica,sans-Serif\" font-size=\"14.00\">samples = 18</text>\n",
       "<text text-anchor=\"middle\" x=\"1193\" y=\"-96.8\" font-family=\"Helvetica,sans-Serif\" font-size=\"14.00\">value = 0.223</text>\n",
       "</g>\n",
       "<!-- 11&#45;&gt;15 -->\n",
       "<g id=\"edge15\" class=\"edge\">\n",
       "<title>11&#45;&gt;15</title>\n",
       "<path fill=\"none\" stroke=\"black\" d=\"M1040.38,-192.88C1062.69,-182.81 1087.37,-171.67 1110.26,-161.34\"/>\n",
       "<polygon fill=\"black\" stroke=\"black\" points=\"1111.93,-164.43 1119.61,-157.12 1109.05,-158.05 1111.93,-164.43\"/>\n",
       "</g>\n",
       "<!-- 13 -->\n",
       "<g id=\"node14\" class=\"node\">\n",
       "<title>13</title>\n",
       "<polygon fill=\"#eda774\" stroke=\"black\" points=\"819,-53 645,-53 645,0 819,0 819,-53\"/>\n",
       "<text text-anchor=\"middle\" x=\"732\" y=\"-37.8\" font-family=\"Helvetica,sans-Serif\" font-size=\"14.00\">squared_error = 0.108</text>\n",
       "<text text-anchor=\"middle\" x=\"732\" y=\"-22.8\" font-family=\"Helvetica,sans-Serif\" font-size=\"14.00\">samples = 1341</text>\n",
       "<text text-anchor=\"middle\" x=\"732\" y=\"-7.8\" font-family=\"Helvetica,sans-Serif\" font-size=\"14.00\">value = 0.265</text>\n",
       "</g>\n",
       "<!-- 12&#45;&gt;13 -->\n",
       "<g id=\"edge13\" class=\"edge\">\n",
       "<title>12&#45;&gt;13</title>\n",
       "<path fill=\"none\" stroke=\"black\" d=\"M856.85,-88.95C836.12,-78.75 813.42,-67.57 793.13,-57.59\"/>\n",
       "<polygon fill=\"black\" stroke=\"black\" points=\"794.5,-54.36 783.99,-53.09 791.41,-60.64 794.5,-54.36\"/>\n",
       "</g>\n",
       "<!-- 14 -->\n",
       "<g id=\"node15\" class=\"node\">\n",
       "<title>14</title>\n",
       "<polygon fill=\"#e99559\" stroke=\"black\" points=\"1011,-53 837,-53 837,0 1011,0 1011,-53\"/>\n",
       "<text text-anchor=\"middle\" x=\"924\" y=\"-37.8\" font-family=\"Helvetica,sans-Serif\" font-size=\"14.00\">squared_error = 0.199</text>\n",
       "<text text-anchor=\"middle\" x=\"924\" y=\"-22.8\" font-family=\"Helvetica,sans-Serif\" font-size=\"14.00\">samples = 41</text>\n",
       "<text text-anchor=\"middle\" x=\"924\" y=\"-7.8\" font-family=\"Helvetica,sans-Serif\" font-size=\"14.00\">value = 0.315</text>\n",
       "</g>\n",
       "<!-- 12&#45;&gt;14 -->\n",
       "<g id=\"edge14\" class=\"edge\">\n",
       "<title>12&#45;&gt;14</title>\n",
       "<path fill=\"none\" stroke=\"black\" d=\"M924,-88.95C924,-80.72 924,-71.85 924,-63.48\"/>\n",
       "<polygon fill=\"black\" stroke=\"black\" points=\"927.5,-63.24 924,-53.24 920.5,-63.24 927.5,-63.24\"/>\n",
       "</g>\n",
       "<!-- 16 -->\n",
       "<g id=\"node17\" class=\"node\">\n",
       "<title>16</title>\n",
       "<polygon fill=\"#f4c9a9\" stroke=\"black\" points=\"1203,-53 1029,-53 1029,0 1203,0 1203,-53\"/>\n",
       "<text text-anchor=\"middle\" x=\"1116\" y=\"-37.8\" font-family=\"Helvetica,sans-Serif\" font-size=\"14.00\">squared_error = 0.003</text>\n",
       "<text text-anchor=\"middle\" x=\"1116\" y=\"-22.8\" font-family=\"Helvetica,sans-Serif\" font-size=\"14.00\">samples = 2</text>\n",
       "<text text-anchor=\"middle\" x=\"1116\" y=\"-7.8\" font-family=\"Helvetica,sans-Serif\" font-size=\"14.00\">value = 0.167</text>\n",
       "</g>\n",
       "<!-- 15&#45;&gt;16 -->\n",
       "<g id=\"edge16\" class=\"edge\">\n",
       "<title>15&#45;&gt;16</title>\n",
       "<path fill=\"none\" stroke=\"black\" d=\"M1166.07,-88.95C1158.76,-79.98 1150.85,-70.27 1143.51,-61.26\"/>\n",
       "<polygon fill=\"black\" stroke=\"black\" points=\"1146,-58.78 1136.97,-53.24 1140.57,-63.2 1146,-58.78\"/>\n",
       "</g>\n",
       "<!-- 17 -->\n",
       "<g id=\"node18\" class=\"node\">\n",
       "<title>17</title>\n",
       "<polygon fill=\"#efb387\" stroke=\"black\" points=\"1395,-53 1221,-53 1221,0 1395,0 1395,-53\"/>\n",
       "<text text-anchor=\"middle\" x=\"1308\" y=\"-37.8\" font-family=\"Helvetica,sans-Serif\" font-size=\"14.00\">squared_error = 0.024</text>\n",
       "<text text-anchor=\"middle\" x=\"1308\" y=\"-22.8\" font-family=\"Helvetica,sans-Serif\" font-size=\"14.00\">samples = 16</text>\n",
       "<text text-anchor=\"middle\" x=\"1308\" y=\"-7.8\" font-family=\"Helvetica,sans-Serif\" font-size=\"14.00\">value = 0.23</text>\n",
       "</g>\n",
       "<!-- 15&#45;&gt;17 -->\n",
       "<g id=\"edge17\" class=\"edge\">\n",
       "<title>15&#45;&gt;17</title>\n",
       "<path fill=\"none\" stroke=\"black\" d=\"M1233.22,-88.95C1244.8,-79.43 1257.41,-69.07 1268.92,-59.62\"/>\n",
       "<polygon fill=\"black\" stroke=\"black\" points=\"1271.18,-62.29 1276.68,-53.24 1266.73,-56.88 1271.18,-62.29\"/>\n",
       "</g>\n",
       "<!-- 19 -->\n",
       "<g id=\"node20\" class=\"node\">\n",
       "<title>19</title>\n",
       "<polygon fill=\"#f9e3d4\" stroke=\"black\" points=\"2288.5,-365 2037.5,-365 2037.5,-297 2288.5,-297 2288.5,-365\"/>\n",
       "<text text-anchor=\"middle\" x=\"2163\" y=\"-349.8\" font-family=\"Helvetica,sans-Serif\" font-size=\"14.00\">ELOZO_NAPOK_POLCON &lt;= 35.5</text>\n",
       "<text text-anchor=\"middle\" x=\"2163\" y=\"-334.8\" font-family=\"Helvetica,sans-Serif\" font-size=\"14.00\">squared_error = 0.013</text>\n",
       "<text text-anchor=\"middle\" x=\"2163\" y=\"-319.8\" font-family=\"Helvetica,sans-Serif\" font-size=\"14.00\">samples = 2109</text>\n",
       "<text text-anchor=\"middle\" x=\"2163\" y=\"-304.8\" font-family=\"Helvetica,sans-Serif\" font-size=\"14.00\">value = 0.089</text>\n",
       "</g>\n",
       "<!-- 18&#45;&gt;19 -->\n",
       "<g id=\"edge19\" class=\"edge\">\n",
       "<title>18&#45;&gt;19</title>\n",
       "<path fill=\"none\" stroke=\"black\" d=\"M2163,-400.88C2163,-392.78 2163,-383.98 2163,-375.47\"/>\n",
       "<polygon fill=\"black\" stroke=\"black\" points=\"2166.5,-375.3 2163,-365.3 2159.5,-375.3 2166.5,-375.3\"/>\n",
       "</g>\n",
       "<!-- 34 -->\n",
       "<g id=\"node35\" class=\"node\">\n",
       "<title>34</title>\n",
       "<polygon fill=\"#fdf5ef\" stroke=\"black\" points=\"3444.5,-365 3193.5,-365 3193.5,-297 3444.5,-297 3444.5,-365\"/>\n",
       "<text text-anchor=\"middle\" x=\"3319\" y=\"-349.8\" font-family=\"Helvetica,sans-Serif\" font-size=\"14.00\">ELOZO_NAPOK_POLCON &lt;= 63.0</text>\n",
       "<text text-anchor=\"middle\" x=\"3319\" y=\"-334.8\" font-family=\"Helvetica,sans-Serif\" font-size=\"14.00\">squared_error = 0.006</text>\n",
       "<text text-anchor=\"middle\" x=\"3319\" y=\"-319.8\" font-family=\"Helvetica,sans-Serif\" font-size=\"14.00\">samples = 151</text>\n",
       "<text text-anchor=\"middle\" x=\"3319\" y=\"-304.8\" font-family=\"Helvetica,sans-Serif\" font-size=\"14.00\">value = 0.037</text>\n",
       "</g>\n",
       "<!-- 18&#45;&gt;34 -->\n",
       "<g id=\"edge34\" class=\"edge\">\n",
       "<title>18&#45;&gt;34</title>\n",
       "<path fill=\"none\" stroke=\"black\" d=\"M2288.64,-422.91C2507.51,-403.6 2956.93,-363.95 3182.91,-344.01\"/>\n",
       "<polygon fill=\"black\" stroke=\"black\" points=\"3183.52,-347.47 3193.17,-343.1 3182.9,-340.5 3183.52,-347.47\"/>\n",
       "</g>\n",
       "<!-- 20 -->\n",
       "<g id=\"node21\" class=\"node\">\n",
       "<title>20</title>\n",
       "<polygon fill=\"#fae5d6\" stroke=\"black\" points=\"2144.5,-261 1893.5,-261 1893.5,-193 2144.5,-193 2144.5,-261\"/>\n",
       "<text text-anchor=\"middle\" x=\"2019\" y=\"-245.8\" font-family=\"Helvetica,sans-Serif\" font-size=\"14.00\">ELOZO_NAPOK_POLCON &lt;= 29.5</text>\n",
       "<text text-anchor=\"middle\" x=\"2019\" y=\"-230.8\" font-family=\"Helvetica,sans-Serif\" font-size=\"14.00\">squared_error = 0.012</text>\n",
       "<text text-anchor=\"middle\" x=\"2019\" y=\"-215.8\" font-family=\"Helvetica,sans-Serif\" font-size=\"14.00\">samples = 1712</text>\n",
       "<text text-anchor=\"middle\" x=\"2019\" y=\"-200.8\" font-family=\"Helvetica,sans-Serif\" font-size=\"14.00\">value = 0.083</text>\n",
       "</g>\n",
       "<!-- 19&#45;&gt;20 -->\n",
       "<g id=\"edge20\" class=\"edge\">\n",
       "<title>19&#45;&gt;20</title>\n",
       "<path fill=\"none\" stroke=\"black\" d=\"M2116.25,-296.88C2102.92,-287.44 2088.27,-277.06 2074.47,-267.29\"/>\n",
       "<polygon fill=\"black\" stroke=\"black\" points=\"2076.19,-264.22 2066.01,-261.3 2072.15,-269.94 2076.19,-264.22\"/>\n",
       "</g>\n",
       "<!-- 27 -->\n",
       "<g id=\"node28\" class=\"node\">\n",
       "<title>27</title>\n",
       "<polygon fill=\"#f8dcc8\" stroke=\"black\" points=\"2489.5,-261 2238.5,-261 2238.5,-193 2489.5,-193 2489.5,-261\"/>\n",
       "<text text-anchor=\"middle\" x=\"2364\" y=\"-245.8\" font-family=\"Helvetica,sans-Serif\" font-size=\"14.00\">ELOZO_NAPOK_POLCON &lt;= 38.5</text>\n",
       "<text text-anchor=\"middle\" x=\"2364\" y=\"-230.8\" font-family=\"Helvetica,sans-Serif\" font-size=\"14.00\">squared_error = 0.017</text>\n",
       "<text text-anchor=\"middle\" x=\"2364\" y=\"-215.8\" font-family=\"Helvetica,sans-Serif\" font-size=\"14.00\">samples = 397</text>\n",
       "<text text-anchor=\"middle\" x=\"2364\" y=\"-200.8\" font-family=\"Helvetica,sans-Serif\" font-size=\"14.00\">value = 0.111</text>\n",
       "</g>\n",
       "<!-- 19&#45;&gt;27 -->\n",
       "<g id=\"edge27\" class=\"edge\">\n",
       "<title>19&#45;&gt;27</title>\n",
       "<path fill=\"none\" stroke=\"black\" d=\"M2228.26,-296.88C2247.84,-286.95 2269.47,-275.97 2289.6,-265.76\"/>\n",
       "<polygon fill=\"black\" stroke=\"black\" points=\"2291.39,-268.77 2298.72,-261.12 2288.22,-262.53 2291.39,-268.77\"/>\n",
       "</g>\n",
       "<!-- 21 -->\n",
       "<g id=\"node22\" class=\"node\">\n",
       "<title>21</title>\n",
       "<polygon fill=\"#f9e2d2\" stroke=\"black\" points=\"1817.5,-157 1566.5,-157 1566.5,-89 1817.5,-89 1817.5,-157\"/>\n",
       "<text text-anchor=\"middle\" x=\"1692\" y=\"-141.8\" font-family=\"Helvetica,sans-Serif\" font-size=\"14.00\">ELOZO_NAPOK_POLCON &lt;= 26.5</text>\n",
       "<text text-anchor=\"middle\" x=\"1692\" y=\"-126.8\" font-family=\"Helvetica,sans-Serif\" font-size=\"14.00\">squared_error = 0.013</text>\n",
       "<text text-anchor=\"middle\" x=\"1692\" y=\"-111.8\" font-family=\"Helvetica,sans-Serif\" font-size=\"14.00\">samples = 1021</text>\n",
       "<text text-anchor=\"middle\" x=\"1692\" y=\"-96.8\" font-family=\"Helvetica,sans-Serif\" font-size=\"14.00\">value = 0.092</text>\n",
       "</g>\n",
       "<!-- 20&#45;&gt;21 -->\n",
       "<g id=\"edge21\" class=\"edge\">\n",
       "<title>20&#45;&gt;21</title>\n",
       "<path fill=\"none\" stroke=\"black\" d=\"M1912.83,-192.88C1879.17,-182.38 1841.79,-170.72 1807.5,-160.03\"/>\n",
       "<polygon fill=\"black\" stroke=\"black\" points=\"1808.5,-156.67 1797.91,-157.04 1806.42,-163.36 1808.5,-156.67\"/>\n",
       "</g>\n",
       "<!-- 24 -->\n",
       "<g id=\"node25\" class=\"node\">\n",
       "<title>24</title>\n",
       "<polygon fill=\"#fbeade\" stroke=\"black\" points=\"2144.5,-157 1893.5,-157 1893.5,-89 2144.5,-89 2144.5,-157\"/>\n",
       "<text text-anchor=\"middle\" x=\"2019\" y=\"-141.8\" font-family=\"Helvetica,sans-Serif\" font-size=\"14.00\">ELOZO_NAPOK_POLCON &lt;= 33.5</text>\n",
       "<text text-anchor=\"middle\" x=\"2019\" y=\"-126.8\" font-family=\"Helvetica,sans-Serif\" font-size=\"14.00\">squared_error = 0.009</text>\n",
       "<text text-anchor=\"middle\" x=\"2019\" y=\"-111.8\" font-family=\"Helvetica,sans-Serif\" font-size=\"14.00\">samples = 691</text>\n",
       "<text text-anchor=\"middle\" x=\"2019\" y=\"-96.8\" font-family=\"Helvetica,sans-Serif\" font-size=\"14.00\">value = 0.07</text>\n",
       "</g>\n",
       "<!-- 20&#45;&gt;24 -->\n",
       "<g id=\"edge24\" class=\"edge\">\n",
       "<title>20&#45;&gt;24</title>\n",
       "<path fill=\"none\" stroke=\"black\" d=\"M2019,-192.88C2019,-184.78 2019,-175.98 2019,-167.47\"/>\n",
       "<polygon fill=\"black\" stroke=\"black\" points=\"2022.5,-167.3 2019,-157.3 2015.5,-167.3 2022.5,-167.3\"/>\n",
       "</g>\n",
       "<!-- 22 -->\n",
       "<g id=\"node23\" class=\"node\">\n",
       "<title>22</title>\n",
       "<polygon fill=\"#fcf3ec\" stroke=\"black\" points=\"1587,-53 1413,-53 1413,0 1587,0 1587,-53\"/>\n",
       "<text text-anchor=\"middle\" x=\"1500\" y=\"-37.8\" font-family=\"Helvetica,sans-Serif\" font-size=\"14.00\">squared_error = 0.002</text>\n",
       "<text text-anchor=\"middle\" x=\"1500\" y=\"-22.8\" font-family=\"Helvetica,sans-Serif\" font-size=\"14.00\">samples = 19</text>\n",
       "<text text-anchor=\"middle\" x=\"1500\" y=\"-7.8\" font-family=\"Helvetica,sans-Serif\" font-size=\"14.00\">value = 0.044</text>\n",
       "</g>\n",
       "<!-- 21&#45;&gt;22 -->\n",
       "<g id=\"edge22\" class=\"edge\">\n",
       "<title>21&#45;&gt;22</title>\n",
       "<path fill=\"none\" stroke=\"black\" d=\"M1624.85,-88.95C1604.12,-78.75 1581.42,-67.57 1561.13,-57.59\"/>\n",
       "<polygon fill=\"black\" stroke=\"black\" points=\"1562.5,-54.36 1551.99,-53.09 1559.41,-60.64 1562.5,-54.36\"/>\n",
       "</g>\n",
       "<!-- 23 -->\n",
       "<g id=\"node24\" class=\"node\">\n",
       "<title>23</title>\n",
       "<polygon fill=\"#f9e2d1\" stroke=\"black\" points=\"1779,-53 1605,-53 1605,0 1779,0 1779,-53\"/>\n",
       "<text text-anchor=\"middle\" x=\"1692\" y=\"-37.8\" font-family=\"Helvetica,sans-Serif\" font-size=\"14.00\">squared_error = 0.014</text>\n",
       "<text text-anchor=\"middle\" x=\"1692\" y=\"-22.8\" font-family=\"Helvetica,sans-Serif\" font-size=\"14.00\">samples = 1002</text>\n",
       "<text text-anchor=\"middle\" x=\"1692\" y=\"-7.8\" font-family=\"Helvetica,sans-Serif\" font-size=\"14.00\">value = 0.093</text>\n",
       "</g>\n",
       "<!-- 21&#45;&gt;23 -->\n",
       "<g id=\"edge23\" class=\"edge\">\n",
       "<title>21&#45;&gt;23</title>\n",
       "<path fill=\"none\" stroke=\"black\" d=\"M1692,-88.95C1692,-80.72 1692,-71.85 1692,-63.48\"/>\n",
       "<polygon fill=\"black\" stroke=\"black\" points=\"1695.5,-63.24 1692,-53.24 1688.5,-63.24 1695.5,-63.24\"/>\n",
       "</g>\n",
       "<!-- 25 -->\n",
       "<g id=\"node26\" class=\"node\">\n",
       "<title>25</title>\n",
       "<polygon fill=\"#fbede3\" stroke=\"black\" points=\"1971,-53 1797,-53 1797,0 1971,0 1971,-53\"/>\n",
       "<text text-anchor=\"middle\" x=\"1884\" y=\"-37.8\" font-family=\"Helvetica,sans-Serif\" font-size=\"14.00\">squared_error = 0.007</text>\n",
       "<text text-anchor=\"middle\" x=\"1884\" y=\"-22.8\" font-family=\"Helvetica,sans-Serif\" font-size=\"14.00\">samples = 484</text>\n",
       "<text text-anchor=\"middle\" x=\"1884\" y=\"-7.8\" font-family=\"Helvetica,sans-Serif\" font-size=\"14.00\">value = 0.061</text>\n",
       "</g>\n",
       "<!-- 24&#45;&gt;25 -->\n",
       "<g id=\"edge25\" class=\"edge\">\n",
       "<title>24&#45;&gt;25</title>\n",
       "<path fill=\"none\" stroke=\"black\" d=\"M1971.78,-88.95C1957.93,-79.25 1942.82,-68.68 1929.1,-59.07\"/>\n",
       "<polygon fill=\"black\" stroke=\"black\" points=\"1930.97,-56.1 1920.77,-53.24 1926.95,-61.84 1930.97,-56.1\"/>\n",
       "</g>\n",
       "<!-- 26 -->\n",
       "<g id=\"node27\" class=\"node\">\n",
       "<title>26</title>\n",
       "<polygon fill=\"#f9e2d2\" stroke=\"black\" points=\"2163,-53 1989,-53 1989,0 2163,0 2163,-53\"/>\n",
       "<text text-anchor=\"middle\" x=\"2076\" y=\"-37.8\" font-family=\"Helvetica,sans-Serif\" font-size=\"14.00\">squared_error = 0.013</text>\n",
       "<text text-anchor=\"middle\" x=\"2076\" y=\"-22.8\" font-family=\"Helvetica,sans-Serif\" font-size=\"14.00\">samples = 207</text>\n",
       "<text text-anchor=\"middle\" x=\"2076\" y=\"-7.8\" font-family=\"Helvetica,sans-Serif\" font-size=\"14.00\">value = 0.092</text>\n",
       "</g>\n",
       "<!-- 24&#45;&gt;26 -->\n",
       "<g id=\"edge26\" class=\"edge\">\n",
       "<title>24&#45;&gt;26</title>\n",
       "<path fill=\"none\" stroke=\"black\" d=\"M2038.94,-88.95C2044.23,-80.17 2049.97,-70.66 2055.3,-61.82\"/>\n",
       "<polygon fill=\"black\" stroke=\"black\" points=\"2058.31,-63.61 2060.48,-53.24 2052.31,-59.99 2058.31,-63.61\"/>\n",
       "</g>\n",
       "<!-- 28 -->\n",
       "<g id=\"node29\" class=\"node\">\n",
       "<title>28</title>\n",
       "<polygon fill=\"#f8dbc7\" stroke=\"black\" points=\"2489.5,-157 2238.5,-157 2238.5,-89 2489.5,-89 2489.5,-157\"/>\n",
       "<text text-anchor=\"middle\" x=\"2364\" y=\"-141.8\" font-family=\"Helvetica,sans-Serif\" font-size=\"14.00\">ELOZO_NAPOK_POLCON &lt;= 37.5</text>\n",
       "<text text-anchor=\"middle\" x=\"2364\" y=\"-126.8\" font-family=\"Helvetica,sans-Serif\" font-size=\"14.00\">squared_error = 0.017</text>\n",
       "<text text-anchor=\"middle\" x=\"2364\" y=\"-111.8\" font-family=\"Helvetica,sans-Serif\" font-size=\"14.00\">samples = 376</text>\n",
       "<text text-anchor=\"middle\" x=\"2364\" y=\"-96.8\" font-family=\"Helvetica,sans-Serif\" font-size=\"14.00\">value = 0.112</text>\n",
       "</g>\n",
       "<!-- 27&#45;&gt;28 -->\n",
       "<g id=\"edge28\" class=\"edge\">\n",
       "<title>27&#45;&gt;28</title>\n",
       "<path fill=\"none\" stroke=\"black\" d=\"M2364,-192.88C2364,-184.78 2364,-175.98 2364,-167.47\"/>\n",
       "<polygon fill=\"black\" stroke=\"black\" points=\"2367.5,-167.3 2364,-157.3 2360.5,-167.3 2367.5,-167.3\"/>\n",
       "</g>\n",
       "<!-- 31 -->\n",
       "<g id=\"node32\" class=\"node\">\n",
       "<title>31</title>\n",
       "<polygon fill=\"#f9e3d3\" stroke=\"black\" points=\"2777.5,-157 2526.5,-157 2526.5,-89 2777.5,-89 2777.5,-157\"/>\n",
       "<text text-anchor=\"middle\" x=\"2652\" y=\"-141.8\" font-family=\"Helvetica,sans-Serif\" font-size=\"14.00\">ELOZO_NAPOK_POLCON &lt;= 41.0</text>\n",
       "<text text-anchor=\"middle\" x=\"2652\" y=\"-126.8\" font-family=\"Helvetica,sans-Serif\" font-size=\"14.00\">squared_error = 0.015</text>\n",
       "<text text-anchor=\"middle\" x=\"2652\" y=\"-111.8\" font-family=\"Helvetica,sans-Serif\" font-size=\"14.00\">samples = 21</text>\n",
       "<text text-anchor=\"middle\" x=\"2652\" y=\"-96.8\" font-family=\"Helvetica,sans-Serif\" font-size=\"14.00\">value = 0.09</text>\n",
       "</g>\n",
       "<!-- 27&#45;&gt;31 -->\n",
       "<g id=\"edge31\" class=\"edge\">\n",
       "<title>27&#45;&gt;31</title>\n",
       "<path fill=\"none\" stroke=\"black\" d=\"M2457.51,-192.88C2486.7,-182.54 2519.07,-171.08 2548.89,-160.52\"/>\n",
       "<polygon fill=\"black\" stroke=\"black\" points=\"2550.21,-163.76 2558.47,-157.12 2547.88,-157.16 2550.21,-163.76\"/>\n",
       "</g>\n",
       "<!-- 29 -->\n",
       "<g id=\"node30\" class=\"node\">\n",
       "<title>29</title>\n",
       "<polygon fill=\"#f8dcc7\" stroke=\"black\" points=\"2355,-53 2181,-53 2181,0 2355,0 2355,-53\"/>\n",
       "<text text-anchor=\"middle\" x=\"2268\" y=\"-37.8\" font-family=\"Helvetica,sans-Serif\" font-size=\"14.00\">squared_error = 0.016</text>\n",
       "<text text-anchor=\"middle\" x=\"2268\" y=\"-22.8\" font-family=\"Helvetica,sans-Serif\" font-size=\"14.00\">samples = 370</text>\n",
       "<text text-anchor=\"middle\" x=\"2268\" y=\"-7.8\" font-family=\"Helvetica,sans-Serif\" font-size=\"14.00\">value = 0.111</text>\n",
       "</g>\n",
       "<!-- 28&#45;&gt;29 -->\n",
       "<g id=\"edge29\" class=\"edge\">\n",
       "<title>28&#45;&gt;29</title>\n",
       "<path fill=\"none\" stroke=\"black\" d=\"M2330.42,-88.95C2321.04,-79.71 2310.84,-69.67 2301.46,-60.44\"/>\n",
       "<polygon fill=\"black\" stroke=\"black\" points=\"2303.73,-57.76 2294.15,-53.24 2298.82,-62.75 2303.73,-57.76\"/>\n",
       "</g>\n",
       "<!-- 30 -->\n",
       "<g id=\"node31\" class=\"node\">\n",
       "<title>30</title>\n",
       "<polygon fill=\"#f5ceb3\" stroke=\"black\" points=\"2547,-53 2373,-53 2373,0 2547,0 2547,-53\"/>\n",
       "<text text-anchor=\"middle\" x=\"2460\" y=\"-37.8\" font-family=\"Helvetica,sans-Serif\" font-size=\"14.00\">squared_error = 0.023</text>\n",
       "<text text-anchor=\"middle\" x=\"2460\" y=\"-22.8\" font-family=\"Helvetica,sans-Serif\" font-size=\"14.00\">samples = 6</text>\n",
       "<text text-anchor=\"middle\" x=\"2460\" y=\"-7.8\" font-family=\"Helvetica,sans-Serif\" font-size=\"14.00\">value = 0.149</text>\n",
       "</g>\n",
       "<!-- 28&#45;&gt;30 -->\n",
       "<g id=\"edge30\" class=\"edge\">\n",
       "<title>28&#45;&gt;30</title>\n",
       "<path fill=\"none\" stroke=\"black\" d=\"M2397.58,-88.95C2406.96,-79.71 2417.16,-69.67 2426.54,-60.44\"/>\n",
       "<polygon fill=\"black\" stroke=\"black\" points=\"2429.18,-62.75 2433.85,-53.24 2424.27,-57.76 2429.18,-62.75\"/>\n",
       "</g>\n",
       "<!-- 32 -->\n",
       "<g id=\"node33\" class=\"node\">\n",
       "<title>32</title>\n",
       "<polygon fill=\"#fbece1\" stroke=\"black\" points=\"2739,-53 2565,-53 2565,0 2739,0 2739,-53\"/>\n",
       "<text text-anchor=\"middle\" x=\"2652\" y=\"-37.8\" font-family=\"Helvetica,sans-Serif\" font-size=\"14.00\">squared_error = 0.006</text>\n",
       "<text text-anchor=\"middle\" x=\"2652\" y=\"-22.8\" font-family=\"Helvetica,sans-Serif\" font-size=\"14.00\">samples = 5</text>\n",
       "<text text-anchor=\"middle\" x=\"2652\" y=\"-7.8\" font-family=\"Helvetica,sans-Serif\" font-size=\"14.00\">value = 0.064</text>\n",
       "</g>\n",
       "<!-- 31&#45;&gt;32 -->\n",
       "<g id=\"edge32\" class=\"edge\">\n",
       "<title>31&#45;&gt;32</title>\n",
       "<path fill=\"none\" stroke=\"black\" d=\"M2652,-88.95C2652,-80.72 2652,-71.85 2652,-63.48\"/>\n",
       "<polygon fill=\"black\" stroke=\"black\" points=\"2655.5,-63.24 2652,-53.24 2648.5,-63.24 2655.5,-63.24\"/>\n",
       "</g>\n",
       "<!-- 33 -->\n",
       "<g id=\"node34\" class=\"node\">\n",
       "<title>33</title>\n",
       "<polygon fill=\"#f9e0ce\" stroke=\"black\" points=\"2931,-53 2757,-53 2757,0 2931,0 2931,-53\"/>\n",
       "<text text-anchor=\"middle\" x=\"2844\" y=\"-37.8\" font-family=\"Helvetica,sans-Serif\" font-size=\"14.00\">squared_error = 0.018</text>\n",
       "<text text-anchor=\"middle\" x=\"2844\" y=\"-22.8\" font-family=\"Helvetica,sans-Serif\" font-size=\"14.00\">samples = 16</text>\n",
       "<text text-anchor=\"middle\" x=\"2844\" y=\"-7.8\" font-family=\"Helvetica,sans-Serif\" font-size=\"14.00\">value = 0.098</text>\n",
       "</g>\n",
       "<!-- 31&#45;&gt;33 -->\n",
       "<g id=\"edge33\" class=\"edge\">\n",
       "<title>31&#45;&gt;33</title>\n",
       "<path fill=\"none\" stroke=\"black\" d=\"M2719.15,-88.95C2739.88,-78.75 2762.58,-67.57 2782.87,-57.59\"/>\n",
       "<polygon fill=\"black\" stroke=\"black\" points=\"2784.59,-60.64 2792.01,-53.09 2781.5,-54.36 2784.59,-60.64\"/>\n",
       "</g>\n",
       "<!-- 35 -->\n",
       "<g id=\"node36\" class=\"node\">\n",
       "<title>35</title>\n",
       "<polygon fill=\"#fdf7f3\" stroke=\"black\" points=\"3444.5,-261 3193.5,-261 3193.5,-193 3444.5,-193 3444.5,-261\"/>\n",
       "<text text-anchor=\"middle\" x=\"3319\" y=\"-245.8\" font-family=\"Helvetica,sans-Serif\" font-size=\"14.00\">ELOZO_NAPOK_POLCON &lt;= 59.0</text>\n",
       "<text text-anchor=\"middle\" x=\"3319\" y=\"-230.8\" font-family=\"Helvetica,sans-Serif\" font-size=\"14.00\">squared_error = 0.004</text>\n",
       "<text text-anchor=\"middle\" x=\"3319\" y=\"-215.8\" font-family=\"Helvetica,sans-Serif\" font-size=\"14.00\">samples = 124</text>\n",
       "<text text-anchor=\"middle\" x=\"3319\" y=\"-200.8\" font-family=\"Helvetica,sans-Serif\" font-size=\"14.00\">value = 0.03</text>\n",
       "</g>\n",
       "<!-- 34&#45;&gt;35 -->\n",
       "<g id=\"edge35\" class=\"edge\">\n",
       "<title>34&#45;&gt;35</title>\n",
       "<path fill=\"none\" stroke=\"black\" d=\"M3319,-296.88C3319,-288.78 3319,-279.98 3319,-271.47\"/>\n",
       "<polygon fill=\"black\" stroke=\"black\" points=\"3322.5,-271.3 3319,-261.3 3315.5,-271.3 3322.5,-271.3\"/>\n",
       "</g>\n",
       "<!-- 42 -->\n",
       "<g id=\"node43\" class=\"node\">\n",
       "<title>42</title>\n",
       "<polygon fill=\"#fbeade\" stroke=\"black\" points=\"3948.5,-261 3697.5,-261 3697.5,-193 3948.5,-193 3948.5,-261\"/>\n",
       "<text text-anchor=\"middle\" x=\"3823\" y=\"-245.8\" font-family=\"Helvetica,sans-Serif\" font-size=\"14.00\">ELOZO_NAPOK_POLCON &lt;= 72.5</text>\n",
       "<text text-anchor=\"middle\" x=\"3823\" y=\"-230.8\" font-family=\"Helvetica,sans-Serif\" font-size=\"14.00\">squared_error = 0.014</text>\n",
       "<text text-anchor=\"middle\" x=\"3823\" y=\"-215.8\" font-family=\"Helvetica,sans-Serif\" font-size=\"14.00\">samples = 27</text>\n",
       "<text text-anchor=\"middle\" x=\"3823\" y=\"-200.8\" font-family=\"Helvetica,sans-Serif\" font-size=\"14.00\">value = 0.069</text>\n",
       "</g>\n",
       "<!-- 34&#45;&gt;42 -->\n",
       "<g id=\"edge42\" class=\"edge\">\n",
       "<title>34&#45;&gt;42</title>\n",
       "<path fill=\"none\" stroke=\"black\" d=\"M3444.56,-304.59C3518.36,-289.65 3611.69,-270.77 3687.2,-255.48\"/>\n",
       "<polygon fill=\"black\" stroke=\"black\" points=\"3688.15,-258.86 3697.26,-253.45 3686.76,-252 3688.15,-258.86\"/>\n",
       "</g>\n",
       "<!-- 36 -->\n",
       "<g id=\"node37\" class=\"node\">\n",
       "<title>36</title>\n",
       "<polygon fill=\"#fdf7f2\" stroke=\"black\" points=\"3310.5,-157 3059.5,-157 3059.5,-89 3310.5,-89 3310.5,-157\"/>\n",
       "<text text-anchor=\"middle\" x=\"3185\" y=\"-141.8\" font-family=\"Helvetica,sans-Serif\" font-size=\"14.00\">ELOZO_NAPOK_POLCON &lt;= 56.5</text>\n",
       "<text text-anchor=\"middle\" x=\"3185\" y=\"-126.8\" font-family=\"Helvetica,sans-Serif\" font-size=\"14.00\">squared_error = 0.004</text>\n",
       "<text text-anchor=\"middle\" x=\"3185\" y=\"-111.8\" font-family=\"Helvetica,sans-Serif\" font-size=\"14.00\">samples = 114</text>\n",
       "<text text-anchor=\"middle\" x=\"3185\" y=\"-96.8\" font-family=\"Helvetica,sans-Serif\" font-size=\"14.00\">value = 0.032</text>\n",
       "</g>\n",
       "<!-- 35&#45;&gt;36 -->\n",
       "<g id=\"edge36\" class=\"edge\">\n",
       "<title>35&#45;&gt;36</title>\n",
       "<path fill=\"none\" stroke=\"black\" d=\"M3275.49,-192.88C3263.21,-183.53 3249.71,-173.26 3236.98,-163.57\"/>\n",
       "<polygon fill=\"black\" stroke=\"black\" points=\"3238.82,-160.57 3228.75,-157.3 3234.58,-166.14 3238.82,-160.57\"/>\n",
       "</g>\n",
       "<!-- 39 -->\n",
       "<g id=\"node40\" class=\"node\">\n",
       "<title>39</title>\n",
       "<polygon fill=\"#fffefe\" stroke=\"black\" points=\"3579.5,-157 3328.5,-157 3328.5,-89 3579.5,-89 3579.5,-157\"/>\n",
       "<text text-anchor=\"middle\" x=\"3454\" y=\"-141.8\" font-family=\"Helvetica,sans-Serif\" font-size=\"14.00\">ELOZO_NAPOK_POLCON &lt;= 61.5</text>\n",
       "<text text-anchor=\"middle\" x=\"3454\" y=\"-126.8\" font-family=\"Helvetica,sans-Serif\" font-size=\"14.00\">squared_error = 0.0</text>\n",
       "<text text-anchor=\"middle\" x=\"3454\" y=\"-111.8\" font-family=\"Helvetica,sans-Serif\" font-size=\"14.00\">samples = 10</text>\n",
       "<text text-anchor=\"middle\" x=\"3454\" y=\"-96.8\" font-family=\"Helvetica,sans-Serif\" font-size=\"14.00\">value = 0.011</text>\n",
       "</g>\n",
       "<!-- 35&#45;&gt;39 -->\n",
       "<g id=\"edge39\" class=\"edge\">\n",
       "<title>35&#45;&gt;39</title>\n",
       "<path fill=\"none\" stroke=\"black\" d=\"M3362.83,-192.88C3375.21,-183.53 3388.8,-173.26 3401.63,-163.57\"/>\n",
       "<polygon fill=\"black\" stroke=\"black\" points=\"3404.06,-166.12 3409.93,-157.3 3399.84,-160.54 3404.06,-166.12\"/>\n",
       "</g>\n",
       "<!-- 37 -->\n",
       "<g id=\"node38\" class=\"node\">\n",
       "<title>37</title>\n",
       "<polygon fill=\"#fef8f4\" stroke=\"black\" points=\"3123,-53 2949,-53 2949,0 3123,0 3123,-53\"/>\n",
       "<text text-anchor=\"middle\" x=\"3036\" y=\"-37.8\" font-family=\"Helvetica,sans-Serif\" font-size=\"14.00\">squared_error = 0.002</text>\n",
       "<text text-anchor=\"middle\" x=\"3036\" y=\"-22.8\" font-family=\"Helvetica,sans-Serif\" font-size=\"14.00\">samples = 100</text>\n",
       "<text text-anchor=\"middle\" x=\"3036\" y=\"-7.8\" font-family=\"Helvetica,sans-Serif\" font-size=\"14.00\">value = 0.029</text>\n",
       "</g>\n",
       "<!-- 36&#45;&gt;37 -->\n",
       "<g id=\"edge37\" class=\"edge\">\n",
       "<title>36&#45;&gt;37</title>\n",
       "<path fill=\"none\" stroke=\"black\" d=\"M3132.89,-88.95C3117.45,-79.16 3100.61,-68.48 3085.35,-58.8\"/>\n",
       "<polygon fill=\"black\" stroke=\"black\" points=\"3086.9,-55.64 3076.58,-53.24 3083.15,-61.55 3086.9,-55.64\"/>\n",
       "</g>\n",
       "<!-- 38 -->\n",
       "<g id=\"node39\" class=\"node\">\n",
       "<title>38</title>\n",
       "<polygon fill=\"#fcefe7\" stroke=\"black\" points=\"3315,-53 3141,-53 3141,0 3315,0 3315,-53\"/>\n",
       "<text text-anchor=\"middle\" x=\"3228\" y=\"-37.8\" font-family=\"Helvetica,sans-Serif\" font-size=\"14.00\">squared_error = 0.018</text>\n",
       "<text text-anchor=\"middle\" x=\"3228\" y=\"-22.8\" font-family=\"Helvetica,sans-Serif\" font-size=\"14.00\">samples = 14</text>\n",
       "<text text-anchor=\"middle\" x=\"3228\" y=\"-7.8\" font-family=\"Helvetica,sans-Serif\" font-size=\"14.00\">value = 0.054</text>\n",
       "</g>\n",
       "<!-- 36&#45;&gt;38 -->\n",
       "<g id=\"edge38\" class=\"edge\">\n",
       "<title>36&#45;&gt;38</title>\n",
       "<path fill=\"none\" stroke=\"black\" d=\"M3200.04,-88.95C3203.95,-80.35 3208.18,-71.06 3212.13,-62.37\"/>\n",
       "<polygon fill=\"black\" stroke=\"black\" points=\"3215.33,-63.79 3216.29,-53.24 3208.96,-60.89 3215.33,-63.79\"/>\n",
       "</g>\n",
       "<!-- 40 -->\n",
       "<g id=\"node41\" class=\"node\">\n",
       "<title>40</title>\n",
       "<polygon fill=\"#fffefd\" stroke=\"black\" points=\"3489,-53 3333,-53 3333,0 3489,0 3489,-53\"/>\n",
       "<text text-anchor=\"middle\" x=\"3411\" y=\"-37.8\" font-family=\"Helvetica,sans-Serif\" font-size=\"14.00\">squared_error = 0.0</text>\n",
       "<text text-anchor=\"middle\" x=\"3411\" y=\"-22.8\" font-family=\"Helvetica,sans-Serif\" font-size=\"14.00\">samples = 6</text>\n",
       "<text text-anchor=\"middle\" x=\"3411\" y=\"-7.8\" font-family=\"Helvetica,sans-Serif\" font-size=\"14.00\">value = 0.012</text>\n",
       "</g>\n",
       "<!-- 39&#45;&gt;40 -->\n",
       "<g id=\"edge40\" class=\"edge\">\n",
       "<title>39&#45;&gt;40</title>\n",
       "<path fill=\"none\" stroke=\"black\" d=\"M3438.96,-88.95C3435.05,-80.35 3430.82,-71.06 3426.87,-62.37\"/>\n",
       "<polygon fill=\"black\" stroke=\"black\" points=\"3430.04,-60.89 3422.71,-53.24 3423.67,-63.79 3430.04,-60.89\"/>\n",
       "</g>\n",
       "<!-- 41 -->\n",
       "<g id=\"node42\" class=\"node\">\n",
       "<title>41</title>\n",
       "<polygon fill=\"#ffffff\" stroke=\"black\" points=\"3663,-53 3507,-53 3507,0 3663,0 3663,-53\"/>\n",
       "<text text-anchor=\"middle\" x=\"3585\" y=\"-37.8\" font-family=\"Helvetica,sans-Serif\" font-size=\"14.00\">squared_error = 0.0</text>\n",
       "<text text-anchor=\"middle\" x=\"3585\" y=\"-22.8\" font-family=\"Helvetica,sans-Serif\" font-size=\"14.00\">samples = 4</text>\n",
       "<text text-anchor=\"middle\" x=\"3585\" y=\"-7.8\" font-family=\"Helvetica,sans-Serif\" font-size=\"14.00\">value = 0.008</text>\n",
       "</g>\n",
       "<!-- 39&#45;&gt;41 -->\n",
       "<g id=\"edge41\" class=\"edge\">\n",
       "<title>39&#45;&gt;41</title>\n",
       "<path fill=\"none\" stroke=\"black\" d=\"M3499.82,-88.95C3513.13,-79.34 3527.64,-68.87 3540.86,-59.34\"/>\n",
       "<polygon fill=\"black\" stroke=\"black\" points=\"3543.26,-61.93 3549.32,-53.24 3539.16,-56.25 3543.26,-61.93\"/>\n",
       "</g>\n",
       "<!-- 43 -->\n",
       "<g id=\"node44\" class=\"node\">\n",
       "<title>43</title>\n",
       "<polygon fill=\"#f9e3d3\" stroke=\"black\" points=\"3948.5,-157 3697.5,-157 3697.5,-89 3948.5,-89 3948.5,-157\"/>\n",
       "<text text-anchor=\"middle\" x=\"3823\" y=\"-141.8\" font-family=\"Helvetica,sans-Serif\" font-size=\"14.00\">ELOZO_NAPOK_POLCON &lt;= 65.5</text>\n",
       "<text text-anchor=\"middle\" x=\"3823\" y=\"-126.8\" font-family=\"Helvetica,sans-Serif\" font-size=\"14.00\">squared_error = 0.023</text>\n",
       "<text text-anchor=\"middle\" x=\"3823\" y=\"-111.8\" font-family=\"Helvetica,sans-Serif\" font-size=\"14.00\">samples = 15</text>\n",
       "<text text-anchor=\"middle\" x=\"3823\" y=\"-96.8\" font-family=\"Helvetica,sans-Serif\" font-size=\"14.00\">value = 0.09</text>\n",
       "</g>\n",
       "<!-- 42&#45;&gt;43 -->\n",
       "<g id=\"edge43\" class=\"edge\">\n",
       "<title>42&#45;&gt;43</title>\n",
       "<path fill=\"none\" stroke=\"black\" d=\"M3823,-192.88C3823,-184.78 3823,-175.98 3823,-167.47\"/>\n",
       "<polygon fill=\"black\" stroke=\"black\" points=\"3826.5,-167.3 3823,-157.3 3819.5,-167.3 3826.5,-167.3\"/>\n",
       "</g>\n",
       "<!-- 46 -->\n",
       "<g id=\"node47\" class=\"node\">\n",
       "<title>46</title>\n",
       "<polygon fill=\"#fdf3ec\" stroke=\"black\" points=\"4282,-157 4022,-157 4022,-89 4282,-89 4282,-157\"/>\n",
       "<text text-anchor=\"middle\" x=\"4152\" y=\"-141.8\" font-family=\"Helvetica,sans-Serif\" font-size=\"14.00\">ELOZO_NAPOK_POLCON &lt;= 119.0</text>\n",
       "<text text-anchor=\"middle\" x=\"4152\" y=\"-126.8\" font-family=\"Helvetica,sans-Serif\" font-size=\"14.00\">squared_error = 0.001</text>\n",
       "<text text-anchor=\"middle\" x=\"4152\" y=\"-111.8\" font-family=\"Helvetica,sans-Serif\" font-size=\"14.00\">samples = 12</text>\n",
       "<text text-anchor=\"middle\" x=\"4152\" y=\"-96.8\" font-family=\"Helvetica,sans-Serif\" font-size=\"14.00\">value = 0.043</text>\n",
       "</g>\n",
       "<!-- 42&#45;&gt;46 -->\n",
       "<g id=\"edge46\" class=\"edge\">\n",
       "<title>42&#45;&gt;46</title>\n",
       "<path fill=\"none\" stroke=\"black\" d=\"M3929.82,-192.88C3963.69,-182.38 4001.3,-170.72 4035.8,-160.03\"/>\n",
       "<polygon fill=\"black\" stroke=\"black\" points=\"4036.92,-163.34 4045.44,-157.04 4034.85,-156.66 4036.92,-163.34\"/>\n",
       "</g>\n",
       "<!-- 44 -->\n",
       "<g id=\"node45\" class=\"node\">\n",
       "<title>44</title>\n",
       "<polygon fill=\"#fbeee4\" stroke=\"black\" points=\"3855,-53 3681,-53 3681,0 3855,0 3855,-53\"/>\n",
       "<text text-anchor=\"middle\" x=\"3768\" y=\"-37.8\" font-family=\"Helvetica,sans-Serif\" font-size=\"14.00\">squared_error = 0.006</text>\n",
       "<text text-anchor=\"middle\" x=\"3768\" y=\"-22.8\" font-family=\"Helvetica,sans-Serif\" font-size=\"14.00\">samples = 10</text>\n",
       "<text text-anchor=\"middle\" x=\"3768\" y=\"-7.8\" font-family=\"Helvetica,sans-Serif\" font-size=\"14.00\">value = 0.058</text>\n",
       "</g>\n",
       "<!-- 43&#45;&gt;44 -->\n",
       "<g id=\"edge44\" class=\"edge\">\n",
       "<title>43&#45;&gt;44</title>\n",
       "<path fill=\"none\" stroke=\"black\" d=\"M3803.76,-88.95C3798.71,-80.26 3793.24,-70.86 3788.13,-62.09\"/>\n",
       "<polygon fill=\"black\" stroke=\"black\" points=\"3791.03,-60.12 3782.98,-53.24 3784.98,-63.64 3791.03,-60.12\"/>\n",
       "</g>\n",
       "<!-- 45 -->\n",
       "<g id=\"node46\" class=\"node\">\n",
       "<title>45</title>\n",
       "<polygon fill=\"#f5cdb0\" stroke=\"black\" points=\"4047,-53 3873,-53 3873,0 4047,0 4047,-53\"/>\n",
       "<text text-anchor=\"middle\" x=\"3960\" y=\"-37.8\" font-family=\"Helvetica,sans-Serif\" font-size=\"14.00\">squared_error = 0.051</text>\n",
       "<text text-anchor=\"middle\" x=\"3960\" y=\"-22.8\" font-family=\"Helvetica,sans-Serif\" font-size=\"14.00\">samples = 5</text>\n",
       "<text text-anchor=\"middle\" x=\"3960\" y=\"-7.8\" font-family=\"Helvetica,sans-Serif\" font-size=\"14.00\">value = 0.155</text>\n",
       "</g>\n",
       "<!-- 43&#45;&gt;45 -->\n",
       "<g id=\"edge45\" class=\"edge\">\n",
       "<title>43&#45;&gt;45</title>\n",
       "<path fill=\"none\" stroke=\"black\" d=\"M3870.92,-88.95C3884.97,-79.25 3900.31,-68.68 3914.23,-59.07\"/>\n",
       "<polygon fill=\"black\" stroke=\"black\" points=\"3916.44,-61.8 3922.69,-53.24 3912.47,-56.03 3916.44,-61.8\"/>\n",
       "</g>\n",
       "<!-- 47 -->\n",
       "<g id=\"node48\" class=\"node\">\n",
       "<title>47</title>\n",
       "<polygon fill=\"#fef8f4\" stroke=\"black\" points=\"4239,-53 4065,-53 4065,0 4239,0 4239,-53\"/>\n",
       "<text text-anchor=\"middle\" x=\"4152\" y=\"-37.8\" font-family=\"Helvetica,sans-Serif\" font-size=\"14.00\">squared_error = 0.001</text>\n",
       "<text text-anchor=\"middle\" x=\"4152\" y=\"-22.8\" font-family=\"Helvetica,sans-Serif\" font-size=\"14.00\">samples = 6</text>\n",
       "<text text-anchor=\"middle\" x=\"4152\" y=\"-7.8\" font-family=\"Helvetica,sans-Serif\" font-size=\"14.00\">value = 0.028</text>\n",
       "</g>\n",
       "<!-- 46&#45;&gt;47 -->\n",
       "<g id=\"edge47\" class=\"edge\">\n",
       "<title>46&#45;&gt;47</title>\n",
       "<path fill=\"none\" stroke=\"black\" d=\"M4152,-88.95C4152,-80.72 4152,-71.85 4152,-63.48\"/>\n",
       "<polygon fill=\"black\" stroke=\"black\" points=\"4155.5,-63.24 4152,-53.24 4148.5,-63.24 4155.5,-63.24\"/>\n",
       "</g>\n",
       "<!-- 48 -->\n",
       "<g id=\"node49\" class=\"node\">\n",
       "<title>48</title>\n",
       "<polygon fill=\"#fceee4\" stroke=\"black\" points=\"4431,-53 4257,-53 4257,0 4431,0 4431,-53\"/>\n",
       "<text text-anchor=\"middle\" x=\"4344\" y=\"-37.8\" font-family=\"Helvetica,sans-Serif\" font-size=\"14.00\">squared_error = 0.001</text>\n",
       "<text text-anchor=\"middle\" x=\"4344\" y=\"-22.8\" font-family=\"Helvetica,sans-Serif\" font-size=\"14.00\">samples = 6</text>\n",
       "<text text-anchor=\"middle\" x=\"4344\" y=\"-7.8\" font-family=\"Helvetica,sans-Serif\" font-size=\"14.00\">value = 0.057</text>\n",
       "</g>\n",
       "<!-- 46&#45;&gt;48 -->\n",
       "<g id=\"edge48\" class=\"edge\">\n",
       "<title>46&#45;&gt;48</title>\n",
       "<path fill=\"none\" stroke=\"black\" d=\"M4219.15,-88.95C4239.88,-78.75 4262.58,-67.57 4282.87,-57.59\"/>\n",
       "<polygon fill=\"black\" stroke=\"black\" points=\"4284.59,-60.64 4292.01,-53.09 4281.5,-54.36 4284.59,-60.64\"/>\n",
       "</g>\n",
       "</g>\n",
       "</svg>\n"
      ],
      "text/plain": [
       "<graphviz.sources.Source at 0x7f60935a9cd0>"
      ]
     },
     "execution_count": 21,
     "metadata": {},
     "output_type": "execute_result"
    }
   ],
   "source": [
    "dot_data = tree.export_graphviz(\n",
    "        dec_tree, out_file=None, feature_names=dec_tree.feature_names_in_, filled=True\n",
    "    )\n",
    "graphviz.Source(dot_data, format=\"png\")"
   ]
  },
  {
   "cell_type": "code",
   "execution_count": null,
   "id": "869a77d8",
   "metadata": {},
   "outputs": [],
   "source": []
  },
  {
   "cell_type": "code",
   "execution_count": null,
   "id": "b0831e3e",
   "metadata": {},
   "outputs": [],
   "source": []
  },
  {
   "cell_type": "markdown",
   "id": "9e312b5d",
   "metadata": {},
   "source": [
    "# lefuttatom a tesztadaton"
   ]
  },
  {
   "cell_type": "code",
   "execution_count": 22,
   "id": "b8567b38",
   "metadata": {
    "execution": {
     "iopub.execute_input": "2022-04-12T15:09:20.715397Z",
     "iopub.status.busy": "2022-04-12T15:09:20.714935Z",
     "iopub.status.idle": "2022-04-12T15:09:20.722479Z",
     "shell.execute_reply": "2022-04-12T15:09:20.721655Z",
     "shell.execute_reply.started": "2022-04-12T15:09:20.715346Z"
    },
    "tags": []
   },
   "outputs": [],
   "source": [
    "testData = testData.reset_index()"
   ]
  },
  {
   "cell_type": "code",
   "execution_count": 23,
   "id": "657d95bb",
   "metadata": {
    "execution": {
     "iopub.execute_input": "2022-04-12T15:09:20.867105Z",
     "iopub.status.busy": "2022-04-12T15:09:20.866477Z",
     "iopub.status.idle": "2022-04-12T15:09:20.876130Z",
     "shell.execute_reply": "2022-04-12T15:09:20.875430Z",
     "shell.execute_reply.started": "2022-04-12T15:09:20.867059Z"
    },
    "tags": []
   },
   "outputs": [],
   "source": [
    "test_preds = dec_tree.predict(testData.loc[:, x_colnames])"
   ]
  },
  {
   "cell_type": "code",
   "execution_count": 24,
   "id": "2398da7c-a5b3-4c0d-bc58-1898382d8d11",
   "metadata": {
    "execution": {
     "iopub.execute_input": "2022-04-12T15:09:21.035579Z",
     "iopub.status.busy": "2022-04-12T15:09:21.035267Z",
     "iopub.status.idle": "2022-04-12T15:09:21.041316Z",
     "shell.execute_reply": "2022-04-12T15:09:21.040411Z",
     "shell.execute_reply.started": "2022-04-12T15:09:21.035538Z"
    },
    "tags": []
   },
   "outputs": [],
   "source": [
    "test_preds = pd.DataFrame(index=testData['index'], data={'pred': test_preds})"
   ]
  },
  {
   "cell_type": "code",
   "execution_count": 26,
   "id": "4cbf19f5-5a61-4e37-a42c-f997421a6521",
   "metadata": {
    "execution": {
     "iopub.execute_input": "2022-04-12T15:09:30.072737Z",
     "iopub.status.busy": "2022-04-12T15:09:30.072425Z",
     "iopub.status.idle": "2022-04-12T15:09:30.076938Z",
     "shell.execute_reply": "2022-04-12T15:09:30.076503Z",
     "shell.execute_reply.started": "2022-04-12T15:09:30.072696Z"
    },
    "tags": []
   },
   "outputs": [],
   "source": [
    "test_full = test_preds.join(target_test)"
   ]
  },
  {
   "cell_type": "code",
   "execution_count": 27,
   "id": "9c8ea026-f462-47b0-992d-192dd4c05190",
   "metadata": {
    "execution": {
     "iopub.execute_input": "2022-04-12T15:11:57.876370Z",
     "iopub.status.busy": "2022-04-12T15:11:57.875911Z",
     "iopub.status.idle": "2022-04-12T15:11:57.885164Z",
     "shell.execute_reply": "2022-04-12T15:11:57.884276Z",
     "shell.execute_reply.started": "2022-04-12T15:11:57.876324Z"
    },
    "tags": []
   },
   "outputs": [
    {
     "data": {
      "text/plain": [
       "0.24213217046347218"
      ]
     },
     "execution_count": 27,
     "metadata": {},
     "output_type": "execute_result"
    }
   ],
   "source": [
    "# ez stimmelt\n",
    "mean_squared_error(test_full['y_true'], test_full['pred'], squared=False)"
   ]
  },
  {
   "cell_type": "code",
   "execution_count": null,
   "id": "0bafdadf-3cd4-486c-ab70-91fbc802c36f",
   "metadata": {},
   "outputs": [],
   "source": []
  },
  {
   "cell_type": "code",
   "execution_count": 26,
   "id": "538f0412",
   "metadata": {},
   "outputs": [],
   "source": [
    "my_preds= pd.DataFrame()\n",
    "my_preds[\"LAPISSUGL-ARUSKOD\"]=testData[\"index\"]\n",
    "my_preds[\"NAPI_ELADOTT_DB\"]=test_preds\n",
    "my_preds.to_csv('mypreds_NLili.csv', index=False) "
   ]
  },
  {
   "cell_type": "code",
   "execution_count": null,
   "id": "de61601b",
   "metadata": {},
   "outputs": [],
   "source": []
  }
 ],
 "metadata": {
  "kernelspec": {
   "display_name": "🌍 Base Python 3.7 Environment",
   "language": "python",
   "name": "python3"
  },
  "language_info": {
   "codemirror_mode": {
    "name": "ipython",
    "version": 3
   },
   "file_extension": ".py",
   "mimetype": "text/x-python",
   "name": "python",
   "nbconvert_exporter": "python",
   "pygments_lexer": "ipython3",
   "version": "3.7.10"
  },
  "widgets": {
   "application/vnd.jupyter.widget-state+json": {
    "state": {},
    "version_major": 2,
    "version_minor": 0
   }
  }
 },
 "nbformat": 4,
 "nbformat_minor": 5
}
