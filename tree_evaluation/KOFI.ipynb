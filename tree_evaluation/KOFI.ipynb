{
 "cells": [
  {
   "cell_type": "markdown",
   "metadata": {},
   "source": [
    "# Döntési fa napi eladott darabszámra vetítve"
   ]
  },
  {
   "cell_type": "markdown",
   "metadata": {},
   "source": [
    "### Feladat összefoglalása\n",
    "\n",
    "Készítsetek egy döntési fa modellt a tanítóadaton, és adjatok le a predikcióitokat a test setre. A predikciók legyenek 2 oszloposak, 'index' illetve 'pred' névvel ellátva, értelemszerű tartalommal. Az indexben a test adatok indexe szerepeljen.\n",
    "\n",
    "FELKERÜLTEK LEÍRÁSOK AZ ADATOKHOZ. TOP SECRET, NE KERÜLJÖN KI A KURZUSRÓL!\n",
    "\n",
    "Használhatjátok a megismert feature engineering módszereket, vagy bármi mást.\n",
    "\n",
    "\n",
    "A célváltozó: NAPI_ELADOTT_DB\n",
    "Az indexnek pedig kérlek állítsatok elő egy oszlopot: LAPISSUGL-ARUSKOD formában."
   ]
  },
  {
   "cell_type": "markdown",
   "metadata": {},
   "source": [
    "## 1. Alapozó lépések"
   ]
  },
  {
   "cell_type": "markdown",
   "metadata": {},
   "source": [
    "### 1.1. Könyvtárak behívása"
   ]
  },
  {
   "cell_type": "code",
   "execution_count": 1,
   "metadata": {
    "execution": {
     "iopub.execute_input": "2022-04-12T14:59:08.153954Z",
     "iopub.status.busy": "2022-04-12T14:59:08.153432Z",
     "iopub.status.idle": "2022-04-12T14:59:09.724232Z",
     "shell.execute_reply": "2022-04-12T14:59:09.723443Z",
     "shell.execute_reply.started": "2022-04-12T14:59:08.153844Z"
    }
   },
   "outputs": [],
   "source": [
    "import altair as alt\n",
    "import graphviz\n",
    "import matplotlib.pyplot as plt\n",
    "import numpy as np\n",
    "import pandas as pd\n",
    "import seaborn as sns\n",
    "from sklearn.feature_extraction import FeatureHasher\n",
    "from sklearn import tree\n",
    "from sklearn.metrics import mean_squared_error\n",
    "from sklearn.model_selection import train_test_split\n",
    "from sklearn.tree import DecisionTreeRegressor\n",
    "from sklearn.linear_model import LinearRegression\n",
    "from pandas_profiling import ProfileReport\n",
    "from sklearn.model_selection import cross_val_score\n",
    "from pathlib import Path  "
   ]
  },
  {
   "cell_type": "markdown",
   "metadata": {},
   "source": [
    "### 1.2. Adatbázis behívása, ismerkedés az adat karakterisztikáival"
   ]
  },
  {
   "cell_type": "markdown",
   "metadata": {},
   "source": [
    "Adatok behívása"
   ]
  },
  {
   "cell_type": "code",
   "execution_count": 2,
   "metadata": {
    "execution": {
     "iopub.execute_input": "2022-04-12T14:59:09.725295Z",
     "iopub.status.busy": "2022-04-12T14:59:09.725156Z",
     "iopub.status.idle": "2022-04-12T14:59:09.755924Z",
     "shell.execute_reply": "2022-04-12T14:59:09.755212Z",
     "shell.execute_reply.started": "2022-04-12T14:59:09.725276Z"
    },
    "tags": []
   },
   "outputs": [],
   "source": [
    "df = pd.read_csv(\"data_train.csv\")\n",
    "df_Y = pd.read_csv(\"target_train.csv\")\n",
    "df = df.join(df_Y)"
   ]
  },
  {
   "cell_type": "code",
   "execution_count": null,
   "metadata": {},
   "outputs": [],
   "source": []
  },
  {
   "cell_type": "markdown",
   "metadata": {},
   "source": [
    "*LAPISSUGL-ARUSKOD* létrehozása"
   ]
  },
  {
   "cell_type": "code",
   "execution_count": 3,
   "metadata": {
    "execution": {
     "iopub.execute_input": "2022-04-12T14:59:09.757344Z",
     "iopub.status.busy": "2022-04-12T14:59:09.757210Z",
     "iopub.status.idle": "2022-04-12T14:59:09.780959Z",
     "shell.execute_reply": "2022-04-12T14:59:09.780430Z",
     "shell.execute_reply.started": "2022-04-12T14:59:09.757327Z"
    },
    "tags": []
   },
   "outputs": [
    {
     "data": {
      "text/html": [
       "<div>\n",
       "<style scoped>\n",
       "    .dataframe tbody tr th:only-of-type {\n",
       "        vertical-align: middle;\n",
       "    }\n",
       "\n",
       "    .dataframe tbody tr th {\n",
       "        vertical-align: top;\n",
       "    }\n",
       "\n",
       "    .dataframe thead th {\n",
       "        text-align: right;\n",
       "    }\n",
       "</style>\n",
       "<table border=\"1\" class=\"dataframe\">\n",
       "  <thead>\n",
       "    <tr style=\"text-align: right;\">\n",
       "      <th></th>\n",
       "      <th>LAPISSUGL</th>\n",
       "      <th>KFDELDATE</th>\n",
       "      <th>ARUSKOD</th>\n",
       "      <th>NAPOK_POLCON</th>\n",
       "      <th>ELOZO_NAPOK_POLCON</th>\n",
       "      <th>ELOZO_NAPI_ELADOTT_DB</th>\n",
       "      <th>ARUSMEGYE</th>\n",
       "      <th>ARUSTI1</th>\n",
       "      <th>ARUSTI2</th>\n",
       "      <th>ARUSTI3</th>\n",
       "      <th>...</th>\n",
       "      <th>LAPMELL4</th>\n",
       "      <th>LAPMELL5</th>\n",
       "      <th>LAPMELL6</th>\n",
       "      <th>LAPMELL7</th>\n",
       "      <th>LAPMELL8</th>\n",
       "      <th>LAPMELL9</th>\n",
       "      <th>LAPMELL10</th>\n",
       "      <th>LAPFORMAT</th>\n",
       "      <th>NAPI_ELADOTT_DB</th>\n",
       "      <th>LAPISSUGL-ARUSKOD</th>\n",
       "    </tr>\n",
       "  </thead>\n",
       "  <tbody>\n",
       "    <tr>\n",
       "      <th>0</th>\n",
       "      <td>10708900020160010</td>\n",
       "      <td>20160923</td>\n",
       "      <td>415120</td>\n",
       "      <td>34</td>\n",
       "      <td>34</td>\n",
       "      <td>0.088235</td>\n",
       "      <td>26</td>\n",
       "      <td>322800</td>\n",
       "      <td>3228</td>\n",
       "      <td>32</td>\n",
       "      <td>...</td>\n",
       "      <td>NaN</td>\n",
       "      <td>NaN</td>\n",
       "      <td>NaN</td>\n",
       "      <td>NaN</td>\n",
       "      <td>NaN</td>\n",
       "      <td>NaN</td>\n",
       "      <td>NaN</td>\n",
       "      <td>A4</td>\n",
       "      <td>0.088235</td>\n",
       "      <td>10708900020160010-415120</td>\n",
       "    </tr>\n",
       "    <tr>\n",
       "      <th>1</th>\n",
       "      <td>10414850020180337</td>\n",
       "      <td>20180406</td>\n",
       "      <td>823031</td>\n",
       "      <td>29</td>\n",
       "      <td>29</td>\n",
       "      <td>0.034483</td>\n",
       "      <td>36</td>\n",
       "      <td>110201</td>\n",
       "      <td>1102</td>\n",
       "      <td>11</td>\n",
       "      <td>...</td>\n",
       "      <td>NaN</td>\n",
       "      <td>NaN</td>\n",
       "      <td>NaN</td>\n",
       "      <td>NaN</td>\n",
       "      <td>NaN</td>\n",
       "      <td>NaN</td>\n",
       "      <td>NaN</td>\n",
       "      <td>A4</td>\n",
       "      <td>0.034483</td>\n",
       "      <td>10414850020180337-823031</td>\n",
       "    </tr>\n",
       "    <tr>\n",
       "      <th>2</th>\n",
       "      <td>10708900020200009</td>\n",
       "      <td>20200826</td>\n",
       "      <td>937637</td>\n",
       "      <td>29</td>\n",
       "      <td>34</td>\n",
       "      <td>0.058824</td>\n",
       "      <td>17</td>\n",
       "      <td>220115</td>\n",
       "      <td>2201</td>\n",
       "      <td>22</td>\n",
       "      <td>...</td>\n",
       "      <td>NaN</td>\n",
       "      <td>NaN</td>\n",
       "      <td>NaN</td>\n",
       "      <td>NaN</td>\n",
       "      <td>NaN</td>\n",
       "      <td>NaN</td>\n",
       "      <td>NaN</td>\n",
       "      <td>A4</td>\n",
       "      <td>0.103448</td>\n",
       "      <td>10708900020200009-937637</td>\n",
       "    </tr>\n",
       "    <tr>\n",
       "      <th>3</th>\n",
       "      <td>10534000020190003</td>\n",
       "      <td>20190302</td>\n",
       "      <td>823031</td>\n",
       "      <td>28</td>\n",
       "      <td>34</td>\n",
       "      <td>0.000000</td>\n",
       "      <td>36</td>\n",
       "      <td>110201</td>\n",
       "      <td>1102</td>\n",
       "      <td>11</td>\n",
       "      <td>...</td>\n",
       "      <td>NaN</td>\n",
       "      <td>NaN</td>\n",
       "      <td>NaN</td>\n",
       "      <td>NaN</td>\n",
       "      <td>NaN</td>\n",
       "      <td>NaN</td>\n",
       "      <td>NaN</td>\n",
       "      <td>A4</td>\n",
       "      <td>0.000000</td>\n",
       "      <td>10534000020190003-823031</td>\n",
       "    </tr>\n",
       "    <tr>\n",
       "      <th>4</th>\n",
       "      <td>10554880020170006</td>\n",
       "      <td>20170209</td>\n",
       "      <td>108679</td>\n",
       "      <td>8</td>\n",
       "      <td>8</td>\n",
       "      <td>0.500000</td>\n",
       "      <td>6</td>\n",
       "      <td>120400</td>\n",
       "      <td>1204</td>\n",
       "      <td>12</td>\n",
       "      <td>...</td>\n",
       "      <td>NaN</td>\n",
       "      <td>NaN</td>\n",
       "      <td>NaN</td>\n",
       "      <td>NaN</td>\n",
       "      <td>NaN</td>\n",
       "      <td>NaN</td>\n",
       "      <td>NaN</td>\n",
       "      <td>A4</td>\n",
       "      <td>0.000000</td>\n",
       "      <td>10554880020170006-108679</td>\n",
       "    </tr>\n",
       "  </tbody>\n",
       "</table>\n",
       "<p>5 rows × 66 columns</p>\n",
       "</div>"
      ],
      "text/plain": [
       "           LAPISSUGL  KFDELDATE  ARUSKOD  NAPOK_POLCON  ELOZO_NAPOK_POLCON  \\\n",
       "0  10708900020160010   20160923   415120            34                  34   \n",
       "1  10414850020180337   20180406   823031            29                  29   \n",
       "2  10708900020200009   20200826   937637            29                  34   \n",
       "3  10534000020190003   20190302   823031            28                  34   \n",
       "4  10554880020170006   20170209   108679             8                   8   \n",
       "\n",
       "   ELOZO_NAPI_ELADOTT_DB  ARUSMEGYE  ARUSTI1  ARUSTI2  ARUSTI3  ...  LAPMELL4  \\\n",
       "0               0.088235         26   322800     3228       32  ...       NaN   \n",
       "1               0.034483         36   110201     1102       11  ...       NaN   \n",
       "2               0.058824         17   220115     2201       22  ...       NaN   \n",
       "3               0.000000         36   110201     1102       11  ...       NaN   \n",
       "4               0.500000          6   120400     1204       12  ...       NaN   \n",
       "\n",
       "   LAPMELL5  LAPMELL6 LAPMELL7 LAPMELL8  LAPMELL9  LAPMELL10  LAPFORMAT  \\\n",
       "0       NaN       NaN      NaN      NaN       NaN        NaN         A4   \n",
       "1       NaN       NaN      NaN      NaN       NaN        NaN         A4   \n",
       "2       NaN       NaN      NaN      NaN       NaN        NaN         A4   \n",
       "3       NaN       NaN      NaN      NaN       NaN        NaN         A4   \n",
       "4       NaN       NaN      NaN      NaN       NaN        NaN         A4   \n",
       "\n",
       "   NAPI_ELADOTT_DB         LAPISSUGL-ARUSKOD  \n",
       "0         0.088235  10708900020160010-415120  \n",
       "1         0.034483  10414850020180337-823031  \n",
       "2         0.103448  10708900020200009-937637  \n",
       "3         0.000000  10534000020190003-823031  \n",
       "4         0.000000  10554880020170006-108679  \n",
       "\n",
       "[5 rows x 66 columns]"
      ]
     },
     "execution_count": 3,
     "metadata": {},
     "output_type": "execute_result"
    }
   ],
   "source": [
    "df['LAPISSUGL-ARUSKOD'] = df['LAPISSUGL'].astype(str) + '-' + df['ARUSKOD'].astype(str)\n",
    "#df = df.rename(columns = {'index':'LAPISSUGL-ARUSKOD'})\n",
    "df.head()\n"
   ]
  },
  {
   "cell_type": "markdown",
   "metadata": {},
   "source": [
    "Pandas profilinggal lecsekkoltam az adatok eloszlását és alapvető karakterisztikáit adattisztítás és későbbi feature engeneering miatt. (A profile kód kikommentelve a gyorsabb futás kedvéért.)"
   ]
  },
  {
   "cell_type": "code",
   "execution_count": 4,
   "metadata": {
    "execution": {
     "iopub.execute_input": "2022-04-12T14:59:09.781688Z",
     "iopub.status.busy": "2022-04-12T14:59:09.781566Z",
     "iopub.status.idle": "2022-04-12T14:59:09.786699Z",
     "shell.execute_reply": "2022-04-12T14:59:09.786175Z",
     "shell.execute_reply.started": "2022-04-12T14:59:09.781671Z"
    }
   },
   "outputs": [],
   "source": [
    "prof = ProfileReport(df)\n",
    "#prof.to_file(output_file='C:/Rajk - újgép/Machine Learning - újgép/decision_tree/output.html') "
   ]
  },
  {
   "cell_type": "markdown",
   "metadata": {},
   "source": [
    "### 1.3. Feature engineering"
   ]
  },
  {
   "cell_type": "markdown",
   "metadata": {},
   "source": [
    "A pandas profile (pp) alapján első körben kidobtam a 0 varianciával rendelkező változókat"
   ]
  },
  {
   "cell_type": "code",
   "execution_count": 5,
   "metadata": {
    "execution": {
     "iopub.execute_input": "2022-04-12T14:59:09.787579Z",
     "iopub.status.busy": "2022-04-12T14:59:09.787453Z",
     "iopub.status.idle": "2022-04-12T14:59:09.823210Z",
     "shell.execute_reply": "2022-04-12T14:59:09.822503Z",
     "shell.execute_reply.started": "2022-04-12T14:59:09.787562Z"
    }
   },
   "outputs": [],
   "source": [
    "for col in df.columns:\n",
    "    if len(df[col].unique()) == 1:\n",
    "        df.drop(col,inplace=True,axis=1)\n",
    "prof = ProfileReport(df)\n",
    "#prof.to_file(output_file='C:/Rajk - újgép/Machine Learning - újgép/decision_tree/output_2.html')"
   ]
  },
  {
   "cell_type": "markdown",
   "metadata": {},
   "source": [
    "Ezután kidobom a nagyon magas korrelációval rendelkező változókat (meghagyva mindehol egyet). Ezt is a pp alapján tettem, a correlációs mátrixot a kódban is megjelenítve."
   ]
  },
  {
   "cell_type": "code",
   "execution_count": 6,
   "metadata": {
    "execution": {
     "iopub.execute_input": "2022-04-12T14:59:09.823937Z",
     "iopub.status.busy": "2022-04-12T14:59:09.823819Z",
     "iopub.status.idle": "2022-04-12T14:59:10.131685Z",
     "shell.execute_reply": "2022-04-12T14:59:10.131073Z",
     "shell.execute_reply.started": "2022-04-12T14:59:09.823921Z"
    }
   },
   "outputs": [
    {
     "data": {
      "text/html": [
       "<div>\n",
       "<style scoped>\n",
       "    .dataframe tbody tr th:only-of-type {\n",
       "        vertical-align: middle;\n",
       "    }\n",
       "\n",
       "    .dataframe tbody tr th {\n",
       "        vertical-align: top;\n",
       "    }\n",
       "\n",
       "    .dataframe thead th {\n",
       "        text-align: right;\n",
       "    }\n",
       "</style>\n",
       "<table border=\"1\" class=\"dataframe\">\n",
       "  <thead>\n",
       "    <tr style=\"text-align: right;\">\n",
       "      <th></th>\n",
       "      <th>LAPISSUGL</th>\n",
       "      <th>KFDELDATE</th>\n",
       "      <th>ARUSKOD</th>\n",
       "      <th>NAPOK_POLCON</th>\n",
       "      <th>ELOZO_NAPOK_POLCON</th>\n",
       "      <th>ELOZO_NAPI_ELADOTT_DB</th>\n",
       "      <th>ARUSMEGYE</th>\n",
       "      <th>ARUSTI1</th>\n",
       "      <th>ARUSTI2</th>\n",
       "      <th>ARUSTI3</th>\n",
       "      <th>...</th>\n",
       "      <th>sportletesitmeny</th>\n",
       "      <th>LAPMEDTER</th>\n",
       "      <th>LAPTERMCS</th>\n",
       "      <th>LAPMEGJSZ</th>\n",
       "      <th>LAPKIADO</th>\n",
       "      <th>LAPARBRUT</th>\n",
       "      <th>LAPARNET</th>\n",
       "      <th>LAPCS1</th>\n",
       "      <th>LAPCS2</th>\n",
       "      <th>NAPI_ELADOTT_DB</th>\n",
       "    </tr>\n",
       "  </thead>\n",
       "  <tbody>\n",
       "    <tr>\n",
       "      <th>LAPISSUGL</th>\n",
       "      <td>1.000000</td>\n",
       "      <td>0.276925</td>\n",
       "      <td>0.027041</td>\n",
       "      <td>-0.369622</td>\n",
       "      <td>-0.376898</td>\n",
       "      <td>0.261639</td>\n",
       "      <td>-0.046289</td>\n",
       "      <td>0.070634</td>\n",
       "      <td>0.069901</td>\n",
       "      <td>0.074951</td>\n",
       "      <td>...</td>\n",
       "      <td>0.048199</td>\n",
       "      <td>0.989790</td>\n",
       "      <td>0.989790</td>\n",
       "      <td>0.276882</td>\n",
       "      <td>-0.187820</td>\n",
       "      <td>-0.106222</td>\n",
       "      <td>-0.106222</td>\n",
       "      <td>-0.480762</td>\n",
       "      <td>-0.447451</td>\n",
       "      <td>0.253113</td>\n",
       "    </tr>\n",
       "    <tr>\n",
       "      <th>KFDELDATE</th>\n",
       "      <td>0.276925</td>\n",
       "      <td>1.000000</td>\n",
       "      <td>0.007880</td>\n",
       "      <td>0.020230</td>\n",
       "      <td>0.000037</td>\n",
       "      <td>-0.013305</td>\n",
       "      <td>-0.047959</td>\n",
       "      <td>0.005120</td>\n",
       "      <td>-0.001412</td>\n",
       "      <td>-0.001223</td>\n",
       "      <td>...</td>\n",
       "      <td>-0.022044</td>\n",
       "      <td>0.153012</td>\n",
       "      <td>0.153012</td>\n",
       "      <td>0.989308</td>\n",
       "      <td>0.130028</td>\n",
       "      <td>0.283815</td>\n",
       "      <td>0.283815</td>\n",
       "      <td>-0.034741</td>\n",
       "      <td>-0.035772</td>\n",
       "      <td>-0.119011</td>\n",
       "    </tr>\n",
       "    <tr>\n",
       "      <th>ARUSKOD</th>\n",
       "      <td>0.027041</td>\n",
       "      <td>0.007880</td>\n",
       "      <td>1.000000</td>\n",
       "      <td>0.072670</td>\n",
       "      <td>0.077059</td>\n",
       "      <td>-0.130769</td>\n",
       "      <td>0.396054</td>\n",
       "      <td>-0.457172</td>\n",
       "      <td>-0.451558</td>\n",
       "      <td>-0.448456</td>\n",
       "      <td>...</td>\n",
       "      <td>0.072035</td>\n",
       "      <td>0.027124</td>\n",
       "      <td>0.027124</td>\n",
       "      <td>0.004325</td>\n",
       "      <td>-0.044044</td>\n",
       "      <td>0.036656</td>\n",
       "      <td>0.036656</td>\n",
       "      <td>-0.088241</td>\n",
       "      <td>-0.085265</td>\n",
       "      <td>-0.123692</td>\n",
       "    </tr>\n",
       "    <tr>\n",
       "      <th>NAPOK_POLCON</th>\n",
       "      <td>-0.369622</td>\n",
       "      <td>0.020230</td>\n",
       "      <td>0.072670</td>\n",
       "      <td>1.000000</td>\n",
       "      <td>0.860477</td>\n",
       "      <td>-0.345686</td>\n",
       "      <td>-0.034166</td>\n",
       "      <td>-0.014571</td>\n",
       "      <td>0.007283</td>\n",
       "      <td>0.010869</td>\n",
       "      <td>...</td>\n",
       "      <td>0.047126</td>\n",
       "      <td>-0.374014</td>\n",
       "      <td>-0.374014</td>\n",
       "      <td>-0.009459</td>\n",
       "      <td>-0.319681</td>\n",
       "      <td>0.481827</td>\n",
       "      <td>0.481827</td>\n",
       "      <td>-0.326373</td>\n",
       "      <td>-0.356054</td>\n",
       "      <td>-0.348154</td>\n",
       "    </tr>\n",
       "    <tr>\n",
       "      <th>ELOZO_NAPOK_POLCON</th>\n",
       "      <td>-0.376898</td>\n",
       "      <td>0.000037</td>\n",
       "      <td>0.077059</td>\n",
       "      <td>0.860477</td>\n",
       "      <td>1.000000</td>\n",
       "      <td>-0.356633</td>\n",
       "      <td>-0.032431</td>\n",
       "      <td>-0.018064</td>\n",
       "      <td>0.004209</td>\n",
       "      <td>0.007891</td>\n",
       "      <td>...</td>\n",
       "      <td>0.048541</td>\n",
       "      <td>-0.379674</td>\n",
       "      <td>-0.379674</td>\n",
       "      <td>-0.023819</td>\n",
       "      <td>-0.315470</td>\n",
       "      <td>0.476490</td>\n",
       "      <td>0.476490</td>\n",
       "      <td>-0.321680</td>\n",
       "      <td>-0.350968</td>\n",
       "      <td>-0.332289</td>\n",
       "    </tr>\n",
       "    <tr>\n",
       "      <th>ELOZO_NAPI_ELADOTT_DB</th>\n",
       "      <td>0.261639</td>\n",
       "      <td>-0.013305</td>\n",
       "      <td>-0.130769</td>\n",
       "      <td>-0.345686</td>\n",
       "      <td>-0.356633</td>\n",
       "      <td>1.000000</td>\n",
       "      <td>0.038830</td>\n",
       "      <td>0.095844</td>\n",
       "      <td>0.051146</td>\n",
       "      <td>0.047288</td>\n",
       "      <td>...</td>\n",
       "      <td>0.215094</td>\n",
       "      <td>0.267805</td>\n",
       "      <td>0.267805</td>\n",
       "      <td>-0.004496</td>\n",
       "      <td>0.065300</td>\n",
       "      <td>-0.211881</td>\n",
       "      <td>-0.211881</td>\n",
       "      <td>-0.010130</td>\n",
       "      <td>0.012665</td>\n",
       "      <td>0.640523</td>\n",
       "    </tr>\n",
       "    <tr>\n",
       "      <th>ARUSMEGYE</th>\n",
       "      <td>-0.046289</td>\n",
       "      <td>-0.047959</td>\n",
       "      <td>0.396054</td>\n",
       "      <td>-0.034166</td>\n",
       "      <td>-0.032431</td>\n",
       "      <td>0.038830</td>\n",
       "      <td>1.000000</td>\n",
       "      <td>0.086765</td>\n",
       "      <td>0.071418</td>\n",
       "      <td>0.034137</td>\n",
       "      <td>...</td>\n",
       "      <td>-0.021559</td>\n",
       "      <td>-0.041828</td>\n",
       "      <td>-0.041828</td>\n",
       "      <td>-0.040439</td>\n",
       "      <td>0.071630</td>\n",
       "      <td>0.033577</td>\n",
       "      <td>0.033577</td>\n",
       "      <td>0.093367</td>\n",
       "      <td>0.092099</td>\n",
       "      <td>0.038345</td>\n",
       "    </tr>\n",
       "    <tr>\n",
       "      <th>ARUSTI1</th>\n",
       "      <td>0.070634</td>\n",
       "      <td>0.005120</td>\n",
       "      <td>-0.457172</td>\n",
       "      <td>-0.014571</td>\n",
       "      <td>-0.018064</td>\n",
       "      <td>0.095844</td>\n",
       "      <td>0.086765</td>\n",
       "      <td>1.000000</td>\n",
       "      <td>0.964131</td>\n",
       "      <td>0.962064</td>\n",
       "      <td>...</td>\n",
       "      <td>0.200479</td>\n",
       "      <td>0.072318</td>\n",
       "      <td>0.072318</td>\n",
       "      <td>0.004371</td>\n",
       "      <td>0.002616</td>\n",
       "      <td>0.021445</td>\n",
       "      <td>0.021445</td>\n",
       "      <td>-0.030105</td>\n",
       "      <td>-0.027512</td>\n",
       "      <td>0.100023</td>\n",
       "    </tr>\n",
       "    <tr>\n",
       "      <th>ARUSTI2</th>\n",
       "      <td>0.069901</td>\n",
       "      <td>-0.001412</td>\n",
       "      <td>-0.451558</td>\n",
       "      <td>0.007283</td>\n",
       "      <td>0.004209</td>\n",
       "      <td>0.051146</td>\n",
       "      <td>0.071418</td>\n",
       "      <td>0.964131</td>\n",
       "      <td>1.000000</td>\n",
       "      <td>0.997856</td>\n",
       "      <td>...</td>\n",
       "      <td>0.207938</td>\n",
       "      <td>0.072328</td>\n",
       "      <td>0.072328</td>\n",
       "      <td>-0.003669</td>\n",
       "      <td>-0.012706</td>\n",
       "      <td>0.025166</td>\n",
       "      <td>0.025166</td>\n",
       "      <td>-0.050912</td>\n",
       "      <td>-0.048229</td>\n",
       "      <td>0.054423</td>\n",
       "    </tr>\n",
       "    <tr>\n",
       "      <th>ARUSTI3</th>\n",
       "      <td>0.074951</td>\n",
       "      <td>-0.001223</td>\n",
       "      <td>-0.448456</td>\n",
       "      <td>0.010869</td>\n",
       "      <td>0.007891</td>\n",
       "      <td>0.047288</td>\n",
       "      <td>0.034137</td>\n",
       "      <td>0.962064</td>\n",
       "      <td>0.997856</td>\n",
       "      <td>1.000000</td>\n",
       "      <td>...</td>\n",
       "      <td>0.208385</td>\n",
       "      <td>0.077445</td>\n",
       "      <td>0.077445</td>\n",
       "      <td>-0.004540</td>\n",
       "      <td>-0.021491</td>\n",
       "      <td>0.019911</td>\n",
       "      <td>0.019911</td>\n",
       "      <td>-0.062063</td>\n",
       "      <td>-0.059230</td>\n",
       "      <td>0.050935</td>\n",
       "    </tr>\n",
       "    <tr>\n",
       "      <th>ARUSTI4</th>\n",
       "      <td>0.098656</td>\n",
       "      <td>0.010392</td>\n",
       "      <td>-0.284387</td>\n",
       "      <td>0.028918</td>\n",
       "      <td>0.026267</td>\n",
       "      <td>0.071373</td>\n",
       "      <td>0.133555</td>\n",
       "      <td>0.910457</td>\n",
       "      <td>0.944329</td>\n",
       "      <td>0.946359</td>\n",
       "      <td>...</td>\n",
       "      <td>0.220196</td>\n",
       "      <td>0.100408</td>\n",
       "      <td>0.100408</td>\n",
       "      <td>0.005716</td>\n",
       "      <td>-0.030362</td>\n",
       "      <td>0.038916</td>\n",
       "      <td>0.038916</td>\n",
       "      <td>-0.086942</td>\n",
       "      <td>-0.083660</td>\n",
       "      <td>0.079803</td>\n",
       "    </tr>\n",
       "    <tr>\n",
       "      <th>Z_LAPFELE</th>\n",
       "      <td>-0.108902</td>\n",
       "      <td>-0.039032</td>\n",
       "      <td>-0.355594</td>\n",
       "      <td>-0.157800</td>\n",
       "      <td>-0.157887</td>\n",
       "      <td>0.129791</td>\n",
       "      <td>0.333146</td>\n",
       "      <td>0.092788</td>\n",
       "      <td>-0.058119</td>\n",
       "      <td>-0.076860</td>\n",
       "      <td>...</td>\n",
       "      <td>-0.362023</td>\n",
       "      <td>-0.107721</td>\n",
       "      <td>-0.107721</td>\n",
       "      <td>-0.029351</td>\n",
       "      <td>0.111206</td>\n",
       "      <td>-0.070263</td>\n",
       "      <td>-0.070263</td>\n",
       "      <td>0.231665</td>\n",
       "      <td>0.223739</td>\n",
       "      <td>0.123522</td>\n",
       "    </tr>\n",
       "    <tr>\n",
       "      <th>ZVEVOCSAT</th>\n",
       "      <td>-0.111777</td>\n",
       "      <td>-0.020893</td>\n",
       "      <td>0.089808</td>\n",
       "      <td>-0.043865</td>\n",
       "      <td>-0.041825</td>\n",
       "      <td>-0.087802</td>\n",
       "      <td>-0.218645</td>\n",
       "      <td>-0.761174</td>\n",
       "      <td>-0.789493</td>\n",
       "      <td>-0.791189</td>\n",
       "      <td>...</td>\n",
       "      <td>-0.208385</td>\n",
       "      <td>-0.112600</td>\n",
       "      <td>-0.112600</td>\n",
       "      <td>-0.015359</td>\n",
       "      <td>0.035976</td>\n",
       "      <td>-0.053745</td>\n",
       "      <td>-0.053745</td>\n",
       "      <td>0.102494</td>\n",
       "      <td>0.099114</td>\n",
       "      <td>-0.100111</td>\n",
       "    </tr>\n",
       "    <tr>\n",
       "      <th>CNETTYPE</th>\n",
       "      <td>-0.134742</td>\n",
       "      <td>-0.019567</td>\n",
       "      <td>0.148567</td>\n",
       "      <td>-0.061703</td>\n",
       "      <td>-0.058917</td>\n",
       "      <td>-0.193330</td>\n",
       "      <td>-0.075398</td>\n",
       "      <td>-0.777857</td>\n",
       "      <td>-0.806796</td>\n",
       "      <td>-0.808530</td>\n",
       "      <td>...</td>\n",
       "      <td>-0.423454</td>\n",
       "      <td>-0.136347</td>\n",
       "      <td>-0.136347</td>\n",
       "      <td>-0.017369</td>\n",
       "      <td>0.029051</td>\n",
       "      <td>-0.079302</td>\n",
       "      <td>-0.079302</td>\n",
       "      <td>0.144205</td>\n",
       "      <td>0.135656</td>\n",
       "      <td>-0.201695</td>\n",
       "    </tr>\n",
       "    <tr>\n",
       "      <th>bevasarlokozpont</th>\n",
       "      <td>0.049272</td>\n",
       "      <td>-0.007150</td>\n",
       "      <td>0.121158</td>\n",
       "      <td>0.011798</td>\n",
       "      <td>0.011907</td>\n",
       "      <td>0.107367</td>\n",
       "      <td>0.486965</td>\n",
       "      <td>0.672163</td>\n",
       "      <td>0.697170</td>\n",
       "      <td>0.669972</td>\n",
       "      <td>...</td>\n",
       "      <td>0.458429</td>\n",
       "      <td>0.052193</td>\n",
       "      <td>0.052193</td>\n",
       "      <td>-0.002582</td>\n",
       "      <td>0.029606</td>\n",
       "      <td>0.076502</td>\n",
       "      <td>0.076502</td>\n",
       "      <td>-0.019474</td>\n",
       "      <td>-0.015511</td>\n",
       "      <td>0.114349</td>\n",
       "    </tr>\n",
       "    <tr>\n",
       "      <th>felsooktatasiintezm</th>\n",
       "      <td>-0.033986</td>\n",
       "      <td>-0.000171</td>\n",
       "      <td>-0.058534</td>\n",
       "      <td>-0.109551</td>\n",
       "      <td>-0.107924</td>\n",
       "      <td>0.326575</td>\n",
       "      <td>-0.030817</td>\n",
       "      <td>-0.262493</td>\n",
       "      <td>-0.417295</td>\n",
       "      <td>-0.418192</td>\n",
       "      <td>...</td>\n",
       "      <td>-0.119974</td>\n",
       "      <td>-0.035600</td>\n",
       "      <td>-0.035600</td>\n",
       "      <td>0.007891</td>\n",
       "      <td>0.078446</td>\n",
       "      <td>-0.034533</td>\n",
       "      <td>-0.034533</td>\n",
       "      <td>0.126773</td>\n",
       "      <td>0.124114</td>\n",
       "      <td>0.329019</td>\n",
       "    </tr>\n",
       "    <tr>\n",
       "      <th>irodahazhivatal</th>\n",
       "      <td>0.002084</td>\n",
       "      <td>-0.014281</td>\n",
       "      <td>-0.003450</td>\n",
       "      <td>-0.062691</td>\n",
       "      <td>-0.060404</td>\n",
       "      <td>0.414901</td>\n",
       "      <td>-0.039961</td>\n",
       "      <td>-0.094063</td>\n",
       "      <td>-0.220569</td>\n",
       "      <td>-0.221043</td>\n",
       "      <td>...</td>\n",
       "      <td>0.539508</td>\n",
       "      <td>0.003384</td>\n",
       "      <td>0.003384</td>\n",
       "      <td>-0.006777</td>\n",
       "      <td>0.055308</td>\n",
       "      <td>-0.002249</td>\n",
       "      <td>-0.002249</td>\n",
       "      <td>0.052880</td>\n",
       "      <td>0.054167</td>\n",
       "      <td>0.423366</td>\n",
       "    </tr>\n",
       "    <tr>\n",
       "      <th>kozepiskola</th>\n",
       "      <td>0.084328</td>\n",
       "      <td>-0.017670</td>\n",
       "      <td>-0.026649</td>\n",
       "      <td>0.059273</td>\n",
       "      <td>0.060820</td>\n",
       "      <td>0.092133</td>\n",
       "      <td>-0.293977</td>\n",
       "      <td>0.363623</td>\n",
       "      <td>0.377151</td>\n",
       "      <td>0.415934</td>\n",
       "      <td>...</td>\n",
       "      <td>0.734643</td>\n",
       "      <td>0.088559</td>\n",
       "      <td>0.088559</td>\n",
       "      <td>-0.028241</td>\n",
       "      <td>-0.097696</td>\n",
       "      <td>-0.024444</td>\n",
       "      <td>-0.024444</td>\n",
       "      <td>-0.155510</td>\n",
       "      <td>-0.151661</td>\n",
       "      <td>0.104861</td>\n",
       "    </tr>\n",
       "    <tr>\n",
       "      <th>mozi</th>\n",
       "      <td>0.068482</td>\n",
       "      <td>-0.000598</td>\n",
       "      <td>-0.122120</td>\n",
       "      <td>0.032883</td>\n",
       "      <td>0.033528</td>\n",
       "      <td>-0.112205</td>\n",
       "      <td>-0.407377</td>\n",
       "      <td>0.303763</td>\n",
       "      <td>0.315064</td>\n",
       "      <td>0.371568</td>\n",
       "      <td>...</td>\n",
       "      <td>-0.071329</td>\n",
       "      <td>0.069911</td>\n",
       "      <td>0.069911</td>\n",
       "      <td>-0.017335</td>\n",
       "      <td>-0.123480</td>\n",
       "      <td>-0.084486</td>\n",
       "      <td>-0.084486</td>\n",
       "      <td>-0.130527</td>\n",
       "      <td>-0.131228</td>\n",
       "      <td>-0.104969</td>\n",
       "    </tr>\n",
       "    <tr>\n",
       "      <th>muvelodesikozpont</th>\n",
       "      <td>0.009346</td>\n",
       "      <td>-0.005879</td>\n",
       "      <td>-0.333279</td>\n",
       "      <td>-0.025625</td>\n",
       "      <td>-0.026942</td>\n",
       "      <td>-0.115663</td>\n",
       "      <td>0.149328</td>\n",
       "      <td>0.680968</td>\n",
       "      <td>0.706303</td>\n",
       "      <td>0.707820</td>\n",
       "      <td>...</td>\n",
       "      <td>-0.135878</td>\n",
       "      <td>0.010519</td>\n",
       "      <td>0.010519</td>\n",
       "      <td>-0.011672</td>\n",
       "      <td>-0.018736</td>\n",
       "      <td>-0.029715</td>\n",
       "      <td>-0.029715</td>\n",
       "      <td>0.024284</td>\n",
       "      <td>0.019402</td>\n",
       "      <td>-0.110842</td>\n",
       "    </tr>\n",
       "    <tr>\n",
       "      <th>parkjatszoter</th>\n",
       "      <td>-0.054805</td>\n",
       "      <td>-0.004917</td>\n",
       "      <td>-0.271500</td>\n",
       "      <td>-0.126679</td>\n",
       "      <td>-0.126861</td>\n",
       "      <td>0.218656</td>\n",
       "      <td>0.317951</td>\n",
       "      <td>0.221966</td>\n",
       "      <td>0.114680</td>\n",
       "      <td>0.085720</td>\n",
       "      <td>...</td>\n",
       "      <td>-0.175988</td>\n",
       "      <td>-0.055821</td>\n",
       "      <td>-0.055821</td>\n",
       "      <td>0.005242</td>\n",
       "      <td>0.110861</td>\n",
       "      <td>-0.009057</td>\n",
       "      <td>-0.009057</td>\n",
       "      <td>0.190321</td>\n",
       "      <td>0.184339</td>\n",
       "      <td>0.220995</td>\n",
       "    </tr>\n",
       "    <tr>\n",
       "      <th>piac</th>\n",
       "      <td>-0.005133</td>\n",
       "      <td>-0.062801</td>\n",
       "      <td>0.141019</td>\n",
       "      <td>0.032208</td>\n",
       "      <td>0.035613</td>\n",
       "      <td>-0.099645</td>\n",
       "      <td>0.127009</td>\n",
       "      <td>-0.153746</td>\n",
       "      <td>-0.040919</td>\n",
       "      <td>-0.004094</td>\n",
       "      <td>...</td>\n",
       "      <td>-0.118821</td>\n",
       "      <td>0.001100</td>\n",
       "      <td>0.001100</td>\n",
       "      <td>-0.075215</td>\n",
       "      <td>-0.089818</td>\n",
       "      <td>-0.084451</td>\n",
       "      <td>-0.084451</td>\n",
       "      <td>-0.073100</td>\n",
       "      <td>-0.075301</td>\n",
       "      <td>-0.098967</td>\n",
       "    </tr>\n",
       "    <tr>\n",
       "      <th>posta</th>\n",
       "      <td>-0.037443</td>\n",
       "      <td>-0.006456</td>\n",
       "      <td>-0.303634</td>\n",
       "      <td>-0.053206</td>\n",
       "      <td>-0.055204</td>\n",
       "      <td>-0.056051</td>\n",
       "      <td>0.462470</td>\n",
       "      <td>0.582079</td>\n",
       "      <td>0.603734</td>\n",
       "      <td>0.565595</td>\n",
       "      <td>...</td>\n",
       "      <td>-0.108576</td>\n",
       "      <td>-0.037078</td>\n",
       "      <td>-0.037078</td>\n",
       "      <td>-0.001409</td>\n",
       "      <td>0.065308</td>\n",
       "      <td>0.024918</td>\n",
       "      <td>0.024918</td>\n",
       "      <td>0.120615</td>\n",
       "      <td>0.115398</td>\n",
       "      <td>-0.055523</td>\n",
       "    </tr>\n",
       "    <tr>\n",
       "      <th>sportletesitmeny</th>\n",
       "      <td>0.048199</td>\n",
       "      <td>-0.022044</td>\n",
       "      <td>0.072035</td>\n",
       "      <td>0.047126</td>\n",
       "      <td>0.048541</td>\n",
       "      <td>0.215094</td>\n",
       "      <td>-0.021559</td>\n",
       "      <td>0.200479</td>\n",
       "      <td>0.207938</td>\n",
       "      <td>0.208385</td>\n",
       "      <td>...</td>\n",
       "      <td>1.000000</td>\n",
       "      <td>0.052361</td>\n",
       "      <td>0.052361</td>\n",
       "      <td>-0.021005</td>\n",
       "      <td>-0.017502</td>\n",
       "      <td>0.042166</td>\n",
       "      <td>0.042166</td>\n",
       "      <td>-0.085203</td>\n",
       "      <td>-0.079678</td>\n",
       "      <td>0.225062</td>\n",
       "    </tr>\n",
       "    <tr>\n",
       "      <th>LAPMEDTER</th>\n",
       "      <td>0.989790</td>\n",
       "      <td>0.153012</td>\n",
       "      <td>0.027124</td>\n",
       "      <td>-0.374014</td>\n",
       "      <td>-0.379674</td>\n",
       "      <td>0.267805</td>\n",
       "      <td>-0.041828</td>\n",
       "      <td>0.072318</td>\n",
       "      <td>0.072328</td>\n",
       "      <td>0.077445</td>\n",
       "      <td>...</td>\n",
       "      <td>0.052361</td>\n",
       "      <td>1.000000</td>\n",
       "      <td>1.000000</td>\n",
       "      <td>0.153570</td>\n",
       "      <td>-0.198512</td>\n",
       "      <td>-0.133801</td>\n",
       "      <td>-0.133801</td>\n",
       "      <td>-0.485721</td>\n",
       "      <td>-0.452067</td>\n",
       "      <td>0.276434</td>\n",
       "    </tr>\n",
       "    <tr>\n",
       "      <th>LAPTERMCS</th>\n",
       "      <td>0.989790</td>\n",
       "      <td>0.153012</td>\n",
       "      <td>0.027124</td>\n",
       "      <td>-0.374014</td>\n",
       "      <td>-0.379674</td>\n",
       "      <td>0.267805</td>\n",
       "      <td>-0.041828</td>\n",
       "      <td>0.072318</td>\n",
       "      <td>0.072328</td>\n",
       "      <td>0.077445</td>\n",
       "      <td>...</td>\n",
       "      <td>0.052361</td>\n",
       "      <td>1.000000</td>\n",
       "      <td>1.000000</td>\n",
       "      <td>0.153570</td>\n",
       "      <td>-0.198512</td>\n",
       "      <td>-0.133801</td>\n",
       "      <td>-0.133801</td>\n",
       "      <td>-0.485721</td>\n",
       "      <td>-0.452067</td>\n",
       "      <td>0.276434</td>\n",
       "    </tr>\n",
       "    <tr>\n",
       "      <th>LAPMEGJSZ</th>\n",
       "      <td>0.276882</td>\n",
       "      <td>0.989308</td>\n",
       "      <td>0.004325</td>\n",
       "      <td>-0.009459</td>\n",
       "      <td>-0.023819</td>\n",
       "      <td>-0.004496</td>\n",
       "      <td>-0.040439</td>\n",
       "      <td>0.004371</td>\n",
       "      <td>-0.003669</td>\n",
       "      <td>-0.004540</td>\n",
       "      <td>...</td>\n",
       "      <td>-0.021005</td>\n",
       "      <td>0.153570</td>\n",
       "      <td>0.153570</td>\n",
       "      <td>1.000000</td>\n",
       "      <td>0.164919</td>\n",
       "      <td>0.310342</td>\n",
       "      <td>0.310342</td>\n",
       "      <td>-0.003273</td>\n",
       "      <td>-0.005699</td>\n",
       "      <td>-0.108444</td>\n",
       "    </tr>\n",
       "    <tr>\n",
       "      <th>LAPKIADO</th>\n",
       "      <td>-0.187820</td>\n",
       "      <td>0.130028</td>\n",
       "      <td>-0.044044</td>\n",
       "      <td>-0.319681</td>\n",
       "      <td>-0.315470</td>\n",
       "      <td>0.065300</td>\n",
       "      <td>0.071630</td>\n",
       "      <td>0.002616</td>\n",
       "      <td>-0.012706</td>\n",
       "      <td>-0.021491</td>\n",
       "      <td>...</td>\n",
       "      <td>-0.017502</td>\n",
       "      <td>-0.198512</td>\n",
       "      <td>-0.198512</td>\n",
       "      <td>0.164919</td>\n",
       "      <td>1.000000</td>\n",
       "      <td>0.372068</td>\n",
       "      <td>0.372068</td>\n",
       "      <td>0.843271</td>\n",
       "      <td>0.867993</td>\n",
       "      <td>0.058135</td>\n",
       "    </tr>\n",
       "    <tr>\n",
       "      <th>LAPARBRUT</th>\n",
       "      <td>-0.106222</td>\n",
       "      <td>0.283815</td>\n",
       "      <td>0.036656</td>\n",
       "      <td>0.481827</td>\n",
       "      <td>0.476490</td>\n",
       "      <td>-0.211881</td>\n",
       "      <td>0.033577</td>\n",
       "      <td>0.021445</td>\n",
       "      <td>0.025166</td>\n",
       "      <td>0.019911</td>\n",
       "      <td>...</td>\n",
       "      <td>0.042166</td>\n",
       "      <td>-0.133801</td>\n",
       "      <td>-0.133801</td>\n",
       "      <td>0.310342</td>\n",
       "      <td>0.372068</td>\n",
       "      <td>1.000000</td>\n",
       "      <td>1.000000</td>\n",
       "      <td>0.143129</td>\n",
       "      <td>0.129149</td>\n",
       "      <td>-0.232449</td>\n",
       "    </tr>\n",
       "    <tr>\n",
       "      <th>LAPARNET</th>\n",
       "      <td>-0.106222</td>\n",
       "      <td>0.283815</td>\n",
       "      <td>0.036656</td>\n",
       "      <td>0.481827</td>\n",
       "      <td>0.476490</td>\n",
       "      <td>-0.211881</td>\n",
       "      <td>0.033577</td>\n",
       "      <td>0.021445</td>\n",
       "      <td>0.025166</td>\n",
       "      <td>0.019911</td>\n",
       "      <td>...</td>\n",
       "      <td>0.042166</td>\n",
       "      <td>-0.133801</td>\n",
       "      <td>-0.133801</td>\n",
       "      <td>0.310342</td>\n",
       "      <td>0.372068</td>\n",
       "      <td>1.000000</td>\n",
       "      <td>1.000000</td>\n",
       "      <td>0.143129</td>\n",
       "      <td>0.129149</td>\n",
       "      <td>-0.232449</td>\n",
       "    </tr>\n",
       "    <tr>\n",
       "      <th>LAPCS1</th>\n",
       "      <td>-0.480762</td>\n",
       "      <td>-0.034741</td>\n",
       "      <td>-0.088241</td>\n",
       "      <td>-0.326373</td>\n",
       "      <td>-0.321680</td>\n",
       "      <td>-0.010130</td>\n",
       "      <td>0.093367</td>\n",
       "      <td>-0.030105</td>\n",
       "      <td>-0.050912</td>\n",
       "      <td>-0.062063</td>\n",
       "      <td>...</td>\n",
       "      <td>-0.085203</td>\n",
       "      <td>-0.485721</td>\n",
       "      <td>-0.485721</td>\n",
       "      <td>-0.003273</td>\n",
       "      <td>0.843271</td>\n",
       "      <td>0.143129</td>\n",
       "      <td>0.143129</td>\n",
       "      <td>1.000000</td>\n",
       "      <td>0.993030</td>\n",
       "      <td>-0.017419</td>\n",
       "    </tr>\n",
       "    <tr>\n",
       "      <th>LAPCS2</th>\n",
       "      <td>-0.447451</td>\n",
       "      <td>-0.035772</td>\n",
       "      <td>-0.085265</td>\n",
       "      <td>-0.356054</td>\n",
       "      <td>-0.350968</td>\n",
       "      <td>0.012665</td>\n",
       "      <td>0.092099</td>\n",
       "      <td>-0.027512</td>\n",
       "      <td>-0.048229</td>\n",
       "      <td>-0.059230</td>\n",
       "      <td>...</td>\n",
       "      <td>-0.079678</td>\n",
       "      <td>-0.452067</td>\n",
       "      <td>-0.452067</td>\n",
       "      <td>-0.005699</td>\n",
       "      <td>0.867993</td>\n",
       "      <td>0.129149</td>\n",
       "      <td>0.129149</td>\n",
       "      <td>0.993030</td>\n",
       "      <td>1.000000</td>\n",
       "      <td>0.004601</td>\n",
       "    </tr>\n",
       "    <tr>\n",
       "      <th>NAPI_ELADOTT_DB</th>\n",
       "      <td>0.253113</td>\n",
       "      <td>-0.119011</td>\n",
       "      <td>-0.123692</td>\n",
       "      <td>-0.348154</td>\n",
       "      <td>-0.332289</td>\n",
       "      <td>0.640523</td>\n",
       "      <td>0.038345</td>\n",
       "      <td>0.100023</td>\n",
       "      <td>0.054423</td>\n",
       "      <td>0.050935</td>\n",
       "      <td>...</td>\n",
       "      <td>0.225062</td>\n",
       "      <td>0.276434</td>\n",
       "      <td>0.276434</td>\n",
       "      <td>-0.108444</td>\n",
       "      <td>0.058135</td>\n",
       "      <td>-0.232449</td>\n",
       "      <td>-0.232449</td>\n",
       "      <td>-0.017419</td>\n",
       "      <td>0.004601</td>\n",
       "      <td>1.000000</td>\n",
       "    </tr>\n",
       "  </tbody>\n",
       "</table>\n",
       "<p>33 rows × 33 columns</p>\n",
       "</div>"
      ],
      "text/plain": [
       "                       LAPISSUGL  KFDELDATE   ARUSKOD  NAPOK_POLCON  \\\n",
       "LAPISSUGL               1.000000   0.276925  0.027041     -0.369622   \n",
       "KFDELDATE               0.276925   1.000000  0.007880      0.020230   \n",
       "ARUSKOD                 0.027041   0.007880  1.000000      0.072670   \n",
       "NAPOK_POLCON           -0.369622   0.020230  0.072670      1.000000   \n",
       "ELOZO_NAPOK_POLCON     -0.376898   0.000037  0.077059      0.860477   \n",
       "ELOZO_NAPI_ELADOTT_DB   0.261639  -0.013305 -0.130769     -0.345686   \n",
       "ARUSMEGYE              -0.046289  -0.047959  0.396054     -0.034166   \n",
       "ARUSTI1                 0.070634   0.005120 -0.457172     -0.014571   \n",
       "ARUSTI2                 0.069901  -0.001412 -0.451558      0.007283   \n",
       "ARUSTI3                 0.074951  -0.001223 -0.448456      0.010869   \n",
       "ARUSTI4                 0.098656   0.010392 -0.284387      0.028918   \n",
       "Z_LAPFELE              -0.108902  -0.039032 -0.355594     -0.157800   \n",
       "ZVEVOCSAT              -0.111777  -0.020893  0.089808     -0.043865   \n",
       "CNETTYPE               -0.134742  -0.019567  0.148567     -0.061703   \n",
       "bevasarlokozpont        0.049272  -0.007150  0.121158      0.011798   \n",
       "felsooktatasiintezm    -0.033986  -0.000171 -0.058534     -0.109551   \n",
       "irodahazhivatal         0.002084  -0.014281 -0.003450     -0.062691   \n",
       "kozepiskola             0.084328  -0.017670 -0.026649      0.059273   \n",
       "mozi                    0.068482  -0.000598 -0.122120      0.032883   \n",
       "muvelodesikozpont       0.009346  -0.005879 -0.333279     -0.025625   \n",
       "parkjatszoter          -0.054805  -0.004917 -0.271500     -0.126679   \n",
       "piac                   -0.005133  -0.062801  0.141019      0.032208   \n",
       "posta                  -0.037443  -0.006456 -0.303634     -0.053206   \n",
       "sportletesitmeny        0.048199  -0.022044  0.072035      0.047126   \n",
       "LAPMEDTER               0.989790   0.153012  0.027124     -0.374014   \n",
       "LAPTERMCS               0.989790   0.153012  0.027124     -0.374014   \n",
       "LAPMEGJSZ               0.276882   0.989308  0.004325     -0.009459   \n",
       "LAPKIADO               -0.187820   0.130028 -0.044044     -0.319681   \n",
       "LAPARBRUT              -0.106222   0.283815  0.036656      0.481827   \n",
       "LAPARNET               -0.106222   0.283815  0.036656      0.481827   \n",
       "LAPCS1                 -0.480762  -0.034741 -0.088241     -0.326373   \n",
       "LAPCS2                 -0.447451  -0.035772 -0.085265     -0.356054   \n",
       "NAPI_ELADOTT_DB         0.253113  -0.119011 -0.123692     -0.348154   \n",
       "\n",
       "                       ELOZO_NAPOK_POLCON  ELOZO_NAPI_ELADOTT_DB  ARUSMEGYE  \\\n",
       "LAPISSUGL                       -0.376898               0.261639  -0.046289   \n",
       "KFDELDATE                        0.000037              -0.013305  -0.047959   \n",
       "ARUSKOD                          0.077059              -0.130769   0.396054   \n",
       "NAPOK_POLCON                     0.860477              -0.345686  -0.034166   \n",
       "ELOZO_NAPOK_POLCON               1.000000              -0.356633  -0.032431   \n",
       "ELOZO_NAPI_ELADOTT_DB           -0.356633               1.000000   0.038830   \n",
       "ARUSMEGYE                       -0.032431               0.038830   1.000000   \n",
       "ARUSTI1                         -0.018064               0.095844   0.086765   \n",
       "ARUSTI2                          0.004209               0.051146   0.071418   \n",
       "ARUSTI3                          0.007891               0.047288   0.034137   \n",
       "ARUSTI4                          0.026267               0.071373   0.133555   \n",
       "Z_LAPFELE                       -0.157887               0.129791   0.333146   \n",
       "ZVEVOCSAT                       -0.041825              -0.087802  -0.218645   \n",
       "CNETTYPE                        -0.058917              -0.193330  -0.075398   \n",
       "bevasarlokozpont                 0.011907               0.107367   0.486965   \n",
       "felsooktatasiintezm             -0.107924               0.326575  -0.030817   \n",
       "irodahazhivatal                 -0.060404               0.414901  -0.039961   \n",
       "kozepiskola                      0.060820               0.092133  -0.293977   \n",
       "mozi                             0.033528              -0.112205  -0.407377   \n",
       "muvelodesikozpont               -0.026942              -0.115663   0.149328   \n",
       "parkjatszoter                   -0.126861               0.218656   0.317951   \n",
       "piac                             0.035613              -0.099645   0.127009   \n",
       "posta                           -0.055204              -0.056051   0.462470   \n",
       "sportletesitmeny                 0.048541               0.215094  -0.021559   \n",
       "LAPMEDTER                       -0.379674               0.267805  -0.041828   \n",
       "LAPTERMCS                       -0.379674               0.267805  -0.041828   \n",
       "LAPMEGJSZ                       -0.023819              -0.004496  -0.040439   \n",
       "LAPKIADO                        -0.315470               0.065300   0.071630   \n",
       "LAPARBRUT                        0.476490              -0.211881   0.033577   \n",
       "LAPARNET                         0.476490              -0.211881   0.033577   \n",
       "LAPCS1                          -0.321680              -0.010130   0.093367   \n",
       "LAPCS2                          -0.350968               0.012665   0.092099   \n",
       "NAPI_ELADOTT_DB                 -0.332289               0.640523   0.038345   \n",
       "\n",
       "                        ARUSTI1   ARUSTI2   ARUSTI3  ...  sportletesitmeny  \\\n",
       "LAPISSUGL              0.070634  0.069901  0.074951  ...          0.048199   \n",
       "KFDELDATE              0.005120 -0.001412 -0.001223  ...         -0.022044   \n",
       "ARUSKOD               -0.457172 -0.451558 -0.448456  ...          0.072035   \n",
       "NAPOK_POLCON          -0.014571  0.007283  0.010869  ...          0.047126   \n",
       "ELOZO_NAPOK_POLCON    -0.018064  0.004209  0.007891  ...          0.048541   \n",
       "ELOZO_NAPI_ELADOTT_DB  0.095844  0.051146  0.047288  ...          0.215094   \n",
       "ARUSMEGYE              0.086765  0.071418  0.034137  ...         -0.021559   \n",
       "ARUSTI1                1.000000  0.964131  0.962064  ...          0.200479   \n",
       "ARUSTI2                0.964131  1.000000  0.997856  ...          0.207938   \n",
       "ARUSTI3                0.962064  0.997856  1.000000  ...          0.208385   \n",
       "ARUSTI4                0.910457  0.944329  0.946359  ...          0.220196   \n",
       "Z_LAPFELE              0.092788 -0.058119 -0.076860  ...         -0.362023   \n",
       "ZVEVOCSAT             -0.761174 -0.789493 -0.791189  ...         -0.208385   \n",
       "CNETTYPE              -0.777857 -0.806796 -0.808530  ...         -0.423454   \n",
       "bevasarlokozpont       0.672163  0.697170  0.669972  ...          0.458429   \n",
       "felsooktatasiintezm   -0.262493 -0.417295 -0.418192  ...         -0.119974   \n",
       "irodahazhivatal       -0.094063 -0.220569 -0.221043  ...          0.539508   \n",
       "kozepiskola            0.363623  0.377151  0.415934  ...          0.734643   \n",
       "mozi                   0.303763  0.315064  0.371568  ...         -0.071329   \n",
       "muvelodesikozpont      0.680968  0.706303  0.707820  ...         -0.135878   \n",
       "parkjatszoter          0.221966  0.114680  0.085720  ...         -0.175988   \n",
       "piac                  -0.153746 -0.040919 -0.004094  ...         -0.118821   \n",
       "posta                  0.582079  0.603734  0.565595  ...         -0.108576   \n",
       "sportletesitmeny       0.200479  0.207938  0.208385  ...          1.000000   \n",
       "LAPMEDTER              0.072318  0.072328  0.077445  ...          0.052361   \n",
       "LAPTERMCS              0.072318  0.072328  0.077445  ...          0.052361   \n",
       "LAPMEGJSZ              0.004371 -0.003669 -0.004540  ...         -0.021005   \n",
       "LAPKIADO               0.002616 -0.012706 -0.021491  ...         -0.017502   \n",
       "LAPARBRUT              0.021445  0.025166  0.019911  ...          0.042166   \n",
       "LAPARNET               0.021445  0.025166  0.019911  ...          0.042166   \n",
       "LAPCS1                -0.030105 -0.050912 -0.062063  ...         -0.085203   \n",
       "LAPCS2                -0.027512 -0.048229 -0.059230  ...         -0.079678   \n",
       "NAPI_ELADOTT_DB        0.100023  0.054423  0.050935  ...          0.225062   \n",
       "\n",
       "                       LAPMEDTER  LAPTERMCS  LAPMEGJSZ  LAPKIADO  LAPARBRUT  \\\n",
       "LAPISSUGL               0.989790   0.989790   0.276882 -0.187820  -0.106222   \n",
       "KFDELDATE               0.153012   0.153012   0.989308  0.130028   0.283815   \n",
       "ARUSKOD                 0.027124   0.027124   0.004325 -0.044044   0.036656   \n",
       "NAPOK_POLCON           -0.374014  -0.374014  -0.009459 -0.319681   0.481827   \n",
       "ELOZO_NAPOK_POLCON     -0.379674  -0.379674  -0.023819 -0.315470   0.476490   \n",
       "ELOZO_NAPI_ELADOTT_DB   0.267805   0.267805  -0.004496  0.065300  -0.211881   \n",
       "ARUSMEGYE              -0.041828  -0.041828  -0.040439  0.071630   0.033577   \n",
       "ARUSTI1                 0.072318   0.072318   0.004371  0.002616   0.021445   \n",
       "ARUSTI2                 0.072328   0.072328  -0.003669 -0.012706   0.025166   \n",
       "ARUSTI3                 0.077445   0.077445  -0.004540 -0.021491   0.019911   \n",
       "ARUSTI4                 0.100408   0.100408   0.005716 -0.030362   0.038916   \n",
       "Z_LAPFELE              -0.107721  -0.107721  -0.029351  0.111206  -0.070263   \n",
       "ZVEVOCSAT              -0.112600  -0.112600  -0.015359  0.035976  -0.053745   \n",
       "CNETTYPE               -0.136347  -0.136347  -0.017369  0.029051  -0.079302   \n",
       "bevasarlokozpont        0.052193   0.052193  -0.002582  0.029606   0.076502   \n",
       "felsooktatasiintezm    -0.035600  -0.035600   0.007891  0.078446  -0.034533   \n",
       "irodahazhivatal         0.003384   0.003384  -0.006777  0.055308  -0.002249   \n",
       "kozepiskola             0.088559   0.088559  -0.028241 -0.097696  -0.024444   \n",
       "mozi                    0.069911   0.069911  -0.017335 -0.123480  -0.084486   \n",
       "muvelodesikozpont       0.010519   0.010519  -0.011672 -0.018736  -0.029715   \n",
       "parkjatszoter          -0.055821  -0.055821   0.005242  0.110861  -0.009057   \n",
       "piac                    0.001100   0.001100  -0.075215 -0.089818  -0.084451   \n",
       "posta                  -0.037078  -0.037078  -0.001409  0.065308   0.024918   \n",
       "sportletesitmeny        0.052361   0.052361  -0.021005 -0.017502   0.042166   \n",
       "LAPMEDTER               1.000000   1.000000   0.153570 -0.198512  -0.133801   \n",
       "LAPTERMCS               1.000000   1.000000   0.153570 -0.198512  -0.133801   \n",
       "LAPMEGJSZ               0.153570   0.153570   1.000000  0.164919   0.310342   \n",
       "LAPKIADO               -0.198512  -0.198512   0.164919  1.000000   0.372068   \n",
       "LAPARBRUT              -0.133801  -0.133801   0.310342  0.372068   1.000000   \n",
       "LAPARNET               -0.133801  -0.133801   0.310342  0.372068   1.000000   \n",
       "LAPCS1                 -0.485721  -0.485721  -0.003273  0.843271   0.143129   \n",
       "LAPCS2                 -0.452067  -0.452067  -0.005699  0.867993   0.129149   \n",
       "NAPI_ELADOTT_DB         0.276434   0.276434  -0.108444  0.058135  -0.232449   \n",
       "\n",
       "                       LAPARNET    LAPCS1    LAPCS2  NAPI_ELADOTT_DB  \n",
       "LAPISSUGL             -0.106222 -0.480762 -0.447451         0.253113  \n",
       "KFDELDATE              0.283815 -0.034741 -0.035772        -0.119011  \n",
       "ARUSKOD                0.036656 -0.088241 -0.085265        -0.123692  \n",
       "NAPOK_POLCON           0.481827 -0.326373 -0.356054        -0.348154  \n",
       "ELOZO_NAPOK_POLCON     0.476490 -0.321680 -0.350968        -0.332289  \n",
       "ELOZO_NAPI_ELADOTT_DB -0.211881 -0.010130  0.012665         0.640523  \n",
       "ARUSMEGYE              0.033577  0.093367  0.092099         0.038345  \n",
       "ARUSTI1                0.021445 -0.030105 -0.027512         0.100023  \n",
       "ARUSTI2                0.025166 -0.050912 -0.048229         0.054423  \n",
       "ARUSTI3                0.019911 -0.062063 -0.059230         0.050935  \n",
       "ARUSTI4                0.038916 -0.086942 -0.083660         0.079803  \n",
       "Z_LAPFELE             -0.070263  0.231665  0.223739         0.123522  \n",
       "ZVEVOCSAT             -0.053745  0.102494  0.099114        -0.100111  \n",
       "CNETTYPE              -0.079302  0.144205  0.135656        -0.201695  \n",
       "bevasarlokozpont       0.076502 -0.019474 -0.015511         0.114349  \n",
       "felsooktatasiintezm   -0.034533  0.126773  0.124114         0.329019  \n",
       "irodahazhivatal       -0.002249  0.052880  0.054167         0.423366  \n",
       "kozepiskola           -0.024444 -0.155510 -0.151661         0.104861  \n",
       "mozi                  -0.084486 -0.130527 -0.131228        -0.104969  \n",
       "muvelodesikozpont     -0.029715  0.024284  0.019402        -0.110842  \n",
       "parkjatszoter         -0.009057  0.190321  0.184339         0.220995  \n",
       "piac                  -0.084451 -0.073100 -0.075301        -0.098967  \n",
       "posta                  0.024918  0.120615  0.115398        -0.055523  \n",
       "sportletesitmeny       0.042166 -0.085203 -0.079678         0.225062  \n",
       "LAPMEDTER             -0.133801 -0.485721 -0.452067         0.276434  \n",
       "LAPTERMCS             -0.133801 -0.485721 -0.452067         0.276434  \n",
       "LAPMEGJSZ              0.310342 -0.003273 -0.005699        -0.108444  \n",
       "LAPKIADO               0.372068  0.843271  0.867993         0.058135  \n",
       "LAPARBRUT              1.000000  0.143129  0.129149        -0.232449  \n",
       "LAPARNET               1.000000  0.143129  0.129149        -0.232449  \n",
       "LAPCS1                 0.143129  1.000000  0.993030        -0.017419  \n",
       "LAPCS2                 0.129149  0.993030  1.000000         0.004601  \n",
       "NAPI_ELADOTT_DB       -0.232449 -0.017419  0.004601         1.000000  \n",
       "\n",
       "[33 rows x 33 columns]"
      ]
     },
     "execution_count": 6,
     "metadata": {},
     "output_type": "execute_result"
    }
   ],
   "source": [
    "corr = df.corr(method = 'spearman')\n",
    "def display_correlation(df):\n",
    "    r = df.corr(method=\"spearman\")\n",
    "    plt.figure(figsize=(10,6))\n",
    "    heatmap = sns.heatmap(df.corr(), vmin=-1, \n",
    "                      vmax=1)\n",
    "    plt.title(\"Spearman Correlation\")\n",
    "    return(r)\n",
    "\n",
    "r_simple=display_correlation(df)\n",
    "r_simple"
   ]
  },
  {
   "cell_type": "markdown",
   "metadata": {},
   "source": [
    "Ezek alapján a kidobott változók: *ARUSTI2, ARUSTI3, ARUSTI4, LAPMEDTER, LAPTERMCS, LAPARNET, LAPCS2*.\n",
    "\n",
    "Újabb pp futtatás a validációhoz."
   ]
  },
  {
   "cell_type": "code",
   "execution_count": 7,
   "metadata": {
    "execution": {
     "iopub.execute_input": "2022-04-12T14:59:10.132624Z",
     "iopub.status.busy": "2022-04-12T14:59:10.132492Z",
     "iopub.status.idle": "2022-04-12T14:59:10.138885Z",
     "shell.execute_reply": "2022-04-12T14:59:10.138306Z",
     "shell.execute_reply.started": "2022-04-12T14:59:10.132606Z"
    }
   },
   "outputs": [],
   "source": [
    "df = df.drop([\"ARUSTI2\", \"ARUSTI3\", \"ARUSTI4\", \"LAPMEDTER\", \"LAPTERMCS\", \"LAPARNET\", \"LAPCS2\"], axis = 1)\n",
    "prof = ProfileReport(df)\n",
    "#prof.to_file(output_file='C:/Rajk - újgép/Machine Learning - újgép/decision_tree/output_4.html')"
   ]
  },
  {
   "cell_type": "markdown",
   "metadata": {},
   "source": [
    "#### Encodeolások előkészítése"
   ]
  },
  {
   "cell_type": "markdown",
   "metadata": {},
   "source": [
    "Az elemzésben végül csak Hash encode-ot használtam, így a többi encode előkészítése kitörlésre került."
   ]
  },
  {
   "cell_type": "markdown",
   "metadata": {},
   "source": [
    "#### Hash encode-olás előskészítése"
   ]
  },
  {
   "cell_type": "code",
   "execution_count": 8,
   "metadata": {
    "execution": {
     "iopub.execute_input": "2022-04-12T14:59:10.139832Z",
     "iopub.status.busy": "2022-04-12T14:59:10.139710Z",
     "iopub.status.idle": "2022-04-12T14:59:10.143468Z",
     "shell.execute_reply": "2022-04-12T14:59:10.142922Z",
     "shell.execute_reply.started": "2022-04-12T14:59:10.139816Z"
    }
   },
   "outputs": [],
   "source": [
    "fh_n_features = 1000\n",
    "\n",
    "x_colnames_fh = [f'fh{n}' for n in range(fh_n_features)]\n",
    "fh = FeatureHasher(n_features=fh_n_features, input_type='string', dtype=np.float32)"
   ]
  },
  {
   "cell_type": "markdown",
   "metadata": {},
   "source": [
    "Maga az encode"
   ]
  },
  {
   "cell_type": "code",
   "execution_count": 9,
   "metadata": {
    "execution": {
     "iopub.execute_input": "2022-04-12T14:59:10.144348Z",
     "iopub.status.busy": "2022-04-12T14:59:10.144226Z",
     "iopub.status.idle": "2022-04-12T14:59:10.644795Z",
     "shell.execute_reply": "2022-04-12T14:59:10.643943Z",
     "shell.execute_reply.started": "2022-04-12T14:59:10.144331Z"
    }
   },
   "outputs": [
    {
     "name": "stderr",
     "output_type": "stream",
     "text": [
      "/opt/conda/lib/python3.7/site-packages/pandas/core/frame.py:3641: PerformanceWarning: DataFrame is highly fragmented.  This is usually the result of calling `frame.insert` many times, which has poor performance.  Consider joining all columns at once using pd.concat(axis=1) instead.  To get a de-fragmented frame, use `newframe = frame.copy()`\n",
      "  self[k1] = value[k2]\n"
     ]
    }
   ],
   "source": [
    "x_cols_names = [\"NAPOK_POLCON\",\"ELOZO_NAPOK_POLCON\",\"ELOZO_NAPI_ELADOTT_DB\",\"ARUSMEGYE\",\"ARUSTI1\", \"bevasarlokozpont\",\"irodahazhivatal\", \"parkjatszoter\",\"piac\", \"LAPKIADO\"]\n",
    "fh_vec = fh.fit_transform(X=df['CNETWORK'])\n",
    "fh_vec = pd.DataFrame(fh_vec.todense(), columns=x_colnames_fh, index=df.index)\n",
    "\n",
    "fh_vec_test = fh.fit_transform(X=df['CNETWORK'])\n",
    "fh_vec_test = pd.DataFrame(fh_vec_test.todense(), columns=x_colnames_fh, index=df.index)\n",
    "\n",
    "df[x_colnames_fh] = fh_vec\n",
    "df[x_colnames_fh] = fh_vec_test\n",
    "x_fin_colnames = x_cols_names + x_colnames_fh"
   ]
  },
  {
   "cell_type": "markdown",
   "metadata": {},
   "source": [
    "### 1.4. Később felhasználandó függvények definiálása"
   ]
  },
  {
   "cell_type": "code",
   "execution_count": 10,
   "metadata": {
    "execution": {
     "iopub.execute_input": "2022-04-12T14:59:10.646984Z",
     "iopub.status.busy": "2022-04-12T14:59:10.646824Z",
     "iopub.status.idle": "2022-04-12T14:59:10.669316Z",
     "shell.execute_reply": "2022-04-12T14:59:10.668637Z",
     "shell.execute_reply.started": "2022-04-12T14:59:10.646964Z"
    }
   },
   "outputs": [],
   "source": [
    "df_x = df.drop([\"NAPI_ELADOTT_DB\"], axis = 1)\n",
    "\n",
    "dataset_size = df.shape[0]\n",
    "max_depths = list(range(1, 30))\n",
    "params = {\"max_depth\": 5}\n",
    "y_colname = \"NAPI_ELADOTT_DB\"\n",
    "init_x_colname = df_x.columns"
   ]
  },
  {
   "cell_type": "code",
   "execution_count": 11,
   "metadata": {
    "execution": {
     "iopub.execute_input": "2022-04-12T14:59:10.670318Z",
     "iopub.status.busy": "2022-04-12T14:59:10.670176Z",
     "iopub.status.idle": "2022-04-12T14:59:11.157140Z",
     "shell.execute_reply": "2022-04-12T14:59:11.156270Z",
     "shell.execute_reply.started": "2022-04-12T14:59:10.670300Z"
    }
   },
   "outputs": [],
   "source": [
    "def train_test_split_func(y_colname=y_colname, df=df):\n",
    "    retlist = train_test_split(\n",
    "        df.drop(y_colname, axis=1).values,\n",
    "        df[y_colname].values,\n",
    "        test_size=0.2,\n",
    "        random_state=42,\n",
    "    )\n",
    "\n",
    "    return [\n",
    "        pd.DataFrame(f, columns=[f for f in df.columns if not f == y_colname])\n",
    "        if i < 2\n",
    "        else pd.DataFrame(f, columns=[y_colname])\n",
    "        for i, f in enumerate(retlist) ]\n",
    "\n",
    "\n",
    "X_train, X_test, y_train, y_test = train_test_split_func(y_colname=y_colname, df=df)"
   ]
  },
  {
   "cell_type": "code",
   "execution_count": 12,
   "metadata": {
    "execution": {
     "iopub.execute_input": "2022-04-12T14:59:11.158373Z",
     "iopub.status.busy": "2022-04-12T14:59:11.158227Z",
     "iopub.status.idle": "2022-04-12T14:59:11.170755Z",
     "shell.execute_reply": "2022-04-12T14:59:11.170210Z",
     "shell.execute_reply.started": "2022-04-12T14:59:11.158354Z"
    }
   },
   "outputs": [],
   "source": [
    "def dec_tree_rmse(\n",
    "    params,\n",
    "    x_colnames,\n",
    "    X_train=X_train,\n",
    "    X_test=X_test,\n",
    "    y_train=y_train,\n",
    "    y_test=y_test,\n",
    "):\n",
    "    \"\"\"\n",
    "    Fit decision tree with params, and returns rmse and plot if plot.\n",
    "    \"\"\"\n",
    "    dec_tree = DecisionTreeRegressor(**params).fit(X_train.loc[:, x_colnames], y_train)\n",
    "    test_preds = dec_tree.predict(X_test.loc[:, x_colnames])\n",
    "    rmse = mean_squared_error(y_true=y_test, y_pred=test_preds, squared=False)\n",
    "\n",
    "    #source = pd.DataFrame(\n",
    "        #{\"y\": y_test[\"y\"], \"y_pred\": test_preds, \"cat\": X_test[\"cat\"]}\n",
    "    #)\n",
    "\n",
    "    return rmse, dec_tree\n",
    "\n",
    "def linreg_rmse(\n",
    "    x_colnames,\n",
    "    X_train=X_train,\n",
    "    X_test=X_test,\n",
    "    y_train=y_train,\n",
    "    y_test=y_test,\n",
    "):\n",
    "    \"\"\"\n",
    "    Fit decision tree with params, and returns rmse and plot if plot.\n",
    "    \"\"\"\n",
    "    linreg = LinearRegression().fit(X_train.loc[:, x_colnames], y_train[y_colname])\n",
    "    test_preds = linreg.predict(X_test.loc[:, x_colnames])\n",
    "    rmse = mean_squared_error(y_true=y_test, y_pred=test_preds, squared=False)\n",
    "\n",
    "    source = pd.DataFrame(\n",
    "        {\"y\": y_test[\"y\"], \"y_pred\": test_preds, \"cat\": X_test[\"cat\"]}\n",
    "    )\n",
    "\n",
    "    return rmse, source, linreg\n",
    "\n",
    "\n",
    "def create_scatter(source):\n",
    "    \"\"\"\n",
    "    Creates a scatterplot of true values and predictions colored by `cat` column.\n",
    "    Colnames have to be `y` and `y_pred` respectively.\n",
    "    \"\"\"\n",
    "    maxi_val = source[['y', 'y_pred']].max().max() + 2\n",
    "    mini_val = source[['y', 'y_pred']].min().min() - 2\n",
    "    return alt.Chart(source).mark_circle(\n",
    "        size=60).encode(\n",
    "        x=alt.X('y:Q', scale=alt.Scale(domain=(mini_val, maxi_val))),\n",
    "        y=alt.Y(\"y_pred:Q\", scale=alt.Scale(domain=(mini_val, maxi_val))), \n",
    "        color=\"cat\", \n",
    "        tooltip=\"cat\").properties(\n",
    "        width=800, height=500).interactive()\n",
    "\n",
    "\n",
    "def plot_max_depth_rmse(list_of_depths, list_of_rmse):\n",
    "    \"\"\"\n",
    "    Creates a lineplot from 2 list of numeric values.\n",
    "    \"\"\"\n",
    "    source = pd.DataFrame(index=range(len(list_of_rmse)), columns=[\"max_depth\", \"rmse\"])\n",
    "    source[\"rmse\"] = list_of_rmse\n",
    "    source[\"max_depth\"] = list_of_depths\n",
    "    return alt.Chart(source).mark_line().encode(x=\"max_depth\", y=\"rmse\").properties(\n",
    "        width=800, height=500).interactive()\n",
    "\n",
    "\n",
    "# https://mljar.com/blog/visualize-decision-tree/\n",
    "def visualize_dec_tree(decision_tree):\n",
    "    \"\"\"\n",
    "    Returns visualization of a decision tree\n",
    "    \"\"\"\n",
    "    dot_data = tree.export_graphviz(\n",
    "        decision_tree, out_file=None, feature_names=decision_tree.feature_names_in_, filled=True\n",
    "    )\n",
    "    return graphviz.Source(dot_data, format=\"png\")\n",
    "\n",
    "def create_encoded_column(encoder, colname_s, X_train=X_train, y_train=y_train):\n",
    "    \"\"\"\n",
    "    Use encoder to fit_transform the `cat` column and insert the encoded column values\n",
    "    to `x_colname` col in both train and test sets. Only fits on train, transforms test.\n",
    "    \"\"\"\n",
    "    # you fit on training data\n",
    "    X_train[colname_s] = encoder.fit_transform(X_train[\"cat\"].values.reshape(-1, 1))\n",
    "\n",
    "    # but only TRANSFORM the test data\n",
    "    X_test[colname_s] = encoder.transform(X_test[\"cat\"].values.reshape(-1, 1))\n",
    "    \n",
    "    return X_train, X_test"
   ]
  },
  {
   "cell_type": "markdown",
   "metadata": {},
   "source": [
    "## 2. A döntési fa megégépítése"
   ]
  },
  {
   "cell_type": "markdown",
   "metadata": {},
   "source": [
    "### 2.1. Felhasznált magyarázó változók kiválasztása"
   ]
  },
  {
   "cell_type": "markdown",
   "metadata": {},
   "source": [
    "A preprocess lépései alapján kiválasztott változók a következőek:"
   ]
  },
  {
   "cell_type": "code",
   "execution_count": 13,
   "metadata": {
    "execution": {
     "iopub.execute_input": "2022-04-12T14:59:11.171642Z",
     "iopub.status.busy": "2022-04-12T14:59:11.171517Z",
     "iopub.status.idle": "2022-04-12T14:59:11.174823Z",
     "shell.execute_reply": "2022-04-12T14:59:11.174311Z",
     "shell.execute_reply.started": "2022-04-12T14:59:11.171625Z"
    }
   },
   "outputs": [],
   "source": [
    "x_cols_names = [\"NAPOK_POLCON\",\"ELOZO_NAPOK_POLCON\",\"ELOZO_NAPI_ELADOTT_DB\",\"ARUSMEGYE\",\"ARUSTI1\",\"CNETWORK\", \"bevasarlokozpont\",\"irodahazhivatal\", \"parkjatszoter\",\"piac\", \"LAPMEGJSZ\", \"LAPKIADO\"]"
   ]
  },
  {
   "cell_type": "markdown",
   "metadata": {},
   "source": [
    "Ezek közül a CNETWORK változót kell encodeolni. Mivel string, az óraiak alapján Hash Encode-olást végeztem el rajta. (Mivel ez a lépés egy preprocess lépés, átemeltem a kód elejére.)"
   ]
  },
  {
   "cell_type": "markdown",
   "metadata": {},
   "source": [
    "### 2.2. A döntési fa megépítése"
   ]
  },
  {
   "cell_type": "markdown",
   "metadata": {},
   "source": [
    "Ehhez először megalkotom a dataframe-et, amin tanítom"
   ]
  },
  {
   "cell_type": "code",
   "execution_count": 14,
   "metadata": {
    "execution": {
     "iopub.execute_input": "2022-04-12T14:59:11.175624Z",
     "iopub.status.busy": "2022-04-12T14:59:11.175507Z",
     "iopub.status.idle": "2022-04-12T14:59:11.235912Z",
     "shell.execute_reply": "2022-04-12T14:59:11.235156Z",
     "shell.execute_reply.started": "2022-04-12T14:59:11.175608Z"
    }
   },
   "outputs": [],
   "source": [
    "X_train = X_train[X_train.columns.intersection(x_fin_colnames)]"
   ]
  },
  {
   "cell_type": "markdown",
   "metadata": {},
   "source": [
    "Lecsekkolom, hogy minden változó használható formában van-e"
   ]
  },
  {
   "cell_type": "code",
   "execution_count": 15,
   "metadata": {
    "execution": {
     "iopub.execute_input": "2022-04-12T14:59:11.236800Z",
     "iopub.status.busy": "2022-04-12T14:59:11.236671Z",
     "iopub.status.idle": "2022-04-12T14:59:11.243275Z",
     "shell.execute_reply": "2022-04-12T14:59:11.242753Z",
     "shell.execute_reply.started": "2022-04-12T14:59:11.236783Z"
    }
   },
   "outputs": [
    {
     "data": {
      "text/plain": [
       "object    1032\n",
       "dtype: int64"
      ]
     },
     "execution_count": 15,
     "metadata": {},
     "output_type": "execute_result"
    }
   ],
   "source": [
    "X_train.dtypes.value_counts()\n",
    "y_train.dtypes.value_counts()\n",
    "X_test.dtypes.value_counts()"
   ]
  },
  {
   "cell_type": "markdown",
   "metadata": {},
   "source": [
    "Az X_train-re és az X_testre is kezelni kell az object alapú prediktorokat"
   ]
  },
  {
   "cell_type": "code",
   "execution_count": 16,
   "metadata": {
    "execution": {
     "iopub.execute_input": "2022-04-12T14:59:11.244028Z",
     "iopub.status.busy": "2022-04-12T14:59:11.243907Z",
     "iopub.status.idle": "2022-04-12T14:59:11.793552Z",
     "shell.execute_reply": "2022-04-12T14:59:11.792649Z",
     "shell.execute_reply.started": "2022-04-12T14:59:11.244011Z"
    }
   },
   "outputs": [
    {
     "name": "stderr",
     "output_type": "stream",
     "text": [
      "/opt/conda/lib/python3.7/site-packages/pandas/core/indexing.py:1732: SettingWithCopyWarning: \n",
      "A value is trying to be set on a copy of a slice from a DataFrame\n",
      "\n",
      "See the caveats in the documentation: https://pandas.pydata.org/pandas-docs/stable/user_guide/indexing.html#returning-a-view-versus-a-copy\n",
      "  self._setitem_single_block(indexer, value, name)\n",
      "/opt/conda/lib/python3.7/site-packages/pandas/core/indexing.py:723: SettingWithCopyWarning: \n",
      "A value is trying to be set on a copy of a slice from a DataFrame\n",
      "\n",
      "See the caveats in the documentation: https://pandas.pydata.org/pandas-docs/stable/user_guide/indexing.html#returning-a-view-versus-a-copy\n",
      "  iloc._setitem_with_indexer(indexer, value, self.name)\n"
     ]
    }
   ],
   "source": [
    "X_train.loc[:,X_train.dtypes.loc[lambda x: x == \"object\"].index] = X_train.loc[:,X_train.dtypes.loc[lambda x: x == \"object\"].index].astype(int)"
   ]
  },
  {
   "cell_type": "code",
   "execution_count": 17,
   "metadata": {
    "execution": {
     "iopub.execute_input": "2022-04-12T14:59:11.794731Z",
     "iopub.status.busy": "2022-04-12T14:59:11.794580Z",
     "iopub.status.idle": "2022-04-12T14:59:11.813100Z",
     "shell.execute_reply": "2022-04-12T14:59:11.812394Z",
     "shell.execute_reply.started": "2022-04-12T14:59:11.794712Z"
    }
   },
   "outputs": [],
   "source": [
    "X_test = X_test[X_test.columns.intersection(x_fin_colnames)]"
   ]
  },
  {
   "cell_type": "code",
   "execution_count": 18,
   "metadata": {
    "execution": {
     "iopub.execute_input": "2022-04-12T14:59:11.814101Z",
     "iopub.status.busy": "2022-04-12T14:59:11.813961Z",
     "iopub.status.idle": "2022-04-12T14:59:11.993261Z",
     "shell.execute_reply": "2022-04-12T14:59:11.992452Z",
     "shell.execute_reply.started": "2022-04-12T14:59:11.814083Z"
    }
   },
   "outputs": [],
   "source": [
    "X_test.loc[:,X_test.dtypes.loc[lambda x: x == \"object\"].index] = X_test.loc[:,X_test.dtypes.loc[lambda x: x == \"object\"].index].astype(int)"
   ]
  },
  {
   "cell_type": "markdown",
   "metadata": {},
   "source": [
    "Végső ellenőrzés"
   ]
  },
  {
   "cell_type": "code",
   "execution_count": 19,
   "metadata": {
    "execution": {
     "iopub.execute_input": "2022-04-12T14:59:11.994279Z",
     "iopub.status.busy": "2022-04-12T14:59:11.994139Z",
     "iopub.status.idle": "2022-04-12T14:59:12.000614Z",
     "shell.execute_reply": "2022-04-12T14:59:11.999955Z",
     "shell.execute_reply.started": "2022-04-12T14:59:11.994261Z"
    }
   },
   "outputs": [
    {
     "data": {
      "text/plain": [
       "object    1010\n",
       "dtype: int64"
      ]
     },
     "execution_count": 19,
     "metadata": {},
     "output_type": "execute_result"
    }
   ],
   "source": [
    "X_train.dtypes.value_counts()\n",
    "X_test.dtypes.value_counts()"
   ]
  },
  {
   "cell_type": "markdown",
   "metadata": {},
   "source": [
    "Minden rendben van"
   ]
  },
  {
   "cell_type": "markdown",
   "metadata": {},
   "source": [
    "### 2.3. RMSE és vágás lecsekkolása"
   ]
  },
  {
   "cell_type": "code",
   "execution_count": 20,
   "metadata": {
    "execution": {
     "iopub.execute_input": "2022-04-12T14:59:12.001392Z",
     "iopub.status.busy": "2022-04-12T14:59:12.001265Z",
     "iopub.status.idle": "2022-04-12T14:59:25.736751Z",
     "shell.execute_reply": "2022-04-12T14:59:25.736000Z",
     "shell.execute_reply.started": "2022-04-12T14:59:12.001375Z"
    }
   },
   "outputs": [
    {
     "data": {
      "text/html": [
       "\n",
       "<div id=\"altair-viz-0ab9c736ba03430e94cce462e6b26010\"></div>\n",
       "<script type=\"text/javascript\">\n",
       "  var VEGA_DEBUG = (typeof VEGA_DEBUG == \"undefined\") ? {} : VEGA_DEBUG;\n",
       "  (function(spec, embedOpt){\n",
       "    let outputDiv = document.currentScript.previousElementSibling;\n",
       "    if (outputDiv.id !== \"altair-viz-0ab9c736ba03430e94cce462e6b26010\") {\n",
       "      outputDiv = document.getElementById(\"altair-viz-0ab9c736ba03430e94cce462e6b26010\");\n",
       "    }\n",
       "    const paths = {\n",
       "      \"vega\": \"https://cdn.jsdelivr.net/npm//vega@5?noext\",\n",
       "      \"vega-lib\": \"https://cdn.jsdelivr.net/npm//vega-lib?noext\",\n",
       "      \"vega-lite\": \"https://cdn.jsdelivr.net/npm//vega-lite@4.17.0?noext\",\n",
       "      \"vega-embed\": \"https://cdn.jsdelivr.net/npm//vega-embed@6?noext\",\n",
       "    };\n",
       "\n",
       "    function maybeLoadScript(lib, version) {\n",
       "      var key = `${lib.replace(\"-\", \"\")}_version`;\n",
       "      return (VEGA_DEBUG[key] == version) ?\n",
       "        Promise.resolve(paths[lib]) :\n",
       "        new Promise(function(resolve, reject) {\n",
       "          var s = document.createElement('script');\n",
       "          document.getElementsByTagName(\"head\")[0].appendChild(s);\n",
       "          s.async = true;\n",
       "          s.onload = () => {\n",
       "            VEGA_DEBUG[key] = version;\n",
       "            return resolve(paths[lib]);\n",
       "          };\n",
       "          s.onerror = () => reject(`Error loading script: ${paths[lib]}`);\n",
       "          s.src = paths[lib];\n",
       "        });\n",
       "    }\n",
       "\n",
       "    function showError(err) {\n",
       "      outputDiv.innerHTML = `<div class=\"error\" style=\"color:red;\">${err}</div>`;\n",
       "      throw err;\n",
       "    }\n",
       "\n",
       "    function displayChart(vegaEmbed) {\n",
       "      vegaEmbed(outputDiv, spec, embedOpt)\n",
       "        .catch(err => showError(`Javascript Error: ${err.message}<br>This usually means there's a typo in your chart specification. See the javascript console for the full traceback.`));\n",
       "    }\n",
       "\n",
       "    if(typeof define === \"function\" && define.amd) {\n",
       "      requirejs.config({paths});\n",
       "      require([\"vega-embed\"], displayChart, err => showError(`Error loading script: ${err.message}`));\n",
       "    } else {\n",
       "      maybeLoadScript(\"vega\", \"5\")\n",
       "        .then(() => maybeLoadScript(\"vega-lite\", \"4.17.0\"))\n",
       "        .then(() => maybeLoadScript(\"vega-embed\", \"6\"))\n",
       "        .catch(showError)\n",
       "        .then(() => displayChart(vegaEmbed));\n",
       "    }\n",
       "  })({\"config\": {\"view\": {\"continuousWidth\": 400, \"continuousHeight\": 300}}, \"data\": {\"name\": \"data-d4a4514cea5fa66b2ae85da4c11cdbd5\"}, \"mark\": \"line\", \"encoding\": {\"x\": {\"field\": \"max_depth\", \"type\": \"quantitative\"}, \"y\": {\"field\": \"rmse\", \"type\": \"quantitative\"}}, \"height\": 500, \"selection\": {\"selector001\": {\"type\": \"interval\", \"bind\": \"scales\", \"encodings\": [\"x\", \"y\"]}}, \"width\": 800, \"$schema\": \"https://vega.github.io/schema/vega-lite/v4.17.0.json\", \"datasets\": {\"data-d4a4514cea5fa66b2ae85da4c11cdbd5\": [{\"max_depth\": 1, \"rmse\": 0.21669951192742554}, {\"max_depth\": 2, \"rmse\": 0.18556636909779173}, {\"max_depth\": 3, \"rmse\": 0.18231414488499015}, {\"max_depth\": 4, \"rmse\": 0.178640276542817}, {\"max_depth\": 5, \"rmse\": 0.17630497036410303}, {\"max_depth\": 6, \"rmse\": 0.1723022746692096}, {\"max_depth\": 7, \"rmse\": 0.16798190262291107}, {\"max_depth\": 8, \"rmse\": 0.16789431952094935}, {\"max_depth\": 9, \"rmse\": 0.1671678119688063}, {\"max_depth\": 10, \"rmse\": 0.16806287481036108}, {\"max_depth\": 11, \"rmse\": 0.16927128974484418}, {\"max_depth\": 12, \"rmse\": 0.16946350957456427}, {\"max_depth\": 13, \"rmse\": 0.17038371075783695}, {\"max_depth\": 14, \"rmse\": 0.1710156384767076}, {\"max_depth\": 15, \"rmse\": 0.17240137817517867}, {\"max_depth\": 16, \"rmse\": 0.17297933535873972}, {\"max_depth\": 17, \"rmse\": 0.17270677745033655}, {\"max_depth\": 18, \"rmse\": 0.17250649280507335}, {\"max_depth\": 19, \"rmse\": 0.1721453536523356}, {\"max_depth\": 20, \"rmse\": 0.17249507687314053}, {\"max_depth\": 21, \"rmse\": 0.17311044966922035}, {\"max_depth\": 22, \"rmse\": 0.1728726549704294}, {\"max_depth\": 23, \"rmse\": 0.1728722716305859}, {\"max_depth\": 24, \"rmse\": 0.1723855493147981}, {\"max_depth\": 25, \"rmse\": 0.17229314660648412}, {\"max_depth\": 26, \"rmse\": 0.17242457011298948}, {\"max_depth\": 27, \"rmse\": 0.17224265929357568}, {\"max_depth\": 28, \"rmse\": 0.17298400491307594}, {\"max_depth\": 29, \"rmse\": 0.17246692075063857}]}}, {\"mode\": \"vega-lite\"});\n",
       "</script>"
      ],
      "text/plain": [
       "alt.Chart(...)"
      ]
     },
     "execution_count": 20,
     "metadata": {},
     "output_type": "execute_result"
    }
   ],
   "source": [
    "rmses_oe = [dec_tree_rmse(params={\"max_depth\": i}, x_colnames=x_fin_colnames)[0] for i in max_depths]\n",
    "plot_max_depth_rmse(max_depths, rmses_oe)"
   ]
  },
  {
   "cell_type": "markdown",
   "metadata": {},
   "source": [
    "Ezek alapján 8-as vágás éri meg a legjobban."
   ]
  },
  {
   "cell_type": "markdown",
   "metadata": {},
   "source": [
    "### 2.4. Cross validáció"
   ]
  },
  {
   "cell_type": "code",
   "execution_count": 21,
   "metadata": {
    "execution": {
     "iopub.execute_input": "2022-04-12T14:59:25.737868Z",
     "iopub.status.busy": "2022-04-12T14:59:25.737729Z",
     "iopub.status.idle": "2022-04-12T14:59:30.896351Z",
     "shell.execute_reply": "2022-04-12T14:59:30.895389Z",
     "shell.execute_reply.started": "2022-04-12T14:59:25.737848Z"
    }
   },
   "outputs": [
    {
     "name": "stdout",
     "output_type": "stream",
     "text": [
      "[(3, 0.5642705148938145), (4, 0.5871901615467718), (5, 0.5796969621479457), (6, 0.5860202987003864), (7, 0.6051816481819979), (8, 0.5910005374405697), (9, 0.6085377342462214), (10, 0.5981943579495302), (11, 0.5901631508136879), (12, 0.5742935818790398), (13, 0.5732467258269637), (14, 0.5823114202176252), (15, 0.5672669989837312), (16, 0.5733172723086634), (17, 0.5744219577374423), (18, 0.5708759609263023), (19, 0.5702070448029916)]\n"
     ]
    }
   ],
   "source": [
    "features = x_fin_colnames\n",
    "\n",
    "x = df[features]\n",
    "y = df['NAPI_ELADOTT_DB']\n",
    "\n",
    "depth = []\n",
    "for i in range(3,20):\n",
    "    clf = tree.DecisionTreeRegressor(max_depth=i)\n",
    "    # Perform 7-fold cross validation \n",
    "    scores = cross_val_score(estimator=clf, X=x, y=y, cv=7, n_jobs=4)\n",
    "    depth.append((i,scores.mean()))\n",
    "print(depth)"
   ]
  },
  {
   "cell_type": "markdown",
   "metadata": {},
   "source": [
    "### 2.5. A fa megépítése"
   ]
  },
  {
   "cell_type": "code",
   "execution_count": 22,
   "metadata": {
    "execution": {
     "iopub.execute_input": "2022-04-12T14:59:30.898209Z",
     "iopub.status.busy": "2022-04-12T14:59:30.898030Z",
     "iopub.status.idle": "2022-04-12T14:59:31.086433Z",
     "shell.execute_reply": "2022-04-12T14:59:31.085910Z",
     "shell.execute_reply.started": "2022-04-12T14:59:30.898183Z"
    }
   },
   "outputs": [],
   "source": [
    "clf = DecisionTreeRegressor()\n",
    "\n",
    "# Train Decision Tree Classifer\n",
    "clf = clf.fit(X_train,y_train)"
   ]
  },
  {
   "cell_type": "markdown",
   "metadata": {},
   "source": [
    "A fa kiplottolása"
   ]
  },
  {
   "cell_type": "markdown",
   "metadata": {},
   "source": [
    "## 3. Előrejelzés"
   ]
  },
  {
   "cell_type": "markdown",
   "metadata": {},
   "source": [
    "### 3.1. Előrejelzés először a train adaton"
   ]
  },
  {
   "cell_type": "code",
   "execution_count": 23,
   "metadata": {
    "execution": {
     "iopub.execute_input": "2022-04-12T14:59:31.087276Z",
     "iopub.status.busy": "2022-04-12T14:59:31.087140Z",
     "iopub.status.idle": "2022-04-12T14:59:31.123389Z",
     "shell.execute_reply": "2022-04-12T14:59:31.122866Z",
     "shell.execute_reply.started": "2022-04-12T14:59:31.087255Z"
    },
    "tags": []
   },
   "outputs": [],
   "source": [
    "#Predict the response for test dataset\n",
    "y_pred = clf.predict(X_test)"
   ]
  },
  {
   "cell_type": "markdown",
   "metadata": {},
   "source": [
    "Működik"
   ]
  },
  {
   "cell_type": "markdown",
   "metadata": {},
   "source": [
    "### 3.2. Előrejelzés elkészítése a teszt adatra"
   ]
  },
  {
   "cell_type": "markdown",
   "metadata": {},
   "source": [
    "Teszt adat behívása"
   ]
  },
  {
   "cell_type": "code",
   "execution_count": 31,
   "metadata": {
    "execution": {
     "iopub.execute_input": "2022-04-12T15:00:53.845321Z",
     "iopub.status.busy": "2022-04-12T15:00:53.845018Z",
     "iopub.status.idle": "2022-04-12T15:00:53.875106Z",
     "shell.execute_reply": "2022-04-12T15:00:53.874229Z",
     "shell.execute_reply.started": "2022-04-12T15:00:53.845282Z"
    },
    "tags": []
   },
   "outputs": [],
   "source": [
    "df_test = pd.read_csv(\"data_test.csv\")\n",
    "df_test['LAPISSUGL-ARUSKOD'] = df_test['LAPISSUGL'].astype(str) + '-' + df_test['ARUSKOD'].astype(str)"
   ]
  },
  {
   "cell_type": "markdown",
   "metadata": {},
   "source": [
    "Segéd tábla kimentve index változóhoz"
   ]
  },
  {
   "cell_type": "markdown",
   "metadata": {},
   "source": [
    "Teszt adat használható formára hozása"
   ]
  },
  {
   "cell_type": "code",
   "execution_count": 25,
   "metadata": {
    "execution": {
     "iopub.execute_input": "2022-04-12T14:59:31.139635Z",
     "iopub.status.busy": "2022-04-12T14:59:31.139356Z",
     "iopub.status.idle": "2022-04-12T14:59:31.651174Z",
     "shell.execute_reply": "2022-04-12T14:59:31.650533Z",
     "shell.execute_reply.started": "2022-04-12T14:59:31.139617Z"
    }
   },
   "outputs": [
    {
     "name": "stderr",
     "output_type": "stream",
     "text": [
      "/opt/conda/lib/python3.7/site-packages/pandas/core/frame.py:3641: PerformanceWarning: DataFrame is highly fragmented.  This is usually the result of calling `frame.insert` many times, which has poor performance.  Consider joining all columns at once using pd.concat(axis=1) instead.  To get a de-fragmented frame, use `newframe = frame.copy()`\n",
      "  self[k1] = value[k2]\n"
     ]
    }
   ],
   "source": [
    "df_test.dtypes.value_counts()\n",
    "\n",
    "for col in df_test.columns:\n",
    "    if len(df_test[col].unique()) == 1:\n",
    "        df_test.drop(col,inplace=True,axis=1)\n",
    "\n",
    "df_test = df_test.drop([\"ARUSTI2\", \"ARUSTI3\", \"ARUSTI4\", \"LAPMEDTER\", \"LAPTERMCS\", \"LAPARNET\", \"LAPCS2\"], axis = 1)\n",
    "\n",
    "x_cols_names = [\"NAPOK_POLCON\",\"ELOZO_NAPOK_POLCON\",\"ELOZO_NAPI_ELADOTT_DB\",\"ARUSMEGYE\",\"ARUSTI1\", \"bevasarlokozpont\",\"irodahazhivatal\", \"parkjatszoter\",\"piac\", \"LAPKIADO\"]\n",
    "\n",
    "fh_vec_test = fh.fit_transform(X=df_test['CNETWORK'])\n",
    "fh_vec_test = pd.DataFrame(fh_vec_test.todense(), columns=x_colnames_fh, index=df_test.index)\n",
    "\n",
    "df_test[x_colnames_fh] = fh_vec\n",
    "df_test[x_colnames_fh] = fh_vec_test\n",
    "x_fin_colnames = x_cols_names + x_colnames_fh\n",
    "\n",
    "df_test = df_test[df_test.columns.intersection(x_fin_colnames)]"
   ]
  },
  {
   "cell_type": "markdown",
   "metadata": {},
   "source": [
    "Végső predikció"
   ]
  },
  {
   "cell_type": "code",
   "execution_count": 26,
   "metadata": {
    "execution": {
     "iopub.execute_input": "2022-04-12T14:59:31.652282Z",
     "iopub.status.busy": "2022-04-12T14:59:31.652093Z",
     "iopub.status.idle": "2022-04-12T14:59:31.667166Z",
     "shell.execute_reply": "2022-04-12T14:59:31.666825Z",
     "shell.execute_reply.started": "2022-04-12T14:59:31.652261Z"
    }
   },
   "outputs": [
    {
     "data": {
      "text/plain": [
       "array([0.02222222, 0.0950495 , 0.00555556, ..., 1.1968254 , 0.08125   ,\n",
       "       0.03448275])"
      ]
     },
     "execution_count": 26,
     "metadata": {},
     "output_type": "execute_result"
    }
   ],
   "source": [
    "#Predict the response for test dataset\n",
    "fin_pred = clf.predict(df_test)\n",
    "fin_pred"
   ]
  },
  {
   "cell_type": "markdown",
   "metadata": {},
   "source": [
    "### 3.3. Házi formátum létrehozása"
   ]
  },
  {
   "cell_type": "code",
   "execution_count": 27,
   "metadata": {
    "execution": {
     "iopub.execute_input": "2022-04-12T14:59:31.667909Z",
     "iopub.status.busy": "2022-04-12T14:59:31.667756Z",
     "iopub.status.idle": "2022-04-12T14:59:31.670975Z",
     "shell.execute_reply": "2022-04-12T14:59:31.670644Z",
     "shell.execute_reply.started": "2022-04-12T14:59:31.667891Z"
    },
    "tags": []
   },
   "outputs": [
    {
     "data": {
      "text/plain": [
       "array([0.02222222, 0.0950495 , 0.00555556, ..., 1.1968254 , 0.08125   ,\n",
       "       0.03448275])"
      ]
     },
     "execution_count": 27,
     "metadata": {},
     "output_type": "execute_result"
    }
   ],
   "source": [
    "fin_pred"
   ]
  },
  {
   "cell_type": "markdown",
   "metadata": {},
   "source": [
    "## TEST METRIKA"
   ]
  },
  {
   "cell_type": "code",
   "execution_count": 35,
   "metadata": {
    "execution": {
     "iopub.execute_input": "2022-04-12T15:01:39.336734Z",
     "iopub.status.busy": "2022-04-12T15:01:39.336412Z",
     "iopub.status.idle": "2022-04-12T15:01:39.343360Z",
     "shell.execute_reply": "2022-04-12T15:01:39.342395Z",
     "shell.execute_reply.started": "2022-04-12T15:01:39.336687Z"
    },
    "tags": []
   },
   "outputs": [],
   "source": [
    "hazi_data = pd.DataFrame({'index':df_test[\"LAPISSUGL-ARUSKOD\"],'pred':fin_pred}).set_index('index')"
   ]
  },
  {
   "cell_type": "code",
   "execution_count": 36,
   "metadata": {
    "execution": {
     "iopub.execute_input": "2022-04-12T15:01:39.868675Z",
     "iopub.status.busy": "2022-04-12T15:01:39.868367Z",
     "iopub.status.idle": "2022-04-12T15:01:39.879898Z",
     "shell.execute_reply": "2022-04-12T15:01:39.878989Z",
     "shell.execute_reply.started": "2022-04-12T15:01:39.868635Z"
    },
    "tags": []
   },
   "outputs": [],
   "source": [
    "target_test = pd.read_csv(\"target_test.csv\").drop('Unnamed: 0', axis=1).set_index('index')"
   ]
  },
  {
   "cell_type": "code",
   "execution_count": 38,
   "metadata": {
    "execution": {
     "iopub.execute_input": "2022-04-12T15:02:11.165321Z",
     "iopub.status.busy": "2022-04-12T15:02:11.164949Z",
     "iopub.status.idle": "2022-04-12T15:02:11.171198Z",
     "shell.execute_reply": "2022-04-12T15:02:11.170865Z",
     "shell.execute_reply.started": "2022-04-12T15:02:11.165289Z"
    },
    "tags": []
   },
   "outputs": [
    {
     "data": {
      "text/plain": [
       "0.14812605956511926"
      ]
     },
     "execution_count": 38,
     "metadata": {},
     "output_type": "execute_result"
    }
   ],
   "source": [
    "# ez is korrekt, keverve lett leadva...\n",
    "mean_squared_error(target_test.join(hazi_data)['y_true'], target_test.join(hazi_data)['pred'], squared=False)"
   ]
  },
  {
   "cell_type": "markdown",
   "metadata": {},
   "source": [
    "A predikció elmentése a házi_data df-be"
   ]
  },
  {
   "cell_type": "code",
   "execution_count": 127,
   "metadata": {},
   "outputs": [],
   "source": [
    "hazi_data = pd.DataFrame({'index':df_test_index[\"LAPISSUGL-ARUSKOD\"],'pred':fin_pred})\n",
    "filepath = Path('C:/Rajk - újgép/Machine Learning - újgép/decision_tree/prediction_KD.csv')  \n",
    "filepath.parent.mkdir(parents=True, exist_ok=True)  \n",
    "hazi_data.to_csv(filepath)  "
   ]
  }
 ],
 "metadata": {
  "interpreter": {
   "hash": "521a766d734f425c8a616a6e8182d2d340ff6b0b395fa0fd2bdcfe41bd5e972d"
  },
  "kernelspec": {
   "display_name": "🌍 Base Python 3.7 Environment",
   "language": "python",
   "name": "python3"
  },
  "language_info": {
   "codemirror_mode": {
    "name": "ipython",
    "version": 3
   },
   "file_extension": ".py",
   "mimetype": "text/x-python",
   "name": "python",
   "nbconvert_exporter": "python",
   "pygments_lexer": "ipython3",
   "version": "3.7.10"
  },
  "widgets": {
   "application/vnd.jupyter.widget-state+json": {
    "state": {},
    "version_major": 2,
    "version_minor": 0
   }
  }
 },
 "nbformat": 4,
 "nbformat_minor": 4
}
