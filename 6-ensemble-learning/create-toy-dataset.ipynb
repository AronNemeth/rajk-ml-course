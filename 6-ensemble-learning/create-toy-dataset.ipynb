{
 "cells": [
  {
   "cell_type": "code",
   "execution_count": 1,
   "id": "346c1979-d4e6-474c-b9b9-41746392ff4a",
   "metadata": {
    "execution": {
     "iopub.execute_input": "2022-03-24T14:13:08.324345Z",
     "iopub.status.busy": "2022-03-24T14:13:08.323584Z",
     "iopub.status.idle": "2022-03-24T14:13:09.748276Z",
     "shell.execute_reply": "2022-03-24T14:13:09.746900Z",
     "shell.execute_reply.started": "2022-03-24T14:13:08.324225Z"
    },
    "tags": []
   },
   "outputs": [],
   "source": [
    "import itertools\n",
    "import random\n",
    "\n",
    "import altair as alt\n",
    "import graphviz\n",
    "import matplotlib.pyplot as plt\n",
    "import numpy as np\n",
    "import pandas as pd\n",
    "import seaborn as sns\n",
    "from sklearn.feature_extraction import FeatureHasher\n",
    "from sklearn import tree\n",
    "from sklearn.metrics import mean_squared_error\n",
    "from sklearn.model_selection import train_test_split\n",
    "from sklearn.preprocessing import LabelEncoder, OneHotEncoder, OrdinalEncoder\n",
    "from sklearn.tree import DecisionTreeRegressor\n",
    "from sklearn.linear_model import LinearRegression"
   ]
  },
  {
   "cell_type": "code",
   "execution_count": 2,
   "id": "40553cfd-e1c6-44a7-a480-0e808e4d9605",
   "metadata": {
    "execution": {
     "iopub.execute_input": "2022-03-24T14:13:09.749967Z",
     "iopub.status.busy": "2022-03-24T14:13:09.749780Z",
     "iopub.status.idle": "2022-03-24T14:13:09.753752Z",
     "shell.execute_reply": "2022-03-24T14:13:09.753021Z",
     "shell.execute_reply.started": "2022-03-24T14:13:09.749941Z"
    }
   },
   "outputs": [],
   "source": [
    "# reproducibility\n",
    "rng = np.random.default_rng(seed=420)"
   ]
  },
  {
   "cell_type": "markdown",
   "id": "48accb83-8759-491e-b12a-5c74782d3041",
   "metadata": {},
   "source": [
    " <b>!!! switch this, for switching between cases !!!</b>"
   ]
  },
  {
   "cell_type": "code",
   "execution_count": 3,
   "id": "0acea69c-d79f-451d-b2ad-83b8b7543a8c",
   "metadata": {
    "execution": {
     "iopub.execute_input": "2022-03-24T14:13:09.754868Z",
     "iopub.status.busy": "2022-03-24T14:13:09.754711Z",
     "iopub.status.idle": "2022-03-24T14:13:09.757978Z",
     "shell.execute_reply": "2022-03-24T14:13:09.757312Z",
     "shell.execute_reply.started": "2022-03-24T14:13:09.754832Z"
    }
   },
   "outputs": [],
   "source": [
    "case_switch = 'worst'\n",
    "#case_switch = 'random'"
   ]
  },
  {
   "cell_type": "markdown",
   "id": "abc03a0d-e441-4cfe-a76d-91b769ced3a5",
   "metadata": {},
   "source": [
    "# Create dataset"
   ]
  },
  {
   "cell_type": "code",
   "execution_count": 4,
   "id": "529c7c1d-98b6-40f3-a84c-a73086dd84db",
   "metadata": {
    "execution": {
     "iopub.execute_input": "2022-03-24T14:13:09.760005Z",
     "iopub.status.busy": "2022-03-24T14:13:09.759632Z",
     "iopub.status.idle": "2022-03-24T14:13:09.763609Z",
     "shell.execute_reply": "2022-03-24T14:13:09.762896Z",
     "shell.execute_reply.started": "2022-03-24T14:13:09.759985Z"
    }
   },
   "outputs": [],
   "source": [
    "# globals\n",
    "dataset_size = 1000\n",
    "max_depths = list(range(1, 30))\n",
    "params = {\"max_depth\": 5}\n",
    "y_colname = \"y\"\n",
    "init_x_colname = \"cat\"\n",
    "noise_scale = 2"
   ]
  },
  {
   "cell_type": "code",
   "execution_count": 5,
   "id": "b2a21190-572b-4b26-a737-49557dea32cd",
   "metadata": {
    "execution": {
     "iopub.execute_input": "2022-03-24T14:13:09.764438Z",
     "iopub.status.busy": "2022-03-24T14:13:09.764313Z",
     "iopub.status.idle": "2022-03-24T14:13:09.769342Z",
     "shell.execute_reply": "2022-03-24T14:13:09.768687Z",
     "shell.execute_reply.started": "2022-03-24T14:13:09.764421Z"
    },
    "tags": []
   },
   "outputs": [],
   "source": [
    "def gen_y_val_worstcase(key, noise_scale=noise_scale):\n",
    "    rand = (rng.random(1) - 0.5) * noise_scale\n",
    "    if key % 4 == 1:\n",
    "        return 10 + rand[0]\n",
    "    elif key % 3 == 2:\n",
    "        return 20 + rand[0]\n",
    "    else:\n",
    "        return 1 + rand[0]\n",
    "\n",
    "random_cat_dict = {} \n",
    "\n",
    "def gen_y_val_random(key, random_cat_dict=random_cat_dict, noise_scale=noise_scale):\n",
    "    rand = (rng.random(1) - 0.5) * noise_scale\n",
    "    return random_cat_dict[key] + rand[0]"
   ]
  },
  {
   "cell_type": "markdown",
   "id": "0b76d24c-8767-4e9c-99ea-1f26d1de5c0f",
   "metadata": {},
   "source": [
    "## Worst case"
   ]
  },
  {
   "cell_type": "code",
   "execution_count": 6,
   "id": "0f6330ff-19ba-4a87-9efe-3722b94f56e8",
   "metadata": {
    "execution": {
     "iopub.execute_input": "2022-03-24T14:13:09.770213Z",
     "iopub.status.busy": "2022-03-24T14:13:09.770090Z",
     "iopub.status.idle": "2022-03-24T14:13:09.773962Z",
     "shell.execute_reply": "2022-03-24T14:13:09.773259Z",
     "shell.execute_reply.started": "2022-03-24T14:13:09.770197Z"
    },
    "tags": []
   },
   "outputs": [],
   "source": [
    "categories = (\"A\", \"B\", \"C\", \"D\", \"E\", \"F\", \"G\", \"H\", \"I\", \"J\")\n",
    "subcategories = (\"1\", \"2\", \"3\")\n",
    "\n",
    "cat_vals_worst = [\"\".join(f) for f in itertools.product(categories, subcategories)]"
   ]
  },
  {
   "cell_type": "code",
   "execution_count": 7,
   "id": "097969cf-a5bd-4a42-85d6-26591fc0e7dc",
   "metadata": {
    "execution": {
     "iopub.execute_input": "2022-03-24T14:13:09.774792Z",
     "iopub.status.busy": "2022-03-24T14:13:09.774669Z",
     "iopub.status.idle": "2022-03-24T14:13:09.782221Z",
     "shell.execute_reply": "2022-03-24T14:13:09.781540Z",
     "shell.execute_reply.started": "2022-03-24T14:13:09.774776Z"
    },
    "tags": []
   },
   "outputs": [
    {
     "name": "stdout",
     "output_type": "stream",
     "text": [
      "There are 30 unique categories\n"
     ]
    },
    {
     "data": {
      "text/plain": [
       "['A1', 'A2', 'A3', 'B1', 'B2', 'B3']"
      ]
     },
     "execution_count": 7,
     "metadata": {},
     "output_type": "execute_result"
    }
   ],
   "source": [
    "print(f\"There are {len(cat_vals_worst)} unique categories\")\n",
    "cat_vals_worst[:6]"
   ]
  },
  {
   "cell_type": "code",
   "execution_count": 8,
   "id": "063995ad-f56c-4d5e-99d1-55df3ab8c46e",
   "metadata": {
    "execution": {
     "iopub.execute_input": "2022-03-24T14:13:09.783061Z",
     "iopub.status.busy": "2022-03-24T14:13:09.782932Z",
     "iopub.status.idle": "2022-03-24T14:13:09.816213Z",
     "shell.execute_reply": "2022-03-24T14:13:09.815543Z",
     "shell.execute_reply.started": "2022-03-24T14:13:09.783044Z"
    },
    "tags": []
   },
   "outputs": [
    {
     "data": {
      "text/html": [
       "<div>\n",
       "<style scoped>\n",
       "    .dataframe tbody tr th:only-of-type {\n",
       "        vertical-align: middle;\n",
       "    }\n",
       "\n",
       "    .dataframe tbody tr th {\n",
       "        vertical-align: top;\n",
       "    }\n",
       "\n",
       "    .dataframe thead th {\n",
       "        text-align: right;\n",
       "    }\n",
       "</style>\n",
       "<table border=\"1\" class=\"dataframe\">\n",
       "  <thead>\n",
       "    <tr style=\"text-align: right;\">\n",
       "      <th></th>\n",
       "      <th>cat</th>\n",
       "      <th>y</th>\n",
       "    </tr>\n",
       "  </thead>\n",
       "  <tbody>\n",
       "    <tr>\n",
       "      <th>0</th>\n",
       "      <td>G1</td>\n",
       "      <td>9.065550</td>\n",
       "    </tr>\n",
       "    <tr>\n",
       "      <th>1</th>\n",
       "      <td>H3</td>\n",
       "      <td>1.128245</td>\n",
       "    </tr>\n",
       "    <tr>\n",
       "      <th>2</th>\n",
       "      <td>B1</td>\n",
       "      <td>9.255394</td>\n",
       "    </tr>\n",
       "    <tr>\n",
       "      <th>3</th>\n",
       "      <td>J2</td>\n",
       "      <td>20.469195</td>\n",
       "    </tr>\n",
       "    <tr>\n",
       "      <th>4</th>\n",
       "      <td>I3</td>\n",
       "      <td>1.827283</td>\n",
       "    </tr>\n",
       "  </tbody>\n",
       "</table>\n",
       "</div>"
      ],
      "text/plain": [
       "  cat          y\n",
       "0  G1   9.065550\n",
       "1  H3   1.128245\n",
       "2  B1   9.255394\n",
       "3  J2  20.469195\n",
       "4  I3   1.827283"
      ]
     },
     "execution_count": 8,
     "metadata": {},
     "output_type": "execute_result"
    }
   ],
   "source": [
    "df_worst = pd.DataFrame(index=range(dataset_size), columns=[init_x_colname, y_colname])\n",
    "df_worst[init_x_colname] = [rng.choice(cat_vals_worst) for _ in range(dataset_size)]\n",
    "df_worst[y_colname] = [gen_y_val_worstcase(int(f[1])) for f in df_worst[init_x_colname].tolist()]\n",
    "df_worst.head()"
   ]
  },
  {
   "cell_type": "markdown",
   "id": "b649b6d4-cadb-4494-bd82-90d8eac22854",
   "metadata": {},
   "source": [
    "## Random case"
   ]
  },
  {
   "cell_type": "code",
   "execution_count": 9,
   "id": "50638c43-9209-4830-9858-3f6a63b8c54f",
   "metadata": {
    "execution": {
     "iopub.execute_input": "2022-03-24T14:13:09.817137Z",
     "iopub.status.busy": "2022-03-24T14:13:09.817007Z",
     "iopub.status.idle": "2022-03-24T14:13:09.821547Z",
     "shell.execute_reply": "2022-03-24T14:13:09.820781Z",
     "shell.execute_reply.started": "2022-03-24T14:13:09.817120Z"
    },
    "tags": []
   },
   "outputs": [],
   "source": [
    "cat_vals_random = (\"A\", \"B\", \"C\", \"D\", \"E\", \"F\", \"G\", \"H\")\n",
    "random_cat_dict = {key: rng.choice([1, 10, 20]) for key in cat_vals_random}"
   ]
  },
  {
   "cell_type": "code",
   "execution_count": 10,
   "id": "71279b39-37c1-47a8-bd13-78ed48a024fb",
   "metadata": {
    "execution": {
     "iopub.execute_input": "2022-03-24T14:13:09.822873Z",
     "iopub.status.busy": "2022-03-24T14:13:09.822592Z",
     "iopub.status.idle": "2022-03-24T14:13:09.828278Z",
     "shell.execute_reply": "2022-03-24T14:13:09.827579Z",
     "shell.execute_reply.started": "2022-03-24T14:13:09.822842Z"
    },
    "tags": []
   },
   "outputs": [
    {
     "name": "stdout",
     "output_type": "stream",
     "text": [
      "There are 8 unique categories\n"
     ]
    },
    {
     "data": {
      "text/plain": [
       "('A', 'B', 'C', 'D', 'E', 'F')"
      ]
     },
     "execution_count": 10,
     "metadata": {},
     "output_type": "execute_result"
    }
   ],
   "source": [
    "print(f\"There are {len(cat_vals_random)} unique categories\")\n",
    "cat_vals_random[:6]"
   ]
  },
  {
   "cell_type": "code",
   "execution_count": 11,
   "id": "6f0e57b8-fdbd-4b20-8638-cd987ecc070d",
   "metadata": {
    "execution": {
     "iopub.execute_input": "2022-03-24T14:13:09.829235Z",
     "iopub.status.busy": "2022-03-24T14:13:09.829099Z",
     "iopub.status.idle": "2022-03-24T14:13:09.859007Z",
     "shell.execute_reply": "2022-03-24T14:13:09.858156Z",
     "shell.execute_reply.started": "2022-03-24T14:13:09.829218Z"
    },
    "tags": []
   },
   "outputs": [
    {
     "data": {
      "text/html": [
       "<div>\n",
       "<style scoped>\n",
       "    .dataframe tbody tr th:only-of-type {\n",
       "        vertical-align: middle;\n",
       "    }\n",
       "\n",
       "    .dataframe tbody tr th {\n",
       "        vertical-align: top;\n",
       "    }\n",
       "\n",
       "    .dataframe thead th {\n",
       "        text-align: right;\n",
       "    }\n",
       "</style>\n",
       "<table border=\"1\" class=\"dataframe\">\n",
       "  <thead>\n",
       "    <tr style=\"text-align: right;\">\n",
       "      <th></th>\n",
       "      <th>cat</th>\n",
       "      <th>y</th>\n",
       "    </tr>\n",
       "  </thead>\n",
       "  <tbody>\n",
       "    <tr>\n",
       "      <th>0</th>\n",
       "      <td>B</td>\n",
       "      <td>20.249585</td>\n",
       "    </tr>\n",
       "    <tr>\n",
       "      <th>1</th>\n",
       "      <td>H</td>\n",
       "      <td>0.652780</td>\n",
       "    </tr>\n",
       "    <tr>\n",
       "      <th>2</th>\n",
       "      <td>B</td>\n",
       "      <td>20.622270</td>\n",
       "    </tr>\n",
       "    <tr>\n",
       "      <th>3</th>\n",
       "      <td>H</td>\n",
       "      <td>0.555996</td>\n",
       "    </tr>\n",
       "    <tr>\n",
       "      <th>4</th>\n",
       "      <td>H</td>\n",
       "      <td>0.358285</td>\n",
       "    </tr>\n",
       "  </tbody>\n",
       "</table>\n",
       "</div>"
      ],
      "text/plain": [
       "  cat          y\n",
       "0   B  20.249585\n",
       "1   H   0.652780\n",
       "2   B  20.622270\n",
       "3   H   0.555996\n",
       "4   H   0.358285"
      ]
     },
     "execution_count": 11,
     "metadata": {},
     "output_type": "execute_result"
    }
   ],
   "source": [
    "df_random = pd.DataFrame(index=range(dataset_size), columns=[init_x_colname, y_colname])\n",
    "df_random[init_x_colname] = [rng.choice(cat_vals_random) for _ in range(dataset_size)]\n",
    "df_random[y_colname] = [gen_y_val_random(f, random_cat_dict) for f in df_random[init_x_colname].tolist()]\n",
    "df_random.head()"
   ]
  },
  {
   "cell_type": "markdown",
   "id": "788a1898-18c0-4142-8587-5884aa53eb5c",
   "metadata": {},
   "source": [
    "# Train test split\n",
    "\n",
    "- this is the first thing you do - do not even plot the test data according to Cassie Kozyrkov"
   ]
  },
  {
   "cell_type": "code",
   "execution_count": 12,
   "id": "47972f99-0d7d-40a0-8906-0a0e1a02e9c1",
   "metadata": {
    "execution": {
     "iopub.execute_input": "2022-03-24T14:13:09.860160Z",
     "iopub.status.busy": "2022-03-24T14:13:09.860003Z",
     "iopub.status.idle": "2022-03-24T14:13:09.865146Z",
     "shell.execute_reply": "2022-03-24T14:13:09.864390Z",
     "shell.execute_reply.started": "2022-03-24T14:13:09.860135Z"
    },
    "tags": []
   },
   "outputs": [],
   "source": [
    "df = None\n",
    "def train_test_split_func(y_colname=\"y\", df=df):\n",
    "    retlist = train_test_split(\n",
    "        df.drop(y_colname, axis=1).values,\n",
    "        df[y_colname].values,\n",
    "        test_size=0.2,\n",
    "        random_state=42,\n",
    "    )\n",
    "\n",
    "    return [\n",
    "        pd.DataFrame(f, columns=[f for f in df.columns if not f == y_colname])\n",
    "        if i < 2\n",
    "        else pd.DataFrame(f, columns=[y_colname])\n",
    "        for i, f in enumerate(retlist)\n",
    "    ]"
   ]
  },
  {
   "cell_type": "code",
   "execution_count": 13,
   "id": "31b35511-e6ef-4417-91e7-33652666bbab",
   "metadata": {
    "execution": {
     "iopub.execute_input": "2022-03-24T14:13:09.867896Z",
     "iopub.status.busy": "2022-03-24T14:13:09.867746Z",
     "iopub.status.idle": "2022-03-24T14:13:09.871921Z",
     "shell.execute_reply": "2022-03-24T14:13:09.871193Z",
     "shell.execute_reply.started": "2022-03-24T14:13:09.867879Z"
    },
    "tags": []
   },
   "outputs": [],
   "source": [
    "if case_switch == 'random':\n",
    "    df = df_random.copy()\n",
    "elif case_switch.lower() == 'worst':\n",
    "    df = df_worst.copy()\n",
    "else:\n",
    "    raise ValueError(f'Unknown case: {case_switch}. Choose one of `random` or `worst`.')"
   ]
  },
  {
   "cell_type": "code",
   "execution_count": 14,
   "id": "16046f87-1ede-4026-8277-e40f4a74cc04",
   "metadata": {
    "execution": {
     "iopub.execute_input": "2022-03-24T14:13:09.873115Z",
     "iopub.status.busy": "2022-03-24T14:13:09.872971Z",
     "iopub.status.idle": "2022-03-24T14:13:09.878738Z",
     "shell.execute_reply": "2022-03-24T14:13:09.877749Z",
     "shell.execute_reply.started": "2022-03-24T14:13:09.873098Z"
    },
    "tags": []
   },
   "outputs": [],
   "source": [
    "X_train, X_test, y_train, y_test = train_test_split_func(y_colname=y_colname, df=df)"
   ]
  },
  {
   "cell_type": "markdown",
   "id": "009b3b83-17da-48d4-98b8-64dc81fc750d",
   "metadata": {},
   "source": [
    "# Check data"
   ]
  },
  {
   "cell_type": "code",
   "execution_count": 15,
   "id": "2a736c62-8f2e-4590-ab29-763f95dd6a83",
   "metadata": {
    "execution": {
     "iopub.execute_input": "2022-03-24T14:13:09.880193Z",
     "iopub.status.busy": "2022-03-24T14:13:09.879694Z",
     "iopub.status.idle": "2022-03-24T14:13:10.395154Z",
     "shell.execute_reply": "2022-03-24T14:13:10.394191Z",
     "shell.execute_reply.started": "2022-03-24T14:13:09.880169Z"
    },
    "tags": []
   },
   "outputs": [
    {
     "data": {
      "text/plain": [
       "<AxesSubplot:xlabel='cat', ylabel='y'>"
      ]
     },
     "execution_count": 15,
     "metadata": {},
     "output_type": "execute_result"
    },
    {
     "data": {
      "image/png": "[encoded data removed]",
      "text/plain": [
       "<Figure size 1440x720 with 1 Axes>"
      ]
     },
     "metadata": {
      "needs_background": "light"
     },
     "output_type": "display_data"
    }
   ],
   "source": [
    "fig, ax = plt.subplots(figsize=(20, 10))\n",
    "sns.boxplot(data=X_train.join(y_train).sort_values(by=\"cat\"), x=\"cat\", y=\"y\")"
   ]
  },
  {
   "cell_type": "markdown",
   "id": "d64aaa39-ed2b-48a3-acaf-7e98d14c9e6a",
   "metadata": {},
   "source": [
    "# Functions"
   ]
  },
  {
   "cell_type": "code",
   "execution_count": 16,
   "id": "2df3d38f-3476-4b4b-a5da-74a2242c7beb",
   "metadata": {
    "execution": {
     "iopub.execute_input": "2022-03-24T14:13:10.396483Z",
     "iopub.status.busy": "2022-03-24T14:13:10.396322Z",
     "iopub.status.idle": "2022-03-24T14:13:10.410099Z",
     "shell.execute_reply": "2022-03-24T14:13:10.409223Z",
     "shell.execute_reply.started": "2022-03-24T14:13:10.396462Z"
    },
    "tags": []
   },
   "outputs": [],
   "source": [
    "def dec_tree_rmse(\n",
    "    params,\n",
    "    x_colnames,\n",
    "    X_train=X_train,\n",
    "    X_test=X_test,\n",
    "    y_train=y_train,\n",
    "    y_test=y_test,\n",
    "):\n",
    "    \"\"\"\n",
    "    Fit decision tree with params, and returns rmse and plot if plot.\n",
    "    \"\"\"\n",
    "    dec_tree = DecisionTreeRegressor(**params).fit(X_train.loc[:, x_colnames], y_train)\n",
    "    test_preds = dec_tree.predict(X_test.loc[:, x_colnames])\n",
    "    rmse = mean_squared_error(y_true=y_test, y_pred=test_preds, squared=False)\n",
    "\n",
    "    source = pd.DataFrame(\n",
    "        {\"y\": y_test[\"y\"], \"y_pred\": test_preds, \"cat\": X_test[\"cat\"]}\n",
    "    )\n",
    "\n",
    "    return rmse, source, dec_tree\n",
    "\n",
    "def linreg_rmse(\n",
    "    x_colnames,\n",
    "    X_train=X_train,\n",
    "    X_test=X_test,\n",
    "    y_train=y_train,\n",
    "    y_test=y_test,\n",
    "):\n",
    "    \"\"\"\n",
    "    Fit decision tree with params, and returns rmse and plot if plot.\n",
    "    \"\"\"\n",
    "    linreg = LinearRegression().fit(X_train.loc[:, x_colnames], y_train[y_colname])\n",
    "    test_preds = linreg.predict(X_test.loc[:, x_colnames])\n",
    "    rmse = mean_squared_error(y_true=y_test, y_pred=test_preds, squared=False)\n",
    "\n",
    "    source = pd.DataFrame(\n",
    "        {\"y\": y_test[\"y\"], \"y_pred\": test_preds, \"cat\": X_test[\"cat\"]}\n",
    "    )\n",
    "\n",
    "    return rmse, source, linreg\n",
    "\n",
    "\n",
    "def create_scatter(source):\n",
    "    \"\"\"\n",
    "    Creates a scatterplot of true values and predictions colored by `cat` column.\n",
    "    Colnames have to be `y` and `y_pred` respectively.\n",
    "    \"\"\"\n",
    "    maxi_val = source[['y', 'y_pred']].max().max() + 2\n",
    "    mini_val = source[['y', 'y_pred']].min().min() - 2\n",
    "    return alt.Chart(source).mark_circle(\n",
    "        size=60).encode(\n",
    "        x=alt.X('y:Q', scale=alt.Scale(domain=(mini_val, maxi_val))),\n",
    "        y=alt.Y(\"y_pred:Q\", scale=alt.Scale(domain=(mini_val, maxi_val))), \n",
    "        color=\"cat\", \n",
    "        tooltip=\"cat\").properties(\n",
    "        width=800, height=500).interactive()\n",
    "\n",
    "\n",
    "def plot_max_depth_rmse(list_of_depths, list_of_rmse):\n",
    "    \"\"\"\n",
    "    Creates a lineplot from 2 list of numeric values.\n",
    "    \"\"\"\n",
    "    source = pd.DataFrame(index=range(len(list_of_rmse)), columns=[\"max_depth\", \"rmse\"])\n",
    "    source[\"rmse\"] = list_of_rmse\n",
    "    source[\"max_depth\"] = list_of_depths\n",
    "    return alt.Chart(source).mark_line().encode(x=\"max_depth\", y=\"rmse\").properties(\n",
    "        width=800, height=500).interactive()\n",
    "\n",
    "\n",
    "# https://mljar.com/blog/visualize-decision-tree/\n",
    "def visualize_dec_tree(decision_tree):\n",
    "    \"\"\"\n",
    "    Returns visualization of a decision tree\n",
    "    \"\"\"\n",
    "    dot_data = tree.export_graphviz(\n",
    "        decision_tree, out_file=None, feature_names=decision_tree.feature_names_in_, filled=True\n",
    "    )\n",
    "    return graphviz.Source(dot_data, format=\"png\")\n",
    "\n",
    "def create_encoded_column(encoder, colname_s, X_train=X_train, y_train=y_train):\n",
    "    \"\"\"\n",
    "    Use encoder to fit_transform the `cat` column and insert the encoded column values\n",
    "    to `x_colname` col in both train and test sets. Only fits on train, transforms test.\n",
    "    \"\"\"\n",
    "    # you fit on training data\n",
    "    X_train[colname_s] = encoder.fit_transform(X_train[\"cat\"].values.reshape(-1, 1))\n",
    "\n",
    "    # but only TRANSFORM the test data\n",
    "    X_test[colname_s] = encoder.transform(X_test[\"cat\"].values.reshape(-1, 1))\n",
    "    \n",
    "    return X_train, X_test"
   ]
  },
  {
   "cell_type": "markdown",
   "id": "675c8229-30f9-4a71-b0bf-88c24f938265",
   "metadata": {},
   "source": [
    "# Encodings"
   ]
  },
  {
   "cell_type": "markdown",
   "id": "c52d23bc-44f6-4d59-9df5-3af100b6b1b8",
   "metadata": {},
   "source": [
    "## Ordinal encoding"
   ]
  },
  {
   "cell_type": "code",
   "execution_count": 17,
   "id": "2398e7dd-9e0a-4d18-9dd1-9732e85c51b2",
   "metadata": {
    "execution": {
     "iopub.execute_input": "2022-03-24T14:13:10.411155Z",
     "iopub.status.busy": "2022-03-24T14:13:10.411017Z",
     "iopub.status.idle": "2022-03-24T14:13:10.414617Z",
     "shell.execute_reply": "2022-03-24T14:13:10.413932Z",
     "shell.execute_reply.started": "2022-03-24T14:13:10.411136Z"
    },
    "tags": []
   },
   "outputs": [],
   "source": [
    "oe = OrdinalEncoder(handle_unknown=\"use_encoded_value\", unknown_value=np.nan)"
   ]
  },
  {
   "cell_type": "code",
   "execution_count": 18,
   "id": "46d3b015-db38-4577-9d87-85fdfcbda086",
   "metadata": {
    "execution": {
     "iopub.execute_input": "2022-03-24T14:13:10.415680Z",
     "iopub.status.busy": "2022-03-24T14:13:10.415543Z",
     "iopub.status.idle": "2022-03-24T14:13:10.422401Z",
     "shell.execute_reply": "2022-03-24T14:13:10.421704Z",
     "shell.execute_reply.started": "2022-03-24T14:13:10.415663Z"
    },
    "tags": []
   },
   "outputs": [
    {
     "data": {
      "text/html": [
       "<div>\n",
       "<style scoped>\n",
       "    .dataframe tbody tr th:only-of-type {\n",
       "        vertical-align: middle;\n",
       "    }\n",
       "\n",
       "    .dataframe tbody tr th {\n",
       "        vertical-align: top;\n",
       "    }\n",
       "\n",
       "    .dataframe thead th {\n",
       "        text-align: right;\n",
       "    }\n",
       "</style>\n",
       "<table border=\"1\" class=\"dataframe\">\n",
       "  <thead>\n",
       "    <tr style=\"text-align: right;\">\n",
       "      <th></th>\n",
       "      <th>cat</th>\n",
       "    </tr>\n",
       "  </thead>\n",
       "  <tbody>\n",
       "    <tr>\n",
       "      <th>0</th>\n",
       "      <td>B3</td>\n",
       "    </tr>\n",
       "    <tr>\n",
       "      <th>1</th>\n",
       "      <td>C3</td>\n",
       "    </tr>\n",
       "    <tr>\n",
       "      <th>2</th>\n",
       "      <td>D2</td>\n",
       "    </tr>\n",
       "    <tr>\n",
       "      <th>3</th>\n",
       "      <td>D1</td>\n",
       "    </tr>\n",
       "    <tr>\n",
       "      <th>4</th>\n",
       "      <td>I1</td>\n",
       "    </tr>\n",
       "  </tbody>\n",
       "</table>\n",
       "</div>"
      ],
      "text/plain": [
       "  cat\n",
       "0  B3\n",
       "1  C3\n",
       "2  D2\n",
       "3  D1\n",
       "4  I1"
      ]
     },
     "execution_count": 18,
     "metadata": {},
     "output_type": "execute_result"
    }
   ],
   "source": [
    "X_train.head()"
   ]
  },
  {
   "cell_type": "code",
   "execution_count": 19,
   "id": "abd05425-f62d-4b28-8dd9-d96f257ae040",
   "metadata": {
    "execution": {
     "iopub.execute_input": "2022-03-24T14:13:10.423341Z",
     "iopub.status.busy": "2022-03-24T14:13:10.423206Z",
     "iopub.status.idle": "2022-03-24T14:13:10.428747Z",
     "shell.execute_reply": "2022-03-24T14:13:10.427914Z",
     "shell.execute_reply.started": "2022-03-24T14:13:10.423324Z"
    },
    "tags": []
   },
   "outputs": [],
   "source": [
    "x_colnames_oe = 'ordinal_encoded'\n",
    "X_train, X_test = create_encoded_column(oe, x_colnames_oe)"
   ]
  },
  {
   "cell_type": "markdown",
   "id": "b88dbcd7-76ca-451d-9b32-d602e54740ae",
   "metadata": {},
   "source": [
    "### Check one tree"
   ]
  },
  {
   "cell_type": "code",
   "execution_count": 20,
   "id": "5863826d-f1f5-49f8-9334-645fd7cb736d",
   "metadata": {
    "execution": {
     "iopub.execute_input": "2022-03-24T14:13:10.429602Z",
     "iopub.status.busy": "2022-03-24T14:13:10.429478Z",
     "iopub.status.idle": "2022-03-24T14:13:10.438325Z",
     "shell.execute_reply": "2022-03-24T14:13:10.437624Z",
     "shell.execute_reply.started": "2022-03-24T14:13:10.429586Z"
    },
    "tags": []
   },
   "outputs": [],
   "source": [
    "rmse, source_oe, dec_tree = dec_tree_rmse(\n",
    "    params=params, x_colnames=[x_colnames_oe]\n",
    ")"
   ]
  },
  {
   "cell_type": "code",
   "execution_count": 21,
   "id": "d6daa301-2bf4-4abf-b12b-7edd35327846",
   "metadata": {
    "execution": {
     "iopub.execute_input": "2022-03-24T14:13:10.439479Z",
     "iopub.status.busy": "2022-03-24T14:13:10.439348Z",
     "iopub.status.idle": "2022-03-24T14:13:10.443752Z",
     "shell.execute_reply": "2022-03-24T14:13:10.443070Z",
     "shell.execute_reply.started": "2022-03-24T14:13:10.439463Z"
    },
    "tags": []
   },
   "outputs": [
    {
     "data": {
      "text/plain": [
       "6.607239167683132"
      ]
     },
     "execution_count": 21,
     "metadata": {},
     "output_type": "execute_result"
    }
   ],
   "source": [
    "rmse"
   ]
  },
  {
   "cell_type": "code",
   "execution_count": 22,
   "id": "d2cb015d-518d-423e-9e0e-b19f78f0279c",
   "metadata": {
    "execution": {
     "iopub.execute_input": "2022-03-24T14:13:10.444660Z",
     "iopub.status.busy": "2022-03-24T14:13:10.444534Z",
     "iopub.status.idle": "2022-03-24T14:13:10.518268Z",
     "shell.execute_reply": "2022-03-24T14:13:10.517446Z",
     "shell.execute_reply.started": "2022-03-24T14:13:10.444644Z"
    },
    "tags": []
   },
   "outputs": [
    {
     "data": {
      "text/html": [
       "\n",
       "<div id=\"altair-viz-4927a37c54a947d5ae6bd2799bbb8eef\"></div>\n",
       "<script type=\"text/javascript\">\n",
       "  var VEGA_DEBUG = (typeof VEGA_DEBUG == \"undefined\") ? {} : VEGA_DEBUG;\n",
       "  (function(spec, embedOpt){\n",
       "    let outputDiv = document.currentScript.previousElementSibling;\n",
       "    if (outputDiv.id !== \"altair-viz-4927a37c54a947d5ae6bd2799bbb8eef\") {\n",
       "      outputDiv = document.getElementById(\"altair-viz-4927a37c54a947d5ae6bd2799bbb8eef\");\n",
       "    }\n",
       "    const paths = {\n",
       "      \"vega\": \"https://cdn.jsdelivr.net/npm//vega@5?noext\",\n",
       "      \"vega-lib\": \"https://cdn.jsdelivr.net/npm//vega-lib?noext\",\n",
       "      \"vega-lite\": \"https://cdn.jsdelivr.net/npm//vega-lite@4.17.0?noext\",\n",
       "      \"vega-embed\": \"https://cdn.jsdelivr.net/npm//vega-embed@6?noext\",\n",
       "    };\n",
       "\n",
       "    function maybeLoadScript(lib, version) {\n",
       "      var key = `${lib.replace(\"-\", \"\")}_version`;\n",
       "      return (VEGA_DEBUG[key] == version) ?\n",
       "        Promise.resolve(paths[lib]) :\n",
       "        new Promise(function(resolve, reject) {\n",
       "          var s = document.createElement('script');\n",
       "          document.getElementsByTagName(\"head\")[0].appendChild(s);\n",
       "          s.async = true;\n",
       "          s.onload = () => {\n",
       "            VEGA_DEBUG[key] = version;\n",
       "            return resolve(paths[lib]);\n",
       "          };\n",
       "          s.onerror = () => reject(`Error loading script: ${paths[lib]}`);\n",
       "          s.src = paths[lib];\n",
       "        });\n",
       "    }\n",
       "\n",
       "    function showError(err) {\n",
       "      outputDiv.innerHTML = `<div class=\"error\" style=\"color:red;\">${err}</div>`;\n",
       "      throw err;\n",
       "    }\n",
       "\n",
       "    function displayChart(vegaEmbed) {\n",
       "      vegaEmbed(outputDiv, spec, embedOpt)\n",
       "        .catch(err => showError(`Javascript Error: ${err.message}<br>This usually means there's a typo in your chart specification. See the javascript console for the full traceback.`));\n",
       "    }\n",
       "\n",
       "    if(typeof define === \"function\" && define.amd) {\n",
       "      requirejs.config({paths});\n",
       "      require([\"vega-embed\"], displayChart, err => showError(`Error loading script: ${err.message}`));\n",
       "    } else {\n",
       "      maybeLoadScript(\"vega\", \"5\")\n",
       "        .then(() => maybeLoadScript(\"vega-lite\", \"4.17.0\"))\n",
       "        .then(() => maybeLoadScript(\"vega-embed\", \"6\"))\n",
       "        .catch(showError)\n",
       "        .then(() => displayChart(vegaEmbed));\n",
       "    }\n",
       "  })({\"config\": {\"view\": {\"continuousWidth\": 400, \"continuousHeight\": 300}}, \"data\": {\"name\": \"data-bf7af20fbeb925e1d98e12a9f29e4b5f\"}, \"mark\": {\"type\": \"circle\", \"size\": 60}, \"encoding\": {\"color\": {\"field\": \"cat\", \"type\": \"nominal\"}, \"tooltip\": {\"field\": \"cat\", \"type\": \"nominal\"}, \"x\": {\"field\": \"y\", \"scale\": {\"domain\": [-1.976271965441258, 22.96857500892925]}, \"type\": \"quantitative\"}, \"y\": {\"field\": \"y_pred\", \"scale\": {\"domain\": [-1.976271965441258, 22.96857500892925]}, \"type\": \"quantitative\"}}, \"height\": 500, \"selection\": {\"selector001\": {\"type\": \"interval\", \"bind\": \"scales\", \"encodings\": [\"x\", \"y\"]}}, \"width\": 800, \"$schema\": \"https://vega.github.io/schema/vega-lite/v4.17.0.json\", \"datasets\": {\"data-bf7af20fbeb925e1d98e12a9f29e4b5f\": [{\"y\": 0.9708688385243336, \"y_pred\": 10.864725410506214, \"cat\": \"G3\"}, {\"y\": 1.5615528849742262, \"y_pred\": 5.192070597939706, \"cat\": \"H3\"}, {\"y\": 19.762355681020175, \"y_pred\": 10.864725410506214, \"cat\": \"E2\"}, {\"y\": 9.669818235290847, \"y_pred\": 10.864725410506214, \"cat\": \"G1\"}, {\"y\": 20.581437747153537, \"y_pred\": 10.864725410506214, \"cat\": \"E2\"}, {\"y\": 19.114769917943644, \"y_pred\": 10.864725410506214, \"cat\": \"A2\"}, {\"y\": 19.240079805181814, \"y_pred\": 10.864725410506214, \"cat\": \"A2\"}, {\"y\": 10.370929132428529, \"y_pred\": 10.864725410506214, \"cat\": \"A1\"}, {\"y\": 20.609629747639598, \"y_pred\": 20.096333813940596, \"cat\": \"J2\"}, {\"y\": 9.185411965211156, \"y_pred\": 10.043670589644409, \"cat\": \"J1\"}, {\"y\": 20.771135145302082, \"y_pred\": 10.864725410506214, \"cat\": \"D2\"}, {\"y\": 9.897906688835647, \"y_pred\": 5.192070597939706, \"cat\": \"I1\"}, {\"y\": 19.572515038433227, \"y_pred\": 10.864725410506214, \"cat\": \"D2\"}, {\"y\": 10.121699527559619, \"y_pred\": 5.192070597939706, \"cat\": \"I1\"}, {\"y\": 9.892287250926657, \"y_pred\": 10.864725410506214, \"cat\": \"H1\"}, {\"y\": 10.02938789145609, \"y_pred\": 10.864725410506214, \"cat\": \"A1\"}, {\"y\": 9.040243651268177, \"y_pred\": 10.864725410506214, \"cat\": \"H1\"}, {\"y\": 19.392430942113748, \"y_pred\": 10.864725410506214, \"cat\": \"B2\"}, {\"y\": 1.7685549154233273, \"y_pred\": 10.864725410506214, \"cat\": \"D3\"}, {\"y\": 20.915270646306908, \"y_pred\": 19.875565318533827, \"cat\": \"I2\"}, {\"y\": 1.1594739846577815, \"y_pred\": 10.864725410506214, \"cat\": \"E3\"}, {\"y\": 19.294671275810273, \"y_pred\": 10.864725410506214, \"cat\": \"H2\"}, {\"y\": 0.09239944296425806, \"y_pred\": 10.864725410506214, \"cat\": \"A3\"}, {\"y\": 1.8501313272642024, \"y_pred\": 10.864725410506214, \"cat\": \"E3\"}, {\"y\": 1.205664187139253, \"y_pred\": 10.864725410506214, \"cat\": \"G3\"}, {\"y\": 10.752694275026144, \"y_pred\": 5.192070597939706, \"cat\": \"I1\"}, {\"y\": 0.10053903516041696, \"y_pred\": 10.864725410506214, \"cat\": \"C3\"}, {\"y\": 9.295792104243384, \"y_pred\": 10.864725410506214, \"cat\": \"E1\"}, {\"y\": 1.8675027275916585, \"y_pred\": 10.864725410506214, \"cat\": \"D3\"}, {\"y\": 9.572761632023228, \"y_pred\": 10.864725410506214, \"cat\": \"H1\"}, {\"y\": 0.40206013448789246, \"y_pred\": 10.864725410506214, \"cat\": \"F3\"}, {\"y\": 20.00816431975963, \"y_pred\": 10.864725410506214, \"cat\": \"B2\"}, {\"y\": 1.8937030617473223, \"y_pred\": 10.864725410506214, \"cat\": \"E3\"}, {\"y\": 10.772909950705804, \"y_pred\": 10.864725410506214, \"cat\": \"D1\"}, {\"y\": 1.140221782934138, \"y_pred\": 0.9182178430490985, \"cat\": \"J3\"}, {\"y\": 10.592858172694484, \"y_pred\": 10.043670589644409, \"cat\": \"J1\"}, {\"y\": 1.9932092808131794, \"y_pred\": 10.864725410506214, \"cat\": \"D3\"}, {\"y\": 19.411209284911298, \"y_pred\": 10.864725410506214, \"cat\": \"B2\"}, {\"y\": 9.212031295957575, \"y_pred\": 10.864725410506214, \"cat\": \"H1\"}, {\"y\": 9.851938306566382, \"y_pred\": 10.864725410506214, \"cat\": \"D1\"}, {\"y\": 19.082329276153228, \"y_pred\": 10.864725410506214, \"cat\": \"C2\"}, {\"y\": 0.25133708392386045, \"y_pred\": 10.864725410506214, \"cat\": \"G3\"}, {\"y\": 10.449132406732668, \"y_pred\": 10.864725410506214, \"cat\": \"B1\"}, {\"y\": 0.02372803455874206, \"y_pred\": 10.864725410506214, \"cat\": \"B3\"}, {\"y\": 0.5078446463642772, \"y_pred\": 10.864725410506214, \"cat\": \"D3\"}, {\"y\": 9.742117143822856, \"y_pred\": 10.864725410506214, \"cat\": \"B1\"}, {\"y\": 10.619462865008618, \"y_pred\": 10.864725410506214, \"cat\": \"A1\"}, {\"y\": 9.146858546371357, \"y_pred\": 10.864725410506214, \"cat\": \"F1\"}, {\"y\": 19.29218469876556, \"y_pred\": 10.864725410506214, \"cat\": \"H2\"}, {\"y\": 0.5688106243620701, \"y_pred\": 10.864725410506214, \"cat\": \"G3\"}, {\"y\": 9.240261892640017, \"y_pred\": 10.864725410506214, \"cat\": \"D1\"}, {\"y\": 0.9155483807690259, \"y_pred\": 0.9182178430490985, \"cat\": \"J3\"}, {\"y\": 20.58010666857155, \"y_pred\": 10.864725410506214, \"cat\": \"D2\"}, {\"y\": 1.8957495440351315, \"y_pred\": 5.192070597939706, \"cat\": \"H3\"}, {\"y\": 0.9444710799769402, \"y_pred\": 0.9277159363149418, \"cat\": \"I3\"}, {\"y\": 10.46111056186891, \"y_pred\": 10.864725410506214, \"cat\": \"G1\"}, {\"y\": 1.3351438955138328, \"y_pred\": 0.9182178430490985, \"cat\": \"J3\"}, {\"y\": 19.450823647607095, \"y_pred\": 10.864725410506214, \"cat\": \"G2\"}, {\"y\": 0.39398350212066413, \"y_pred\": 10.864725410506214, \"cat\": \"D3\"}, {\"y\": 20.445918470430932, \"y_pred\": 10.864725410506214, \"cat\": \"A2\"}, {\"y\": 1.028333779664423, \"y_pred\": 10.864725410506214, \"cat\": \"E3\"}, {\"y\": 1.877798573555562, \"y_pred\": 10.864725410506214, \"cat\": \"C3\"}, {\"y\": 19.308754101789745, \"y_pred\": 10.864725410506214, \"cat\": \"F2\"}, {\"y\": 19.588911139392263, \"y_pred\": 10.864725410506214, \"cat\": \"C2\"}, {\"y\": 1.2696962852581346, \"y_pred\": 10.864725410506214, \"cat\": \"C3\"}, {\"y\": 1.748381206748827, \"y_pred\": 0.9277159363149418, \"cat\": \"I3\"}, {\"y\": 0.2952976442514248, \"y_pred\": 10.864725410506214, \"cat\": \"D3\"}, {\"y\": 10.882186926184575, \"y_pred\": 10.864725410506214, \"cat\": \"H1\"}, {\"y\": 10.643587315971759, \"y_pred\": 10.864725410506214, \"cat\": \"F1\"}, {\"y\": 10.808109051869772, \"y_pred\": 10.864725410506214, \"cat\": \"H1\"}, {\"y\": 20.513153710881305, \"y_pred\": 10.864725410506214, \"cat\": \"B2\"}, {\"y\": 19.258830909026386, \"y_pred\": 10.864725410506214, \"cat\": \"C2\"}, {\"y\": 20.13782290165262, \"y_pred\": 10.864725410506214, \"cat\": \"G2\"}, {\"y\": 10.02600385267203, \"y_pred\": 10.864725410506214, \"cat\": \"D1\"}, {\"y\": 1.0078666530215015, \"y_pred\": 0.9277159363149418, \"cat\": \"I3\"}, {\"y\": 0.8686705749826737, \"y_pred\": 0.9182178430490985, \"cat\": \"J3\"}, {\"y\": 0.4594404220265076, \"y_pred\": 10.864725410506214, \"cat\": \"C3\"}, {\"y\": 1.6152014092601343, \"y_pred\": 5.192070597939706, \"cat\": \"H3\"}, {\"y\": 19.46784350351881, \"y_pred\": 19.875565318533827, \"cat\": \"I2\"}, {\"y\": 10.644613636108657, \"y_pred\": 5.192070597939706, \"cat\": \"I1\"}, {\"y\": 10.152949140231978, \"y_pred\": 10.864725410506214, \"cat\": \"H1\"}, {\"y\": 9.912104519871313, \"y_pred\": 10.864725410506214, \"cat\": \"F1\"}, {\"y\": 1.3272417208585086, \"y_pred\": 0.9182178430490985, \"cat\": \"J3\"}, {\"y\": 0.8231308199627274, \"y_pred\": 10.864725410506214, \"cat\": \"D3\"}, {\"y\": 9.875369737977294, \"y_pred\": 10.864725410506214, \"cat\": \"D1\"}, {\"y\": 1.2333897309216133, \"y_pred\": 10.864725410506214, \"cat\": \"C3\"}, {\"y\": 0.7805028862503547, \"y_pred\": 10.864725410506214, \"cat\": \"A3\"}, {\"y\": 0.6634566091791982, \"y_pred\": 10.864725410506214, \"cat\": \"E3\"}, {\"y\": 0.4470371386983705, \"y_pred\": 0.9277159363149418, \"cat\": \"I3\"}, {\"y\": 1.1072488046608373, \"y_pred\": 0.9277159363149418, \"cat\": \"I3\"}, {\"y\": 0.24280396889682532, \"y_pred\": 5.192070597939706, \"cat\": \"H3\"}, {\"y\": 19.639311035003775, \"y_pred\": 10.864725410506214, \"cat\": \"E2\"}, {\"y\": 10.173301250207977, \"y_pred\": 10.864725410506214, \"cat\": \"A1\"}, {\"y\": 1.6546550741914168, \"y_pred\": 10.864725410506214, \"cat\": \"D3\"}, {\"y\": 1.474123922241376, \"y_pred\": 10.864725410506214, \"cat\": \"E3\"}, {\"y\": 9.691775451836591, \"y_pred\": 10.043670589644409, \"cat\": \"J1\"}, {\"y\": 10.100273494917381, \"y_pred\": 10.043670589644409, \"cat\": \"J1\"}, {\"y\": 1.1274117217439872, \"y_pred\": 10.864725410506214, \"cat\": \"G3\"}, {\"y\": 10.21219557822793, \"y_pred\": 10.864725410506214, \"cat\": \"A1\"}, {\"y\": 9.95441418414331, \"y_pred\": 10.864725410506214, \"cat\": \"E1\"}, {\"y\": 10.559569261886198, \"y_pred\": 10.864725410506214, \"cat\": \"D1\"}, {\"y\": 10.064865505802969, \"y_pred\": 10.864725410506214, \"cat\": \"D1\"}, {\"y\": 9.023187011385222, \"y_pred\": 10.864725410506214, \"cat\": \"F1\"}, {\"y\": 0.8850784130143021, \"y_pred\": 0.9182178430490985, \"cat\": \"J3\"}, {\"y\": 10.39902427507542, \"y_pred\": 10.864725410506214, \"cat\": \"C1\"}, {\"y\": 19.050251951877456, \"y_pred\": 10.864725410506214, \"cat\": \"C2\"}, {\"y\": 1.6846869782703828, \"y_pred\": 5.192070597939706, \"cat\": \"H3\"}, {\"y\": 20.96857500892925, \"y_pred\": 10.864725410506214, \"cat\": \"C2\"}, {\"y\": 1.3249427146925004, \"y_pred\": 0.9182178430490985, \"cat\": \"J3\"}, {\"y\": 20.271810305418256, \"y_pred\": 10.864725410506214, \"cat\": \"A2\"}, {\"y\": 0.6013077041445261, \"y_pred\": 10.864725410506214, \"cat\": \"D3\"}, {\"y\": 10.143375201819058, \"y_pred\": 10.043670589644409, \"cat\": \"J1\"}, {\"y\": 9.214335394736137, \"y_pred\": 5.192070597939706, \"cat\": \"I1\"}, {\"y\": 9.581722718373117, \"y_pred\": 10.864725410506214, \"cat\": \"G1\"}, {\"y\": 19.335252713720422, \"y_pred\": 19.875565318533827, \"cat\": \"I2\"}, {\"y\": 20.33102475795596, \"y_pred\": 10.864725410506214, \"cat\": \"C2\"}, {\"y\": 10.589022038515985, \"y_pred\": 10.864725410506214, \"cat\": \"H1\"}, {\"y\": 0.6691451695081352, \"y_pred\": 10.864725410506214, \"cat\": \"G3\"}, {\"y\": 19.448819374103962, \"y_pred\": 10.864725410506214, \"cat\": \"B2\"}, {\"y\": 1.1861706400914784, \"y_pred\": 10.864725410506214, \"cat\": \"F3\"}, {\"y\": 0.2834241706842682, \"y_pred\": 10.864725410506214, \"cat\": \"G3\"}, {\"y\": 10.666177280656242, \"y_pred\": 10.043670589644409, \"cat\": \"J1\"}, {\"y\": 1.6798940114044558, \"y_pred\": 0.9277159363149418, \"cat\": \"I3\"}, {\"y\": 10.421484899198706, \"y_pred\": 10.864725410506214, \"cat\": \"H1\"}, {\"y\": 10.178432294646244, \"y_pred\": 5.192070597939706, \"cat\": \"I1\"}, {\"y\": 9.052539029833104, \"y_pred\": 10.864725410506214, \"cat\": \"A1\"}, {\"y\": 0.060129509831321926, \"y_pred\": 10.864725410506214, \"cat\": \"E3\"}, {\"y\": 20.49502106653608, \"y_pred\": 10.864725410506214, \"cat\": \"D2\"}, {\"y\": 1.433122452934993, \"y_pred\": 5.192070597939706, \"cat\": \"H3\"}, {\"y\": 1.1656877049978969, \"y_pred\": 5.192070597939706, \"cat\": \"H3\"}, {\"y\": 19.762339346193258, \"y_pred\": 10.864725410506214, \"cat\": \"D2\"}, {\"y\": 19.153202139962694, \"y_pred\": 10.864725410506214, \"cat\": \"H2\"}, {\"y\": 19.438471309399688, \"y_pred\": 10.864725410506214, \"cat\": \"H2\"}, {\"y\": 10.492202934558147, \"y_pred\": 10.864725410506214, \"cat\": \"E1\"}, {\"y\": 0.7575923623120411, \"y_pred\": 10.864725410506214, \"cat\": \"C3\"}, {\"y\": 10.540746790063228, \"y_pred\": 10.864725410506214, \"cat\": \"D1\"}, {\"y\": 20.421119091599298, \"y_pred\": 20.096333813940596, \"cat\": \"J2\"}, {\"y\": 19.07708276269181, \"y_pred\": 10.864725410506214, \"cat\": \"F2\"}, {\"y\": 9.479103134237882, \"y_pred\": 10.864725410506214, \"cat\": \"C1\"}, {\"y\": 20.08790172833245, \"y_pred\": 10.864725410506214, \"cat\": \"H2\"}, {\"y\": 10.171631736622842, \"y_pred\": 5.192070597939706, \"cat\": \"I1\"}, {\"y\": 0.22317214394888163, \"y_pred\": 10.864725410506214, \"cat\": \"A3\"}, {\"y\": 1.0145860571898149, \"y_pred\": 5.192070597939706, \"cat\": \"H3\"}, {\"y\": 0.2140581069074392, \"y_pred\": 10.864725410506214, \"cat\": \"F3\"}, {\"y\": 1.451726067320531, \"y_pred\": 5.192070597939706, \"cat\": \"H3\"}, {\"y\": 9.463809398779315, \"y_pred\": 10.864725410506214, \"cat\": \"G1\"}, {\"y\": 19.049515526950085, \"y_pred\": 10.864725410506214, \"cat\": \"E2\"}, {\"y\": 19.50892337980001, \"y_pred\": 10.864725410506214, \"cat\": \"H2\"}, {\"y\": 10.136790264526567, \"y_pred\": 10.864725410506214, \"cat\": \"H1\"}, {\"y\": 20.19116114239479, \"y_pred\": 10.864725410506214, \"cat\": \"G2\"}, {\"y\": 20.058191492418075, \"y_pred\": 10.864725410506214, \"cat\": \"C2\"}, {\"y\": 9.203000099903218, \"y_pred\": 10.864725410506214, \"cat\": \"A1\"}, {\"y\": 0.6676407154168251, \"y_pred\": 10.864725410506214, \"cat\": \"B3\"}, {\"y\": 20.21342271479435, \"y_pred\": 10.864725410506214, \"cat\": \"B2\"}, {\"y\": 9.48474698964963, \"y_pred\": 10.864725410506214, \"cat\": \"E1\"}, {\"y\": 10.866551132257003, \"y_pred\": 10.864725410506214, \"cat\": \"G1\"}, {\"y\": 20.130936912091776, \"y_pred\": 10.864725410506214, \"cat\": \"F2\"}, {\"y\": 0.17715246381929606, \"y_pred\": 10.864725410506214, \"cat\": \"B3\"}, {\"y\": 19.11154643844185, \"y_pred\": 10.864725410506214, \"cat\": \"C2\"}, {\"y\": 1.1663140659152396, \"y_pred\": 10.864725410506214, \"cat\": \"B3\"}, {\"y\": 10.781462638418178, \"y_pred\": 10.864725410506214, \"cat\": \"C1\"}, {\"y\": 10.463583921199772, \"y_pred\": 5.192070597939706, \"cat\": \"I1\"}, {\"y\": 19.881958561202964, \"y_pred\": 10.864725410506214, \"cat\": \"A2\"}, {\"y\": 0.35198766207932164, \"y_pred\": 10.864725410506214, \"cat\": \"F3\"}, {\"y\": 10.33655036995322, \"y_pred\": 10.864725410506214, \"cat\": \"C1\"}, {\"y\": 20.639915078524055, \"y_pred\": 10.864725410506214, \"cat\": \"B2\"}, {\"y\": 1.5858095531873015, \"y_pred\": 0.9182178430490985, \"cat\": \"J3\"}, {\"y\": 20.549300725916027, \"y_pred\": 10.864725410506214, \"cat\": \"D2\"}, {\"y\": 0.7705612551613208, \"y_pred\": 5.192070597939706, \"cat\": \"H3\"}, {\"y\": 20.156578373052486, \"y_pred\": 10.864725410506214, \"cat\": \"E2\"}, {\"y\": 1.488624912965331, \"y_pred\": 0.9277159363149418, \"cat\": \"I3\"}, {\"y\": 9.698617124835028, \"y_pred\": 5.192070597939706, \"cat\": \"I1\"}, {\"y\": 0.9680412343946829, \"y_pred\": 5.192070597939706, \"cat\": \"H3\"}, {\"y\": 0.4424147703771004, \"y_pred\": 0.9277159363149418, \"cat\": \"I3\"}, {\"y\": 1.085877806903644, \"y_pred\": 0.9277159363149418, \"cat\": \"I3\"}, {\"y\": 19.911729488607193, \"y_pred\": 10.864725410506214, \"cat\": \"G2\"}, {\"y\": 9.802334928007546, \"y_pred\": 10.864725410506214, \"cat\": \"B1\"}, {\"y\": 1.664311622855744, \"y_pred\": 10.864725410506214, \"cat\": \"F3\"}, {\"y\": 20.421593642635532, \"y_pred\": 10.864725410506214, \"cat\": \"F2\"}, {\"y\": 9.98216105314478, \"y_pred\": 10.864725410506214, \"cat\": \"A1\"}, {\"y\": 20.930000007112124, \"y_pred\": 20.096333813940596, \"cat\": \"J2\"}, {\"y\": 19.417497727411746, \"y_pred\": 10.864725410506214, \"cat\": \"B2\"}, {\"y\": 1.945429826930148, \"y_pred\": 10.864725410506214, \"cat\": \"E3\"}, {\"y\": 0.22603377781250344, \"y_pred\": 0.9277159363149418, \"cat\": \"I3\"}, {\"y\": 19.279814661304854, \"y_pred\": 10.864725410506214, \"cat\": \"A2\"}, {\"y\": 10.755177382256774, \"y_pred\": 10.864725410506214, \"cat\": \"A1\"}, {\"y\": 0.7185365516022681, \"y_pred\": 0.9277159363149418, \"cat\": \"I3\"}, {\"y\": 1.0828703070700931, \"y_pred\": 0.9277159363149418, \"cat\": \"I3\"}, {\"y\": 10.745003717769139, \"y_pred\": 10.864725410506214, \"cat\": \"F1\"}, {\"y\": 10.090159309166276, \"y_pred\": 10.864725410506214, \"cat\": \"C1\"}, {\"y\": 1.8603868675654076, \"y_pred\": 5.192070597939706, \"cat\": \"H3\"}, {\"y\": 9.2892849125925, \"y_pred\": 10.864725410506214, \"cat\": \"F1\"}, {\"y\": 10.11446547663557, \"y_pred\": 10.864725410506214, \"cat\": \"B1\"}, {\"y\": 10.534684365221295, \"y_pred\": 10.864725410506214, \"cat\": \"D1\"}, {\"y\": 9.737570318394566, \"y_pred\": 5.192070597939706, \"cat\": \"I1\"}, {\"y\": 0.7794377721135248, \"y_pred\": 10.864725410506214, \"cat\": \"A3\"}, {\"y\": 0.032730307384333246, \"y_pred\": 0.9277159363149418, \"cat\": \"I3\"}, {\"y\": 20.399302190432305, \"y_pred\": 10.864725410506214, \"cat\": \"D2\"}, {\"y\": 10.795565075222658, \"y_pred\": 10.864725410506214, \"cat\": \"G1\"}, {\"y\": 20.343020418232943, \"y_pred\": 10.864725410506214, \"cat\": \"F2\"}]}}, {\"mode\": \"vega-lite\"});\n",
       "</script>"
      ],
      "text/plain": [
       "alt.Chart(...)"
      ]
     },
     "execution_count": 22,
     "metadata": {},
     "output_type": "execute_result"
    }
   ],
   "source": [
    "create_scatter(source_oe)"
   ]
  },
  {
   "cell_type": "code",
   "execution_count": 23,
   "id": "10299f36-b685-4ab3-bc6e-1ce207894ec0",
   "metadata": {
    "execution": {
     "iopub.execute_input": "2022-03-24T14:13:10.519173Z",
     "iopub.status.busy": "2022-03-24T14:13:10.519049Z",
     "iopub.status.idle": "2022-03-24T14:13:10.578950Z",
     "shell.execute_reply": "2022-03-24T14:13:10.578038Z",
     "shell.execute_reply.started": "2022-03-24T14:13:10.519157Z"
    },
    "tags": []
   },
   "outputs": [
    {
     "data": {
      "image/svg+xml": [
       "<?xml version=\"1.0\" encoding=\"UTF-8\" standalone=\"no\"?>\n",
       "<!DOCTYPE svg PUBLIC \"-//W3C//DTD SVG 1.1//EN\"\n",
       " \"http://www.w3.org/Graphics/SVG/1.1/DTD/svg11.dtd\">\n",
       "<!-- Generated by graphviz version 2.49.1 (20211004.0028)\n",
       " -->\n",
       "<!-- Title: Tree Pages: 1 -->\n",
       "<svg width=\"891pt\" height=\"581pt\"\n",
       " viewBox=\"0.00 0.00 890.50 581.00\" xmlns=\"http://www.w3.org/2000/svg\" xmlns:xlink=\"http://www.w3.org/1999/xlink\">\n",
       "<g id=\"graph0\" class=\"graph\" transform=\"scale(1 1) rotate(0) translate(4 577)\">\n",
       "<title>Tree</title>\n",
       "<polygon fill=\"white\" stroke=\"transparent\" points=\"-4,4 -4,-577 886.5,-577 886.5,4 -4,4\"/>\n",
       "<!-- 0 -->\n",
       "<g id=\"node1\" class=\"node\">\n",
       "<title>0</title>\n",
       "<polygon fill=\"#f2c29f\" stroke=\"black\" points=\"791.5,-573 597.5,-573 597.5,-505 791.5,-505 791.5,-573\"/>\n",
       "<text text-anchor=\"middle\" x=\"694.5\" y=\"-557.8\" font-family=\"Helvetica,sans-Serif\" font-size=\"14.00\">ordinal_encoded &lt;= 28.5</text>\n",
       "<text text-anchor=\"middle\" x=\"694.5\" y=\"-542.8\" font-family=\"Helvetica,sans-Serif\" font-size=\"14.00\">squared_error = 62.553</text>\n",
       "<text text-anchor=\"middle\" x=\"694.5\" y=\"-527.8\" font-family=\"Helvetica,sans-Serif\" font-size=\"14.00\">samples = 800</text>\n",
       "<text text-anchor=\"middle\" x=\"694.5\" y=\"-512.8\" font-family=\"Helvetica,sans-Serif\" font-size=\"14.00\">value = 10.252</text>\n",
       "</g>\n",
       "<!-- 1 -->\n",
       "<g id=\"node2\" class=\"node\">\n",
       "<title>1</title>\n",
       "<polygon fill=\"#f2c09b\" stroke=\"black\" points=\"690.5,-469 496.5,-469 496.5,-401 690.5,-401 690.5,-469\"/>\n",
       "<text text-anchor=\"middle\" x=\"593.5\" y=\"-453.8\" font-family=\"Helvetica,sans-Serif\" font-size=\"14.00\">ordinal_encoded &lt;= 27.5</text>\n",
       "<text text-anchor=\"middle\" x=\"593.5\" y=\"-438.8\" font-family=\"Helvetica,sans-Serif\" font-size=\"14.00\">squared_error = 61.579</text>\n",
       "<text text-anchor=\"middle\" x=\"593.5\" y=\"-423.8\" font-family=\"Helvetica,sans-Serif\" font-size=\"14.00\">samples = 773</text>\n",
       "<text text-anchor=\"middle\" x=\"593.5\" y=\"-408.8\" font-family=\"Helvetica,sans-Serif\" font-size=\"14.00\">value = 10.578</text>\n",
       "</g>\n",
       "<!-- 0&#45;&gt;1 -->\n",
       "<g id=\"edge1\" class=\"edge\">\n",
       "<title>0&#45;&gt;1</title>\n",
       "<path fill=\"none\" stroke=\"black\" d=\"M661.71,-504.88C652.8,-495.89 643.05,-486.04 633.78,-476.68\"/>\n",
       "<polygon fill=\"black\" stroke=\"black\" points=\"636,-473.94 626.47,-469.3 631.02,-478.87 636,-473.94\"/>\n",
       "<text text-anchor=\"middle\" x=\"626.35\" y=\"-490.6\" font-family=\"Helvetica,sans-Serif\" font-size=\"14.00\">True</text>\n",
       "</g>\n",
       "<!-- 12 -->\n",
       "<g id=\"node13\" class=\"node\">\n",
       "<title>12</title>\n",
       "<polygon fill=\"#ffffff\" stroke=\"black\" points=\"882.5,-461.5 708.5,-461.5 708.5,-408.5 882.5,-408.5 882.5,-461.5\"/>\n",
       "<text text-anchor=\"middle\" x=\"795.5\" y=\"-446.3\" font-family=\"Helvetica,sans-Serif\" font-size=\"14.00\">squared_error = 0.295</text>\n",
       "<text text-anchor=\"middle\" x=\"795.5\" y=\"-431.3\" font-family=\"Helvetica,sans-Serif\" font-size=\"14.00\">samples = 27</text>\n",
       "<text text-anchor=\"middle\" x=\"795.5\" y=\"-416.3\" font-family=\"Helvetica,sans-Serif\" font-size=\"14.00\">value = 0.918</text>\n",
       "</g>\n",
       "<!-- 0&#45;&gt;12 -->\n",
       "<g id=\"edge12\" class=\"edge\">\n",
       "<title>0&#45;&gt;12</title>\n",
       "<path fill=\"none\" stroke=\"black\" d=\"M727.29,-504.88C738.73,-493.34 751.55,-480.39 762.96,-468.86\"/>\n",
       "<polygon fill=\"black\" stroke=\"black\" points=\"765.68,-471.09 770.23,-461.52 760.71,-466.16 765.68,-471.09\"/>\n",
       "<text text-anchor=\"middle\" x=\"770.35\" y=\"-482.82\" font-family=\"Helvetica,sans-Serif\" font-size=\"14.00\">False</text>\n",
       "</g>\n",
       "<!-- 2 -->\n",
       "<g id=\"node3\" class=\"node\">\n",
       "<title>2</title>\n",
       "<polygon fill=\"#f2c29f\" stroke=\"black\" points=\"589.5,-365 395.5,-365 395.5,-297 589.5,-297 589.5,-365\"/>\n",
       "<text text-anchor=\"middle\" x=\"492.5\" y=\"-349.8\" font-family=\"Helvetica,sans-Serif\" font-size=\"14.00\">ordinal_encoded &lt;= 25.5</text>\n",
       "<text text-anchor=\"middle\" x=\"492.5\" y=\"-334.8\" font-family=\"Helvetica,sans-Serif\" font-size=\"14.00\">squared_error = 60.445</text>\n",
       "<text text-anchor=\"middle\" x=\"492.5\" y=\"-319.8\" font-family=\"Helvetica,sans-Serif\" font-size=\"14.00\">samples = 747</text>\n",
       "<text text-anchor=\"middle\" x=\"492.5\" y=\"-304.8\" font-family=\"Helvetica,sans-Serif\" font-size=\"14.00\">value = 10.247</text>\n",
       "</g>\n",
       "<!-- 1&#45;&gt;2 -->\n",
       "<g id=\"edge2\" class=\"edge\">\n",
       "<title>1&#45;&gt;2</title>\n",
       "<path fill=\"none\" stroke=\"black\" d=\"M560.71,-400.88C551.8,-391.89 542.05,-382.04 532.78,-372.68\"/>\n",
       "<polygon fill=\"black\" stroke=\"black\" points=\"535,-369.94 525.47,-365.3 530.02,-374.87 535,-369.94\"/>\n",
       "</g>\n",
       "<!-- 11 -->\n",
       "<g id=\"node12\" class=\"node\">\n",
       "<title>11</title>\n",
       "<polygon fill=\"#e58139\" stroke=\"black\" points=\"781.5,-357.5 607.5,-357.5 607.5,-304.5 781.5,-304.5 781.5,-357.5\"/>\n",
       "<text text-anchor=\"middle\" x=\"694.5\" y=\"-342.3\" font-family=\"Helvetica,sans-Serif\" font-size=\"14.00\">squared_error = 0.399</text>\n",
       "<text text-anchor=\"middle\" x=\"694.5\" y=\"-327.3\" font-family=\"Helvetica,sans-Serif\" font-size=\"14.00\">samples = 26</text>\n",
       "<text text-anchor=\"middle\" x=\"694.5\" y=\"-312.3\" font-family=\"Helvetica,sans-Serif\" font-size=\"14.00\">value = 20.096</text>\n",
       "</g>\n",
       "<!-- 1&#45;&gt;11 -->\n",
       "<g id=\"edge11\" class=\"edge\">\n",
       "<title>1&#45;&gt;11</title>\n",
       "<path fill=\"none\" stroke=\"black\" d=\"M626.29,-400.88C637.73,-389.34 650.55,-376.39 661.96,-364.86\"/>\n",
       "<polygon fill=\"black\" stroke=\"black\" points=\"664.68,-367.09 669.23,-357.52 659.71,-362.16 664.68,-367.09\"/>\n",
       "</g>\n",
       "<!-- 3 -->\n",
       "<g id=\"node4\" class=\"node\">\n",
       "<title>3</title>\n",
       "<polygon fill=\"#f2bf9a\" stroke=\"black\" points=\"483.5,-261 289.5,-261 289.5,-193 483.5,-193 483.5,-261\"/>\n",
       "<text text-anchor=\"middle\" x=\"386.5\" y=\"-245.8\" font-family=\"Helvetica,sans-Serif\" font-size=\"14.00\">ordinal_encoded &lt;= 24.5</text>\n",
       "<text text-anchor=\"middle\" x=\"386.5\" y=\"-230.8\" font-family=\"Helvetica,sans-Serif\" font-size=\"14.00\">squared_error = 61.857</text>\n",
       "<text text-anchor=\"middle\" x=\"386.5\" y=\"-215.8\" font-family=\"Helvetica,sans-Serif\" font-size=\"14.00\">samples = 684</text>\n",
       "<text text-anchor=\"middle\" x=\"386.5\" y=\"-200.8\" font-family=\"Helvetica,sans-Serif\" font-size=\"14.00\">value = 10.678</text>\n",
       "</g>\n",
       "<!-- 2&#45;&gt;3 -->\n",
       "<g id=\"edge3\" class=\"edge\">\n",
       "<title>2&#45;&gt;3</title>\n",
       "<path fill=\"none\" stroke=\"black\" d=\"M458.08,-296.88C448.64,-287.8 438.3,-277.85 428.48,-268.4\"/>\n",
       "<polygon fill=\"black\" stroke=\"black\" points=\"430.74,-265.71 421.11,-261.3 425.88,-270.76 430.74,-265.71\"/>\n",
       "</g>\n",
       "<!-- 8 -->\n",
       "<g id=\"node9\" class=\"node\">\n",
       "<title>8</title>\n",
       "<polygon fill=\"#f9e1cf\" stroke=\"black\" points=\"695.5,-261 501.5,-261 501.5,-193 695.5,-193 695.5,-261\"/>\n",
       "<text text-anchor=\"middle\" x=\"598.5\" y=\"-245.8\" font-family=\"Helvetica,sans-Serif\" font-size=\"14.00\">ordinal_encoded &lt;= 26.5</text>\n",
       "<text text-anchor=\"middle\" x=\"598.5\" y=\"-230.8\" font-family=\"Helvetica,sans-Serif\" font-size=\"14.00\">squared_error = 21.108</text>\n",
       "<text text-anchor=\"middle\" x=\"598.5\" y=\"-215.8\" font-family=\"Helvetica,sans-Serif\" font-size=\"14.00\">samples = 63</text>\n",
       "<text text-anchor=\"middle\" x=\"598.5\" y=\"-200.8\" font-family=\"Helvetica,sans-Serif\" font-size=\"14.00\">value = 5.558</text>\n",
       "</g>\n",
       "<!-- 2&#45;&gt;8 -->\n",
       "<g id=\"edge8\" class=\"edge\">\n",
       "<title>2&#45;&gt;8</title>\n",
       "<path fill=\"none\" stroke=\"black\" d=\"M526.92,-296.88C536.36,-287.8 546.7,-277.85 556.52,-268.4\"/>\n",
       "<polygon fill=\"black\" stroke=\"black\" points=\"559.12,-270.76 563.89,-261.3 554.26,-265.71 559.12,-270.76\"/>\n",
       "</g>\n",
       "<!-- 4 -->\n",
       "<g id=\"node5\" class=\"node\">\n",
       "<title>4</title>\n",
       "<polygon fill=\"#f2c19e\" stroke=\"black\" points=\"286.5,-157 92.5,-157 92.5,-89 286.5,-89 286.5,-157\"/>\n",
       "<text text-anchor=\"middle\" x=\"189.5\" y=\"-141.8\" font-family=\"Helvetica,sans-Serif\" font-size=\"14.00\">ordinal_encoded &lt;= 22.5</text>\n",
       "<text text-anchor=\"middle\" x=\"189.5\" y=\"-126.8\" font-family=\"Helvetica,sans-Serif\" font-size=\"14.00\">squared_error = 60.953</text>\n",
       "<text text-anchor=\"middle\" x=\"189.5\" y=\"-111.8\" font-family=\"Helvetica,sans-Serif\" font-size=\"14.00\">samples = 661</text>\n",
       "<text text-anchor=\"middle\" x=\"189.5\" y=\"-96.8\" font-family=\"Helvetica,sans-Serif\" font-size=\"14.00\">value = 10.358</text>\n",
       "</g>\n",
       "<!-- 3&#45;&gt;4 -->\n",
       "<g id=\"edge4\" class=\"edge\">\n",
       "<title>3&#45;&gt;4</title>\n",
       "<path fill=\"none\" stroke=\"black\" d=\"M322.54,-192.88C303.35,-182.95 282.15,-171.97 262.42,-161.76\"/>\n",
       "<polygon fill=\"black\" stroke=\"black\" points=\"263.97,-158.61 253.48,-157.12 260.75,-164.83 263.97,-158.61\"/>\n",
       "</g>\n",
       "<!-- 7 -->\n",
       "<g id=\"node8\" class=\"node\">\n",
       "<title>7</title>\n",
       "<polygon fill=\"#e5823b\" stroke=\"black\" points=\"478.5,-149.5 304.5,-149.5 304.5,-96.5 478.5,-96.5 478.5,-149.5\"/>\n",
       "<text text-anchor=\"middle\" x=\"391.5\" y=\"-134.3\" font-family=\"Helvetica,sans-Serif\" font-size=\"14.00\">squared_error = 0.314</text>\n",
       "<text text-anchor=\"middle\" x=\"391.5\" y=\"-119.3\" font-family=\"Helvetica,sans-Serif\" font-size=\"14.00\">samples = 23</text>\n",
       "<text text-anchor=\"middle\" x=\"391.5\" y=\"-104.3\" font-family=\"Helvetica,sans-Serif\" font-size=\"14.00\">value = 19.876</text>\n",
       "</g>\n",
       "<!-- 3&#45;&gt;7 -->\n",
       "<g id=\"edge7\" class=\"edge\">\n",
       "<title>3&#45;&gt;7</title>\n",
       "<path fill=\"none\" stroke=\"black\" d=\"M388.12,-192.88C388.65,-182.22 389.23,-170.35 389.76,-159.52\"/>\n",
       "<polygon fill=\"black\" stroke=\"black\" points=\"393.26,-159.68 390.25,-149.52 386.26,-159.34 393.26,-159.68\"/>\n",
       "</g>\n",
       "<!-- 5 -->\n",
       "<g id=\"node6\" class=\"node\">\n",
       "<title>5</title>\n",
       "<polygon fill=\"#f2be98\" stroke=\"black\" points=\"183,-53 0,-53 0,0 183,0 183,-53\"/>\n",
       "<text text-anchor=\"middle\" x=\"91.5\" y=\"-37.8\" font-family=\"Helvetica,sans-Serif\" font-size=\"14.00\">squared_error = 62.014</text>\n",
       "<text text-anchor=\"middle\" x=\"91.5\" y=\"-22.8\" font-family=\"Helvetica,sans-Serif\" font-size=\"14.00\">samples = 602</text>\n",
       "<text text-anchor=\"middle\" x=\"91.5\" y=\"-7.8\" font-family=\"Helvetica,sans-Serif\" font-size=\"14.00\">value = 10.865</text>\n",
       "</g>\n",
       "<!-- 4&#45;&gt;5 -->\n",
       "<g id=\"edge5\" class=\"edge\">\n",
       "<title>4&#45;&gt;5</title>\n",
       "<path fill=\"none\" stroke=\"black\" d=\"M155.22,-88.95C145.64,-79.71 135.23,-69.67 125.66,-60.44\"/>\n",
       "<polygon fill=\"black\" stroke=\"black\" points=\"127.82,-57.66 118.19,-53.24 122.96,-62.7 127.82,-57.66\"/>\n",
       "</g>\n",
       "<!-- 6 -->\n",
       "<g id=\"node7\" class=\"node\">\n",
       "<title>6</title>\n",
       "<polygon fill=\"#f9e3d3\" stroke=\"black\" points=\"375.5,-53 201.5,-53 201.5,0 375.5,0 375.5,-53\"/>\n",
       "<text text-anchor=\"middle\" x=\"288.5\" y=\"-37.8\" font-family=\"Helvetica,sans-Serif\" font-size=\"14.00\">squared_error = 20.82</text>\n",
       "<text text-anchor=\"middle\" x=\"288.5\" y=\"-22.8\" font-family=\"Helvetica,sans-Serif\" font-size=\"14.00\">samples = 59</text>\n",
       "<text text-anchor=\"middle\" x=\"288.5\" y=\"-7.8\" font-family=\"Helvetica,sans-Serif\" font-size=\"14.00\">value = 5.192</text>\n",
       "</g>\n",
       "<!-- 4&#45;&gt;6 -->\n",
       "<g id=\"edge6\" class=\"edge\">\n",
       "<title>4&#45;&gt;6</title>\n",
       "<path fill=\"none\" stroke=\"black\" d=\"M224.13,-88.95C233.9,-79.62 244.53,-69.47 254.28,-60.16\"/>\n",
       "<polygon fill=\"black\" stroke=\"black\" points=\"256.72,-62.67 261.54,-53.24 251.89,-57.61 256.72,-62.67\"/>\n",
       "</g>\n",
       "<!-- 9 -->\n",
       "<g id=\"node10\" class=\"node\">\n",
       "<title>9</title>\n",
       "<polygon fill=\"#ffffff\" stroke=\"black\" points=\"680.5,-149.5 506.5,-149.5 506.5,-96.5 680.5,-96.5 680.5,-149.5\"/>\n",
       "<text text-anchor=\"middle\" x=\"593.5\" y=\"-134.3\" font-family=\"Helvetica,sans-Serif\" font-size=\"14.00\">squared_error = 0.364</text>\n",
       "<text text-anchor=\"middle\" x=\"593.5\" y=\"-119.3\" font-family=\"Helvetica,sans-Serif\" font-size=\"14.00\">samples = 31</text>\n",
       "<text text-anchor=\"middle\" x=\"593.5\" y=\"-104.3\" font-family=\"Helvetica,sans-Serif\" font-size=\"14.00\">value = 0.928</text>\n",
       "</g>\n",
       "<!-- 8&#45;&gt;9 -->\n",
       "<g id=\"edge9\" class=\"edge\">\n",
       "<title>8&#45;&gt;9</title>\n",
       "<path fill=\"none\" stroke=\"black\" d=\"M596.88,-192.88C596.35,-182.22 595.77,-170.35 595.24,-159.52\"/>\n",
       "<polygon fill=\"black\" stroke=\"black\" points=\"598.74,-159.34 594.75,-149.52 591.74,-159.68 598.74,-159.34\"/>\n",
       "</g>\n",
       "<!-- 10 -->\n",
       "<g id=\"node11\" class=\"node\">\n",
       "<title>10</title>\n",
       "<polygon fill=\"#f3c3a1\" stroke=\"black\" points=\"872.5,-149.5 698.5,-149.5 698.5,-96.5 872.5,-96.5 872.5,-149.5\"/>\n",
       "<text text-anchor=\"middle\" x=\"785.5\" y=\"-134.3\" font-family=\"Helvetica,sans-Serif\" font-size=\"14.00\">squared_error = 0.312</text>\n",
       "<text text-anchor=\"middle\" x=\"785.5\" y=\"-119.3\" font-family=\"Helvetica,sans-Serif\" font-size=\"14.00\">samples = 32</text>\n",
       "<text text-anchor=\"middle\" x=\"785.5\" y=\"-104.3\" font-family=\"Helvetica,sans-Serif\" font-size=\"14.00\">value = 10.044</text>\n",
       "</g>\n",
       "<!-- 8&#45;&gt;10 -->\n",
       "<g id=\"edge10\" class=\"edge\">\n",
       "<title>8&#45;&gt;10</title>\n",
       "<path fill=\"none\" stroke=\"black\" d=\"M659.21,-192.88C681.9,-180.51 707.53,-166.53 729.74,-154.41\"/>\n",
       "<polygon fill=\"black\" stroke=\"black\" points=\"731.61,-157.38 738.71,-149.52 728.26,-151.24 731.61,-157.38\"/>\n",
       "</g>\n",
       "</g>\n",
       "</svg>\n"
      ],
      "text/plain": [
       "<graphviz.sources.Source at 0x7f5915e0e050>"
      ]
     },
     "execution_count": 23,
     "metadata": {},
     "output_type": "execute_result"
    }
   ],
   "source": [
    "visualize_dec_tree(dec_tree)"
   ]
  },
  {
   "cell_type": "markdown",
   "id": "ed578947-5252-465c-9211-87e5660eea1f",
   "metadata": {
    "execution": {
     "iopub.execute_input": "2022-03-17T14:31:53.411538Z",
     "iopub.status.busy": "2022-03-17T14:31:53.410868Z",
     "iopub.status.idle": "2022-03-17T14:31:53.415314Z",
     "shell.execute_reply": "2022-03-17T14:31:53.414558Z",
     "shell.execute_reply.started": "2022-03-17T14:31:53.411491Z"
    },
    "tags": []
   },
   "source": [
    "#### Can we validate the plot?"
   ]
  },
  {
   "cell_type": "code",
   "execution_count": 24,
   "id": "098911df-4da1-4982-b6e6-53c16514cadc",
   "metadata": {
    "execution": {
     "iopub.execute_input": "2022-03-24T14:13:10.580301Z",
     "iopub.status.busy": "2022-03-24T14:13:10.580146Z",
     "iopub.status.idle": "2022-03-24T14:13:10.587819Z",
     "shell.execute_reply": "2022-03-24T14:13:10.587152Z",
     "shell.execute_reply.started": "2022-03-24T14:13:10.580280Z"
    },
    "tags": []
   },
   "outputs": [
    {
     "data": {
      "text/plain": [
       "10.577873475790813"
      ]
     },
     "execution_count": 24,
     "metadata": {},
     "output_type": "execute_result"
    }
   ],
   "source": [
    "colname = 'ordinal_encoded'\n",
    "split_val = 28.5\n",
    "\n",
    "y_train.loc[X_train[X_train[colname] <= split_val].index]['y'].mean()"
   ]
  },
  {
   "cell_type": "code",
   "execution_count": 25,
   "id": "0738b9b9-6700-41ae-85e3-12d9fdee4f82",
   "metadata": {
    "execution": {
     "iopub.execute_input": "2022-03-24T14:13:10.589089Z",
     "iopub.status.busy": "2022-03-24T14:13:10.588839Z",
     "iopub.status.idle": "2022-03-24T14:13:10.592559Z",
     "shell.execute_reply": "2022-03-24T14:13:10.591843Z",
     "shell.execute_reply.started": "2022-03-24T14:13:10.589069Z"
    }
   },
   "outputs": [],
   "source": [
    "def get_dec_tree_pred_simple(colname, split_val):\n",
    "    return y_train.loc[X_train[X_train[colname] <= split_val].index]['y'].mean()"
   ]
  },
  {
   "cell_type": "markdown",
   "id": "7d2b0d38-7dac-43f4-90c3-1f3a0dc4b8ce",
   "metadata": {
    "execution": {
     "iopub.execute_input": "2022-03-07T18:48:29.266995Z",
     "iopub.status.busy": "2022-03-07T18:48:29.266769Z",
     "iopub.status.idle": "2022-03-07T18:48:29.271581Z",
     "shell.execute_reply": "2022-03-07T18:48:29.270336Z",
     "shell.execute_reply.started": "2022-03-07T18:48:29.266974Z"
    },
    "tags": []
   },
   "source": [
    "### Check tradeoff"
   ]
  },
  {
   "cell_type": "code",
   "execution_count": 26,
   "id": "765151ac-adab-4723-b94f-b91b66477063",
   "metadata": {
    "execution": {
     "iopub.execute_input": "2022-03-24T14:13:10.593642Z",
     "iopub.status.busy": "2022-03-24T14:13:10.593514Z",
     "iopub.status.idle": "2022-03-24T14:13:10.716160Z",
     "shell.execute_reply": "2022-03-24T14:13:10.715341Z",
     "shell.execute_reply.started": "2022-03-24T14:13:10.593626Z"
    },
    "tags": []
   },
   "outputs": [],
   "source": [
    "rmses_oe = [dec_tree_rmse(params={\"max_depth\": i}, x_colnames=[x_colnames_oe])[0] for i in max_depths]"
   ]
  },
  {
   "cell_type": "code",
   "execution_count": 27,
   "id": "fa495e6e-c783-4d0a-ba6b-3defca4f1b12",
   "metadata": {
    "execution": {
     "iopub.execute_input": "2022-03-24T14:13:10.717099Z",
     "iopub.status.busy": "2022-03-24T14:13:10.716971Z",
     "iopub.status.idle": "2022-03-24T14:13:10.768003Z",
     "shell.execute_reply": "2022-03-24T14:13:10.767308Z",
     "shell.execute_reply.started": "2022-03-24T14:13:10.717083Z"
    },
    "tags": []
   },
   "outputs": [
    {
     "data": {
      "text/html": [
       "\n",
       "<div id=\"altair-viz-8c3faa31e32a49429a077961458b1320\"></div>\n",
       "<script type=\"text/javascript\">\n",
       "  var VEGA_DEBUG = (typeof VEGA_DEBUG == \"undefined\") ? {} : VEGA_DEBUG;\n",
       "  (function(spec, embedOpt){\n",
       "    let outputDiv = document.currentScript.previousElementSibling;\n",
       "    if (outputDiv.id !== \"altair-viz-8c3faa31e32a49429a077961458b1320\") {\n",
       "      outputDiv = document.getElementById(\"altair-viz-8c3faa31e32a49429a077961458b1320\");\n",
       "    }\n",
       "    const paths = {\n",
       "      \"vega\": \"https://cdn.jsdelivr.net/npm//vega@5?noext\",\n",
       "      \"vega-lib\": \"https://cdn.jsdelivr.net/npm//vega-lib?noext\",\n",
       "      \"vega-lite\": \"https://cdn.jsdelivr.net/npm//vega-lite@4.17.0?noext\",\n",
       "      \"vega-embed\": \"https://cdn.jsdelivr.net/npm//vega-embed@6?noext\",\n",
       "    };\n",
       "\n",
       "    function maybeLoadScript(lib, version) {\n",
       "      var key = `${lib.replace(\"-\", \"\")}_version`;\n",
       "      return (VEGA_DEBUG[key] == version) ?\n",
       "        Promise.resolve(paths[lib]) :\n",
       "        new Promise(function(resolve, reject) {\n",
       "          var s = document.createElement('script');\n",
       "          document.getElementsByTagName(\"head\")[0].appendChild(s);\n",
       "          s.async = true;\n",
       "          s.onload = () => {\n",
       "            VEGA_DEBUG[key] = version;\n",
       "            return resolve(paths[lib]);\n",
       "          };\n",
       "          s.onerror = () => reject(`Error loading script: ${paths[lib]}`);\n",
       "          s.src = paths[lib];\n",
       "        });\n",
       "    }\n",
       "\n",
       "    function showError(err) {\n",
       "      outputDiv.innerHTML = `<div class=\"error\" style=\"color:red;\">${err}</div>`;\n",
       "      throw err;\n",
       "    }\n",
       "\n",
       "    function displayChart(vegaEmbed) {\n",
       "      vegaEmbed(outputDiv, spec, embedOpt)\n",
       "        .catch(err => showError(`Javascript Error: ${err.message}<br>This usually means there's a typo in your chart specification. See the javascript console for the full traceback.`));\n",
       "    }\n",
       "\n",
       "    if(typeof define === \"function\" && define.amd) {\n",
       "      requirejs.config({paths});\n",
       "      require([\"vega-embed\"], displayChart, err => showError(`Error loading script: ${err.message}`));\n",
       "    } else {\n",
       "      maybeLoadScript(\"vega\", \"5\")\n",
       "        .then(() => maybeLoadScript(\"vega-lite\", \"4.17.0\"))\n",
       "        .then(() => maybeLoadScript(\"vega-embed\", \"6\"))\n",
       "        .catch(showError)\n",
       "        .then(() => displayChart(vegaEmbed));\n",
       "    }\n",
       "  })({\"config\": {\"view\": {\"continuousWidth\": 400, \"continuousHeight\": 300}}, \"data\": {\"name\": \"data-81fbc48f93e505b8e18bc6fdc023b91f\"}, \"mark\": \"line\", \"encoding\": {\"x\": {\"field\": \"max_depth\", \"type\": \"quantitative\"}, \"y\": {\"field\": \"rmse\", \"type\": \"quantitative\"}}, \"height\": 500, \"selection\": {\"selector002\": {\"type\": \"interval\", \"bind\": \"scales\", \"encodings\": [\"x\", \"y\"]}}, \"width\": 800, \"$schema\": \"https://vega.github.io/schema/vega-lite/v4.17.0.json\", \"datasets\": {\"data-81fbc48f93e505b8e18bc6fdc023b91f\": [{\"max_depth\": 1, \"rmse\": 7.454995124194331}, {\"max_depth\": 2, \"rmse\": 7.312623288976131}, {\"max_depth\": 3, \"rmse\": 7.077140845824609}, {\"max_depth\": 4, \"rmse\": 6.818578627107829}, {\"max_depth\": 5, \"rmse\": 6.607239167683132}, {\"max_depth\": 6, \"rmse\": 6.253142922343629}, {\"max_depth\": 7, \"rmse\": 6.168752978185336}, {\"max_depth\": 8, \"rmse\": 5.877184990287197}, {\"max_depth\": 9, \"rmse\": 5.639486075587329}, {\"max_depth\": 10, \"rmse\": 5.3911978988944655}, {\"max_depth\": 11, \"rmse\": 5.116316946614891}, {\"max_depth\": 12, \"rmse\": 4.790043397954038}, {\"max_depth\": 13, \"rmse\": 4.537697895677263}, {\"max_depth\": 14, \"rmse\": 3.9622292135197936}, {\"max_depth\": 15, \"rmse\": 3.805332631693699}, {\"max_depth\": 16, \"rmse\": 3.247175368634268}, {\"max_depth\": 17, \"rmse\": 3.114224665031639}, {\"max_depth\": 18, \"rmse\": 2.4415832708692817}, {\"max_depth\": 19, \"rmse\": 1.6671699772602322}, {\"max_depth\": 20, \"rmse\": 0.5613899068648952}, {\"max_depth\": 21, \"rmse\": 0.5613899068648952}, {\"max_depth\": 22, \"rmse\": 0.5613899068648952}, {\"max_depth\": 23, \"rmse\": 0.5613899068648952}, {\"max_depth\": 24, \"rmse\": 0.5613899068648952}, {\"max_depth\": 25, \"rmse\": 0.5613899068648952}, {\"max_depth\": 26, \"rmse\": 0.5613899068648952}, {\"max_depth\": 27, \"rmse\": 0.5613899068648952}, {\"max_depth\": 28, \"rmse\": 0.5613899068648952}, {\"max_depth\": 29, \"rmse\": 0.5613899068648952}]}}, {\"mode\": \"vega-lite\"});\n",
       "</script>"
      ],
      "text/plain": [
       "alt.Chart(...)"
      ]
     },
     "execution_count": 27,
     "metadata": {},
     "output_type": "execute_result"
    }
   ],
   "source": [
    "plot_max_depth_rmse(max_depths, rmses_oe)"
   ]
  },
  {
   "cell_type": "markdown",
   "id": "67f8e7b2-e87e-49b8-aa60-57b2f02ad6f9",
   "metadata": {},
   "source": [
    "## One-hot encoding"
   ]
  },
  {
   "cell_type": "code",
   "execution_count": 28,
   "id": "42cf0782-8f7f-496c-89bc-ef708dd5b48e",
   "metadata": {
    "execution": {
     "iopub.execute_input": "2022-03-24T14:13:10.769007Z",
     "iopub.status.busy": "2022-03-24T14:13:10.768872Z",
     "iopub.status.idle": "2022-03-24T14:13:10.772442Z",
     "shell.execute_reply": "2022-03-24T14:13:10.771776Z",
     "shell.execute_reply.started": "2022-03-24T14:13:10.768990Z"
    },
    "tags": []
   },
   "outputs": [],
   "source": [
    "oh = OneHotEncoder(drop='first', sparse=False, dtype=np.int8)"
   ]
  },
  {
   "cell_type": "code",
   "execution_count": 29,
   "id": "afffe626-d3a6-48cc-b5da-18aa7b7a1934",
   "metadata": {
    "execution": {
     "iopub.execute_input": "2022-03-24T14:13:10.773369Z",
     "iopub.status.busy": "2022-03-24T14:13:10.773245Z",
     "iopub.status.idle": "2022-03-24T14:13:10.791834Z",
     "shell.execute_reply": "2022-03-24T14:13:10.791143Z",
     "shell.execute_reply.started": "2022-03-24T14:13:10.773353Z"
    },
    "tags": []
   },
   "outputs": [],
   "source": [
    "X_train[oh.categories_[0][1:]] = oh.fit_transform(X_train['cat'].values.reshape(-1, 1))\n",
    "x_colnames_oh = [str(f) for f in oh.categories_[0][1:]]\n",
    "\n",
    "X_test[x_colnames_oh] = oh.transform(X_test['cat'].values.reshape(-1, 1))"
   ]
  },
  {
   "cell_type": "markdown",
   "id": "c2a7fada-0382-40b5-a4d3-42dcfc8d953b",
   "metadata": {},
   "source": [
    "### Check one tree"
   ]
  },
  {
   "cell_type": "code",
   "execution_count": 30,
   "id": "b27b6a6a-5d0d-45e5-ab94-d24cda4a9878",
   "metadata": {
    "execution": {
     "iopub.execute_input": "2022-03-24T14:13:10.793048Z",
     "iopub.status.busy": "2022-03-24T14:13:10.792647Z",
     "iopub.status.idle": "2022-03-24T14:13:10.801940Z",
     "shell.execute_reply": "2022-03-24T14:13:10.801284Z",
     "shell.execute_reply.started": "2022-03-24T14:13:10.793025Z"
    },
    "tags": []
   },
   "outputs": [],
   "source": [
    "rmse_oh, source_oh, dec_tree_oh = dec_tree_rmse(\n",
    "    params={\"max_depth\": 5}, x_colnames=x_colnames_oh\n",
    ")"
   ]
  },
  {
   "cell_type": "code",
   "execution_count": 31,
   "id": "62a84e1d-1158-487c-b1b5-42b098a86eda",
   "metadata": {
    "execution": {
     "iopub.execute_input": "2022-03-24T14:13:10.803159Z",
     "iopub.status.busy": "2022-03-24T14:13:10.802750Z",
     "iopub.status.idle": "2022-03-24T14:13:10.807156Z",
     "shell.execute_reply": "2022-03-24T14:13:10.806521Z",
     "shell.execute_reply.started": "2022-03-24T14:13:10.803135Z"
    },
    "tags": []
   },
   "outputs": [
    {
     "data": {
      "text/plain": [
       "5.957768157967098"
      ]
     },
     "execution_count": 31,
     "metadata": {},
     "output_type": "execute_result"
    }
   ],
   "source": [
    "rmse_oh"
   ]
  },
  {
   "cell_type": "code",
   "execution_count": 32,
   "id": "adb3671a-1936-41aa-8e57-add9612c5c13",
   "metadata": {
    "execution": {
     "iopub.execute_input": "2022-03-24T14:13:10.808421Z",
     "iopub.status.busy": "2022-03-24T14:13:10.808122Z",
     "iopub.status.idle": "2022-03-24T14:13:10.871329Z",
     "shell.execute_reply": "2022-03-24T14:13:10.870633Z",
     "shell.execute_reply.started": "2022-03-24T14:13:10.808399Z"
    },
    "tags": []
   },
   "outputs": [
    {
     "data": {
      "text/html": [
       "\n",
       "<div id=\"altair-viz-5da1b1e269b54e4ea32ca2f2f9868737\"></div>\n",
       "<script type=\"text/javascript\">\n",
       "  var VEGA_DEBUG = (typeof VEGA_DEBUG == \"undefined\") ? {} : VEGA_DEBUG;\n",
       "  (function(spec, embedOpt){\n",
       "    let outputDiv = document.currentScript.previousElementSibling;\n",
       "    if (outputDiv.id !== \"altair-viz-5da1b1e269b54e4ea32ca2f2f9868737\") {\n",
       "      outputDiv = document.getElementById(\"altair-viz-5da1b1e269b54e4ea32ca2f2f9868737\");\n",
       "    }\n",
       "    const paths = {\n",
       "      \"vega\": \"https://cdn.jsdelivr.net/npm//vega@5?noext\",\n",
       "      \"vega-lib\": \"https://cdn.jsdelivr.net/npm//vega-lib?noext\",\n",
       "      \"vega-lite\": \"https://cdn.jsdelivr.net/npm//vega-lite@4.17.0?noext\",\n",
       "      \"vega-embed\": \"https://cdn.jsdelivr.net/npm//vega-embed@6?noext\",\n",
       "    };\n",
       "\n",
       "    function maybeLoadScript(lib, version) {\n",
       "      var key = `${lib.replace(\"-\", \"\")}_version`;\n",
       "      return (VEGA_DEBUG[key] == version) ?\n",
       "        Promise.resolve(paths[lib]) :\n",
       "        new Promise(function(resolve, reject) {\n",
       "          var s = document.createElement('script');\n",
       "          document.getElementsByTagName(\"head\")[0].appendChild(s);\n",
       "          s.async = true;\n",
       "          s.onload = () => {\n",
       "            VEGA_DEBUG[key] = version;\n",
       "            return resolve(paths[lib]);\n",
       "          };\n",
       "          s.onerror = () => reject(`Error loading script: ${paths[lib]}`);\n",
       "          s.src = paths[lib];\n",
       "        });\n",
       "    }\n",
       "\n",
       "    function showError(err) {\n",
       "      outputDiv.innerHTML = `<div class=\"error\" style=\"color:red;\">${err}</div>`;\n",
       "      throw err;\n",
       "    }\n",
       "\n",
       "    function displayChart(vegaEmbed) {\n",
       "      vegaEmbed(outputDiv, spec, embedOpt)\n",
       "        .catch(err => showError(`Javascript Error: ${err.message}<br>This usually means there's a typo in your chart specification. See the javascript console for the full traceback.`));\n",
       "    }\n",
       "\n",
       "    if(typeof define === \"function\" && define.amd) {\n",
       "      requirejs.config({paths});\n",
       "      require([\"vega-embed\"], displayChart, err => showError(`Error loading script: ${err.message}`));\n",
       "    } else {\n",
       "      maybeLoadScript(\"vega\", \"5\")\n",
       "        .then(() => maybeLoadScript(\"vega-lite\", \"4.17.0\"))\n",
       "        .then(() => maybeLoadScript(\"vega-embed\", \"6\"))\n",
       "        .catch(showError)\n",
       "        .then(() => displayChart(vegaEmbed));\n",
       "    }\n",
       "  })({\"config\": {\"view\": {\"continuousWidth\": 400, \"continuousHeight\": 300}}, \"data\": {\"name\": \"data-c06a38f82212617a475fa59ef9b67d54\"}, \"mark\": {\"type\": \"circle\", \"size\": 60}, \"encoding\": {\"color\": {\"field\": \"cat\", \"type\": \"nominal\"}, \"tooltip\": {\"field\": \"cat\", \"type\": \"nominal\"}, \"x\": {\"field\": \"y\", \"scale\": {\"domain\": [-1.976271965441258, 22.96857500892925]}, \"type\": \"quantitative\"}, \"y\": {\"field\": \"y_pred\", \"scale\": {\"domain\": [-1.976271965441258, 22.96857500892925]}, \"type\": \"quantitative\"}}, \"height\": 500, \"selection\": {\"selector003\": {\"type\": \"interval\", \"bind\": \"scales\", \"encodings\": [\"x\", \"y\"]}}, \"width\": 800, \"$schema\": \"https://vega.github.io/schema/vega-lite/v4.17.0.json\", \"datasets\": {\"data-c06a38f82212617a475fa59ef9b67d54\": [{\"y\": 0.9708688385243336, \"y_pred\": 8.064225529927333, \"cat\": \"G3\"}, {\"y\": 1.5615528849742262, \"y_pred\": 8.064225529927333, \"cat\": \"H3\"}, {\"y\": 19.762355681020175, \"y_pred\": 8.064225529927333, \"cat\": \"E2\"}, {\"y\": 9.669818235290847, \"y_pred\": 8.064225529927333, \"cat\": \"G1\"}, {\"y\": 20.581437747153537, \"y_pred\": 8.064225529927333, \"cat\": \"E2\"}, {\"y\": 19.114769917943644, \"y_pred\": 8.064225529927333, \"cat\": \"A2\"}, {\"y\": 19.240079805181814, \"y_pred\": 8.064225529927333, \"cat\": \"A2\"}, {\"y\": 10.370929132428529, \"y_pred\": 8.064225529927333, \"cat\": \"A1\"}, {\"y\": 20.609629747639598, \"y_pred\": 8.064225529927333, \"cat\": \"J2\"}, {\"y\": 9.185411965211156, \"y_pred\": 8.064225529927333, \"cat\": \"J1\"}, {\"y\": 20.771135145302082, \"y_pred\": 20.13660865268227, \"cat\": \"D2\"}, {\"y\": 9.897906688835647, \"y_pred\": 8.064225529927333, \"cat\": \"I1\"}, {\"y\": 19.572515038433227, \"y_pred\": 20.13660865268227, \"cat\": \"D2\"}, {\"y\": 10.121699527559619, \"y_pred\": 8.064225529927333, \"cat\": \"I1\"}, {\"y\": 9.892287250926657, \"y_pred\": 8.064225529927333, \"cat\": \"H1\"}, {\"y\": 10.02938789145609, \"y_pred\": 8.064225529927333, \"cat\": \"A1\"}, {\"y\": 9.040243651268177, \"y_pred\": 8.064225529927333, \"cat\": \"H1\"}, {\"y\": 19.392430942113748, \"y_pred\": 20.007139565411833, \"cat\": \"B2\"}, {\"y\": 1.7685549154233273, \"y_pred\": 8.064225529927333, \"cat\": \"D3\"}, {\"y\": 20.915270646306908, \"y_pred\": 8.064225529927333, \"cat\": \"I2\"}, {\"y\": 1.1594739846577815, \"y_pred\": 8.064225529927333, \"cat\": \"E3\"}, {\"y\": 19.294671275810273, \"y_pred\": 19.9638477096974, \"cat\": \"H2\"}, {\"y\": 0.09239944296425806, \"y_pred\": 8.064225529927333, \"cat\": \"A3\"}, {\"y\": 1.8501313272642024, \"y_pred\": 8.064225529927333, \"cat\": \"E3\"}, {\"y\": 1.205664187139253, \"y_pred\": 8.064225529927333, \"cat\": \"G3\"}, {\"y\": 10.752694275026144, \"y_pred\": 8.064225529927333, \"cat\": \"I1\"}, {\"y\": 0.10053903516041696, \"y_pred\": 8.064225529927333, \"cat\": \"C3\"}, {\"y\": 9.295792104243384, \"y_pred\": 8.064225529927333, \"cat\": \"E1\"}, {\"y\": 1.8675027275916585, \"y_pred\": 8.064225529927333, \"cat\": \"D3\"}, {\"y\": 9.572761632023228, \"y_pred\": 8.064225529927333, \"cat\": \"H1\"}, {\"y\": 0.40206013448789246, \"y_pred\": 8.064225529927333, \"cat\": \"F3\"}, {\"y\": 20.00816431975963, \"y_pred\": 20.007139565411833, \"cat\": \"B2\"}, {\"y\": 1.8937030617473223, \"y_pred\": 8.064225529927333, \"cat\": \"E3\"}, {\"y\": 10.772909950705804, \"y_pred\": 8.064225529927333, \"cat\": \"D1\"}, {\"y\": 1.140221782934138, \"y_pred\": 8.064225529927333, \"cat\": \"J3\"}, {\"y\": 10.592858172694484, \"y_pred\": 8.064225529927333, \"cat\": \"J1\"}, {\"y\": 1.9932092808131794, \"y_pred\": 8.064225529927333, \"cat\": \"D3\"}, {\"y\": 19.411209284911298, \"y_pred\": 20.007139565411833, \"cat\": \"B2\"}, {\"y\": 9.212031295957575, \"y_pred\": 8.064225529927333, \"cat\": \"H1\"}, {\"y\": 9.851938306566382, \"y_pred\": 8.064225529927333, \"cat\": \"D1\"}, {\"y\": 19.082329276153228, \"y_pred\": 20.088051086404207, \"cat\": \"C2\"}, {\"y\": 0.25133708392386045, \"y_pred\": 8.064225529927333, \"cat\": \"G3\"}, {\"y\": 10.449132406732668, \"y_pred\": 8.064225529927333, \"cat\": \"B1\"}, {\"y\": 0.02372803455874206, \"y_pred\": 8.064225529927333, \"cat\": \"B3\"}, {\"y\": 0.5078446463642772, \"y_pred\": 8.064225529927333, \"cat\": \"D3\"}, {\"y\": 9.742117143822856, \"y_pred\": 8.064225529927333, \"cat\": \"B1\"}, {\"y\": 10.619462865008618, \"y_pred\": 8.064225529927333, \"cat\": \"A1\"}, {\"y\": 9.146858546371357, \"y_pred\": 8.064225529927333, \"cat\": \"F1\"}, {\"y\": 19.29218469876556, \"y_pred\": 19.9638477096974, \"cat\": \"H2\"}, {\"y\": 0.5688106243620701, \"y_pred\": 8.064225529927333, \"cat\": \"G3\"}, {\"y\": 9.240261892640017, \"y_pred\": 8.064225529927333, \"cat\": \"D1\"}, {\"y\": 0.9155483807690259, \"y_pred\": 8.064225529927333, \"cat\": \"J3\"}, {\"y\": 20.58010666857155, \"y_pred\": 20.13660865268227, \"cat\": \"D2\"}, {\"y\": 1.8957495440351315, \"y_pred\": 8.064225529927333, \"cat\": \"H3\"}, {\"y\": 0.9444710799769402, \"y_pred\": 8.064225529927333, \"cat\": \"I3\"}, {\"y\": 10.46111056186891, \"y_pred\": 8.064225529927333, \"cat\": \"G1\"}, {\"y\": 1.3351438955138328, \"y_pred\": 8.064225529927333, \"cat\": \"J3\"}, {\"y\": 19.450823647607095, \"y_pred\": 8.064225529927333, \"cat\": \"G2\"}, {\"y\": 0.39398350212066413, \"y_pred\": 8.064225529927333, \"cat\": \"D3\"}, {\"y\": 20.445918470430932, \"y_pred\": 8.064225529927333, \"cat\": \"A2\"}, {\"y\": 1.028333779664423, \"y_pred\": 8.064225529927333, \"cat\": \"E3\"}, {\"y\": 1.877798573555562, \"y_pred\": 8.064225529927333, \"cat\": \"C3\"}, {\"y\": 19.308754101789745, \"y_pred\": 20.069176657925905, \"cat\": \"F2\"}, {\"y\": 19.588911139392263, \"y_pred\": 20.088051086404207, \"cat\": \"C2\"}, {\"y\": 1.2696962852581346, \"y_pred\": 8.064225529927333, \"cat\": \"C3\"}, {\"y\": 1.748381206748827, \"y_pred\": 8.064225529927333, \"cat\": \"I3\"}, {\"y\": 0.2952976442514248, \"y_pred\": 8.064225529927333, \"cat\": \"D3\"}, {\"y\": 10.882186926184575, \"y_pred\": 8.064225529927333, \"cat\": \"H1\"}, {\"y\": 10.643587315971759, \"y_pred\": 8.064225529927333, \"cat\": \"F1\"}, {\"y\": 10.808109051869772, \"y_pred\": 8.064225529927333, \"cat\": \"H1\"}, {\"y\": 20.513153710881305, \"y_pred\": 20.007139565411833, \"cat\": \"B2\"}, {\"y\": 19.258830909026386, \"y_pred\": 20.088051086404207, \"cat\": \"C2\"}, {\"y\": 20.13782290165262, \"y_pred\": 8.064225529927333, \"cat\": \"G2\"}, {\"y\": 10.02600385267203, \"y_pred\": 8.064225529927333, \"cat\": \"D1\"}, {\"y\": 1.0078666530215015, \"y_pred\": 8.064225529927333, \"cat\": \"I3\"}, {\"y\": 0.8686705749826737, \"y_pred\": 8.064225529927333, \"cat\": \"J3\"}, {\"y\": 0.4594404220265076, \"y_pred\": 8.064225529927333, \"cat\": \"C3\"}, {\"y\": 1.6152014092601343, \"y_pred\": 8.064225529927333, \"cat\": \"H3\"}, {\"y\": 19.46784350351881, \"y_pred\": 8.064225529927333, \"cat\": \"I2\"}, {\"y\": 10.644613636108657, \"y_pred\": 8.064225529927333, \"cat\": \"I1\"}, {\"y\": 10.152949140231978, \"y_pred\": 8.064225529927333, \"cat\": \"H1\"}, {\"y\": 9.912104519871313, \"y_pred\": 8.064225529927333, \"cat\": \"F1\"}, {\"y\": 1.3272417208585086, \"y_pred\": 8.064225529927333, \"cat\": \"J3\"}, {\"y\": 0.8231308199627274, \"y_pred\": 8.064225529927333, \"cat\": \"D3\"}, {\"y\": 9.875369737977294, \"y_pred\": 8.064225529927333, \"cat\": \"D1\"}, {\"y\": 1.2333897309216133, \"y_pred\": 8.064225529927333, \"cat\": \"C3\"}, {\"y\": 0.7805028862503547, \"y_pred\": 8.064225529927333, \"cat\": \"A3\"}, {\"y\": 0.6634566091791982, \"y_pred\": 8.064225529927333, \"cat\": \"E3\"}, {\"y\": 0.4470371386983705, \"y_pred\": 8.064225529927333, \"cat\": \"I3\"}, {\"y\": 1.1072488046608373, \"y_pred\": 8.064225529927333, \"cat\": \"I3\"}, {\"y\": 0.24280396889682532, \"y_pred\": 8.064225529927333, \"cat\": \"H3\"}, {\"y\": 19.639311035003775, \"y_pred\": 8.064225529927333, \"cat\": \"E2\"}, {\"y\": 10.173301250207977, \"y_pred\": 8.064225529927333, \"cat\": \"A1\"}, {\"y\": 1.6546550741914168, \"y_pred\": 8.064225529927333, \"cat\": \"D3\"}, {\"y\": 1.474123922241376, \"y_pred\": 8.064225529927333, \"cat\": \"E3\"}, {\"y\": 9.691775451836591, \"y_pred\": 8.064225529927333, \"cat\": \"J1\"}, {\"y\": 10.100273494917381, \"y_pred\": 8.064225529927333, \"cat\": \"J1\"}, {\"y\": 1.1274117217439872, \"y_pred\": 8.064225529927333, \"cat\": \"G3\"}, {\"y\": 10.21219557822793, \"y_pred\": 8.064225529927333, \"cat\": \"A1\"}, {\"y\": 9.95441418414331, \"y_pred\": 8.064225529927333, \"cat\": \"E1\"}, {\"y\": 10.559569261886198, \"y_pred\": 8.064225529927333, \"cat\": \"D1\"}, {\"y\": 10.064865505802969, \"y_pred\": 8.064225529927333, \"cat\": \"D1\"}, {\"y\": 9.023187011385222, \"y_pred\": 8.064225529927333, \"cat\": \"F1\"}, {\"y\": 0.8850784130143021, \"y_pred\": 8.064225529927333, \"cat\": \"J3\"}, {\"y\": 10.39902427507542, \"y_pred\": 8.064225529927333, \"cat\": \"C1\"}, {\"y\": 19.050251951877456, \"y_pred\": 20.088051086404207, \"cat\": \"C2\"}, {\"y\": 1.6846869782703828, \"y_pred\": 8.064225529927333, \"cat\": \"H3\"}, {\"y\": 20.96857500892925, \"y_pred\": 20.088051086404207, \"cat\": \"C2\"}, {\"y\": 1.3249427146925004, \"y_pred\": 8.064225529927333, \"cat\": \"J3\"}, {\"y\": 20.271810305418256, \"y_pred\": 8.064225529927333, \"cat\": \"A2\"}, {\"y\": 0.6013077041445261, \"y_pred\": 8.064225529927333, \"cat\": \"D3\"}, {\"y\": 10.143375201819058, \"y_pred\": 8.064225529927333, \"cat\": \"J1\"}, {\"y\": 9.214335394736137, \"y_pred\": 8.064225529927333, \"cat\": \"I1\"}, {\"y\": 9.581722718373117, \"y_pred\": 8.064225529927333, \"cat\": \"G1\"}, {\"y\": 19.335252713720422, \"y_pred\": 8.064225529927333, \"cat\": \"I2\"}, {\"y\": 20.33102475795596, \"y_pred\": 20.088051086404207, \"cat\": \"C2\"}, {\"y\": 10.589022038515985, \"y_pred\": 8.064225529927333, \"cat\": \"H1\"}, {\"y\": 0.6691451695081352, \"y_pred\": 8.064225529927333, \"cat\": \"G3\"}, {\"y\": 19.448819374103962, \"y_pred\": 20.007139565411833, \"cat\": \"B2\"}, {\"y\": 1.1861706400914784, \"y_pred\": 8.064225529927333, \"cat\": \"F3\"}, {\"y\": 0.2834241706842682, \"y_pred\": 8.064225529927333, \"cat\": \"G3\"}, {\"y\": 10.666177280656242, \"y_pred\": 8.064225529927333, \"cat\": \"J1\"}, {\"y\": 1.6798940114044558, \"y_pred\": 8.064225529927333, \"cat\": \"I3\"}, {\"y\": 10.421484899198706, \"y_pred\": 8.064225529927333, \"cat\": \"H1\"}, {\"y\": 10.178432294646244, \"y_pred\": 8.064225529927333, \"cat\": \"I1\"}, {\"y\": 9.052539029833104, \"y_pred\": 8.064225529927333, \"cat\": \"A1\"}, {\"y\": 0.060129509831321926, \"y_pred\": 8.064225529927333, \"cat\": \"E3\"}, {\"y\": 20.49502106653608, \"y_pred\": 20.13660865268227, \"cat\": \"D2\"}, {\"y\": 1.433122452934993, \"y_pred\": 8.064225529927333, \"cat\": \"H3\"}, {\"y\": 1.1656877049978969, \"y_pred\": 8.064225529927333, \"cat\": \"H3\"}, {\"y\": 19.762339346193258, \"y_pred\": 20.13660865268227, \"cat\": \"D2\"}, {\"y\": 19.153202139962694, \"y_pred\": 19.9638477096974, \"cat\": \"H2\"}, {\"y\": 19.438471309399688, \"y_pred\": 19.9638477096974, \"cat\": \"H2\"}, {\"y\": 10.492202934558147, \"y_pred\": 8.064225529927333, \"cat\": \"E1\"}, {\"y\": 0.7575923623120411, \"y_pred\": 8.064225529927333, \"cat\": \"C3\"}, {\"y\": 10.540746790063228, \"y_pred\": 8.064225529927333, \"cat\": \"D1\"}, {\"y\": 20.421119091599298, \"y_pred\": 8.064225529927333, \"cat\": \"J2\"}, {\"y\": 19.07708276269181, \"y_pred\": 20.069176657925905, \"cat\": \"F2\"}, {\"y\": 9.479103134237882, \"y_pred\": 8.064225529927333, \"cat\": \"C1\"}, {\"y\": 20.08790172833245, \"y_pred\": 19.9638477096974, \"cat\": \"H2\"}, {\"y\": 10.171631736622842, \"y_pred\": 8.064225529927333, \"cat\": \"I1\"}, {\"y\": 0.22317214394888163, \"y_pred\": 8.064225529927333, \"cat\": \"A3\"}, {\"y\": 1.0145860571898149, \"y_pred\": 8.064225529927333, \"cat\": \"H3\"}, {\"y\": 0.2140581069074392, \"y_pred\": 8.064225529927333, \"cat\": \"F3\"}, {\"y\": 1.451726067320531, \"y_pred\": 8.064225529927333, \"cat\": \"H3\"}, {\"y\": 9.463809398779315, \"y_pred\": 8.064225529927333, \"cat\": \"G1\"}, {\"y\": 19.049515526950085, \"y_pred\": 8.064225529927333, \"cat\": \"E2\"}, {\"y\": 19.50892337980001, \"y_pred\": 19.9638477096974, \"cat\": \"H2\"}, {\"y\": 10.136790264526567, \"y_pred\": 8.064225529927333, \"cat\": \"H1\"}, {\"y\": 20.19116114239479, \"y_pred\": 8.064225529927333, \"cat\": \"G2\"}, {\"y\": 20.058191492418075, \"y_pred\": 20.088051086404207, \"cat\": \"C2\"}, {\"y\": 9.203000099903218, \"y_pred\": 8.064225529927333, \"cat\": \"A1\"}, {\"y\": 0.6676407154168251, \"y_pred\": 8.064225529927333, \"cat\": \"B3\"}, {\"y\": 20.21342271479435, \"y_pred\": 20.007139565411833, \"cat\": \"B2\"}, {\"y\": 9.48474698964963, \"y_pred\": 8.064225529927333, \"cat\": \"E1\"}, {\"y\": 10.866551132257003, \"y_pred\": 8.064225529927333, \"cat\": \"G1\"}, {\"y\": 20.130936912091776, \"y_pred\": 20.069176657925905, \"cat\": \"F2\"}, {\"y\": 0.17715246381929606, \"y_pred\": 8.064225529927333, \"cat\": \"B3\"}, {\"y\": 19.11154643844185, \"y_pred\": 20.088051086404207, \"cat\": \"C2\"}, {\"y\": 1.1663140659152396, \"y_pred\": 8.064225529927333, \"cat\": \"B3\"}, {\"y\": 10.781462638418178, \"y_pred\": 8.064225529927333, \"cat\": \"C1\"}, {\"y\": 10.463583921199772, \"y_pred\": 8.064225529927333, \"cat\": \"I1\"}, {\"y\": 19.881958561202964, \"y_pred\": 8.064225529927333, \"cat\": \"A2\"}, {\"y\": 0.35198766207932164, \"y_pred\": 8.064225529927333, \"cat\": \"F3\"}, {\"y\": 10.33655036995322, \"y_pred\": 8.064225529927333, \"cat\": \"C1\"}, {\"y\": 20.639915078524055, \"y_pred\": 20.007139565411833, \"cat\": \"B2\"}, {\"y\": 1.5858095531873015, \"y_pred\": 8.064225529927333, \"cat\": \"J3\"}, {\"y\": 20.549300725916027, \"y_pred\": 20.13660865268227, \"cat\": \"D2\"}, {\"y\": 0.7705612551613208, \"y_pred\": 8.064225529927333, \"cat\": \"H3\"}, {\"y\": 20.156578373052486, \"y_pred\": 8.064225529927333, \"cat\": \"E2\"}, {\"y\": 1.488624912965331, \"y_pred\": 8.064225529927333, \"cat\": \"I3\"}, {\"y\": 9.698617124835028, \"y_pred\": 8.064225529927333, \"cat\": \"I1\"}, {\"y\": 0.9680412343946829, \"y_pred\": 8.064225529927333, \"cat\": \"H3\"}, {\"y\": 0.4424147703771004, \"y_pred\": 8.064225529927333, \"cat\": \"I3\"}, {\"y\": 1.085877806903644, \"y_pred\": 8.064225529927333, \"cat\": \"I3\"}, {\"y\": 19.911729488607193, \"y_pred\": 8.064225529927333, \"cat\": \"G2\"}, {\"y\": 9.802334928007546, \"y_pred\": 8.064225529927333, \"cat\": \"B1\"}, {\"y\": 1.664311622855744, \"y_pred\": 8.064225529927333, \"cat\": \"F3\"}, {\"y\": 20.421593642635532, \"y_pred\": 20.069176657925905, \"cat\": \"F2\"}, {\"y\": 9.98216105314478, \"y_pred\": 8.064225529927333, \"cat\": \"A1\"}, {\"y\": 20.930000007112124, \"y_pred\": 8.064225529927333, \"cat\": \"J2\"}, {\"y\": 19.417497727411746, \"y_pred\": 20.007139565411833, \"cat\": \"B2\"}, {\"y\": 1.945429826930148, \"y_pred\": 8.064225529927333, \"cat\": \"E3\"}, {\"y\": 0.22603377781250344, \"y_pred\": 8.064225529927333, \"cat\": \"I3\"}, {\"y\": 19.279814661304854, \"y_pred\": 8.064225529927333, \"cat\": \"A2\"}, {\"y\": 10.755177382256774, \"y_pred\": 8.064225529927333, \"cat\": \"A1\"}, {\"y\": 0.7185365516022681, \"y_pred\": 8.064225529927333, \"cat\": \"I3\"}, {\"y\": 1.0828703070700931, \"y_pred\": 8.064225529927333, \"cat\": \"I3\"}, {\"y\": 10.745003717769139, \"y_pred\": 8.064225529927333, \"cat\": \"F1\"}, {\"y\": 10.090159309166276, \"y_pred\": 8.064225529927333, \"cat\": \"C1\"}, {\"y\": 1.8603868675654076, \"y_pred\": 8.064225529927333, \"cat\": \"H3\"}, {\"y\": 9.2892849125925, \"y_pred\": 8.064225529927333, \"cat\": \"F1\"}, {\"y\": 10.11446547663557, \"y_pred\": 8.064225529927333, \"cat\": \"B1\"}, {\"y\": 10.534684365221295, \"y_pred\": 8.064225529927333, \"cat\": \"D1\"}, {\"y\": 9.737570318394566, \"y_pred\": 8.064225529927333, \"cat\": \"I1\"}, {\"y\": 0.7794377721135248, \"y_pred\": 8.064225529927333, \"cat\": \"A3\"}, {\"y\": 0.032730307384333246, \"y_pred\": 8.064225529927333, \"cat\": \"I3\"}, {\"y\": 20.399302190432305, \"y_pred\": 20.13660865268227, \"cat\": \"D2\"}, {\"y\": 10.795565075222658, \"y_pred\": 8.064225529927333, \"cat\": \"G1\"}, {\"y\": 20.343020418232943, \"y_pred\": 20.069176657925905, \"cat\": \"F2\"}]}}, {\"mode\": \"vega-lite\"});\n",
       "</script>"
      ],
      "text/plain": [
       "alt.Chart(...)"
      ]
     },
     "execution_count": 32,
     "metadata": {},
     "output_type": "execute_result"
    }
   ],
   "source": [
    "create_scatter(source_oh)"
   ]
  },
  {
   "cell_type": "code",
   "execution_count": 33,
   "id": "32282a06-6d29-4ee1-89b1-be7604632706",
   "metadata": {
    "execution": {
     "iopub.execute_input": "2022-03-24T14:13:10.872172Z",
     "iopub.status.busy": "2022-03-24T14:13:10.872049Z",
     "iopub.status.idle": "2022-03-24T14:13:10.909073Z",
     "shell.execute_reply": "2022-03-24T14:13:10.908275Z",
     "shell.execute_reply.started": "2022-03-24T14:13:10.872156Z"
    },
    "tags": []
   },
   "outputs": [
    {
     "data": {
      "image/svg+xml": [
       "<?xml version=\"1.0\" encoding=\"UTF-8\" standalone=\"no\"?>\n",
       "<!DOCTYPE svg PUBLIC \"-//W3C//DTD SVG 1.1//EN\"\n",
       " \"http://www.w3.org/Graphics/SVG/1.1/DTD/svg11.dtd\">\n",
       "<!-- Generated by graphviz version 2.49.1 (20211004.0028)\n",
       " -->\n",
       "<!-- Title: Tree Pages: 1 -->\n",
       "<svg width=\"770pt\" height=\"581pt\"\n",
       " viewBox=\"0.00 0.00 769.50 581.00\" xmlns=\"http://www.w3.org/2000/svg\" xmlns:xlink=\"http://www.w3.org/1999/xlink\">\n",
       "<g id=\"graph0\" class=\"graph\" transform=\"scale(1 1) rotate(0) translate(4 577)\">\n",
       "<title>Tree</title>\n",
       "<polygon fill=\"white\" stroke=\"transparent\" points=\"-4,4 -4,-577 765.5,-577 765.5,4 -4,4\"/>\n",
       "<!-- 0 -->\n",
       "<g id=\"node1\" class=\"node\">\n",
       "<title>0</title>\n",
       "<polygon fill=\"#fae8db\" stroke=\"black\" points=\"667,-573 484,-573 484,-505 667,-505 667,-573\"/>\n",
       "<text text-anchor=\"middle\" x=\"575.5\" y=\"-557.8\" font-family=\"Helvetica,sans-Serif\" font-size=\"14.00\">C2 &lt;= 0.5</text>\n",
       "<text text-anchor=\"middle\" x=\"575.5\" y=\"-542.8\" font-family=\"Helvetica,sans-Serif\" font-size=\"14.00\">squared_error = 62.553</text>\n",
       "<text text-anchor=\"middle\" x=\"575.5\" y=\"-527.8\" font-family=\"Helvetica,sans-Serif\" font-size=\"14.00\">samples = 800</text>\n",
       "<text text-anchor=\"middle\" x=\"575.5\" y=\"-512.8\" font-family=\"Helvetica,sans-Serif\" font-size=\"14.00\">value = 10.252</text>\n",
       "</g>\n",
       "<!-- 1 -->\n",
       "<g id=\"node2\" class=\"node\">\n",
       "<title>1</title>\n",
       "<polygon fill=\"#fbece2\" stroke=\"black\" points=\"569,-469 386,-469 386,-401 569,-401 569,-469\"/>\n",
       "<text text-anchor=\"middle\" x=\"477.5\" y=\"-453.8\" font-family=\"Helvetica,sans-Serif\" font-size=\"14.00\">B2 &lt;= 0.5</text>\n",
       "<text text-anchor=\"middle\" x=\"477.5\" y=\"-438.8\" font-family=\"Helvetica,sans-Serif\" font-size=\"14.00\">squared_error = 61.005</text>\n",
       "<text text-anchor=\"middle\" x=\"477.5\" y=\"-423.8\" font-family=\"Helvetica,sans-Serif\" font-size=\"14.00\">samples = 769</text>\n",
       "<text text-anchor=\"middle\" x=\"477.5\" y=\"-408.8\" font-family=\"Helvetica,sans-Serif\" font-size=\"14.00\">value = 9.855</text>\n",
       "</g>\n",
       "<!-- 0&#45;&gt;1 -->\n",
       "<g id=\"edge1\" class=\"edge\">\n",
       "<title>0&#45;&gt;1</title>\n",
       "<path fill=\"none\" stroke=\"black\" d=\"M543.68,-504.88C535.04,-495.89 525.58,-486.04 516.58,-476.68\"/>\n",
       "<polygon fill=\"black\" stroke=\"black\" points=\"518.95,-474.09 509.49,-469.3 513.9,-478.94 518.95,-474.09\"/>\n",
       "<text text-anchor=\"middle\" x=\"508.99\" y=\"-490.59\" font-family=\"Helvetica,sans-Serif\" font-size=\"14.00\">True</text>\n",
       "</g>\n",
       "<!-- 10 -->\n",
       "<g id=\"node11\" class=\"node\">\n",
       "<title>10</title>\n",
       "<polygon fill=\"#e5823a\" stroke=\"black\" points=\"761.5,-461.5 587.5,-461.5 587.5,-408.5 761.5,-408.5 761.5,-461.5\"/>\n",
       "<text text-anchor=\"middle\" x=\"674.5\" y=\"-446.3\" font-family=\"Helvetica,sans-Serif\" font-size=\"14.00\">squared_error = 0.318</text>\n",
       "<text text-anchor=\"middle\" x=\"674.5\" y=\"-431.3\" font-family=\"Helvetica,sans-Serif\" font-size=\"14.00\">samples = 31</text>\n",
       "<text text-anchor=\"middle\" x=\"674.5\" y=\"-416.3\" font-family=\"Helvetica,sans-Serif\" font-size=\"14.00\">value = 20.088</text>\n",
       "</g>\n",
       "<!-- 0&#45;&gt;10 -->\n",
       "<g id=\"edge10\" class=\"edge\">\n",
       "<title>0&#45;&gt;10</title>\n",
       "<path fill=\"none\" stroke=\"black\" d=\"M607.64,-504.88C618.85,-493.34 631.42,-480.39 642.61,-468.86\"/>\n",
       "<polygon fill=\"black\" stroke=\"black\" points=\"645.28,-471.13 649.73,-461.52 640.25,-466.26 645.28,-471.13\"/>\n",
       "<text text-anchor=\"middle\" x=\"650.1\" y=\"-482.82\" font-family=\"Helvetica,sans-Serif\" font-size=\"14.00\">False</text>\n",
       "</g>\n",
       "<!-- 2 -->\n",
       "<g id=\"node3\" class=\"node\">\n",
       "<title>2</title>\n",
       "<polygon fill=\"#fcf1e8\" stroke=\"black\" points=\"473,-365 290,-365 290,-297 473,-297 473,-365\"/>\n",
       "<text text-anchor=\"middle\" x=\"381.5\" y=\"-349.8\" font-family=\"Helvetica,sans-Serif\" font-size=\"14.00\">H2 &lt;= 0.5</text>\n",
       "<text text-anchor=\"middle\" x=\"381.5\" y=\"-334.8\" font-family=\"Helvetica,sans-Serif\" font-size=\"14.00\">squared_error = 59.116</text>\n",
       "<text text-anchor=\"middle\" x=\"381.5\" y=\"-319.8\" font-family=\"Helvetica,sans-Serif\" font-size=\"14.00\">samples = 739</text>\n",
       "<text text-anchor=\"middle\" x=\"381.5\" y=\"-304.8\" font-family=\"Helvetica,sans-Serif\" font-size=\"14.00\">value = 9.443</text>\n",
       "</g>\n",
       "<!-- 1&#45;&gt;2 -->\n",
       "<g id=\"edge2\" class=\"edge\">\n",
       "<title>1&#45;&gt;2</title>\n",
       "<path fill=\"none\" stroke=\"black\" d=\"M446.33,-400.88C437.86,-391.89 428.6,-382.04 419.79,-372.68\"/>\n",
       "<polygon fill=\"black\" stroke=\"black\" points=\"422.24,-370.18 412.84,-365.3 417.15,-374.98 422.24,-370.18\"/>\n",
       "</g>\n",
       "<!-- 9 -->\n",
       "<g id=\"node10\" class=\"node\">\n",
       "<title>9</title>\n",
       "<polygon fill=\"#e5823b\" stroke=\"black\" points=\"656,-357.5 491,-357.5 491,-304.5 656,-304.5 656,-357.5\"/>\n",
       "<text text-anchor=\"middle\" x=\"573.5\" y=\"-342.3\" font-family=\"Helvetica,sans-Serif\" font-size=\"14.00\">squared_error = 0.29</text>\n",
       "<text text-anchor=\"middle\" x=\"573.5\" y=\"-327.3\" font-family=\"Helvetica,sans-Serif\" font-size=\"14.00\">samples = 30</text>\n",
       "<text text-anchor=\"middle\" x=\"573.5\" y=\"-312.3\" font-family=\"Helvetica,sans-Serif\" font-size=\"14.00\">value = 20.007</text>\n",
       "</g>\n",
       "<!-- 1&#45;&gt;9 -->\n",
       "<g id=\"edge9\" class=\"edge\">\n",
       "<title>1&#45;&gt;9</title>\n",
       "<path fill=\"none\" stroke=\"black\" d=\"M508.67,-400.88C519.54,-389.34 531.72,-376.39 542.57,-364.86\"/>\n",
       "<polygon fill=\"black\" stroke=\"black\" points=\"545.18,-367.2 549.48,-357.52 540.08,-362.4 545.18,-367.2\"/>\n",
       "</g>\n",
       "<!-- 3 -->\n",
       "<g id=\"node4\" class=\"node\">\n",
       "<title>3</title>\n",
       "<polygon fill=\"#fdf5f0\" stroke=\"black\" points=\"377,-261 194,-261 194,-193 377,-193 377,-261\"/>\n",
       "<text text-anchor=\"middle\" x=\"285.5\" y=\"-245.8\" font-family=\"Helvetica,sans-Serif\" font-size=\"14.00\">F2 &lt;= 0.5</text>\n",
       "<text text-anchor=\"middle\" x=\"285.5\" y=\"-230.8\" font-family=\"Helvetica,sans-Serif\" font-size=\"14.00\">squared_error = 56.722</text>\n",
       "<text text-anchor=\"middle\" x=\"285.5\" y=\"-215.8\" font-family=\"Helvetica,sans-Serif\" font-size=\"14.00\">samples = 709</text>\n",
       "<text text-anchor=\"middle\" x=\"285.5\" y=\"-200.8\" font-family=\"Helvetica,sans-Serif\" font-size=\"14.00\">value = 8.998</text>\n",
       "</g>\n",
       "<!-- 2&#45;&gt;3 -->\n",
       "<g id=\"edge3\" class=\"edge\">\n",
       "<title>2&#45;&gt;3</title>\n",
       "<path fill=\"none\" stroke=\"black\" d=\"M350.33,-296.88C341.86,-287.89 332.6,-278.04 323.79,-268.68\"/>\n",
       "<polygon fill=\"black\" stroke=\"black\" points=\"326.24,-266.18 316.84,-261.3 321.15,-270.98 326.24,-266.18\"/>\n",
       "</g>\n",
       "<!-- 8 -->\n",
       "<g id=\"node9\" class=\"node\">\n",
       "<title>8</title>\n",
       "<polygon fill=\"#e5833c\" stroke=\"black\" points=\"560,-253.5 395,-253.5 395,-200.5 560,-200.5 560,-253.5\"/>\n",
       "<text text-anchor=\"middle\" x=\"477.5\" y=\"-238.3\" font-family=\"Helvetica,sans-Serif\" font-size=\"14.00\">squared_error = 0.32</text>\n",
       "<text text-anchor=\"middle\" x=\"477.5\" y=\"-223.3\" font-family=\"Helvetica,sans-Serif\" font-size=\"14.00\">samples = 30</text>\n",
       "<text text-anchor=\"middle\" x=\"477.5\" y=\"-208.3\" font-family=\"Helvetica,sans-Serif\" font-size=\"14.00\">value = 19.964</text>\n",
       "</g>\n",
       "<!-- 2&#45;&gt;8 -->\n",
       "<g id=\"edge8\" class=\"edge\">\n",
       "<title>2&#45;&gt;8</title>\n",
       "<path fill=\"none\" stroke=\"black\" d=\"M412.67,-296.88C423.54,-285.34 435.72,-272.39 446.57,-260.86\"/>\n",
       "<polygon fill=\"black\" stroke=\"black\" points=\"449.18,-263.2 453.48,-253.52 444.08,-258.4 449.18,-263.2\"/>\n",
       "</g>\n",
       "<!-- 4 -->\n",
       "<g id=\"node5\" class=\"node\">\n",
       "<title>4</title>\n",
       "<polygon fill=\"#fefaf7\" stroke=\"black\" points=\"281,-157 98,-157 98,-89 281,-89 281,-157\"/>\n",
       "<text text-anchor=\"middle\" x=\"189.5\" y=\"-141.8\" font-family=\"Helvetica,sans-Serif\" font-size=\"14.00\">D2 &lt;= 0.5</text>\n",
       "<text text-anchor=\"middle\" x=\"189.5\" y=\"-126.8\" font-family=\"Helvetica,sans-Serif\" font-size=\"14.00\">squared_error = 53.796</text>\n",
       "<text text-anchor=\"middle\" x=\"189.5\" y=\"-111.8\" font-family=\"Helvetica,sans-Serif\" font-size=\"14.00\">samples = 681</text>\n",
       "<text text-anchor=\"middle\" x=\"189.5\" y=\"-96.8\" font-family=\"Helvetica,sans-Serif\" font-size=\"14.00\">value = 8.543</text>\n",
       "</g>\n",
       "<!-- 3&#45;&gt;4 -->\n",
       "<g id=\"edge4\" class=\"edge\">\n",
       "<title>3&#45;&gt;4</title>\n",
       "<path fill=\"none\" stroke=\"black\" d=\"M254.33,-192.88C245.86,-183.89 236.6,-174.04 227.79,-164.68\"/>\n",
       "<polygon fill=\"black\" stroke=\"black\" points=\"230.24,-162.18 220.84,-157.3 225.15,-166.98 230.24,-162.18\"/>\n",
       "</g>\n",
       "<!-- 7 -->\n",
       "<g id=\"node8\" class=\"node\">\n",
       "<title>7</title>\n",
       "<polygon fill=\"#e5823a\" stroke=\"black\" points=\"464,-149.5 299,-149.5 299,-96.5 464,-96.5 464,-149.5\"/>\n",
       "<text text-anchor=\"middle\" x=\"381.5\" y=\"-134.3\" font-family=\"Helvetica,sans-Serif\" font-size=\"14.00\">squared_error = 0.29</text>\n",
       "<text text-anchor=\"middle\" x=\"381.5\" y=\"-119.3\" font-family=\"Helvetica,sans-Serif\" font-size=\"14.00\">samples = 28</text>\n",
       "<text text-anchor=\"middle\" x=\"381.5\" y=\"-104.3\" font-family=\"Helvetica,sans-Serif\" font-size=\"14.00\">value = 20.069</text>\n",
       "</g>\n",
       "<!-- 3&#45;&gt;7 -->\n",
       "<g id=\"edge7\" class=\"edge\">\n",
       "<title>3&#45;&gt;7</title>\n",
       "<path fill=\"none\" stroke=\"black\" d=\"M316.67,-192.88C327.54,-181.34 339.72,-168.39 350.57,-156.86\"/>\n",
       "<polygon fill=\"black\" stroke=\"black\" points=\"353.18,-159.2 357.48,-149.52 348.08,-154.4 353.18,-159.2\"/>\n",
       "</g>\n",
       "<!-- 5 -->\n",
       "<g id=\"node6\" class=\"node\">\n",
       "<title>5</title>\n",
       "<polygon fill=\"#ffffff\" stroke=\"black\" points=\"183,-53 0,-53 0,0 183,0 183,-53\"/>\n",
       "<text text-anchor=\"middle\" x=\"91.5\" y=\"-37.8\" font-family=\"Helvetica,sans-Serif\" font-size=\"14.00\">squared_error = 50.224</text>\n",
       "<text text-anchor=\"middle\" x=\"91.5\" y=\"-22.8\" font-family=\"Helvetica,sans-Serif\" font-size=\"14.00\">samples = 654</text>\n",
       "<text text-anchor=\"middle\" x=\"91.5\" y=\"-7.8\" font-family=\"Helvetica,sans-Serif\" font-size=\"14.00\">value = 8.064</text>\n",
       "</g>\n",
       "<!-- 4&#45;&gt;5 -->\n",
       "<g id=\"edge5\" class=\"edge\">\n",
       "<title>4&#45;&gt;5</title>\n",
       "<path fill=\"none\" stroke=\"black\" d=\"M155.22,-88.95C145.64,-79.71 135.23,-69.67 125.66,-60.44\"/>\n",
       "<polygon fill=\"black\" stroke=\"black\" points=\"127.82,-57.66 118.19,-53.24 122.96,-62.7 127.82,-57.66\"/>\n",
       "</g>\n",
       "<!-- 6 -->\n",
       "<g id=\"node7\" class=\"node\">\n",
       "<title>6</title>\n",
       "<polygon fill=\"#e58139\" stroke=\"black\" points=\"375.5,-53 201.5,-53 201.5,0 375.5,0 375.5,-53\"/>\n",
       "<text text-anchor=\"middle\" x=\"288.5\" y=\"-37.8\" font-family=\"Helvetica,sans-Serif\" font-size=\"14.00\">squared_error = 0.341</text>\n",
       "<text text-anchor=\"middle\" x=\"288.5\" y=\"-22.8\" font-family=\"Helvetica,sans-Serif\" font-size=\"14.00\">samples = 27</text>\n",
       "<text text-anchor=\"middle\" x=\"288.5\" y=\"-7.8\" font-family=\"Helvetica,sans-Serif\" font-size=\"14.00\">value = 20.137</text>\n",
       "</g>\n",
       "<!-- 4&#45;&gt;6 -->\n",
       "<g id=\"edge6\" class=\"edge\">\n",
       "<title>4&#45;&gt;6</title>\n",
       "<path fill=\"none\" stroke=\"black\" d=\"M224.13,-88.95C233.9,-79.62 244.53,-69.47 254.28,-60.16\"/>\n",
       "<polygon fill=\"black\" stroke=\"black\" points=\"256.72,-62.67 261.54,-53.24 251.89,-57.61 256.72,-62.67\"/>\n",
       "</g>\n",
       "</g>\n",
       "</svg>\n"
      ],
      "text/plain": [
       "<graphviz.sources.Source at 0x7f5915d30650>"
      ]
     },
     "execution_count": 33,
     "metadata": {},
     "output_type": "execute_result"
    }
   ],
   "source": [
    "visualize_dec_tree(dec_tree_oh)"
   ]
  },
  {
   "cell_type": "markdown",
   "id": "11b6b6b3-723c-4994-b732-412d24af775c",
   "metadata": {
    "execution": {
     "iopub.execute_input": "2022-03-07T18:48:29.266995Z",
     "iopub.status.busy": "2022-03-07T18:48:29.266769Z",
     "iopub.status.idle": "2022-03-07T18:48:29.271581Z",
     "shell.execute_reply": "2022-03-07T18:48:29.270336Z",
     "shell.execute_reply.started": "2022-03-07T18:48:29.266974Z"
    },
    "tags": []
   },
   "source": [
    "### Check tradeoff"
   ]
  },
  {
   "cell_type": "code",
   "execution_count": 34,
   "id": "33715bd1-266d-44d4-a8a9-e1b681fff863",
   "metadata": {
    "execution": {
     "iopub.execute_input": "2022-03-24T14:13:10.910324Z",
     "iopub.status.busy": "2022-03-24T14:13:10.910176Z",
     "iopub.status.idle": "2022-03-24T14:13:11.057187Z",
     "shell.execute_reply": "2022-03-24T14:13:11.056384Z",
     "shell.execute_reply.started": "2022-03-24T14:13:10.910302Z"
    },
    "tags": []
   },
   "outputs": [],
   "source": [
    "rmses_oh = [dec_tree_rmse(params={\"max_depth\": i}, x_colnames=x_colnames_oh)[0] for i in max_depths]"
   ]
  },
  {
   "cell_type": "code",
   "execution_count": 35,
   "id": "3a5b6059-f7ec-4b19-86bd-239ade5e2c8d",
   "metadata": {
    "execution": {
     "iopub.execute_input": "2022-03-24T14:13:11.058121Z",
     "iopub.status.busy": "2022-03-24T14:13:11.057986Z",
     "iopub.status.idle": "2022-03-24T14:13:11.110632Z",
     "shell.execute_reply": "2022-03-24T14:13:11.109952Z",
     "shell.execute_reply.started": "2022-03-24T14:13:11.058103Z"
    },
    "tags": []
   },
   "outputs": [
    {
     "data": {
      "text/html": [
       "\n",
       "<div id=\"altair-viz-8a41e0b610344995857bf0647ff00be6\"></div>\n",
       "<script type=\"text/javascript\">\n",
       "  var VEGA_DEBUG = (typeof VEGA_DEBUG == \"undefined\") ? {} : VEGA_DEBUG;\n",
       "  (function(spec, embedOpt){\n",
       "    let outputDiv = document.currentScript.previousElementSibling;\n",
       "    if (outputDiv.id !== \"altair-viz-8a41e0b610344995857bf0647ff00be6\") {\n",
       "      outputDiv = document.getElementById(\"altair-viz-8a41e0b610344995857bf0647ff00be6\");\n",
       "    }\n",
       "    const paths = {\n",
       "      \"vega\": \"https://cdn.jsdelivr.net/npm//vega@5?noext\",\n",
       "      \"vega-lib\": \"https://cdn.jsdelivr.net/npm//vega-lib?noext\",\n",
       "      \"vega-lite\": \"https://cdn.jsdelivr.net/npm//vega-lite@4.17.0?noext\",\n",
       "      \"vega-embed\": \"https://cdn.jsdelivr.net/npm//vega-embed@6?noext\",\n",
       "    };\n",
       "\n",
       "    function maybeLoadScript(lib, version) {\n",
       "      var key = `${lib.replace(\"-\", \"\")}_version`;\n",
       "      return (VEGA_DEBUG[key] == version) ?\n",
       "        Promise.resolve(paths[lib]) :\n",
       "        new Promise(function(resolve, reject) {\n",
       "          var s = document.createElement('script');\n",
       "          document.getElementsByTagName(\"head\")[0].appendChild(s);\n",
       "          s.async = true;\n",
       "          s.onload = () => {\n",
       "            VEGA_DEBUG[key] = version;\n",
       "            return resolve(paths[lib]);\n",
       "          };\n",
       "          s.onerror = () => reject(`Error loading script: ${paths[lib]}`);\n",
       "          s.src = paths[lib];\n",
       "        });\n",
       "    }\n",
       "\n",
       "    function showError(err) {\n",
       "      outputDiv.innerHTML = `<div class=\"error\" style=\"color:red;\">${err}</div>`;\n",
       "      throw err;\n",
       "    }\n",
       "\n",
       "    function displayChart(vegaEmbed) {\n",
       "      vegaEmbed(outputDiv, spec, embedOpt)\n",
       "        .catch(err => showError(`Javascript Error: ${err.message}<br>This usually means there's a typo in your chart specification. See the javascript console for the full traceback.`));\n",
       "    }\n",
       "\n",
       "    if(typeof define === \"function\" && define.amd) {\n",
       "      requirejs.config({paths});\n",
       "      require([\"vega-embed\"], displayChart, err => showError(`Error loading script: ${err.message}`));\n",
       "    } else {\n",
       "      maybeLoadScript(\"vega\", \"5\")\n",
       "        .then(() => maybeLoadScript(\"vega-lite\", \"4.17.0\"))\n",
       "        .then(() => maybeLoadScript(\"vega-embed\", \"6\"))\n",
       "        .catch(showError)\n",
       "        .then(() => displayChart(vegaEmbed));\n",
       "    }\n",
       "  })({\"config\": {\"view\": {\"continuousWidth\": 400, \"continuousHeight\": 300}}, \"data\": {\"name\": \"data-26e83722c7bb6c556745271af3be2893\"}, \"mark\": \"line\", \"encoding\": {\"x\": {\"field\": \"max_depth\", \"type\": \"quantitative\"}, \"y\": {\"field\": \"rmse\", \"type\": \"quantitative\"}}, \"height\": 500, \"selection\": {\"selector004\": {\"type\": \"interval\", \"bind\": \"scales\", \"encodings\": [\"x\", \"y\"]}}, \"width\": 800, \"$schema\": \"https://vega.github.io/schema/vega-lite/v4.17.0.json\", \"datasets\": {\"data-26e83722c7bb6c556745271af3be2893\": [{\"max_depth\": 1, \"rmse\": 7.345301843387342}, {\"max_depth\": 2, \"rmse\": 6.999268909050412}, {\"max_depth\": 3, \"rmse\": 6.7114385989347}, {\"max_depth\": 4, \"rmse\": 6.422299756931}, {\"max_depth\": 5, \"rmse\": 5.957768157967098}, {\"max_depth\": 6, \"rmse\": 5.523590746345865}, {\"max_depth\": 7, \"rmse\": 5.216130160587738}, {\"max_depth\": 8, \"rmse\": 4.738715800397302}, {\"max_depth\": 9, \"rmse\": 4.283233300974825}, {\"max_depth\": 10, \"rmse\": 3.8942714875381546}, {\"max_depth\": 11, \"rmse\": 3.846227908912258}, {\"max_depth\": 12, \"rmse\": 3.7554558486247274}, {\"max_depth\": 13, \"rmse\": 3.556224554481239}, {\"max_depth\": 14, \"rmse\": 3.445207716329072}, {\"max_depth\": 15, \"rmse\": 3.2893505172232365}, {\"max_depth\": 16, \"rmse\": 3.1315249939307406}, {\"max_depth\": 17, \"rmse\": 2.725504915210649}, {\"max_depth\": 18, \"rmse\": 2.2038336519118644}, {\"max_depth\": 19, \"rmse\": 1.9029766024866483}, {\"max_depth\": 20, \"rmse\": 1.8842732899740868}, {\"max_depth\": 21, \"rmse\": 1.869319403192039}, {\"max_depth\": 22, \"rmse\": 1.8559549654560188}, {\"max_depth\": 23, \"rmse\": 1.8364768461780716}, {\"max_depth\": 24, \"rmse\": 1.8071689452269404}, {\"max_depth\": 25, \"rmse\": 1.7698392427373675}, {\"max_depth\": 26, \"rmse\": 1.6994413561439499}, {\"max_depth\": 27, \"rmse\": 1.6167934515047997}, {\"max_depth\": 28, \"rmse\": 1.3970074469004958}, {\"max_depth\": 29, \"rmse\": 0.5613899068648951}]}}, {\"mode\": \"vega-lite\"});\n",
       "</script>"
      ],
      "text/plain": [
       "alt.Chart(...)"
      ]
     },
     "execution_count": 35,
     "metadata": {},
     "output_type": "execute_result"
    }
   ],
   "source": [
    "plot_max_depth_rmse(max_depths, rmses_oh)"
   ]
  },
  {
   "cell_type": "code",
   "execution_count": null,
   "id": "4df3fd13-45d8-40fe-8e55-39f4d088e238",
   "metadata": {},
   "outputs": [],
   "source": []
  },
  {
   "cell_type": "markdown",
   "id": "611d1905-3e79-47b2-9bde-ffc896f4c869",
   "metadata": {},
   "source": [
    "## Check together"
   ]
  },
  {
   "cell_type": "code",
   "execution_count": 36,
   "id": "598d9873-d67b-4d2b-b0c2-48be6ca4ba98",
   "metadata": {
    "execution": {
     "iopub.execute_input": "2022-03-24T14:13:11.111554Z",
     "iopub.status.busy": "2022-03-24T14:13:11.111422Z",
     "iopub.status.idle": "2022-03-24T14:13:11.117286Z",
     "shell.execute_reply": "2022-03-24T14:13:11.116655Z",
     "shell.execute_reply.started": "2022-03-24T14:13:11.111537Z"
    },
    "tags": []
   },
   "outputs": [],
   "source": [
    "rmse_oe = pd.DataFrame({'max_depth': max_depths, 'rmse': rmses_oe, 'origin': ['ordinal_encoded'] * len(max_depths)})\n",
    "rmse_oh = pd.DataFrame({'max_depth': max_depths, 'rmse': rmses_oh, 'origin': ['onehot_encoded'] * len(max_depths)})\n",
    "multi_rmse_source = pd.concat([rmse_oe, rmse_oh])"
   ]
  },
  {
   "cell_type": "code",
   "execution_count": 37,
   "id": "dff1fb1f-5a97-47f2-8737-7f00d1b5dffe",
   "metadata": {
    "execution": {
     "iopub.execute_input": "2022-03-24T14:13:11.118279Z",
     "iopub.status.busy": "2022-03-24T14:13:11.118151Z",
     "iopub.status.idle": "2022-03-24T14:13:11.155916Z",
     "shell.execute_reply": "2022-03-24T14:13:11.155246Z",
     "shell.execute_reply.started": "2022-03-24T14:13:11.118263Z"
    },
    "tags": []
   },
   "outputs": [
    {
     "data": {
      "text/html": [
       "\n",
       "<div id=\"altair-viz-2fbf43db52e2447b9ad91ef1dd8bb8a3\"></div>\n",
       "<script type=\"text/javascript\">\n",
       "  var VEGA_DEBUG = (typeof VEGA_DEBUG == \"undefined\") ? {} : VEGA_DEBUG;\n",
       "  (function(spec, embedOpt){\n",
       "    let outputDiv = document.currentScript.previousElementSibling;\n",
       "    if (outputDiv.id !== \"altair-viz-2fbf43db52e2447b9ad91ef1dd8bb8a3\") {\n",
       "      outputDiv = document.getElementById(\"altair-viz-2fbf43db52e2447b9ad91ef1dd8bb8a3\");\n",
       "    }\n",
       "    const paths = {\n",
       "      \"vega\": \"https://cdn.jsdelivr.net/npm//vega@5?noext\",\n",
       "      \"vega-lib\": \"https://cdn.jsdelivr.net/npm//vega-lib?noext\",\n",
       "      \"vega-lite\": \"https://cdn.jsdelivr.net/npm//vega-lite@4.17.0?noext\",\n",
       "      \"vega-embed\": \"https://cdn.jsdelivr.net/npm//vega-embed@6?noext\",\n",
       "    };\n",
       "\n",
       "    function maybeLoadScript(lib, version) {\n",
       "      var key = `${lib.replace(\"-\", \"\")}_version`;\n",
       "      return (VEGA_DEBUG[key] == version) ?\n",
       "        Promise.resolve(paths[lib]) :\n",
       "        new Promise(function(resolve, reject) {\n",
       "          var s = document.createElement('script');\n",
       "          document.getElementsByTagName(\"head\")[0].appendChild(s);\n",
       "          s.async = true;\n",
       "          s.onload = () => {\n",
       "            VEGA_DEBUG[key] = version;\n",
       "            return resolve(paths[lib]);\n",
       "          };\n",
       "          s.onerror = () => reject(`Error loading script: ${paths[lib]}`);\n",
       "          s.src = paths[lib];\n",
       "        });\n",
       "    }\n",
       "\n",
       "    function showError(err) {\n",
       "      outputDiv.innerHTML = `<div class=\"error\" style=\"color:red;\">${err}</div>`;\n",
       "      throw err;\n",
       "    }\n",
       "\n",
       "    function displayChart(vegaEmbed) {\n",
       "      vegaEmbed(outputDiv, spec, embedOpt)\n",
       "        .catch(err => showError(`Javascript Error: ${err.message}<br>This usually means there's a typo in your chart specification. See the javascript console for the full traceback.`));\n",
       "    }\n",
       "\n",
       "    if(typeof define === \"function\" && define.amd) {\n",
       "      requirejs.config({paths});\n",
       "      require([\"vega-embed\"], displayChart, err => showError(`Error loading script: ${err.message}`));\n",
       "    } else {\n",
       "      maybeLoadScript(\"vega\", \"5\")\n",
       "        .then(() => maybeLoadScript(\"vega-lite\", \"4.17.0\"))\n",
       "        .then(() => maybeLoadScript(\"vega-embed\", \"6\"))\n",
       "        .catch(showError)\n",
       "        .then(() => displayChart(vegaEmbed));\n",
       "    }\n",
       "  })({\"config\": {\"view\": {\"continuousWidth\": 400, \"continuousHeight\": 300}}, \"data\": {\"name\": \"data-0e274efd9581bf80b5d9af4c15713e1f\"}, \"mark\": \"line\", \"encoding\": {\"color\": {\"field\": \"origin\", \"type\": \"nominal\"}, \"x\": {\"field\": \"max_depth\", \"type\": \"quantitative\"}, \"y\": {\"field\": \"rmse\", \"type\": \"quantitative\"}}, \"$schema\": \"https://vega.github.io/schema/vega-lite/v4.17.0.json\", \"datasets\": {\"data-0e274efd9581bf80b5d9af4c15713e1f\": [{\"max_depth\": 1, \"rmse\": 7.454995124194331, \"origin\": \"ordinal_encoded\"}, {\"max_depth\": 2, \"rmse\": 7.312623288976131, \"origin\": \"ordinal_encoded\"}, {\"max_depth\": 3, \"rmse\": 7.077140845824609, \"origin\": \"ordinal_encoded\"}, {\"max_depth\": 4, \"rmse\": 6.818578627107829, \"origin\": \"ordinal_encoded\"}, {\"max_depth\": 5, \"rmse\": 6.607239167683132, \"origin\": \"ordinal_encoded\"}, {\"max_depth\": 6, \"rmse\": 6.253142922343629, \"origin\": \"ordinal_encoded\"}, {\"max_depth\": 7, \"rmse\": 6.168752978185336, \"origin\": \"ordinal_encoded\"}, {\"max_depth\": 8, \"rmse\": 5.877184990287197, \"origin\": \"ordinal_encoded\"}, {\"max_depth\": 9, \"rmse\": 5.639486075587329, \"origin\": \"ordinal_encoded\"}, {\"max_depth\": 10, \"rmse\": 5.3911978988944655, \"origin\": \"ordinal_encoded\"}, {\"max_depth\": 11, \"rmse\": 5.116316946614891, \"origin\": \"ordinal_encoded\"}, {\"max_depth\": 12, \"rmse\": 4.790043397954038, \"origin\": \"ordinal_encoded\"}, {\"max_depth\": 13, \"rmse\": 4.537697895677263, \"origin\": \"ordinal_encoded\"}, {\"max_depth\": 14, \"rmse\": 3.9622292135197936, \"origin\": \"ordinal_encoded\"}, {\"max_depth\": 15, \"rmse\": 3.805332631693699, \"origin\": \"ordinal_encoded\"}, {\"max_depth\": 16, \"rmse\": 3.247175368634268, \"origin\": \"ordinal_encoded\"}, {\"max_depth\": 17, \"rmse\": 3.114224665031639, \"origin\": \"ordinal_encoded\"}, {\"max_depth\": 18, \"rmse\": 2.4415832708692817, \"origin\": \"ordinal_encoded\"}, {\"max_depth\": 19, \"rmse\": 1.6671699772602322, \"origin\": \"ordinal_encoded\"}, {\"max_depth\": 20, \"rmse\": 0.5613899068648952, \"origin\": \"ordinal_encoded\"}, {\"max_depth\": 21, \"rmse\": 0.5613899068648952, \"origin\": \"ordinal_encoded\"}, {\"max_depth\": 22, \"rmse\": 0.5613899068648952, \"origin\": \"ordinal_encoded\"}, {\"max_depth\": 23, \"rmse\": 0.5613899068648952, \"origin\": \"ordinal_encoded\"}, {\"max_depth\": 24, \"rmse\": 0.5613899068648952, \"origin\": \"ordinal_encoded\"}, {\"max_depth\": 25, \"rmse\": 0.5613899068648952, \"origin\": \"ordinal_encoded\"}, {\"max_depth\": 26, \"rmse\": 0.5613899068648952, \"origin\": \"ordinal_encoded\"}, {\"max_depth\": 27, \"rmse\": 0.5613899068648952, \"origin\": \"ordinal_encoded\"}, {\"max_depth\": 28, \"rmse\": 0.5613899068648952, \"origin\": \"ordinal_encoded\"}, {\"max_depth\": 29, \"rmse\": 0.5613899068648952, \"origin\": \"ordinal_encoded\"}, {\"max_depth\": 1, \"rmse\": 7.345301843387342, \"origin\": \"onehot_encoded\"}, {\"max_depth\": 2, \"rmse\": 6.999268909050412, \"origin\": \"onehot_encoded\"}, {\"max_depth\": 3, \"rmse\": 6.7114385989347, \"origin\": \"onehot_encoded\"}, {\"max_depth\": 4, \"rmse\": 6.422299756931, \"origin\": \"onehot_encoded\"}, {\"max_depth\": 5, \"rmse\": 5.957768157967098, \"origin\": \"onehot_encoded\"}, {\"max_depth\": 6, \"rmse\": 5.523590746345865, \"origin\": \"onehot_encoded\"}, {\"max_depth\": 7, \"rmse\": 5.216130160587738, \"origin\": \"onehot_encoded\"}, {\"max_depth\": 8, \"rmse\": 4.738715800397302, \"origin\": \"onehot_encoded\"}, {\"max_depth\": 9, \"rmse\": 4.283233300974825, \"origin\": \"onehot_encoded\"}, {\"max_depth\": 10, \"rmse\": 3.8942714875381546, \"origin\": \"onehot_encoded\"}, {\"max_depth\": 11, \"rmse\": 3.846227908912258, \"origin\": \"onehot_encoded\"}, {\"max_depth\": 12, \"rmse\": 3.7554558486247274, \"origin\": \"onehot_encoded\"}, {\"max_depth\": 13, \"rmse\": 3.556224554481239, \"origin\": \"onehot_encoded\"}, {\"max_depth\": 14, \"rmse\": 3.445207716329072, \"origin\": \"onehot_encoded\"}, {\"max_depth\": 15, \"rmse\": 3.2893505172232365, \"origin\": \"onehot_encoded\"}, {\"max_depth\": 16, \"rmse\": 3.1315249939307406, \"origin\": \"onehot_encoded\"}, {\"max_depth\": 17, \"rmse\": 2.725504915210649, \"origin\": \"onehot_encoded\"}, {\"max_depth\": 18, \"rmse\": 2.2038336519118644, \"origin\": \"onehot_encoded\"}, {\"max_depth\": 19, \"rmse\": 1.9029766024866483, \"origin\": \"onehot_encoded\"}, {\"max_depth\": 20, \"rmse\": 1.8842732899740868, \"origin\": \"onehot_encoded\"}, {\"max_depth\": 21, \"rmse\": 1.869319403192039, \"origin\": \"onehot_encoded\"}, {\"max_depth\": 22, \"rmse\": 1.8559549654560188, \"origin\": \"onehot_encoded\"}, {\"max_depth\": 23, \"rmse\": 1.8364768461780716, \"origin\": \"onehot_encoded\"}, {\"max_depth\": 24, \"rmse\": 1.8071689452269404, \"origin\": \"onehot_encoded\"}, {\"max_depth\": 25, \"rmse\": 1.7698392427373675, \"origin\": \"onehot_encoded\"}, {\"max_depth\": 26, \"rmse\": 1.6994413561439499, \"origin\": \"onehot_encoded\"}, {\"max_depth\": 27, \"rmse\": 1.6167934515047997, \"origin\": \"onehot_encoded\"}, {\"max_depth\": 28, \"rmse\": 1.3970074469004958, \"origin\": \"onehot_encoded\"}, {\"max_depth\": 29, \"rmse\": 0.5613899068648951, \"origin\": \"onehot_encoded\"}]}}, {\"mode\": \"vega-lite\"});\n",
       "</script>"
      ],
      "text/plain": [
       "alt.Chart(...)"
      ]
     },
     "execution_count": 37,
     "metadata": {},
     "output_type": "execute_result"
    }
   ],
   "source": [
    "alt.Chart(multi_rmse_source).mark_line().encode(\n",
    "    x='max_depth',\n",
    "    y='rmse',\n",
    "    color='origin'\n",
    ")"
   ]
  },
  {
   "cell_type": "code",
   "execution_count": null,
   "id": "fcd7003a-e219-4e33-82c6-f3420c031c89",
   "metadata": {},
   "outputs": [],
   "source": []
  },
  {
   "cell_type": "markdown",
   "id": "7659f315-dc40-469a-a6ba-d336e553584a",
   "metadata": {},
   "source": [
    "## Hash encoding"
   ]
  },
  {
   "cell_type": "code",
   "execution_count": 38,
   "id": "e4c2dafb-0c7b-4de6-b9b8-6dfb4964fff5",
   "metadata": {
    "execution": {
     "iopub.execute_input": "2022-03-24T14:13:11.156824Z",
     "iopub.status.busy": "2022-03-24T14:13:11.156699Z",
     "iopub.status.idle": "2022-03-24T14:13:11.160540Z",
     "shell.execute_reply": "2022-03-24T14:13:11.159876Z",
     "shell.execute_reply.started": "2022-03-24T14:13:11.156807Z"
    },
    "tags": []
   },
   "outputs": [],
   "source": [
    "fh_n_features = 10\n",
    "\n",
    "x_colnames_fh = [f'fh{n}' for n in range(fh_n_features)]\n",
    "fh = FeatureHasher(n_features=fh_n_features, input_type='string', dtype=np.float32)"
   ]
  },
  {
   "cell_type": "code",
   "execution_count": 39,
   "id": "eb430342-6a9f-4d04-b9c8-3817b830fe2f",
   "metadata": {
    "execution": {
     "iopub.execute_input": "2022-03-24T14:13:11.161950Z",
     "iopub.status.busy": "2022-03-24T14:13:11.161406Z",
     "iopub.status.idle": "2022-03-24T14:13:11.173207Z",
     "shell.execute_reply": "2022-03-24T14:13:11.172526Z",
     "shell.execute_reply.started": "2022-03-24T14:13:11.161927Z"
    },
    "tags": []
   },
   "outputs": [],
   "source": [
    "fh_vec = fh.fit_transform(X=X_train['cat'])\n",
    "fh_vec = pd.DataFrame(fh_vec.todense(), columns=x_colnames_fh, index=X_train.index)\n",
    "\n",
    "fh_vec_test = fh.fit_transform(X=X_test['cat'])\n",
    "fh_vec_test = pd.DataFrame(fh_vec_test.todense(), columns=x_colnames_fh, index=X_test.index)\n",
    "\n",
    "X_train[x_colnames_fh] = fh_vec\n",
    "X_test[x_colnames_fh] = fh_vec_test"
   ]
  },
  {
   "cell_type": "markdown",
   "id": "bea56138-cecf-4a3e-a8a1-cf6678ea8993",
   "metadata": {},
   "source": [
    "### Check one tree"
   ]
  },
  {
   "cell_type": "code",
   "execution_count": 40,
   "id": "0a67beb1-0870-4adc-97ab-265d12a26a9e",
   "metadata": {
    "execution": {
     "iopub.execute_input": "2022-03-24T14:13:11.177405Z",
     "iopub.status.busy": "2022-03-24T14:13:11.176811Z",
     "iopub.status.idle": "2022-03-24T14:13:11.185834Z",
     "shell.execute_reply": "2022-03-24T14:13:11.185163Z",
     "shell.execute_reply.started": "2022-03-24T14:13:11.177379Z"
    },
    "tags": []
   },
   "outputs": [],
   "source": [
    "rmse_fh, source_fh, dec_tree_fh = dec_tree_rmse(params, x_colnames_fh)"
   ]
  },
  {
   "cell_type": "code",
   "execution_count": 41,
   "id": "3bdc3023-aa71-48cc-9a18-c4b53e909986",
   "metadata": {
    "execution": {
     "iopub.execute_input": "2022-03-24T14:13:11.186687Z",
     "iopub.status.busy": "2022-03-24T14:13:11.186560Z",
     "iopub.status.idle": "2022-03-24T14:13:11.251200Z",
     "shell.execute_reply": "2022-03-24T14:13:11.250481Z",
     "shell.execute_reply.started": "2022-03-24T14:13:11.186670Z"
    },
    "tags": []
   },
   "outputs": [
    {
     "data": {
      "text/html": [
       "\n",
       "<div id=\"altair-viz-ca62cb0815944e5699dec6c0e9aa879d\"></div>\n",
       "<script type=\"text/javascript\">\n",
       "  var VEGA_DEBUG = (typeof VEGA_DEBUG == \"undefined\") ? {} : VEGA_DEBUG;\n",
       "  (function(spec, embedOpt){\n",
       "    let outputDiv = document.currentScript.previousElementSibling;\n",
       "    if (outputDiv.id !== \"altair-viz-ca62cb0815944e5699dec6c0e9aa879d\") {\n",
       "      outputDiv = document.getElementById(\"altair-viz-ca62cb0815944e5699dec6c0e9aa879d\");\n",
       "    }\n",
       "    const paths = {\n",
       "      \"vega\": \"https://cdn.jsdelivr.net/npm//vega@5?noext\",\n",
       "      \"vega-lib\": \"https://cdn.jsdelivr.net/npm//vega-lib?noext\",\n",
       "      \"vega-lite\": \"https://cdn.jsdelivr.net/npm//vega-lite@4.17.0?noext\",\n",
       "      \"vega-embed\": \"https://cdn.jsdelivr.net/npm//vega-embed@6?noext\",\n",
       "    };\n",
       "\n",
       "    function maybeLoadScript(lib, version) {\n",
       "      var key = `${lib.replace(\"-\", \"\")}_version`;\n",
       "      return (VEGA_DEBUG[key] == version) ?\n",
       "        Promise.resolve(paths[lib]) :\n",
       "        new Promise(function(resolve, reject) {\n",
       "          var s = document.createElement('script');\n",
       "          document.getElementsByTagName(\"head\")[0].appendChild(s);\n",
       "          s.async = true;\n",
       "          s.onload = () => {\n",
       "            VEGA_DEBUG[key] = version;\n",
       "            return resolve(paths[lib]);\n",
       "          };\n",
       "          s.onerror = () => reject(`Error loading script: ${paths[lib]}`);\n",
       "          s.src = paths[lib];\n",
       "        });\n",
       "    }\n",
       "\n",
       "    function showError(err) {\n",
       "      outputDiv.innerHTML = `<div class=\"error\" style=\"color:red;\">${err}</div>`;\n",
       "      throw err;\n",
       "    }\n",
       "\n",
       "    function displayChart(vegaEmbed) {\n",
       "      vegaEmbed(outputDiv, spec, embedOpt)\n",
       "        .catch(err => showError(`Javascript Error: ${err.message}<br>This usually means there's a typo in your chart specification. See the javascript console for the full traceback.`));\n",
       "    }\n",
       "\n",
       "    if(typeof define === \"function\" && define.amd) {\n",
       "      requirejs.config({paths});\n",
       "      require([\"vega-embed\"], displayChart, err => showError(`Error loading script: ${err.message}`));\n",
       "    } else {\n",
       "      maybeLoadScript(\"vega\", \"5\")\n",
       "        .then(() => maybeLoadScript(\"vega-lite\", \"4.17.0\"))\n",
       "        .then(() => maybeLoadScript(\"vega-embed\", \"6\"))\n",
       "        .catch(showError)\n",
       "        .then(() => displayChart(vegaEmbed));\n",
       "    }\n",
       "  })({\"config\": {\"view\": {\"continuousWidth\": 400, \"continuousHeight\": 300}}, \"data\": {\"name\": \"data-a6f5b1dca58ad8b770ad61a08032c4e3\"}, \"mark\": {\"type\": \"circle\", \"size\": 60}, \"encoding\": {\"color\": {\"field\": \"cat\", \"type\": \"nominal\"}, \"tooltip\": {\"field\": \"cat\", \"type\": \"nominal\"}, \"x\": {\"field\": \"y\", \"scale\": {\"domain\": [-1.976271965441258, 22.96857500892925]}, \"type\": \"quantitative\"}, \"y\": {\"field\": \"y_pred\", \"scale\": {\"domain\": [-1.976271965441258, 22.96857500892925]}, \"type\": \"quantitative\"}}, \"height\": 500, \"selection\": {\"selector005\": {\"type\": \"interval\", \"bind\": \"scales\", \"encodings\": [\"x\", \"y\"]}}, \"width\": 800, \"$schema\": \"https://vega.github.io/schema/vega-lite/v4.17.0.json\", \"datasets\": {\"data-a6f5b1dca58ad8b770ad61a08032c4e3\": [{\"y\": 0.9708688385243336, \"y_pred\": 0.98348374072409, \"cat\": \"G3\"}, {\"y\": 1.5615528849742262, \"y_pred\": 0.98348374072409, \"cat\": \"H3\"}, {\"y\": 19.762355681020175, \"y_pred\": 19.96544960240901, \"cat\": \"E2\"}, {\"y\": 9.669818235290847, \"y_pred\": 10.04000225487917, \"cat\": \"G1\"}, {\"y\": 20.581437747153537, \"y_pred\": 19.96544960240901, \"cat\": \"E2\"}, {\"y\": 19.114769917943644, \"y_pred\": 19.96544960240901, \"cat\": \"A2\"}, {\"y\": 19.240079805181814, \"y_pred\": 19.96544960240901, \"cat\": \"A2\"}, {\"y\": 10.370929132428529, \"y_pred\": 10.04000225487917, \"cat\": \"A1\"}, {\"y\": 20.609629747639598, \"y_pred\": 20.096333813940596, \"cat\": \"J2\"}, {\"y\": 9.185411965211156, \"y_pred\": 10.04000225487917, \"cat\": \"J1\"}, {\"y\": 20.771135145302082, \"y_pred\": 20.136608652682273, \"cat\": \"D2\"}, {\"y\": 9.897906688835647, \"y_pred\": 10.116296363220195, \"cat\": \"I1\"}, {\"y\": 19.572515038433227, \"y_pred\": 20.136608652682273, \"cat\": \"D2\"}, {\"y\": 10.121699527559619, \"y_pred\": 10.116296363220195, \"cat\": \"I1\"}, {\"y\": 9.892287250926657, \"y_pred\": 10.04000225487917, \"cat\": \"H1\"}, {\"y\": 10.02938789145609, \"y_pred\": 10.04000225487917, \"cat\": \"A1\"}, {\"y\": 9.040243651268177, \"y_pred\": 10.04000225487917, \"cat\": \"H1\"}, {\"y\": 19.392430942113748, \"y_pred\": 19.96544960240901, \"cat\": \"B2\"}, {\"y\": 1.7685549154233273, \"y_pred\": 1.0560731874426195, \"cat\": \"D3\"}, {\"y\": 20.915270646306908, \"y_pred\": 19.96544960240901, \"cat\": \"I2\"}, {\"y\": 1.1594739846577815, \"y_pred\": 0.98348374072409, \"cat\": \"E3\"}, {\"y\": 19.294671275810273, \"y_pred\": 19.96544960240901, \"cat\": \"H2\"}, {\"y\": 0.09239944296425806, \"y_pred\": 0.98348374072409, \"cat\": \"A3\"}, {\"y\": 1.8501313272642024, \"y_pred\": 0.98348374072409, \"cat\": \"E3\"}, {\"y\": 1.205664187139253, \"y_pred\": 0.98348374072409, \"cat\": \"G3\"}, {\"y\": 10.752694275026144, \"y_pred\": 10.116296363220195, \"cat\": \"I1\"}, {\"y\": 0.10053903516041696, \"y_pred\": 0.98348374072409, \"cat\": \"C3\"}, {\"y\": 9.295792104243384, \"y_pred\": 14.8351850570602, \"cat\": \"E1\"}, {\"y\": 1.8675027275916585, \"y_pred\": 1.0560731874426195, \"cat\": \"D3\"}, {\"y\": 9.572761632023228, \"y_pred\": 10.04000225487917, \"cat\": \"H1\"}, {\"y\": 0.40206013448789246, \"y_pred\": 1.0510916873562208, \"cat\": \"F3\"}, {\"y\": 20.00816431975963, \"y_pred\": 19.96544960240901, \"cat\": \"B2\"}, {\"y\": 1.8937030617473223, \"y_pred\": 0.98348374072409, \"cat\": \"E3\"}, {\"y\": 10.772909950705804, \"y_pred\": 10.04000225487917, \"cat\": \"D1\"}, {\"y\": 1.140221782934138, \"y_pred\": 0.9182178430490985, \"cat\": \"J3\"}, {\"y\": 10.592858172694484, \"y_pred\": 10.04000225487917, \"cat\": \"J1\"}, {\"y\": 1.9932092808131794, \"y_pred\": 1.0560731874426195, \"cat\": \"D3\"}, {\"y\": 19.411209284911298, \"y_pred\": 19.96544960240901, \"cat\": \"B2\"}, {\"y\": 9.212031295957575, \"y_pred\": 10.04000225487917, \"cat\": \"H1\"}, {\"y\": 9.851938306566382, \"y_pred\": 10.04000225487917, \"cat\": \"D1\"}, {\"y\": 19.082329276153228, \"y_pred\": 14.8351850570602, \"cat\": \"C2\"}, {\"y\": 0.25133708392386045, \"y_pred\": 0.98348374072409, \"cat\": \"G3\"}, {\"y\": 10.449132406732668, \"y_pred\": 9.702587247465505, \"cat\": \"B1\"}, {\"y\": 0.02372803455874206, \"y_pred\": 0.98348374072409, \"cat\": \"B3\"}, {\"y\": 0.5078446463642772, \"y_pred\": 1.0560731874426195, \"cat\": \"D3\"}, {\"y\": 9.742117143822856, \"y_pred\": 9.702587247465505, \"cat\": \"B1\"}, {\"y\": 10.619462865008618, \"y_pred\": 10.04000225487917, \"cat\": \"A1\"}, {\"y\": 9.146858546371357, \"y_pred\": 10.04000225487917, \"cat\": \"F1\"}, {\"y\": 19.29218469876556, \"y_pred\": 19.96544960240901, \"cat\": \"H2\"}, {\"y\": 0.5688106243620701, \"y_pred\": 0.98348374072409, \"cat\": \"G3\"}, {\"y\": 9.240261892640017, \"y_pred\": 10.04000225487917, \"cat\": \"D1\"}, {\"y\": 0.9155483807690259, \"y_pred\": 0.9182178430490985, \"cat\": \"J3\"}, {\"y\": 20.58010666857155, \"y_pred\": 20.136608652682273, \"cat\": \"D2\"}, {\"y\": 1.8957495440351315, \"y_pred\": 0.98348374072409, \"cat\": \"H3\"}, {\"y\": 0.9444710799769402, \"y_pred\": 0.9277159363149418, \"cat\": \"I3\"}, {\"y\": 10.46111056186891, \"y_pred\": 10.04000225487917, \"cat\": \"G1\"}, {\"y\": 1.3351438955138328, \"y_pred\": 0.9182178430490985, \"cat\": \"J3\"}, {\"y\": 19.450823647607095, \"y_pred\": 19.96544960240901, \"cat\": \"G2\"}, {\"y\": 0.39398350212066413, \"y_pred\": 1.0560731874426195, \"cat\": \"D3\"}, {\"y\": 20.445918470430932, \"y_pred\": 19.96544960240901, \"cat\": \"A2\"}, {\"y\": 1.028333779664423, \"y_pred\": 0.98348374072409, \"cat\": \"E3\"}, {\"y\": 1.877798573555562, \"y_pred\": 0.98348374072409, \"cat\": \"C3\"}, {\"y\": 19.308754101789745, \"y_pred\": 19.96544960240901, \"cat\": \"F2\"}, {\"y\": 19.588911139392263, \"y_pred\": 14.8351850570602, \"cat\": \"C2\"}, {\"y\": 1.2696962852581346, \"y_pred\": 0.98348374072409, \"cat\": \"C3\"}, {\"y\": 1.748381206748827, \"y_pred\": 0.9277159363149418, \"cat\": \"I3\"}, {\"y\": 0.2952976442514248, \"y_pred\": 1.0560731874426195, \"cat\": \"D3\"}, {\"y\": 10.882186926184575, \"y_pred\": 10.04000225487917, \"cat\": \"H1\"}, {\"y\": 10.643587315971759, \"y_pred\": 10.04000225487917, \"cat\": \"F1\"}, {\"y\": 10.808109051869772, \"y_pred\": 10.04000225487917, \"cat\": \"H1\"}, {\"y\": 20.513153710881305, \"y_pred\": 19.96544960240901, \"cat\": \"B2\"}, {\"y\": 19.258830909026386, \"y_pred\": 14.8351850570602, \"cat\": \"C2\"}, {\"y\": 20.13782290165262, \"y_pred\": 19.96544960240901, \"cat\": \"G2\"}, {\"y\": 10.02600385267203, \"y_pred\": 10.04000225487917, \"cat\": \"D1\"}, {\"y\": 1.0078666530215015, \"y_pred\": 0.9277159363149418, \"cat\": \"I3\"}, {\"y\": 0.8686705749826737, \"y_pred\": 0.9182178430490985, \"cat\": \"J3\"}, {\"y\": 0.4594404220265076, \"y_pred\": 0.98348374072409, \"cat\": \"C3\"}, {\"y\": 1.6152014092601343, \"y_pred\": 0.98348374072409, \"cat\": \"H3\"}, {\"y\": 19.46784350351881, \"y_pred\": 19.96544960240901, \"cat\": \"I2\"}, {\"y\": 10.644613636108657, \"y_pred\": 10.116296363220195, \"cat\": \"I1\"}, {\"y\": 10.152949140231978, \"y_pred\": 10.04000225487917, \"cat\": \"H1\"}, {\"y\": 9.912104519871313, \"y_pred\": 10.04000225487917, \"cat\": \"F1\"}, {\"y\": 1.3272417208585086, \"y_pred\": 0.9182178430490985, \"cat\": \"J3\"}, {\"y\": 0.8231308199627274, \"y_pred\": 1.0560731874426195, \"cat\": \"D3\"}, {\"y\": 9.875369737977294, \"y_pred\": 10.04000225487917, \"cat\": \"D1\"}, {\"y\": 1.2333897309216133, \"y_pred\": 0.98348374072409, \"cat\": \"C3\"}, {\"y\": 0.7805028862503547, \"y_pred\": 0.98348374072409, \"cat\": \"A3\"}, {\"y\": 0.6634566091791982, \"y_pred\": 0.98348374072409, \"cat\": \"E3\"}, {\"y\": 0.4470371386983705, \"y_pred\": 0.9277159363149418, \"cat\": \"I3\"}, {\"y\": 1.1072488046608373, \"y_pred\": 0.9277159363149418, \"cat\": \"I3\"}, {\"y\": 0.24280396889682532, \"y_pred\": 0.98348374072409, \"cat\": \"H3\"}, {\"y\": 19.639311035003775, \"y_pred\": 19.96544960240901, \"cat\": \"E2\"}, {\"y\": 10.173301250207977, \"y_pred\": 10.04000225487917, \"cat\": \"A1\"}, {\"y\": 1.6546550741914168, \"y_pred\": 1.0560731874426195, \"cat\": \"D3\"}, {\"y\": 1.474123922241376, \"y_pred\": 0.98348374072409, \"cat\": \"E3\"}, {\"y\": 9.691775451836591, \"y_pred\": 10.04000225487917, \"cat\": \"J1\"}, {\"y\": 10.100273494917381, \"y_pred\": 10.04000225487917, \"cat\": \"J1\"}, {\"y\": 1.1274117217439872, \"y_pred\": 0.98348374072409, \"cat\": \"G3\"}, {\"y\": 10.21219557822793, \"y_pred\": 10.04000225487917, \"cat\": \"A1\"}, {\"y\": 9.95441418414331, \"y_pred\": 14.8351850570602, \"cat\": \"E1\"}, {\"y\": 10.559569261886198, \"y_pred\": 10.04000225487917, \"cat\": \"D1\"}, {\"y\": 10.064865505802969, \"y_pred\": 10.04000225487917, \"cat\": \"D1\"}, {\"y\": 9.023187011385222, \"y_pred\": 10.04000225487917, \"cat\": \"F1\"}, {\"y\": 0.8850784130143021, \"y_pred\": 0.9182178430490985, \"cat\": \"J3\"}, {\"y\": 10.39902427507542, \"y_pred\": 9.976265565032984, \"cat\": \"C1\"}, {\"y\": 19.050251951877456, \"y_pred\": 14.8351850570602, \"cat\": \"C2\"}, {\"y\": 1.6846869782703828, \"y_pred\": 0.98348374072409, \"cat\": \"H3\"}, {\"y\": 20.96857500892925, \"y_pred\": 14.8351850570602, \"cat\": \"C2\"}, {\"y\": 1.3249427146925004, \"y_pred\": 0.9182178430490985, \"cat\": \"J3\"}, {\"y\": 20.271810305418256, \"y_pred\": 19.96544960240901, \"cat\": \"A2\"}, {\"y\": 0.6013077041445261, \"y_pred\": 1.0560731874426195, \"cat\": \"D3\"}, {\"y\": 10.143375201819058, \"y_pred\": 10.04000225487917, \"cat\": \"J1\"}, {\"y\": 9.214335394736137, \"y_pred\": 10.116296363220195, \"cat\": \"I1\"}, {\"y\": 9.581722718373117, \"y_pred\": 10.04000225487917, \"cat\": \"G1\"}, {\"y\": 19.335252713720422, \"y_pred\": 19.96544960240901, \"cat\": \"I2\"}, {\"y\": 20.33102475795596, \"y_pred\": 14.8351850570602, \"cat\": \"C2\"}, {\"y\": 10.589022038515985, \"y_pred\": 10.04000225487917, \"cat\": \"H1\"}, {\"y\": 0.6691451695081352, \"y_pred\": 0.98348374072409, \"cat\": \"G3\"}, {\"y\": 19.448819374103962, \"y_pred\": 19.96544960240901, \"cat\": \"B2\"}, {\"y\": 1.1861706400914784, \"y_pred\": 1.0510916873562208, \"cat\": \"F3\"}, {\"y\": 0.2834241706842682, \"y_pred\": 0.98348374072409, \"cat\": \"G3\"}, {\"y\": 10.666177280656242, \"y_pred\": 10.04000225487917, \"cat\": \"J1\"}, {\"y\": 1.6798940114044558, \"y_pred\": 0.9277159363149418, \"cat\": \"I3\"}, {\"y\": 10.421484899198706, \"y_pred\": 10.04000225487917, \"cat\": \"H1\"}, {\"y\": 10.178432294646244, \"y_pred\": 10.116296363220195, \"cat\": \"I1\"}, {\"y\": 9.052539029833104, \"y_pred\": 10.04000225487917, \"cat\": \"A1\"}, {\"y\": 0.060129509831321926, \"y_pred\": 0.98348374072409, \"cat\": \"E3\"}, {\"y\": 20.49502106653608, \"y_pred\": 20.136608652682273, \"cat\": \"D2\"}, {\"y\": 1.433122452934993, \"y_pred\": 0.98348374072409, \"cat\": \"H3\"}, {\"y\": 1.1656877049978969, \"y_pred\": 0.98348374072409, \"cat\": \"H3\"}, {\"y\": 19.762339346193258, \"y_pred\": 20.136608652682273, \"cat\": \"D2\"}, {\"y\": 19.153202139962694, \"y_pred\": 19.96544960240901, \"cat\": \"H2\"}, {\"y\": 19.438471309399688, \"y_pred\": 19.96544960240901, \"cat\": \"H2\"}, {\"y\": 10.492202934558147, \"y_pred\": 14.8351850570602, \"cat\": \"E1\"}, {\"y\": 0.7575923623120411, \"y_pred\": 0.98348374072409, \"cat\": \"C3\"}, {\"y\": 10.540746790063228, \"y_pred\": 10.04000225487917, \"cat\": \"D1\"}, {\"y\": 20.421119091599298, \"y_pred\": 20.096333813940596, \"cat\": \"J2\"}, {\"y\": 19.07708276269181, \"y_pred\": 19.96544960240901, \"cat\": \"F2\"}, {\"y\": 9.479103134237882, \"y_pred\": 9.976265565032984, \"cat\": \"C1\"}, {\"y\": 20.08790172833245, \"y_pred\": 19.96544960240901, \"cat\": \"H2\"}, {\"y\": 10.171631736622842, \"y_pred\": 10.116296363220195, \"cat\": \"I1\"}, {\"y\": 0.22317214394888163, \"y_pred\": 0.98348374072409, \"cat\": \"A3\"}, {\"y\": 1.0145860571898149, \"y_pred\": 0.98348374072409, \"cat\": \"H3\"}, {\"y\": 0.2140581069074392, \"y_pred\": 1.0510916873562208, \"cat\": \"F3\"}, {\"y\": 1.451726067320531, \"y_pred\": 0.98348374072409, \"cat\": \"H3\"}, {\"y\": 9.463809398779315, \"y_pred\": 10.04000225487917, \"cat\": \"G1\"}, {\"y\": 19.049515526950085, \"y_pred\": 19.96544960240901, \"cat\": \"E2\"}, {\"y\": 19.50892337980001, \"y_pred\": 19.96544960240901, \"cat\": \"H2\"}, {\"y\": 10.136790264526567, \"y_pred\": 10.04000225487917, \"cat\": \"H1\"}, {\"y\": 20.19116114239479, \"y_pred\": 19.96544960240901, \"cat\": \"G2\"}, {\"y\": 20.058191492418075, \"y_pred\": 14.8351850570602, \"cat\": \"C2\"}, {\"y\": 9.203000099903218, \"y_pred\": 10.04000225487917, \"cat\": \"A1\"}, {\"y\": 0.6676407154168251, \"y_pred\": 0.98348374072409, \"cat\": \"B3\"}, {\"y\": 20.21342271479435, \"y_pred\": 19.96544960240901, \"cat\": \"B2\"}, {\"y\": 9.48474698964963, \"y_pred\": 14.8351850570602, \"cat\": \"E1\"}, {\"y\": 10.866551132257003, \"y_pred\": 10.04000225487917, \"cat\": \"G1\"}, {\"y\": 20.130936912091776, \"y_pred\": 19.96544960240901, \"cat\": \"F2\"}, {\"y\": 0.17715246381929606, \"y_pred\": 0.98348374072409, \"cat\": \"B3\"}, {\"y\": 19.11154643844185, \"y_pred\": 14.8351850570602, \"cat\": \"C2\"}, {\"y\": 1.1663140659152396, \"y_pred\": 0.98348374072409, \"cat\": \"B3\"}, {\"y\": 10.781462638418178, \"y_pred\": 9.976265565032984, \"cat\": \"C1\"}, {\"y\": 10.463583921199772, \"y_pred\": 10.116296363220195, \"cat\": \"I1\"}, {\"y\": 19.881958561202964, \"y_pred\": 19.96544960240901, \"cat\": \"A2\"}, {\"y\": 0.35198766207932164, \"y_pred\": 1.0510916873562208, \"cat\": \"F3\"}, {\"y\": 10.33655036995322, \"y_pred\": 9.976265565032984, \"cat\": \"C1\"}, {\"y\": 20.639915078524055, \"y_pred\": 19.96544960240901, \"cat\": \"B2\"}, {\"y\": 1.5858095531873015, \"y_pred\": 0.9182178430490985, \"cat\": \"J3\"}, {\"y\": 20.549300725916027, \"y_pred\": 20.136608652682273, \"cat\": \"D2\"}, {\"y\": 0.7705612551613208, \"y_pred\": 0.98348374072409, \"cat\": \"H3\"}, {\"y\": 20.156578373052486, \"y_pred\": 19.96544960240901, \"cat\": \"E2\"}, {\"y\": 1.488624912965331, \"y_pred\": 0.9277159363149418, \"cat\": \"I3\"}, {\"y\": 9.698617124835028, \"y_pred\": 10.116296363220195, \"cat\": \"I1\"}, {\"y\": 0.9680412343946829, \"y_pred\": 0.98348374072409, \"cat\": \"H3\"}, {\"y\": 0.4424147703771004, \"y_pred\": 0.9277159363149418, \"cat\": \"I3\"}, {\"y\": 1.085877806903644, \"y_pred\": 0.9277159363149418, \"cat\": \"I3\"}, {\"y\": 19.911729488607193, \"y_pred\": 19.96544960240901, \"cat\": \"G2\"}, {\"y\": 9.802334928007546, \"y_pred\": 9.702587247465505, \"cat\": \"B1\"}, {\"y\": 1.664311622855744, \"y_pred\": 1.0510916873562208, \"cat\": \"F3\"}, {\"y\": 20.421593642635532, \"y_pred\": 19.96544960240901, \"cat\": \"F2\"}, {\"y\": 9.98216105314478, \"y_pred\": 10.04000225487917, \"cat\": \"A1\"}, {\"y\": 20.930000007112124, \"y_pred\": 20.096333813940596, \"cat\": \"J2\"}, {\"y\": 19.417497727411746, \"y_pred\": 19.96544960240901, \"cat\": \"B2\"}, {\"y\": 1.945429826930148, \"y_pred\": 0.98348374072409, \"cat\": \"E3\"}, {\"y\": 0.22603377781250344, \"y_pred\": 0.9277159363149418, \"cat\": \"I3\"}, {\"y\": 19.279814661304854, \"y_pred\": 19.96544960240901, \"cat\": \"A2\"}, {\"y\": 10.755177382256774, \"y_pred\": 10.04000225487917, \"cat\": \"A1\"}, {\"y\": 0.7185365516022681, \"y_pred\": 0.9277159363149418, \"cat\": \"I3\"}, {\"y\": 1.0828703070700931, \"y_pred\": 0.9277159363149418, \"cat\": \"I3\"}, {\"y\": 10.745003717769139, \"y_pred\": 10.04000225487917, \"cat\": \"F1\"}, {\"y\": 10.090159309166276, \"y_pred\": 9.976265565032984, \"cat\": \"C1\"}, {\"y\": 1.8603868675654076, \"y_pred\": 0.98348374072409, \"cat\": \"H3\"}, {\"y\": 9.2892849125925, \"y_pred\": 10.04000225487917, \"cat\": \"F1\"}, {\"y\": 10.11446547663557, \"y_pred\": 9.702587247465505, \"cat\": \"B1\"}, {\"y\": 10.534684365221295, \"y_pred\": 10.04000225487917, \"cat\": \"D1\"}, {\"y\": 9.737570318394566, \"y_pred\": 10.116296363220195, \"cat\": \"I1\"}, {\"y\": 0.7794377721135248, \"y_pred\": 0.98348374072409, \"cat\": \"A3\"}, {\"y\": 0.032730307384333246, \"y_pred\": 0.9277159363149418, \"cat\": \"I3\"}, {\"y\": 20.399302190432305, \"y_pred\": 20.136608652682273, \"cat\": \"D2\"}, {\"y\": 10.795565075222658, \"y_pred\": 10.04000225487917, \"cat\": \"G1\"}, {\"y\": 20.343020418232943, \"y_pred\": 19.96544960240901, \"cat\": \"F2\"}]}}, {\"mode\": \"vega-lite\"});\n",
       "</script>"
      ],
      "text/plain": [
       "alt.Chart(...)"
      ]
     },
     "execution_count": 41,
     "metadata": {},
     "output_type": "execute_result"
    }
   ],
   "source": [
    "create_scatter(source_fh)"
   ]
  },
  {
   "cell_type": "code",
   "execution_count": 42,
   "id": "baa2d0f4-ca0e-485d-85a7-bca852e607b6",
   "metadata": {
    "execution": {
     "iopub.execute_input": "2022-03-24T14:13:11.252174Z",
     "iopub.status.busy": "2022-03-24T14:13:11.252035Z",
     "iopub.status.idle": "2022-03-24T14:13:11.292051Z",
     "shell.execute_reply": "2022-03-24T14:13:11.291255Z",
     "shell.execute_reply.started": "2022-03-24T14:13:11.252156Z"
    },
    "tags": []
   },
   "outputs": [
    {
     "data": {
      "image/svg+xml": [
       "<?xml version=\"1.0\" encoding=\"UTF-8\" standalone=\"no\"?>\n",
       "<!DOCTYPE svg PUBLIC \"-//W3C//DTD SVG 1.1//EN\"\n",
       " \"http://www.w3.org/Graphics/SVG/1.1/DTD/svg11.dtd\">\n",
       "<!-- Generated by graphviz version 2.49.1 (20211004.0028)\n",
       " -->\n",
       "<!-- Title: Tree Pages: 1 -->\n",
       "<svg width=\"1286pt\" height=\"581pt\"\n",
       " viewBox=\"0.00 0.00 1286.00 581.00\" xmlns=\"http://www.w3.org/2000/svg\" xmlns:xlink=\"http://www.w3.org/1999/xlink\">\n",
       "<g id=\"graph0\" class=\"graph\" transform=\"scale(1 1) rotate(0) translate(4 577)\">\n",
       "<title>Tree</title>\n",
       "<polygon fill=\"white\" stroke=\"transparent\" points=\"-4,4 -4,-577 1282,-577 1282,4 -4,4\"/>\n",
       "<!-- 0 -->\n",
       "<g id=\"node1\" class=\"node\">\n",
       "<title>0</title>\n",
       "<polygon fill=\"#f2c29f\" stroke=\"black\" points=\"848.5,-573 665.5,-573 665.5,-505 848.5,-505 848.5,-573\"/>\n",
       "<text text-anchor=\"middle\" x=\"757\" y=\"-557.8\" font-family=\"Helvetica,sans-Serif\" font-size=\"14.00\">fh0 &lt;= 0.5</text>\n",
       "<text text-anchor=\"middle\" x=\"757\" y=\"-542.8\" font-family=\"Helvetica,sans-Serif\" font-size=\"14.00\">squared_error = 62.553</text>\n",
       "<text text-anchor=\"middle\" x=\"757\" y=\"-527.8\" font-family=\"Helvetica,sans-Serif\" font-size=\"14.00\">samples = 800</text>\n",
       "<text text-anchor=\"middle\" x=\"757\" y=\"-512.8\" font-family=\"Helvetica,sans-Serif\" font-size=\"14.00\">value = 10.252</text>\n",
       "</g>\n",
       "<!-- 1 -->\n",
       "<g id=\"node2\" class=\"node\">\n",
       "<title>1</title>\n",
       "<polygon fill=\"#eca16c\" stroke=\"black\" points=\"656.5,-469 473.5,-469 473.5,-401 656.5,-401 656.5,-469\"/>\n",
       "<text text-anchor=\"middle\" x=\"565\" y=\"-453.8\" font-family=\"Helvetica,sans-Serif\" font-size=\"14.00\">fh7 &lt;= &#45;0.5</text>\n",
       "<text text-anchor=\"middle\" x=\"565\" y=\"-438.8\" font-family=\"Helvetica,sans-Serif\" font-size=\"14.00\">squared_error = 25.268</text>\n",
       "<text text-anchor=\"middle\" x=\"565\" y=\"-423.8\" font-family=\"Helvetica,sans-Serif\" font-size=\"14.00\">samples = 521</text>\n",
       "<text text-anchor=\"middle\" x=\"565\" y=\"-408.8\" font-family=\"Helvetica,sans-Serif\" font-size=\"14.00\">value = 15.214</text>\n",
       "</g>\n",
       "<!-- 0&#45;&gt;1 -->\n",
       "<g id=\"edge1\" class=\"edge\">\n",
       "<title>0&#45;&gt;1</title>\n",
       "<path fill=\"none\" stroke=\"black\" d=\"M694.66,-504.88C676.04,-494.99 655.48,-484.07 636.33,-473.9\"/>\n",
       "<polygon fill=\"black\" stroke=\"black\" points=\"637.83,-470.73 627.35,-469.12 634.54,-476.91 637.83,-470.73\"/>\n",
       "<text text-anchor=\"middle\" x=\"634.67\" y=\"-489.33\" font-family=\"Helvetica,sans-Serif\" font-size=\"14.00\">True</text>\n",
       "</g>\n",
       "<!-- 16 -->\n",
       "<g id=\"node17\" class=\"node\">\n",
       "<title>16</title>\n",
       "<polygon fill=\"#fffffe\" stroke=\"black\" points=\"943,-469 769,-469 769,-401 943,-401 943,-469\"/>\n",
       "<text text-anchor=\"middle\" x=\"856\" y=\"-453.8\" font-family=\"Helvetica,sans-Serif\" font-size=\"14.00\">fh6 &lt;= 0.5</text>\n",
       "<text text-anchor=\"middle\" x=\"856\" y=\"-438.8\" font-family=\"Helvetica,sans-Serif\" font-size=\"14.00\">squared_error = 0.321</text>\n",
       "<text text-anchor=\"middle\" x=\"856\" y=\"-423.8\" font-family=\"Helvetica,sans-Serif\" font-size=\"14.00\">samples = 279</text>\n",
       "<text text-anchor=\"middle\" x=\"856\" y=\"-408.8\" font-family=\"Helvetica,sans-Serif\" font-size=\"14.00\">value = 0.985</text>\n",
       "</g>\n",
       "<!-- 0&#45;&gt;16 -->\n",
       "<g id=\"edge16\" class=\"edge\">\n",
       "<title>0&#45;&gt;16</title>\n",
       "<path fill=\"none\" stroke=\"black\" d=\"M789.14,-504.88C797.87,-495.89 807.43,-486.04 816.52,-476.68\"/>\n",
       "<polygon fill=\"black\" stroke=\"black\" points=\"819.23,-478.91 823.68,-469.3 814.2,-474.04 819.23,-478.91\"/>\n",
       "<text text-anchor=\"middle\" x=\"824.05\" y=\"-490.6\" font-family=\"Helvetica,sans-Serif\" font-size=\"14.00\">False</text>\n",
       "</g>\n",
       "<!-- 2 -->\n",
       "<g id=\"node3\" class=\"node\">\n",
       "<title>2</title>\n",
       "<polygon fill=\"#f3c3a1\" stroke=\"black\" points=\"362,-365 188,-365 188,-297 362,-297 362,-365\"/>\n",
       "<text text-anchor=\"middle\" x=\"275\" y=\"-349.8\" font-family=\"Helvetica,sans-Serif\" font-size=\"14.00\">fh2 &lt;= &#45;0.5</text>\n",
       "<text text-anchor=\"middle\" x=\"275\" y=\"-334.8\" font-family=\"Helvetica,sans-Serif\" font-size=\"14.00\">squared_error = 0.376</text>\n",
       "<text text-anchor=\"middle\" x=\"275\" y=\"-319.8\" font-family=\"Helvetica,sans-Serif\" font-size=\"14.00\">samples = 216</text>\n",
       "<text text-anchor=\"middle\" x=\"275\" y=\"-304.8\" font-family=\"Helvetica,sans-Serif\" font-size=\"14.00\">value = 10.012</text>\n",
       "</g>\n",
       "<!-- 1&#45;&gt;2 -->\n",
       "<g id=\"edge2\" class=\"edge\">\n",
       "<title>1&#45;&gt;2</title>\n",
       "<path fill=\"none\" stroke=\"black\" d=\"M473.24,-401.73C440.92,-390.36 404.5,-377.55 371.78,-366.04\"/>\n",
       "<polygon fill=\"black\" stroke=\"black\" points=\"372.8,-362.69 362.21,-362.67 370.48,-369.29 372.8,-362.69\"/>\n",
       "</g>\n",
       "<!-- 9 -->\n",
       "<g id=\"node10\" class=\"node\">\n",
       "<title>9</title>\n",
       "<polygon fill=\"#e78946\" stroke=\"black\" points=\"656.5,-365 473.5,-365 473.5,-297 656.5,-297 656.5,-365\"/>\n",
       "<text text-anchor=\"middle\" x=\"565\" y=\"-349.8\" font-family=\"Helvetica,sans-Serif\" font-size=\"14.00\">fh1 &lt;= 0.5</text>\n",
       "<text text-anchor=\"middle\" x=\"565\" y=\"-334.8\" font-family=\"Helvetica,sans-Serif\" font-size=\"14.00\">squared_error = 10.158</text>\n",
       "<text text-anchor=\"middle\" x=\"565\" y=\"-319.8\" font-family=\"Helvetica,sans-Serif\" font-size=\"14.00\">samples = 305</text>\n",
       "<text text-anchor=\"middle\" x=\"565\" y=\"-304.8\" font-family=\"Helvetica,sans-Serif\" font-size=\"14.00\">value = 18.898</text>\n",
       "</g>\n",
       "<!-- 1&#45;&gt;9 -->\n",
       "<g id=\"edge9\" class=\"edge\">\n",
       "<title>1&#45;&gt;9</title>\n",
       "<path fill=\"none\" stroke=\"black\" d=\"M565,-400.88C565,-392.78 565,-383.98 565,-375.47\"/>\n",
       "<polygon fill=\"black\" stroke=\"black\" points=\"568.5,-375.3 565,-365.3 561.5,-375.3 568.5,-375.3\"/>\n",
       "</g>\n",
       "<!-- 3 -->\n",
       "<g id=\"node4\" class=\"node\">\n",
       "<title>3</title>\n",
       "<polygon fill=\"#f3c5a4\" stroke=\"black\" points=\"174,-253.5 0,-253.5 0,-200.5 174,-200.5 174,-253.5\"/>\n",
       "<text text-anchor=\"middle\" x=\"87\" y=\"-238.3\" font-family=\"Helvetica,sans-Serif\" font-size=\"14.00\">squared_error = 0.338</text>\n",
       "<text text-anchor=\"middle\" x=\"87\" y=\"-223.3\" font-family=\"Helvetica,sans-Serif\" font-size=\"14.00\">samples = 19</text>\n",
       "<text text-anchor=\"middle\" x=\"87\" y=\"-208.3\" font-family=\"Helvetica,sans-Serif\" font-size=\"14.00\">value = 9.703</text>\n",
       "</g>\n",
       "<!-- 2&#45;&gt;3 -->\n",
       "<g id=\"edge3\" class=\"edge\">\n",
       "<title>2&#45;&gt;3</title>\n",
       "<path fill=\"none\" stroke=\"black\" d=\"M213.96,-296.88C191.16,-284.51 165.39,-270.53 143.06,-258.41\"/>\n",
       "<polygon fill=\"black\" stroke=\"black\" points=\"144.5,-255.21 134.04,-253.52 141.16,-261.37 144.5,-255.21\"/>\n",
       "</g>\n",
       "<!-- 4 -->\n",
       "<g id=\"node5\" class=\"node\">\n",
       "<title>4</title>\n",
       "<polygon fill=\"#f3c3a1\" stroke=\"black\" points=\"357.5,-261 192.5,-261 192.5,-193 357.5,-193 357.5,-261\"/>\n",
       "<text text-anchor=\"middle\" x=\"275\" y=\"-245.8\" font-family=\"Helvetica,sans-Serif\" font-size=\"14.00\">fh4 &lt;= 0.5</text>\n",
       "<text text-anchor=\"middle\" x=\"275\" y=\"-230.8\" font-family=\"Helvetica,sans-Serif\" font-size=\"14.00\">squared_error = 0.37</text>\n",
       "<text text-anchor=\"middle\" x=\"275\" y=\"-215.8\" font-family=\"Helvetica,sans-Serif\" font-size=\"14.00\">samples = 197</text>\n",
       "<text text-anchor=\"middle\" x=\"275\" y=\"-200.8\" font-family=\"Helvetica,sans-Serif\" font-size=\"14.00\">value = 10.042</text>\n",
       "</g>\n",
       "<!-- 2&#45;&gt;4 -->\n",
       "<g id=\"edge4\" class=\"edge\">\n",
       "<title>2&#45;&gt;4</title>\n",
       "<path fill=\"none\" stroke=\"black\" d=\"M275,-296.88C275,-288.78 275,-279.98 275,-271.47\"/>\n",
       "<polygon fill=\"black\" stroke=\"black\" points=\"278.5,-271.3 275,-261.3 271.5,-271.3 278.5,-271.3\"/>\n",
       "</g>\n",
       "<!-- 5 -->\n",
       "<g id=\"node6\" class=\"node\">\n",
       "<title>5</title>\n",
       "<polygon fill=\"#f3c3a1\" stroke=\"black\" points=\"268.5,-157 103.5,-157 103.5,-89 268.5,-89 268.5,-157\"/>\n",
       "<text text-anchor=\"middle\" x=\"186\" y=\"-141.8\" font-family=\"Helvetica,sans-Serif\" font-size=\"14.00\">fh1 &lt;= &#45;0.5</text>\n",
       "<text text-anchor=\"middle\" x=\"186\" y=\"-126.8\" font-family=\"Helvetica,sans-Serif\" font-size=\"14.00\">squared_error = 0.36</text>\n",
       "<text text-anchor=\"middle\" x=\"186\" y=\"-111.8\" font-family=\"Helvetica,sans-Serif\" font-size=\"14.00\">samples = 170</text>\n",
       "<text text-anchor=\"middle\" x=\"186\" y=\"-96.8\" font-family=\"Helvetica,sans-Serif\" font-size=\"14.00\">value = 10.03</text>\n",
       "</g>\n",
       "<!-- 4&#45;&gt;5 -->\n",
       "<g id=\"edge5\" class=\"edge\">\n",
       "<title>4&#45;&gt;5</title>\n",
       "<path fill=\"none\" stroke=\"black\" d=\"M246.1,-192.88C238.33,-183.98 229.83,-174.24 221.74,-164.96\"/>\n",
       "<polygon fill=\"black\" stroke=\"black\" points=\"224.27,-162.53 215.06,-157.3 218.99,-167.14 224.27,-162.53\"/>\n",
       "</g>\n",
       "<!-- 8 -->\n",
       "<g id=\"node9\" class=\"node\">\n",
       "<title>8</title>\n",
       "<polygon fill=\"#f3c3a0\" stroke=\"black\" points=\"461,-149.5 287,-149.5 287,-96.5 461,-96.5 461,-149.5\"/>\n",
       "<text text-anchor=\"middle\" x=\"374\" y=\"-134.3\" font-family=\"Helvetica,sans-Serif\" font-size=\"14.00\">squared_error = 0.424</text>\n",
       "<text text-anchor=\"middle\" x=\"374\" y=\"-119.3\" font-family=\"Helvetica,sans-Serif\" font-size=\"14.00\">samples = 27</text>\n",
       "<text text-anchor=\"middle\" x=\"374\" y=\"-104.3\" font-family=\"Helvetica,sans-Serif\" font-size=\"14.00\">value = 10.116</text>\n",
       "</g>\n",
       "<!-- 4&#45;&gt;8 -->\n",
       "<g id=\"edge8\" class=\"edge\">\n",
       "<title>4&#45;&gt;8</title>\n",
       "<path fill=\"none\" stroke=\"black\" d=\"M307.14,-192.88C318.35,-181.34 330.92,-168.39 342.11,-156.86\"/>\n",
       "<polygon fill=\"black\" stroke=\"black\" points=\"344.78,-159.13 349.23,-149.52 339.75,-154.26 344.78,-159.13\"/>\n",
       "</g>\n",
       "<!-- 6 -->\n",
       "<g id=\"node7\" class=\"node\">\n",
       "<title>6</title>\n",
       "<polygon fill=\"#f3c4a2\" stroke=\"black\" points=\"175,-53 1,-53 1,0 175,0 175,-53\"/>\n",
       "<text text-anchor=\"middle\" x=\"88\" y=\"-37.8\" font-family=\"Helvetica,sans-Serif\" font-size=\"14.00\">squared_error = 0.337</text>\n",
       "<text text-anchor=\"middle\" x=\"88\" y=\"-22.8\" font-family=\"Helvetica,sans-Serif\" font-size=\"14.00\">samples = 26</text>\n",
       "<text text-anchor=\"middle\" x=\"88\" y=\"-7.8\" font-family=\"Helvetica,sans-Serif\" font-size=\"14.00\">value = 9.976</text>\n",
       "</g>\n",
       "<!-- 5&#45;&gt;6 -->\n",
       "<g id=\"edge6\" class=\"edge\">\n",
       "<title>5&#45;&gt;6</title>\n",
       "<path fill=\"none\" stroke=\"black\" d=\"M151.72,-88.95C142.14,-79.71 131.73,-69.67 122.16,-60.44\"/>\n",
       "<polygon fill=\"black\" stroke=\"black\" points=\"124.32,-57.66 114.69,-53.24 119.46,-62.7 124.32,-57.66\"/>\n",
       "</g>\n",
       "<!-- 7 -->\n",
       "<g id=\"node8\" class=\"node\">\n",
       "<title>7</title>\n",
       "<polygon fill=\"#f3c3a1\" stroke=\"black\" points=\"367,-53 193,-53 193,0 367,0 367,-53\"/>\n",
       "<text text-anchor=\"middle\" x=\"280\" y=\"-37.8\" font-family=\"Helvetica,sans-Serif\" font-size=\"14.00\">squared_error = 0.364</text>\n",
       "<text text-anchor=\"middle\" x=\"280\" y=\"-22.8\" font-family=\"Helvetica,sans-Serif\" font-size=\"14.00\">samples = 144</text>\n",
       "<text text-anchor=\"middle\" x=\"280\" y=\"-7.8\" font-family=\"Helvetica,sans-Serif\" font-size=\"14.00\">value = 10.04</text>\n",
       "</g>\n",
       "<!-- 5&#45;&gt;7 -->\n",
       "<g id=\"edge7\" class=\"edge\">\n",
       "<title>5&#45;&gt;7</title>\n",
       "<path fill=\"none\" stroke=\"black\" d=\"M218.88,-88.95C228.07,-79.71 238.05,-69.67 247.24,-60.44\"/>\n",
       "<polygon fill=\"black\" stroke=\"black\" points=\"249.83,-62.79 254.4,-53.24 244.87,-57.86 249.83,-62.79\"/>\n",
       "</g>\n",
       "<!-- 10 -->\n",
       "<g id=\"node11\" class=\"node\">\n",
       "<title>10</title>\n",
       "<polygon fill=\"#eca470\" stroke=\"black\" points=\"558.5,-253.5 375.5,-253.5 375.5,-200.5 558.5,-200.5 558.5,-253.5\"/>\n",
       "<text text-anchor=\"middle\" x=\"467\" y=\"-238.3\" font-family=\"Helvetica,sans-Serif\" font-size=\"14.00\">squared_error = 25.418</text>\n",
       "<text text-anchor=\"middle\" x=\"467\" y=\"-223.3\" font-family=\"Helvetica,sans-Serif\" font-size=\"14.00\">samples = 65</text>\n",
       "<text text-anchor=\"middle\" x=\"467\" y=\"-208.3\" font-family=\"Helvetica,sans-Serif\" font-size=\"14.00\">value = 14.835</text>\n",
       "</g>\n",
       "<!-- 9&#45;&gt;10 -->\n",
       "<g id=\"edge10\" class=\"edge\">\n",
       "<title>9&#45;&gt;10</title>\n",
       "<path fill=\"none\" stroke=\"black\" d=\"M533.18,-296.88C522.09,-285.34 509.65,-272.39 498.57,-260.86\"/>\n",
       "<polygon fill=\"black\" stroke=\"black\" points=\"500.97,-258.31 491.52,-253.52 495.92,-263.16 500.97,-258.31\"/>\n",
       "</g>\n",
       "<!-- 11 -->\n",
       "<g id=\"node12\" class=\"node\">\n",
       "<title>11</title>\n",
       "<polygon fill=\"#e5823a\" stroke=\"black\" points=\"751,-261 577,-261 577,-193 751,-193 751,-261\"/>\n",
       "<text text-anchor=\"middle\" x=\"664\" y=\"-245.8\" font-family=\"Helvetica,sans-Serif\" font-size=\"14.00\">fh6 &lt;= 0.5</text>\n",
       "<text text-anchor=\"middle\" x=\"664\" y=\"-230.8\" font-family=\"Helvetica,sans-Serif\" font-size=\"14.00\">squared_error = 0.342</text>\n",
       "<text text-anchor=\"middle\" x=\"664\" y=\"-215.8\" font-family=\"Helvetica,sans-Serif\" font-size=\"14.00\">samples = 240</text>\n",
       "<text text-anchor=\"middle\" x=\"664\" y=\"-200.8\" font-family=\"Helvetica,sans-Serif\" font-size=\"14.00\">value = 19.999</text>\n",
       "</g>\n",
       "<!-- 9&#45;&gt;11 -->\n",
       "<g id=\"edge11\" class=\"edge\">\n",
       "<title>9&#45;&gt;11</title>\n",
       "<path fill=\"none\" stroke=\"black\" d=\"M597.14,-296.88C605.87,-287.89 615.43,-278.04 624.52,-268.68\"/>\n",
       "<polygon fill=\"black\" stroke=\"black\" points=\"627.23,-270.91 631.68,-261.3 622.2,-266.04 627.23,-270.91\"/>\n",
       "</g>\n",
       "<!-- 12 -->\n",
       "<g id=\"node13\" class=\"node\">\n",
       "<title>12</title>\n",
       "<polygon fill=\"#e5823b\" stroke=\"black\" points=\"648.5,-157 483.5,-157 483.5,-89 648.5,-89 648.5,-157\"/>\n",
       "<text text-anchor=\"middle\" x=\"566\" y=\"-141.8\" font-family=\"Helvetica,sans-Serif\" font-size=\"14.00\">fh1 &lt;= 1.5</text>\n",
       "<text text-anchor=\"middle\" x=\"566\" y=\"-126.8\" font-family=\"Helvetica,sans-Serif\" font-size=\"14.00\">squared_error = 0.34</text>\n",
       "<text text-anchor=\"middle\" x=\"566\" y=\"-111.8\" font-family=\"Helvetica,sans-Serif\" font-size=\"14.00\">samples = 213</text>\n",
       "<text text-anchor=\"middle\" x=\"566\" y=\"-96.8\" font-family=\"Helvetica,sans-Serif\" font-size=\"14.00\">value = 19.981</text>\n",
       "</g>\n",
       "<!-- 11&#45;&gt;12 -->\n",
       "<g id=\"edge12\" class=\"edge\">\n",
       "<title>11&#45;&gt;12</title>\n",
       "<path fill=\"none\" stroke=\"black\" d=\"M632.18,-192.88C623.54,-183.89 614.08,-174.04 605.08,-164.68\"/>\n",
       "<polygon fill=\"black\" stroke=\"black\" points=\"607.45,-162.09 597.99,-157.3 602.4,-166.94 607.45,-162.09\"/>\n",
       "</g>\n",
       "<!-- 15 -->\n",
       "<g id=\"node16\" class=\"node\">\n",
       "<title>15</title>\n",
       "<polygon fill=\"#e58139\" stroke=\"black\" points=\"841,-149.5 667,-149.5 667,-96.5 841,-96.5 841,-149.5\"/>\n",
       "<text text-anchor=\"middle\" x=\"754\" y=\"-134.3\" font-family=\"Helvetica,sans-Serif\" font-size=\"14.00\">squared_error = 0.341</text>\n",
       "<text text-anchor=\"middle\" x=\"754\" y=\"-119.3\" font-family=\"Helvetica,sans-Serif\" font-size=\"14.00\">samples = 27</text>\n",
       "<text text-anchor=\"middle\" x=\"754\" y=\"-104.3\" font-family=\"Helvetica,sans-Serif\" font-size=\"14.00\">value = 20.137</text>\n",
       "</g>\n",
       "<!-- 11&#45;&gt;15 -->\n",
       "<g id=\"edge15\" class=\"edge\">\n",
       "<title>11&#45;&gt;15</title>\n",
       "<path fill=\"none\" stroke=\"black\" d=\"M693.22,-192.88C703.31,-181.45 714.62,-168.63 724.71,-157.19\"/>\n",
       "<polygon fill=\"black\" stroke=\"black\" points=\"727.49,-159.33 731.48,-149.52 722.24,-154.7 727.49,-159.33\"/>\n",
       "</g>\n",
       "<!-- 13 -->\n",
       "<g id=\"node14\" class=\"node\">\n",
       "<title>13</title>\n",
       "<polygon fill=\"#e5823b\" stroke=\"black\" points=\"644.5,-53 479.5,-53 479.5,0 644.5,0 644.5,-53\"/>\n",
       "<text text-anchor=\"middle\" x=\"562\" y=\"-37.8\" font-family=\"Helvetica,sans-Serif\" font-size=\"14.00\">squared_error = 0.33</text>\n",
       "<text text-anchor=\"middle\" x=\"562\" y=\"-22.8\" font-family=\"Helvetica,sans-Serif\" font-size=\"14.00\">samples = 187</text>\n",
       "<text text-anchor=\"middle\" x=\"562\" y=\"-7.8\" font-family=\"Helvetica,sans-Serif\" font-size=\"14.00\">value = 19.965</text>\n",
       "</g>\n",
       "<!-- 12&#45;&gt;13 -->\n",
       "<g id=\"edge13\" class=\"edge\">\n",
       "<title>12&#45;&gt;13</title>\n",
       "<path fill=\"none\" stroke=\"black\" d=\"M564.6,-88.95C564.25,-80.72 563.88,-71.85 563.52,-63.48\"/>\n",
       "<polygon fill=\"black\" stroke=\"black\" points=\"567.01,-63.08 563.09,-53.24 560.02,-63.38 567.01,-63.08\"/>\n",
       "</g>\n",
       "<!-- 14 -->\n",
       "<g id=\"node15\" class=\"node\">\n",
       "<title>14</title>\n",
       "<polygon fill=\"#e58139\" stroke=\"black\" points=\"837,-53 663,-53 663,0 837,0 837,-53\"/>\n",
       "<text text-anchor=\"middle\" x=\"750\" y=\"-37.8\" font-family=\"Helvetica,sans-Serif\" font-size=\"14.00\">squared_error = 0.399</text>\n",
       "<text text-anchor=\"middle\" x=\"750\" y=\"-22.8\" font-family=\"Helvetica,sans-Serif\" font-size=\"14.00\">samples = 26</text>\n",
       "<text text-anchor=\"middle\" x=\"750\" y=\"-7.8\" font-family=\"Helvetica,sans-Serif\" font-size=\"14.00\">value = 20.096</text>\n",
       "</g>\n",
       "<!-- 12&#45;&gt;14 -->\n",
       "<g id=\"edge14\" class=\"edge\">\n",
       "<title>12&#45;&gt;14</title>\n",
       "<path fill=\"none\" stroke=\"black\" d=\"M630.35,-88.95C650.13,-78.79 671.78,-67.67 691.16,-57.72\"/>\n",
       "<polygon fill=\"black\" stroke=\"black\" points=\"692.88,-60.77 700.18,-53.09 689.69,-54.54 692.88,-60.77\"/>\n",
       "</g>\n",
       "<!-- 17 -->\n",
       "<g id=\"node18\" class=\"node\">\n",
       "<title>17</title>\n",
       "<polygon fill=\"#fffffe\" stroke=\"black\" points=\"943,-365 769,-365 769,-297 943,-297 943,-365\"/>\n",
       "<text text-anchor=\"middle\" x=\"856\" y=\"-349.8\" font-family=\"Helvetica,sans-Serif\" font-size=\"14.00\">fh8 &lt;= &#45;0.5</text>\n",
       "<text text-anchor=\"middle\" x=\"856\" y=\"-334.8\" font-family=\"Helvetica,sans-Serif\" font-size=\"14.00\">squared_error = 0.325</text>\n",
       "<text text-anchor=\"middle\" x=\"856\" y=\"-319.8\" font-family=\"Helvetica,sans-Serif\" font-size=\"14.00\">samples = 249</text>\n",
       "<text text-anchor=\"middle\" x=\"856\" y=\"-304.8\" font-family=\"Helvetica,sans-Serif\" font-size=\"14.00\">value = 0.977</text>\n",
       "</g>\n",
       "<!-- 16&#45;&gt;17 -->\n",
       "<g id=\"edge17\" class=\"edge\">\n",
       "<title>16&#45;&gt;17</title>\n",
       "<path fill=\"none\" stroke=\"black\" d=\"M856,-400.88C856,-392.78 856,-383.98 856,-375.47\"/>\n",
       "<polygon fill=\"black\" stroke=\"black\" points=\"859.5,-375.3 856,-365.3 852.5,-375.3 859.5,-375.3\"/>\n",
       "</g>\n",
       "<!-- 24 -->\n",
       "<g id=\"node25\" class=\"node\">\n",
       "<title>24</title>\n",
       "<polygon fill=\"#fffefe\" stroke=\"black\" points=\"1135,-357.5 961,-357.5 961,-304.5 1135,-304.5 1135,-357.5\"/>\n",
       "<text text-anchor=\"middle\" x=\"1048\" y=\"-342.3\" font-family=\"Helvetica,sans-Serif\" font-size=\"14.00\">squared_error = 0.283</text>\n",
       "<text text-anchor=\"middle\" x=\"1048\" y=\"-327.3\" font-family=\"Helvetica,sans-Serif\" font-size=\"14.00\">samples = 30</text>\n",
       "<text text-anchor=\"middle\" x=\"1048\" y=\"-312.3\" font-family=\"Helvetica,sans-Serif\" font-size=\"14.00\">value = 1.056</text>\n",
       "</g>\n",
       "<!-- 16&#45;&gt;24 -->\n",
       "<g id=\"edge24\" class=\"edge\">\n",
       "<title>16&#45;&gt;24</title>\n",
       "<path fill=\"none\" stroke=\"black\" d=\"M918.34,-400.88C941.73,-388.46 968.18,-374.41 991.06,-362.25\"/>\n",
       "<polygon fill=\"black\" stroke=\"black\" points=\"992.77,-365.3 999.96,-357.52 989.49,-359.12 992.77,-365.3\"/>\n",
       "</g>\n",
       "<!-- 18 -->\n",
       "<g id=\"node19\" class=\"node\">\n",
       "<title>18</title>\n",
       "<polygon fill=\"#fffefe\" stroke=\"black\" points=\"943,-253.5 769,-253.5 769,-200.5 943,-200.5 943,-253.5\"/>\n",
       "<text text-anchor=\"middle\" x=\"856\" y=\"-238.3\" font-family=\"Helvetica,sans-Serif\" font-size=\"14.00\">squared_error = 0.375</text>\n",
       "<text text-anchor=\"middle\" x=\"856\" y=\"-223.3\" font-family=\"Helvetica,sans-Serif\" font-size=\"14.00\">samples = 26</text>\n",
       "<text text-anchor=\"middle\" x=\"856\" y=\"-208.3\" font-family=\"Helvetica,sans-Serif\" font-size=\"14.00\">value = 1.051</text>\n",
       "</g>\n",
       "<!-- 17&#45;&gt;18 -->\n",
       "<g id=\"edge18\" class=\"edge\">\n",
       "<title>17&#45;&gt;18</title>\n",
       "<path fill=\"none\" stroke=\"black\" d=\"M856,-296.88C856,-286.33 856,-274.6 856,-263.85\"/>\n",
       "<polygon fill=\"black\" stroke=\"black\" points=\"859.5,-263.52 856,-253.52 852.5,-263.52 859.5,-263.52\"/>\n",
       "</g>\n",
       "<!-- 19 -->\n",
       "<g id=\"node20\" class=\"node\">\n",
       "<title>19</title>\n",
       "<polygon fill=\"#fffffe\" stroke=\"black\" points=\"1135,-261 961,-261 961,-193 1135,-193 1135,-261\"/>\n",
       "<text text-anchor=\"middle\" x=\"1048\" y=\"-245.8\" font-family=\"Helvetica,sans-Serif\" font-size=\"14.00\">fh1 &lt;= 0.5</text>\n",
       "<text text-anchor=\"middle\" x=\"1048\" y=\"-230.8\" font-family=\"Helvetica,sans-Serif\" font-size=\"14.00\">squared_error = 0.318</text>\n",
       "<text text-anchor=\"middle\" x=\"1048\" y=\"-215.8\" font-family=\"Helvetica,sans-Serif\" font-size=\"14.00\">samples = 223</text>\n",
       "<text text-anchor=\"middle\" x=\"1048\" y=\"-200.8\" font-family=\"Helvetica,sans-Serif\" font-size=\"14.00\">value = 0.968</text>\n",
       "</g>\n",
       "<!-- 17&#45;&gt;19 -->\n",
       "<g id=\"edge19\" class=\"edge\">\n",
       "<title>17&#45;&gt;19</title>\n",
       "<path fill=\"none\" stroke=\"black\" d=\"M918.34,-296.88C936.96,-286.99 957.52,-276.07 976.67,-265.9\"/>\n",
       "<polygon fill=\"black\" stroke=\"black\" points=\"978.46,-268.91 985.65,-261.12 975.17,-262.73 978.46,-268.91\"/>\n",
       "</g>\n",
       "<!-- 20 -->\n",
       "<g id=\"node21\" class=\"node\">\n",
       "<title>20</title>\n",
       "<polygon fill=\"#fffffe\" stroke=\"black\" points=\"1086,-157 912,-157 912,-89 1086,-89 1086,-157\"/>\n",
       "<text text-anchor=\"middle\" x=\"999\" y=\"-141.8\" font-family=\"Helvetica,sans-Serif\" font-size=\"14.00\">fh4 &lt;= 0.5</text>\n",
       "<text text-anchor=\"middle\" x=\"999\" y=\"-126.8\" font-family=\"Helvetica,sans-Serif\" font-size=\"14.00\">squared_error = 0.321</text>\n",
       "<text text-anchor=\"middle\" x=\"999\" y=\"-111.8\" font-family=\"Helvetica,sans-Serif\" font-size=\"14.00\">samples = 196</text>\n",
       "<text text-anchor=\"middle\" x=\"999\" y=\"-96.8\" font-family=\"Helvetica,sans-Serif\" font-size=\"14.00\">value = 0.975</text>\n",
       "</g>\n",
       "<!-- 19&#45;&gt;20 -->\n",
       "<g id=\"edge20\" class=\"edge\">\n",
       "<title>19&#45;&gt;20</title>\n",
       "<path fill=\"none\" stroke=\"black\" d=\"M1032.09,-192.88C1028.03,-184.42 1023.6,-175.21 1019.35,-166.35\"/>\n",
       "<polygon fill=\"black\" stroke=\"black\" points=\"1022.48,-164.8 1015,-157.3 1016.17,-167.83 1022.48,-164.8\"/>\n",
       "</g>\n",
       "<!-- 23 -->\n",
       "<g id=\"node24\" class=\"node\">\n",
       "<title>23</title>\n",
       "<polygon fill=\"#ffffff\" stroke=\"black\" points=\"1278,-149.5 1104,-149.5 1104,-96.5 1278,-96.5 1278,-149.5\"/>\n",
       "<text text-anchor=\"middle\" x=\"1191\" y=\"-134.3\" font-family=\"Helvetica,sans-Serif\" font-size=\"14.00\">squared_error = 0.295</text>\n",
       "<text text-anchor=\"middle\" x=\"1191\" y=\"-119.3\" font-family=\"Helvetica,sans-Serif\" font-size=\"14.00\">samples = 27</text>\n",
       "<text text-anchor=\"middle\" x=\"1191\" y=\"-104.3\" font-family=\"Helvetica,sans-Serif\" font-size=\"14.00\">value = 0.918</text>\n",
       "</g>\n",
       "<!-- 19&#45;&gt;23 -->\n",
       "<g id=\"edge23\" class=\"edge\">\n",
       "<title>19&#45;&gt;23</title>\n",
       "<path fill=\"none\" stroke=\"black\" d=\"M1094.43,-192.88C1111.23,-180.9 1130.16,-167.4 1146.77,-155.55\"/>\n",
       "<polygon fill=\"black\" stroke=\"black\" points=\"1149.11,-158.18 1155.22,-149.52 1145.05,-152.48 1149.11,-158.18\"/>\n",
       "</g>\n",
       "<!-- 21 -->\n",
       "<g id=\"node22\" class=\"node\">\n",
       "<title>21</title>\n",
       "<polygon fill=\"#fffffe\" stroke=\"black\" points=\"1037,-53 863,-53 863,0 1037,0 1037,-53\"/>\n",
       "<text text-anchor=\"middle\" x=\"950\" y=\"-37.8\" font-family=\"Helvetica,sans-Serif\" font-size=\"14.00\">squared_error = 0.313</text>\n",
       "<text text-anchor=\"middle\" x=\"950\" y=\"-22.8\" font-family=\"Helvetica,sans-Serif\" font-size=\"14.00\">samples = 165</text>\n",
       "<text text-anchor=\"middle\" x=\"950\" y=\"-7.8\" font-family=\"Helvetica,sans-Serif\" font-size=\"14.00\">value = 0.983</text>\n",
       "</g>\n",
       "<!-- 20&#45;&gt;21 -->\n",
       "<g id=\"edge21\" class=\"edge\">\n",
       "<title>20&#45;&gt;21</title>\n",
       "<path fill=\"none\" stroke=\"black\" d=\"M981.86,-88.95C977.4,-80.35 972.59,-71.06 968.08,-62.37\"/>\n",
       "<polygon fill=\"black\" stroke=\"black\" points=\"971.06,-60.5 963.34,-53.24 964.84,-63.73 971.06,-60.5\"/>\n",
       "</g>\n",
       "<!-- 22 -->\n",
       "<g id=\"node23\" class=\"node\">\n",
       "<title>22</title>\n",
       "<polygon fill=\"#ffffff\" stroke=\"black\" points=\"1229,-53 1055,-53 1055,0 1229,0 1229,-53\"/>\n",
       "<text text-anchor=\"middle\" x=\"1142\" y=\"-37.8\" font-family=\"Helvetica,sans-Serif\" font-size=\"14.00\">squared_error = 0.364</text>\n",
       "<text text-anchor=\"middle\" x=\"1142\" y=\"-22.8\" font-family=\"Helvetica,sans-Serif\" font-size=\"14.00\">samples = 31</text>\n",
       "<text text-anchor=\"middle\" x=\"1142\" y=\"-7.8\" font-family=\"Helvetica,sans-Serif\" font-size=\"14.00\">value = 0.928</text>\n",
       "</g>\n",
       "<!-- 20&#45;&gt;22 -->\n",
       "<g id=\"edge22\" class=\"edge\">\n",
       "<title>20&#45;&gt;22</title>\n",
       "<path fill=\"none\" stroke=\"black\" d=\"M1049.01,-88.95C1063.83,-79.16 1079.99,-68.48 1094.63,-58.8\"/>\n",
       "<polygon fill=\"black\" stroke=\"black\" points=\"1096.64,-61.67 1103.05,-53.24 1092.78,-55.83 1096.64,-61.67\"/>\n",
       "</g>\n",
       "</g>\n",
       "</svg>\n"
      ],
      "text/plain": [
       "<graphviz.sources.Source at 0x7f5915cf5310>"
      ]
     },
     "execution_count": 42,
     "metadata": {},
     "output_type": "execute_result"
    }
   ],
   "source": [
    "visualize_dec_tree(dec_tree_fh)"
   ]
  },
  {
   "cell_type": "markdown",
   "id": "db45ca14-b0f6-40c0-8426-48100f6897e6",
   "metadata": {},
   "source": [
    "### Check tradeoff"
   ]
  },
  {
   "cell_type": "code",
   "execution_count": 43,
   "id": "26abc9d2-53c8-400a-87e0-ad07b651bd9a",
   "metadata": {
    "execution": {
     "iopub.execute_input": "2022-03-24T14:13:11.293377Z",
     "iopub.status.busy": "2022-03-24T14:13:11.293226Z",
     "iopub.status.idle": "2022-03-24T14:13:11.472380Z",
     "shell.execute_reply": "2022-03-24T14:13:11.471534Z",
     "shell.execute_reply.started": "2022-03-24T14:13:11.293354Z"
    },
    "tags": []
   },
   "outputs": [
    {
     "data": {
      "text/html": [
       "\n",
       "<div id=\"altair-viz-0571c49161944bba8bb383b6f9421a47\"></div>\n",
       "<script type=\"text/javascript\">\n",
       "  var VEGA_DEBUG = (typeof VEGA_DEBUG == \"undefined\") ? {} : VEGA_DEBUG;\n",
       "  (function(spec, embedOpt){\n",
       "    let outputDiv = document.currentScript.previousElementSibling;\n",
       "    if (outputDiv.id !== \"altair-viz-0571c49161944bba8bb383b6f9421a47\") {\n",
       "      outputDiv = document.getElementById(\"altair-viz-0571c49161944bba8bb383b6f9421a47\");\n",
       "    }\n",
       "    const paths = {\n",
       "      \"vega\": \"https://cdn.jsdelivr.net/npm//vega@5?noext\",\n",
       "      \"vega-lib\": \"https://cdn.jsdelivr.net/npm//vega-lib?noext\",\n",
       "      \"vega-lite\": \"https://cdn.jsdelivr.net/npm//vega-lite@4.17.0?noext\",\n",
       "      \"vega-embed\": \"https://cdn.jsdelivr.net/npm//vega-embed@6?noext\",\n",
       "    };\n",
       "\n",
       "    function maybeLoadScript(lib, version) {\n",
       "      var key = `${lib.replace(\"-\", \"\")}_version`;\n",
       "      return (VEGA_DEBUG[key] == version) ?\n",
       "        Promise.resolve(paths[lib]) :\n",
       "        new Promise(function(resolve, reject) {\n",
       "          var s = document.createElement('script');\n",
       "          document.getElementsByTagName(\"head\")[0].appendChild(s);\n",
       "          s.async = true;\n",
       "          s.onload = () => {\n",
       "            VEGA_DEBUG[key] = version;\n",
       "            return resolve(paths[lib]);\n",
       "          };\n",
       "          s.onerror = () => reject(`Error loading script: ${paths[lib]}`);\n",
       "          s.src = paths[lib];\n",
       "        });\n",
       "    }\n",
       "\n",
       "    function showError(err) {\n",
       "      outputDiv.innerHTML = `<div class=\"error\" style=\"color:red;\">${err}</div>`;\n",
       "      throw err;\n",
       "    }\n",
       "\n",
       "    function displayChart(vegaEmbed) {\n",
       "      vegaEmbed(outputDiv, spec, embedOpt)\n",
       "        .catch(err => showError(`Javascript Error: ${err.message}<br>This usually means there's a typo in your chart specification. See the javascript console for the full traceback.`));\n",
       "    }\n",
       "\n",
       "    if(typeof define === \"function\" && define.amd) {\n",
       "      requirejs.config({paths});\n",
       "      require([\"vega-embed\"], displayChart, err => showError(`Error loading script: ${err.message}`));\n",
       "    } else {\n",
       "      maybeLoadScript(\"vega\", \"5\")\n",
       "        .then(() => maybeLoadScript(\"vega-lite\", \"4.17.0\"))\n",
       "        .then(() => maybeLoadScript(\"vega-embed\", \"6\"))\n",
       "        .catch(showError)\n",
       "        .then(() => displayChart(vegaEmbed));\n",
       "    }\n",
       "  })({\"config\": {\"view\": {\"continuousWidth\": 400, \"continuousHeight\": 300}}, \"data\": {\"name\": \"data-b6bc96b51c101137599b3a3bf7afbee9\"}, \"mark\": \"line\", \"encoding\": {\"x\": {\"field\": \"max_depth\", \"type\": \"quantitative\"}, \"y\": {\"field\": \"rmse\", \"type\": \"quantitative\"}}, \"height\": 500, \"selection\": {\"selector006\": {\"type\": \"interval\", \"bind\": \"scales\", \"encodings\": [\"x\", \"y\"]}}, \"width\": 800, \"$schema\": \"https://vega.github.io/schema/vega-lite/v4.17.0.json\", \"datasets\": {\"data-b6bc96b51c101137599b3a3bf7afbee9\": [{\"max_depth\": 1, \"rmse\": 3.9348277218442567}, {\"max_depth\": 2, \"rmse\": 1.4935813470674348}, {\"max_depth\": 3, \"rmse\": 1.3262950709070158}, {\"max_depth\": 4, \"rmse\": 1.3254582608559689}, {\"max_depth\": 5, \"rmse\": 1.3243431391378246}, {\"max_depth\": 6, \"rmse\": 1.324417855883539}, {\"max_depth\": 7, \"rmse\": 1.3243681103207217}, {\"max_depth\": 8, \"rmse\": 1.3242682164864072}, {\"max_depth\": 9, \"rmse\": 1.3244084148857629}, {\"max_depth\": 10, \"rmse\": 1.3244092687341409}, {\"max_depth\": 11, \"rmse\": 1.3244092687341409}, {\"max_depth\": 12, \"rmse\": 1.3244092687341409}, {\"max_depth\": 13, \"rmse\": 1.3244092687341416}, {\"max_depth\": 14, \"rmse\": 1.324409268734141}, {\"max_depth\": 15, \"rmse\": 1.3244092687341409}, {\"max_depth\": 16, \"rmse\": 1.324409268734141}, {\"max_depth\": 17, \"rmse\": 1.3244092687341413}, {\"max_depth\": 18, \"rmse\": 1.324409268734141}, {\"max_depth\": 19, \"rmse\": 1.3244092687341416}, {\"max_depth\": 20, \"rmse\": 1.324409268734141}, {\"max_depth\": 21, \"rmse\": 1.3244092687341407}, {\"max_depth\": 22, \"rmse\": 1.324409268734141}, {\"max_depth\": 23, \"rmse\": 1.324409268734141}, {\"max_depth\": 24, \"rmse\": 1.3244092687341407}, {\"max_depth\": 25, \"rmse\": 1.3244092687341407}, {\"max_depth\": 26, \"rmse\": 1.324409268734141}, {\"max_depth\": 27, \"rmse\": 1.3244092687341409}, {\"max_depth\": 28, \"rmse\": 1.324409268734141}, {\"max_depth\": 29, \"rmse\": 1.324409268734141}]}}, {\"mode\": \"vega-lite\"});\n",
       "</script>"
      ],
      "text/plain": [
       "alt.Chart(...)"
      ]
     },
     "execution_count": 43,
     "metadata": {},
     "output_type": "execute_result"
    }
   ],
   "source": [
    "rmses_fh = [dec_tree_rmse(params={\"max_depth\": i}, x_colnames=x_colnames_fh)[0] for i in max_depths]\n",
    "plot_max_depth_rmse(max_depths, rmses_fh)"
   ]
  },
  {
   "cell_type": "markdown",
   "id": "adae1805-6392-4d12-b35e-39b32dfc009c",
   "metadata": {
    "tags": []
   },
   "source": [
    "## Target encoding"
   ]
  },
  {
   "cell_type": "code",
   "execution_count": 44,
   "id": "c5b1e066-3adb-40b1-8739-74af54f90995",
   "metadata": {
    "execution": {
     "iopub.execute_input": "2022-03-24T14:13:11.473585Z",
     "iopub.status.busy": "2022-03-24T14:13:11.473325Z",
     "iopub.status.idle": "2022-03-24T14:13:11.522155Z",
     "shell.execute_reply": "2022-03-24T14:13:11.521279Z",
     "shell.execute_reply.started": "2022-03-24T14:13:11.473564Z"
    },
    "tags": []
   },
   "outputs": [],
   "source": [
    "from category_encoders.target_encoder import TargetEncoder"
   ]
  },
  {
   "cell_type": "code",
   "execution_count": 45,
   "id": "bbf38921-e18a-49eb-95eb-7cf0c86fb187",
   "metadata": {
    "execution": {
     "iopub.execute_input": "2022-03-24T14:13:11.523173Z",
     "iopub.status.busy": "2022-03-24T14:13:11.523037Z",
     "iopub.status.idle": "2022-03-24T14:13:11.527223Z",
     "shell.execute_reply": "2022-03-24T14:13:11.526446Z",
     "shell.execute_reply.started": "2022-03-24T14:13:11.523155Z"
    },
    "tags": []
   },
   "outputs": [],
   "source": [
    "te = TargetEncoder(\n",
    "    verbose=0,\n",
    "    cols=[init_x_colname],\n",
    "    drop_invariant=False,\n",
    "    return_df=True,\n",
    "    handle_missing='value',\n",
    "    handle_unknown='value',\n",
    "    min_samples_leaf=1,\n",
    "    smoothing=1.0,)"
   ]
  },
  {
   "cell_type": "code",
   "execution_count": 46,
   "id": "69a35c2f-11ba-4a8c-b15e-0103a269a4df",
   "metadata": {
    "execution": {
     "iopub.execute_input": "2022-03-24T14:13:11.528213Z",
     "iopub.status.busy": "2022-03-24T14:13:11.528085Z",
     "iopub.status.idle": "2022-03-24T14:13:11.543434Z",
     "shell.execute_reply": "2022-03-24T14:13:11.542826Z",
     "shell.execute_reply.started": "2022-03-24T14:13:11.528196Z"
    },
    "tags": []
   },
   "outputs": [],
   "source": [
    "x_colnames_te = 'target_encoded'\n",
    "X_train[x_colnames_te] = te.fit_transform(X_train[init_x_colname], y_train)[init_x_colname]"
   ]
  },
  {
   "cell_type": "code",
   "execution_count": 47,
   "id": "e5ff931d-df8c-4329-8c53-b739a5115d7d",
   "metadata": {
    "execution": {
     "iopub.execute_input": "2022-03-24T14:13:11.544760Z",
     "iopub.status.busy": "2022-03-24T14:13:11.544242Z",
     "iopub.status.idle": "2022-03-24T14:13:11.549397Z",
     "shell.execute_reply": "2022-03-24T14:13:11.548743Z",
     "shell.execute_reply.started": "2022-03-24T14:13:11.544735Z"
    },
    "tags": []
   },
   "outputs": [],
   "source": [
    "X_test[x_colnames_te] = te.transform(X_test[init_x_colname], y_test)[init_x_colname]"
   ]
  },
  {
   "cell_type": "code",
   "execution_count": 48,
   "id": "87da29c5-d1f1-4409-9449-2fe5f910764b",
   "metadata": {
    "execution": {
     "iopub.execute_input": "2022-03-24T14:13:11.550523Z",
     "iopub.status.busy": "2022-03-24T14:13:11.550190Z",
     "iopub.status.idle": "2022-03-24T14:13:11.558483Z",
     "shell.execute_reply": "2022-03-24T14:13:11.557877Z",
     "shell.execute_reply.started": "2022-03-24T14:13:11.550499Z"
    },
    "tags": []
   },
   "outputs": [],
   "source": [
    "rmse, source_oh, dec_tree = dec_tree_rmse(\n",
    "    params={\"max_depth\": 5}, x_colnames=[x_colnames_te]\n",
    ")"
   ]
  },
  {
   "cell_type": "markdown",
   "id": "5d205938-57f6-41bb-8bae-d903a9ec2778",
   "metadata": {
    "tags": []
   },
   "source": [
    "### Check one tree"
   ]
  },
  {
   "cell_type": "code",
   "execution_count": 49,
   "id": "3b46a14c-9ca5-49d0-90e3-bad4fe6af4f3",
   "metadata": {
    "execution": {
     "iopub.execute_input": "2022-03-24T14:13:11.559697Z",
     "iopub.status.busy": "2022-03-24T14:13:11.559299Z",
     "iopub.status.idle": "2022-03-24T14:13:11.563338Z",
     "shell.execute_reply": "2022-03-24T14:13:11.562735Z",
     "shell.execute_reply.started": "2022-03-24T14:13:11.559672Z"
    },
    "tags": []
   },
   "outputs": [
    {
     "data": {
      "text/plain": [
       "0.5617423506033161"
      ]
     },
     "execution_count": 49,
     "metadata": {},
     "output_type": "execute_result"
    }
   ],
   "source": [
    "rmse"
   ]
  },
  {
   "cell_type": "code",
   "execution_count": 50,
   "id": "ce40f105-3cfe-42ba-8228-0c0e8a483e17",
   "metadata": {
    "execution": {
     "iopub.execute_input": "2022-03-24T14:13:11.564579Z",
     "iopub.status.busy": "2022-03-24T14:13:11.564243Z",
     "iopub.status.idle": "2022-03-24T14:13:11.628694Z",
     "shell.execute_reply": "2022-03-24T14:13:11.627876Z",
     "shell.execute_reply.started": "2022-03-24T14:13:11.564554Z"
    },
    "tags": []
   },
   "outputs": [
    {
     "data": {
      "text/html": [
       "\n",
       "<div id=\"altair-viz-e6eb20e1004f4400877f618bdd915eca\"></div>\n",
       "<script type=\"text/javascript\">\n",
       "  var VEGA_DEBUG = (typeof VEGA_DEBUG == \"undefined\") ? {} : VEGA_DEBUG;\n",
       "  (function(spec, embedOpt){\n",
       "    let outputDiv = document.currentScript.previousElementSibling;\n",
       "    if (outputDiv.id !== \"altair-viz-e6eb20e1004f4400877f618bdd915eca\") {\n",
       "      outputDiv = document.getElementById(\"altair-viz-e6eb20e1004f4400877f618bdd915eca\");\n",
       "    }\n",
       "    const paths = {\n",
       "      \"vega\": \"https://cdn.jsdelivr.net/npm//vega@5?noext\",\n",
       "      \"vega-lib\": \"https://cdn.jsdelivr.net/npm//vega-lib?noext\",\n",
       "      \"vega-lite\": \"https://cdn.jsdelivr.net/npm//vega-lite@4.17.0?noext\",\n",
       "      \"vega-embed\": \"https://cdn.jsdelivr.net/npm//vega-embed@6?noext\",\n",
       "    };\n",
       "\n",
       "    function maybeLoadScript(lib, version) {\n",
       "      var key = `${lib.replace(\"-\", \"\")}_version`;\n",
       "      return (VEGA_DEBUG[key] == version) ?\n",
       "        Promise.resolve(paths[lib]) :\n",
       "        new Promise(function(resolve, reject) {\n",
       "          var s = document.createElement('script');\n",
       "          document.getElementsByTagName(\"head\")[0].appendChild(s);\n",
       "          s.async = true;\n",
       "          s.onload = () => {\n",
       "            VEGA_DEBUG[key] = version;\n",
       "            return resolve(paths[lib]);\n",
       "          };\n",
       "          s.onerror = () => reject(`Error loading script: ${paths[lib]}`);\n",
       "          s.src = paths[lib];\n",
       "        });\n",
       "    }\n",
       "\n",
       "    function showError(err) {\n",
       "      outputDiv.innerHTML = `<div class=\"error\" style=\"color:red;\">${err}</div>`;\n",
       "      throw err;\n",
       "    }\n",
       "\n",
       "    function displayChart(vegaEmbed) {\n",
       "      vegaEmbed(outputDiv, spec, embedOpt)\n",
       "        .catch(err => showError(`Javascript Error: ${err.message}<br>This usually means there's a typo in your chart specification. See the javascript console for the full traceback.`));\n",
       "    }\n",
       "\n",
       "    if(typeof define === \"function\" && define.amd) {\n",
       "      requirejs.config({paths});\n",
       "      require([\"vega-embed\"], displayChart, err => showError(`Error loading script: ${err.message}`));\n",
       "    } else {\n",
       "      maybeLoadScript(\"vega\", \"5\")\n",
       "        .then(() => maybeLoadScript(\"vega-lite\", \"4.17.0\"))\n",
       "        .then(() => maybeLoadScript(\"vega-embed\", \"6\"))\n",
       "        .catch(showError)\n",
       "        .then(() => displayChart(vegaEmbed));\n",
       "    }\n",
       "  })({\"config\": {\"view\": {\"continuousWidth\": 400, \"continuousHeight\": 300}}, \"data\": {\"name\": \"data-52e7fce1004863bc3719875ba88d801e\"}, \"mark\": {\"type\": \"circle\", \"size\": 60}, \"encoding\": {\"color\": {\"field\": \"cat\", \"type\": \"nominal\"}, \"tooltip\": {\"field\": \"cat\", \"type\": \"nominal\"}, \"x\": {\"field\": \"y\", \"scale\": {\"domain\": [-1.976271965441258, 22.96857500892925]}, \"type\": \"quantitative\"}, \"y\": {\"field\": \"y_pred\", \"scale\": {\"domain\": [-1.976271965441258, 22.96857500892925]}, \"type\": \"quantitative\"}}, \"height\": 500, \"selection\": {\"selector007\": {\"type\": \"interval\", \"bind\": \"scales\", \"encodings\": [\"x\", \"y\"]}}, \"width\": 800, \"$schema\": \"https://vega.github.io/schema/vega-lite/v4.17.0.json\", \"datasets\": {\"data-52e7fce1004863bc3719875ba88d801e\": [{\"y\": 0.9708688385243336, \"y_pred\": 0.8870188684457351, \"cat\": \"G3\"}, {\"y\": 1.5615528849742262, \"y_pred\": 1.0372551084842887, \"cat\": \"H3\"}, {\"y\": 19.762355681020175, \"y_pred\": 19.920740302334426, \"cat\": \"E2\"}, {\"y\": 9.669818235290847, \"y_pred\": 10.169040009816879, \"cat\": \"G1\"}, {\"y\": 20.581437747153537, \"y_pred\": 19.920740302334426, \"cat\": \"E2\"}, {\"y\": 19.114769917943644, \"y_pred\": 20.01816892577906, \"cat\": \"A2\"}, {\"y\": 19.240079805181814, \"y_pred\": 20.01816892577906, \"cat\": \"A2\"}, {\"y\": 10.370929132428529, \"y_pred\": 10.033693571795144, \"cat\": \"A1\"}, {\"y\": 20.609629747639598, \"y_pred\": 20.09182917264888, \"cat\": \"J2\"}, {\"y\": 9.185411965211156, \"y_pred\": 10.033693571795144, \"cat\": \"J1\"}, {\"y\": 20.771135145302082, \"y_pred\": 20.13660865268227, \"cat\": \"D2\"}, {\"y\": 9.897906688835647, \"y_pred\": 10.116296363220199, \"cat\": \"I1\"}, {\"y\": 19.572515038433227, \"y_pred\": 20.13660865268227, \"cat\": \"D2\"}, {\"y\": 10.121699527559619, \"y_pred\": 10.116296363220199, \"cat\": \"I1\"}, {\"y\": 9.892287250926657, \"y_pred\": 9.96520583573323, \"cat\": \"H1\"}, {\"y\": 10.02938789145609, \"y_pred\": 10.033693571795144, \"cat\": \"A1\"}, {\"y\": 9.040243651268177, \"y_pred\": 9.96520583573323, \"cat\": \"H1\"}, {\"y\": 19.392430942113748, \"y_pred\": 20.007139565411833, \"cat\": \"B2\"}, {\"y\": 1.7685549154233273, \"y_pred\": 1.0537603481167916, \"cat\": \"D3\"}, {\"y\": 20.915270646306908, \"y_pred\": 19.875565318533827, \"cat\": \"I2\"}, {\"y\": 1.1594739846577815, \"y_pred\": 0.9953641765589829, \"cat\": \"E3\"}, {\"y\": 19.294671275810273, \"y_pred\": 19.963847709697404, \"cat\": \"H2\"}, {\"y\": 0.09239944296425806, \"y_pred\": 0.9773411707793755, \"cat\": \"A3\"}, {\"y\": 1.8501313272642024, \"y_pred\": 0.9953641765589829, \"cat\": \"E3\"}, {\"y\": 1.205664187139253, \"y_pred\": 0.8870188684457351, \"cat\": \"G3\"}, {\"y\": 10.752694275026144, \"y_pred\": 10.116296363220199, \"cat\": \"I1\"}, {\"y\": 0.10053903516041696, \"y_pred\": 0.9657101848202683, \"cat\": \"C3\"}, {\"y\": 9.295792104243384, \"y_pred\": 10.033693571795144, \"cat\": \"E1\"}, {\"y\": 1.8675027275916585, \"y_pred\": 1.0537603481167916, \"cat\": \"D3\"}, {\"y\": 9.572761632023228, \"y_pred\": 9.96520583573323, \"cat\": \"H1\"}, {\"y\": 0.40206013448789246, \"y_pred\": 1.0537603481167916, \"cat\": \"F3\"}, {\"y\": 20.00816431975963, \"y_pred\": 20.007139565411833, \"cat\": \"B2\"}, {\"y\": 1.8937030617473223, \"y_pred\": 0.9953641765589829, \"cat\": \"E3\"}, {\"y\": 10.772909950705804, \"y_pred\": 10.033693571795144, \"cat\": \"D1\"}, {\"y\": 1.140221782934138, \"y_pred\": 0.9232944101394631, \"cat\": \"J3\"}, {\"y\": 10.592858172694484, \"y_pred\": 10.033693571795144, \"cat\": \"J1\"}, {\"y\": 1.9932092808131794, \"y_pred\": 1.0537603481167916, \"cat\": \"D3\"}, {\"y\": 19.411209284911298, \"y_pred\": 20.007139565411833, \"cat\": \"B2\"}, {\"y\": 9.212031295957575, \"y_pred\": 9.96520583573323, \"cat\": \"H1\"}, {\"y\": 9.851938306566382, \"y_pred\": 10.033693571795144, \"cat\": \"D1\"}, {\"y\": 19.082329276153228, \"y_pred\": 20.09182917264888, \"cat\": \"C2\"}, {\"y\": 0.25133708392386045, \"y_pred\": 0.8870188684457351, \"cat\": \"G3\"}, {\"y\": 10.449132406732668, \"y_pred\": 9.702587247465505, \"cat\": \"B1\"}, {\"y\": 0.02372803455874206, \"y_pred\": 1.0089225088734064, \"cat\": \"B3\"}, {\"y\": 0.5078446463642772, \"y_pred\": 1.0537603481167916, \"cat\": \"D3\"}, {\"y\": 9.742117143822856, \"y_pred\": 9.702587247465505, \"cat\": \"B1\"}, {\"y\": 10.619462865008618, \"y_pred\": 10.033693571795144, \"cat\": \"A1\"}, {\"y\": 9.146858546371357, \"y_pred\": 10.033693571795144, \"cat\": \"F1\"}, {\"y\": 19.29218469876556, \"y_pred\": 19.963847709697404, \"cat\": \"H2\"}, {\"y\": 0.5688106243620701, \"y_pred\": 0.8870188684457351, \"cat\": \"G3\"}, {\"y\": 9.240261892640017, \"y_pred\": 10.033693571795144, \"cat\": \"D1\"}, {\"y\": 0.9155483807690259, \"y_pred\": 0.9232944101394631, \"cat\": \"J3\"}, {\"y\": 20.58010666857155, \"y_pred\": 20.13660865268227, \"cat\": \"D2\"}, {\"y\": 1.8957495440351315, \"y_pred\": 1.0372551084842887, \"cat\": \"H3\"}, {\"y\": 0.9444710799769402, \"y_pred\": 0.9232944101394631, \"cat\": \"I3\"}, {\"y\": 10.46111056186891, \"y_pred\": 10.169040009816879, \"cat\": \"G1\"}, {\"y\": 1.3351438955138328, \"y_pred\": 0.9232944101394631, \"cat\": \"J3\"}, {\"y\": 19.450823647607095, \"y_pred\": 19.86772667060868, \"cat\": \"G2\"}, {\"y\": 0.39398350212066413, \"y_pred\": 1.0537603481167916, \"cat\": \"D3\"}, {\"y\": 20.445918470430932, \"y_pred\": 20.01816892577906, \"cat\": \"A2\"}, {\"y\": 1.028333779664423, \"y_pred\": 0.9953641765589829, \"cat\": \"E3\"}, {\"y\": 1.877798573555562, \"y_pred\": 0.9657101848202683, \"cat\": \"C3\"}, {\"y\": 19.308754101789745, \"y_pred\": 20.06917665792591, \"cat\": \"F2\"}, {\"y\": 19.588911139392263, \"y_pred\": 20.09182917264888, \"cat\": \"C2\"}, {\"y\": 1.2696962852581346, \"y_pred\": 0.9657101848202683, \"cat\": \"C3\"}, {\"y\": 1.748381206748827, \"y_pred\": 0.9232944101394631, \"cat\": \"I3\"}, {\"y\": 0.2952976442514248, \"y_pred\": 1.0537603481167916, \"cat\": \"D3\"}, {\"y\": 10.882186926184575, \"y_pred\": 9.96520583573323, \"cat\": \"H1\"}, {\"y\": 10.643587315971759, \"y_pred\": 10.033693571795144, \"cat\": \"F1\"}, {\"y\": 10.808109051869772, \"y_pred\": 9.96520583573323, \"cat\": \"H1\"}, {\"y\": 20.513153710881305, \"y_pred\": 20.007139565411833, \"cat\": \"B2\"}, {\"y\": 19.258830909026386, \"y_pred\": 20.09182917264888, \"cat\": \"C2\"}, {\"y\": 20.13782290165262, \"y_pred\": 19.86772667060868, \"cat\": \"G2\"}, {\"y\": 10.02600385267203, \"y_pred\": 10.033693571795144, \"cat\": \"D1\"}, {\"y\": 1.0078666530215015, \"y_pred\": 0.9232944101394631, \"cat\": \"I3\"}, {\"y\": 0.8686705749826737, \"y_pred\": 0.9232944101394631, \"cat\": \"J3\"}, {\"y\": 0.4594404220265076, \"y_pred\": 0.9657101848202683, \"cat\": \"C3\"}, {\"y\": 1.6152014092601343, \"y_pred\": 1.0372551084842887, \"cat\": \"H3\"}, {\"y\": 19.46784350351881, \"y_pred\": 19.875565318533827, \"cat\": \"I2\"}, {\"y\": 10.644613636108657, \"y_pred\": 10.116296363220199, \"cat\": \"I1\"}, {\"y\": 10.152949140231978, \"y_pred\": 9.96520583573323, \"cat\": \"H1\"}, {\"y\": 9.912104519871313, \"y_pred\": 10.033693571795144, \"cat\": \"F1\"}, {\"y\": 1.3272417208585086, \"y_pred\": 0.9232944101394631, \"cat\": \"J3\"}, {\"y\": 0.8231308199627274, \"y_pred\": 1.0537603481167916, \"cat\": \"D3\"}, {\"y\": 9.875369737977294, \"y_pred\": 10.033693571795144, \"cat\": \"D1\"}, {\"y\": 1.2333897309216133, \"y_pred\": 0.9657101848202683, \"cat\": \"C3\"}, {\"y\": 0.7805028862503547, \"y_pred\": 0.9773411707793755, \"cat\": \"A3\"}, {\"y\": 0.6634566091791982, \"y_pred\": 0.9953641765589829, \"cat\": \"E3\"}, {\"y\": 0.4470371386983705, \"y_pred\": 0.9232944101394631, \"cat\": \"I3\"}, {\"y\": 1.1072488046608373, \"y_pred\": 0.9232944101394631, \"cat\": \"I3\"}, {\"y\": 0.24280396889682532, \"y_pred\": 1.0372551084842887, \"cat\": \"H3\"}, {\"y\": 19.639311035003775, \"y_pred\": 19.920740302334426, \"cat\": \"E2\"}, {\"y\": 10.173301250207977, \"y_pred\": 10.033693571795144, \"cat\": \"A1\"}, {\"y\": 1.6546550741914168, \"y_pred\": 1.0537603481167916, \"cat\": \"D3\"}, {\"y\": 1.474123922241376, \"y_pred\": 0.9953641765589829, \"cat\": \"E3\"}, {\"y\": 9.691775451836591, \"y_pred\": 10.033693571795144, \"cat\": \"J1\"}, {\"y\": 10.100273494917381, \"y_pred\": 10.033693571795144, \"cat\": \"J1\"}, {\"y\": 1.1274117217439872, \"y_pred\": 0.8870188684457351, \"cat\": \"G3\"}, {\"y\": 10.21219557822793, \"y_pred\": 10.033693571795144, \"cat\": \"A1\"}, {\"y\": 9.95441418414331, \"y_pred\": 10.033693571795144, \"cat\": \"E1\"}, {\"y\": 10.559569261886198, \"y_pred\": 10.033693571795144, \"cat\": \"D1\"}, {\"y\": 10.064865505802969, \"y_pred\": 10.033693571795144, \"cat\": \"D1\"}, {\"y\": 9.023187011385222, \"y_pred\": 10.033693571795144, \"cat\": \"F1\"}, {\"y\": 0.8850784130143021, \"y_pred\": 0.9232944101394631, \"cat\": \"J3\"}, {\"y\": 10.39902427507542, \"y_pred\": 9.96520583573323, \"cat\": \"C1\"}, {\"y\": 19.050251951877456, \"y_pred\": 20.09182917264888, \"cat\": \"C2\"}, {\"y\": 1.6846869782703828, \"y_pred\": 1.0372551084842887, \"cat\": \"H3\"}, {\"y\": 20.96857500892925, \"y_pred\": 20.09182917264888, \"cat\": \"C2\"}, {\"y\": 1.3249427146925004, \"y_pred\": 0.9232944101394631, \"cat\": \"J3\"}, {\"y\": 20.271810305418256, \"y_pred\": 20.01816892577906, \"cat\": \"A2\"}, {\"y\": 0.6013077041445261, \"y_pred\": 1.0537603481167916, \"cat\": \"D3\"}, {\"y\": 10.143375201819058, \"y_pred\": 10.033693571795144, \"cat\": \"J1\"}, {\"y\": 9.214335394736137, \"y_pred\": 10.116296363220199, \"cat\": \"I1\"}, {\"y\": 9.581722718373117, \"y_pred\": 10.169040009816879, \"cat\": \"G1\"}, {\"y\": 19.335252713720422, \"y_pred\": 19.875565318533827, \"cat\": \"I2\"}, {\"y\": 20.33102475795596, \"y_pred\": 20.09182917264888, \"cat\": \"C2\"}, {\"y\": 10.589022038515985, \"y_pred\": 9.96520583573323, \"cat\": \"H1\"}, {\"y\": 0.6691451695081352, \"y_pred\": 0.8870188684457351, \"cat\": \"G3\"}, {\"y\": 19.448819374103962, \"y_pred\": 20.007139565411833, \"cat\": \"B2\"}, {\"y\": 1.1861706400914784, \"y_pred\": 1.0537603481167916, \"cat\": \"F3\"}, {\"y\": 0.2834241706842682, \"y_pred\": 0.8870188684457351, \"cat\": \"G3\"}, {\"y\": 10.666177280656242, \"y_pred\": 10.033693571795144, \"cat\": \"J1\"}, {\"y\": 1.6798940114044558, \"y_pred\": 0.9232944101394631, \"cat\": \"I3\"}, {\"y\": 10.421484899198706, \"y_pred\": 9.96520583573323, \"cat\": \"H1\"}, {\"y\": 10.178432294646244, \"y_pred\": 10.116296363220199, \"cat\": \"I1\"}, {\"y\": 9.052539029833104, \"y_pred\": 10.033693571795144, \"cat\": \"A1\"}, {\"y\": 0.060129509831321926, \"y_pred\": 0.9953641765589829, \"cat\": \"E3\"}, {\"y\": 20.49502106653608, \"y_pred\": 20.13660865268227, \"cat\": \"D2\"}, {\"y\": 1.433122452934993, \"y_pred\": 1.0372551084842887, \"cat\": \"H3\"}, {\"y\": 1.1656877049978969, \"y_pred\": 1.0372551084842887, \"cat\": \"H3\"}, {\"y\": 19.762339346193258, \"y_pred\": 20.13660865268227, \"cat\": \"D2\"}, {\"y\": 19.153202139962694, \"y_pred\": 19.963847709697404, \"cat\": \"H2\"}, {\"y\": 19.438471309399688, \"y_pred\": 19.963847709697404, \"cat\": \"H2\"}, {\"y\": 10.492202934558147, \"y_pred\": 10.033693571795144, \"cat\": \"E1\"}, {\"y\": 0.7575923623120411, \"y_pred\": 0.9657101848202683, \"cat\": \"C3\"}, {\"y\": 10.540746790063228, \"y_pred\": 10.033693571795144, \"cat\": \"D1\"}, {\"y\": 20.421119091599298, \"y_pred\": 20.09182917264888, \"cat\": \"J2\"}, {\"y\": 19.07708276269181, \"y_pred\": 20.06917665792591, \"cat\": \"F2\"}, {\"y\": 9.479103134237882, \"y_pred\": 9.96520583573323, \"cat\": \"C1\"}, {\"y\": 20.08790172833245, \"y_pred\": 19.963847709697404, \"cat\": \"H2\"}, {\"y\": 10.171631736622842, \"y_pred\": 10.116296363220199, \"cat\": \"I1\"}, {\"y\": 0.22317214394888163, \"y_pred\": 0.9773411707793755, \"cat\": \"A3\"}, {\"y\": 1.0145860571898149, \"y_pred\": 1.0372551084842887, \"cat\": \"H3\"}, {\"y\": 0.2140581069074392, \"y_pred\": 1.0537603481167916, \"cat\": \"F3\"}, {\"y\": 1.451726067320531, \"y_pred\": 1.0372551084842887, \"cat\": \"H3\"}, {\"y\": 9.463809398779315, \"y_pred\": 10.169040009816879, \"cat\": \"G1\"}, {\"y\": 19.049515526950085, \"y_pred\": 19.920740302334426, \"cat\": \"E2\"}, {\"y\": 19.50892337980001, \"y_pred\": 19.963847709697404, \"cat\": \"H2\"}, {\"y\": 10.136790264526567, \"y_pred\": 9.96520583573323, \"cat\": \"H1\"}, {\"y\": 20.19116114239479, \"y_pred\": 19.86772667060868, \"cat\": \"G2\"}, {\"y\": 20.058191492418075, \"y_pred\": 20.09182917264888, \"cat\": \"C2\"}, {\"y\": 9.203000099903218, \"y_pred\": 10.033693571795144, \"cat\": \"A1\"}, {\"y\": 0.6676407154168251, \"y_pred\": 1.0089225088734064, \"cat\": \"B3\"}, {\"y\": 20.21342271479435, \"y_pred\": 20.007139565411833, \"cat\": \"B2\"}, {\"y\": 9.48474698964963, \"y_pred\": 10.033693571795144, \"cat\": \"E1\"}, {\"y\": 10.866551132257003, \"y_pred\": 10.169040009816879, \"cat\": \"G1\"}, {\"y\": 20.130936912091776, \"y_pred\": 20.06917665792591, \"cat\": \"F2\"}, {\"y\": 0.17715246381929606, \"y_pred\": 1.0089225088734064, \"cat\": \"B3\"}, {\"y\": 19.11154643844185, \"y_pred\": 20.09182917264888, \"cat\": \"C2\"}, {\"y\": 1.1663140659152396, \"y_pred\": 1.0089225088734064, \"cat\": \"B3\"}, {\"y\": 10.781462638418178, \"y_pred\": 9.96520583573323, \"cat\": \"C1\"}, {\"y\": 10.463583921199772, \"y_pred\": 10.116296363220199, \"cat\": \"I1\"}, {\"y\": 19.881958561202964, \"y_pred\": 20.01816892577906, \"cat\": \"A2\"}, {\"y\": 0.35198766207932164, \"y_pred\": 1.0537603481167916, \"cat\": \"F3\"}, {\"y\": 10.33655036995322, \"y_pred\": 9.96520583573323, \"cat\": \"C1\"}, {\"y\": 20.639915078524055, \"y_pred\": 20.007139565411833, \"cat\": \"B2\"}, {\"y\": 1.5858095531873015, \"y_pred\": 0.9232944101394631, \"cat\": \"J3\"}, {\"y\": 20.549300725916027, \"y_pred\": 20.13660865268227, \"cat\": \"D2\"}, {\"y\": 0.7705612551613208, \"y_pred\": 1.0372551084842887, \"cat\": \"H3\"}, {\"y\": 20.156578373052486, \"y_pred\": 19.920740302334426, \"cat\": \"E2\"}, {\"y\": 1.488624912965331, \"y_pred\": 0.9232944101394631, \"cat\": \"I3\"}, {\"y\": 9.698617124835028, \"y_pred\": 10.116296363220199, \"cat\": \"I1\"}, {\"y\": 0.9680412343946829, \"y_pred\": 1.0372551084842887, \"cat\": \"H3\"}, {\"y\": 0.4424147703771004, \"y_pred\": 0.9232944101394631, \"cat\": \"I3\"}, {\"y\": 1.085877806903644, \"y_pred\": 0.9232944101394631, \"cat\": \"I3\"}, {\"y\": 19.911729488607193, \"y_pred\": 19.86772667060868, \"cat\": \"G2\"}, {\"y\": 9.802334928007546, \"y_pred\": 9.702587247465505, \"cat\": \"B1\"}, {\"y\": 1.664311622855744, \"y_pred\": 1.0537603481167916, \"cat\": \"F3\"}, {\"y\": 20.421593642635532, \"y_pred\": 20.06917665792591, \"cat\": \"F2\"}, {\"y\": 9.98216105314478, \"y_pred\": 10.033693571795144, \"cat\": \"A1\"}, {\"y\": 20.930000007112124, \"y_pred\": 20.09182917264888, \"cat\": \"J2\"}, {\"y\": 19.417497727411746, \"y_pred\": 20.007139565411833, \"cat\": \"B2\"}, {\"y\": 1.945429826930148, \"y_pred\": 0.9953641765589829, \"cat\": \"E3\"}, {\"y\": 0.22603377781250344, \"y_pred\": 0.9232944101394631, \"cat\": \"I3\"}, {\"y\": 19.279814661304854, \"y_pred\": 20.01816892577906, \"cat\": \"A2\"}, {\"y\": 10.755177382256774, \"y_pred\": 10.033693571795144, \"cat\": \"A1\"}, {\"y\": 0.7185365516022681, \"y_pred\": 0.9232944101394631, \"cat\": \"I3\"}, {\"y\": 1.0828703070700931, \"y_pred\": 0.9232944101394631, \"cat\": \"I3\"}, {\"y\": 10.745003717769139, \"y_pred\": 10.033693571795144, \"cat\": \"F1\"}, {\"y\": 10.090159309166276, \"y_pred\": 9.96520583573323, \"cat\": \"C1\"}, {\"y\": 1.8603868675654076, \"y_pred\": 1.0372551084842887, \"cat\": \"H3\"}, {\"y\": 9.2892849125925, \"y_pred\": 10.033693571795144, \"cat\": \"F1\"}, {\"y\": 10.11446547663557, \"y_pred\": 9.702587247465505, \"cat\": \"B1\"}, {\"y\": 10.534684365221295, \"y_pred\": 10.033693571795144, \"cat\": \"D1\"}, {\"y\": 9.737570318394566, \"y_pred\": 10.116296363220199, \"cat\": \"I1\"}, {\"y\": 0.7794377721135248, \"y_pred\": 0.9773411707793755, \"cat\": \"A3\"}, {\"y\": 0.032730307384333246, \"y_pred\": 0.9232944101394631, \"cat\": \"I3\"}, {\"y\": 20.399302190432305, \"y_pred\": 20.13660865268227, \"cat\": \"D2\"}, {\"y\": 10.795565075222658, \"y_pred\": 10.169040009816879, \"cat\": \"G1\"}, {\"y\": 20.343020418232943, \"y_pred\": 20.06917665792591, \"cat\": \"F2\"}]}}, {\"mode\": \"vega-lite\"});\n",
       "</script>"
      ],
      "text/plain": [
       "alt.Chart(...)"
      ]
     },
     "execution_count": 50,
     "metadata": {},
     "output_type": "execute_result"
    }
   ],
   "source": [
    "create_scatter(source_oh)"
   ]
  },
  {
   "cell_type": "code",
   "execution_count": 51,
   "id": "dee62f38-484a-4d99-a14b-c56d4817d5aa",
   "metadata": {
    "execution": {
     "iopub.execute_input": "2022-03-24T14:13:11.629608Z",
     "iopub.status.busy": "2022-03-24T14:13:11.629484Z",
     "iopub.status.idle": "2022-03-24T14:13:11.673133Z",
     "shell.execute_reply": "2022-03-24T14:13:11.672375Z",
     "shell.execute_reply.started": "2022-03-24T14:13:11.629592Z"
    },
    "tags": []
   },
   "outputs": [
    {
     "data": {
      "image/svg+xml": [
       "<?xml version=\"1.0\" encoding=\"UTF-8\" standalone=\"no\"?>\n",
       "<!DOCTYPE svg PUBLIC \"-//W3C//DTD SVG 1.1//EN\"\n",
       " \"http://www.w3.org/Graphics/SVG/1.1/DTD/svg11.dtd\">\n",
       "<!-- Generated by graphviz version 2.49.1 (20211004.0028)\n",
       " -->\n",
       "<!-- Title: Tree Pages: 1 -->\n",
       "<svg width=\"3651pt\" height=\"581pt\"\n",
       " viewBox=\"0.00 0.00 3651.00 581.00\" xmlns=\"http://www.w3.org/2000/svg\" xmlns:xlink=\"http://www.w3.org/1999/xlink\">\n",
       "<g id=\"graph0\" class=\"graph\" transform=\"scale(1 1) rotate(0) translate(4 577)\">\n",
       "<title>Tree</title>\n",
       "<polygon fill=\"white\" stroke=\"transparent\" points=\"-4,4 -4,-577 3647,-577 3647,4 -4,4\"/>\n",
       "<!-- 0 -->\n",
       "<g id=\"node1\" class=\"node\">\n",
       "<title>0</title>\n",
       "<polygon fill=\"#f2c29f\" stroke=\"black\" points=\"2292,-573 2086,-573 2086,-505 2292,-505 2292,-573\"/>\n",
       "<text text-anchor=\"middle\" x=\"2189\" y=\"-557.8\" font-family=\"Helvetica,sans-Serif\" font-size=\"14.00\">target_encoded &lt;= 15.018</text>\n",
       "<text text-anchor=\"middle\" x=\"2189\" y=\"-542.8\" font-family=\"Helvetica,sans-Serif\" font-size=\"14.00\">squared_error = 62.553</text>\n",
       "<text text-anchor=\"middle\" x=\"2189\" y=\"-527.8\" font-family=\"Helvetica,sans-Serif\" font-size=\"14.00\">samples = 800</text>\n",
       "<text text-anchor=\"middle\" x=\"2189\" y=\"-512.8\" font-family=\"Helvetica,sans-Serif\" font-size=\"14.00\">value = 10.252</text>\n",
       "</g>\n",
       "<!-- 1 -->\n",
       "<g id=\"node2\" class=\"node\">\n",
       "<title>1</title>\n",
       "<polygon fill=\"#f9e2d2\" stroke=\"black\" points=\"1873.5,-469 1676.5,-469 1676.5,-401 1873.5,-401 1873.5,-469\"/>\n",
       "<text text-anchor=\"middle\" x=\"1775\" y=\"-453.8\" font-family=\"Helvetica,sans-Serif\" font-size=\"14.00\">target_encoded &lt;= 5.379</text>\n",
       "<text text-anchor=\"middle\" x=\"1775\" y=\"-438.8\" font-family=\"Helvetica,sans-Serif\" font-size=\"14.00\">squared_error = 20.668</text>\n",
       "<text text-anchor=\"middle\" x=\"1775\" y=\"-423.8\" font-family=\"Helvetica,sans-Serif\" font-size=\"14.00\">samples = 529</text>\n",
       "<text text-anchor=\"middle\" x=\"1775\" y=\"-408.8\" font-family=\"Helvetica,sans-Serif\" font-size=\"14.00\">value = 5.253</text>\n",
       "</g>\n",
       "<!-- 0&#45;&gt;1 -->\n",
       "<g id=\"edge1\" class=\"edge\">\n",
       "<title>0&#45;&gt;1</title>\n",
       "<path fill=\"none\" stroke=\"black\" d=\"M2085.86,-512.59C2024.26,-497.41 1946.09,-478.15 1883.55,-462.74\"/>\n",
       "<polygon fill=\"black\" stroke=\"black\" points=\"1884.2,-459.3 1873.65,-460.3 1882.52,-466.1 1884.2,-459.3\"/>\n",
       "<text text-anchor=\"middle\" x=\"1886.58\" y=\"-478\" font-family=\"Helvetica,sans-Serif\" font-size=\"14.00\">True</text>\n",
       "</g>\n",
       "<!-- 26 -->\n",
       "<g id=\"node27\" class=\"node\">\n",
       "<title>26</title>\n",
       "<polygon fill=\"#e5823a\" stroke=\"black\" points=\"2588,-469 2382,-469 2382,-401 2588,-401 2588,-469\"/>\n",
       "<text text-anchor=\"middle\" x=\"2485\" y=\"-453.8\" font-family=\"Helvetica,sans-Serif\" font-size=\"14.00\">target_encoded &lt;= 19.985</text>\n",
       "<text text-anchor=\"middle\" x=\"2485\" y=\"-438.8\" font-family=\"Helvetica,sans-Serif\" font-size=\"14.00\">squared_error = 0.34</text>\n",
       "<text text-anchor=\"middle\" x=\"2485\" y=\"-423.8\" font-family=\"Helvetica,sans-Serif\" font-size=\"14.00\">samples = 271</text>\n",
       "<text text-anchor=\"middle\" x=\"2485\" y=\"-408.8\" font-family=\"Helvetica,sans-Serif\" font-size=\"14.00\">value = 20.009</text>\n",
       "</g>\n",
       "<!-- 0&#45;&gt;26 -->\n",
       "<g id=\"edge26\" class=\"edge\">\n",
       "<title>0&#45;&gt;26</title>\n",
       "<path fill=\"none\" stroke=\"black\" d=\"M2285.1,-504.88C2315.32,-494.47 2348.84,-482.92 2379.65,-472.3\"/>\n",
       "<polygon fill=\"black\" stroke=\"black\" points=\"2380.81,-475.6 2389.13,-469.04 2378.53,-468.99 2380.81,-475.6\"/>\n",
       "<text text-anchor=\"middle\" x=\"2378.17\" y=\"-487.81\" font-family=\"Helvetica,sans-Serif\" font-size=\"14.00\">False</text>\n",
       "</g>\n",
       "<!-- 2 -->\n",
       "<g id=\"node3\" class=\"node\">\n",
       "<title>2</title>\n",
       "<polygon fill=\"#fffefe\" stroke=\"black\" points=\"1223.5,-365 1026.5,-365 1026.5,-297 1223.5,-297 1223.5,-365\"/>\n",
       "<text text-anchor=\"middle\" x=\"1125\" y=\"-349.8\" font-family=\"Helvetica,sans-Serif\" font-size=\"14.00\">target_encoded &lt;= 0.986</text>\n",
       "<text text-anchor=\"middle\" x=\"1125\" y=\"-334.8\" font-family=\"Helvetica,sans-Serif\" font-size=\"14.00\">squared_error = 0.321</text>\n",
       "<text text-anchor=\"middle\" x=\"1125\" y=\"-319.8\" font-family=\"Helvetica,sans-Serif\" font-size=\"14.00\">samples = 279</text>\n",
       "<text text-anchor=\"middle\" x=\"1125\" y=\"-304.8\" font-family=\"Helvetica,sans-Serif\" font-size=\"14.00\">value = 0.985</text>\n",
       "</g>\n",
       "<!-- 1&#45;&gt;2 -->\n",
       "<g id=\"edge2\" class=\"edge\">\n",
       "<title>1&#45;&gt;2</title>\n",
       "<path fill=\"none\" stroke=\"black\" d=\"M1676.28,-418.51C1557.1,-399.81 1357.34,-368.46 1233.82,-349.08\"/>\n",
       "<polygon fill=\"black\" stroke=\"black\" points=\"1234,-345.56 1223.58,-347.47 1232.92,-352.48 1234,-345.56\"/>\n",
       "</g>\n",
       "<!-- 17 -->\n",
       "<g id=\"node18\" class=\"node\">\n",
       "<title>17</title>\n",
       "<polygon fill=\"#f3c3a1\" stroke=\"black\" points=\"1873.5,-365 1676.5,-365 1676.5,-297 1873.5,-297 1873.5,-365\"/>\n",
       "<text text-anchor=\"middle\" x=\"1775\" y=\"-349.8\" font-family=\"Helvetica,sans-Serif\" font-size=\"14.00\">target_encoded &lt;= 9.827</text>\n",
       "<text text-anchor=\"middle\" x=\"1775\" y=\"-334.8\" font-family=\"Helvetica,sans-Serif\" font-size=\"14.00\">squared_error = 0.353</text>\n",
       "<text text-anchor=\"middle\" x=\"1775\" y=\"-319.8\" font-family=\"Helvetica,sans-Serif\" font-size=\"14.00\">samples = 250</text>\n",
       "<text text-anchor=\"middle\" x=\"1775\" y=\"-304.8\" font-family=\"Helvetica,sans-Serif\" font-size=\"14.00\">value = 10.017</text>\n",
       "</g>\n",
       "<!-- 1&#45;&gt;17 -->\n",
       "<g id=\"edge17\" class=\"edge\">\n",
       "<title>1&#45;&gt;17</title>\n",
       "<path fill=\"none\" stroke=\"black\" d=\"M1775,-400.88C1775,-392.78 1775,-383.98 1775,-375.47\"/>\n",
       "<polygon fill=\"black\" stroke=\"black\" points=\"1778.5,-375.3 1775,-365.3 1771.5,-375.3 1778.5,-375.3\"/>\n",
       "</g>\n",
       "<!-- 3 -->\n",
       "<g id=\"node4\" class=\"node\">\n",
       "<title>3</title>\n",
       "<polygon fill=\"#fffffe\" stroke=\"black\" points=\"672.5,-261 475.5,-261 475.5,-193 672.5,-193 672.5,-261\"/>\n",
       "<text text-anchor=\"middle\" x=\"574\" y=\"-245.8\" font-family=\"Helvetica,sans-Serif\" font-size=\"14.00\">target_encoded &lt;= 0.947</text>\n",
       "<text text-anchor=\"middle\" x=\"574\" y=\"-230.8\" font-family=\"Helvetica,sans-Serif\" font-size=\"14.00\">squared_error = 0.314</text>\n",
       "<text text-anchor=\"middle\" x=\"574\" y=\"-215.8\" font-family=\"Helvetica,sans-Serif\" font-size=\"14.00\">samples = 137</text>\n",
       "<text text-anchor=\"middle\" x=\"574\" y=\"-200.8\" font-family=\"Helvetica,sans-Serif\" font-size=\"14.00\">value = 0.937</text>\n",
       "</g>\n",
       "<!-- 2&#45;&gt;3 -->\n",
       "<g id=\"edge3\" class=\"edge\">\n",
       "<title>2&#45;&gt;3</title>\n",
       "<path fill=\"none\" stroke=\"black\" d=\"M1026.49,-311.76C929.73,-293.85 782.46,-266.59 682.42,-248.07\"/>\n",
       "<polygon fill=\"black\" stroke=\"black\" points=\"683.05,-244.63 672.58,-246.25 681.78,-251.51 683.05,-244.63\"/>\n",
       "</g>\n",
       "<!-- 10 -->\n",
       "<g id=\"node11\" class=\"node\">\n",
       "<title>10</title>\n",
       "<polygon fill=\"#fffefe\" stroke=\"black\" points=\"1223.5,-261 1026.5,-261 1026.5,-193 1223.5,-193 1223.5,-261\"/>\n",
       "<text text-anchor=\"middle\" x=\"1125\" y=\"-245.8\" font-family=\"Helvetica,sans-Serif\" font-size=\"14.00\">target_encoded &lt;= 1.023</text>\n",
       "<text text-anchor=\"middle\" x=\"1125\" y=\"-230.8\" font-family=\"Helvetica,sans-Serif\" font-size=\"14.00\">squared_error = 0.323</text>\n",
       "<text text-anchor=\"middle\" x=\"1125\" y=\"-215.8\" font-family=\"Helvetica,sans-Serif\" font-size=\"14.00\">samples = 142</text>\n",
       "<text text-anchor=\"middle\" x=\"1125\" y=\"-200.8\" font-family=\"Helvetica,sans-Serif\" font-size=\"14.00\">value = 1.031</text>\n",
       "</g>\n",
       "<!-- 2&#45;&gt;10 -->\n",
       "<g id=\"edge10\" class=\"edge\">\n",
       "<title>2&#45;&gt;10</title>\n",
       "<path fill=\"none\" stroke=\"black\" d=\"M1125,-296.88C1125,-288.78 1125,-279.98 1125,-271.47\"/>\n",
       "<polygon fill=\"black\" stroke=\"black\" points=\"1128.5,-271.3 1125,-261.3 1121.5,-271.3 1128.5,-271.3\"/>\n",
       "</g>\n",
       "<!-- 4 -->\n",
       "<g id=\"node5\" class=\"node\">\n",
       "<title>4</title>\n",
       "<polygon fill=\"#ffffff\" stroke=\"black\" points=\"377.5,-157 180.5,-157 180.5,-89 377.5,-89 377.5,-157\"/>\n",
       "<text text-anchor=\"middle\" x=\"279\" y=\"-141.8\" font-family=\"Helvetica,sans-Serif\" font-size=\"14.00\">target_encoded &lt;= 0.903</text>\n",
       "<text text-anchor=\"middle\" x=\"279\" y=\"-126.8\" font-family=\"Helvetica,sans-Serif\" font-size=\"14.00\">squared_error = 0.333</text>\n",
       "<text text-anchor=\"middle\" x=\"279\" y=\"-111.8\" font-family=\"Helvetica,sans-Serif\" font-size=\"14.00\">samples = 80</text>\n",
       "<text text-anchor=\"middle\" x=\"279\" y=\"-96.8\" font-family=\"Helvetica,sans-Serif\" font-size=\"14.00\">value = 0.913</text>\n",
       "</g>\n",
       "<!-- 3&#45;&gt;4 -->\n",
       "<g id=\"edge4\" class=\"edge\">\n",
       "<title>3&#45;&gt;4</title>\n",
       "<path fill=\"none\" stroke=\"black\" d=\"M478.22,-192.88C448.24,-182.52 414.99,-171.02 384.39,-160.44\"/>\n",
       "<polygon fill=\"black\" stroke=\"black\" points=\"385.14,-157 374.55,-157.04 382.86,-163.61 385.14,-157\"/>\n",
       "</g>\n",
       "<!-- 7 -->\n",
       "<g id=\"node8\" class=\"node\">\n",
       "<title>7</title>\n",
       "<polygon fill=\"#fffefe\" stroke=\"black\" points=\"672.5,-157 475.5,-157 475.5,-89 672.5,-89 672.5,-157\"/>\n",
       "<text text-anchor=\"middle\" x=\"574\" y=\"-141.8\" font-family=\"Helvetica,sans-Serif\" font-size=\"14.00\">target_encoded &lt;= 0.972</text>\n",
       "<text text-anchor=\"middle\" x=\"574\" y=\"-126.8\" font-family=\"Helvetica,sans-Serif\" font-size=\"14.00\">squared_error = 0.287</text>\n",
       "<text text-anchor=\"middle\" x=\"574\" y=\"-111.8\" font-family=\"Helvetica,sans-Serif\" font-size=\"14.00\">samples = 57</text>\n",
       "<text text-anchor=\"middle\" x=\"574\" y=\"-96.8\" font-family=\"Helvetica,sans-Serif\" font-size=\"14.00\">value = 0.971</text>\n",
       "</g>\n",
       "<!-- 3&#45;&gt;7 -->\n",
       "<g id=\"edge7\" class=\"edge\">\n",
       "<title>3&#45;&gt;7</title>\n",
       "<path fill=\"none\" stroke=\"black\" d=\"M574,-192.88C574,-184.78 574,-175.98 574,-167.47\"/>\n",
       "<polygon fill=\"black\" stroke=\"black\" points=\"577.5,-167.3 574,-157.3 570.5,-167.3 577.5,-167.3\"/>\n",
       "</g>\n",
       "<!-- 5 -->\n",
       "<g id=\"node6\" class=\"node\">\n",
       "<title>5</title>\n",
       "<polygon fill=\"#ffffff\" stroke=\"black\" points=\"174,-53 0,-53 0,0 174,0 174,-53\"/>\n",
       "<text text-anchor=\"middle\" x=\"87\" y=\"-37.8\" font-family=\"Helvetica,sans-Serif\" font-size=\"14.00\">squared_error = 0.334</text>\n",
       "<text text-anchor=\"middle\" x=\"87\" y=\"-22.8\" font-family=\"Helvetica,sans-Serif\" font-size=\"14.00\">samples = 22</text>\n",
       "<text text-anchor=\"middle\" x=\"87\" y=\"-7.8\" font-family=\"Helvetica,sans-Serif\" font-size=\"14.00\">value = 0.887</text>\n",
       "</g>\n",
       "<!-- 4&#45;&gt;5 -->\n",
       "<g id=\"edge5\" class=\"edge\">\n",
       "<title>4&#45;&gt;5</title>\n",
       "<path fill=\"none\" stroke=\"black\" d=\"M211.85,-88.95C191.12,-78.75 168.42,-67.57 148.13,-57.59\"/>\n",
       "<polygon fill=\"black\" stroke=\"black\" points=\"149.5,-54.36 138.99,-53.09 146.41,-60.64 149.5,-54.36\"/>\n",
       "</g>\n",
       "<!-- 6 -->\n",
       "<g id=\"node7\" class=\"node\">\n",
       "<title>6</title>\n",
       "<polygon fill=\"#ffffff\" stroke=\"black\" points=\"366,-53 192,-53 192,0 366,0 366,-53\"/>\n",
       "<text text-anchor=\"middle\" x=\"279\" y=\"-37.8\" font-family=\"Helvetica,sans-Serif\" font-size=\"14.00\">squared_error = 0.332</text>\n",
       "<text text-anchor=\"middle\" x=\"279\" y=\"-22.8\" font-family=\"Helvetica,sans-Serif\" font-size=\"14.00\">samples = 58</text>\n",
       "<text text-anchor=\"middle\" x=\"279\" y=\"-7.8\" font-family=\"Helvetica,sans-Serif\" font-size=\"14.00\">value = 0.923</text>\n",
       "</g>\n",
       "<!-- 4&#45;&gt;6 -->\n",
       "<g id=\"edge6\" class=\"edge\">\n",
       "<title>4&#45;&gt;6</title>\n",
       "<path fill=\"none\" stroke=\"black\" d=\"M279,-88.95C279,-80.72 279,-71.85 279,-63.48\"/>\n",
       "<polygon fill=\"black\" stroke=\"black\" points=\"282.5,-63.24 279,-53.24 275.5,-63.24 282.5,-63.24\"/>\n",
       "</g>\n",
       "<!-- 8 -->\n",
       "<g id=\"node9\" class=\"node\">\n",
       "<title>8</title>\n",
       "<polygon fill=\"#fffefe\" stroke=\"black\" points=\"558,-53 384,-53 384,0 558,0 558,-53\"/>\n",
       "<text text-anchor=\"middle\" x=\"471\" y=\"-37.8\" font-family=\"Helvetica,sans-Serif\" font-size=\"14.00\">squared_error = 0.273</text>\n",
       "<text text-anchor=\"middle\" x=\"471\" y=\"-22.8\" font-family=\"Helvetica,sans-Serif\" font-size=\"14.00\">samples = 29</text>\n",
       "<text text-anchor=\"middle\" x=\"471\" y=\"-7.8\" font-family=\"Helvetica,sans-Serif\" font-size=\"14.00\">value = 0.966</text>\n",
       "</g>\n",
       "<!-- 7&#45;&gt;8 -->\n",
       "<g id=\"edge8\" class=\"edge\">\n",
       "<title>7&#45;&gt;8</title>\n",
       "<path fill=\"none\" stroke=\"black\" d=\"M537.98,-88.95C527.81,-79.62 516.75,-69.47 506.6,-60.16\"/>\n",
       "<polygon fill=\"black\" stroke=\"black\" points=\"508.79,-57.42 499.05,-53.24 504.05,-62.58 508.79,-57.42\"/>\n",
       "</g>\n",
       "<!-- 9 -->\n",
       "<g id=\"node10\" class=\"node\">\n",
       "<title>9</title>\n",
       "<polygon fill=\"#fffefe\" stroke=\"black\" points=\"732,-53 576,-53 576,0 732,0 732,-53\"/>\n",
       "<text text-anchor=\"middle\" x=\"654\" y=\"-37.8\" font-family=\"Helvetica,sans-Serif\" font-size=\"14.00\">squared_error = 0.3</text>\n",
       "<text text-anchor=\"middle\" x=\"654\" y=\"-22.8\" font-family=\"Helvetica,sans-Serif\" font-size=\"14.00\">samples = 28</text>\n",
       "<text text-anchor=\"middle\" x=\"654\" y=\"-7.8\" font-family=\"Helvetica,sans-Serif\" font-size=\"14.00\">value = 0.977</text>\n",
       "</g>\n",
       "<!-- 7&#45;&gt;9 -->\n",
       "<g id=\"edge9\" class=\"edge\">\n",
       "<title>7&#45;&gt;9</title>\n",
       "<path fill=\"none\" stroke=\"black\" d=\"M601.98,-88.95C609.65,-79.89 617.96,-70.07 625.65,-60.99\"/>\n",
       "<polygon fill=\"black\" stroke=\"black\" points=\"628.42,-63.13 632.21,-53.24 623.08,-58.61 628.42,-63.13\"/>\n",
       "</g>\n",
       "<!-- 11 -->\n",
       "<g id=\"node12\" class=\"node\">\n",
       "<title>11</title>\n",
       "<polygon fill=\"#fffefe\" stroke=\"black\" points=\"1115.5,-157 918.5,-157 918.5,-89 1115.5,-89 1115.5,-157\"/>\n",
       "<text text-anchor=\"middle\" x=\"1017\" y=\"-141.8\" font-family=\"Helvetica,sans-Serif\" font-size=\"14.00\">target_encoded &lt;= 1.002</text>\n",
       "<text text-anchor=\"middle\" x=\"1017\" y=\"-126.8\" font-family=\"Helvetica,sans-Serif\" font-size=\"14.00\">squared_error = 0.329</text>\n",
       "<text text-anchor=\"middle\" x=\"1017\" y=\"-111.8\" font-family=\"Helvetica,sans-Serif\" font-size=\"14.00\">samples = 54</text>\n",
       "<text text-anchor=\"middle\" x=\"1017\" y=\"-96.8\" font-family=\"Helvetica,sans-Serif\" font-size=\"14.00\">value = 1.004</text>\n",
       "</g>\n",
       "<!-- 10&#45;&gt;11 -->\n",
       "<g id=\"edge11\" class=\"edge\">\n",
       "<title>10&#45;&gt;11</title>\n",
       "<path fill=\"none\" stroke=\"black\" d=\"M1089.94,-192.88C1080.32,-183.8 1069.78,-173.85 1059.78,-164.4\"/>\n",
       "<polygon fill=\"black\" stroke=\"black\" points=\"1061.93,-161.62 1052.26,-157.3 1057.13,-166.71 1061.93,-161.62\"/>\n",
       "</g>\n",
       "<!-- 14 -->\n",
       "<g id=\"node15\" class=\"node\">\n",
       "<title>14</title>\n",
       "<polygon fill=\"#fffefd\" stroke=\"black\" points=\"1330.5,-157 1133.5,-157 1133.5,-89 1330.5,-89 1330.5,-157\"/>\n",
       "<text text-anchor=\"middle\" x=\"1232\" y=\"-141.8\" font-family=\"Helvetica,sans-Serif\" font-size=\"14.00\">target_encoded &lt;= 1.044</text>\n",
       "<text text-anchor=\"middle\" x=\"1232\" y=\"-126.8\" font-family=\"Helvetica,sans-Serif\" font-size=\"14.00\">squared_error = 0.32</text>\n",
       "<text text-anchor=\"middle\" x=\"1232\" y=\"-111.8\" font-family=\"Helvetica,sans-Serif\" font-size=\"14.00\">samples = 88</text>\n",
       "<text text-anchor=\"middle\" x=\"1232\" y=\"-96.8\" font-family=\"Helvetica,sans-Serif\" font-size=\"14.00\">value = 1.048</text>\n",
       "</g>\n",
       "<!-- 10&#45;&gt;14 -->\n",
       "<g id=\"edge14\" class=\"edge\">\n",
       "<title>10&#45;&gt;14</title>\n",
       "<path fill=\"none\" stroke=\"black\" d=\"M1159.74,-192.88C1169.27,-183.8 1179.71,-173.85 1189.62,-164.4\"/>\n",
       "<polygon fill=\"black\" stroke=\"black\" points=\"1192.25,-166.73 1197.07,-157.3 1187.42,-161.67 1192.25,-166.73\"/>\n",
       "</g>\n",
       "<!-- 12 -->\n",
       "<g id=\"node13\" class=\"node\">\n",
       "<title>12</title>\n",
       "<polygon fill=\"#fffefe\" stroke=\"black\" points=\"924,-53 750,-53 750,0 924,0 924,-53\"/>\n",
       "<text text-anchor=\"middle\" x=\"837\" y=\"-37.8\" font-family=\"Helvetica,sans-Serif\" font-size=\"14.00\">squared_error = 0.258</text>\n",
       "<text text-anchor=\"middle\" x=\"837\" y=\"-22.8\" font-family=\"Helvetica,sans-Serif\" font-size=\"14.00\">samples = 21</text>\n",
       "<text text-anchor=\"middle\" x=\"837\" y=\"-7.8\" font-family=\"Helvetica,sans-Serif\" font-size=\"14.00\">value = 0.995</text>\n",
       "</g>\n",
       "<!-- 11&#45;&gt;12 -->\n",
       "<g id=\"edge12\" class=\"edge\">\n",
       "<title>11&#45;&gt;12</title>\n",
       "<path fill=\"none\" stroke=\"black\" d=\"M954.04,-88.95C934.79,-78.84 913.72,-67.78 894.82,-57.86\"/>\n",
       "<polygon fill=\"black\" stroke=\"black\" points=\"896.22,-54.64 885.74,-53.09 892.96,-60.83 896.22,-54.64\"/>\n",
       "</g>\n",
       "<!-- 13 -->\n",
       "<g id=\"node14\" class=\"node\">\n",
       "<title>13</title>\n",
       "<polygon fill=\"#fffefe\" stroke=\"black\" points=\"1116,-53 942,-53 942,0 1116,0 1116,-53\"/>\n",
       "<text text-anchor=\"middle\" x=\"1029\" y=\"-37.8\" font-family=\"Helvetica,sans-Serif\" font-size=\"14.00\">squared_error = 0.373</text>\n",
       "<text text-anchor=\"middle\" x=\"1029\" y=\"-22.8\" font-family=\"Helvetica,sans-Serif\" font-size=\"14.00\">samples = 33</text>\n",
       "<text text-anchor=\"middle\" x=\"1029\" y=\"-7.8\" font-family=\"Helvetica,sans-Serif\" font-size=\"14.00\">value = 1.009</text>\n",
       "</g>\n",
       "<!-- 11&#45;&gt;13 -->\n",
       "<g id=\"edge13\" class=\"edge\">\n",
       "<title>11&#45;&gt;13</title>\n",
       "<path fill=\"none\" stroke=\"black\" d=\"M1021.2,-88.95C1022.25,-80.62 1023.39,-71.65 1024.47,-63.2\"/>\n",
       "<polygon fill=\"black\" stroke=\"black\" points=\"1027.94,-63.6 1025.73,-53.24 1021,-62.72 1027.94,-63.6\"/>\n",
       "</g>\n",
       "<!-- 15 -->\n",
       "<g id=\"node16\" class=\"node\">\n",
       "<title>15</title>\n",
       "<polygon fill=\"#fffefd\" stroke=\"black\" points=\"1308,-53 1134,-53 1134,0 1308,0 1308,-53\"/>\n",
       "<text text-anchor=\"middle\" x=\"1221\" y=\"-37.8\" font-family=\"Helvetica,sans-Serif\" font-size=\"14.00\">squared_error = 0.308</text>\n",
       "<text text-anchor=\"middle\" x=\"1221\" y=\"-22.8\" font-family=\"Helvetica,sans-Serif\" font-size=\"14.00\">samples = 32</text>\n",
       "<text text-anchor=\"middle\" x=\"1221\" y=\"-7.8\" font-family=\"Helvetica,sans-Serif\" font-size=\"14.00\">value = 1.037</text>\n",
       "</g>\n",
       "<!-- 14&#45;&gt;15 -->\n",
       "<g id=\"edge15\" class=\"edge\">\n",
       "<title>14&#45;&gt;15</title>\n",
       "<path fill=\"none\" stroke=\"black\" d=\"M1228.15,-88.95C1227.18,-80.62 1226.14,-71.65 1225.16,-63.2\"/>\n",
       "<polygon fill=\"black\" stroke=\"black\" points=\"1228.63,-62.76 1224,-53.24 1221.68,-63.57 1228.63,-62.76\"/>\n",
       "</g>\n",
       "<!-- 16 -->\n",
       "<g id=\"node17\" class=\"node\">\n",
       "<title>16</title>\n",
       "<polygon fill=\"#fffefd\" stroke=\"black\" points=\"1500,-53 1326,-53 1326,0 1500,0 1500,-53\"/>\n",
       "<text text-anchor=\"middle\" x=\"1413\" y=\"-37.8\" font-family=\"Helvetica,sans-Serif\" font-size=\"14.00\">squared_error = 0.326</text>\n",
       "<text text-anchor=\"middle\" x=\"1413\" y=\"-22.8\" font-family=\"Helvetica,sans-Serif\" font-size=\"14.00\">samples = 56</text>\n",
       "<text text-anchor=\"middle\" x=\"1413\" y=\"-7.8\" font-family=\"Helvetica,sans-Serif\" font-size=\"14.00\">value = 1.054</text>\n",
       "</g>\n",
       "<!-- 14&#45;&gt;16 -->\n",
       "<g id=\"edge16\" class=\"edge\">\n",
       "<title>14&#45;&gt;16</title>\n",
       "<path fill=\"none\" stroke=\"black\" d=\"M1295.31,-88.95C1314.75,-78.79 1336.05,-67.67 1355.12,-57.72\"/>\n",
       "<polygon fill=\"black\" stroke=\"black\" points=\"1356.75,-60.82 1363.99,-53.09 1353.51,-54.61 1356.75,-60.82\"/>\n",
       "</g>\n",
       "<!-- 18 -->\n",
       "<g id=\"node19\" class=\"node\">\n",
       "<title>18</title>\n",
       "<polygon fill=\"#f3c5a4\" stroke=\"black\" points=\"1758,-253.5 1584,-253.5 1584,-200.5 1758,-200.5 1758,-253.5\"/>\n",
       "<text text-anchor=\"middle\" x=\"1671\" y=\"-238.3\" font-family=\"Helvetica,sans-Serif\" font-size=\"14.00\">squared_error = 0.338</text>\n",
       "<text text-anchor=\"middle\" x=\"1671\" y=\"-223.3\" font-family=\"Helvetica,sans-Serif\" font-size=\"14.00\">samples = 19</text>\n",
       "<text text-anchor=\"middle\" x=\"1671\" y=\"-208.3\" font-family=\"Helvetica,sans-Serif\" font-size=\"14.00\">value = 9.703</text>\n",
       "</g>\n",
       "<!-- 17&#45;&gt;18 -->\n",
       "<g id=\"edge18\" class=\"edge\">\n",
       "<title>17&#45;&gt;18</title>\n",
       "<path fill=\"none\" stroke=\"black\" d=\"M1741.23,-296.88C1729.35,-285.23 1716.01,-272.14 1704.17,-260.53\"/>\n",
       "<polygon fill=\"black\" stroke=\"black\" points=\"1706.61,-258.02 1697.02,-253.52 1701.71,-263.02 1706.61,-258.02\"/>\n",
       "</g>\n",
       "<!-- 19 -->\n",
       "<g id=\"node20\" class=\"node\">\n",
       "<title>19</title>\n",
       "<polygon fill=\"#f3c3a1\" stroke=\"black\" points=\"1982,-261 1776,-261 1776,-193 1982,-193 1982,-261\"/>\n",
       "<text text-anchor=\"middle\" x=\"1879\" y=\"-245.8\" font-family=\"Helvetica,sans-Serif\" font-size=\"14.00\">target_encoded &lt;= 10.081</text>\n",
       "<text text-anchor=\"middle\" x=\"1879\" y=\"-230.8\" font-family=\"Helvetica,sans-Serif\" font-size=\"14.00\">squared_error = 0.346</text>\n",
       "<text text-anchor=\"middle\" x=\"1879\" y=\"-215.8\" font-family=\"Helvetica,sans-Serif\" font-size=\"14.00\">samples = 231</text>\n",
       "<text text-anchor=\"middle\" x=\"1879\" y=\"-200.8\" font-family=\"Helvetica,sans-Serif\" font-size=\"14.00\">value = 10.043</text>\n",
       "</g>\n",
       "<!-- 17&#45;&gt;19 -->\n",
       "<g id=\"edge19\" class=\"edge\">\n",
       "<title>17&#45;&gt;19</title>\n",
       "<path fill=\"none\" stroke=\"black\" d=\"M1808.77,-296.88C1818.03,-287.8 1828.18,-277.85 1837.81,-268.4\"/>\n",
       "<polygon fill=\"black\" stroke=\"black\" points=\"1840.36,-270.8 1845.05,-261.3 1835.46,-265.8 1840.36,-270.8\"/>\n",
       "</g>\n",
       "<!-- 20 -->\n",
       "<g id=\"node21\" class=\"node\">\n",
       "<title>20</title>\n",
       "<polygon fill=\"#f3c3a1\" stroke=\"black\" points=\"1867.5,-157 1670.5,-157 1670.5,-89 1867.5,-89 1867.5,-157\"/>\n",
       "<text text-anchor=\"middle\" x=\"1769\" y=\"-141.8\" font-family=\"Helvetica,sans-Serif\" font-size=\"14.00\">target_encoded &lt;= 9.994</text>\n",
       "<text text-anchor=\"middle\" x=\"1769\" y=\"-126.8\" font-family=\"Helvetica,sans-Serif\" font-size=\"14.00\">squared_error = 0.321</text>\n",
       "<text text-anchor=\"middle\" x=\"1769\" y=\"-111.8\" font-family=\"Helvetica,sans-Serif\" font-size=\"14.00\">samples = 182</text>\n",
       "<text text-anchor=\"middle\" x=\"1769\" y=\"-96.8\" font-family=\"Helvetica,sans-Serif\" font-size=\"14.00\">value = 10.016</text>\n",
       "</g>\n",
       "<!-- 19&#45;&gt;20 -->\n",
       "<g id=\"edge20\" class=\"edge\">\n",
       "<title>19&#45;&gt;20</title>\n",
       "<path fill=\"none\" stroke=\"black\" d=\"M1843.29,-192.88C1833.39,-183.71 1822.54,-173.65 1812.27,-164.12\"/>\n",
       "<polygon fill=\"black\" stroke=\"black\" points=\"1814.62,-161.53 1804.91,-157.3 1809.86,-166.67 1814.62,-161.53\"/>\n",
       "</g>\n",
       "<!-- 23 -->\n",
       "<g id=\"node24\" class=\"node\">\n",
       "<title>23</title>\n",
       "<polygon fill=\"#f3c2a0\" stroke=\"black\" points=\"2092,-157 1886,-157 1886,-89 2092,-89 2092,-157\"/>\n",
       "<text text-anchor=\"middle\" x=\"1989\" y=\"-141.8\" font-family=\"Helvetica,sans-Serif\" font-size=\"14.00\">target_encoded &lt;= 10.143</text>\n",
       "<text text-anchor=\"middle\" x=\"1989\" y=\"-126.8\" font-family=\"Helvetica,sans-Serif\" font-size=\"14.00\">squared_error = 0.426</text>\n",
       "<text text-anchor=\"middle\" x=\"1989\" y=\"-111.8\" font-family=\"Helvetica,sans-Serif\" font-size=\"14.00\">samples = 49</text>\n",
       "<text text-anchor=\"middle\" x=\"1989\" y=\"-96.8\" font-family=\"Helvetica,sans-Serif\" font-size=\"14.00\">value = 10.14</text>\n",
       "</g>\n",
       "<!-- 19&#45;&gt;23 -->\n",
       "<g id=\"edge23\" class=\"edge\">\n",
       "<title>19&#45;&gt;23</title>\n",
       "<path fill=\"none\" stroke=\"black\" d=\"M1914.71,-192.88C1924.61,-183.71 1935.46,-173.65 1945.73,-164.12\"/>\n",
       "<polygon fill=\"black\" stroke=\"black\" points=\"1948.14,-166.67 1953.09,-157.3 1943.38,-161.53 1948.14,-166.67\"/>\n",
       "</g>\n",
       "<!-- 21 -->\n",
       "<g id=\"node22\" class=\"node\">\n",
       "<title>21</title>\n",
       "<polygon fill=\"#f3c4a2\" stroke=\"black\" points=\"1692,-53 1518,-53 1518,0 1692,0 1692,-53\"/>\n",
       "<text text-anchor=\"middle\" x=\"1605\" y=\"-37.8\" font-family=\"Helvetica,sans-Serif\" font-size=\"14.00\">squared_error = 0.334</text>\n",
       "<text text-anchor=\"middle\" x=\"1605\" y=\"-22.8\" font-family=\"Helvetica,sans-Serif\" font-size=\"14.00\">samples = 46</text>\n",
       "<text text-anchor=\"middle\" x=\"1605\" y=\"-7.8\" font-family=\"Helvetica,sans-Serif\" font-size=\"14.00\">value = 9.965</text>\n",
       "</g>\n",
       "<!-- 20&#45;&gt;21 -->\n",
       "<g id=\"edge21\" class=\"edge\">\n",
       "<title>20&#45;&gt;21</title>\n",
       "<path fill=\"none\" stroke=\"black\" d=\"M1711.64,-88.95C1694.26,-78.93 1675.25,-67.98 1658.15,-58.13\"/>\n",
       "<polygon fill=\"black\" stroke=\"black\" points=\"1659.82,-55.05 1649.4,-53.09 1656.32,-61.11 1659.82,-55.05\"/>\n",
       "</g>\n",
       "<!-- 22 -->\n",
       "<g id=\"node23\" class=\"node\">\n",
       "<title>22</title>\n",
       "<polygon fill=\"#f3c3a1\" stroke=\"black\" points=\"1884,-53 1710,-53 1710,0 1884,0 1884,-53\"/>\n",
       "<text text-anchor=\"middle\" x=\"1797\" y=\"-37.8\" font-family=\"Helvetica,sans-Serif\" font-size=\"14.00\">squared_error = 0.316</text>\n",
       "<text text-anchor=\"middle\" x=\"1797\" y=\"-22.8\" font-family=\"Helvetica,sans-Serif\" font-size=\"14.00\">samples = 136</text>\n",
       "<text text-anchor=\"middle\" x=\"1797\" y=\"-7.8\" font-family=\"Helvetica,sans-Serif\" font-size=\"14.00\">value = 10.034</text>\n",
       "</g>\n",
       "<!-- 20&#45;&gt;22 -->\n",
       "<g id=\"edge22\" class=\"edge\">\n",
       "<title>20&#45;&gt;22</title>\n",
       "<path fill=\"none\" stroke=\"black\" d=\"M1778.79,-88.95C1781.29,-80.53 1783.98,-71.45 1786.5,-62.92\"/>\n",
       "<polygon fill=\"black\" stroke=\"black\" points=\"1789.89,-63.82 1789.37,-53.24 1783.18,-61.83 1789.89,-63.82\"/>\n",
       "</g>\n",
       "<!-- 24 -->\n",
       "<g id=\"node25\" class=\"node\">\n",
       "<title>24</title>\n",
       "<polygon fill=\"#f3c3a0\" stroke=\"black\" points=\"2076,-53 1902,-53 1902,0 2076,0 2076,-53\"/>\n",
       "<text text-anchor=\"middle\" x=\"1989\" y=\"-37.8\" font-family=\"Helvetica,sans-Serif\" font-size=\"14.00\">squared_error = 0.424</text>\n",
       "<text text-anchor=\"middle\" x=\"1989\" y=\"-22.8\" font-family=\"Helvetica,sans-Serif\" font-size=\"14.00\">samples = 27</text>\n",
       "<text text-anchor=\"middle\" x=\"1989\" y=\"-7.8\" font-family=\"Helvetica,sans-Serif\" font-size=\"14.00\">value = 10.116</text>\n",
       "</g>\n",
       "<!-- 23&#45;&gt;24 -->\n",
       "<g id=\"edge24\" class=\"edge\">\n",
       "<title>23&#45;&gt;24</title>\n",
       "<path fill=\"none\" stroke=\"black\" d=\"M1989,-88.95C1989,-80.72 1989,-71.85 1989,-63.48\"/>\n",
       "<polygon fill=\"black\" stroke=\"black\" points=\"1992.5,-63.24 1989,-53.24 1985.5,-63.24 1992.5,-63.24\"/>\n",
       "</g>\n",
       "<!-- 25 -->\n",
       "<g id=\"node26\" class=\"node\">\n",
       "<title>25</title>\n",
       "<polygon fill=\"#f2c2a0\" stroke=\"black\" points=\"2268,-53 2094,-53 2094,0 2268,0 2268,-53\"/>\n",
       "<text text-anchor=\"middle\" x=\"2181\" y=\"-37.8\" font-family=\"Helvetica,sans-Serif\" font-size=\"14.00\">squared_error = 0.426</text>\n",
       "<text text-anchor=\"middle\" x=\"2181\" y=\"-22.8\" font-family=\"Helvetica,sans-Serif\" font-size=\"14.00\">samples = 22</text>\n",
       "<text text-anchor=\"middle\" x=\"2181\" y=\"-7.8\" font-family=\"Helvetica,sans-Serif\" font-size=\"14.00\">value = 10.169</text>\n",
       "</g>\n",
       "<!-- 23&#45;&gt;25 -->\n",
       "<g id=\"edge25\" class=\"edge\">\n",
       "<title>23&#45;&gt;25</title>\n",
       "<path fill=\"none\" stroke=\"black\" d=\"M2056.15,-88.95C2076.88,-78.75 2099.58,-67.57 2119.87,-57.59\"/>\n",
       "<polygon fill=\"black\" stroke=\"black\" points=\"2121.59,-60.64 2129.01,-53.09 2118.5,-54.36 2121.59,-60.64\"/>\n",
       "</g>\n",
       "<!-- 27 -->\n",
       "<g id=\"node28\" class=\"node\">\n",
       "<title>27</title>\n",
       "<polygon fill=\"#e5823b\" stroke=\"black\" points=\"2588,-365 2382,-365 2382,-297 2588,-297 2588,-365\"/>\n",
       "<text text-anchor=\"middle\" x=\"2485\" y=\"-349.8\" font-family=\"Helvetica,sans-Serif\" font-size=\"14.00\">target_encoded &lt;= 19.898</text>\n",
       "<text text-anchor=\"middle\" x=\"2485\" y=\"-334.8\" font-family=\"Helvetica,sans-Serif\" font-size=\"14.00\">squared_error = 0.309</text>\n",
       "<text text-anchor=\"middle\" x=\"2485\" y=\"-319.8\" font-family=\"Helvetica,sans-Serif\" font-size=\"14.00\">samples = 102</text>\n",
       "<text text-anchor=\"middle\" x=\"2485\" y=\"-304.8\" font-family=\"Helvetica,sans-Serif\" font-size=\"14.00\">value = 19.911</text>\n",
       "</g>\n",
       "<!-- 26&#45;&gt;27 -->\n",
       "<g id=\"edge27\" class=\"edge\">\n",
       "<title>26&#45;&gt;27</title>\n",
       "<path fill=\"none\" stroke=\"black\" d=\"M2485,-400.88C2485,-392.78 2485,-383.98 2485,-375.47\"/>\n",
       "<polygon fill=\"black\" stroke=\"black\" points=\"2488.5,-375.3 2485,-365.3 2481.5,-375.3 2488.5,-375.3\"/>\n",
       "</g>\n",
       "<!-- 34 -->\n",
       "<g id=\"node35\" class=\"node\">\n",
       "<title>34</title>\n",
       "<polygon fill=\"#e5813a\" stroke=\"black\" points=\"3141,-365 2935,-365 2935,-297 3141,-297 3141,-365\"/>\n",
       "<text text-anchor=\"middle\" x=\"3038\" y=\"-349.8\" font-family=\"Helvetica,sans-Serif\" font-size=\"14.00\">target_encoded &lt;= 20.044</text>\n",
       "<text text-anchor=\"middle\" x=\"3038\" y=\"-334.8\" font-family=\"Helvetica,sans-Serif\" font-size=\"14.00\">squared_error = 0.35</text>\n",
       "<text text-anchor=\"middle\" x=\"3038\" y=\"-319.8\" font-family=\"Helvetica,sans-Serif\" font-size=\"14.00\">samples = 169</text>\n",
       "<text text-anchor=\"middle\" x=\"3038\" y=\"-304.8\" font-family=\"Helvetica,sans-Serif\" font-size=\"14.00\">value = 20.068</text>\n",
       "</g>\n",
       "<!-- 26&#45;&gt;34 -->\n",
       "<g id=\"edge34\" class=\"edge\">\n",
       "<title>26&#45;&gt;34</title>\n",
       "<path fill=\"none\" stroke=\"black\" d=\"M2588.04,-414.99C2683.66,-397.36 2825.7,-371.16 2924.52,-352.93\"/>\n",
       "<polygon fill=\"black\" stroke=\"black\" points=\"2925.35,-356.34 2934.55,-351.08 2924.08,-349.45 2925.35,-356.34\"/>\n",
       "</g>\n",
       "<!-- 28 -->\n",
       "<g id=\"node29\" class=\"node\">\n",
       "<title>28</title>\n",
       "<polygon fill=\"#e5833c\" stroke=\"black\" points=\"2476,-261 2270,-261 2270,-193 2476,-193 2476,-261\"/>\n",
       "<text text-anchor=\"middle\" x=\"2373\" y=\"-245.8\" font-family=\"Helvetica,sans-Serif\" font-size=\"14.00\">target_encoded &lt;= 19.872</text>\n",
       "<text text-anchor=\"middle\" x=\"2373\" y=\"-230.8\" font-family=\"Helvetica,sans-Serif\" font-size=\"14.00\">squared_error = 0.304</text>\n",
       "<text text-anchor=\"middle\" x=\"2373\" y=\"-215.8\" font-family=\"Helvetica,sans-Serif\" font-size=\"14.00\">samples = 47</text>\n",
       "<text text-anchor=\"middle\" x=\"2373\" y=\"-200.8\" font-family=\"Helvetica,sans-Serif\" font-size=\"14.00\">value = 19.872</text>\n",
       "</g>\n",
       "<!-- 27&#45;&gt;28 -->\n",
       "<g id=\"edge28\" class=\"edge\">\n",
       "<title>27&#45;&gt;28</title>\n",
       "<path fill=\"none\" stroke=\"black\" d=\"M2448.64,-296.88C2438.56,-287.71 2427.52,-277.65 2417.06,-268.12\"/>\n",
       "<polygon fill=\"black\" stroke=\"black\" points=\"2419.31,-265.44 2409.56,-261.3 2414.6,-270.62 2419.31,-265.44\"/>\n",
       "</g>\n",
       "<!-- 31 -->\n",
       "<g id=\"node32\" class=\"node\">\n",
       "<title>31</title>\n",
       "<polygon fill=\"#e5823b\" stroke=\"black\" points=\"2700,-261 2494,-261 2494,-193 2700,-193 2700,-261\"/>\n",
       "<text text-anchor=\"middle\" x=\"2597\" y=\"-245.8\" font-family=\"Helvetica,sans-Serif\" font-size=\"14.00\">target_encoded &lt;= 19.942</text>\n",
       "<text text-anchor=\"middle\" x=\"2597\" y=\"-230.8\" font-family=\"Helvetica,sans-Serif\" font-size=\"14.00\">squared_error = 0.312</text>\n",
       "<text text-anchor=\"middle\" x=\"2597\" y=\"-215.8\" font-family=\"Helvetica,sans-Serif\" font-size=\"14.00\">samples = 55</text>\n",
       "<text text-anchor=\"middle\" x=\"2597\" y=\"-200.8\" font-family=\"Helvetica,sans-Serif\" font-size=\"14.00\">value = 19.944</text>\n",
       "</g>\n",
       "<!-- 27&#45;&gt;31 -->\n",
       "<g id=\"edge31\" class=\"edge\">\n",
       "<title>27&#45;&gt;31</title>\n",
       "<path fill=\"none\" stroke=\"black\" d=\"M2521.36,-296.88C2531.44,-287.71 2542.48,-277.65 2552.94,-268.12\"/>\n",
       "<polygon fill=\"black\" stroke=\"black\" points=\"2555.4,-270.62 2560.44,-261.3 2550.69,-265.44 2555.4,-270.62\"/>\n",
       "</g>\n",
       "<!-- 29 -->\n",
       "<g id=\"node30\" class=\"node\">\n",
       "<title>29</title>\n",
       "<polygon fill=\"#e5833c\" stroke=\"black\" points=\"2284,-149.5 2110,-149.5 2110,-96.5 2284,-96.5 2284,-149.5\"/>\n",
       "<text text-anchor=\"middle\" x=\"2197\" y=\"-134.3\" font-family=\"Helvetica,sans-Serif\" font-size=\"14.00\">squared_error = 0.294</text>\n",
       "<text text-anchor=\"middle\" x=\"2197\" y=\"-119.3\" font-family=\"Helvetica,sans-Serif\" font-size=\"14.00\">samples = 24</text>\n",
       "<text text-anchor=\"middle\" x=\"2197\" y=\"-104.3\" font-family=\"Helvetica,sans-Serif\" font-size=\"14.00\">value = 19.868</text>\n",
       "</g>\n",
       "<!-- 28&#45;&gt;29 -->\n",
       "<g id=\"edge29\" class=\"edge\">\n",
       "<title>28&#45;&gt;29</title>\n",
       "<path fill=\"none\" stroke=\"black\" d=\"M2315.86,-192.88C2294.6,-180.57 2270.6,-166.65 2249.76,-154.57\"/>\n",
       "<polygon fill=\"black\" stroke=\"black\" points=\"2251.44,-151.51 2241.03,-149.52 2247.93,-157.56 2251.44,-151.51\"/>\n",
       "</g>\n",
       "<!-- 30 -->\n",
       "<g id=\"node31\" class=\"node\">\n",
       "<title>30</title>\n",
       "<polygon fill=\"#e5833c\" stroke=\"black\" points=\"2476,-149.5 2302,-149.5 2302,-96.5 2476,-96.5 2476,-149.5\"/>\n",
       "<text text-anchor=\"middle\" x=\"2389\" y=\"-134.3\" font-family=\"Helvetica,sans-Serif\" font-size=\"14.00\">squared_error = 0.314</text>\n",
       "<text text-anchor=\"middle\" x=\"2389\" y=\"-119.3\" font-family=\"Helvetica,sans-Serif\" font-size=\"14.00\">samples = 23</text>\n",
       "<text text-anchor=\"middle\" x=\"2389\" y=\"-104.3\" font-family=\"Helvetica,sans-Serif\" font-size=\"14.00\">value = 19.876</text>\n",
       "</g>\n",
       "<!-- 28&#45;&gt;30 -->\n",
       "<g id=\"edge30\" class=\"edge\">\n",
       "<title>28&#45;&gt;30</title>\n",
       "<path fill=\"none\" stroke=\"black\" d=\"M2378.19,-192.88C2379.87,-182.22 2381.73,-170.35 2383.43,-159.52\"/>\n",
       "<polygon fill=\"black\" stroke=\"black\" points=\"2386.9,-159.94 2385,-149.52 2379.99,-158.86 2386.9,-159.94\"/>\n",
       "</g>\n",
       "<!-- 32 -->\n",
       "<g id=\"node33\" class=\"node\">\n",
       "<title>32</title>\n",
       "<polygon fill=\"#e5823b\" stroke=\"black\" points=\"2668,-149.5 2494,-149.5 2494,-96.5 2668,-96.5 2668,-149.5\"/>\n",
       "<text text-anchor=\"middle\" x=\"2581\" y=\"-134.3\" font-family=\"Helvetica,sans-Serif\" font-size=\"14.00\">squared_error = 0.302</text>\n",
       "<text text-anchor=\"middle\" x=\"2581\" y=\"-119.3\" font-family=\"Helvetica,sans-Serif\" font-size=\"14.00\">samples = 25</text>\n",
       "<text text-anchor=\"middle\" x=\"2581\" y=\"-104.3\" font-family=\"Helvetica,sans-Serif\" font-size=\"14.00\">value = 19.921</text>\n",
       "</g>\n",
       "<!-- 31&#45;&gt;32 -->\n",
       "<g id=\"edge32\" class=\"edge\">\n",
       "<title>31&#45;&gt;32</title>\n",
       "<path fill=\"none\" stroke=\"black\" d=\"M2591.81,-192.88C2590.13,-182.22 2588.27,-170.35 2586.57,-159.52\"/>\n",
       "<polygon fill=\"black\" stroke=\"black\" points=\"2590.01,-158.86 2585,-149.52 2583.1,-159.94 2590.01,-158.86\"/>\n",
       "</g>\n",
       "<!-- 33 -->\n",
       "<g id=\"node34\" class=\"node\">\n",
       "<title>33</title>\n",
       "<polygon fill=\"#e5823b\" stroke=\"black\" points=\"2851.5,-149.5 2686.5,-149.5 2686.5,-96.5 2851.5,-96.5 2851.5,-149.5\"/>\n",
       "<text text-anchor=\"middle\" x=\"2769\" y=\"-134.3\" font-family=\"Helvetica,sans-Serif\" font-size=\"14.00\">squared_error = 0.32</text>\n",
       "<text text-anchor=\"middle\" x=\"2769\" y=\"-119.3\" font-family=\"Helvetica,sans-Serif\" font-size=\"14.00\">samples = 30</text>\n",
       "<text text-anchor=\"middle\" x=\"2769\" y=\"-104.3\" font-family=\"Helvetica,sans-Serif\" font-size=\"14.00\">value = 19.964</text>\n",
       "</g>\n",
       "<!-- 31&#45;&gt;33 -->\n",
       "<g id=\"edge33\" class=\"edge\">\n",
       "<title>31&#45;&gt;33</title>\n",
       "<path fill=\"none\" stroke=\"black\" d=\"M2652.84,-192.88C2673.52,-180.62 2696.86,-166.78 2717.17,-154.74\"/>\n",
       "<polygon fill=\"black\" stroke=\"black\" points=\"2719.15,-157.63 2725.97,-149.52 2715.58,-151.61 2719.15,-157.63\"/>\n",
       "</g>\n",
       "<!-- 35 -->\n",
       "<g id=\"node36\" class=\"node\">\n",
       "<title>35</title>\n",
       "<polygon fill=\"#e5823a\" stroke=\"black\" points=\"3141,-261 2935,-261 2935,-193 3141,-193 3141,-261\"/>\n",
       "<text text-anchor=\"middle\" x=\"3038\" y=\"-245.8\" font-family=\"Helvetica,sans-Serif\" font-size=\"14.00\">target_encoded &lt;= 20.013</text>\n",
       "<text text-anchor=\"middle\" x=\"3038\" y=\"-230.8\" font-family=\"Helvetica,sans-Serif\" font-size=\"14.00\">squared_error = 0.372</text>\n",
       "<text text-anchor=\"middle\" x=\"3038\" y=\"-215.8\" font-family=\"Helvetica,sans-Serif\" font-size=\"14.00\">samples = 57</text>\n",
       "<text text-anchor=\"middle\" x=\"3038\" y=\"-200.8\" font-family=\"Helvetica,sans-Serif\" font-size=\"14.00\">value = 20.012</text>\n",
       "</g>\n",
       "<!-- 34&#45;&gt;35 -->\n",
       "<g id=\"edge35\" class=\"edge\">\n",
       "<title>34&#45;&gt;35</title>\n",
       "<path fill=\"none\" stroke=\"black\" d=\"M3038,-296.88C3038,-288.78 3038,-279.98 3038,-271.47\"/>\n",
       "<polygon fill=\"black\" stroke=\"black\" points=\"3041.5,-271.3 3038,-261.3 3034.5,-271.3 3041.5,-271.3\"/>\n",
       "</g>\n",
       "<!-- 38 -->\n",
       "<g id=\"node39\" class=\"node\">\n",
       "<title>38</title>\n",
       "<polygon fill=\"#e58139\" stroke=\"black\" points=\"3451,-261 3245,-261 3245,-193 3451,-193 3451,-261\"/>\n",
       "<text text-anchor=\"middle\" x=\"3348\" y=\"-245.8\" font-family=\"Helvetica,sans-Serif\" font-size=\"14.00\">target_encoded &lt;= 20.116</text>\n",
       "<text text-anchor=\"middle\" x=\"3348\" y=\"-230.8\" font-family=\"Helvetica,sans-Serif\" font-size=\"14.00\">squared_error = 0.336</text>\n",
       "<text text-anchor=\"middle\" x=\"3348\" y=\"-215.8\" font-family=\"Helvetica,sans-Serif\" font-size=\"14.00\">samples = 112</text>\n",
       "<text text-anchor=\"middle\" x=\"3348\" y=\"-200.8\" font-family=\"Helvetica,sans-Serif\" font-size=\"14.00\">value = 20.097</text>\n",
       "</g>\n",
       "<!-- 34&#45;&gt;38 -->\n",
       "<g id=\"edge38\" class=\"edge\">\n",
       "<title>34&#45;&gt;38</title>\n",
       "<path fill=\"none\" stroke=\"black\" d=\"M3138.65,-296.88C3170.43,-286.43 3205.7,-274.82 3238.09,-264.16\"/>\n",
       "<polygon fill=\"black\" stroke=\"black\" points=\"3239.19,-267.49 3247.59,-261.04 3237,-260.84 3239.19,-267.49\"/>\n",
       "</g>\n",
       "<!-- 36 -->\n",
       "<g id=\"node37\" class=\"node\">\n",
       "<title>36</title>\n",
       "<polygon fill=\"#e5823a\" stroke=\"black\" points=\"3034.5,-149.5 2869.5,-149.5 2869.5,-96.5 3034.5,-96.5 3034.5,-149.5\"/>\n",
       "<text text-anchor=\"middle\" x=\"2952\" y=\"-134.3\" font-family=\"Helvetica,sans-Serif\" font-size=\"14.00\">squared_error = 0.29</text>\n",
       "<text text-anchor=\"middle\" x=\"2952\" y=\"-119.3\" font-family=\"Helvetica,sans-Serif\" font-size=\"14.00\">samples = 30</text>\n",
       "<text text-anchor=\"middle\" x=\"2952\" y=\"-104.3\" font-family=\"Helvetica,sans-Serif\" font-size=\"14.00\">value = 20.007</text>\n",
       "</g>\n",
       "<!-- 35&#45;&gt;36 -->\n",
       "<g id=\"edge36\" class=\"edge\">\n",
       "<title>35&#45;&gt;36</title>\n",
       "<path fill=\"none\" stroke=\"black\" d=\"M3010.08,-192.88C3000.43,-181.45 2989.63,-168.63 2979.98,-157.19\"/>\n",
       "<polygon fill=\"black\" stroke=\"black\" points=\"2982.64,-154.91 2973.52,-149.52 2977.29,-159.42 2982.64,-154.91\"/>\n",
       "</g>\n",
       "<!-- 37 -->\n",
       "<g id=\"node38\" class=\"node\">\n",
       "<title>37</title>\n",
       "<polygon fill=\"#e5823a\" stroke=\"black\" points=\"3227,-149.5 3053,-149.5 3053,-96.5 3227,-96.5 3227,-149.5\"/>\n",
       "<text text-anchor=\"middle\" x=\"3140\" y=\"-134.3\" font-family=\"Helvetica,sans-Serif\" font-size=\"14.00\">squared_error = 0.463</text>\n",
       "<text text-anchor=\"middle\" x=\"3140\" y=\"-119.3\" font-family=\"Helvetica,sans-Serif\" font-size=\"14.00\">samples = 27</text>\n",
       "<text text-anchor=\"middle\" x=\"3140\" y=\"-104.3\" font-family=\"Helvetica,sans-Serif\" font-size=\"14.00\">value = 20.018</text>\n",
       "</g>\n",
       "<!-- 35&#45;&gt;37 -->\n",
       "<g id=\"edge37\" class=\"edge\">\n",
       "<title>35&#45;&gt;37</title>\n",
       "<path fill=\"none\" stroke=\"black\" d=\"M3071.12,-192.88C3082.66,-181.34 3095.61,-168.39 3107.14,-156.86\"/>\n",
       "<polygon fill=\"black\" stroke=\"black\" points=\"3109.88,-159.07 3114.48,-149.52 3104.93,-154.12 3109.88,-159.07\"/>\n",
       "</g>\n",
       "<!-- 39 -->\n",
       "<g id=\"node40\" class=\"node\">\n",
       "<title>39</title>\n",
       "<polygon fill=\"#e5813a\" stroke=\"black\" points=\"3451,-157 3245,-157 3245,-89 3451,-89 3451,-157\"/>\n",
       "<text text-anchor=\"middle\" x=\"3348\" y=\"-141.8\" font-family=\"Helvetica,sans-Serif\" font-size=\"14.00\">target_encoded &lt;= 20.079</text>\n",
       "<text text-anchor=\"middle\" x=\"3348\" y=\"-126.8\" font-family=\"Helvetica,sans-Serif\" font-size=\"14.00\">squared_error = 0.333</text>\n",
       "<text text-anchor=\"middle\" x=\"3348\" y=\"-111.8\" font-family=\"Helvetica,sans-Serif\" font-size=\"14.00\">samples = 85</text>\n",
       "<text text-anchor=\"middle\" x=\"3348\" y=\"-96.8\" font-family=\"Helvetica,sans-Serif\" font-size=\"14.00\">value = 20.084</text>\n",
       "</g>\n",
       "<!-- 38&#45;&gt;39 -->\n",
       "<g id=\"edge39\" class=\"edge\">\n",
       "<title>38&#45;&gt;39</title>\n",
       "<path fill=\"none\" stroke=\"black\" d=\"M3348,-192.88C3348,-184.78 3348,-175.98 3348,-167.47\"/>\n",
       "<polygon fill=\"black\" stroke=\"black\" points=\"3351.5,-167.3 3348,-157.3 3344.5,-167.3 3351.5,-167.3\"/>\n",
       "</g>\n",
       "<!-- 42 -->\n",
       "<g id=\"node43\" class=\"node\">\n",
       "<title>42</title>\n",
       "<polygon fill=\"#e58139\" stroke=\"black\" points=\"3643,-149.5 3469,-149.5 3469,-96.5 3643,-96.5 3643,-149.5\"/>\n",
       "<text text-anchor=\"middle\" x=\"3556\" y=\"-134.3\" font-family=\"Helvetica,sans-Serif\" font-size=\"14.00\">squared_error = 0.341</text>\n",
       "<text text-anchor=\"middle\" x=\"3556\" y=\"-119.3\" font-family=\"Helvetica,sans-Serif\" font-size=\"14.00\">samples = 27</text>\n",
       "<text text-anchor=\"middle\" x=\"3556\" y=\"-104.3\" font-family=\"Helvetica,sans-Serif\" font-size=\"14.00\">value = 20.137</text>\n",
       "</g>\n",
       "<!-- 38&#45;&gt;42 -->\n",
       "<g id=\"edge42\" class=\"edge\">\n",
       "<title>38&#45;&gt;42</title>\n",
       "<path fill=\"none\" stroke=\"black\" d=\"M3415.53,-192.88C3441.1,-180.35 3470.03,-166.16 3494.97,-153.93\"/>\n",
       "<polygon fill=\"black\" stroke=\"black\" points=\"3496.52,-157.07 3503.96,-149.52 3493.44,-150.78 3496.52,-157.07\"/>\n",
       "</g>\n",
       "<!-- 40 -->\n",
       "<g id=\"node41\" class=\"node\">\n",
       "<title>40</title>\n",
       "<polygon fill=\"#e5813a\" stroke=\"black\" points=\"3336.5,-53 3171.5,-53 3171.5,0 3336.5,0 3336.5,-53\"/>\n",
       "<text text-anchor=\"middle\" x=\"3254\" y=\"-37.8\" font-family=\"Helvetica,sans-Serif\" font-size=\"14.00\">squared_error = 0.29</text>\n",
       "<text text-anchor=\"middle\" x=\"3254\" y=\"-22.8\" font-family=\"Helvetica,sans-Serif\" font-size=\"14.00\">samples = 28</text>\n",
       "<text text-anchor=\"middle\" x=\"3254\" y=\"-7.8\" font-family=\"Helvetica,sans-Serif\" font-size=\"14.00\">value = 20.069</text>\n",
       "</g>\n",
       "<!-- 39&#45;&gt;40 -->\n",
       "<g id=\"edge40\" class=\"edge\">\n",
       "<title>39&#45;&gt;40</title>\n",
       "<path fill=\"none\" stroke=\"black\" d=\"M3315.12,-88.95C3305.93,-79.71 3295.95,-69.67 3286.76,-60.44\"/>\n",
       "<polygon fill=\"black\" stroke=\"black\" points=\"3289.13,-57.86 3279.6,-53.24 3284.17,-62.79 3289.13,-57.86\"/>\n",
       "</g>\n",
       "<!-- 41 -->\n",
       "<g id=\"node42\" class=\"node\">\n",
       "<title>41</title>\n",
       "<polygon fill=\"#e58139\" stroke=\"black\" points=\"3529,-53 3355,-53 3355,0 3529,0 3529,-53\"/>\n",
       "<text text-anchor=\"middle\" x=\"3442\" y=\"-37.8\" font-family=\"Helvetica,sans-Serif\" font-size=\"14.00\">squared_error = 0.355</text>\n",
       "<text text-anchor=\"middle\" x=\"3442\" y=\"-22.8\" font-family=\"Helvetica,sans-Serif\" font-size=\"14.00\">samples = 57</text>\n",
       "<text text-anchor=\"middle\" x=\"3442\" y=\"-7.8\" font-family=\"Helvetica,sans-Serif\" font-size=\"14.00\">value = 20.092</text>\n",
       "</g>\n",
       "<!-- 39&#45;&gt;41 -->\n",
       "<g id=\"edge41\" class=\"edge\">\n",
       "<title>39&#45;&gt;41</title>\n",
       "<path fill=\"none\" stroke=\"black\" d=\"M3380.88,-88.95C3390.07,-79.71 3400.05,-69.67 3409.24,-60.44\"/>\n",
       "<polygon fill=\"black\" stroke=\"black\" points=\"3411.83,-62.79 3416.4,-53.24 3406.87,-57.86 3411.83,-62.79\"/>\n",
       "</g>\n",
       "</g>\n",
       "</svg>\n"
      ],
      "text/plain": [
       "<graphviz.sources.Source at 0x7f5930364a10>"
      ]
     },
     "execution_count": 51,
     "metadata": {},
     "output_type": "execute_result"
    }
   ],
   "source": [
    "visualize_dec_tree(dec_tree)"
   ]
  },
  {
   "cell_type": "markdown",
   "id": "e65621d8-da1d-4264-935f-57078ceb62d9",
   "metadata": {
    "execution": {
     "iopub.execute_input": "2022-03-07T18:48:29.266995Z",
     "iopub.status.busy": "2022-03-07T18:48:29.266769Z",
     "iopub.status.idle": "2022-03-07T18:48:29.271581Z",
     "shell.execute_reply": "2022-03-07T18:48:29.270336Z",
     "shell.execute_reply.started": "2022-03-07T18:48:29.266974Z"
    },
    "tags": []
   },
   "source": [
    "### Check tradeoff"
   ]
  },
  {
   "cell_type": "code",
   "execution_count": 52,
   "id": "6264281f-958b-4c88-aeee-f91c5262aa2e",
   "metadata": {
    "execution": {
     "iopub.execute_input": "2022-03-24T14:13:11.674507Z",
     "iopub.status.busy": "2022-03-24T14:13:11.674345Z",
     "iopub.status.idle": "2022-03-24T14:13:11.797248Z",
     "shell.execute_reply": "2022-03-24T14:13:11.796407Z",
     "shell.execute_reply.started": "2022-03-24T14:13:11.674485Z"
    },
    "tags": []
   },
   "outputs": [],
   "source": [
    "rmses_te = [dec_tree_rmse(params={\"max_depth\": i}, x_colnames=[x_colnames_te])[0] for i in max_depths]"
   ]
  },
  {
   "cell_type": "code",
   "execution_count": 53,
   "id": "471aa084-ae31-4607-8527-059fb8c35f76",
   "metadata": {
    "execution": {
     "iopub.execute_input": "2022-03-24T14:13:11.798704Z",
     "iopub.status.busy": "2022-03-24T14:13:11.798181Z",
     "iopub.status.idle": "2022-03-24T14:13:11.849341Z",
     "shell.execute_reply": "2022-03-24T14:13:11.848720Z",
     "shell.execute_reply.started": "2022-03-24T14:13:11.798678Z"
    },
    "tags": []
   },
   "outputs": [
    {
     "data": {
      "text/html": [
       "\n",
       "<div id=\"altair-viz-2c09e847b674458a866ec36e73545dbc\"></div>\n",
       "<script type=\"text/javascript\">\n",
       "  var VEGA_DEBUG = (typeof VEGA_DEBUG == \"undefined\") ? {} : VEGA_DEBUG;\n",
       "  (function(spec, embedOpt){\n",
       "    let outputDiv = document.currentScript.previousElementSibling;\n",
       "    if (outputDiv.id !== \"altair-viz-2c09e847b674458a866ec36e73545dbc\") {\n",
       "      outputDiv = document.getElementById(\"altair-viz-2c09e847b674458a866ec36e73545dbc\");\n",
       "    }\n",
       "    const paths = {\n",
       "      \"vega\": \"https://cdn.jsdelivr.net/npm//vega@5?noext\",\n",
       "      \"vega-lib\": \"https://cdn.jsdelivr.net/npm//vega-lib?noext\",\n",
       "      \"vega-lite\": \"https://cdn.jsdelivr.net/npm//vega-lite@4.17.0?noext\",\n",
       "      \"vega-embed\": \"https://cdn.jsdelivr.net/npm//vega-embed@6?noext\",\n",
       "    };\n",
       "\n",
       "    function maybeLoadScript(lib, version) {\n",
       "      var key = `${lib.replace(\"-\", \"\")}_version`;\n",
       "      return (VEGA_DEBUG[key] == version) ?\n",
       "        Promise.resolve(paths[lib]) :\n",
       "        new Promise(function(resolve, reject) {\n",
       "          var s = document.createElement('script');\n",
       "          document.getElementsByTagName(\"head\")[0].appendChild(s);\n",
       "          s.async = true;\n",
       "          s.onload = () => {\n",
       "            VEGA_DEBUG[key] = version;\n",
       "            return resolve(paths[lib]);\n",
       "          };\n",
       "          s.onerror = () => reject(`Error loading script: ${paths[lib]}`);\n",
       "          s.src = paths[lib];\n",
       "        });\n",
       "    }\n",
       "\n",
       "    function showError(err) {\n",
       "      outputDiv.innerHTML = `<div class=\"error\" style=\"color:red;\">${err}</div>`;\n",
       "      throw err;\n",
       "    }\n",
       "\n",
       "    function displayChart(vegaEmbed) {\n",
       "      vegaEmbed(outputDiv, spec, embedOpt)\n",
       "        .catch(err => showError(`Javascript Error: ${err.message}<br>This usually means there's a typo in your chart specification. See the javascript console for the full traceback.`));\n",
       "    }\n",
       "\n",
       "    if(typeof define === \"function\" && define.amd) {\n",
       "      requirejs.config({paths});\n",
       "      require([\"vega-embed\"], displayChart, err => showError(`Error loading script: ${err.message}`));\n",
       "    } else {\n",
       "      maybeLoadScript(\"vega\", \"5\")\n",
       "        .then(() => maybeLoadScript(\"vega-lite\", \"4.17.0\"))\n",
       "        .then(() => maybeLoadScript(\"vega-embed\", \"6\"))\n",
       "        .catch(showError)\n",
       "        .then(() => displayChart(vegaEmbed));\n",
       "    }\n",
       "  })({\"config\": {\"view\": {\"continuousWidth\": 400, \"continuousHeight\": 300}}, \"data\": {\"name\": \"data-2f51eace07ebfa9e8a2fac04489ffe4c\"}, \"mark\": \"line\", \"encoding\": {\"x\": {\"field\": \"max_depth\", \"type\": \"quantitative\"}, \"y\": {\"field\": \"rmse\", \"type\": \"quantitative\"}}, \"height\": 500, \"selection\": {\"selector008\": {\"type\": \"interval\", \"bind\": \"scales\", \"encodings\": [\"x\", \"y\"]}}, \"width\": 800, \"$schema\": \"https://vega.github.io/schema/vega-lite/v4.17.0.json\", \"datasets\": {\"data-2f51eace07ebfa9e8a2fac04489ffe4c\": [{\"max_depth\": 1, \"rmse\": 3.894635636930145}, {\"max_depth\": 2, \"rmse\": 0.5619511110173163}, {\"max_depth\": 3, \"rmse\": 0.5607074241974036}, {\"max_depth\": 4, \"rmse\": 0.5606516184832095}, {\"max_depth\": 5, \"rmse\": 0.5617423506033161}, {\"max_depth\": 6, \"rmse\": 0.5614199945086688}, {\"max_depth\": 7, \"rmse\": 0.5613766649698078}, {\"max_depth\": 8, \"rmse\": 0.5613899068648953}, {\"max_depth\": 9, \"rmse\": 0.5613899068648953}, {\"max_depth\": 10, \"rmse\": 0.5613899068648953}, {\"max_depth\": 11, \"rmse\": 0.5613899068648953}, {\"max_depth\": 12, \"rmse\": 0.5613899068648953}, {\"max_depth\": 13, \"rmse\": 0.5613899068648953}, {\"max_depth\": 14, \"rmse\": 0.5613899068648953}, {\"max_depth\": 15, \"rmse\": 0.5613899068648953}, {\"max_depth\": 16, \"rmse\": 0.5613899068648953}, {\"max_depth\": 17, \"rmse\": 0.5613899068648953}, {\"max_depth\": 18, \"rmse\": 0.5613899068648953}, {\"max_depth\": 19, \"rmse\": 0.5613899068648953}, {\"max_depth\": 20, \"rmse\": 0.5613899068648953}, {\"max_depth\": 21, \"rmse\": 0.5613899068648953}, {\"max_depth\": 22, \"rmse\": 0.5613899068648953}, {\"max_depth\": 23, \"rmse\": 0.5613899068648953}, {\"max_depth\": 24, \"rmse\": 0.5613899068648953}, {\"max_depth\": 25, \"rmse\": 0.5613899068648953}, {\"max_depth\": 26, \"rmse\": 0.5613899068648953}, {\"max_depth\": 27, \"rmse\": 0.5613899068648953}, {\"max_depth\": 28, \"rmse\": 0.5613899068648953}, {\"max_depth\": 29, \"rmse\": 0.5613899068648953}]}}, {\"mode\": \"vega-lite\"});\n",
       "</script>"
      ],
      "text/plain": [
       "alt.Chart(...)"
      ]
     },
     "execution_count": 53,
     "metadata": {},
     "output_type": "execute_result"
    }
   ],
   "source": [
    "plot_max_depth_rmse(max_depths, rmses_te)"
   ]
  },
  {
   "cell_type": "markdown",
   "id": "913dcbaf-3c0c-4d1f-8dc7-4b16ba95aa06",
   "metadata": {},
   "source": [
    "## Check together"
   ]
  },
  {
   "cell_type": "code",
   "execution_count": 54,
   "id": "32dd4415-409d-41c0-85aa-4e09928c716d",
   "metadata": {
    "execution": {
     "iopub.execute_input": "2022-03-24T14:13:11.850245Z",
     "iopub.status.busy": "2022-03-24T14:13:11.850119Z",
     "iopub.status.idle": "2022-03-24T14:13:11.856393Z",
     "shell.execute_reply": "2022-03-24T14:13:11.855839Z",
     "shell.execute_reply.started": "2022-03-24T14:13:11.850229Z"
    },
    "tags": []
   },
   "outputs": [],
   "source": [
    "rmse_te = pd.DataFrame({'max_depth': max_depths, 'rmse': rmses_te, 'origin': ['target_encoded'] * len(max_depths)})\n",
    "rmse_fh = pd.DataFrame({'max_depth': max_depths, 'rmse': rmses_fh, 'origin': ['hash_encoded'] * len(max_depths)})\n",
    "multi_rmse_source = pd.concat([multi_rmse_source, rmse_te, rmse_fh])"
   ]
  },
  {
   "cell_type": "code",
   "execution_count": 55,
   "id": "cfcacfb5-b05f-478c-878e-dcad4c5eb80f",
   "metadata": {
    "execution": {
     "iopub.execute_input": "2022-03-24T14:13:11.857587Z",
     "iopub.status.busy": "2022-03-24T14:13:11.857222Z",
     "iopub.status.idle": "2022-03-24T14:13:11.932983Z",
     "shell.execute_reply": "2022-03-24T14:13:11.932170Z",
     "shell.execute_reply.started": "2022-03-24T14:13:11.857563Z"
    },
    "tags": []
   },
   "outputs": [
    {
     "data": {
      "text/html": [
       "\n",
       "<div id=\"altair-viz-ff6701598add4d45bac2f0a35bf09ecb\"></div>\n",
       "<script type=\"text/javascript\">\n",
       "  var VEGA_DEBUG = (typeof VEGA_DEBUG == \"undefined\") ? {} : VEGA_DEBUG;\n",
       "  (function(spec, embedOpt){\n",
       "    let outputDiv = document.currentScript.previousElementSibling;\n",
       "    if (outputDiv.id !== \"altair-viz-ff6701598add4d45bac2f0a35bf09ecb\") {\n",
       "      outputDiv = document.getElementById(\"altair-viz-ff6701598add4d45bac2f0a35bf09ecb\");\n",
       "    }\n",
       "    const paths = {\n",
       "      \"vega\": \"https://cdn.jsdelivr.net/npm//vega@5?noext\",\n",
       "      \"vega-lib\": \"https://cdn.jsdelivr.net/npm//vega-lib?noext\",\n",
       "      \"vega-lite\": \"https://cdn.jsdelivr.net/npm//vega-lite@4.17.0?noext\",\n",
       "      \"vega-embed\": \"https://cdn.jsdelivr.net/npm//vega-embed@6?noext\",\n",
       "    };\n",
       "\n",
       "    function maybeLoadScript(lib, version) {\n",
       "      var key = `${lib.replace(\"-\", \"\")}_version`;\n",
       "      return (VEGA_DEBUG[key] == version) ?\n",
       "        Promise.resolve(paths[lib]) :\n",
       "        new Promise(function(resolve, reject) {\n",
       "          var s = document.createElement('script');\n",
       "          document.getElementsByTagName(\"head\")[0].appendChild(s);\n",
       "          s.async = true;\n",
       "          s.onload = () => {\n",
       "            VEGA_DEBUG[key] = version;\n",
       "            return resolve(paths[lib]);\n",
       "          };\n",
       "          s.onerror = () => reject(`Error loading script: ${paths[lib]}`);\n",
       "          s.src = paths[lib];\n",
       "        });\n",
       "    }\n",
       "\n",
       "    function showError(err) {\n",
       "      outputDiv.innerHTML = `<div class=\"error\" style=\"color:red;\">${err}</div>`;\n",
       "      throw err;\n",
       "    }\n",
       "\n",
       "    function displayChart(vegaEmbed) {\n",
       "      vegaEmbed(outputDiv, spec, embedOpt)\n",
       "        .catch(err => showError(`Javascript Error: ${err.message}<br>This usually means there's a typo in your chart specification. See the javascript console for the full traceback.`));\n",
       "    }\n",
       "\n",
       "    if(typeof define === \"function\" && define.amd) {\n",
       "      requirejs.config({paths});\n",
       "      require([\"vega-embed\"], displayChart, err => showError(`Error loading script: ${err.message}`));\n",
       "    } else {\n",
       "      maybeLoadScript(\"vega\", \"5\")\n",
       "        .then(() => maybeLoadScript(\"vega-lite\", \"4.17.0\"))\n",
       "        .then(() => maybeLoadScript(\"vega-embed\", \"6\"))\n",
       "        .catch(showError)\n",
       "        .then(() => displayChart(vegaEmbed));\n",
       "    }\n",
       "  })({\"config\": {\"view\": {\"continuousWidth\": 400, \"continuousHeight\": 300}, \"axis\": {\"labelFontSize\": 20, \"titleFontSize\": 20}, \"legend\": {\"labelFontSize\": 20, \"symbolStrokeWidth\": 5, \"titleFontSize\": 20}}, \"data\": {\"name\": \"data-cf2764fe46034f57cf87ab1a6476c602\"}, \"mark\": \"line\", \"encoding\": {\"color\": {\"field\": \"origin\", \"type\": \"nominal\"}, \"strokeWidth\": {\"value\": 5}, \"x\": {\"field\": \"max_depth\", \"type\": \"quantitative\"}, \"y\": {\"field\": \"rmse\", \"type\": \"quantitative\"}}, \"height\": 500, \"selection\": {\"selector009\": {\"type\": \"interval\", \"bind\": \"scales\", \"encodings\": [\"x\", \"y\"]}}, \"width\": 800, \"$schema\": \"https://vega.github.io/schema/vega-lite/v4.17.0.json\", \"datasets\": {\"data-cf2764fe46034f57cf87ab1a6476c602\": [{\"max_depth\": 1, \"rmse\": 7.454995124194331, \"origin\": \"ordinal_encoded\"}, {\"max_depth\": 2, \"rmse\": 7.312623288976131, \"origin\": \"ordinal_encoded\"}, {\"max_depth\": 3, \"rmse\": 7.077140845824609, \"origin\": \"ordinal_encoded\"}, {\"max_depth\": 4, \"rmse\": 6.818578627107829, \"origin\": \"ordinal_encoded\"}, {\"max_depth\": 5, \"rmse\": 6.607239167683132, \"origin\": \"ordinal_encoded\"}, {\"max_depth\": 6, \"rmse\": 6.253142922343629, \"origin\": \"ordinal_encoded\"}, {\"max_depth\": 7, \"rmse\": 6.168752978185336, \"origin\": \"ordinal_encoded\"}, {\"max_depth\": 8, \"rmse\": 5.877184990287197, \"origin\": \"ordinal_encoded\"}, {\"max_depth\": 9, \"rmse\": 5.639486075587329, \"origin\": \"ordinal_encoded\"}, {\"max_depth\": 10, \"rmse\": 5.3911978988944655, \"origin\": \"ordinal_encoded\"}, {\"max_depth\": 11, \"rmse\": 5.116316946614891, \"origin\": \"ordinal_encoded\"}, {\"max_depth\": 12, \"rmse\": 4.790043397954038, \"origin\": \"ordinal_encoded\"}, {\"max_depth\": 13, \"rmse\": 4.537697895677263, \"origin\": \"ordinal_encoded\"}, {\"max_depth\": 14, \"rmse\": 3.9622292135197936, \"origin\": \"ordinal_encoded\"}, {\"max_depth\": 15, \"rmse\": 3.805332631693699, \"origin\": \"ordinal_encoded\"}, {\"max_depth\": 16, \"rmse\": 3.247175368634268, \"origin\": \"ordinal_encoded\"}, {\"max_depth\": 17, \"rmse\": 3.114224665031639, \"origin\": \"ordinal_encoded\"}, {\"max_depth\": 18, \"rmse\": 2.4415832708692817, \"origin\": \"ordinal_encoded\"}, {\"max_depth\": 19, \"rmse\": 1.6671699772602322, \"origin\": \"ordinal_encoded\"}, {\"max_depth\": 20, \"rmse\": 0.5613899068648952, \"origin\": \"ordinal_encoded\"}, {\"max_depth\": 21, \"rmse\": 0.5613899068648952, \"origin\": \"ordinal_encoded\"}, {\"max_depth\": 22, \"rmse\": 0.5613899068648952, \"origin\": \"ordinal_encoded\"}, {\"max_depth\": 23, \"rmse\": 0.5613899068648952, \"origin\": \"ordinal_encoded\"}, {\"max_depth\": 24, \"rmse\": 0.5613899068648952, \"origin\": \"ordinal_encoded\"}, {\"max_depth\": 25, \"rmse\": 0.5613899068648952, \"origin\": \"ordinal_encoded\"}, {\"max_depth\": 26, \"rmse\": 0.5613899068648952, \"origin\": \"ordinal_encoded\"}, {\"max_depth\": 27, \"rmse\": 0.5613899068648952, \"origin\": \"ordinal_encoded\"}, {\"max_depth\": 28, \"rmse\": 0.5613899068648952, \"origin\": \"ordinal_encoded\"}, {\"max_depth\": 29, \"rmse\": 0.5613899068648952, \"origin\": \"ordinal_encoded\"}, {\"max_depth\": 1, \"rmse\": 7.345301843387342, \"origin\": \"onehot_encoded\"}, {\"max_depth\": 2, \"rmse\": 6.999268909050412, \"origin\": \"onehot_encoded\"}, {\"max_depth\": 3, \"rmse\": 6.7114385989347, \"origin\": \"onehot_encoded\"}, {\"max_depth\": 4, \"rmse\": 6.422299756931, \"origin\": \"onehot_encoded\"}, {\"max_depth\": 5, \"rmse\": 5.957768157967098, \"origin\": \"onehot_encoded\"}, {\"max_depth\": 6, \"rmse\": 5.523590746345865, \"origin\": \"onehot_encoded\"}, {\"max_depth\": 7, \"rmse\": 5.216130160587738, \"origin\": \"onehot_encoded\"}, {\"max_depth\": 8, \"rmse\": 4.738715800397302, \"origin\": \"onehot_encoded\"}, {\"max_depth\": 9, \"rmse\": 4.283233300974825, \"origin\": \"onehot_encoded\"}, {\"max_depth\": 10, \"rmse\": 3.8942714875381546, \"origin\": \"onehot_encoded\"}, {\"max_depth\": 11, \"rmse\": 3.846227908912258, \"origin\": \"onehot_encoded\"}, {\"max_depth\": 12, \"rmse\": 3.7554558486247274, \"origin\": \"onehot_encoded\"}, {\"max_depth\": 13, \"rmse\": 3.556224554481239, \"origin\": \"onehot_encoded\"}, {\"max_depth\": 14, \"rmse\": 3.445207716329072, \"origin\": \"onehot_encoded\"}, {\"max_depth\": 15, \"rmse\": 3.2893505172232365, \"origin\": \"onehot_encoded\"}, {\"max_depth\": 16, \"rmse\": 3.1315249939307406, \"origin\": \"onehot_encoded\"}, {\"max_depth\": 17, \"rmse\": 2.725504915210649, \"origin\": \"onehot_encoded\"}, {\"max_depth\": 18, \"rmse\": 2.2038336519118644, \"origin\": \"onehot_encoded\"}, {\"max_depth\": 19, \"rmse\": 1.9029766024866483, \"origin\": \"onehot_encoded\"}, {\"max_depth\": 20, \"rmse\": 1.8842732899740868, \"origin\": \"onehot_encoded\"}, {\"max_depth\": 21, \"rmse\": 1.869319403192039, \"origin\": \"onehot_encoded\"}, {\"max_depth\": 22, \"rmse\": 1.8559549654560188, \"origin\": \"onehot_encoded\"}, {\"max_depth\": 23, \"rmse\": 1.8364768461780716, \"origin\": \"onehot_encoded\"}, {\"max_depth\": 24, \"rmse\": 1.8071689452269404, \"origin\": \"onehot_encoded\"}, {\"max_depth\": 25, \"rmse\": 1.7698392427373675, \"origin\": \"onehot_encoded\"}, {\"max_depth\": 26, \"rmse\": 1.6994413561439499, \"origin\": \"onehot_encoded\"}, {\"max_depth\": 27, \"rmse\": 1.6167934515047997, \"origin\": \"onehot_encoded\"}, {\"max_depth\": 28, \"rmse\": 1.3970074469004958, \"origin\": \"onehot_encoded\"}, {\"max_depth\": 29, \"rmse\": 0.5613899068648951, \"origin\": \"onehot_encoded\"}, {\"max_depth\": 1, \"rmse\": 3.894635636930145, \"origin\": \"target_encoded\"}, {\"max_depth\": 2, \"rmse\": 0.5619511110173163, \"origin\": \"target_encoded\"}, {\"max_depth\": 3, \"rmse\": 0.5607074241974036, \"origin\": \"target_encoded\"}, {\"max_depth\": 4, \"rmse\": 0.5606516184832095, \"origin\": \"target_encoded\"}, {\"max_depth\": 5, \"rmse\": 0.5617423506033161, \"origin\": \"target_encoded\"}, {\"max_depth\": 6, \"rmse\": 0.5614199945086688, \"origin\": \"target_encoded\"}, {\"max_depth\": 7, \"rmse\": 0.5613766649698078, \"origin\": \"target_encoded\"}, {\"max_depth\": 8, \"rmse\": 0.5613899068648953, \"origin\": \"target_encoded\"}, {\"max_depth\": 9, \"rmse\": 0.5613899068648953, \"origin\": \"target_encoded\"}, {\"max_depth\": 10, \"rmse\": 0.5613899068648953, \"origin\": \"target_encoded\"}, {\"max_depth\": 11, \"rmse\": 0.5613899068648953, \"origin\": \"target_encoded\"}, {\"max_depth\": 12, \"rmse\": 0.5613899068648953, \"origin\": \"target_encoded\"}, {\"max_depth\": 13, \"rmse\": 0.5613899068648953, \"origin\": \"target_encoded\"}, {\"max_depth\": 14, \"rmse\": 0.5613899068648953, \"origin\": \"target_encoded\"}, {\"max_depth\": 15, \"rmse\": 0.5613899068648953, \"origin\": \"target_encoded\"}, {\"max_depth\": 16, \"rmse\": 0.5613899068648953, \"origin\": \"target_encoded\"}, {\"max_depth\": 17, \"rmse\": 0.5613899068648953, \"origin\": \"target_encoded\"}, {\"max_depth\": 18, \"rmse\": 0.5613899068648953, \"origin\": \"target_encoded\"}, {\"max_depth\": 19, \"rmse\": 0.5613899068648953, \"origin\": \"target_encoded\"}, {\"max_depth\": 20, \"rmse\": 0.5613899068648953, \"origin\": \"target_encoded\"}, {\"max_depth\": 21, \"rmse\": 0.5613899068648953, \"origin\": \"target_encoded\"}, {\"max_depth\": 22, \"rmse\": 0.5613899068648953, \"origin\": \"target_encoded\"}, {\"max_depth\": 23, \"rmse\": 0.5613899068648953, \"origin\": \"target_encoded\"}, {\"max_depth\": 24, \"rmse\": 0.5613899068648953, \"origin\": \"target_encoded\"}, {\"max_depth\": 25, \"rmse\": 0.5613899068648953, \"origin\": \"target_encoded\"}, {\"max_depth\": 26, \"rmse\": 0.5613899068648953, \"origin\": \"target_encoded\"}, {\"max_depth\": 27, \"rmse\": 0.5613899068648953, \"origin\": \"target_encoded\"}, {\"max_depth\": 28, \"rmse\": 0.5613899068648953, \"origin\": \"target_encoded\"}, {\"max_depth\": 29, \"rmse\": 0.5613899068648953, \"origin\": \"target_encoded\"}, {\"max_depth\": 1, \"rmse\": 3.9348277218442567, \"origin\": \"hash_encoded\"}, {\"max_depth\": 2, \"rmse\": 1.4935813470674348, \"origin\": \"hash_encoded\"}, {\"max_depth\": 3, \"rmse\": 1.3262950709070158, \"origin\": \"hash_encoded\"}, {\"max_depth\": 4, \"rmse\": 1.3254582608559689, \"origin\": \"hash_encoded\"}, {\"max_depth\": 5, \"rmse\": 1.3243431391378246, \"origin\": \"hash_encoded\"}, {\"max_depth\": 6, \"rmse\": 1.324417855883539, \"origin\": \"hash_encoded\"}, {\"max_depth\": 7, \"rmse\": 1.3243681103207217, \"origin\": \"hash_encoded\"}, {\"max_depth\": 8, \"rmse\": 1.3242682164864072, \"origin\": \"hash_encoded\"}, {\"max_depth\": 9, \"rmse\": 1.3244084148857629, \"origin\": \"hash_encoded\"}, {\"max_depth\": 10, \"rmse\": 1.3244092687341409, \"origin\": \"hash_encoded\"}, {\"max_depth\": 11, \"rmse\": 1.3244092687341409, \"origin\": \"hash_encoded\"}, {\"max_depth\": 12, \"rmse\": 1.3244092687341409, \"origin\": \"hash_encoded\"}, {\"max_depth\": 13, \"rmse\": 1.3244092687341416, \"origin\": \"hash_encoded\"}, {\"max_depth\": 14, \"rmse\": 1.324409268734141, \"origin\": \"hash_encoded\"}, {\"max_depth\": 15, \"rmse\": 1.3244092687341409, \"origin\": \"hash_encoded\"}, {\"max_depth\": 16, \"rmse\": 1.324409268734141, \"origin\": \"hash_encoded\"}, {\"max_depth\": 17, \"rmse\": 1.3244092687341413, \"origin\": \"hash_encoded\"}, {\"max_depth\": 18, \"rmse\": 1.324409268734141, \"origin\": \"hash_encoded\"}, {\"max_depth\": 19, \"rmse\": 1.3244092687341416, \"origin\": \"hash_encoded\"}, {\"max_depth\": 20, \"rmse\": 1.324409268734141, \"origin\": \"hash_encoded\"}, {\"max_depth\": 21, \"rmse\": 1.3244092687341407, \"origin\": \"hash_encoded\"}, {\"max_depth\": 22, \"rmse\": 1.324409268734141, \"origin\": \"hash_encoded\"}, {\"max_depth\": 23, \"rmse\": 1.324409268734141, \"origin\": \"hash_encoded\"}, {\"max_depth\": 24, \"rmse\": 1.3244092687341407, \"origin\": \"hash_encoded\"}, {\"max_depth\": 25, \"rmse\": 1.3244092687341407, \"origin\": \"hash_encoded\"}, {\"max_depth\": 26, \"rmse\": 1.324409268734141, \"origin\": \"hash_encoded\"}, {\"max_depth\": 27, \"rmse\": 1.3244092687341409, \"origin\": \"hash_encoded\"}, {\"max_depth\": 28, \"rmse\": 1.324409268734141, \"origin\": \"hash_encoded\"}, {\"max_depth\": 29, \"rmse\": 1.324409268734141, \"origin\": \"hash_encoded\"}]}}, {\"mode\": \"vega-lite\"});\n",
       "</script>"
      ],
      "text/plain": [
       "alt.Chart(...)"
      ]
     },
     "execution_count": 55,
     "metadata": {},
     "output_type": "execute_result"
    }
   ],
   "source": [
    "alt.Chart(\n",
    "    multi_rmse_source\n",
    ").mark_line(\n",
    ").encode(\n",
    "    x='max_depth',\n",
    "    y='rmse',\n",
    "    color='origin',\n",
    "    strokeWidth=alt.value(5)\n",
    ").properties(\n",
    "    width=800, \n",
    "    height=500\n",
    ").configure_axis(\n",
    "    labelFontSize=20,\n",
    "    titleFontSize=20\n",
    ").configure_legend(\n",
    "    labelFontSize=20, \n",
    "    titleFontSize=20, \n",
    "    symbolStrokeWidth=5\n",
    ").interactive()"
   ]
  },
  {
   "cell_type": "code",
   "execution_count": null,
   "id": "f6a36cd1-9c1b-46b5-be8e-9e13cc7ad861",
   "metadata": {},
   "outputs": [],
   "source": []
  },
  {
   "cell_type": "markdown",
   "id": "e6e6c887-6769-4699-a231-40eea5c23b3d",
   "metadata": {
    "tags": []
   },
   "source": [
    "# Linear Regression"
   ]
  },
  {
   "cell_type": "markdown",
   "id": "c50d7991-759f-4c36-a829-18d83dca70ed",
   "metadata": {},
   "source": [
    "## Ordinal encoded"
   ]
  },
  {
   "cell_type": "code",
   "execution_count": 56,
   "id": "7e6308af-4dcb-471e-a546-9dbff4d521e8",
   "metadata": {
    "execution": {
     "iopub.execute_input": "2022-03-24T14:13:11.933929Z",
     "iopub.status.busy": "2022-03-24T14:13:11.933804Z",
     "iopub.status.idle": "2022-03-24T14:13:11.990902Z",
     "shell.execute_reply": "2022-03-24T14:13:11.990308Z",
     "shell.execute_reply.started": "2022-03-24T14:13:11.933913Z"
    },
    "tags": []
   },
   "outputs": [],
   "source": [
    "rmse_linreg_oe, source_linreg_oe, linreg_oe = linreg_rmse(x_colnames=[x_colnames_oe])"
   ]
  },
  {
   "cell_type": "code",
   "execution_count": 57,
   "id": "a4cf6788-bddc-4b0c-84fe-8ebaf9455680",
   "metadata": {
    "execution": {
     "iopub.execute_input": "2022-03-24T14:13:11.991880Z",
     "iopub.status.busy": "2022-03-24T14:13:11.991736Z",
     "iopub.status.idle": "2022-03-24T14:13:11.995185Z",
     "shell.execute_reply": "2022-03-24T14:13:11.994864Z",
     "shell.execute_reply.started": "2022-03-24T14:13:11.991859Z"
    },
    "tags": []
   },
   "outputs": [
    {
     "data": {
      "text/plain": [
       "7.537811547535683"
      ]
     },
     "execution_count": 57,
     "metadata": {},
     "output_type": "execute_result"
    }
   ],
   "source": [
    "rmse_linreg_oe"
   ]
  },
  {
   "cell_type": "code",
   "execution_count": 58,
   "id": "0da485b6-e68d-4959-b209-8e2fda47a466",
   "metadata": {
    "execution": {
     "iopub.execute_input": "2022-03-24T14:13:11.995854Z",
     "iopub.status.busy": "2022-03-24T14:13:11.995737Z",
     "iopub.status.idle": "2022-03-24T14:13:12.062208Z",
     "shell.execute_reply": "2022-03-24T14:13:12.061877Z",
     "shell.execute_reply.started": "2022-03-24T14:13:11.995838Z"
    },
    "tags": []
   },
   "outputs": [
    {
     "data": {
      "text/html": [
       "\n",
       "<div id=\"altair-viz-ee3771a0da02402f83ba702a4c6933e0\"></div>\n",
       "<script type=\"text/javascript\">\n",
       "  var VEGA_DEBUG = (typeof VEGA_DEBUG == \"undefined\") ? {} : VEGA_DEBUG;\n",
       "  (function(spec, embedOpt){\n",
       "    let outputDiv = document.currentScript.previousElementSibling;\n",
       "    if (outputDiv.id !== \"altair-viz-ee3771a0da02402f83ba702a4c6933e0\") {\n",
       "      outputDiv = document.getElementById(\"altair-viz-ee3771a0da02402f83ba702a4c6933e0\");\n",
       "    }\n",
       "    const paths = {\n",
       "      \"vega\": \"https://cdn.jsdelivr.net/npm//vega@5?noext\",\n",
       "      \"vega-lib\": \"https://cdn.jsdelivr.net/npm//vega-lib?noext\",\n",
       "      \"vega-lite\": \"https://cdn.jsdelivr.net/npm//vega-lite@4.17.0?noext\",\n",
       "      \"vega-embed\": \"https://cdn.jsdelivr.net/npm//vega-embed@6?noext\",\n",
       "    };\n",
       "\n",
       "    function maybeLoadScript(lib, version) {\n",
       "      var key = `${lib.replace(\"-\", \"\")}_version`;\n",
       "      return (VEGA_DEBUG[key] == version) ?\n",
       "        Promise.resolve(paths[lib]) :\n",
       "        new Promise(function(resolve, reject) {\n",
       "          var s = document.createElement('script');\n",
       "          document.getElementsByTagName(\"head\")[0].appendChild(s);\n",
       "          s.async = true;\n",
       "          s.onload = () => {\n",
       "            VEGA_DEBUG[key] = version;\n",
       "            return resolve(paths[lib]);\n",
       "          };\n",
       "          s.onerror = () => reject(`Error loading script: ${paths[lib]}`);\n",
       "          s.src = paths[lib];\n",
       "        });\n",
       "    }\n",
       "\n",
       "    function showError(err) {\n",
       "      outputDiv.innerHTML = `<div class=\"error\" style=\"color:red;\">${err}</div>`;\n",
       "      throw err;\n",
       "    }\n",
       "\n",
       "    function displayChart(vegaEmbed) {\n",
       "      vegaEmbed(outputDiv, spec, embedOpt)\n",
       "        .catch(err => showError(`Javascript Error: ${err.message}<br>This usually means there's a typo in your chart specification. See the javascript console for the full traceback.`));\n",
       "    }\n",
       "\n",
       "    if(typeof define === \"function\" && define.amd) {\n",
       "      requirejs.config({paths});\n",
       "      require([\"vega-embed\"], displayChart, err => showError(`Error loading script: ${err.message}`));\n",
       "    } else {\n",
       "      maybeLoadScript(\"vega\", \"5\")\n",
       "        .then(() => maybeLoadScript(\"vega-lite\", \"4.17.0\"))\n",
       "        .then(() => maybeLoadScript(\"vega-embed\", \"6\"))\n",
       "        .catch(showError)\n",
       "        .then(() => displayChart(vegaEmbed));\n",
       "    }\n",
       "  })({\"config\": {\"view\": {\"continuousWidth\": 400, \"continuousHeight\": 300}}, \"data\": {\"name\": \"data-a73757dcef109bcbe5f103e3fad296ee\"}, \"mark\": {\"type\": \"circle\", \"size\": 60}, \"encoding\": {\"color\": {\"field\": \"cat\", \"type\": \"nominal\"}, \"tooltip\": {\"field\": \"cat\", \"type\": \"nominal\"}, \"x\": {\"field\": \"y\", \"scale\": {\"domain\": [-1.976271965441258, 22.96857500892925]}, \"type\": \"quantitative\"}, \"y\": {\"field\": \"y_pred\", \"scale\": {\"domain\": [-1.976271965441258, 22.96857500892925]}, \"type\": \"quantitative\"}}, \"height\": 500, \"selection\": {\"selector010\": {\"type\": \"interval\", \"bind\": \"scales\", \"encodings\": [\"x\", \"y\"]}}, \"width\": 800, \"$schema\": \"https://vega.github.io/schema/vega-lite/v4.17.0.json\", \"datasets\": {\"data-a73757dcef109bcbe5f103e3fad296ee\": [{\"y\": 0.9708688385243336, \"y_pred\": 9.966331436495011, \"cat\": \"G3\"}, {\"y\": 1.5615528849742262, \"y_pred\": 9.811468433544086, \"cat\": \"H3\"}, {\"y\": 19.762355681020175, \"y_pred\": 10.327678443380506, \"cat\": \"E2\"}, {\"y\": 9.669818235290847, \"y_pred\": 10.069573438462296, \"cat\": \"G1\"}, {\"y\": 20.581437747153537, \"y_pred\": 10.327678443380506, \"cat\": \"E2\"}, {\"y\": 19.114769917943644, \"y_pred\": 10.947130455184212, \"cat\": \"A2\"}, {\"y\": 19.240079805181814, \"y_pred\": 10.947130455184212, \"cat\": \"A2\"}, {\"y\": 10.370929132428529, \"y_pred\": 10.998751456167854, \"cat\": \"A1\"}, {\"y\": 20.609629747639598, \"y_pred\": 9.553363428625874, \"cat\": \"J2\"}, {\"y\": 9.185411965211156, \"y_pred\": 9.604984429609516, \"cat\": \"J1\"}, {\"y\": 20.771135145302082, \"y_pred\": 10.482541446331433, \"cat\": \"D2\"}, {\"y\": 9.897906688835647, \"y_pred\": 9.759847432560443, \"cat\": \"I1\"}, {\"y\": 19.572515038433227, \"y_pred\": 10.482541446331433, \"cat\": \"D2\"}, {\"y\": 10.121699527559619, \"y_pred\": 9.759847432560443, \"cat\": \"I1\"}, {\"y\": 9.892287250926657, \"y_pred\": 9.914710435511369, \"cat\": \"H1\"}, {\"y\": 10.02938789145609, \"y_pred\": 10.998751456167854, \"cat\": \"A1\"}, {\"y\": 9.040243651268177, \"y_pred\": 9.914710435511369, \"cat\": \"H1\"}, {\"y\": 19.392430942113748, \"y_pred\": 10.792267452233286, \"cat\": \"B2\"}, {\"y\": 1.7685549154233273, \"y_pred\": 10.430920445347791, \"cat\": \"D3\"}, {\"y\": 20.915270646306908, \"y_pred\": 9.7082264315768, \"cat\": \"I2\"}, {\"y\": 1.1594739846577815, \"y_pred\": 10.276057442396864, \"cat\": \"E3\"}, {\"y\": 19.294671275810273, \"y_pred\": 9.863089434527726, \"cat\": \"H2\"}, {\"y\": 0.09239944296425806, \"y_pred\": 10.89550945420057, \"cat\": \"A3\"}, {\"y\": 1.8501313272642024, \"y_pred\": 10.276057442396864, \"cat\": \"E3\"}, {\"y\": 1.205664187139253, \"y_pred\": 9.966331436495011, \"cat\": \"G3\"}, {\"y\": 10.752694275026144, \"y_pred\": 9.759847432560443, \"cat\": \"I1\"}, {\"y\": 0.10053903516041696, \"y_pred\": 10.585783448298717, \"cat\": \"C3\"}, {\"y\": 9.295792104243384, \"y_pred\": 10.379299444364149, \"cat\": \"E1\"}, {\"y\": 1.8675027275916585, \"y_pred\": 10.430920445347791, \"cat\": \"D3\"}, {\"y\": 9.572761632023228, \"y_pred\": 9.914710435511369, \"cat\": \"H1\"}, {\"y\": 0.40206013448789246, \"y_pred\": 10.121194439445938, \"cat\": \"F3\"}, {\"y\": 20.00816431975963, \"y_pred\": 10.792267452233286, \"cat\": \"B2\"}, {\"y\": 1.8937030617473223, \"y_pred\": 10.276057442396864, \"cat\": \"E3\"}, {\"y\": 10.772909950705804, \"y_pred\": 10.534162447315074, \"cat\": \"D1\"}, {\"y\": 1.140221782934138, \"y_pred\": 9.501742427642231, \"cat\": \"J3\"}, {\"y\": 10.592858172694484, \"y_pred\": 9.604984429609516, \"cat\": \"J1\"}, {\"y\": 1.9932092808131794, \"y_pred\": 10.430920445347791, \"cat\": \"D3\"}, {\"y\": 19.411209284911298, \"y_pred\": 10.792267452233286, \"cat\": \"B2\"}, {\"y\": 9.212031295957575, \"y_pred\": 9.914710435511369, \"cat\": \"H1\"}, {\"y\": 9.851938306566382, \"y_pred\": 10.534162447315074, \"cat\": \"D1\"}, {\"y\": 19.082329276153228, \"y_pred\": 10.637404449282359, \"cat\": \"C2\"}, {\"y\": 0.25133708392386045, \"y_pred\": 9.966331436495011, \"cat\": \"G3\"}, {\"y\": 10.449132406732668, \"y_pred\": 10.843888453216927, \"cat\": \"B1\"}, {\"y\": 0.02372803455874206, \"y_pred\": 10.740646451249644, \"cat\": \"B3\"}, {\"y\": 0.5078446463642772, \"y_pred\": 10.430920445347791, \"cat\": \"D3\"}, {\"y\": 9.742117143822856, \"y_pred\": 10.843888453216927, \"cat\": \"B1\"}, {\"y\": 10.619462865008618, \"y_pred\": 10.998751456167854, \"cat\": \"A1\"}, {\"y\": 9.146858546371357, \"y_pred\": 10.224436441413221, \"cat\": \"F1\"}, {\"y\": 19.29218469876556, \"y_pred\": 9.863089434527726, \"cat\": \"H2\"}, {\"y\": 0.5688106243620701, \"y_pred\": 9.966331436495011, \"cat\": \"G3\"}, {\"y\": 9.240261892640017, \"y_pred\": 10.534162447315074, \"cat\": \"D1\"}, {\"y\": 0.9155483807690259, \"y_pred\": 9.501742427642231, \"cat\": \"J3\"}, {\"y\": 20.58010666857155, \"y_pred\": 10.482541446331433, \"cat\": \"D2\"}, {\"y\": 1.8957495440351315, \"y_pred\": 9.811468433544086, \"cat\": \"H3\"}, {\"y\": 0.9444710799769402, \"y_pred\": 9.656605430593158, \"cat\": \"I3\"}, {\"y\": 10.46111056186891, \"y_pred\": 10.069573438462296, \"cat\": \"G1\"}, {\"y\": 1.3351438955138328, \"y_pred\": 9.501742427642231, \"cat\": \"J3\"}, {\"y\": 19.450823647607095, \"y_pred\": 10.017952437478653, \"cat\": \"G2\"}, {\"y\": 0.39398350212066413, \"y_pred\": 10.430920445347791, \"cat\": \"D3\"}, {\"y\": 20.445918470430932, \"y_pred\": 10.947130455184212, \"cat\": \"A2\"}, {\"y\": 1.028333779664423, \"y_pred\": 10.276057442396864, \"cat\": \"E3\"}, {\"y\": 1.877798573555562, \"y_pred\": 10.585783448298717, \"cat\": \"C3\"}, {\"y\": 19.308754101789745, \"y_pred\": 10.17281544042958, \"cat\": \"F2\"}, {\"y\": 19.588911139392263, \"y_pred\": 10.637404449282359, \"cat\": \"C2\"}, {\"y\": 1.2696962852581346, \"y_pred\": 10.585783448298717, \"cat\": \"C3\"}, {\"y\": 1.748381206748827, \"y_pred\": 9.656605430593158, \"cat\": \"I3\"}, {\"y\": 0.2952976442514248, \"y_pred\": 10.430920445347791, \"cat\": \"D3\"}, {\"y\": 10.882186926184575, \"y_pred\": 9.914710435511369, \"cat\": \"H1\"}, {\"y\": 10.643587315971759, \"y_pred\": 10.224436441413221, \"cat\": \"F1\"}, {\"y\": 10.808109051869772, \"y_pred\": 9.914710435511369, \"cat\": \"H1\"}, {\"y\": 20.513153710881305, \"y_pred\": 10.792267452233286, \"cat\": \"B2\"}, {\"y\": 19.258830909026386, \"y_pred\": 10.637404449282359, \"cat\": \"C2\"}, {\"y\": 20.13782290165262, \"y_pred\": 10.017952437478653, \"cat\": \"G2\"}, {\"y\": 10.02600385267203, \"y_pred\": 10.534162447315074, \"cat\": \"D1\"}, {\"y\": 1.0078666530215015, \"y_pred\": 9.656605430593158, \"cat\": \"I3\"}, {\"y\": 0.8686705749826737, \"y_pred\": 9.501742427642231, \"cat\": \"J3\"}, {\"y\": 0.4594404220265076, \"y_pred\": 10.585783448298717, \"cat\": \"C3\"}, {\"y\": 1.6152014092601343, \"y_pred\": 9.811468433544086, \"cat\": \"H3\"}, {\"y\": 19.46784350351881, \"y_pred\": 9.7082264315768, \"cat\": \"I2\"}, {\"y\": 10.644613636108657, \"y_pred\": 9.759847432560443, \"cat\": \"I1\"}, {\"y\": 10.152949140231978, \"y_pred\": 9.914710435511369, \"cat\": \"H1\"}, {\"y\": 9.912104519871313, \"y_pred\": 10.224436441413221, \"cat\": \"F1\"}, {\"y\": 1.3272417208585086, \"y_pred\": 9.501742427642231, \"cat\": \"J3\"}, {\"y\": 0.8231308199627274, \"y_pred\": 10.430920445347791, \"cat\": \"D3\"}, {\"y\": 9.875369737977294, \"y_pred\": 10.534162447315074, \"cat\": \"D1\"}, {\"y\": 1.2333897309216133, \"y_pred\": 10.585783448298717, \"cat\": \"C3\"}, {\"y\": 0.7805028862503547, \"y_pred\": 10.89550945420057, \"cat\": \"A3\"}, {\"y\": 0.6634566091791982, \"y_pred\": 10.276057442396864, \"cat\": \"E3\"}, {\"y\": 0.4470371386983705, \"y_pred\": 9.656605430593158, \"cat\": \"I3\"}, {\"y\": 1.1072488046608373, \"y_pred\": 9.656605430593158, \"cat\": \"I3\"}, {\"y\": 0.24280396889682532, \"y_pred\": 9.811468433544086, \"cat\": \"H3\"}, {\"y\": 19.639311035003775, \"y_pred\": 10.327678443380506, \"cat\": \"E2\"}, {\"y\": 10.173301250207977, \"y_pred\": 10.998751456167854, \"cat\": \"A1\"}, {\"y\": 1.6546550741914168, \"y_pred\": 10.430920445347791, \"cat\": \"D3\"}, {\"y\": 1.474123922241376, \"y_pred\": 10.276057442396864, \"cat\": \"E3\"}, {\"y\": 9.691775451836591, \"y_pred\": 9.604984429609516, \"cat\": \"J1\"}, {\"y\": 10.100273494917381, \"y_pred\": 9.604984429609516, \"cat\": \"J1\"}, {\"y\": 1.1274117217439872, \"y_pred\": 9.966331436495011, \"cat\": \"G3\"}, {\"y\": 10.21219557822793, \"y_pred\": 10.998751456167854, \"cat\": \"A1\"}, {\"y\": 9.95441418414331, \"y_pred\": 10.379299444364149, \"cat\": \"E1\"}, {\"y\": 10.559569261886198, \"y_pred\": 10.534162447315074, \"cat\": \"D1\"}, {\"y\": 10.064865505802969, \"y_pred\": 10.534162447315074, \"cat\": \"D1\"}, {\"y\": 9.023187011385222, \"y_pred\": 10.224436441413221, \"cat\": \"F1\"}, {\"y\": 0.8850784130143021, \"y_pred\": 9.501742427642231, \"cat\": \"J3\"}, {\"y\": 10.39902427507542, \"y_pred\": 10.689025450266001, \"cat\": \"C1\"}, {\"y\": 19.050251951877456, \"y_pred\": 10.637404449282359, \"cat\": \"C2\"}, {\"y\": 1.6846869782703828, \"y_pred\": 9.811468433544086, \"cat\": \"H3\"}, {\"y\": 20.96857500892925, \"y_pred\": 10.637404449282359, \"cat\": \"C2\"}, {\"y\": 1.3249427146925004, \"y_pred\": 9.501742427642231, \"cat\": \"J3\"}, {\"y\": 20.271810305418256, \"y_pred\": 10.947130455184212, \"cat\": \"A2\"}, {\"y\": 0.6013077041445261, \"y_pred\": 10.430920445347791, \"cat\": \"D3\"}, {\"y\": 10.143375201819058, \"y_pred\": 9.604984429609516, \"cat\": \"J1\"}, {\"y\": 9.214335394736137, \"y_pred\": 9.759847432560443, \"cat\": \"I1\"}, {\"y\": 9.581722718373117, \"y_pred\": 10.069573438462296, \"cat\": \"G1\"}, {\"y\": 19.335252713720422, \"y_pred\": 9.7082264315768, \"cat\": \"I2\"}, {\"y\": 20.33102475795596, \"y_pred\": 10.637404449282359, \"cat\": \"C2\"}, {\"y\": 10.589022038515985, \"y_pred\": 9.914710435511369, \"cat\": \"H1\"}, {\"y\": 0.6691451695081352, \"y_pred\": 9.966331436495011, \"cat\": \"G3\"}, {\"y\": 19.448819374103962, \"y_pred\": 10.792267452233286, \"cat\": \"B2\"}, {\"y\": 1.1861706400914784, \"y_pred\": 10.121194439445938, \"cat\": \"F3\"}, {\"y\": 0.2834241706842682, \"y_pred\": 9.966331436495011, \"cat\": \"G3\"}, {\"y\": 10.666177280656242, \"y_pred\": 9.604984429609516, \"cat\": \"J1\"}, {\"y\": 1.6798940114044558, \"y_pred\": 9.656605430593158, \"cat\": \"I3\"}, {\"y\": 10.421484899198706, \"y_pred\": 9.914710435511369, \"cat\": \"H1\"}, {\"y\": 10.178432294646244, \"y_pred\": 9.759847432560443, \"cat\": \"I1\"}, {\"y\": 9.052539029833104, \"y_pred\": 10.998751456167854, \"cat\": \"A1\"}, {\"y\": 0.060129509831321926, \"y_pred\": 10.276057442396864, \"cat\": \"E3\"}, {\"y\": 20.49502106653608, \"y_pred\": 10.482541446331433, \"cat\": \"D2\"}, {\"y\": 1.433122452934993, \"y_pred\": 9.811468433544086, \"cat\": \"H3\"}, {\"y\": 1.1656877049978969, \"y_pred\": 9.811468433544086, \"cat\": \"H3\"}, {\"y\": 19.762339346193258, \"y_pred\": 10.482541446331433, \"cat\": \"D2\"}, {\"y\": 19.153202139962694, \"y_pred\": 9.863089434527726, \"cat\": \"H2\"}, {\"y\": 19.438471309399688, \"y_pred\": 9.863089434527726, \"cat\": \"H2\"}, {\"y\": 10.492202934558147, \"y_pred\": 10.379299444364149, \"cat\": \"E1\"}, {\"y\": 0.7575923623120411, \"y_pred\": 10.585783448298717, \"cat\": \"C3\"}, {\"y\": 10.540746790063228, \"y_pred\": 10.534162447315074, \"cat\": \"D1\"}, {\"y\": 20.421119091599298, \"y_pred\": 9.553363428625874, \"cat\": \"J2\"}, {\"y\": 19.07708276269181, \"y_pred\": 10.17281544042958, \"cat\": \"F2\"}, {\"y\": 9.479103134237882, \"y_pred\": 10.689025450266001, \"cat\": \"C1\"}, {\"y\": 20.08790172833245, \"y_pred\": 9.863089434527726, \"cat\": \"H2\"}, {\"y\": 10.171631736622842, \"y_pred\": 9.759847432560443, \"cat\": \"I1\"}, {\"y\": 0.22317214394888163, \"y_pred\": 10.89550945420057, \"cat\": \"A3\"}, {\"y\": 1.0145860571898149, \"y_pred\": 9.811468433544086, \"cat\": \"H3\"}, {\"y\": 0.2140581069074392, \"y_pred\": 10.121194439445938, \"cat\": \"F3\"}, {\"y\": 1.451726067320531, \"y_pred\": 9.811468433544086, \"cat\": \"H3\"}, {\"y\": 9.463809398779315, \"y_pred\": 10.069573438462296, \"cat\": \"G1\"}, {\"y\": 19.049515526950085, \"y_pred\": 10.327678443380506, \"cat\": \"E2\"}, {\"y\": 19.50892337980001, \"y_pred\": 9.863089434527726, \"cat\": \"H2\"}, {\"y\": 10.136790264526567, \"y_pred\": 9.914710435511369, \"cat\": \"H1\"}, {\"y\": 20.19116114239479, \"y_pred\": 10.017952437478653, \"cat\": \"G2\"}, {\"y\": 20.058191492418075, \"y_pred\": 10.637404449282359, \"cat\": \"C2\"}, {\"y\": 9.203000099903218, \"y_pred\": 10.998751456167854, \"cat\": \"A1\"}, {\"y\": 0.6676407154168251, \"y_pred\": 10.740646451249644, \"cat\": \"B3\"}, {\"y\": 20.21342271479435, \"y_pred\": 10.792267452233286, \"cat\": \"B2\"}, {\"y\": 9.48474698964963, \"y_pred\": 10.379299444364149, \"cat\": \"E1\"}, {\"y\": 10.866551132257003, \"y_pred\": 10.069573438462296, \"cat\": \"G1\"}, {\"y\": 20.130936912091776, \"y_pred\": 10.17281544042958, \"cat\": \"F2\"}, {\"y\": 0.17715246381929606, \"y_pred\": 10.740646451249644, \"cat\": \"B3\"}, {\"y\": 19.11154643844185, \"y_pred\": 10.637404449282359, \"cat\": \"C2\"}, {\"y\": 1.1663140659152396, \"y_pred\": 10.740646451249644, \"cat\": \"B3\"}, {\"y\": 10.781462638418178, \"y_pred\": 10.689025450266001, \"cat\": \"C1\"}, {\"y\": 10.463583921199772, \"y_pred\": 9.759847432560443, \"cat\": \"I1\"}, {\"y\": 19.881958561202964, \"y_pred\": 10.947130455184212, \"cat\": \"A2\"}, {\"y\": 0.35198766207932164, \"y_pred\": 10.121194439445938, \"cat\": \"F3\"}, {\"y\": 10.33655036995322, \"y_pred\": 10.689025450266001, \"cat\": \"C1\"}, {\"y\": 20.639915078524055, \"y_pred\": 10.792267452233286, \"cat\": \"B2\"}, {\"y\": 1.5858095531873015, \"y_pred\": 9.501742427642231, \"cat\": \"J3\"}, {\"y\": 20.549300725916027, \"y_pred\": 10.482541446331433, \"cat\": \"D2\"}, {\"y\": 0.7705612551613208, \"y_pred\": 9.811468433544086, \"cat\": \"H3\"}, {\"y\": 20.156578373052486, \"y_pred\": 10.327678443380506, \"cat\": \"E2\"}, {\"y\": 1.488624912965331, \"y_pred\": 9.656605430593158, \"cat\": \"I3\"}, {\"y\": 9.698617124835028, \"y_pred\": 9.759847432560443, \"cat\": \"I1\"}, {\"y\": 0.9680412343946829, \"y_pred\": 9.811468433544086, \"cat\": \"H3\"}, {\"y\": 0.4424147703771004, \"y_pred\": 9.656605430593158, \"cat\": \"I3\"}, {\"y\": 1.085877806903644, \"y_pred\": 9.656605430593158, \"cat\": \"I3\"}, {\"y\": 19.911729488607193, \"y_pred\": 10.017952437478653, \"cat\": \"G2\"}, {\"y\": 9.802334928007546, \"y_pred\": 10.843888453216927, \"cat\": \"B1\"}, {\"y\": 1.664311622855744, \"y_pred\": 10.121194439445938, \"cat\": \"F3\"}, {\"y\": 20.421593642635532, \"y_pred\": 10.17281544042958, \"cat\": \"F2\"}, {\"y\": 9.98216105314478, \"y_pred\": 10.998751456167854, \"cat\": \"A1\"}, {\"y\": 20.930000007112124, \"y_pred\": 9.553363428625874, \"cat\": \"J2\"}, {\"y\": 19.417497727411746, \"y_pred\": 10.792267452233286, \"cat\": \"B2\"}, {\"y\": 1.945429826930148, \"y_pred\": 10.276057442396864, \"cat\": \"E3\"}, {\"y\": 0.22603377781250344, \"y_pred\": 9.656605430593158, \"cat\": \"I3\"}, {\"y\": 19.279814661304854, \"y_pred\": 10.947130455184212, \"cat\": \"A2\"}, {\"y\": 10.755177382256774, \"y_pred\": 10.998751456167854, \"cat\": \"A1\"}, {\"y\": 0.7185365516022681, \"y_pred\": 9.656605430593158, \"cat\": \"I3\"}, {\"y\": 1.0828703070700931, \"y_pred\": 9.656605430593158, \"cat\": \"I3\"}, {\"y\": 10.745003717769139, \"y_pred\": 10.224436441413221, \"cat\": \"F1\"}, {\"y\": 10.090159309166276, \"y_pred\": 10.689025450266001, \"cat\": \"C1\"}, {\"y\": 1.8603868675654076, \"y_pred\": 9.811468433544086, \"cat\": \"H3\"}, {\"y\": 9.2892849125925, \"y_pred\": 10.224436441413221, \"cat\": \"F1\"}, {\"y\": 10.11446547663557, \"y_pred\": 10.843888453216927, \"cat\": \"B1\"}, {\"y\": 10.534684365221295, \"y_pred\": 10.534162447315074, \"cat\": \"D1\"}, {\"y\": 9.737570318394566, \"y_pred\": 9.759847432560443, \"cat\": \"I1\"}, {\"y\": 0.7794377721135248, \"y_pred\": 10.89550945420057, \"cat\": \"A3\"}, {\"y\": 0.032730307384333246, \"y_pred\": 9.656605430593158, \"cat\": \"I3\"}, {\"y\": 20.399302190432305, \"y_pred\": 10.482541446331433, \"cat\": \"D2\"}, {\"y\": 10.795565075222658, \"y_pred\": 10.069573438462296, \"cat\": \"G1\"}, {\"y\": 20.343020418232943, \"y_pred\": 10.17281544042958, \"cat\": \"F2\"}]}}, {\"mode\": \"vega-lite\"});\n",
       "</script>"
      ],
      "text/plain": [
       "alt.Chart(...)"
      ]
     },
     "execution_count": 58,
     "metadata": {},
     "output_type": "execute_result"
    }
   ],
   "source": [
    "create_scatter(source_linreg_oe)"
   ]
  },
  {
   "cell_type": "markdown",
   "id": "a483345f-9f30-42fe-989e-e0e4dfde2eca",
   "metadata": {
    "execution": {
     "iopub.execute_input": "2022-03-10T10:43:55.728584Z",
     "iopub.status.busy": "2022-03-10T10:43:55.726964Z",
     "iopub.status.idle": "2022-03-10T10:43:55.742867Z",
     "shell.execute_reply": "2022-03-10T10:43:55.740946Z",
     "shell.execute_reply.started": "2022-03-10T10:43:55.728406Z"
    },
    "tags": []
   },
   "source": [
    "## Onehot encoded"
   ]
  },
  {
   "cell_type": "code",
   "execution_count": 59,
   "id": "673df6fd-0d5f-4fa6-8cb8-dfd3b1206a88",
   "metadata": {
    "execution": {
     "iopub.execute_input": "2022-03-24T14:13:12.063562Z",
     "iopub.status.busy": "2022-03-24T14:13:12.063310Z",
     "iopub.status.idle": "2022-03-24T14:13:12.151721Z",
     "shell.execute_reply": "2022-03-24T14:13:12.150605Z",
     "shell.execute_reply.started": "2022-03-24T14:13:12.063536Z"
    },
    "tags": []
   },
   "outputs": [],
   "source": [
    "rmse_linreg_oh, source_linreg_oh, linreg_oh = linreg_rmse(x_colnames=x_colnames_oh)"
   ]
  },
  {
   "cell_type": "code",
   "execution_count": 60,
   "id": "4cbb0442-4d46-4a4a-a766-0c361eadb42f",
   "metadata": {
    "execution": {
     "iopub.execute_input": "2022-03-24T14:13:12.152890Z",
     "iopub.status.busy": "2022-03-24T14:13:12.152734Z",
     "iopub.status.idle": "2022-03-24T14:13:12.160176Z",
     "shell.execute_reply": "2022-03-24T14:13:12.159625Z",
     "shell.execute_reply.started": "2022-03-24T14:13:12.152872Z"
    },
    "tags": []
   },
   "outputs": [
    {
     "data": {
      "text/plain": [
       "0.5613899068648972"
      ]
     },
     "execution_count": 60,
     "metadata": {},
     "output_type": "execute_result"
    }
   ],
   "source": [
    "rmse_linreg_oh"
   ]
  },
  {
   "cell_type": "code",
   "execution_count": 61,
   "id": "8d50cf65-31ab-4e60-89b3-372aa13b5f1a",
   "metadata": {
    "execution": {
     "iopub.execute_input": "2022-03-24T14:13:12.161438Z",
     "iopub.status.busy": "2022-03-24T14:13:12.161012Z",
     "iopub.status.idle": "2022-03-24T14:13:12.244537Z",
     "shell.execute_reply": "2022-03-24T14:13:12.243970Z",
     "shell.execute_reply.started": "2022-03-24T14:13:12.161411Z"
    },
    "tags": []
   },
   "outputs": [
    {
     "data": {
      "text/html": [
       "\n",
       "<div id=\"altair-viz-d759ba98203f4ab2bf5df94fa354502b\"></div>\n",
       "<script type=\"text/javascript\">\n",
       "  var VEGA_DEBUG = (typeof VEGA_DEBUG == \"undefined\") ? {} : VEGA_DEBUG;\n",
       "  (function(spec, embedOpt){\n",
       "    let outputDiv = document.currentScript.previousElementSibling;\n",
       "    if (outputDiv.id !== \"altair-viz-d759ba98203f4ab2bf5df94fa354502b\") {\n",
       "      outputDiv = document.getElementById(\"altair-viz-d759ba98203f4ab2bf5df94fa354502b\");\n",
       "    }\n",
       "    const paths = {\n",
       "      \"vega\": \"https://cdn.jsdelivr.net/npm//vega@5?noext\",\n",
       "      \"vega-lib\": \"https://cdn.jsdelivr.net/npm//vega-lib?noext\",\n",
       "      \"vega-lite\": \"https://cdn.jsdelivr.net/npm//vega-lite@4.17.0?noext\",\n",
       "      \"vega-embed\": \"https://cdn.jsdelivr.net/npm//vega-embed@6?noext\",\n",
       "    };\n",
       "\n",
       "    function maybeLoadScript(lib, version) {\n",
       "      var key = `${lib.replace(\"-\", \"\")}_version`;\n",
       "      return (VEGA_DEBUG[key] == version) ?\n",
       "        Promise.resolve(paths[lib]) :\n",
       "        new Promise(function(resolve, reject) {\n",
       "          var s = document.createElement('script');\n",
       "          document.getElementsByTagName(\"head\")[0].appendChild(s);\n",
       "          s.async = true;\n",
       "          s.onload = () => {\n",
       "            VEGA_DEBUG[key] = version;\n",
       "            return resolve(paths[lib]);\n",
       "          };\n",
       "          s.onerror = () => reject(`Error loading script: ${paths[lib]}`);\n",
       "          s.src = paths[lib];\n",
       "        });\n",
       "    }\n",
       "\n",
       "    function showError(err) {\n",
       "      outputDiv.innerHTML = `<div class=\"error\" style=\"color:red;\">${err}</div>`;\n",
       "      throw err;\n",
       "    }\n",
       "\n",
       "    function displayChart(vegaEmbed) {\n",
       "      vegaEmbed(outputDiv, spec, embedOpt)\n",
       "        .catch(err => showError(`Javascript Error: ${err.message}<br>This usually means there's a typo in your chart specification. See the javascript console for the full traceback.`));\n",
       "    }\n",
       "\n",
       "    if(typeof define === \"function\" && define.amd) {\n",
       "      requirejs.config({paths});\n",
       "      require([\"vega-embed\"], displayChart, err => showError(`Error loading script: ${err.message}`));\n",
       "    } else {\n",
       "      maybeLoadScript(\"vega\", \"5\")\n",
       "        .then(() => maybeLoadScript(\"vega-lite\", \"4.17.0\"))\n",
       "        .then(() => maybeLoadScript(\"vega-embed\", \"6\"))\n",
       "        .catch(showError)\n",
       "        .then(() => displayChart(vegaEmbed));\n",
       "    }\n",
       "  })({\"config\": {\"view\": {\"continuousWidth\": 400, \"continuousHeight\": 300}}, \"data\": {\"name\": \"data-03d549e8e818b5ab82e849e839af6146\"}, \"mark\": {\"type\": \"circle\", \"size\": 60}, \"encoding\": {\"color\": {\"field\": \"cat\", \"type\": \"nominal\"}, \"tooltip\": {\"field\": \"cat\", \"type\": \"nominal\"}, \"x\": {\"field\": \"y\", \"scale\": {\"domain\": [-1.976271965441258, 22.96857500892925]}, \"type\": \"quantitative\"}, \"y\": {\"field\": \"y_pred\", \"scale\": {\"domain\": [-1.976271965441258, 22.96857500892925]}, \"type\": \"quantitative\"}}, \"height\": 500, \"selection\": {\"selector011\": {\"type\": \"interval\", \"bind\": \"scales\", \"encodings\": [\"x\", \"y\"]}}, \"width\": 800, \"$schema\": \"https://vega.github.io/schema/vega-lite/v4.17.0.json\", \"datasets\": {\"data-03d549e8e818b5ab82e849e839af6146\": [{\"y\": 0.9708688385243336, \"y_pred\": 0.8870188684457219, \"cat\": \"G3\"}, {\"y\": 1.5615528849742262, \"y_pred\": 1.0372551084842474, \"cat\": \"H3\"}, {\"y\": 19.762355681020175, \"y_pred\": 19.920740302334373, \"cat\": \"E2\"}, {\"y\": 9.669818235290847, \"y_pred\": 10.169040009816886, \"cat\": \"G1\"}, {\"y\": 20.581437747153537, \"y_pred\": 19.920740302334373, \"cat\": \"E2\"}, {\"y\": 19.114769917943644, \"y_pred\": 20.01816892577891, \"cat\": \"A2\"}, {\"y\": 19.240079805181814, \"y_pred\": 20.01816892577891, \"cat\": \"A2\"}, {\"y\": 10.370929132428529, \"y_pred\": 10.020866073876805, \"cat\": \"A1\"}, {\"y\": 20.609629747639598, \"y_pred\": 20.096333813940582, \"cat\": \"J2\"}, {\"y\": 9.185411965211156, \"y_pred\": 10.0436705896444, \"cat\": \"J1\"}, {\"y\": 20.771135145302082, \"y_pred\": 20.136608652682284, \"cat\": \"D2\"}, {\"y\": 9.897906688835647, \"y_pred\": 10.116296363220188, \"cat\": \"I1\"}, {\"y\": 19.572515038433227, \"y_pred\": 20.136608652682284, \"cat\": \"D2\"}, {\"y\": 10.121699527559619, \"y_pred\": 10.116296363220188, \"cat\": \"I1\"}, {\"y\": 9.892287250926657, \"y_pred\": 9.950828187643536, \"cat\": \"H1\"}, {\"y\": 10.02938789145609, \"y_pred\": 10.020866073876805, \"cat\": \"A1\"}, {\"y\": 9.040243651268177, \"y_pred\": 9.950828187643536, \"cat\": \"H1\"}, {\"y\": 19.392430942113748, \"y_pred\": 20.007139565411947, \"cat\": \"B2\"}, {\"y\": 1.7685549154233273, \"y_pred\": 1.0560731874426548, \"cat\": \"D3\"}, {\"y\": 20.915270646306908, \"y_pred\": 19.875565318533816, \"cat\": \"I2\"}, {\"y\": 1.1594739846577815, \"y_pred\": 0.9953641765590096, \"cat\": \"E3\"}, {\"y\": 19.294671275810273, \"y_pred\": 19.963847709697404, \"cat\": \"H2\"}, {\"y\": 0.09239944296425806, \"y_pred\": 0.9773411707795052, \"cat\": \"A3\"}, {\"y\": 1.8501313272642024, \"y_pred\": 0.9953641765590096, \"cat\": \"E3\"}, {\"y\": 1.205664187139253, \"y_pred\": 0.8870188684457219, \"cat\": \"G3\"}, {\"y\": 10.752694275026144, \"y_pred\": 10.116296363220188, \"cat\": \"I1\"}, {\"y\": 0.10053903516041696, \"y_pred\": 0.9657101848202956, \"cat\": \"C3\"}, {\"y\": 9.295792104243384, \"y_pred\": 10.045807206775944, \"cat\": \"E1\"}, {\"y\": 1.8675027275916585, \"y_pred\": 1.0560731874426548, \"cat\": \"D3\"}, {\"y\": 9.572761632023228, \"y_pred\": 9.950828187643536, \"cat\": \"H1\"}, {\"y\": 0.40206013448789246, \"y_pred\": 1.051091687356216, \"cat\": \"F3\"}, {\"y\": 20.00816431975963, \"y_pred\": 20.007139565411947, \"cat\": \"B2\"}, {\"y\": 1.8937030617473223, \"y_pred\": 0.9953641765590096, \"cat\": \"E3\"}, {\"y\": 10.772909950705804, \"y_pred\": 10.041338839427898, \"cat\": \"D1\"}, {\"y\": 1.140221782934138, \"y_pred\": 0.9182178430490691, \"cat\": \"J3\"}, {\"y\": 10.592858172694484, \"y_pred\": 10.0436705896444, \"cat\": \"J1\"}, {\"y\": 1.9932092808131794, \"y_pred\": 1.0560731874426548, \"cat\": \"D3\"}, {\"y\": 19.411209284911298, \"y_pred\": 20.007139565411947, \"cat\": \"B2\"}, {\"y\": 9.212031295957575, \"y_pred\": 9.950828187643536, \"cat\": \"H1\"}, {\"y\": 9.851938306566382, \"y_pred\": 10.041338839427898, \"cat\": \"D1\"}, {\"y\": 19.082329276153228, \"y_pred\": 20.08805108640414, \"cat\": \"C2\"}, {\"y\": 0.25133708392386045, \"y_pred\": 0.8870188684457219, \"cat\": \"G3\"}, {\"y\": 10.449132406732668, \"y_pred\": 9.702587247465516, \"cat\": \"B1\"}, {\"y\": 0.02372803455874206, \"y_pred\": 1.0089225088734732, \"cat\": \"B3\"}, {\"y\": 0.5078446463642772, \"y_pred\": 1.0560731874426548, \"cat\": \"D3\"}, {\"y\": 9.742117143822856, \"y_pred\": 9.702587247465516, \"cat\": \"B1\"}, {\"y\": 10.619462865008618, \"y_pred\": 10.020866073876805, \"cat\": \"A1\"}, {\"y\": 9.146858546371357, \"y_pred\": 10.011205819454643, \"cat\": \"F1\"}, {\"y\": 19.29218469876556, \"y_pred\": 19.963847709697404, \"cat\": \"H2\"}, {\"y\": 0.5688106243620701, \"y_pred\": 0.8870188684457219, \"cat\": \"G3\"}, {\"y\": 9.240261892640017, \"y_pred\": 10.041338839427898, \"cat\": \"D1\"}, {\"y\": 0.9155483807690259, \"y_pred\": 0.9182178430490691, \"cat\": \"J3\"}, {\"y\": 20.58010666857155, \"y_pred\": 20.136608652682284, \"cat\": \"D2\"}, {\"y\": 1.8957495440351315, \"y_pred\": 1.0372551084842474, \"cat\": \"H3\"}, {\"y\": 0.9444710799769402, \"y_pred\": 0.9277159363149554, \"cat\": \"I3\"}, {\"y\": 10.46111056186891, \"y_pred\": 10.169040009816886, \"cat\": \"G1\"}, {\"y\": 1.3351438955138328, \"y_pred\": 0.9182178430490691, \"cat\": \"J3\"}, {\"y\": 19.450823647607095, \"y_pred\": 19.86772667060867, \"cat\": \"G2\"}, {\"y\": 0.39398350212066413, \"y_pred\": 1.0560731874426548, \"cat\": \"D3\"}, {\"y\": 20.445918470430932, \"y_pred\": 20.01816892577891, \"cat\": \"A2\"}, {\"y\": 1.028333779664423, \"y_pred\": 0.9953641765590096, \"cat\": \"E3\"}, {\"y\": 1.877798573555562, \"y_pred\": 0.9657101848202956, \"cat\": \"C3\"}, {\"y\": 19.308754101789745, \"y_pred\": 20.069176657925894, \"cat\": \"F2\"}, {\"y\": 19.588911139392263, \"y_pred\": 20.08805108640414, \"cat\": \"C2\"}, {\"y\": 1.2696962852581346, \"y_pred\": 0.9657101848202956, \"cat\": \"C3\"}, {\"y\": 1.748381206748827, \"y_pred\": 0.9277159363149554, \"cat\": \"I3\"}, {\"y\": 0.2952976442514248, \"y_pred\": 1.0560731874426548, \"cat\": \"D3\"}, {\"y\": 10.882186926184575, \"y_pred\": 9.950828187643536, \"cat\": \"H1\"}, {\"y\": 10.643587315971759, \"y_pred\": 10.011205819454643, \"cat\": \"F1\"}, {\"y\": 10.808109051869772, \"y_pred\": 9.950828187643536, \"cat\": \"H1\"}, {\"y\": 20.513153710881305, \"y_pred\": 20.007139565411947, \"cat\": \"B2\"}, {\"y\": 19.258830909026386, \"y_pred\": 20.08805108640414, \"cat\": \"C2\"}, {\"y\": 20.13782290165262, \"y_pred\": 19.86772667060867, \"cat\": \"G2\"}, {\"y\": 10.02600385267203, \"y_pred\": 10.041338839427898, \"cat\": \"D1\"}, {\"y\": 1.0078666530215015, \"y_pred\": 0.9277159363149554, \"cat\": \"I3\"}, {\"y\": 0.8686705749826737, \"y_pred\": 0.9182178430490691, \"cat\": \"J3\"}, {\"y\": 0.4594404220265076, \"y_pred\": 0.9657101848202956, \"cat\": \"C3\"}, {\"y\": 1.6152014092601343, \"y_pred\": 1.0372551084842474, \"cat\": \"H3\"}, {\"y\": 19.46784350351881, \"y_pred\": 19.875565318533816, \"cat\": \"I2\"}, {\"y\": 10.644613636108657, \"y_pred\": 10.116296363220188, \"cat\": \"I1\"}, {\"y\": 10.152949140231978, \"y_pred\": 9.950828187643536, \"cat\": \"H1\"}, {\"y\": 9.912104519871313, \"y_pred\": 10.011205819454643, \"cat\": \"F1\"}, {\"y\": 1.3272417208585086, \"y_pred\": 0.9182178430490691, \"cat\": \"J3\"}, {\"y\": 0.8231308199627274, \"y_pred\": 1.0560731874426548, \"cat\": \"D3\"}, {\"y\": 9.875369737977294, \"y_pred\": 10.041338839427898, \"cat\": \"D1\"}, {\"y\": 1.2333897309216133, \"y_pred\": 0.9657101848202956, \"cat\": \"C3\"}, {\"y\": 0.7805028862503547, \"y_pred\": 0.9773411707795052, \"cat\": \"A3\"}, {\"y\": 0.6634566091791982, \"y_pred\": 0.9953641765590096, \"cat\": \"E3\"}, {\"y\": 0.4470371386983705, \"y_pred\": 0.9277159363149554, \"cat\": \"I3\"}, {\"y\": 1.1072488046608373, \"y_pred\": 0.9277159363149554, \"cat\": \"I3\"}, {\"y\": 0.24280396889682532, \"y_pred\": 1.0372551084842474, \"cat\": \"H3\"}, {\"y\": 19.639311035003775, \"y_pred\": 19.920740302334373, \"cat\": \"E2\"}, {\"y\": 10.173301250207977, \"y_pred\": 10.020866073876805, \"cat\": \"A1\"}, {\"y\": 1.6546550741914168, \"y_pred\": 1.0560731874426548, \"cat\": \"D3\"}, {\"y\": 1.474123922241376, \"y_pred\": 0.9953641765590096, \"cat\": \"E3\"}, {\"y\": 9.691775451836591, \"y_pred\": 10.0436705896444, \"cat\": \"J1\"}, {\"y\": 10.100273494917381, \"y_pred\": 10.0436705896444, \"cat\": \"J1\"}, {\"y\": 1.1274117217439872, \"y_pred\": 0.8870188684457219, \"cat\": \"G3\"}, {\"y\": 10.21219557822793, \"y_pred\": 10.020866073876805, \"cat\": \"A1\"}, {\"y\": 9.95441418414331, \"y_pred\": 10.045807206775944, \"cat\": \"E1\"}, {\"y\": 10.559569261886198, \"y_pred\": 10.041338839427898, \"cat\": \"D1\"}, {\"y\": 10.064865505802969, \"y_pred\": 10.041338839427898, \"cat\": \"D1\"}, {\"y\": 9.023187011385222, \"y_pred\": 10.011205819454643, \"cat\": \"F1\"}, {\"y\": 0.8850784130143021, \"y_pred\": 0.9182178430490691, \"cat\": \"J3\"}, {\"y\": 10.39902427507542, \"y_pred\": 9.976265565032968, \"cat\": \"C1\"}, {\"y\": 19.050251951877456, \"y_pred\": 20.08805108640414, \"cat\": \"C2\"}, {\"y\": 1.6846869782703828, \"y_pred\": 1.0372551084842474, \"cat\": \"H3\"}, {\"y\": 20.96857500892925, \"y_pred\": 20.08805108640414, \"cat\": \"C2\"}, {\"y\": 1.3249427146925004, \"y_pred\": 0.9182178430490691, \"cat\": \"J3\"}, {\"y\": 20.271810305418256, \"y_pred\": 20.01816892577891, \"cat\": \"A2\"}, {\"y\": 0.6013077041445261, \"y_pred\": 1.0560731874426548, \"cat\": \"D3\"}, {\"y\": 10.143375201819058, \"y_pred\": 10.0436705896444, \"cat\": \"J1\"}, {\"y\": 9.214335394736137, \"y_pred\": 10.116296363220188, \"cat\": \"I1\"}, {\"y\": 9.581722718373117, \"y_pred\": 10.169040009816886, \"cat\": \"G1\"}, {\"y\": 19.335252713720422, \"y_pred\": 19.875565318533816, \"cat\": \"I2\"}, {\"y\": 20.33102475795596, \"y_pred\": 20.08805108640414, \"cat\": \"C2\"}, {\"y\": 10.589022038515985, \"y_pred\": 9.950828187643536, \"cat\": \"H1\"}, {\"y\": 0.6691451695081352, \"y_pred\": 0.8870188684457219, \"cat\": \"G3\"}, {\"y\": 19.448819374103962, \"y_pred\": 20.007139565411947, \"cat\": \"B2\"}, {\"y\": 1.1861706400914784, \"y_pred\": 1.051091687356216, \"cat\": \"F3\"}, {\"y\": 0.2834241706842682, \"y_pred\": 0.8870188684457219, \"cat\": \"G3\"}, {\"y\": 10.666177280656242, \"y_pred\": 10.0436705896444, \"cat\": \"J1\"}, {\"y\": 1.6798940114044558, \"y_pred\": 0.9277159363149554, \"cat\": \"I3\"}, {\"y\": 10.421484899198706, \"y_pred\": 9.950828187643536, \"cat\": \"H1\"}, {\"y\": 10.178432294646244, \"y_pred\": 10.116296363220188, \"cat\": \"I1\"}, {\"y\": 9.052539029833104, \"y_pred\": 10.020866073876805, \"cat\": \"A1\"}, {\"y\": 0.060129509831321926, \"y_pred\": 0.9953641765590096, \"cat\": \"E3\"}, {\"y\": 20.49502106653608, \"y_pred\": 20.136608652682284, \"cat\": \"D2\"}, {\"y\": 1.433122452934993, \"y_pred\": 1.0372551084842474, \"cat\": \"H3\"}, {\"y\": 1.1656877049978969, \"y_pred\": 1.0372551084842474, \"cat\": \"H3\"}, {\"y\": 19.762339346193258, \"y_pred\": 20.136608652682284, \"cat\": \"D2\"}, {\"y\": 19.153202139962694, \"y_pred\": 19.963847709697404, \"cat\": \"H2\"}, {\"y\": 19.438471309399688, \"y_pred\": 19.963847709697404, \"cat\": \"H2\"}, {\"y\": 10.492202934558147, \"y_pred\": 10.045807206775944, \"cat\": \"E1\"}, {\"y\": 0.7575923623120411, \"y_pred\": 0.9657101848202956, \"cat\": \"C3\"}, {\"y\": 10.540746790063228, \"y_pred\": 10.041338839427898, \"cat\": \"D1\"}, {\"y\": 20.421119091599298, \"y_pred\": 20.096333813940582, \"cat\": \"J2\"}, {\"y\": 19.07708276269181, \"y_pred\": 20.069176657925894, \"cat\": \"F2\"}, {\"y\": 9.479103134237882, \"y_pred\": 9.976265565032968, \"cat\": \"C1\"}, {\"y\": 20.08790172833245, \"y_pred\": 19.963847709697404, \"cat\": \"H2\"}, {\"y\": 10.171631736622842, \"y_pred\": 10.116296363220188, \"cat\": \"I1\"}, {\"y\": 0.22317214394888163, \"y_pred\": 0.9773411707795052, \"cat\": \"A3\"}, {\"y\": 1.0145860571898149, \"y_pred\": 1.0372551084842474, \"cat\": \"H3\"}, {\"y\": 0.2140581069074392, \"y_pred\": 1.051091687356216, \"cat\": \"F3\"}, {\"y\": 1.451726067320531, \"y_pred\": 1.0372551084842474, \"cat\": \"H3\"}, {\"y\": 9.463809398779315, \"y_pred\": 10.169040009816886, \"cat\": \"G1\"}, {\"y\": 19.049515526950085, \"y_pred\": 19.920740302334373, \"cat\": \"E2\"}, {\"y\": 19.50892337980001, \"y_pred\": 19.963847709697404, \"cat\": \"H2\"}, {\"y\": 10.136790264526567, \"y_pred\": 9.950828187643536, \"cat\": \"H1\"}, {\"y\": 20.19116114239479, \"y_pred\": 19.86772667060867, \"cat\": \"G2\"}, {\"y\": 20.058191492418075, \"y_pred\": 20.08805108640414, \"cat\": \"C2\"}, {\"y\": 9.203000099903218, \"y_pred\": 10.020866073876805, \"cat\": \"A1\"}, {\"y\": 0.6676407154168251, \"y_pred\": 1.0089225088734732, \"cat\": \"B3\"}, {\"y\": 20.21342271479435, \"y_pred\": 20.007139565411947, \"cat\": \"B2\"}, {\"y\": 9.48474698964963, \"y_pred\": 10.045807206775944, \"cat\": \"E1\"}, {\"y\": 10.866551132257003, \"y_pred\": 10.169040009816886, \"cat\": \"G1\"}, {\"y\": 20.130936912091776, \"y_pred\": 20.069176657925894, \"cat\": \"F2\"}, {\"y\": 0.17715246381929606, \"y_pred\": 1.0089225088734732, \"cat\": \"B3\"}, {\"y\": 19.11154643844185, \"y_pred\": 20.08805108640414, \"cat\": \"C2\"}, {\"y\": 1.1663140659152396, \"y_pred\": 1.0089225088734732, \"cat\": \"B3\"}, {\"y\": 10.781462638418178, \"y_pred\": 9.976265565032968, \"cat\": \"C1\"}, {\"y\": 10.463583921199772, \"y_pred\": 10.116296363220188, \"cat\": \"I1\"}, {\"y\": 19.881958561202964, \"y_pred\": 20.01816892577891, \"cat\": \"A2\"}, {\"y\": 0.35198766207932164, \"y_pred\": 1.051091687356216, \"cat\": \"F3\"}, {\"y\": 10.33655036995322, \"y_pred\": 9.976265565032968, \"cat\": \"C1\"}, {\"y\": 20.639915078524055, \"y_pred\": 20.007139565411947, \"cat\": \"B2\"}, {\"y\": 1.5858095531873015, \"y_pred\": 0.9182178430490691, \"cat\": \"J3\"}, {\"y\": 20.549300725916027, \"y_pred\": 20.136608652682284, \"cat\": \"D2\"}, {\"y\": 0.7705612551613208, \"y_pred\": 1.0372551084842474, \"cat\": \"H3\"}, {\"y\": 20.156578373052486, \"y_pred\": 19.920740302334373, \"cat\": \"E2\"}, {\"y\": 1.488624912965331, \"y_pred\": 0.9277159363149554, \"cat\": \"I3\"}, {\"y\": 9.698617124835028, \"y_pred\": 10.116296363220188, \"cat\": \"I1\"}, {\"y\": 0.9680412343946829, \"y_pred\": 1.0372551084842474, \"cat\": \"H3\"}, {\"y\": 0.4424147703771004, \"y_pred\": 0.9277159363149554, \"cat\": \"I3\"}, {\"y\": 1.085877806903644, \"y_pred\": 0.9277159363149554, \"cat\": \"I3\"}, {\"y\": 19.911729488607193, \"y_pred\": 19.86772667060867, \"cat\": \"G2\"}, {\"y\": 9.802334928007546, \"y_pred\": 9.702587247465516, \"cat\": \"B1\"}, {\"y\": 1.664311622855744, \"y_pred\": 1.051091687356216, \"cat\": \"F3\"}, {\"y\": 20.421593642635532, \"y_pred\": 20.069176657925894, \"cat\": \"F2\"}, {\"y\": 9.98216105314478, \"y_pred\": 10.020866073876805, \"cat\": \"A1\"}, {\"y\": 20.930000007112124, \"y_pred\": 20.096333813940582, \"cat\": \"J2\"}, {\"y\": 19.417497727411746, \"y_pred\": 20.007139565411947, \"cat\": \"B2\"}, {\"y\": 1.945429826930148, \"y_pred\": 0.9953641765590096, \"cat\": \"E3\"}, {\"y\": 0.22603377781250344, \"y_pred\": 0.9277159363149554, \"cat\": \"I3\"}, {\"y\": 19.279814661304854, \"y_pred\": 20.01816892577891, \"cat\": \"A2\"}, {\"y\": 10.755177382256774, \"y_pred\": 10.020866073876805, \"cat\": \"A1\"}, {\"y\": 0.7185365516022681, \"y_pred\": 0.9277159363149554, \"cat\": \"I3\"}, {\"y\": 1.0828703070700931, \"y_pred\": 0.9277159363149554, \"cat\": \"I3\"}, {\"y\": 10.745003717769139, \"y_pred\": 10.011205819454643, \"cat\": \"F1\"}, {\"y\": 10.090159309166276, \"y_pred\": 9.976265565032968, \"cat\": \"C1\"}, {\"y\": 1.8603868675654076, \"y_pred\": 1.0372551084842474, \"cat\": \"H3\"}, {\"y\": 9.2892849125925, \"y_pred\": 10.011205819454643, \"cat\": \"F1\"}, {\"y\": 10.11446547663557, \"y_pred\": 9.702587247465516, \"cat\": \"B1\"}, {\"y\": 10.534684365221295, \"y_pred\": 10.041338839427898, \"cat\": \"D1\"}, {\"y\": 9.737570318394566, \"y_pred\": 10.116296363220188, \"cat\": \"I1\"}, {\"y\": 0.7794377721135248, \"y_pred\": 0.9773411707795052, \"cat\": \"A3\"}, {\"y\": 0.032730307384333246, \"y_pred\": 0.9277159363149554, \"cat\": \"I3\"}, {\"y\": 20.399302190432305, \"y_pred\": 20.136608652682284, \"cat\": \"D2\"}, {\"y\": 10.795565075222658, \"y_pred\": 10.169040009816886, \"cat\": \"G1\"}, {\"y\": 20.343020418232943, \"y_pred\": 20.069176657925894, \"cat\": \"F2\"}]}}, {\"mode\": \"vega-lite\"});\n",
       "</script>"
      ],
      "text/plain": [
       "alt.Chart(...)"
      ]
     },
     "execution_count": 61,
     "metadata": {},
     "output_type": "execute_result"
    }
   ],
   "source": [
    "create_scatter(source_linreg_oh)"
   ]
  },
  {
   "cell_type": "markdown",
   "id": "a4c561ac-71c2-4688-995e-2177a918e706",
   "metadata": {},
   "source": [
    "## Hash encoding"
   ]
  },
  {
   "cell_type": "code",
   "execution_count": 62,
   "id": "f68a5bc0-590e-408f-89ec-f676a6159363",
   "metadata": {
    "execution": {
     "iopub.execute_input": "2022-03-24T14:13:12.245718Z",
     "iopub.status.busy": "2022-03-24T14:13:12.245564Z",
     "iopub.status.idle": "2022-03-24T14:13:12.256369Z",
     "shell.execute_reply": "2022-03-24T14:13:12.255905Z",
     "shell.execute_reply.started": "2022-03-24T14:13:12.245696Z"
    },
    "tags": []
   },
   "outputs": [],
   "source": [
    "rmse_linreg_fh, source_linreg_fh, linreg_fh = linreg_rmse(x_colnames=x_colnames_fh)"
   ]
  },
  {
   "cell_type": "code",
   "execution_count": 63,
   "id": "0b0a5747-459c-4adc-ad01-6482f225bb51",
   "metadata": {
    "execution": {
     "iopub.execute_input": "2022-03-24T14:13:12.257449Z",
     "iopub.status.busy": "2022-03-24T14:13:12.257155Z",
     "iopub.status.idle": "2022-03-24T14:13:12.260859Z",
     "shell.execute_reply": "2022-03-24T14:13:12.260408Z",
     "shell.execute_reply.started": "2022-03-24T14:13:12.257426Z"
    }
   },
   "outputs": [
    {
     "data": {
      "text/plain": [
       "1.9862164772924344"
      ]
     },
     "execution_count": 63,
     "metadata": {},
     "output_type": "execute_result"
    }
   ],
   "source": [
    "rmse_linreg_fh"
   ]
  },
  {
   "cell_type": "code",
   "execution_count": 64,
   "id": "27333979-f9b9-4cb5-9bf1-a7e5b587a74e",
   "metadata": {
    "execution": {
     "iopub.execute_input": "2022-03-24T14:13:12.261839Z",
     "iopub.status.busy": "2022-03-24T14:13:12.261546Z",
     "iopub.status.idle": "2022-03-24T14:13:12.330768Z",
     "shell.execute_reply": "2022-03-24T14:13:12.330173Z",
     "shell.execute_reply.started": "2022-03-24T14:13:12.261813Z"
    },
    "tags": []
   },
   "outputs": [
    {
     "data": {
      "text/html": [
       "\n",
       "<div id=\"altair-viz-6c8f3c8937704e62a2e7770ee4fe371c\"></div>\n",
       "<script type=\"text/javascript\">\n",
       "  var VEGA_DEBUG = (typeof VEGA_DEBUG == \"undefined\") ? {} : VEGA_DEBUG;\n",
       "  (function(spec, embedOpt){\n",
       "    let outputDiv = document.currentScript.previousElementSibling;\n",
       "    if (outputDiv.id !== \"altair-viz-6c8f3c8937704e62a2e7770ee4fe371c\") {\n",
       "      outputDiv = document.getElementById(\"altair-viz-6c8f3c8937704e62a2e7770ee4fe371c\");\n",
       "    }\n",
       "    const paths = {\n",
       "      \"vega\": \"https://cdn.jsdelivr.net/npm//vega@5?noext\",\n",
       "      \"vega-lib\": \"https://cdn.jsdelivr.net/npm//vega-lib?noext\",\n",
       "      \"vega-lite\": \"https://cdn.jsdelivr.net/npm//vega-lite@4.17.0?noext\",\n",
       "      \"vega-embed\": \"https://cdn.jsdelivr.net/npm//vega-embed@6?noext\",\n",
       "    };\n",
       "\n",
       "    function maybeLoadScript(lib, version) {\n",
       "      var key = `${lib.replace(\"-\", \"\")}_version`;\n",
       "      return (VEGA_DEBUG[key] == version) ?\n",
       "        Promise.resolve(paths[lib]) :\n",
       "        new Promise(function(resolve, reject) {\n",
       "          var s = document.createElement('script');\n",
       "          document.getElementsByTagName(\"head\")[0].appendChild(s);\n",
       "          s.async = true;\n",
       "          s.onload = () => {\n",
       "            VEGA_DEBUG[key] = version;\n",
       "            return resolve(paths[lib]);\n",
       "          };\n",
       "          s.onerror = () => reject(`Error loading script: ${paths[lib]}`);\n",
       "          s.src = paths[lib];\n",
       "        });\n",
       "    }\n",
       "\n",
       "    function showError(err) {\n",
       "      outputDiv.innerHTML = `<div class=\"error\" style=\"color:red;\">${err}</div>`;\n",
       "      throw err;\n",
       "    }\n",
       "\n",
       "    function displayChart(vegaEmbed) {\n",
       "      vegaEmbed(outputDiv, spec, embedOpt)\n",
       "        .catch(err => showError(`Javascript Error: ${err.message}<br>This usually means there's a typo in your chart specification. See the javascript console for the full traceback.`));\n",
       "    }\n",
       "\n",
       "    if(typeof define === \"function\" && define.amd) {\n",
       "      requirejs.config({paths});\n",
       "      require([\"vega-embed\"], displayChart, err => showError(`Error loading script: ${err.message}`));\n",
       "    } else {\n",
       "      maybeLoadScript(\"vega\", \"5\")\n",
       "        .then(() => maybeLoadScript(\"vega-lite\", \"4.17.0\"))\n",
       "        .then(() => maybeLoadScript(\"vega-embed\", \"6\"))\n",
       "        .catch(showError)\n",
       "        .then(() => displayChart(vegaEmbed));\n",
       "    }\n",
       "  })({\"config\": {\"view\": {\"continuousWidth\": 400, \"continuousHeight\": 300}}, \"data\": {\"name\": \"data-c58f8ec3939c5354c959e5a7496d13d4\"}, \"mark\": {\"type\": \"circle\", \"size\": 60}, \"encoding\": {\"color\": {\"field\": \"cat\", \"type\": \"nominal\"}, \"tooltip\": {\"field\": \"cat\", \"type\": \"nominal\"}, \"x\": {\"field\": \"y\", \"scale\": {\"domain\": [-4.014583587646484, 25.090625762939453]}, \"type\": \"quantitative\"}, \"y\": {\"field\": \"y_pred\", \"scale\": {\"domain\": [-4.014583587646484, 25.090625762939453]}, \"type\": \"quantitative\"}}, \"height\": 500, \"selection\": {\"selector012\": {\"type\": \"interval\", \"bind\": \"scales\", \"encodings\": [\"x\", \"y\"]}}, \"width\": 800, \"$schema\": \"https://vega.github.io/schema/vega-lite/v4.17.0.json\", \"datasets\": {\"data-c58f8ec3939c5354c959e5a7496d13d4\": [{\"y\": 0.9708688385243336, \"y_pred\": 1.1472415924072266, \"cat\": \"G3\"}, {\"y\": 1.5615528849742262, \"y_pred\": 1.1472415924072266, \"cat\": \"H3\"}, {\"y\": 19.762355681020175, \"y_pred\": 23.090625762939453, \"cat\": \"E2\"}, {\"y\": 9.669818235290847, \"y_pred\": 11.310367584228516, \"cat\": \"G1\"}, {\"y\": 20.581437747153537, \"y_pred\": 23.090625762939453, \"cat\": \"E2\"}, {\"y\": 19.114769917943644, \"y_pred\": 17.607473373413086, \"cat\": \"A2\"}, {\"y\": 19.240079805181814, \"y_pred\": 17.607473373413086, \"cat\": \"A2\"}, {\"y\": 10.370929132428529, \"y_pred\": 10.136432647705078, \"cat\": \"A1\"}, {\"y\": 20.609629747639598, \"y_pred\": 19.692398071289062, \"cat\": \"J2\"}, {\"y\": 9.185411965211156, \"y_pred\": 12.221357345581055, \"cat\": \"J1\"}, {\"y\": 20.771135145302082, \"y_pred\": 18.909616470336914, \"cat\": \"D2\"}, {\"y\": 9.897906688835647, \"y_pred\": 11.139015197753906, \"cat\": \"I1\"}, {\"y\": 19.572515038433227, \"y_pred\": 18.909616470336914, \"cat\": \"D2\"}, {\"y\": 10.121699527559619, \"y_pred\": 11.139015197753906, \"cat\": \"I1\"}, {\"y\": 9.892287250926657, \"y_pred\": 11.310367584228516, \"cat\": \"H1\"}, {\"y\": 10.02938789145609, \"y_pred\": 10.136432647705078, \"cat\": \"A1\"}, {\"y\": 9.040243651268177, \"y_pred\": 11.310367584228516, \"cat\": \"H1\"}, {\"y\": 19.392430942113748, \"y_pred\": 17.704509735107422, \"cat\": \"B2\"}, {\"y\": 1.7685549154233273, \"y_pred\": 1.2754478454589844, \"cat\": \"D3\"}, {\"y\": 20.915270646306908, \"y_pred\": 18.610055923461914, \"cat\": \"I2\"}, {\"y\": 1.1594739846577815, \"y_pred\": 5.45645809173584, \"cat\": \"E3\"}, {\"y\": 19.294671275810273, \"y_pred\": 18.781410217285156, \"cat\": \"H2\"}, {\"y\": 0.09239944296425806, \"y_pred\": -0.026694297790527344, \"cat\": \"A3\"}, {\"y\": 1.8501313272642024, \"y_pred\": 5.45645809173584, \"cat\": \"E3\"}, {\"y\": 1.205664187139253, \"y_pred\": 1.1472415924072266, \"cat\": \"G3\"}, {\"y\": 10.752694275026144, \"y_pred\": 11.139015197753906, \"cat\": \"I1\"}, {\"y\": 0.10053903516041696, \"y_pred\": -2.0145835876464844, \"cat\": \"C3\"}, {\"y\": 9.295792104243384, \"y_pred\": 15.619585037231445, \"cat\": \"E1\"}, {\"y\": 1.8675027275916585, \"y_pred\": 1.2754478454589844, \"cat\": \"D3\"}, {\"y\": 9.572761632023228, \"y_pred\": 11.310367584228516, \"cat\": \"H1\"}, {\"y\": 0.40206013448789246, \"y_pred\": 1.1949872970581055, \"cat\": \"F3\"}, {\"y\": 20.00816431975963, \"y_pred\": 17.704509735107422, \"cat\": \"B2\"}, {\"y\": 1.8937030617473223, \"y_pred\": 5.45645809173584, \"cat\": \"E3\"}, {\"y\": 10.772909950705804, \"y_pred\": 11.438575744628906, \"cat\": \"D1\"}, {\"y\": 1.140221782934138, \"y_pred\": 2.0582313537597656, \"cat\": \"J3\"}, {\"y\": 10.592858172694484, \"y_pred\": 12.221357345581055, \"cat\": \"J1\"}, {\"y\": 1.9932092808131794, \"y_pred\": 1.2754478454589844, \"cat\": \"D3\"}, {\"y\": 19.411209284911298, \"y_pred\": 17.704509735107422, \"cat\": \"B2\"}, {\"y\": 9.212031295957575, \"y_pred\": 11.310367584228516, \"cat\": \"H1\"}, {\"y\": 9.851938306566382, \"y_pred\": 11.438575744628906, \"cat\": \"D1\"}, {\"y\": 19.082329276153228, \"y_pred\": 15.619585037231445, \"cat\": \"C2\"}, {\"y\": 0.25133708392386045, \"y_pred\": 1.1472415924072266, \"cat\": \"G3\"}, {\"y\": 10.449132406732668, \"y_pred\": 10.233469009399414, \"cat\": \"B1\"}, {\"y\": 0.02372803455874206, \"y_pred\": 0.0703420639038086, \"cat\": \"B3\"}, {\"y\": 0.5078446463642772, \"y_pred\": 1.2754478454589844, \"cat\": \"D3\"}, {\"y\": 9.742117143822856, \"y_pred\": 10.233469009399414, \"cat\": \"B1\"}, {\"y\": 10.619462865008618, \"y_pred\": 10.136432647705078, \"cat\": \"A1\"}, {\"y\": 9.146858546371357, \"y_pred\": 11.358114242553711, \"cat\": \"F1\"}, {\"y\": 19.29218469876556, \"y_pred\": 18.781410217285156, \"cat\": \"H2\"}, {\"y\": 0.5688106243620701, \"y_pred\": 1.1472415924072266, \"cat\": \"G3\"}, {\"y\": 9.240261892640017, \"y_pred\": 11.438575744628906, \"cat\": \"D1\"}, {\"y\": 0.9155483807690259, \"y_pred\": 2.0582313537597656, \"cat\": \"J3\"}, {\"y\": 20.58010666857155, \"y_pred\": 18.909616470336914, \"cat\": \"D2\"}, {\"y\": 1.8957495440351315, \"y_pred\": 1.1472415924072266, \"cat\": \"H3\"}, {\"y\": 0.9444710799769402, \"y_pred\": 0.9758882522583008, \"cat\": \"I3\"}, {\"y\": 10.46111056186891, \"y_pred\": 11.310367584228516, \"cat\": \"G1\"}, {\"y\": 1.3351438955138328, \"y_pred\": 2.0582313537597656, \"cat\": \"J3\"}, {\"y\": 19.450823647607095, \"y_pred\": 18.781410217285156, \"cat\": \"G2\"}, {\"y\": 0.39398350212066413, \"y_pred\": 1.2754478454589844, \"cat\": \"D3\"}, {\"y\": 20.445918470430932, \"y_pred\": 17.607473373413086, \"cat\": \"A2\"}, {\"y\": 1.028333779664423, \"y_pred\": 5.45645809173584, \"cat\": \"E3\"}, {\"y\": 1.877798573555562, \"y_pred\": -2.0145835876464844, \"cat\": \"C3\"}, {\"y\": 19.308754101789745, \"y_pred\": 18.82915496826172, \"cat\": \"F2\"}, {\"y\": 19.588911139392263, \"y_pred\": 15.619585037231445, \"cat\": \"C2\"}, {\"y\": 1.2696962852581346, \"y_pred\": -2.0145835876464844, \"cat\": \"C3\"}, {\"y\": 1.748381206748827, \"y_pred\": 0.9758882522583008, \"cat\": \"I3\"}, {\"y\": 0.2952976442514248, \"y_pred\": 1.2754478454589844, \"cat\": \"D3\"}, {\"y\": 10.882186926184575, \"y_pred\": 11.310367584228516, \"cat\": \"H1\"}, {\"y\": 10.643587315971759, \"y_pred\": 11.358114242553711, \"cat\": \"F1\"}, {\"y\": 10.808109051869772, \"y_pred\": 11.310367584228516, \"cat\": \"H1\"}, {\"y\": 20.513153710881305, \"y_pred\": 17.704509735107422, \"cat\": \"B2\"}, {\"y\": 19.258830909026386, \"y_pred\": 15.619585037231445, \"cat\": \"C2\"}, {\"y\": 20.13782290165262, \"y_pred\": 18.781410217285156, \"cat\": \"G2\"}, {\"y\": 10.02600385267203, \"y_pred\": 11.438575744628906, \"cat\": \"D1\"}, {\"y\": 1.0078666530215015, \"y_pred\": 0.9758882522583008, \"cat\": \"I3\"}, {\"y\": 0.8686705749826737, \"y_pred\": 2.0582313537597656, \"cat\": \"J3\"}, {\"y\": 0.4594404220265076, \"y_pred\": -2.0145835876464844, \"cat\": \"C3\"}, {\"y\": 1.6152014092601343, \"y_pred\": 1.1472415924072266, \"cat\": \"H3\"}, {\"y\": 19.46784350351881, \"y_pred\": 18.610055923461914, \"cat\": \"I2\"}, {\"y\": 10.644613636108657, \"y_pred\": 11.139015197753906, \"cat\": \"I1\"}, {\"y\": 10.152949140231978, \"y_pred\": 11.310367584228516, \"cat\": \"H1\"}, {\"y\": 9.912104519871313, \"y_pred\": 11.358114242553711, \"cat\": \"F1\"}, {\"y\": 1.3272417208585086, \"y_pred\": 2.0582313537597656, \"cat\": \"J3\"}, {\"y\": 0.8231308199627274, \"y_pred\": 1.2754478454589844, \"cat\": \"D3\"}, {\"y\": 9.875369737977294, \"y_pred\": 11.438575744628906, \"cat\": \"D1\"}, {\"y\": 1.2333897309216133, \"y_pred\": -2.0145835876464844, \"cat\": \"C3\"}, {\"y\": 0.7805028862503547, \"y_pred\": -0.026694297790527344, \"cat\": \"A3\"}, {\"y\": 0.6634566091791982, \"y_pred\": 5.45645809173584, \"cat\": \"E3\"}, {\"y\": 0.4470371386983705, \"y_pred\": 0.9758882522583008, \"cat\": \"I3\"}, {\"y\": 1.1072488046608373, \"y_pred\": 0.9758882522583008, \"cat\": \"I3\"}, {\"y\": 0.24280396889682532, \"y_pred\": 1.1472415924072266, \"cat\": \"H3\"}, {\"y\": 19.639311035003775, \"y_pred\": 23.090625762939453, \"cat\": \"E2\"}, {\"y\": 10.173301250207977, \"y_pred\": 10.136432647705078, \"cat\": \"A1\"}, {\"y\": 1.6546550741914168, \"y_pred\": 1.2754478454589844, \"cat\": \"D3\"}, {\"y\": 1.474123922241376, \"y_pred\": 5.45645809173584, \"cat\": \"E3\"}, {\"y\": 9.691775451836591, \"y_pred\": 12.221357345581055, \"cat\": \"J1\"}, {\"y\": 10.100273494917381, \"y_pred\": 12.221357345581055, \"cat\": \"J1\"}, {\"y\": 1.1274117217439872, \"y_pred\": 1.1472415924072266, \"cat\": \"G3\"}, {\"y\": 10.21219557822793, \"y_pred\": 10.136432647705078, \"cat\": \"A1\"}, {\"y\": 9.95441418414331, \"y_pred\": 15.619585037231445, \"cat\": \"E1\"}, {\"y\": 10.559569261886198, \"y_pred\": 11.438575744628906, \"cat\": \"D1\"}, {\"y\": 10.064865505802969, \"y_pred\": 11.438575744628906, \"cat\": \"D1\"}, {\"y\": 9.023187011385222, \"y_pred\": 11.358114242553711, \"cat\": \"F1\"}, {\"y\": 0.8850784130143021, \"y_pred\": 2.0582313537597656, \"cat\": \"J3\"}, {\"y\": 10.39902427507542, \"y_pred\": 8.148544311523438, \"cat\": \"C1\"}, {\"y\": 19.050251951877456, \"y_pred\": 15.619585037231445, \"cat\": \"C2\"}, {\"y\": 1.6846869782703828, \"y_pred\": 1.1472415924072266, \"cat\": \"H3\"}, {\"y\": 20.96857500892925, \"y_pred\": 15.619585037231445, \"cat\": \"C2\"}, {\"y\": 1.3249427146925004, \"y_pred\": 2.0582313537597656, \"cat\": \"J3\"}, {\"y\": 20.271810305418256, \"y_pred\": 17.607473373413086, \"cat\": \"A2\"}, {\"y\": 0.6013077041445261, \"y_pred\": 1.2754478454589844, \"cat\": \"D3\"}, {\"y\": 10.143375201819058, \"y_pred\": 12.221357345581055, \"cat\": \"J1\"}, {\"y\": 9.214335394736137, \"y_pred\": 11.139015197753906, \"cat\": \"I1\"}, {\"y\": 9.581722718373117, \"y_pred\": 11.310367584228516, \"cat\": \"G1\"}, {\"y\": 19.335252713720422, \"y_pred\": 18.610055923461914, \"cat\": \"I2\"}, {\"y\": 20.33102475795596, \"y_pred\": 15.619585037231445, \"cat\": \"C2\"}, {\"y\": 10.589022038515985, \"y_pred\": 11.310367584228516, \"cat\": \"H1\"}, {\"y\": 0.6691451695081352, \"y_pred\": 1.1472415924072266, \"cat\": \"G3\"}, {\"y\": 19.448819374103962, \"y_pred\": 17.704509735107422, \"cat\": \"B2\"}, {\"y\": 1.1861706400914784, \"y_pred\": 1.1949872970581055, \"cat\": \"F3\"}, {\"y\": 0.2834241706842682, \"y_pred\": 1.1472415924072266, \"cat\": \"G3\"}, {\"y\": 10.666177280656242, \"y_pred\": 12.221357345581055, \"cat\": \"J1\"}, {\"y\": 1.6798940114044558, \"y_pred\": 0.9758882522583008, \"cat\": \"I3\"}, {\"y\": 10.421484899198706, \"y_pred\": 11.310367584228516, \"cat\": \"H1\"}, {\"y\": 10.178432294646244, \"y_pred\": 11.139015197753906, \"cat\": \"I1\"}, {\"y\": 9.052539029833104, \"y_pred\": 10.136432647705078, \"cat\": \"A1\"}, {\"y\": 0.060129509831321926, \"y_pred\": 5.45645809173584, \"cat\": \"E3\"}, {\"y\": 20.49502106653608, \"y_pred\": 18.909616470336914, \"cat\": \"D2\"}, {\"y\": 1.433122452934993, \"y_pred\": 1.1472415924072266, \"cat\": \"H3\"}, {\"y\": 1.1656877049978969, \"y_pred\": 1.1472415924072266, \"cat\": \"H3\"}, {\"y\": 19.762339346193258, \"y_pred\": 18.909616470336914, \"cat\": \"D2\"}, {\"y\": 19.153202139962694, \"y_pred\": 18.781410217285156, \"cat\": \"H2\"}, {\"y\": 19.438471309399688, \"y_pred\": 18.781410217285156, \"cat\": \"H2\"}, {\"y\": 10.492202934558147, \"y_pred\": 15.619585037231445, \"cat\": \"E1\"}, {\"y\": 0.7575923623120411, \"y_pred\": -2.0145835876464844, \"cat\": \"C3\"}, {\"y\": 10.540746790063228, \"y_pred\": 11.438575744628906, \"cat\": \"D1\"}, {\"y\": 20.421119091599298, \"y_pred\": 19.692398071289062, \"cat\": \"J2\"}, {\"y\": 19.07708276269181, \"y_pred\": 18.82915496826172, \"cat\": \"F2\"}, {\"y\": 9.479103134237882, \"y_pred\": 8.148544311523438, \"cat\": \"C1\"}, {\"y\": 20.08790172833245, \"y_pred\": 18.781410217285156, \"cat\": \"H2\"}, {\"y\": 10.171631736622842, \"y_pred\": 11.139015197753906, \"cat\": \"I1\"}, {\"y\": 0.22317214394888163, \"y_pred\": -0.026694297790527344, \"cat\": \"A3\"}, {\"y\": 1.0145860571898149, \"y_pred\": 1.1472415924072266, \"cat\": \"H3\"}, {\"y\": 0.2140581069074392, \"y_pred\": 1.1949872970581055, \"cat\": \"F3\"}, {\"y\": 1.451726067320531, \"y_pred\": 1.1472415924072266, \"cat\": \"H3\"}, {\"y\": 9.463809398779315, \"y_pred\": 11.310367584228516, \"cat\": \"G1\"}, {\"y\": 19.049515526950085, \"y_pred\": 23.090625762939453, \"cat\": \"E2\"}, {\"y\": 19.50892337980001, \"y_pred\": 18.781410217285156, \"cat\": \"H2\"}, {\"y\": 10.136790264526567, \"y_pred\": 11.310367584228516, \"cat\": \"H1\"}, {\"y\": 20.19116114239479, \"y_pred\": 18.781410217285156, \"cat\": \"G2\"}, {\"y\": 20.058191492418075, \"y_pred\": 15.619585037231445, \"cat\": \"C2\"}, {\"y\": 9.203000099903218, \"y_pred\": 10.136432647705078, \"cat\": \"A1\"}, {\"y\": 0.6676407154168251, \"y_pred\": 0.0703420639038086, \"cat\": \"B3\"}, {\"y\": 20.21342271479435, \"y_pred\": 17.704509735107422, \"cat\": \"B2\"}, {\"y\": 9.48474698964963, \"y_pred\": 15.619585037231445, \"cat\": \"E1\"}, {\"y\": 10.866551132257003, \"y_pred\": 11.310367584228516, \"cat\": \"G1\"}, {\"y\": 20.130936912091776, \"y_pred\": 18.82915496826172, \"cat\": \"F2\"}, {\"y\": 0.17715246381929606, \"y_pred\": 0.0703420639038086, \"cat\": \"B3\"}, {\"y\": 19.11154643844185, \"y_pred\": 15.619585037231445, \"cat\": \"C2\"}, {\"y\": 1.1663140659152396, \"y_pred\": 0.0703420639038086, \"cat\": \"B3\"}, {\"y\": 10.781462638418178, \"y_pred\": 8.148544311523438, \"cat\": \"C1\"}, {\"y\": 10.463583921199772, \"y_pred\": 11.139015197753906, \"cat\": \"I1\"}, {\"y\": 19.881958561202964, \"y_pred\": 17.607473373413086, \"cat\": \"A2\"}, {\"y\": 0.35198766207932164, \"y_pred\": 1.1949872970581055, \"cat\": \"F3\"}, {\"y\": 10.33655036995322, \"y_pred\": 8.148544311523438, \"cat\": \"C1\"}, {\"y\": 20.639915078524055, \"y_pred\": 17.704509735107422, \"cat\": \"B2\"}, {\"y\": 1.5858095531873015, \"y_pred\": 2.0582313537597656, \"cat\": \"J3\"}, {\"y\": 20.549300725916027, \"y_pred\": 18.909616470336914, \"cat\": \"D2\"}, {\"y\": 0.7705612551613208, \"y_pred\": 1.1472415924072266, \"cat\": \"H3\"}, {\"y\": 20.156578373052486, \"y_pred\": 23.090625762939453, \"cat\": \"E2\"}, {\"y\": 1.488624912965331, \"y_pred\": 0.9758882522583008, \"cat\": \"I3\"}, {\"y\": 9.698617124835028, \"y_pred\": 11.139015197753906, \"cat\": \"I1\"}, {\"y\": 0.9680412343946829, \"y_pred\": 1.1472415924072266, \"cat\": \"H3\"}, {\"y\": 0.4424147703771004, \"y_pred\": 0.9758882522583008, \"cat\": \"I3\"}, {\"y\": 1.085877806903644, \"y_pred\": 0.9758882522583008, \"cat\": \"I3\"}, {\"y\": 19.911729488607193, \"y_pred\": 18.781410217285156, \"cat\": \"G2\"}, {\"y\": 9.802334928007546, \"y_pred\": 10.233469009399414, \"cat\": \"B1\"}, {\"y\": 1.664311622855744, \"y_pred\": 1.1949872970581055, \"cat\": \"F3\"}, {\"y\": 20.421593642635532, \"y_pred\": 18.82915496826172, \"cat\": \"F2\"}, {\"y\": 9.98216105314478, \"y_pred\": 10.136432647705078, \"cat\": \"A1\"}, {\"y\": 20.930000007112124, \"y_pred\": 19.692398071289062, \"cat\": \"J2\"}, {\"y\": 19.417497727411746, \"y_pred\": 17.704509735107422, \"cat\": \"B2\"}, {\"y\": 1.945429826930148, \"y_pred\": 5.45645809173584, \"cat\": \"E3\"}, {\"y\": 0.22603377781250344, \"y_pred\": 0.9758882522583008, \"cat\": \"I3\"}, {\"y\": 19.279814661304854, \"y_pred\": 17.607473373413086, \"cat\": \"A2\"}, {\"y\": 10.755177382256774, \"y_pred\": 10.136432647705078, \"cat\": \"A1\"}, {\"y\": 0.7185365516022681, \"y_pred\": 0.9758882522583008, \"cat\": \"I3\"}, {\"y\": 1.0828703070700931, \"y_pred\": 0.9758882522583008, \"cat\": \"I3\"}, {\"y\": 10.745003717769139, \"y_pred\": 11.358114242553711, \"cat\": \"F1\"}, {\"y\": 10.090159309166276, \"y_pred\": 8.148544311523438, \"cat\": \"C1\"}, {\"y\": 1.8603868675654076, \"y_pred\": 1.1472415924072266, \"cat\": \"H3\"}, {\"y\": 9.2892849125925, \"y_pred\": 11.358114242553711, \"cat\": \"F1\"}, {\"y\": 10.11446547663557, \"y_pred\": 10.233469009399414, \"cat\": \"B1\"}, {\"y\": 10.534684365221295, \"y_pred\": 11.438575744628906, \"cat\": \"D1\"}, {\"y\": 9.737570318394566, \"y_pred\": 11.139015197753906, \"cat\": \"I1\"}, {\"y\": 0.7794377721135248, \"y_pred\": -0.026694297790527344, \"cat\": \"A3\"}, {\"y\": 0.032730307384333246, \"y_pred\": 0.9758882522583008, \"cat\": \"I3\"}, {\"y\": 20.399302190432305, \"y_pred\": 18.909616470336914, \"cat\": \"D2\"}, {\"y\": 10.795565075222658, \"y_pred\": 11.310367584228516, \"cat\": \"G1\"}, {\"y\": 20.343020418232943, \"y_pred\": 18.82915496826172, \"cat\": \"F2\"}]}}, {\"mode\": \"vega-lite\"});\n",
       "</script>"
      ],
      "text/plain": [
       "alt.Chart(...)"
      ]
     },
     "execution_count": 64,
     "metadata": {},
     "output_type": "execute_result"
    }
   ],
   "source": [
    "create_scatter(source_linreg_fh)"
   ]
  },
  {
   "cell_type": "markdown",
   "id": "ef72a991-b468-49ad-a1fc-0c5cfcc26a52",
   "metadata": {},
   "source": [
    "## Target Encoded"
   ]
  },
  {
   "cell_type": "code",
   "execution_count": 65,
   "id": "084a77dd-721e-415e-ac9a-5237b0db24f2",
   "metadata": {
    "execution": {
     "iopub.execute_input": "2022-03-24T14:13:12.331877Z",
     "iopub.status.busy": "2022-03-24T14:13:12.331724Z",
     "iopub.status.idle": "2022-03-24T14:13:12.339897Z",
     "shell.execute_reply": "2022-03-24T14:13:12.339281Z",
     "shell.execute_reply.started": "2022-03-24T14:13:12.331856Z"
    },
    "tags": []
   },
   "outputs": [],
   "source": [
    "rmse_linreg_te, source_linreg_te, linreg_te = linreg_rmse(x_colnames=[x_colnames_te])"
   ]
  },
  {
   "cell_type": "code",
   "execution_count": 66,
   "id": "3df9bd6f-bd32-485c-971a-f0bbf6d3d03d",
   "metadata": {
    "execution": {
     "iopub.execute_input": "2022-03-24T14:13:12.341180Z",
     "iopub.status.busy": "2022-03-24T14:13:12.340722Z",
     "iopub.status.idle": "2022-03-24T14:13:12.344808Z",
     "shell.execute_reply": "2022-03-24T14:13:12.344259Z",
     "shell.execute_reply.started": "2022-03-24T14:13:12.341154Z"
    },
    "tags": []
   },
   "outputs": [
    {
     "data": {
      "text/plain": [
       "0.5613899064995845"
      ]
     },
     "execution_count": 66,
     "metadata": {},
     "output_type": "execute_result"
    }
   ],
   "source": [
    "rmse_linreg_te"
   ]
  },
  {
   "cell_type": "code",
   "execution_count": 67,
   "id": "2d413fe0-d07c-4259-bc26-7d6a1d982582",
   "metadata": {
    "execution": {
     "iopub.execute_input": "2022-03-24T14:13:12.345903Z",
     "iopub.status.busy": "2022-03-24T14:13:12.345562Z",
     "iopub.status.idle": "2022-03-24T14:13:12.411224Z",
     "shell.execute_reply": "2022-03-24T14:13:12.410608Z",
     "shell.execute_reply.started": "2022-03-24T14:13:12.345879Z"
    },
    "tags": []
   },
   "outputs": [
    {
     "data": {
      "text/html": [
       "\n",
       "<div id=\"altair-viz-784840d0b16c4a4b9ed21064819d0129\"></div>\n",
       "<script type=\"text/javascript\">\n",
       "  var VEGA_DEBUG = (typeof VEGA_DEBUG == \"undefined\") ? {} : VEGA_DEBUG;\n",
       "  (function(spec, embedOpt){\n",
       "    let outputDiv = document.currentScript.previousElementSibling;\n",
       "    if (outputDiv.id !== \"altair-viz-784840d0b16c4a4b9ed21064819d0129\") {\n",
       "      outputDiv = document.getElementById(\"altair-viz-784840d0b16c4a4b9ed21064819d0129\");\n",
       "    }\n",
       "    const paths = {\n",
       "      \"vega\": \"https://cdn.jsdelivr.net/npm//vega@5?noext\",\n",
       "      \"vega-lib\": \"https://cdn.jsdelivr.net/npm//vega-lib?noext\",\n",
       "      \"vega-lite\": \"https://cdn.jsdelivr.net/npm//vega-lite@4.17.0?noext\",\n",
       "      \"vega-embed\": \"https://cdn.jsdelivr.net/npm//vega-embed@6?noext\",\n",
       "    };\n",
       "\n",
       "    function maybeLoadScript(lib, version) {\n",
       "      var key = `${lib.replace(\"-\", \"\")}_version`;\n",
       "      return (VEGA_DEBUG[key] == version) ?\n",
       "        Promise.resolve(paths[lib]) :\n",
       "        new Promise(function(resolve, reject) {\n",
       "          var s = document.createElement('script');\n",
       "          document.getElementsByTagName(\"head\")[0].appendChild(s);\n",
       "          s.async = true;\n",
       "          s.onload = () => {\n",
       "            VEGA_DEBUG[key] = version;\n",
       "            return resolve(paths[lib]);\n",
       "          };\n",
       "          s.onerror = () => reject(`Error loading script: ${paths[lib]}`);\n",
       "          s.src = paths[lib];\n",
       "        });\n",
       "    }\n",
       "\n",
       "    function showError(err) {\n",
       "      outputDiv.innerHTML = `<div class=\"error\" style=\"color:red;\">${err}</div>`;\n",
       "      throw err;\n",
       "    }\n",
       "\n",
       "    function displayChart(vegaEmbed) {\n",
       "      vegaEmbed(outputDiv, spec, embedOpt)\n",
       "        .catch(err => showError(`Javascript Error: ${err.message}<br>This usually means there's a typo in your chart specification. See the javascript console for the full traceback.`));\n",
       "    }\n",
       "\n",
       "    if(typeof define === \"function\" && define.amd) {\n",
       "      requirejs.config({paths});\n",
       "      require([\"vega-embed\"], displayChart, err => showError(`Error loading script: ${err.message}`));\n",
       "    } else {\n",
       "      maybeLoadScript(\"vega\", \"5\")\n",
       "        .then(() => maybeLoadScript(\"vega-lite\", \"4.17.0\"))\n",
       "        .then(() => maybeLoadScript(\"vega-embed\", \"6\"))\n",
       "        .catch(showError)\n",
       "        .then(() => displayChart(vegaEmbed));\n",
       "    }\n",
       "  })({\"config\": {\"view\": {\"continuousWidth\": 400, \"continuousHeight\": 300}}, \"data\": {\"name\": \"data-ac37fbb7e06bfa90e2c183369f3da4fc\"}, \"mark\": {\"type\": \"circle\", \"size\": 60}, \"encoding\": {\"color\": {\"field\": \"cat\", \"type\": \"nominal\"}, \"tooltip\": {\"field\": \"cat\", \"type\": \"nominal\"}, \"x\": {\"field\": \"y\", \"scale\": {\"domain\": [-1.976271965441258, 22.96857500892925]}, \"type\": \"quantitative\"}, \"y\": {\"field\": \"y_pred\", \"scale\": {\"domain\": [-1.976271965441258, 22.96857500892925]}, \"type\": \"quantitative\"}}, \"height\": 500, \"selection\": {\"selector013\": {\"type\": \"interval\", \"bind\": \"scales\", \"encodings\": [\"x\", \"y\"]}}, \"width\": 800, \"$schema\": \"https://vega.github.io/schema/vega-lite/v4.17.0.json\", \"datasets\": {\"data-ac37fbb7e06bfa90e2c183369f3da4fc\": [{\"y\": 0.9708688385243336, \"y_pred\": 0.8870188734626306, \"cat\": \"G3\"}, {\"y\": 1.5615528849742262, \"y_pred\": 1.0372551064196005, \"cat\": \"H3\"}, {\"y\": 19.762355681020175, \"y_pred\": 19.920740302298476, \"cat\": \"E2\"}, {\"y\": 9.669818235290847, \"y_pred\": 10.169040008972411, \"cat\": \"G1\"}, {\"y\": 20.581437747153537, \"y_pred\": 19.920740302298476, \"cat\": \"E2\"}, {\"y\": 19.114769917943644, \"y_pred\": 20.01816892607058, \"cat\": \"A2\"}, {\"y\": 19.240079805181814, \"y_pred\": 20.01816892607058, \"cat\": \"A2\"}, {\"y\": 10.370929132428529, \"y_pred\": 10.02086607295119, \"cat\": \"A1\"}, {\"y\": 20.609629747639598, \"y_pred\": 20.0963338141552, \"cat\": \"J2\"}, {\"y\": 9.185411965211156, \"y_pred\": 10.043670588721252, \"cat\": \"J1\"}, {\"y\": 20.771135145302082, \"y_pred\": 20.1366086529882, \"cat\": \"D2\"}, {\"y\": 9.897906688835647, \"y_pred\": 10.116296362306933, \"cat\": \"I1\"}, {\"y\": 19.572515038433227, \"y_pred\": 20.1366086529882, \"cat\": \"D2\"}, {\"y\": 10.121699527559619, \"y_pred\": 10.116296362306933, \"cat\": \"I1\"}, {\"y\": 9.892287250926657, \"y_pred\": 9.950828188395231, \"cat\": \"H1\"}, {\"y\": 10.02938789145609, \"y_pred\": 10.02086607295119, \"cat\": \"A1\"}, {\"y\": 9.040243651268177, \"y_pred\": 9.950828188395231, \"cat\": \"H1\"}, {\"y\": 19.392430942113748, \"y_pred\": 20.00713956574937, \"cat\": \"B2\"}, {\"y\": 1.7685549154233273, \"y_pred\": 1.05607318538234, \"cat\": \"D3\"}, {\"y\": 20.915270646306908, \"y_pred\": 19.87556531617266, \"cat\": \"I2\"}, {\"y\": 1.1594739846577815, \"y_pred\": 0.9953641935677273, \"cat\": \"E3\"}, {\"y\": 19.294671275810273, \"y_pred\": 19.963847710029455, \"cat\": \"H2\"}, {\"y\": 0.09239944296425806, \"y_pred\": 0.9773411687242066, \"cat\": \"A3\"}, {\"y\": 1.8501313272642024, \"y_pred\": 0.9953641935677273, \"cat\": \"E3\"}, {\"y\": 1.205664187139253, \"y_pred\": 0.8870188734626306, \"cat\": \"G3\"}, {\"y\": 10.752694275026144, \"y_pred\": 10.116296362306933, \"cat\": \"I1\"}, {\"y\": 0.10053903516041696, \"y_pred\": 0.9657101827526132, \"cat\": \"C3\"}, {\"y\": 9.295792104243384, \"y_pred\": 10.045807205853059, \"cat\": \"E1\"}, {\"y\": 1.8675027275916585, \"y_pred\": 1.05607318538234, \"cat\": \"D3\"}, {\"y\": 9.572761632023228, \"y_pred\": 9.950828188395231, \"cat\": \"H1\"}, {\"y\": 0.40206013448789246, \"y_pred\": 1.0510916854207502, \"cat\": \"F3\"}, {\"y\": 20.00816431975963, \"y_pred\": 20.00713956574937, \"cat\": \"B2\"}, {\"y\": 1.8937030617473223, \"y_pred\": 0.9953641935677273, \"cat\": \"E3\"}, {\"y\": 10.772909950705804, \"y_pred\": 10.04133884171071, \"cat\": \"D1\"}, {\"y\": 1.140221782934138, \"y_pred\": 0.9182178410166874, \"cat\": \"J3\"}, {\"y\": 10.592858172694484, \"y_pred\": 10.043670588721252, \"cat\": \"J1\"}, {\"y\": 1.9932092808131794, \"y_pred\": 1.05607318538234, \"cat\": \"D3\"}, {\"y\": 19.411209284911298, \"y_pred\": 20.00713956574937, \"cat\": \"B2\"}, {\"y\": 9.212031295957575, \"y_pred\": 9.950828188395231, \"cat\": \"H1\"}, {\"y\": 9.851938306566382, \"y_pred\": 10.04133884171071, \"cat\": \"D1\"}, {\"y\": 19.082329276153228, \"y_pred\": 20.08805108675356, \"cat\": \"C2\"}, {\"y\": 0.25133708392386045, \"y_pred\": 0.8870188734626306, \"cat\": \"G3\"}, {\"y\": 10.449132406732668, \"y_pred\": 9.702587254864515, \"cat\": \"B1\"}, {\"y\": 0.02372803455874206, \"y_pred\": 1.0089225068049257, \"cat\": \"B3\"}, {\"y\": 0.5078446463642772, \"y_pred\": 1.05607318538234, \"cat\": \"D3\"}, {\"y\": 9.742117143822856, \"y_pred\": 9.702587254864515, \"cat\": \"B1\"}, {\"y\": 10.619462865008618, \"y_pred\": 10.02086607295119, \"cat\": \"A1\"}, {\"y\": 9.146858546371357, \"y_pred\": 10.011205818594444, \"cat\": \"F1\"}, {\"y\": 19.29218469876556, \"y_pred\": 19.963847710029455, \"cat\": \"H2\"}, {\"y\": 0.5688106243620701, \"y_pred\": 0.8870188734626306, \"cat\": \"G3\"}, {\"y\": 9.240261892640017, \"y_pred\": 10.04133884171071, \"cat\": \"D1\"}, {\"y\": 0.9155483807690259, \"y_pred\": 0.9182178410166874, \"cat\": \"J3\"}, {\"y\": 20.58010666857155, \"y_pred\": 20.1366086529882, \"cat\": \"D2\"}, {\"y\": 1.8957495440351315, \"y_pred\": 1.0372551064196005, \"cat\": \"H3\"}, {\"y\": 0.9444710799769402, \"y_pred\": 0.9277159342369206, \"cat\": \"I3\"}, {\"y\": 10.46111056186891, \"y_pred\": 10.169040008972411, \"cat\": \"G1\"}, {\"y\": 1.3351438955138328, \"y_pred\": 0.9182178410166874, \"cat\": \"J3\"}, {\"y\": 19.450823647607095, \"y_pred\": 19.867726669944247, \"cat\": \"G2\"}, {\"y\": 0.39398350212066413, \"y_pred\": 1.05607318538234, \"cat\": \"D3\"}, {\"y\": 20.445918470430932, \"y_pred\": 20.01816892607058, \"cat\": \"A2\"}, {\"y\": 1.028333779664423, \"y_pred\": 0.9953641935677273, \"cat\": \"E3\"}, {\"y\": 1.877798573555562, \"y_pred\": 0.9657101827526132, \"cat\": \"C3\"}, {\"y\": 19.308754101789745, \"y_pred\": 20.069176658255337, \"cat\": \"F2\"}, {\"y\": 19.588911139392263, \"y_pred\": 20.08805108675356, \"cat\": \"C2\"}, {\"y\": 1.2696962852581346, \"y_pred\": 0.9657101827526132, \"cat\": \"C3\"}, {\"y\": 1.748381206748827, \"y_pred\": 0.9277159342369206, \"cat\": \"I3\"}, {\"y\": 0.2952976442514248, \"y_pred\": 1.05607318538234, \"cat\": \"D3\"}, {\"y\": 10.882186926184575, \"y_pred\": 9.950828188395231, \"cat\": \"H1\"}, {\"y\": 10.643587315971759, \"y_pred\": 10.011205818594444, \"cat\": \"F1\"}, {\"y\": 10.808109051869772, \"y_pred\": 9.950828188395231, \"cat\": \"H1\"}, {\"y\": 20.513153710881305, \"y_pred\": 20.00713956574937, \"cat\": \"B2\"}, {\"y\": 19.258830909026386, \"y_pred\": 20.08805108675356, \"cat\": \"C2\"}, {\"y\": 20.13782290165262, \"y_pred\": 19.867726669944247, \"cat\": \"G2\"}, {\"y\": 10.02600385267203, \"y_pred\": 10.04133884171071, \"cat\": \"D1\"}, {\"y\": 1.0078666530215015, \"y_pred\": 0.9277159342369206, \"cat\": \"I3\"}, {\"y\": 0.8686705749826737, \"y_pred\": 0.9182178410166874, \"cat\": \"J3\"}, {\"y\": 0.4594404220265076, \"y_pred\": 0.9657101827526132, \"cat\": \"C3\"}, {\"y\": 1.6152014092601343, \"y_pred\": 1.0372551064196005, \"cat\": \"H3\"}, {\"y\": 19.46784350351881, \"y_pred\": 19.87556531617266, \"cat\": \"I2\"}, {\"y\": 10.644613636108657, \"y_pred\": 10.116296362306933, \"cat\": \"I1\"}, {\"y\": 10.152949140231978, \"y_pred\": 9.950828188395231, \"cat\": \"H1\"}, {\"y\": 9.912104519871313, \"y_pred\": 10.011205818594444, \"cat\": \"F1\"}, {\"y\": 1.3272417208585086, \"y_pred\": 0.9182178410166874, \"cat\": \"J3\"}, {\"y\": 0.8231308199627274, \"y_pred\": 1.05607318538234, \"cat\": \"D3\"}, {\"y\": 9.875369737977294, \"y_pred\": 10.04133884171071, \"cat\": \"D1\"}, {\"y\": 1.2333897309216133, \"y_pred\": 0.9657101827526132, \"cat\": \"C3\"}, {\"y\": 0.7805028862503547, \"y_pred\": 0.9773411687242066, \"cat\": \"A3\"}, {\"y\": 0.6634566091791982, \"y_pred\": 0.9953641935677273, \"cat\": \"E3\"}, {\"y\": 0.4470371386983705, \"y_pred\": 0.9277159342369206, \"cat\": \"I3\"}, {\"y\": 1.1072488046608373, \"y_pred\": 0.9277159342369206, \"cat\": \"I3\"}, {\"y\": 0.24280396889682532, \"y_pred\": 1.0372551064196005, \"cat\": \"H3\"}, {\"y\": 19.639311035003775, \"y_pred\": 19.920740302298476, \"cat\": \"E2\"}, {\"y\": 10.173301250207977, \"y_pred\": 10.02086607295119, \"cat\": \"A1\"}, {\"y\": 1.6546550741914168, \"y_pred\": 1.05607318538234, \"cat\": \"D3\"}, {\"y\": 1.474123922241376, \"y_pred\": 0.9953641935677273, \"cat\": \"E3\"}, {\"y\": 9.691775451836591, \"y_pred\": 10.043670588721252, \"cat\": \"J1\"}, {\"y\": 10.100273494917381, \"y_pred\": 10.043670588721252, \"cat\": \"J1\"}, {\"y\": 1.1274117217439872, \"y_pred\": 0.8870188734626306, \"cat\": \"G3\"}, {\"y\": 10.21219557822793, \"y_pred\": 10.02086607295119, \"cat\": \"A1\"}, {\"y\": 9.95441418414331, \"y_pred\": 10.045807205853059, \"cat\": \"E1\"}, {\"y\": 10.559569261886198, \"y_pred\": 10.04133884171071, \"cat\": \"D1\"}, {\"y\": 10.064865505802969, \"y_pred\": 10.04133884171071, \"cat\": \"D1\"}, {\"y\": 9.023187011385222, \"y_pred\": 10.011205818594444, \"cat\": \"F1\"}, {\"y\": 0.8850784130143021, \"y_pred\": 0.9182178410166874, \"cat\": \"J3\"}, {\"y\": 10.39902427507542, \"y_pred\": 9.976265564105104, \"cat\": \"C1\"}, {\"y\": 19.050251951877456, \"y_pred\": 20.08805108675356, \"cat\": \"C2\"}, {\"y\": 1.6846869782703828, \"y_pred\": 1.0372551064196005, \"cat\": \"H3\"}, {\"y\": 20.96857500892925, \"y_pred\": 20.08805108675356, \"cat\": \"C2\"}, {\"y\": 1.3249427146925004, \"y_pred\": 0.9182178410166874, \"cat\": \"J3\"}, {\"y\": 20.271810305418256, \"y_pred\": 20.01816892607058, \"cat\": \"A2\"}, {\"y\": 0.6013077041445261, \"y_pred\": 1.05607318538234, \"cat\": \"D3\"}, {\"y\": 10.143375201819058, \"y_pred\": 10.043670588721252, \"cat\": \"J1\"}, {\"y\": 9.214335394736137, \"y_pred\": 10.116296362306933, \"cat\": \"I1\"}, {\"y\": 9.581722718373117, \"y_pred\": 10.169040008972411, \"cat\": \"G1\"}, {\"y\": 19.335252713720422, \"y_pred\": 19.87556531617266, \"cat\": \"I2\"}, {\"y\": 20.33102475795596, \"y_pred\": 20.08805108675356, \"cat\": \"C2\"}, {\"y\": 10.589022038515985, \"y_pred\": 9.950828188395231, \"cat\": \"H1\"}, {\"y\": 0.6691451695081352, \"y_pred\": 0.8870188734626306, \"cat\": \"G3\"}, {\"y\": 19.448819374103962, \"y_pred\": 20.00713956574937, \"cat\": \"B2\"}, {\"y\": 1.1861706400914784, \"y_pred\": 1.0510916854207502, \"cat\": \"F3\"}, {\"y\": 0.2834241706842682, \"y_pred\": 0.8870188734626306, \"cat\": \"G3\"}, {\"y\": 10.666177280656242, \"y_pred\": 10.043670588721252, \"cat\": \"J1\"}, {\"y\": 1.6798940114044558, \"y_pred\": 0.9277159342369206, \"cat\": \"I3\"}, {\"y\": 10.421484899198706, \"y_pred\": 9.950828188395231, \"cat\": \"H1\"}, {\"y\": 10.178432294646244, \"y_pred\": 10.116296362306933, \"cat\": \"I1\"}, {\"y\": 9.052539029833104, \"y_pred\": 10.02086607295119, \"cat\": \"A1\"}, {\"y\": 0.060129509831321926, \"y_pred\": 0.9953641935677273, \"cat\": \"E3\"}, {\"y\": 20.49502106653608, \"y_pred\": 20.1366086529882, \"cat\": \"D2\"}, {\"y\": 1.433122452934993, \"y_pred\": 1.0372551064196005, \"cat\": \"H3\"}, {\"y\": 1.1656877049978969, \"y_pred\": 1.0372551064196005, \"cat\": \"H3\"}, {\"y\": 19.762339346193258, \"y_pred\": 20.1366086529882, \"cat\": \"D2\"}, {\"y\": 19.153202139962694, \"y_pred\": 19.963847710029455, \"cat\": \"H2\"}, {\"y\": 19.438471309399688, \"y_pred\": 19.963847710029455, \"cat\": \"H2\"}, {\"y\": 10.492202934558147, \"y_pred\": 10.045807205853059, \"cat\": \"E1\"}, {\"y\": 0.7575923623120411, \"y_pred\": 0.9657101827526132, \"cat\": \"C3\"}, {\"y\": 10.540746790063228, \"y_pred\": 10.04133884171071, \"cat\": \"D1\"}, {\"y\": 20.421119091599298, \"y_pred\": 20.0963338141552, \"cat\": \"J2\"}, {\"y\": 19.07708276269181, \"y_pred\": 20.069176658255337, \"cat\": \"F2\"}, {\"y\": 9.479103134237882, \"y_pred\": 9.976265564105104, \"cat\": \"C1\"}, {\"y\": 20.08790172833245, \"y_pred\": 19.963847710029455, \"cat\": \"H2\"}, {\"y\": 10.171631736622842, \"y_pred\": 10.116296362306933, \"cat\": \"I1\"}, {\"y\": 0.22317214394888163, \"y_pred\": 0.9773411687242066, \"cat\": \"A3\"}, {\"y\": 1.0145860571898149, \"y_pred\": 1.0372551064196005, \"cat\": \"H3\"}, {\"y\": 0.2140581069074392, \"y_pred\": 1.0510916854207502, \"cat\": \"F3\"}, {\"y\": 1.451726067320531, \"y_pred\": 1.0372551064196005, \"cat\": \"H3\"}, {\"y\": 9.463809398779315, \"y_pred\": 10.169040008972411, \"cat\": \"G1\"}, {\"y\": 19.049515526950085, \"y_pred\": 19.920740302298476, \"cat\": \"E2\"}, {\"y\": 19.50892337980001, \"y_pred\": 19.963847710029455, \"cat\": \"H2\"}, {\"y\": 10.136790264526567, \"y_pred\": 9.950828188395231, \"cat\": \"H1\"}, {\"y\": 20.19116114239479, \"y_pred\": 19.867726669944247, \"cat\": \"G2\"}, {\"y\": 20.058191492418075, \"y_pred\": 20.08805108675356, \"cat\": \"C2\"}, {\"y\": 9.203000099903218, \"y_pred\": 10.02086607295119, \"cat\": \"A1\"}, {\"y\": 0.6676407154168251, \"y_pred\": 1.0089225068049257, \"cat\": \"B3\"}, {\"y\": 20.21342271479435, \"y_pred\": 20.00713956574937, \"cat\": \"B2\"}, {\"y\": 9.48474698964963, \"y_pred\": 10.045807205853059, \"cat\": \"E1\"}, {\"y\": 10.866551132257003, \"y_pred\": 10.169040008972411, \"cat\": \"G1\"}, {\"y\": 20.130936912091776, \"y_pred\": 20.069176658255337, \"cat\": \"F2\"}, {\"y\": 0.17715246381929606, \"y_pred\": 1.0089225068049257, \"cat\": \"B3\"}, {\"y\": 19.11154643844185, \"y_pred\": 20.08805108675356, \"cat\": \"C2\"}, {\"y\": 1.1663140659152396, \"y_pred\": 1.0089225068049257, \"cat\": \"B3\"}, {\"y\": 10.781462638418178, \"y_pred\": 9.976265564105104, \"cat\": \"C1\"}, {\"y\": 10.463583921199772, \"y_pred\": 10.116296362306933, \"cat\": \"I1\"}, {\"y\": 19.881958561202964, \"y_pred\": 20.01816892607058, \"cat\": \"A2\"}, {\"y\": 0.35198766207932164, \"y_pred\": 1.0510916854207502, \"cat\": \"F3\"}, {\"y\": 10.33655036995322, \"y_pred\": 9.976265564105104, \"cat\": \"C1\"}, {\"y\": 20.639915078524055, \"y_pred\": 20.00713956574937, \"cat\": \"B2\"}, {\"y\": 1.5858095531873015, \"y_pred\": 0.9182178410166874, \"cat\": \"J3\"}, {\"y\": 20.549300725916027, \"y_pred\": 20.1366086529882, \"cat\": \"D2\"}, {\"y\": 0.7705612551613208, \"y_pred\": 1.0372551064196005, \"cat\": \"H3\"}, {\"y\": 20.156578373052486, \"y_pred\": 19.920740302298476, \"cat\": \"E2\"}, {\"y\": 1.488624912965331, \"y_pred\": 0.9277159342369206, \"cat\": \"I3\"}, {\"y\": 9.698617124835028, \"y_pred\": 10.116296362306933, \"cat\": \"I1\"}, {\"y\": 0.9680412343946829, \"y_pred\": 1.0372551064196005, \"cat\": \"H3\"}, {\"y\": 0.4424147703771004, \"y_pred\": 0.9277159342369206, \"cat\": \"I3\"}, {\"y\": 1.085877806903644, \"y_pred\": 0.9277159342369206, \"cat\": \"I3\"}, {\"y\": 19.911729488607193, \"y_pred\": 19.867726669944247, \"cat\": \"G2\"}, {\"y\": 9.802334928007546, \"y_pred\": 9.702587254864515, \"cat\": \"B1\"}, {\"y\": 1.664311622855744, \"y_pred\": 1.0510916854207502, \"cat\": \"F3\"}, {\"y\": 20.421593642635532, \"y_pred\": 20.069176658255337, \"cat\": \"F2\"}, {\"y\": 9.98216105314478, \"y_pred\": 10.02086607295119, \"cat\": \"A1\"}, {\"y\": 20.930000007112124, \"y_pred\": 20.0963338141552, \"cat\": \"J2\"}, {\"y\": 19.417497727411746, \"y_pred\": 20.00713956574937, \"cat\": \"B2\"}, {\"y\": 1.945429826930148, \"y_pred\": 0.9953641935677273, \"cat\": \"E3\"}, {\"y\": 0.22603377781250344, \"y_pred\": 0.9277159342369206, \"cat\": \"I3\"}, {\"y\": 19.279814661304854, \"y_pred\": 20.01816892607058, \"cat\": \"A2\"}, {\"y\": 10.755177382256774, \"y_pred\": 10.02086607295119, \"cat\": \"A1\"}, {\"y\": 0.7185365516022681, \"y_pred\": 0.9277159342369206, \"cat\": \"I3\"}, {\"y\": 1.0828703070700931, \"y_pred\": 0.9277159342369206, \"cat\": \"I3\"}, {\"y\": 10.745003717769139, \"y_pred\": 10.011205818594444, \"cat\": \"F1\"}, {\"y\": 10.090159309166276, \"y_pred\": 9.976265564105104, \"cat\": \"C1\"}, {\"y\": 1.8603868675654076, \"y_pred\": 1.0372551064196005, \"cat\": \"H3\"}, {\"y\": 9.2892849125925, \"y_pred\": 10.011205818594444, \"cat\": \"F1\"}, {\"y\": 10.11446547663557, \"y_pred\": 9.702587254864515, \"cat\": \"B1\"}, {\"y\": 10.534684365221295, \"y_pred\": 10.04133884171071, \"cat\": \"D1\"}, {\"y\": 9.737570318394566, \"y_pred\": 10.116296362306933, \"cat\": \"I1\"}, {\"y\": 0.7794377721135248, \"y_pred\": 0.9773411687242066, \"cat\": \"A3\"}, {\"y\": 0.032730307384333246, \"y_pred\": 0.9277159342369206, \"cat\": \"I3\"}, {\"y\": 20.399302190432305, \"y_pred\": 20.1366086529882, \"cat\": \"D2\"}, {\"y\": 10.795565075222658, \"y_pred\": 10.169040008972411, \"cat\": \"G1\"}, {\"y\": 20.343020418232943, \"y_pred\": 20.069176658255337, \"cat\": \"F2\"}]}}, {\"mode\": \"vega-lite\"});\n",
       "</script>"
      ],
      "text/plain": [
       "alt.Chart(...)"
      ]
     },
     "execution_count": 67,
     "metadata": {},
     "output_type": "execute_result"
    }
   ],
   "source": [
    "create_scatter(source_linreg_te)"
   ]
  },
  {
   "cell_type": "code",
   "execution_count": null,
   "id": "bbe143fb-321a-4c05-8dc9-97c790e1417c",
   "metadata": {},
   "outputs": [],
   "source": []
  },
  {
   "cell_type": "code",
   "execution_count": null,
   "id": "507831a5-6c3f-4d52-82cc-4ddbb27af28d",
   "metadata": {},
   "outputs": [],
   "source": []
  }
 ],
 "metadata": {
  "kernelspec": {
   "display_name": "🌍 Base Python 3.7 Environment",
   "language": "python",
   "name": "python3"
  },
  "language_info": {
   "codemirror_mode": {
    "name": "ipython",
    "version": 3
   },
   "file_extension": ".py",
   "mimetype": "text/x-python",
   "name": "python",
   "nbconvert_exporter": "python",
   "pygments_lexer": "ipython3",
   "version": "3.7.10"
  },
  "widgets": {
   "application/vnd.jupyter.widget-state+json": {
    "state": {},
    "version_major": 2,
    "version_minor": 0
   }
  }
 },
 "nbformat": 4,
 "nbformat_minor": 5
}
